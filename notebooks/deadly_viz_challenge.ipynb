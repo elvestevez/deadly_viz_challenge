{
 "cells": [
  {
   "cell_type": "markdown",
   "metadata": {},
   "source": [
    "# Deadly Visualizations!!!\n",
    "\n",
    "![Image](../images/viz_types_portada.png)"
   ]
  },
  {
   "cell_type": "markdown",
   "metadata": {},
   "source": [
    "## Setup\n",
    "\n",
    "First we need to create a basic setup which includes:\n",
    "\n",
    "- Importing the libraries.\n",
    "\n",
    "- Reading the dataset file (source [Instituto Nacional de Estadística](https://www.ine.es/ss/Satellite?L=es_ES&c=Page&cid=1259942408928&p=1259942408928&pagename=ProductosYServicios%2FPYSLayout)).\n",
    "\n",
    "- Create a couple of columns and tables for the analysis.\n",
    "\n",
    "__NOTE:__ some functions were already created in order to help you go through the challenge. However, feel free to perform any code you might need."
   ]
  },
  {
   "cell_type": "code",
   "execution_count": null,
   "metadata": {},
   "outputs": [],
   "source": [
    "# imports\n",
    "\n",
    "import sys\n",
    "import re\n",
    "sys.path.insert(0, \"../modules\")\n",
    "\n",
    "import numpy as np\n",
    "import pandas as pd\n",
    "\n",
    "import plotly.express as px\n",
    "import cufflinks as cf\n",
    "cf.go_offline()\n",
    "\n",
    "import module as mod     # functions are include in module.py"
   ]
  },
  {
   "cell_type": "code",
   "execution_count": null,
   "metadata": {},
   "outputs": [],
   "source": [
    "# read dataset\n",
    "\n",
    "deaths = pd.read_csv('../data/7947.csv', sep=';', thousands='.')\n",
    "\n",
    "deaths.info()"
   ]
  },
  {
   "cell_type": "code",
   "execution_count": null,
   "metadata": {},
   "outputs": [],
   "source": [
    "deaths.head()\n"
   ]
  },
  {
   "cell_type": "code",
   "execution_count": null,
   "metadata": {},
   "outputs": [],
   "source": [
    "population = pd.read_csv('../data/31304bsc.csv', sep=';', thousands='.')\n",
    "\n",
    "population.info()"
   ]
  },
  {
   "cell_type": "code",
   "execution_count": null,
   "metadata": {},
   "outputs": [],
   "source": [
    "population.head()\n"
   ]
  },
  {
   "cell_type": "code",
   "execution_count": null,
   "metadata": {},
   "outputs": [],
   "source": [
    "print(len(deaths['Periodo'].unique()))\n",
    "deaths['Periodo'].unique()"
   ]
  },
  {
   "cell_type": "code",
   "execution_count": null,
   "metadata": {},
   "outputs": [],
   "source": [
    "# add some columns...you'll need them later\n",
    "\n",
    "deaths['cause_code'] = deaths['Causa de muerte'].apply(mod.cause_code)\n",
    "deaths['cause_group'] = deaths['Causa de muerte'].apply(mod.cause_types)\n",
    "deaths['cause_name'] = deaths['Causa de muerte'].apply(mod.cause_name)\n",
    "\n",
    "deaths.info()"
   ]
  },
  {
   "cell_type": "code",
   "execution_count": null,
   "metadata": {},
   "outputs": [],
   "source": [
    "deaths"
   ]
  },
  {
   "cell_type": "code",
   "execution_count": null,
   "metadata": {},
   "outputs": [],
   "source": [
    "# lets check the categorical variables\n",
    "\n",
    "var_list = ['Sexo', 'Edad', 'Periodo', 'cause_code', 'cause_name', 'cause_group']\n",
    "\n",
    "categories = mod.cat_var(deaths, var_list)\n",
    "categories"
   ]
  },
  {
   "cell_type": "code",
   "execution_count": null,
   "metadata": {},
   "outputs": [],
   "source": [
    "# we need also to create a causes table for the analysis\n",
    "\n",
    "causes_table = deaths[['cause_code', 'cause_name']].drop_duplicates().sort_values(by='cause_code').reset_index(drop=True)\n",
    "\n",
    "causes_table"
   ]
  },
  {
   "cell_type": "markdown",
   "metadata": {},
   "source": [
    "## Lets make some transformations\n",
    "\n",
    "Eventhough the dataset is pretty clean, the information is completely denormalized as you could see. For that matter a collection of methods (functions) are available in order to generate the tables you might need:\n",
    "\n",
    "- `row_filter(df, cat_var, cat_values)` => Filter rows by any value or group of values in a categorical variable.\n",
    "\n",
    "- `nrow_filter(df, cat_var, cat_values)` => The same but backwards. \n",
    "\n",
    "- `groupby_sum(df, group_vars, agg_var='Total', sort_var='Total')` => Add deaths by a certain variable.\n",
    "\n",
    "- `pivot_table(df, col, x_axis, value='Total')`=> Make some pivot tables, you might need them...\n",
    "\n",
    "__NOTE:__ be aware that the filtering methods can perform a filter at a time. Feel free to perform the filter you need in any way you want or feel confortable with."
   ]
  },
  {
   "cell_type": "code",
   "execution_count": null,
   "metadata": {},
   "outputs": [],
   "source": [
    "# Example 1\n",
    "\n",
    "dataset = mod.row_filter(deaths, 'Sexo', ['Total'])\n",
    "dataset = mod.row_filter(dataset, 'Edad', ['Todas las edades'])\n",
    "dataset.head()\n"
   ]
  },
  {
   "cell_type": "code",
   "execution_count": null,
   "metadata": {},
   "outputs": [],
   "source": [
    "# Example 2\n",
    "\n",
    "group = ['cause_code','Periodo']\n",
    "dataset = mod.groupby_sum(deaths, group)\n",
    "dataset.head()\n"
   ]
  },
  {
   "cell_type": "code",
   "execution_count": null,
   "metadata": {},
   "outputs": [],
   "source": [
    "# Example 3\n",
    "\n",
    "dataset = mod.pivot_table(dataset, 'cause_code', 'Periodo')\n",
    "dataset.head()\n"
   ]
  },
  {
   "cell_type": "markdown",
   "metadata": {},
   "source": [
    "## ...and finally, show me some insights with Plotly!!!"
   ]
  },
  {
   "cell_type": "code",
   "execution_count": null,
   "metadata": {},
   "outputs": [],
   "source": [
    "# And some space for free-style Pandas!!! (e.g.: df['column_name'].unique())\n",
    "\n",
    "\n"
   ]
  },
  {
   "cell_type": "code",
   "execution_count": null,
   "metadata": {},
   "outputs": [],
   "source": [
    "# clean dataset population (year, population)\n",
    "population_year = population.loc[population['Periodo'].str.startswith('1 de enero de')]\n",
    "population_year['Periodo'] = population_year['Periodo'].str.replace('1 de enero de ', '')\n",
    "population_year['Periodo'] = pd.to_numeric(population_year['Periodo'])\n",
    "population_year = population_year.drop(['Sexo', 'Edad', 'Provincias'], axis=1)\n",
    "population_year = population_year.rename(columns={\"Total\": \"Demo\"})\n",
    "print(len(population))\n",
    "print(len(population_year))\n",
    "population_year.head()\n"
   ]
  },
  {
   "cell_type": "code",
   "execution_count": null,
   "metadata": {},
   "outputs": [],
   "source": [
    "# clean dataset deaths (all sex, all ages, every cause)\n",
    "deaths_tot = deaths[(deaths['Sexo'] == 'Total') & \n",
    "                    (deaths['Edad'] == 'Todas las edades') &\n",
    "                    (deaths['cause_group'] == 'Single cause')]\n",
    "print(len(deaths))\n",
    "print(len(deaths_tot))\n",
    "deaths_tot.head()\n"
   ]
  },
  {
   "cell_type": "code",
   "execution_count": null,
   "metadata": {
    "scrolled": true
   },
   "outputs": [],
   "source": [
    "population_year.info()"
   ]
  },
  {
   "cell_type": "code",
   "execution_count": null,
   "metadata": {},
   "outputs": [],
   "source": [
    "deaths_tot.info()"
   ]
  },
  {
   "cell_type": "code",
   "execution_count": null,
   "metadata": {},
   "outputs": [],
   "source": [
    "# join datasets deaths and population and calculate percentage\n",
    "deaths_tot = deaths_tot.merge(population_year)\n",
    "deaths_tot['Percent'] = deaths_tot.apply(lambda x: x['Total'] * 100 / x['Demo'], axis=1)\n",
    "deaths_tot['PercentK'] = deaths_tot.apply(lambda x: x['Total'] * 100 / x['Demo'] * 100000, axis=1)\n",
    "deaths_tot.head()\n"
   ]
  },
  {
   "cell_type": "code",
   "execution_count": null,
   "metadata": {
    "scrolled": true
   },
   "outputs": [],
   "source": [
    "# Total deaths every year\n",
    "deaths_tot_year = deaths_tot.groupby(['Periodo'])[['Total', \n",
    "                                                   'Percent', \n",
    "                                                   'PercentK']].sum().reset_index()\n",
    "print(len(deaths_tot_year))\n",
    "deaths_tot_year.head()\n"
   ]
  },
  {
   "cell_type": "code",
   "execution_count": null,
   "metadata": {
    "scrolled": true
   },
   "outputs": [],
   "source": [
    "# Graph total deaths\n",
    "deaths_tot_year.iplot(kind='line',\n",
    "                      x='Periodo',\n",
    "                      y='Total',\n",
    "                      xTitle='Year',\n",
    "                      yTitle='Total',\n",
    "                      title='Evolution deaths. Total',\n",
    "                      dimensions =(900,300))\n"
   ]
  },
  {
   "cell_type": "code",
   "execution_count": null,
   "metadata": {},
   "outputs": [],
   "source": [
    "\n",
    "# Graph total deaths by population\n",
    "deaths_tot_year.iplot(kind='line',\n",
    "                      x='Periodo',\n",
    "                      y='Percent',\n",
    "                      xTitle='Year',\n",
    "                      yTitle='Total / population',\n",
    "                      title='Evolution deaths. Total by population',\n",
    "                      dimensions =(900,300))\n"
   ]
  },
  {
   "cell_type": "code",
   "execution_count": null,
   "metadata": {},
   "outputs": [],
   "source": [
    "# Significant by population\n"
   ]
  },
  {
   "cell_type": "code",
   "execution_count": null,
   "metadata": {},
   "outputs": [],
   "source": [
    "deaths_tot.head()"
   ]
  },
  {
   "cell_type": "code",
   "execution_count": null,
   "metadata": {
    "scrolled": true
   },
   "outputs": [],
   "source": [
    "# Total deaths every cause\n",
    "deaths_tot_cause = deaths_tot.groupby(['cause_code', \n",
    "                                       'cause_name'])[['Total', \n",
    "                                                       'Percent', \n",
    "                                                       'PercentK']].sum().reset_index()\n",
    "print(len(deaths_tot_cause))\n",
    "deaths_tot_cause = deaths_tot_cause.sort_values(by=['Total'], ascending=False).head(10)\n",
    "print(len(deaths_tot_cause))\n",
    "deaths_tot_cause\n"
   ]
  },
  {
   "cell_type": "code",
   "execution_count": null,
   "metadata": {},
   "outputs": [],
   "source": [
    "# Graph total deaths every cause\n",
    "deaths_tot_cause.iplot(kind='bar',\n",
    "                       x='cause_name',\n",
    "                       y='Total',\n",
    "                       xTitle='Cause',\n",
    "                       yTitle='Total',\n",
    "                       title='Total by cause (10 most frequent causes)')\n"
   ]
  },
  {
   "cell_type": "code",
   "execution_count": null,
   "metadata": {},
   "outputs": [],
   "source": [
    "# 10 most causes by sex\n",
    "most_causes = deaths_tot_cause[['cause_code']]\n",
    "deaths_sex = most_causes.merge(deaths)\n",
    "deaths_sex = deaths_sex[(deaths_sex['Sexo'] != 'Total') & \n",
    "                        (deaths_sex['Edad'] == 'Todas las edades')]\n",
    "deaths_sex"
   ]
  },
  {
   "cell_type": "code",
   "execution_count": null,
   "metadata": {},
   "outputs": [],
   "source": [
    "deaths_tot_sex = deaths_sex.groupby(['Sexo',\n",
    "                                     'cause_code', \n",
    "                                     'cause_name'])[['Total']].sum().reset_index()\n",
    "print(len(deaths_tot_sex))\n",
    "deaths_tot_sex"
   ]
  },
  {
   "cell_type": "code",
   "execution_count": null,
   "metadata": {},
   "outputs": [],
   "source": [
    "# Graph total deaths most causes by sex\n",
    "graph = px.bar(deaths_tot_sex, \n",
    "               x = 'cause_name',\n",
    "               y = 'Total', \n",
    "               color = 'Sexo', \n",
    "               title = 'Mostly causes by sex',\n",
    "               labels={'cause_name':'Cause', \n",
    "                       'Total':'Total', \n",
    "                       'Sexo': 'Sex'})\n",
    "\n",
    "graph.update_layout(barmode='group', xaxis={'categoryorder': 'total descending'})\n",
    "\n",
    "graph.show()"
   ]
  },
  {
   "cell_type": "code",
   "execution_count": null,
   "metadata": {},
   "outputs": [],
   "source": [
    "print(len(causes_table))\n",
    "causes_single = causes_table.loc[causes_table['cause_code'].str.contains('-') == False]\n",
    "print(len(causes_single))"
   ]
  },
  {
   "cell_type": "code",
   "execution_count": null,
   "metadata": {},
   "outputs": [],
   "source": [
    "display(causes_single.head(51))\n",
    "display(causes_single.tail(51))"
   ]
  },
  {
   "cell_type": "code",
   "execution_count": null,
   "metadata": {},
   "outputs": [],
   "source": [
    "# Evolution most frequent causes. Selected most frequent cause, two increasing causes and other curious causes\n",
    "selected_causes = pd.DataFrame(['059', '018', '046', '090', '098'], columns=['cause_code'])\n",
    "deaths_causes_evo = selected_causes.merge(deaths_tot)\n",
    "print(len(deaths_causes_evo))\n",
    "deaths_causes_evo.head()"
   ]
  },
  {
   "cell_type": "code",
   "execution_count": null,
   "metadata": {},
   "outputs": [],
   "source": [
    "# Graph evolution most frequent causes\n",
    "graph = px.line(deaths_causes_evo, \n",
    "                x = 'Periodo',\n",
    "                y = 'Total', \n",
    "                color = 'cause_name',\n",
    "                title = 'Evolution most frequent causes',\n",
    "                labels={'Periodo':'Year', \n",
    "                        'Total':'Total', \n",
    "                        'cause_name': ''})\n",
    "\n",
    "graph.update_layout(legend=dict(orientation='v'))\n",
    "\n",
    "graph.show()"
   ]
  },
  {
   "cell_type": "code",
   "execution_count": null,
   "metadata": {},
   "outputs": [],
   "source": [
    "# Cause: 098 - suicide. Total\n",
    "deaths_cause_tot_098 = deaths_tot[deaths_tot['cause_code'] == '098']\n",
    "print(len(deaths_cause_tot_098))\n",
    "deaths_cause_tot_098.head()"
   ]
  },
  {
   "cell_type": "code",
   "execution_count": null,
   "metadata": {},
   "outputs": [],
   "source": [
    "# Cause: 098 - suicide. By sex, ages\n",
    "deaths_cause_098 = deaths[deaths['cause_code'] == '098']\n",
    "deaths_cause_098 = deaths_cause_098[(deaths_cause_098['Sexo'] != 'Total') &\n",
    "                                    (deaths_cause_098['Edad'] != 'Todas las edades')] \n",
    "deaths_cause_098.head()"
   ]
  },
  {
   "cell_type": "code",
   "execution_count": null,
   "metadata": {},
   "outputs": [],
   "source": [
    "# Graph total suicide by year\n",
    "deaths_cause_tot_098.iplot(kind='line',\n",
    "                           x='Periodo',\n",
    "                           y='Total',\n",
    "                           xTitle='Year',\n",
    "                           yTitle='Total',\n",
    "                           title='Total suicide')\n"
   ]
  },
  {
   "cell_type": "code",
   "execution_count": null,
   "metadata": {},
   "outputs": [],
   "source": [
    "# Graph total suicide (population) by year\n",
    "deaths_cause_tot_098.iplot(kind='line',\n",
    "                           x='Periodo',\n",
    "                           y='Percent',\n",
    "                           xTitle='Year',\n",
    "                           yTitle='Total / population',\n",
    "                           title='Total suicide by population')\n"
   ]
  },
  {
   "cell_type": "code",
   "execution_count": null,
   "metadata": {},
   "outputs": [],
   "source": [
    "# Not significant by population\n"
   ]
  },
  {
   "cell_type": "code",
   "execution_count": null,
   "metadata": {},
   "outputs": [],
   "source": [
    "# Graph total suicide by sex\n",
    "graph = px.pie(deaths_cause_098, \n",
    "               values = 'Total',\n",
    "               names = 'Sexo',\n",
    "               title = 'Total suicide',\n",
    "               color = 'Sexo',\n",
    "               color_discrete_map={'Hombres': 'grey',\n",
    "                                   'Mujeres': 'gold'})\n",
    "\n",
    "graph.update_traces(textposition = 'none')\n",
    "\n",
    "graph.show()\n"
   ]
  },
  {
   "cell_type": "code",
   "execution_count": null,
   "metadata": {},
   "outputs": [],
   "source": [
    "# Graph total suicide by year, sex\n",
    "deaths_cause_098_sex = deaths_cause_098.groupby(['Sexo', 'Periodo'])[['Total']].sum().reset_index()\n",
    "\n",
    "graph = px.bar(deaths_cause_098_sex, \n",
    "               x = 'Periodo',\n",
    "               y = 'Total',\n",
    "               color = 'Sexo',\n",
    "               title = 'Total suicide',\n",
    "               labels={'Periodo':'Year', \n",
    "                       'Total':'Total', \n",
    "                       'Sexo': 'Sex'})\n",
    "\n",
    "graph.show()"
   ]
  },
  {
   "cell_type": "code",
   "execution_count": null,
   "metadata": {},
   "outputs": [],
   "source": [
    "# Graph total suicide by age\n",
    "deaths_cause_098_age = deaths_cause_098.groupby(['Edad'])[['Total']].sum().reset_index()\n",
    "print(len(deaths_cause_098_age))\n",
    "\n",
    "graph = px.bar(deaths_cause_098_age, \n",
    "               x = 'Edad',\n",
    "               y = 'Total',\n",
    "               title = 'Total suicide',\n",
    "               labels={'Edad':'Age', \n",
    "                       'Total':'Total'})\n",
    "\n",
    "graph.update_layout(xaxis={'categoryorder': 'total descending'})\n",
    "\n",
    "graph.show()\n"
   ]
  },
  {
   "cell_type": "code",
   "execution_count": null,
   "metadata": {},
   "outputs": [],
   "source": [
    "deaths_cause_098_age_year_max"
   ]
  },
  {
   "cell_type": "code",
   "execution_count": null,
   "metadata": {},
   "outputs": [],
   "source": [
    "# Age suicide by year\n",
    "deaths_cause_098_age_year = deaths_cause_098.groupby(['Edad', 'Periodo'])[['Total']].sum().reset_index()\n",
    "\n",
    "deaths_cause_098_age_year_max = deaths_cause_098_age_year.loc[deaths_cause_098_age_year.groupby('Periodo')['Total'].idxmax()].reset_index(drop=True)\n",
    "\n",
    "graph = px.bar(deaths_cause_098_age_year_max, \n",
    "               x = 'Periodo',\n",
    "               y = 'Total',\n",
    "               color = 'Edad',\n",
    "               title = 'Age suicide',\n",
    "               labels={'Periodo':'Year', \n",
    "                       'Total':'Total'})\n",
    "\n",
    "graph.show()\n",
    "\n"
   ]
  },
  {
   "cell_type": "markdown",
   "metadata": {},
   "source": [
    "### en proceso....."
   ]
  },
  {
   "cell_type": "code",
   "execution_count": null,
   "metadata": {},
   "outputs": [],
   "source": []
  },
  {
   "cell_type": "code",
   "execution_count": null,
   "metadata": {},
   "outputs": [],
   "source": []
  },
  {
   "cell_type": "code",
   "execution_count": null,
   "metadata": {},
   "outputs": [],
   "source": []
  },
  {
   "cell_type": "code",
   "execution_count": null,
   "metadata": {},
   "outputs": [],
   "source": []
  },
  {
   "cell_type": "code",
   "execution_count": null,
   "metadata": {},
   "outputs": [],
   "source": []
  },
  {
   "cell_type": "code",
   "execution_count": null,
   "metadata": {},
   "outputs": [],
   "source": []
  },
  {
   "cell_type": "code",
   "execution_count": null,
   "metadata": {},
   "outputs": [],
   "source": [
    "# Cufflinks histogram\n",
    "\n",
    "\n"
   ]
  },
  {
   "cell_type": "code",
   "execution_count": null,
   "metadata": {},
   "outputs": [],
   "source": [
    "# Cufflinks bar plot\n",
    "'''\n",
    "dataset_bar.iplot(kind='bar',\n",
    "                  x='VARIABLE',\n",
    "                  xTitle='AXIS TITLE',\n",
    "                  yTitle='AXIS TITLE',\n",
    "                  title='VIZ TITLE')\n",
    "'''"
   ]
  },
  {
   "cell_type": "code",
   "execution_count": null,
   "metadata": {},
   "outputs": [],
   "source": [
    "# Cufflinks line plot\n",
    "'''\n",
    "dataset_line.iplot(kind='line',\n",
    "                   x='VARIABLE',\n",
    "                   xTitle='AXIS TITLE',\n",
    "                   yTitle='AXIS TITLE',\n",
    "                   title='VIZ TITLE')\n",
    "'''"
   ]
  },
  {
   "cell_type": "code",
   "execution_count": null,
   "metadata": {},
   "outputs": [],
   "source": [
    "# Cufflinks scatter plot\n",
    "'''\n",
    "dataset_scatter.iplot(x='VARIABLE', \n",
    "                      y='VARIABLE', \n",
    "                      categories='VARIABLE',\n",
    "                      xTitle='AXIS TITLE', \n",
    "                      yTitle='AXIS TITLE',\n",
    "                      title='VIZ TITLE')\n",
    "'''"
   ]
  }
 ],
 "metadata": {
  "kernelspec": {
   "display_name": "Python [conda env:m2_ih]",
   "language": "python",
   "name": "conda-env-m2_ih-py"
  },
  "language_info": {
   "codemirror_mode": {
    "name": "ipython",
    "version": 3
   },
   "file_extension": ".py",
   "mimetype": "text/x-python",
   "name": "python",
   "nbconvert_exporter": "python",
   "pygments_lexer": "ipython3",
   "version": "3.9.12"
  }
 },
 "nbformat": 4,
 "nbformat_minor": 2
}
