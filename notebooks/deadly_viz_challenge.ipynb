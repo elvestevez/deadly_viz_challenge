{
 "cells": [
  {
   "cell_type": "markdown",
   "metadata": {},
   "source": [
    "# Deadly Visualizations!!!\n",
    "\n",
    "![Image](../images/viz_types_portada.png)"
   ]
  },
  {
   "cell_type": "markdown",
   "metadata": {},
   "source": [
    "## Setup\n",
    "\n",
    "First we need to create a basic setup which includes:\n",
    "\n",
    "- Importing the libraries.\n",
    "\n",
    "- Reading the dataset file (source [Instituto Nacional de Estadística](https://www.ine.es/ss/Satellite?L=es_ES&c=Page&cid=1259942408928&p=1259942408928&pagename=ProductosYServicios%2FPYSLayout)).\n",
    "\n",
    "- Create a couple of columns and tables for the analysis.\n",
    "\n",
    "__NOTE:__ some functions were already created in order to help you go through the challenge. However, feel free to perform any code you might need."
   ]
  },
  {
   "cell_type": "code",
   "execution_count": 1,
   "metadata": {},
   "outputs": [
    {
     "data": {
      "text/html": [
       "        <script type=\"text/javascript\">\n",
       "        window.PlotlyConfig = {MathJaxConfig: 'local'};\n",
       "        if (window.MathJax && window.MathJax.Hub && window.MathJax.Hub.Config) {window.MathJax.Hub.Config({SVG: {font: \"STIX-Web\"}});}\n",
       "        if (typeof require !== 'undefined') {\n",
       "        require.undef(\"plotly\");\n",
       "        requirejs.config({\n",
       "            paths: {\n",
       "                'plotly': ['https://cdn.plot.ly/plotly-2.12.1.min']\n",
       "            }\n",
       "        });\n",
       "        require(['plotly'], function(Plotly) {\n",
       "            window._Plotly = Plotly;\n",
       "        });\n",
       "        }\n",
       "        </script>\n",
       "        "
      ]
     },
     "metadata": {},
     "output_type": "display_data"
    }
   ],
   "source": [
    "# imports\n",
    "\n",
    "import sys\n",
    "import re\n",
    "sys.path.insert(0, \"../modules\")\n",
    "\n",
    "import numpy as np\n",
    "import pandas as pd\n",
    "\n",
    "import plotly.express as px\n",
    "import cufflinks as cf\n",
    "cf.go_offline()\n",
    "\n",
    "import module as mod     # functions are include in module.py"
   ]
  },
  {
   "cell_type": "code",
   "execution_count": 2,
   "metadata": {},
   "outputs": [
    {
     "name": "stdout",
     "output_type": "stream",
     "text": [
      "<class 'pandas.core.frame.DataFrame'>\n",
      "RangeIndex: 301158 entries, 0 to 301157\n",
      "Data columns (total 5 columns):\n",
      " #   Column           Non-Null Count   Dtype \n",
      "---  ------           --------------   ----- \n",
      " 0   Causa de muerte  301158 non-null  object\n",
      " 1   Sexo             301158 non-null  object\n",
      " 2   Edad             301158 non-null  object\n",
      " 3   Periodo          301158 non-null  int64 \n",
      " 4   Total            301158 non-null  int64 \n",
      "dtypes: int64(2), object(3)\n",
      "memory usage: 11.5+ MB\n"
     ]
    }
   ],
   "source": [
    "# read dataset\n",
    "\n",
    "deaths = pd.read_csv('../data/7947.csv', sep=';', thousands='.')\n",
    "\n",
    "deaths.info()"
   ]
  },
  {
   "cell_type": "code",
   "execution_count": 3,
   "metadata": {},
   "outputs": [
    {
     "data": {
      "text/html": [
       "<div>\n",
       "<style scoped>\n",
       "    .dataframe tbody tr th:only-of-type {\n",
       "        vertical-align: middle;\n",
       "    }\n",
       "\n",
       "    .dataframe tbody tr th {\n",
       "        vertical-align: top;\n",
       "    }\n",
       "\n",
       "    .dataframe thead th {\n",
       "        text-align: right;\n",
       "    }\n",
       "</style>\n",
       "<table border=\"1\" class=\"dataframe\">\n",
       "  <thead>\n",
       "    <tr style=\"text-align: right;\">\n",
       "      <th></th>\n",
       "      <th>Causa de muerte</th>\n",
       "      <th>Sexo</th>\n",
       "      <th>Edad</th>\n",
       "      <th>Periodo</th>\n",
       "      <th>Total</th>\n",
       "    </tr>\n",
       "  </thead>\n",
       "  <tbody>\n",
       "    <tr>\n",
       "      <th>0</th>\n",
       "      <td>001-102  I-XXII.Todas las causas</td>\n",
       "      <td>Total</td>\n",
       "      <td>Todas las edades</td>\n",
       "      <td>2018</td>\n",
       "      <td>427721</td>\n",
       "    </tr>\n",
       "    <tr>\n",
       "      <th>1</th>\n",
       "      <td>001-102  I-XXII.Todas las causas</td>\n",
       "      <td>Total</td>\n",
       "      <td>Todas las edades</td>\n",
       "      <td>2017</td>\n",
       "      <td>424523</td>\n",
       "    </tr>\n",
       "    <tr>\n",
       "      <th>2</th>\n",
       "      <td>001-102  I-XXII.Todas las causas</td>\n",
       "      <td>Total</td>\n",
       "      <td>Todas las edades</td>\n",
       "      <td>2016</td>\n",
       "      <td>410611</td>\n",
       "    </tr>\n",
       "    <tr>\n",
       "      <th>3</th>\n",
       "      <td>001-102  I-XXII.Todas las causas</td>\n",
       "      <td>Total</td>\n",
       "      <td>Todas las edades</td>\n",
       "      <td>2015</td>\n",
       "      <td>422568</td>\n",
       "    </tr>\n",
       "    <tr>\n",
       "      <th>4</th>\n",
       "      <td>001-102  I-XXII.Todas las causas</td>\n",
       "      <td>Total</td>\n",
       "      <td>Todas las edades</td>\n",
       "      <td>2014</td>\n",
       "      <td>395830</td>\n",
       "    </tr>\n",
       "  </tbody>\n",
       "</table>\n",
       "</div>"
      ],
      "text/plain": [
       "                    Causa de muerte   Sexo              Edad  Periodo   Total\n",
       "0  001-102  I-XXII.Todas las causas  Total  Todas las edades     2018  427721\n",
       "1  001-102  I-XXII.Todas las causas  Total  Todas las edades     2017  424523\n",
       "2  001-102  I-XXII.Todas las causas  Total  Todas las edades     2016  410611\n",
       "3  001-102  I-XXII.Todas las causas  Total  Todas las edades     2015  422568\n",
       "4  001-102  I-XXII.Todas las causas  Total  Todas las edades     2014  395830"
      ]
     },
     "execution_count": 3,
     "metadata": {},
     "output_type": "execute_result"
    }
   ],
   "source": [
    "deaths.head()\n"
   ]
  },
  {
   "cell_type": "code",
   "execution_count": 4,
   "metadata": {},
   "outputs": [
    {
     "name": "stdout",
     "output_type": "stream",
     "text": [
      "<class 'pandas.core.frame.DataFrame'>\n",
      "RangeIndex: 103 entries, 0 to 102\n",
      "Data columns (total 5 columns):\n",
      " #   Column      Non-Null Count  Dtype \n",
      "---  ------      --------------  ----- \n",
      " 0   Sexo        103 non-null    object\n",
      " 1   Edad        103 non-null    object\n",
      " 2   Provincias  103 non-null    object\n",
      " 3   Periodo     103 non-null    object\n",
      " 4   Total       103 non-null    int64 \n",
      "dtypes: int64(1), object(4)\n",
      "memory usage: 4.1+ KB\n"
     ]
    }
   ],
   "source": [
    "population = pd.read_csv('../data/31304bsc.csv', sep=';', thousands='.')\n",
    "\n",
    "population.info()"
   ]
  },
  {
   "cell_type": "code",
   "execution_count": 5,
   "metadata": {},
   "outputs": [
    {
     "data": {
      "text/html": [
       "<div>\n",
       "<style scoped>\n",
       "    .dataframe tbody tr th:only-of-type {\n",
       "        vertical-align: middle;\n",
       "    }\n",
       "\n",
       "    .dataframe tbody tr th {\n",
       "        vertical-align: top;\n",
       "    }\n",
       "\n",
       "    .dataframe thead th {\n",
       "        text-align: right;\n",
       "    }\n",
       "</style>\n",
       "<table border=\"1\" class=\"dataframe\">\n",
       "  <thead>\n",
       "    <tr style=\"text-align: right;\">\n",
       "      <th></th>\n",
       "      <th>Sexo</th>\n",
       "      <th>Edad</th>\n",
       "      <th>Provincias</th>\n",
       "      <th>Periodo</th>\n",
       "      <th>Total</th>\n",
       "    </tr>\n",
       "  </thead>\n",
       "  <tbody>\n",
       "    <tr>\n",
       "      <th>0</th>\n",
       "      <td>Ambos sexos</td>\n",
       "      <td>Total</td>\n",
       "      <td>Total Nacional</td>\n",
       "      <td>1 de enero de 2022</td>\n",
       "      <td>47432805</td>\n",
       "    </tr>\n",
       "    <tr>\n",
       "      <th>1</th>\n",
       "      <td>Ambos sexos</td>\n",
       "      <td>Total</td>\n",
       "      <td>Total Nacional</td>\n",
       "      <td>1 de julio de 2021</td>\n",
       "      <td>47331545</td>\n",
       "    </tr>\n",
       "    <tr>\n",
       "      <th>2</th>\n",
       "      <td>Ambos sexos</td>\n",
       "      <td>Total</td>\n",
       "      <td>Total Nacional</td>\n",
       "      <td>1 de enero de 2021</td>\n",
       "      <td>47398695</td>\n",
       "    </tr>\n",
       "    <tr>\n",
       "      <th>3</th>\n",
       "      <td>Ambos sexos</td>\n",
       "      <td>Total</td>\n",
       "      <td>Total Nacional</td>\n",
       "      <td>1 de julio de 2020</td>\n",
       "      <td>47355685</td>\n",
       "    </tr>\n",
       "    <tr>\n",
       "      <th>4</th>\n",
       "      <td>Ambos sexos</td>\n",
       "      <td>Total</td>\n",
       "      <td>Total Nacional</td>\n",
       "      <td>1 de enero de 2020</td>\n",
       "      <td>47332614</td>\n",
       "    </tr>\n",
       "  </tbody>\n",
       "</table>\n",
       "</div>"
      ],
      "text/plain": [
       "          Sexo   Edad      Provincias             Periodo     Total\n",
       "0  Ambos sexos  Total  Total Nacional  1 de enero de 2022  47432805\n",
       "1  Ambos sexos  Total  Total Nacional  1 de julio de 2021  47331545\n",
       "2  Ambos sexos  Total  Total Nacional  1 de enero de 2021  47398695\n",
       "3  Ambos sexos  Total  Total Nacional  1 de julio de 2020  47355685\n",
       "4  Ambos sexos  Total  Total Nacional  1 de enero de 2020  47332614"
      ]
     },
     "execution_count": 5,
     "metadata": {},
     "output_type": "execute_result"
    }
   ],
   "source": [
    "population.head()\n"
   ]
  },
  {
   "cell_type": "code",
   "execution_count": 6,
   "metadata": {},
   "outputs": [
    {
     "name": "stdout",
     "output_type": "stream",
     "text": [
      "39\n"
     ]
    },
    {
     "data": {
      "text/plain": [
       "array([2018, 2017, 2016, 2015, 2014, 2013, 2012, 2011, 2010, 2009, 2008,\n",
       "       2007, 2006, 2005, 2004, 2003, 2002, 2001, 2000, 1999, 1998, 1997,\n",
       "       1996, 1995, 1994, 1993, 1992, 1991, 1990, 1989, 1988, 1987, 1986,\n",
       "       1985, 1984, 1983, 1982, 1981, 1980])"
      ]
     },
     "execution_count": 6,
     "metadata": {},
     "output_type": "execute_result"
    }
   ],
   "source": [
    "print(len(deaths['Periodo'].unique()))\n",
    "deaths['Periodo'].unique()"
   ]
  },
  {
   "cell_type": "code",
   "execution_count": 7,
   "metadata": {},
   "outputs": [
    {
     "name": "stdout",
     "output_type": "stream",
     "text": [
      "<class 'pandas.core.frame.DataFrame'>\n",
      "RangeIndex: 301158 entries, 0 to 301157\n",
      "Data columns (total 8 columns):\n",
      " #   Column           Non-Null Count   Dtype \n",
      "---  ------           --------------   ----- \n",
      " 0   Causa de muerte  301158 non-null  object\n",
      " 1   Sexo             301158 non-null  object\n",
      " 2   Edad             301158 non-null  object\n",
      " 3   Periodo          301158 non-null  int64 \n",
      " 4   Total            301158 non-null  int64 \n",
      " 5   cause_code       301158 non-null  object\n",
      " 6   cause_group      301158 non-null  object\n",
      " 7   cause_name       301158 non-null  object\n",
      "dtypes: int64(2), object(6)\n",
      "memory usage: 18.4+ MB\n"
     ]
    }
   ],
   "source": [
    "# add some columns...you'll need them later\n",
    "\n",
    "deaths['cause_code'] = deaths['Causa de muerte'].apply(mod.cause_code)\n",
    "deaths['cause_group'] = deaths['Causa de muerte'].apply(mod.cause_types)\n",
    "deaths['cause_name'] = deaths['Causa de muerte'].apply(mod.cause_name)\n",
    "\n",
    "deaths.info()"
   ]
  },
  {
   "cell_type": "code",
   "execution_count": 8,
   "metadata": {},
   "outputs": [
    {
     "data": {
      "text/html": [
       "<div>\n",
       "<style scoped>\n",
       "    .dataframe tbody tr th:only-of-type {\n",
       "        vertical-align: middle;\n",
       "    }\n",
       "\n",
       "    .dataframe tbody tr th {\n",
       "        vertical-align: top;\n",
       "    }\n",
       "\n",
       "    .dataframe thead th {\n",
       "        text-align: right;\n",
       "    }\n",
       "</style>\n",
       "<table border=\"1\" class=\"dataframe\">\n",
       "  <thead>\n",
       "    <tr style=\"text-align: right;\">\n",
       "      <th></th>\n",
       "      <th>Causa de muerte</th>\n",
       "      <th>Sexo</th>\n",
       "      <th>Edad</th>\n",
       "      <th>Periodo</th>\n",
       "      <th>Total</th>\n",
       "      <th>cause_code</th>\n",
       "      <th>cause_group</th>\n",
       "      <th>cause_name</th>\n",
       "    </tr>\n",
       "  </thead>\n",
       "  <tbody>\n",
       "    <tr>\n",
       "      <th>0</th>\n",
       "      <td>001-102  I-XXII.Todas las causas</td>\n",
       "      <td>Total</td>\n",
       "      <td>Todas las edades</td>\n",
       "      <td>2018</td>\n",
       "      <td>427721</td>\n",
       "      <td>001-102</td>\n",
       "      <td>Multiple causes</td>\n",
       "      <td>I-XXII.Todas las causas</td>\n",
       "    </tr>\n",
       "    <tr>\n",
       "      <th>1</th>\n",
       "      <td>001-102  I-XXII.Todas las causas</td>\n",
       "      <td>Total</td>\n",
       "      <td>Todas las edades</td>\n",
       "      <td>2017</td>\n",
       "      <td>424523</td>\n",
       "      <td>001-102</td>\n",
       "      <td>Multiple causes</td>\n",
       "      <td>I-XXII.Todas las causas</td>\n",
       "    </tr>\n",
       "    <tr>\n",
       "      <th>2</th>\n",
       "      <td>001-102  I-XXII.Todas las causas</td>\n",
       "      <td>Total</td>\n",
       "      <td>Todas las edades</td>\n",
       "      <td>2016</td>\n",
       "      <td>410611</td>\n",
       "      <td>001-102</td>\n",
       "      <td>Multiple causes</td>\n",
       "      <td>I-XXII.Todas las causas</td>\n",
       "    </tr>\n",
       "    <tr>\n",
       "      <th>3</th>\n",
       "      <td>001-102  I-XXII.Todas las causas</td>\n",
       "      <td>Total</td>\n",
       "      <td>Todas las edades</td>\n",
       "      <td>2015</td>\n",
       "      <td>422568</td>\n",
       "      <td>001-102</td>\n",
       "      <td>Multiple causes</td>\n",
       "      <td>I-XXII.Todas las causas</td>\n",
       "    </tr>\n",
       "    <tr>\n",
       "      <th>4</th>\n",
       "      <td>001-102  I-XXII.Todas las causas</td>\n",
       "      <td>Total</td>\n",
       "      <td>Todas las edades</td>\n",
       "      <td>2014</td>\n",
       "      <td>395830</td>\n",
       "      <td>001-102</td>\n",
       "      <td>Multiple causes</td>\n",
       "      <td>I-XXII.Todas las causas</td>\n",
       "    </tr>\n",
       "    <tr>\n",
       "      <th>...</th>\n",
       "      <td>...</td>\n",
       "      <td>...</td>\n",
       "      <td>...</td>\n",
       "      <td>...</td>\n",
       "      <td>...</td>\n",
       "      <td>...</td>\n",
       "      <td>...</td>\n",
       "      <td>...</td>\n",
       "    </tr>\n",
       "    <tr>\n",
       "      <th>301153</th>\n",
       "      <td>102  Otras causas externas y sus efectos tardíos</td>\n",
       "      <td>Mujeres</td>\n",
       "      <td>95 y más años</td>\n",
       "      <td>1984</td>\n",
       "      <td>0</td>\n",
       "      <td>102</td>\n",
       "      <td>Single cause</td>\n",
       "      <td>Otras causas externas y sus efectos tardíos</td>\n",
       "    </tr>\n",
       "    <tr>\n",
       "      <th>301154</th>\n",
       "      <td>102  Otras causas externas y sus efectos tardíos</td>\n",
       "      <td>Mujeres</td>\n",
       "      <td>95 y más años</td>\n",
       "      <td>1983</td>\n",
       "      <td>0</td>\n",
       "      <td>102</td>\n",
       "      <td>Single cause</td>\n",
       "      <td>Otras causas externas y sus efectos tardíos</td>\n",
       "    </tr>\n",
       "    <tr>\n",
       "      <th>301155</th>\n",
       "      <td>102  Otras causas externas y sus efectos tardíos</td>\n",
       "      <td>Mujeres</td>\n",
       "      <td>95 y más años</td>\n",
       "      <td>1982</td>\n",
       "      <td>0</td>\n",
       "      <td>102</td>\n",
       "      <td>Single cause</td>\n",
       "      <td>Otras causas externas y sus efectos tardíos</td>\n",
       "    </tr>\n",
       "    <tr>\n",
       "      <th>301156</th>\n",
       "      <td>102  Otras causas externas y sus efectos tardíos</td>\n",
       "      <td>Mujeres</td>\n",
       "      <td>95 y más años</td>\n",
       "      <td>1981</td>\n",
       "      <td>0</td>\n",
       "      <td>102</td>\n",
       "      <td>Single cause</td>\n",
       "      <td>Otras causas externas y sus efectos tardíos</td>\n",
       "    </tr>\n",
       "    <tr>\n",
       "      <th>301157</th>\n",
       "      <td>102  Otras causas externas y sus efectos tardíos</td>\n",
       "      <td>Mujeres</td>\n",
       "      <td>95 y más años</td>\n",
       "      <td>1980</td>\n",
       "      <td>0</td>\n",
       "      <td>102</td>\n",
       "      <td>Single cause</td>\n",
       "      <td>Otras causas externas y sus efectos tardíos</td>\n",
       "    </tr>\n",
       "  </tbody>\n",
       "</table>\n",
       "<p>301158 rows × 8 columns</p>\n",
       "</div>"
      ],
      "text/plain": [
       "                                         Causa de muerte     Sexo  \\\n",
       "0                       001-102  I-XXII.Todas las causas    Total   \n",
       "1                       001-102  I-XXII.Todas las causas    Total   \n",
       "2                       001-102  I-XXII.Todas las causas    Total   \n",
       "3                       001-102  I-XXII.Todas las causas    Total   \n",
       "4                       001-102  I-XXII.Todas las causas    Total   \n",
       "...                                                  ...      ...   \n",
       "301153  102  Otras causas externas y sus efectos tardíos  Mujeres   \n",
       "301154  102  Otras causas externas y sus efectos tardíos  Mujeres   \n",
       "301155  102  Otras causas externas y sus efectos tardíos  Mujeres   \n",
       "301156  102  Otras causas externas y sus efectos tardíos  Mujeres   \n",
       "301157  102  Otras causas externas y sus efectos tardíos  Mujeres   \n",
       "\n",
       "                    Edad  Periodo   Total cause_code      cause_group  \\\n",
       "0       Todas las edades     2018  427721    001-102  Multiple causes   \n",
       "1       Todas las edades     2017  424523    001-102  Multiple causes   \n",
       "2       Todas las edades     2016  410611    001-102  Multiple causes   \n",
       "3       Todas las edades     2015  422568    001-102  Multiple causes   \n",
       "4       Todas las edades     2014  395830    001-102  Multiple causes   \n",
       "...                  ...      ...     ...        ...              ...   \n",
       "301153     95 y más años     1984       0        102     Single cause   \n",
       "301154     95 y más años     1983       0        102     Single cause   \n",
       "301155     95 y más años     1982       0        102     Single cause   \n",
       "301156     95 y más años     1981       0        102     Single cause   \n",
       "301157     95 y más años     1980       0        102     Single cause   \n",
       "\n",
       "                                         cause_name  \n",
       "0                           I-XXII.Todas las causas  \n",
       "1                           I-XXII.Todas las causas  \n",
       "2                           I-XXII.Todas las causas  \n",
       "3                           I-XXII.Todas las causas  \n",
       "4                           I-XXII.Todas las causas  \n",
       "...                                             ...  \n",
       "301153  Otras causas externas y sus efectos tardíos  \n",
       "301154  Otras causas externas y sus efectos tardíos  \n",
       "301155  Otras causas externas y sus efectos tardíos  \n",
       "301156  Otras causas externas y sus efectos tardíos  \n",
       "301157  Otras causas externas y sus efectos tardíos  \n",
       "\n",
       "[301158 rows x 8 columns]"
      ]
     },
     "execution_count": 8,
     "metadata": {},
     "output_type": "execute_result"
    }
   ],
   "source": [
    "deaths"
   ]
  },
  {
   "cell_type": "code",
   "execution_count": 9,
   "metadata": {},
   "outputs": [
    {
     "data": {
      "text/html": [
       "<div>\n",
       "<style scoped>\n",
       "    .dataframe tbody tr th:only-of-type {\n",
       "        vertical-align: middle;\n",
       "    }\n",
       "\n",
       "    .dataframe tbody tr th {\n",
       "        vertical-align: top;\n",
       "    }\n",
       "\n",
       "    .dataframe thead th {\n",
       "        text-align: right;\n",
       "    }\n",
       "</style>\n",
       "<table border=\"1\" class=\"dataframe\">\n",
       "  <thead>\n",
       "    <tr style=\"text-align: right;\">\n",
       "      <th></th>\n",
       "      <th>categorical_variable</th>\n",
       "      <th>number_of_possible_values</th>\n",
       "      <th>values</th>\n",
       "    </tr>\n",
       "  </thead>\n",
       "  <tbody>\n",
       "    <tr>\n",
       "      <th>0</th>\n",
       "      <td>cause_code</td>\n",
       "      <td>117</td>\n",
       "      <td>[001-102, 001-008, 001, 002, 003, 004, 005, 00...</td>\n",
       "    </tr>\n",
       "    <tr>\n",
       "      <th>1</th>\n",
       "      <td>cause_name</td>\n",
       "      <td>117</td>\n",
       "      <td>[I-XXII.Todas las causas, I.Enfermedades infec...</td>\n",
       "    </tr>\n",
       "    <tr>\n",
       "      <th>2</th>\n",
       "      <td>Periodo</td>\n",
       "      <td>39</td>\n",
       "      <td>[2018, 2017, 2016, 2015, 2014, 2013, 2012, 201...</td>\n",
       "    </tr>\n",
       "    <tr>\n",
       "      <th>3</th>\n",
       "      <td>Edad</td>\n",
       "      <td>22</td>\n",
       "      <td>[Todas las edades, Menos de 1 año, De 1 a 4 añ...</td>\n",
       "    </tr>\n",
       "    <tr>\n",
       "      <th>4</th>\n",
       "      <td>Sexo</td>\n",
       "      <td>3</td>\n",
       "      <td>[Total, Hombres, Mujeres]</td>\n",
       "    </tr>\n",
       "    <tr>\n",
       "      <th>5</th>\n",
       "      <td>cause_group</td>\n",
       "      <td>2</td>\n",
       "      <td>[Multiple causes, Single cause]</td>\n",
       "    </tr>\n",
       "  </tbody>\n",
       "</table>\n",
       "</div>"
      ],
      "text/plain": [
       "  categorical_variable  number_of_possible_values  \\\n",
       "0           cause_code                        117   \n",
       "1           cause_name                        117   \n",
       "2              Periodo                         39   \n",
       "3                 Edad                         22   \n",
       "4                 Sexo                          3   \n",
       "5          cause_group                          2   \n",
       "\n",
       "                                              values  \n",
       "0  [001-102, 001-008, 001, 002, 003, 004, 005, 00...  \n",
       "1  [I-XXII.Todas las causas, I.Enfermedades infec...  \n",
       "2  [2018, 2017, 2016, 2015, 2014, 2013, 2012, 201...  \n",
       "3  [Todas las edades, Menos de 1 año, De 1 a 4 añ...  \n",
       "4                          [Total, Hombres, Mujeres]  \n",
       "5                    [Multiple causes, Single cause]  "
      ]
     },
     "execution_count": 9,
     "metadata": {},
     "output_type": "execute_result"
    }
   ],
   "source": [
    "# lets check the categorical variables\n",
    "\n",
    "var_list = ['Sexo', 'Edad', 'Periodo', 'cause_code', 'cause_name', 'cause_group']\n",
    "\n",
    "categories = mod.cat_var(deaths, var_list)\n",
    "categories"
   ]
  },
  {
   "cell_type": "code",
   "execution_count": 10,
   "metadata": {},
   "outputs": [
    {
     "data": {
      "text/html": [
       "<div>\n",
       "<style scoped>\n",
       "    .dataframe tbody tr th:only-of-type {\n",
       "        vertical-align: middle;\n",
       "    }\n",
       "\n",
       "    .dataframe tbody tr th {\n",
       "        vertical-align: top;\n",
       "    }\n",
       "\n",
       "    .dataframe thead th {\n",
       "        text-align: right;\n",
       "    }\n",
       "</style>\n",
       "<table border=\"1\" class=\"dataframe\">\n",
       "  <thead>\n",
       "    <tr style=\"text-align: right;\">\n",
       "      <th></th>\n",
       "      <th>cause_code</th>\n",
       "      <th>cause_name</th>\n",
       "    </tr>\n",
       "  </thead>\n",
       "  <tbody>\n",
       "    <tr>\n",
       "      <th>0</th>\n",
       "      <td>001</td>\n",
       "      <td>Enfermedades infecciosas intestinales</td>\n",
       "    </tr>\n",
       "    <tr>\n",
       "      <th>1</th>\n",
       "      <td>001-008</td>\n",
       "      <td>I.Enfermedades infecciosas y parasitarias</td>\n",
       "    </tr>\n",
       "    <tr>\n",
       "      <th>2</th>\n",
       "      <td>001-102</td>\n",
       "      <td>I-XXII.Todas las causas</td>\n",
       "    </tr>\n",
       "    <tr>\n",
       "      <th>3</th>\n",
       "      <td>002</td>\n",
       "      <td>Tuberculosis y sus efectos tardíos</td>\n",
       "    </tr>\n",
       "    <tr>\n",
       "      <th>4</th>\n",
       "      <td>003</td>\n",
       "      <td>Enfermedad meningocócica</td>\n",
       "    </tr>\n",
       "    <tr>\n",
       "      <th>...</th>\n",
       "      <td>...</td>\n",
       "      <td>...</td>\n",
       "    </tr>\n",
       "    <tr>\n",
       "      <th>112</th>\n",
       "      <td>098</td>\n",
       "      <td>Suicidio y lesiones autoinfligidas</td>\n",
       "    </tr>\n",
       "    <tr>\n",
       "      <th>113</th>\n",
       "      <td>099</td>\n",
       "      <td>Agresiones (homicidio)</td>\n",
       "    </tr>\n",
       "    <tr>\n",
       "      <th>114</th>\n",
       "      <td>100</td>\n",
       "      <td>Eventos de intención no determinada</td>\n",
       "    </tr>\n",
       "    <tr>\n",
       "      <th>115</th>\n",
       "      <td>101</td>\n",
       "      <td>Complicaciones de la atención médica y quirúrgica</td>\n",
       "    </tr>\n",
       "    <tr>\n",
       "      <th>116</th>\n",
       "      <td>102</td>\n",
       "      <td>Otras causas externas y sus efectos tardíos</td>\n",
       "    </tr>\n",
       "  </tbody>\n",
       "</table>\n",
       "<p>117 rows × 2 columns</p>\n",
       "</div>"
      ],
      "text/plain": [
       "    cause_code                                         cause_name\n",
       "0          001              Enfermedades infecciosas intestinales\n",
       "1      001-008          I.Enfermedades infecciosas y parasitarias\n",
       "2      001-102                            I-XXII.Todas las causas\n",
       "3          002                 Tuberculosis y sus efectos tardíos\n",
       "4          003                           Enfermedad meningocócica\n",
       "..         ...                                                ...\n",
       "112        098                 Suicidio y lesiones autoinfligidas\n",
       "113        099                             Agresiones (homicidio)\n",
       "114        100                Eventos de intención no determinada\n",
       "115        101  Complicaciones de la atención médica y quirúrgica\n",
       "116        102        Otras causas externas y sus efectos tardíos\n",
       "\n",
       "[117 rows x 2 columns]"
      ]
     },
     "execution_count": 10,
     "metadata": {},
     "output_type": "execute_result"
    }
   ],
   "source": [
    "# we need also to create a causes table for the analysis\n",
    "\n",
    "causes_table = deaths[['cause_code', 'cause_name']].drop_duplicates().sort_values(by='cause_code').reset_index(drop=True)\n",
    "\n",
    "causes_table"
   ]
  },
  {
   "cell_type": "markdown",
   "metadata": {},
   "source": [
    "## Lets make some transformations\n",
    "\n",
    "Eventhough the dataset is pretty clean, the information is completely denormalized as you could see. For that matter a collection of methods (functions) are available in order to generate the tables you might need:\n",
    "\n",
    "- `row_filter(df, cat_var, cat_values)` => Filter rows by any value or group of values in a categorical variable.\n",
    "\n",
    "- `nrow_filter(df, cat_var, cat_values)` => The same but backwards. \n",
    "\n",
    "- `groupby_sum(df, group_vars, agg_var='Total', sort_var='Total')` => Add deaths by a certain variable.\n",
    "\n",
    "- `pivot_table(df, col, x_axis, value='Total')`=> Make some pivot tables, you might need them...\n",
    "\n",
    "__NOTE:__ be aware that the filtering methods can perform a filter at a time. Feel free to perform the filter you need in any way you want or feel confortable with."
   ]
  },
  {
   "cell_type": "code",
   "execution_count": 11,
   "metadata": {},
   "outputs": [
    {
     "data": {
      "text/html": [
       "<div>\n",
       "<style scoped>\n",
       "    .dataframe tbody tr th:only-of-type {\n",
       "        vertical-align: middle;\n",
       "    }\n",
       "\n",
       "    .dataframe tbody tr th {\n",
       "        vertical-align: top;\n",
       "    }\n",
       "\n",
       "    .dataframe thead th {\n",
       "        text-align: right;\n",
       "    }\n",
       "</style>\n",
       "<table border=\"1\" class=\"dataframe\">\n",
       "  <thead>\n",
       "    <tr style=\"text-align: right;\">\n",
       "      <th></th>\n",
       "      <th>Causa de muerte</th>\n",
       "      <th>Sexo</th>\n",
       "      <th>Edad</th>\n",
       "      <th>Periodo</th>\n",
       "      <th>Total</th>\n",
       "      <th>cause_code</th>\n",
       "      <th>cause_group</th>\n",
       "      <th>cause_name</th>\n",
       "    </tr>\n",
       "  </thead>\n",
       "  <tbody>\n",
       "    <tr>\n",
       "      <th>0</th>\n",
       "      <td>001-102  I-XXII.Todas las causas</td>\n",
       "      <td>Total</td>\n",
       "      <td>Todas las edades</td>\n",
       "      <td>2018</td>\n",
       "      <td>427721</td>\n",
       "      <td>001-102</td>\n",
       "      <td>Multiple causes</td>\n",
       "      <td>I-XXII.Todas las causas</td>\n",
       "    </tr>\n",
       "    <tr>\n",
       "      <th>1</th>\n",
       "      <td>001-102  I-XXII.Todas las causas</td>\n",
       "      <td>Total</td>\n",
       "      <td>Todas las edades</td>\n",
       "      <td>2017</td>\n",
       "      <td>424523</td>\n",
       "      <td>001-102</td>\n",
       "      <td>Multiple causes</td>\n",
       "      <td>I-XXII.Todas las causas</td>\n",
       "    </tr>\n",
       "    <tr>\n",
       "      <th>2</th>\n",
       "      <td>001-102  I-XXII.Todas las causas</td>\n",
       "      <td>Total</td>\n",
       "      <td>Todas las edades</td>\n",
       "      <td>2015</td>\n",
       "      <td>422568</td>\n",
       "      <td>001-102</td>\n",
       "      <td>Multiple causes</td>\n",
       "      <td>I-XXII.Todas las causas</td>\n",
       "    </tr>\n",
       "    <tr>\n",
       "      <th>3</th>\n",
       "      <td>001-102  I-XXII.Todas las causas</td>\n",
       "      <td>Total</td>\n",
       "      <td>Todas las edades</td>\n",
       "      <td>2016</td>\n",
       "      <td>410611</td>\n",
       "      <td>001-102</td>\n",
       "      <td>Multiple causes</td>\n",
       "      <td>I-XXII.Todas las causas</td>\n",
       "    </tr>\n",
       "    <tr>\n",
       "      <th>4</th>\n",
       "      <td>001-102  I-XXII.Todas las causas</td>\n",
       "      <td>Total</td>\n",
       "      <td>Todas las edades</td>\n",
       "      <td>2012</td>\n",
       "      <td>402950</td>\n",
       "      <td>001-102</td>\n",
       "      <td>Multiple causes</td>\n",
       "      <td>I-XXII.Todas las causas</td>\n",
       "    </tr>\n",
       "  </tbody>\n",
       "</table>\n",
       "</div>"
      ],
      "text/plain": [
       "                    Causa de muerte   Sexo              Edad  Periodo   Total  \\\n",
       "0  001-102  I-XXII.Todas las causas  Total  Todas las edades     2018  427721   \n",
       "1  001-102  I-XXII.Todas las causas  Total  Todas las edades     2017  424523   \n",
       "2  001-102  I-XXII.Todas las causas  Total  Todas las edades     2015  422568   \n",
       "3  001-102  I-XXII.Todas las causas  Total  Todas las edades     2016  410611   \n",
       "4  001-102  I-XXII.Todas las causas  Total  Todas las edades     2012  402950   \n",
       "\n",
       "  cause_code      cause_group               cause_name  \n",
       "0    001-102  Multiple causes  I-XXII.Todas las causas  \n",
       "1    001-102  Multiple causes  I-XXII.Todas las causas  \n",
       "2    001-102  Multiple causes  I-XXII.Todas las causas  \n",
       "3    001-102  Multiple causes  I-XXII.Todas las causas  \n",
       "4    001-102  Multiple causes  I-XXII.Todas las causas  "
      ]
     },
     "execution_count": 11,
     "metadata": {},
     "output_type": "execute_result"
    }
   ],
   "source": [
    "# Example 1\n",
    "\n",
    "dataset = mod.row_filter(deaths, 'Sexo', ['Total'])\n",
    "dataset = mod.row_filter(dataset, 'Edad', ['Todas las edades'])\n",
    "dataset.head()\n"
   ]
  },
  {
   "cell_type": "code",
   "execution_count": 12,
   "metadata": {},
   "outputs": [
    {
     "data": {
      "text/html": [
       "<div>\n",
       "<style scoped>\n",
       "    .dataframe tbody tr th:only-of-type {\n",
       "        vertical-align: middle;\n",
       "    }\n",
       "\n",
       "    .dataframe tbody tr th {\n",
       "        vertical-align: top;\n",
       "    }\n",
       "\n",
       "    .dataframe thead th {\n",
       "        text-align: right;\n",
       "    }\n",
       "</style>\n",
       "<table border=\"1\" class=\"dataframe\">\n",
       "  <thead>\n",
       "    <tr style=\"text-align: right;\">\n",
       "      <th></th>\n",
       "      <th>cause_code</th>\n",
       "      <th>Periodo</th>\n",
       "      <th>Total</th>\n",
       "    </tr>\n",
       "  </thead>\n",
       "  <tbody>\n",
       "    <tr>\n",
       "      <th>0</th>\n",
       "      <td>001-102</td>\n",
       "      <td>2018</td>\n",
       "      <td>1710884</td>\n",
       "    </tr>\n",
       "    <tr>\n",
       "      <th>1</th>\n",
       "      <td>001-102</td>\n",
       "      <td>2017</td>\n",
       "      <td>1698092</td>\n",
       "    </tr>\n",
       "    <tr>\n",
       "      <th>2</th>\n",
       "      <td>001-102</td>\n",
       "      <td>2015</td>\n",
       "      <td>1690272</td>\n",
       "    </tr>\n",
       "    <tr>\n",
       "      <th>3</th>\n",
       "      <td>001-102</td>\n",
       "      <td>2016</td>\n",
       "      <td>1642444</td>\n",
       "    </tr>\n",
       "    <tr>\n",
       "      <th>4</th>\n",
       "      <td>001-102</td>\n",
       "      <td>2012</td>\n",
       "      <td>1611800</td>\n",
       "    </tr>\n",
       "  </tbody>\n",
       "</table>\n",
       "</div>"
      ],
      "text/plain": [
       "  cause_code  Periodo    Total\n",
       "0    001-102     2018  1710884\n",
       "1    001-102     2017  1698092\n",
       "2    001-102     2015  1690272\n",
       "3    001-102     2016  1642444\n",
       "4    001-102     2012  1611800"
      ]
     },
     "execution_count": 12,
     "metadata": {},
     "output_type": "execute_result"
    }
   ],
   "source": [
    "# Example 2\n",
    "\n",
    "group = ['cause_code','Periodo']\n",
    "dataset = mod.groupby_sum(deaths, group)\n",
    "dataset.head()\n"
   ]
  },
  {
   "cell_type": "code",
   "execution_count": 13,
   "metadata": {},
   "outputs": [
    {
     "data": {
      "text/html": [
       "<div>\n",
       "<style scoped>\n",
       "    .dataframe tbody tr th:only-of-type {\n",
       "        vertical-align: middle;\n",
       "    }\n",
       "\n",
       "    .dataframe tbody tr th {\n",
       "        vertical-align: top;\n",
       "    }\n",
       "\n",
       "    .dataframe thead th {\n",
       "        text-align: right;\n",
       "    }\n",
       "</style>\n",
       "<table border=\"1\" class=\"dataframe\">\n",
       "  <thead>\n",
       "    <tr style=\"text-align: right;\">\n",
       "      <th>cause_code</th>\n",
       "      <th>Periodo</th>\n",
       "      <th>001</th>\n",
       "      <th>001-008</th>\n",
       "      <th>001-102</th>\n",
       "      <th>002</th>\n",
       "      <th>003</th>\n",
       "      <th>004</th>\n",
       "      <th>005</th>\n",
       "      <th>006</th>\n",
       "      <th>007</th>\n",
       "      <th>...</th>\n",
       "      <th>093</th>\n",
       "      <th>094</th>\n",
       "      <th>095</th>\n",
       "      <th>096</th>\n",
       "      <th>097</th>\n",
       "      <th>098</th>\n",
       "      <th>099</th>\n",
       "      <th>100</th>\n",
       "      <th>101</th>\n",
       "      <th>102</th>\n",
       "    </tr>\n",
       "  </thead>\n",
       "  <tbody>\n",
       "    <tr>\n",
       "      <th>0</th>\n",
       "      <td>1980</td>\n",
       "      <td>1620</td>\n",
       "      <td>15768</td>\n",
       "      <td>1157376</td>\n",
       "      <td>5904</td>\n",
       "      <td>2008</td>\n",
       "      <td>3448</td>\n",
       "      <td>436</td>\n",
       "      <td>0</td>\n",
       "      <td>0</td>\n",
       "      <td>...</td>\n",
       "      <td>4956</td>\n",
       "      <td>1432</td>\n",
       "      <td>184</td>\n",
       "      <td>692</td>\n",
       "      <td>16748</td>\n",
       "      <td>6608</td>\n",
       "      <td>1496</td>\n",
       "      <td>28</td>\n",
       "      <td>968</td>\n",
       "      <td>96</td>\n",
       "    </tr>\n",
       "    <tr>\n",
       "      <th>1</th>\n",
       "      <td>1981</td>\n",
       "      <td>1404</td>\n",
       "      <td>15124</td>\n",
       "      <td>1173544</td>\n",
       "      <td>6332</td>\n",
       "      <td>1656</td>\n",
       "      <td>3344</td>\n",
       "      <td>348</td>\n",
       "      <td>0</td>\n",
       "      <td>0</td>\n",
       "      <td>...</td>\n",
       "      <td>4700</td>\n",
       "      <td>1200</td>\n",
       "      <td>156</td>\n",
       "      <td>1396</td>\n",
       "      <td>17472</td>\n",
       "      <td>6872</td>\n",
       "      <td>1284</td>\n",
       "      <td>336</td>\n",
       "      <td>908</td>\n",
       "      <td>208</td>\n",
       "    </tr>\n",
       "    <tr>\n",
       "      <th>2</th>\n",
       "      <td>1982</td>\n",
       "      <td>1308</td>\n",
       "      <td>13488</td>\n",
       "      <td>1146620</td>\n",
       "      <td>5352</td>\n",
       "      <td>1240</td>\n",
       "      <td>3104</td>\n",
       "      <td>316</td>\n",
       "      <td>0</td>\n",
       "      <td>0</td>\n",
       "      <td>...</td>\n",
       "      <td>4864</td>\n",
       "      <td>956</td>\n",
       "      <td>200</td>\n",
       "      <td>1000</td>\n",
       "      <td>18616</td>\n",
       "      <td>7404</td>\n",
       "      <td>1228</td>\n",
       "      <td>440</td>\n",
       "      <td>1132</td>\n",
       "      <td>52</td>\n",
       "    </tr>\n",
       "    <tr>\n",
       "      <th>3</th>\n",
       "      <td>1983</td>\n",
       "      <td>1212</td>\n",
       "      <td>13100</td>\n",
       "      <td>1210276</td>\n",
       "      <td>5152</td>\n",
       "      <td>1072</td>\n",
       "      <td>3152</td>\n",
       "      <td>336</td>\n",
       "      <td>0</td>\n",
       "      <td>0</td>\n",
       "      <td>...</td>\n",
       "      <td>4788</td>\n",
       "      <td>1464</td>\n",
       "      <td>148</td>\n",
       "      <td>884</td>\n",
       "      <td>18392</td>\n",
       "      <td>8724</td>\n",
       "      <td>1560</td>\n",
       "      <td>1276</td>\n",
       "      <td>1500</td>\n",
       "      <td>56</td>\n",
       "    </tr>\n",
       "    <tr>\n",
       "      <th>4</th>\n",
       "      <td>1984</td>\n",
       "      <td>1228</td>\n",
       "      <td>12928</td>\n",
       "      <td>1197636</td>\n",
       "      <td>4564</td>\n",
       "      <td>964</td>\n",
       "      <td>3704</td>\n",
       "      <td>424</td>\n",
       "      <td>0</td>\n",
       "      <td>0</td>\n",
       "      <td>...</td>\n",
       "      <td>4716</td>\n",
       "      <td>1244</td>\n",
       "      <td>164</td>\n",
       "      <td>1020</td>\n",
       "      <td>14696</td>\n",
       "      <td>9972</td>\n",
       "      <td>1812</td>\n",
       "      <td>1144</td>\n",
       "      <td>1636</td>\n",
       "      <td>76</td>\n",
       "    </tr>\n",
       "  </tbody>\n",
       "</table>\n",
       "<p>5 rows × 118 columns</p>\n",
       "</div>"
      ],
      "text/plain": [
       "cause_code  Periodo   001  001-008  001-102   002   003   004  005  006  007  \\\n",
       "0              1980  1620    15768  1157376  5904  2008  3448  436    0    0   \n",
       "1              1981  1404    15124  1173544  6332  1656  3344  348    0    0   \n",
       "2              1982  1308    13488  1146620  5352  1240  3104  316    0    0   \n",
       "3              1983  1212    13100  1210276  5152  1072  3152  336    0    0   \n",
       "4              1984  1228    12928  1197636  4564   964  3704  424    0    0   \n",
       "\n",
       "cause_code  ...   093   094  095   096    097   098   099   100   101  102  \n",
       "0           ...  4956  1432  184   692  16748  6608  1496    28   968   96  \n",
       "1           ...  4700  1200  156  1396  17472  6872  1284   336   908  208  \n",
       "2           ...  4864   956  200  1000  18616  7404  1228   440  1132   52  \n",
       "3           ...  4788  1464  148   884  18392  8724  1560  1276  1500   56  \n",
       "4           ...  4716  1244  164  1020  14696  9972  1812  1144  1636   76  \n",
       "\n",
       "[5 rows x 118 columns]"
      ]
     },
     "execution_count": 13,
     "metadata": {},
     "output_type": "execute_result"
    }
   ],
   "source": [
    "# Example 3\n",
    "\n",
    "dataset = mod.pivot_table(dataset, 'cause_code', 'Periodo')\n",
    "dataset.head()\n"
   ]
  },
  {
   "cell_type": "markdown",
   "metadata": {},
   "source": [
    "## ...and finally, show me some insights with Plotly!!!"
   ]
  },
  {
   "cell_type": "code",
   "execution_count": null,
   "metadata": {},
   "outputs": [],
   "source": [
    "# And some space for free-style Pandas!!! (e.g.: df['column_name'].unique())\n",
    "\n",
    "\n"
   ]
  },
  {
   "cell_type": "code",
   "execution_count": 14,
   "metadata": {},
   "outputs": [
    {
     "name": "stdout",
     "output_type": "stream",
     "text": [
      "103\n",
      "52\n"
     ]
    },
    {
     "data": {
      "text/html": [
       "<div>\n",
       "<style scoped>\n",
       "    .dataframe tbody tr th:only-of-type {\n",
       "        vertical-align: middle;\n",
       "    }\n",
       "\n",
       "    .dataframe tbody tr th {\n",
       "        vertical-align: top;\n",
       "    }\n",
       "\n",
       "    .dataframe thead th {\n",
       "        text-align: right;\n",
       "    }\n",
       "</style>\n",
       "<table border=\"1\" class=\"dataframe\">\n",
       "  <thead>\n",
       "    <tr style=\"text-align: right;\">\n",
       "      <th></th>\n",
       "      <th>Periodo</th>\n",
       "      <th>Demo</th>\n",
       "    </tr>\n",
       "  </thead>\n",
       "  <tbody>\n",
       "    <tr>\n",
       "      <th>0</th>\n",
       "      <td>2022</td>\n",
       "      <td>47432805</td>\n",
       "    </tr>\n",
       "    <tr>\n",
       "      <th>2</th>\n",
       "      <td>2021</td>\n",
       "      <td>47398695</td>\n",
       "    </tr>\n",
       "    <tr>\n",
       "      <th>4</th>\n",
       "      <td>2020</td>\n",
       "      <td>47332614</td>\n",
       "    </tr>\n",
       "    <tr>\n",
       "      <th>6</th>\n",
       "      <td>2019</td>\n",
       "      <td>46937060</td>\n",
       "    </tr>\n",
       "    <tr>\n",
       "      <th>8</th>\n",
       "      <td>2018</td>\n",
       "      <td>46658447</td>\n",
       "    </tr>\n",
       "  </tbody>\n",
       "</table>\n",
       "</div>"
      ],
      "text/plain": [
       "   Periodo      Demo\n",
       "0     2022  47432805\n",
       "2     2021  47398695\n",
       "4     2020  47332614\n",
       "6     2019  46937060\n",
       "8     2018  46658447"
      ]
     },
     "execution_count": 14,
     "metadata": {},
     "output_type": "execute_result"
    }
   ],
   "source": [
    "# clean dataset population (year, population)\n",
    "population_year = population.loc[population['Periodo'].str.startswith('1 de enero de')]\n",
    "population_year['Periodo'] = population_year['Periodo'].str.replace('1 de enero de ', '')\n",
    "population_year['Periodo'] = pd.to_numeric(population_year['Periodo'])\n",
    "population_year = population_year.drop(['Sexo', 'Edad', 'Provincias'], axis=1)\n",
    "population_year = population_year.rename(columns={\"Total\": \"Demo\"})\n",
    "print(len(population))\n",
    "print(len(population_year))\n",
    "population_year.head()\n"
   ]
  },
  {
   "cell_type": "code",
   "execution_count": 15,
   "metadata": {},
   "outputs": [
    {
     "name": "stdout",
     "output_type": "stream",
     "text": [
      "301158\n",
      "3978\n"
     ]
    },
    {
     "data": {
      "text/html": [
       "<div>\n",
       "<style scoped>\n",
       "    .dataframe tbody tr th:only-of-type {\n",
       "        vertical-align: middle;\n",
       "    }\n",
       "\n",
       "    .dataframe tbody tr th {\n",
       "        vertical-align: top;\n",
       "    }\n",
       "\n",
       "    .dataframe thead th {\n",
       "        text-align: right;\n",
       "    }\n",
       "</style>\n",
       "<table border=\"1\" class=\"dataframe\">\n",
       "  <thead>\n",
       "    <tr style=\"text-align: right;\">\n",
       "      <th></th>\n",
       "      <th>Causa de muerte</th>\n",
       "      <th>Sexo</th>\n",
       "      <th>Edad</th>\n",
       "      <th>Periodo</th>\n",
       "      <th>Total</th>\n",
       "      <th>cause_code</th>\n",
       "      <th>cause_group</th>\n",
       "      <th>cause_name</th>\n",
       "    </tr>\n",
       "  </thead>\n",
       "  <tbody>\n",
       "    <tr>\n",
       "      <th>5148</th>\n",
       "      <td>001  Enfermedades infecciosas intestinales</td>\n",
       "      <td>Total</td>\n",
       "      <td>Todas las edades</td>\n",
       "      <td>2018</td>\n",
       "      <td>1037</td>\n",
       "      <td>001</td>\n",
       "      <td>Single cause</td>\n",
       "      <td>Enfermedades infecciosas intestinales</td>\n",
       "    </tr>\n",
       "    <tr>\n",
       "      <th>5149</th>\n",
       "      <td>001  Enfermedades infecciosas intestinales</td>\n",
       "      <td>Total</td>\n",
       "      <td>Todas las edades</td>\n",
       "      <td>2017</td>\n",
       "      <td>955</td>\n",
       "      <td>001</td>\n",
       "      <td>Single cause</td>\n",
       "      <td>Enfermedades infecciosas intestinales</td>\n",
       "    </tr>\n",
       "    <tr>\n",
       "      <th>5150</th>\n",
       "      <td>001  Enfermedades infecciosas intestinales</td>\n",
       "      <td>Total</td>\n",
       "      <td>Todas las edades</td>\n",
       "      <td>2016</td>\n",
       "      <td>946</td>\n",
       "      <td>001</td>\n",
       "      <td>Single cause</td>\n",
       "      <td>Enfermedades infecciosas intestinales</td>\n",
       "    </tr>\n",
       "    <tr>\n",
       "      <th>5151</th>\n",
       "      <td>001  Enfermedades infecciosas intestinales</td>\n",
       "      <td>Total</td>\n",
       "      <td>Todas las edades</td>\n",
       "      <td>2015</td>\n",
       "      <td>895</td>\n",
       "      <td>001</td>\n",
       "      <td>Single cause</td>\n",
       "      <td>Enfermedades infecciosas intestinales</td>\n",
       "    </tr>\n",
       "    <tr>\n",
       "      <th>5152</th>\n",
       "      <td>001  Enfermedades infecciosas intestinales</td>\n",
       "      <td>Total</td>\n",
       "      <td>Todas las edades</td>\n",
       "      <td>2014</td>\n",
       "      <td>753</td>\n",
       "      <td>001</td>\n",
       "      <td>Single cause</td>\n",
       "      <td>Enfermedades infecciosas intestinales</td>\n",
       "    </tr>\n",
       "  </tbody>\n",
       "</table>\n",
       "</div>"
      ],
      "text/plain": [
       "                                 Causa de muerte   Sexo              Edad  \\\n",
       "5148  001  Enfermedades infecciosas intestinales  Total  Todas las edades   \n",
       "5149  001  Enfermedades infecciosas intestinales  Total  Todas las edades   \n",
       "5150  001  Enfermedades infecciosas intestinales  Total  Todas las edades   \n",
       "5151  001  Enfermedades infecciosas intestinales  Total  Todas las edades   \n",
       "5152  001  Enfermedades infecciosas intestinales  Total  Todas las edades   \n",
       "\n",
       "      Periodo  Total cause_code   cause_group  \\\n",
       "5148     2018   1037        001  Single cause   \n",
       "5149     2017    955        001  Single cause   \n",
       "5150     2016    946        001  Single cause   \n",
       "5151     2015    895        001  Single cause   \n",
       "5152     2014    753        001  Single cause   \n",
       "\n",
       "                                 cause_name  \n",
       "5148  Enfermedades infecciosas intestinales  \n",
       "5149  Enfermedades infecciosas intestinales  \n",
       "5150  Enfermedades infecciosas intestinales  \n",
       "5151  Enfermedades infecciosas intestinales  \n",
       "5152  Enfermedades infecciosas intestinales  "
      ]
     },
     "execution_count": 15,
     "metadata": {},
     "output_type": "execute_result"
    }
   ],
   "source": [
    "# clean dataset deaths (all sex, all ages, every cause)\n",
    "deaths_tot = deaths[(deaths['Sexo'] == 'Total') & \n",
    "                    (deaths['Edad'] == 'Todas las edades') &\n",
    "                    (deaths['cause_group'] == 'Single cause')]\n",
    "print(len(deaths))\n",
    "print(len(deaths_tot))\n",
    "deaths_tot.head()\n"
   ]
  },
  {
   "cell_type": "code",
   "execution_count": 16,
   "metadata": {
    "scrolled": true
   },
   "outputs": [
    {
     "name": "stdout",
     "output_type": "stream",
     "text": [
      "<class 'pandas.core.frame.DataFrame'>\n",
      "Int64Index: 52 entries, 0 to 102\n",
      "Data columns (total 2 columns):\n",
      " #   Column   Non-Null Count  Dtype\n",
      "---  ------   --------------  -----\n",
      " 0   Periodo  52 non-null     int64\n",
      " 1   Demo     52 non-null     int64\n",
      "dtypes: int64(2)\n",
      "memory usage: 1.2 KB\n"
     ]
    }
   ],
   "source": [
    "population_year.info()"
   ]
  },
  {
   "cell_type": "code",
   "execution_count": 17,
   "metadata": {},
   "outputs": [
    {
     "name": "stdout",
     "output_type": "stream",
     "text": [
      "<class 'pandas.core.frame.DataFrame'>\n",
      "Int64Index: 3978 entries, 5148 to 298622\n",
      "Data columns (total 8 columns):\n",
      " #   Column           Non-Null Count  Dtype \n",
      "---  ------           --------------  ----- \n",
      " 0   Causa de muerte  3978 non-null   object\n",
      " 1   Sexo             3978 non-null   object\n",
      " 2   Edad             3978 non-null   object\n",
      " 3   Periodo          3978 non-null   int64 \n",
      " 4   Total            3978 non-null   int64 \n",
      " 5   cause_code       3978 non-null   object\n",
      " 6   cause_group      3978 non-null   object\n",
      " 7   cause_name       3978 non-null   object\n",
      "dtypes: int64(2), object(6)\n",
      "memory usage: 279.7+ KB\n"
     ]
    }
   ],
   "source": [
    "deaths_tot.info()"
   ]
  },
  {
   "cell_type": "code",
   "execution_count": 18,
   "metadata": {},
   "outputs": [
    {
     "data": {
      "text/html": [
       "<div>\n",
       "<style scoped>\n",
       "    .dataframe tbody tr th:only-of-type {\n",
       "        vertical-align: middle;\n",
       "    }\n",
       "\n",
       "    .dataframe tbody tr th {\n",
       "        vertical-align: top;\n",
       "    }\n",
       "\n",
       "    .dataframe thead th {\n",
       "        text-align: right;\n",
       "    }\n",
       "</style>\n",
       "<table border=\"1\" class=\"dataframe\">\n",
       "  <thead>\n",
       "    <tr style=\"text-align: right;\">\n",
       "      <th></th>\n",
       "      <th>Causa de muerte</th>\n",
       "      <th>Sexo</th>\n",
       "      <th>Edad</th>\n",
       "      <th>Periodo</th>\n",
       "      <th>Total</th>\n",
       "      <th>cause_code</th>\n",
       "      <th>cause_group</th>\n",
       "      <th>cause_name</th>\n",
       "      <th>Demo</th>\n",
       "      <th>Percent</th>\n",
       "      <th>PercentK</th>\n",
       "    </tr>\n",
       "  </thead>\n",
       "  <tbody>\n",
       "    <tr>\n",
       "      <th>0</th>\n",
       "      <td>001  Enfermedades infecciosas intestinales</td>\n",
       "      <td>Total</td>\n",
       "      <td>Todas las edades</td>\n",
       "      <td>2018</td>\n",
       "      <td>1037</td>\n",
       "      <td>001</td>\n",
       "      <td>Single cause</td>\n",
       "      <td>Enfermedades infecciosas intestinales</td>\n",
       "      <td>46658447</td>\n",
       "      <td>0.002223</td>\n",
       "      <td>222.253432</td>\n",
       "    </tr>\n",
       "    <tr>\n",
       "      <th>1</th>\n",
       "      <td>002  Tuberculosis y sus efectos tardíos</td>\n",
       "      <td>Total</td>\n",
       "      <td>Todas las edades</td>\n",
       "      <td>2018</td>\n",
       "      <td>249</td>\n",
       "      <td>002</td>\n",
       "      <td>Single cause</td>\n",
       "      <td>Tuberculosis y sus efectos tardíos</td>\n",
       "      <td>46658447</td>\n",
       "      <td>0.000534</td>\n",
       "      <td>53.366543</td>\n",
       "    </tr>\n",
       "    <tr>\n",
       "      <th>2</th>\n",
       "      <td>003  Enfermedad meningocócica</td>\n",
       "      <td>Total</td>\n",
       "      <td>Todas las edades</td>\n",
       "      <td>2018</td>\n",
       "      <td>15</td>\n",
       "      <td>003</td>\n",
       "      <td>Single cause</td>\n",
       "      <td>Enfermedad meningocócica</td>\n",
       "      <td>46658447</td>\n",
       "      <td>0.000032</td>\n",
       "      <td>3.214852</td>\n",
       "    </tr>\n",
       "    <tr>\n",
       "      <th>3</th>\n",
       "      <td>004  Septicemia</td>\n",
       "      <td>Total</td>\n",
       "      <td>Todas las edades</td>\n",
       "      <td>2018</td>\n",
       "      <td>3040</td>\n",
       "      <td>004</td>\n",
       "      <td>Single cause</td>\n",
       "      <td>Septicemia</td>\n",
       "      <td>46658447</td>\n",
       "      <td>0.006515</td>\n",
       "      <td>651.543331</td>\n",
       "    </tr>\n",
       "    <tr>\n",
       "      <th>4</th>\n",
       "      <td>005  Hepatitis vírica</td>\n",
       "      <td>Total</td>\n",
       "      <td>Todas las edades</td>\n",
       "      <td>2018</td>\n",
       "      <td>567</td>\n",
       "      <td>005</td>\n",
       "      <td>Single cause</td>\n",
       "      <td>Hepatitis vírica</td>\n",
       "      <td>46658447</td>\n",
       "      <td>0.001215</td>\n",
       "      <td>121.521404</td>\n",
       "    </tr>\n",
       "  </tbody>\n",
       "</table>\n",
       "</div>"
      ],
      "text/plain": [
       "                              Causa de muerte   Sexo              Edad  \\\n",
       "0  001  Enfermedades infecciosas intestinales  Total  Todas las edades   \n",
       "1     002  Tuberculosis y sus efectos tardíos  Total  Todas las edades   \n",
       "2               003  Enfermedad meningocócica  Total  Todas las edades   \n",
       "3                             004  Septicemia  Total  Todas las edades   \n",
       "4                       005  Hepatitis vírica  Total  Todas las edades   \n",
       "\n",
       "   Periodo  Total cause_code   cause_group  \\\n",
       "0     2018   1037        001  Single cause   \n",
       "1     2018    249        002  Single cause   \n",
       "2     2018     15        003  Single cause   \n",
       "3     2018   3040        004  Single cause   \n",
       "4     2018    567        005  Single cause   \n",
       "\n",
       "                              cause_name      Demo   Percent    PercentK  \n",
       "0  Enfermedades infecciosas intestinales  46658447  0.002223  222.253432  \n",
       "1     Tuberculosis y sus efectos tardíos  46658447  0.000534   53.366543  \n",
       "2               Enfermedad meningocócica  46658447  0.000032    3.214852  \n",
       "3                             Septicemia  46658447  0.006515  651.543331  \n",
       "4                       Hepatitis vírica  46658447  0.001215  121.521404  "
      ]
     },
     "execution_count": 18,
     "metadata": {},
     "output_type": "execute_result"
    }
   ],
   "source": [
    "# join datasets deaths and population and calculate percentage\n",
    "deaths_tot = deaths_tot.merge(population_year)\n",
    "deaths_tot['Percent'] = deaths_tot.apply(lambda x: x['Total'] * 100 / x['Demo'], axis=1)\n",
    "deaths_tot['PercentK'] = deaths_tot.apply(lambda x: x['Total'] * 100 / x['Demo'] * 100000, axis=1)\n",
    "deaths_tot.head()\n"
   ]
  },
  {
   "cell_type": "code",
   "execution_count": 19,
   "metadata": {
    "scrolled": true
   },
   "outputs": [
    {
     "name": "stdout",
     "output_type": "stream",
     "text": [
      "39\n"
     ]
    },
    {
     "data": {
      "text/html": [
       "<div>\n",
       "<style scoped>\n",
       "    .dataframe tbody tr th:only-of-type {\n",
       "        vertical-align: middle;\n",
       "    }\n",
       "\n",
       "    .dataframe tbody tr th {\n",
       "        vertical-align: top;\n",
       "    }\n",
       "\n",
       "    .dataframe thead th {\n",
       "        text-align: right;\n",
       "    }\n",
       "</style>\n",
       "<table border=\"1\" class=\"dataframe\">\n",
       "  <thead>\n",
       "    <tr style=\"text-align: right;\">\n",
       "      <th></th>\n",
       "      <th>Periodo</th>\n",
       "      <th>Total</th>\n",
       "      <th>Percent</th>\n",
       "      <th>PercentK</th>\n",
       "    </tr>\n",
       "  </thead>\n",
       "  <tbody>\n",
       "    <tr>\n",
       "      <th>0</th>\n",
       "      <td>1980</td>\n",
       "      <td>289344</td>\n",
       "      <td>0.774746</td>\n",
       "      <td>77474.620411</td>\n",
       "    </tr>\n",
       "    <tr>\n",
       "      <th>1</th>\n",
       "      <td>1981</td>\n",
       "      <td>293386</td>\n",
       "      <td>0.779548</td>\n",
       "      <td>77954.820661</td>\n",
       "    </tr>\n",
       "    <tr>\n",
       "      <th>2</th>\n",
       "      <td>1982</td>\n",
       "      <td>286655</td>\n",
       "      <td>0.756708</td>\n",
       "      <td>75670.756829</td>\n",
       "    </tr>\n",
       "    <tr>\n",
       "      <th>3</th>\n",
       "      <td>1983</td>\n",
       "      <td>302569</td>\n",
       "      <td>0.794350</td>\n",
       "      <td>79434.969948</td>\n",
       "    </tr>\n",
       "    <tr>\n",
       "      <th>4</th>\n",
       "      <td>1984</td>\n",
       "      <td>299409</td>\n",
       "      <td>0.782709</td>\n",
       "      <td>78270.930525</td>\n",
       "    </tr>\n",
       "  </tbody>\n",
       "</table>\n",
       "</div>"
      ],
      "text/plain": [
       "   Periodo   Total   Percent      PercentK\n",
       "0     1980  289344  0.774746  77474.620411\n",
       "1     1981  293386  0.779548  77954.820661\n",
       "2     1982  286655  0.756708  75670.756829\n",
       "3     1983  302569  0.794350  79434.969948\n",
       "4     1984  299409  0.782709  78270.930525"
      ]
     },
     "execution_count": 19,
     "metadata": {},
     "output_type": "execute_result"
    }
   ],
   "source": [
    "# Total deaths every year\n",
    "deaths_tot_year = deaths_tot.groupby(['Periodo'])[['Total', \n",
    "                                                   'Percent', \n",
    "                                                   'PercentK']].sum().reset_index()\n",
    "print(len(deaths_tot_year))\n",
    "deaths_tot_year.head()\n"
   ]
  },
  {
   "cell_type": "code",
   "execution_count": 20,
   "metadata": {
    "scrolled": true
   },
   "outputs": [
    {
     "data": {
      "application/vnd.plotly.v1+json": {
       "config": {
        "linkText": "Export to plot.ly",
        "plotlyServerURL": "https://plot.ly",
        "showLink": true
       },
       "data": [
        {
         "line": {
          "color": "rgba(255, 153, 51, 1.0)",
          "dash": "solid",
          "shape": "linear",
          "width": 1.3
         },
         "mode": "lines",
         "name": "Total",
         "text": "",
         "type": "scatter",
         "x": [
          1980,
          1981,
          1982,
          1983,
          1984,
          1985,
          1986,
          1987,
          1988,
          1989,
          1990,
          1991,
          1992,
          1993,
          1994,
          1995,
          1996,
          1997,
          1998,
          1999,
          2000,
          2001,
          2002,
          2003,
          2004,
          2005,
          2006,
          2007,
          2008,
          2009,
          2010,
          2011,
          2012,
          2013,
          2014,
          2015,
          2016,
          2017,
          2018
         ],
         "y": [
          289344,
          293386,
          286655,
          302569,
          299409,
          312532,
          310413,
          310073,
          319437,
          324796,
          333142,
          337691,
          331515,
          339661,
          338242,
          346227,
          351449,
          349521,
          360511,
          371102,
          360391,
          360131,
          368618,
          384828,
          371934,
          387355,
          371478,
          385361,
          386324,
          384933,
          382047,
          387911,
          402950,
          390419,
          395830,
          422568,
          410611,
          424523,
          427721
         ]
        }
       ],
       "layout": {
        "height": 300,
        "legend": {
         "bgcolor": "#F5F6F9",
         "font": {
          "color": "#4D5663"
         }
        },
        "paper_bgcolor": "#F5F6F9",
        "plot_bgcolor": "#F5F6F9",
        "template": {
         "data": {
          "bar": [
           {
            "error_x": {
             "color": "#2a3f5f"
            },
            "error_y": {
             "color": "#2a3f5f"
            },
            "marker": {
             "line": {
              "color": "#E5ECF6",
              "width": 0.5
             },
             "pattern": {
              "fillmode": "overlay",
              "size": 10,
              "solidity": 0.2
             }
            },
            "type": "bar"
           }
          ],
          "barpolar": [
           {
            "marker": {
             "line": {
              "color": "#E5ECF6",
              "width": 0.5
             },
             "pattern": {
              "fillmode": "overlay",
              "size": 10,
              "solidity": 0.2
             }
            },
            "type": "barpolar"
           }
          ],
          "carpet": [
           {
            "aaxis": {
             "endlinecolor": "#2a3f5f",
             "gridcolor": "white",
             "linecolor": "white",
             "minorgridcolor": "white",
             "startlinecolor": "#2a3f5f"
            },
            "baxis": {
             "endlinecolor": "#2a3f5f",
             "gridcolor": "white",
             "linecolor": "white",
             "minorgridcolor": "white",
             "startlinecolor": "#2a3f5f"
            },
            "type": "carpet"
           }
          ],
          "choropleth": [
           {
            "colorbar": {
             "outlinewidth": 0,
             "ticks": ""
            },
            "type": "choropleth"
           }
          ],
          "contour": [
           {
            "colorbar": {
             "outlinewidth": 0,
             "ticks": ""
            },
            "colorscale": [
             [
              0,
              "#0d0887"
             ],
             [
              0.1111111111111111,
              "#46039f"
             ],
             [
              0.2222222222222222,
              "#7201a8"
             ],
             [
              0.3333333333333333,
              "#9c179e"
             ],
             [
              0.4444444444444444,
              "#bd3786"
             ],
             [
              0.5555555555555556,
              "#d8576b"
             ],
             [
              0.6666666666666666,
              "#ed7953"
             ],
             [
              0.7777777777777778,
              "#fb9f3a"
             ],
             [
              0.8888888888888888,
              "#fdca26"
             ],
             [
              1,
              "#f0f921"
             ]
            ],
            "type": "contour"
           }
          ],
          "contourcarpet": [
           {
            "colorbar": {
             "outlinewidth": 0,
             "ticks": ""
            },
            "type": "contourcarpet"
           }
          ],
          "heatmap": [
           {
            "colorbar": {
             "outlinewidth": 0,
             "ticks": ""
            },
            "colorscale": [
             [
              0,
              "#0d0887"
             ],
             [
              0.1111111111111111,
              "#46039f"
             ],
             [
              0.2222222222222222,
              "#7201a8"
             ],
             [
              0.3333333333333333,
              "#9c179e"
             ],
             [
              0.4444444444444444,
              "#bd3786"
             ],
             [
              0.5555555555555556,
              "#d8576b"
             ],
             [
              0.6666666666666666,
              "#ed7953"
             ],
             [
              0.7777777777777778,
              "#fb9f3a"
             ],
             [
              0.8888888888888888,
              "#fdca26"
             ],
             [
              1,
              "#f0f921"
             ]
            ],
            "type": "heatmap"
           }
          ],
          "heatmapgl": [
           {
            "colorbar": {
             "outlinewidth": 0,
             "ticks": ""
            },
            "colorscale": [
             [
              0,
              "#0d0887"
             ],
             [
              0.1111111111111111,
              "#46039f"
             ],
             [
              0.2222222222222222,
              "#7201a8"
             ],
             [
              0.3333333333333333,
              "#9c179e"
             ],
             [
              0.4444444444444444,
              "#bd3786"
             ],
             [
              0.5555555555555556,
              "#d8576b"
             ],
             [
              0.6666666666666666,
              "#ed7953"
             ],
             [
              0.7777777777777778,
              "#fb9f3a"
             ],
             [
              0.8888888888888888,
              "#fdca26"
             ],
             [
              1,
              "#f0f921"
             ]
            ],
            "type": "heatmapgl"
           }
          ],
          "histogram": [
           {
            "marker": {
             "pattern": {
              "fillmode": "overlay",
              "size": 10,
              "solidity": 0.2
             }
            },
            "type": "histogram"
           }
          ],
          "histogram2d": [
           {
            "colorbar": {
             "outlinewidth": 0,
             "ticks": ""
            },
            "colorscale": [
             [
              0,
              "#0d0887"
             ],
             [
              0.1111111111111111,
              "#46039f"
             ],
             [
              0.2222222222222222,
              "#7201a8"
             ],
             [
              0.3333333333333333,
              "#9c179e"
             ],
             [
              0.4444444444444444,
              "#bd3786"
             ],
             [
              0.5555555555555556,
              "#d8576b"
             ],
             [
              0.6666666666666666,
              "#ed7953"
             ],
             [
              0.7777777777777778,
              "#fb9f3a"
             ],
             [
              0.8888888888888888,
              "#fdca26"
             ],
             [
              1,
              "#f0f921"
             ]
            ],
            "type": "histogram2d"
           }
          ],
          "histogram2dcontour": [
           {
            "colorbar": {
             "outlinewidth": 0,
             "ticks": ""
            },
            "colorscale": [
             [
              0,
              "#0d0887"
             ],
             [
              0.1111111111111111,
              "#46039f"
             ],
             [
              0.2222222222222222,
              "#7201a8"
             ],
             [
              0.3333333333333333,
              "#9c179e"
             ],
             [
              0.4444444444444444,
              "#bd3786"
             ],
             [
              0.5555555555555556,
              "#d8576b"
             ],
             [
              0.6666666666666666,
              "#ed7953"
             ],
             [
              0.7777777777777778,
              "#fb9f3a"
             ],
             [
              0.8888888888888888,
              "#fdca26"
             ],
             [
              1,
              "#f0f921"
             ]
            ],
            "type": "histogram2dcontour"
           }
          ],
          "mesh3d": [
           {
            "colorbar": {
             "outlinewidth": 0,
             "ticks": ""
            },
            "type": "mesh3d"
           }
          ],
          "parcoords": [
           {
            "line": {
             "colorbar": {
              "outlinewidth": 0,
              "ticks": ""
             }
            },
            "type": "parcoords"
           }
          ],
          "pie": [
           {
            "automargin": true,
            "type": "pie"
           }
          ],
          "scatter": [
           {
            "fillpattern": {
             "fillmode": "overlay",
             "size": 10,
             "solidity": 0.2
            },
            "type": "scatter"
           }
          ],
          "scatter3d": [
           {
            "line": {
             "colorbar": {
              "outlinewidth": 0,
              "ticks": ""
             }
            },
            "marker": {
             "colorbar": {
              "outlinewidth": 0,
              "ticks": ""
             }
            },
            "type": "scatter3d"
           }
          ],
          "scattercarpet": [
           {
            "marker": {
             "colorbar": {
              "outlinewidth": 0,
              "ticks": ""
             }
            },
            "type": "scattercarpet"
           }
          ],
          "scattergeo": [
           {
            "marker": {
             "colorbar": {
              "outlinewidth": 0,
              "ticks": ""
             }
            },
            "type": "scattergeo"
           }
          ],
          "scattergl": [
           {
            "marker": {
             "colorbar": {
              "outlinewidth": 0,
              "ticks": ""
             }
            },
            "type": "scattergl"
           }
          ],
          "scattermapbox": [
           {
            "marker": {
             "colorbar": {
              "outlinewidth": 0,
              "ticks": ""
             }
            },
            "type": "scattermapbox"
           }
          ],
          "scatterpolar": [
           {
            "marker": {
             "colorbar": {
              "outlinewidth": 0,
              "ticks": ""
             }
            },
            "type": "scatterpolar"
           }
          ],
          "scatterpolargl": [
           {
            "marker": {
             "colorbar": {
              "outlinewidth": 0,
              "ticks": ""
             }
            },
            "type": "scatterpolargl"
           }
          ],
          "scatterternary": [
           {
            "marker": {
             "colorbar": {
              "outlinewidth": 0,
              "ticks": ""
             }
            },
            "type": "scatterternary"
           }
          ],
          "surface": [
           {
            "colorbar": {
             "outlinewidth": 0,
             "ticks": ""
            },
            "colorscale": [
             [
              0,
              "#0d0887"
             ],
             [
              0.1111111111111111,
              "#46039f"
             ],
             [
              0.2222222222222222,
              "#7201a8"
             ],
             [
              0.3333333333333333,
              "#9c179e"
             ],
             [
              0.4444444444444444,
              "#bd3786"
             ],
             [
              0.5555555555555556,
              "#d8576b"
             ],
             [
              0.6666666666666666,
              "#ed7953"
             ],
             [
              0.7777777777777778,
              "#fb9f3a"
             ],
             [
              0.8888888888888888,
              "#fdca26"
             ],
             [
              1,
              "#f0f921"
             ]
            ],
            "type": "surface"
           }
          ],
          "table": [
           {
            "cells": {
             "fill": {
              "color": "#EBF0F8"
             },
             "line": {
              "color": "white"
             }
            },
            "header": {
             "fill": {
              "color": "#C8D4E3"
             },
             "line": {
              "color": "white"
             }
            },
            "type": "table"
           }
          ]
         },
         "layout": {
          "annotationdefaults": {
           "arrowcolor": "#2a3f5f",
           "arrowhead": 0,
           "arrowwidth": 1
          },
          "autotypenumbers": "strict",
          "coloraxis": {
           "colorbar": {
            "outlinewidth": 0,
            "ticks": ""
           }
          },
          "colorscale": {
           "diverging": [
            [
             0,
             "#8e0152"
            ],
            [
             0.1,
             "#c51b7d"
            ],
            [
             0.2,
             "#de77ae"
            ],
            [
             0.3,
             "#f1b6da"
            ],
            [
             0.4,
             "#fde0ef"
            ],
            [
             0.5,
             "#f7f7f7"
            ],
            [
             0.6,
             "#e6f5d0"
            ],
            [
             0.7,
             "#b8e186"
            ],
            [
             0.8,
             "#7fbc41"
            ],
            [
             0.9,
             "#4d9221"
            ],
            [
             1,
             "#276419"
            ]
           ],
           "sequential": [
            [
             0,
             "#0d0887"
            ],
            [
             0.1111111111111111,
             "#46039f"
            ],
            [
             0.2222222222222222,
             "#7201a8"
            ],
            [
             0.3333333333333333,
             "#9c179e"
            ],
            [
             0.4444444444444444,
             "#bd3786"
            ],
            [
             0.5555555555555556,
             "#d8576b"
            ],
            [
             0.6666666666666666,
             "#ed7953"
            ],
            [
             0.7777777777777778,
             "#fb9f3a"
            ],
            [
             0.8888888888888888,
             "#fdca26"
            ],
            [
             1,
             "#f0f921"
            ]
           ],
           "sequentialminus": [
            [
             0,
             "#0d0887"
            ],
            [
             0.1111111111111111,
             "#46039f"
            ],
            [
             0.2222222222222222,
             "#7201a8"
            ],
            [
             0.3333333333333333,
             "#9c179e"
            ],
            [
             0.4444444444444444,
             "#bd3786"
            ],
            [
             0.5555555555555556,
             "#d8576b"
            ],
            [
             0.6666666666666666,
             "#ed7953"
            ],
            [
             0.7777777777777778,
             "#fb9f3a"
            ],
            [
             0.8888888888888888,
             "#fdca26"
            ],
            [
             1,
             "#f0f921"
            ]
           ]
          },
          "colorway": [
           "#636efa",
           "#EF553B",
           "#00cc96",
           "#ab63fa",
           "#FFA15A",
           "#19d3f3",
           "#FF6692",
           "#B6E880",
           "#FF97FF",
           "#FECB52"
          ],
          "font": {
           "color": "#2a3f5f"
          },
          "geo": {
           "bgcolor": "white",
           "lakecolor": "white",
           "landcolor": "#E5ECF6",
           "showlakes": true,
           "showland": true,
           "subunitcolor": "white"
          },
          "hoverlabel": {
           "align": "left"
          },
          "hovermode": "closest",
          "mapbox": {
           "style": "light"
          },
          "paper_bgcolor": "white",
          "plot_bgcolor": "#E5ECF6",
          "polar": {
           "angularaxis": {
            "gridcolor": "white",
            "linecolor": "white",
            "ticks": ""
           },
           "bgcolor": "#E5ECF6",
           "radialaxis": {
            "gridcolor": "white",
            "linecolor": "white",
            "ticks": ""
           }
          },
          "scene": {
           "xaxis": {
            "backgroundcolor": "#E5ECF6",
            "gridcolor": "white",
            "gridwidth": 2,
            "linecolor": "white",
            "showbackground": true,
            "ticks": "",
            "zerolinecolor": "white"
           },
           "yaxis": {
            "backgroundcolor": "#E5ECF6",
            "gridcolor": "white",
            "gridwidth": 2,
            "linecolor": "white",
            "showbackground": true,
            "ticks": "",
            "zerolinecolor": "white"
           },
           "zaxis": {
            "backgroundcolor": "#E5ECF6",
            "gridcolor": "white",
            "gridwidth": 2,
            "linecolor": "white",
            "showbackground": true,
            "ticks": "",
            "zerolinecolor": "white"
           }
          },
          "shapedefaults": {
           "line": {
            "color": "#2a3f5f"
           }
          },
          "ternary": {
           "aaxis": {
            "gridcolor": "white",
            "linecolor": "white",
            "ticks": ""
           },
           "baxis": {
            "gridcolor": "white",
            "linecolor": "white",
            "ticks": ""
           },
           "bgcolor": "#E5ECF6",
           "caxis": {
            "gridcolor": "white",
            "linecolor": "white",
            "ticks": ""
           }
          },
          "title": {
           "x": 0.05
          },
          "xaxis": {
           "automargin": true,
           "gridcolor": "white",
           "linecolor": "white",
           "ticks": "",
           "title": {
            "standoff": 15
           },
           "zerolinecolor": "white",
           "zerolinewidth": 2
          },
          "yaxis": {
           "automargin": true,
           "gridcolor": "white",
           "linecolor": "white",
           "ticks": "",
           "title": {
            "standoff": 15
           },
           "zerolinecolor": "white",
           "zerolinewidth": 2
          }
         }
        },
        "title": {
         "font": {
          "color": "#4D5663"
         },
         "text": "Evolution deaths. Total"
        },
        "width": 900,
        "xaxis": {
         "gridcolor": "#E1E5ED",
         "showgrid": true,
         "tickfont": {
          "color": "#4D5663"
         },
         "title": {
          "font": {
           "color": "#4D5663"
          },
          "text": "Year"
         },
         "zerolinecolor": "#E1E5ED"
        },
        "yaxis": {
         "gridcolor": "#E1E5ED",
         "showgrid": true,
         "tickfont": {
          "color": "#4D5663"
         },
         "title": {
          "font": {
           "color": "#4D5663"
          },
          "text": "Total"
         },
         "zerolinecolor": "#E1E5ED"
        }
       }
      },
      "text/html": [
       "<div>                            <div id=\"9b3aeb87-ce5b-4395-85cd-7fad9225b5f7\" class=\"plotly-graph-div\" style=\"height:300px; width:900px;\"></div>            <script type=\"text/javascript\">                require([\"plotly\"], function(Plotly) {                    window.PLOTLYENV=window.PLOTLYENV || {};\n",
       "                    window.PLOTLYENV.BASE_URL='https://plot.ly';                                    if (document.getElementById(\"9b3aeb87-ce5b-4395-85cd-7fad9225b5f7\")) {                    Plotly.newPlot(                        \"9b3aeb87-ce5b-4395-85cd-7fad9225b5f7\",                        [{\"line\":{\"color\":\"rgba(255, 153, 51, 1.0)\",\"dash\":\"solid\",\"shape\":\"linear\",\"width\":1.3},\"mode\":\"lines\",\"name\":\"Total\",\"text\":\"\",\"x\":[1980,1981,1982,1983,1984,1985,1986,1987,1988,1989,1990,1991,1992,1993,1994,1995,1996,1997,1998,1999,2000,2001,2002,2003,2004,2005,2006,2007,2008,2009,2010,2011,2012,2013,2014,2015,2016,2017,2018],\"y\":[289344,293386,286655,302569,299409,312532,310413,310073,319437,324796,333142,337691,331515,339661,338242,346227,351449,349521,360511,371102,360391,360131,368618,384828,371934,387355,371478,385361,386324,384933,382047,387911,402950,390419,395830,422568,410611,424523,427721],\"type\":\"scatter\"}],                        {\"height\":300,\"legend\":{\"bgcolor\":\"#F5F6F9\",\"font\":{\"color\":\"#4D5663\"}},\"paper_bgcolor\":\"#F5F6F9\",\"plot_bgcolor\":\"#F5F6F9\",\"template\":{\"data\":{\"barpolar\":[{\"marker\":{\"line\":{\"color\":\"#E5ECF6\",\"width\":0.5},\"pattern\":{\"fillmode\":\"overlay\",\"size\":10,\"solidity\":0.2}},\"type\":\"barpolar\"}],\"bar\":[{\"error_x\":{\"color\":\"#2a3f5f\"},\"error_y\":{\"color\":\"#2a3f5f\"},\"marker\":{\"line\":{\"color\":\"#E5ECF6\",\"width\":0.5},\"pattern\":{\"fillmode\":\"overlay\",\"size\":10,\"solidity\":0.2}},\"type\":\"bar\"}],\"carpet\":[{\"aaxis\":{\"endlinecolor\":\"#2a3f5f\",\"gridcolor\":\"white\",\"linecolor\":\"white\",\"minorgridcolor\":\"white\",\"startlinecolor\":\"#2a3f5f\"},\"baxis\":{\"endlinecolor\":\"#2a3f5f\",\"gridcolor\":\"white\",\"linecolor\":\"white\",\"minorgridcolor\":\"white\",\"startlinecolor\":\"#2a3f5f\"},\"type\":\"carpet\"}],\"choropleth\":[{\"colorbar\":{\"outlinewidth\":0,\"ticks\":\"\"},\"type\":\"choropleth\"}],\"contourcarpet\":[{\"colorbar\":{\"outlinewidth\":0,\"ticks\":\"\"},\"type\":\"contourcarpet\"}],\"contour\":[{\"colorbar\":{\"outlinewidth\":0,\"ticks\":\"\"},\"colorscale\":[[0.0,\"#0d0887\"],[0.1111111111111111,\"#46039f\"],[0.2222222222222222,\"#7201a8\"],[0.3333333333333333,\"#9c179e\"],[0.4444444444444444,\"#bd3786\"],[0.5555555555555556,\"#d8576b\"],[0.6666666666666666,\"#ed7953\"],[0.7777777777777778,\"#fb9f3a\"],[0.8888888888888888,\"#fdca26\"],[1.0,\"#f0f921\"]],\"type\":\"contour\"}],\"heatmapgl\":[{\"colorbar\":{\"outlinewidth\":0,\"ticks\":\"\"},\"colorscale\":[[0.0,\"#0d0887\"],[0.1111111111111111,\"#46039f\"],[0.2222222222222222,\"#7201a8\"],[0.3333333333333333,\"#9c179e\"],[0.4444444444444444,\"#bd3786\"],[0.5555555555555556,\"#d8576b\"],[0.6666666666666666,\"#ed7953\"],[0.7777777777777778,\"#fb9f3a\"],[0.8888888888888888,\"#fdca26\"],[1.0,\"#f0f921\"]],\"type\":\"heatmapgl\"}],\"heatmap\":[{\"colorbar\":{\"outlinewidth\":0,\"ticks\":\"\"},\"colorscale\":[[0.0,\"#0d0887\"],[0.1111111111111111,\"#46039f\"],[0.2222222222222222,\"#7201a8\"],[0.3333333333333333,\"#9c179e\"],[0.4444444444444444,\"#bd3786\"],[0.5555555555555556,\"#d8576b\"],[0.6666666666666666,\"#ed7953\"],[0.7777777777777778,\"#fb9f3a\"],[0.8888888888888888,\"#fdca26\"],[1.0,\"#f0f921\"]],\"type\":\"heatmap\"}],\"histogram2dcontour\":[{\"colorbar\":{\"outlinewidth\":0,\"ticks\":\"\"},\"colorscale\":[[0.0,\"#0d0887\"],[0.1111111111111111,\"#46039f\"],[0.2222222222222222,\"#7201a8\"],[0.3333333333333333,\"#9c179e\"],[0.4444444444444444,\"#bd3786\"],[0.5555555555555556,\"#d8576b\"],[0.6666666666666666,\"#ed7953\"],[0.7777777777777778,\"#fb9f3a\"],[0.8888888888888888,\"#fdca26\"],[1.0,\"#f0f921\"]],\"type\":\"histogram2dcontour\"}],\"histogram2d\":[{\"colorbar\":{\"outlinewidth\":0,\"ticks\":\"\"},\"colorscale\":[[0.0,\"#0d0887\"],[0.1111111111111111,\"#46039f\"],[0.2222222222222222,\"#7201a8\"],[0.3333333333333333,\"#9c179e\"],[0.4444444444444444,\"#bd3786\"],[0.5555555555555556,\"#d8576b\"],[0.6666666666666666,\"#ed7953\"],[0.7777777777777778,\"#fb9f3a\"],[0.8888888888888888,\"#fdca26\"],[1.0,\"#f0f921\"]],\"type\":\"histogram2d\"}],\"histogram\":[{\"marker\":{\"pattern\":{\"fillmode\":\"overlay\",\"size\":10,\"solidity\":0.2}},\"type\":\"histogram\"}],\"mesh3d\":[{\"colorbar\":{\"outlinewidth\":0,\"ticks\":\"\"},\"type\":\"mesh3d\"}],\"parcoords\":[{\"line\":{\"colorbar\":{\"outlinewidth\":0,\"ticks\":\"\"}},\"type\":\"parcoords\"}],\"pie\":[{\"automargin\":true,\"type\":\"pie\"}],\"scatter3d\":[{\"line\":{\"colorbar\":{\"outlinewidth\":0,\"ticks\":\"\"}},\"marker\":{\"colorbar\":{\"outlinewidth\":0,\"ticks\":\"\"}},\"type\":\"scatter3d\"}],\"scattercarpet\":[{\"marker\":{\"colorbar\":{\"outlinewidth\":0,\"ticks\":\"\"}},\"type\":\"scattercarpet\"}],\"scattergeo\":[{\"marker\":{\"colorbar\":{\"outlinewidth\":0,\"ticks\":\"\"}},\"type\":\"scattergeo\"}],\"scattergl\":[{\"marker\":{\"colorbar\":{\"outlinewidth\":0,\"ticks\":\"\"}},\"type\":\"scattergl\"}],\"scattermapbox\":[{\"marker\":{\"colorbar\":{\"outlinewidth\":0,\"ticks\":\"\"}},\"type\":\"scattermapbox\"}],\"scatterpolargl\":[{\"marker\":{\"colorbar\":{\"outlinewidth\":0,\"ticks\":\"\"}},\"type\":\"scatterpolargl\"}],\"scatterpolar\":[{\"marker\":{\"colorbar\":{\"outlinewidth\":0,\"ticks\":\"\"}},\"type\":\"scatterpolar\"}],\"scatter\":[{\"fillpattern\":{\"fillmode\":\"overlay\",\"size\":10,\"solidity\":0.2},\"type\":\"scatter\"}],\"scatterternary\":[{\"marker\":{\"colorbar\":{\"outlinewidth\":0,\"ticks\":\"\"}},\"type\":\"scatterternary\"}],\"surface\":[{\"colorbar\":{\"outlinewidth\":0,\"ticks\":\"\"},\"colorscale\":[[0.0,\"#0d0887\"],[0.1111111111111111,\"#46039f\"],[0.2222222222222222,\"#7201a8\"],[0.3333333333333333,\"#9c179e\"],[0.4444444444444444,\"#bd3786\"],[0.5555555555555556,\"#d8576b\"],[0.6666666666666666,\"#ed7953\"],[0.7777777777777778,\"#fb9f3a\"],[0.8888888888888888,\"#fdca26\"],[1.0,\"#f0f921\"]],\"type\":\"surface\"}],\"table\":[{\"cells\":{\"fill\":{\"color\":\"#EBF0F8\"},\"line\":{\"color\":\"white\"}},\"header\":{\"fill\":{\"color\":\"#C8D4E3\"},\"line\":{\"color\":\"white\"}},\"type\":\"table\"}]},\"layout\":{\"annotationdefaults\":{\"arrowcolor\":\"#2a3f5f\",\"arrowhead\":0,\"arrowwidth\":1},\"autotypenumbers\":\"strict\",\"coloraxis\":{\"colorbar\":{\"outlinewidth\":0,\"ticks\":\"\"}},\"colorscale\":{\"diverging\":[[0,\"#8e0152\"],[0.1,\"#c51b7d\"],[0.2,\"#de77ae\"],[0.3,\"#f1b6da\"],[0.4,\"#fde0ef\"],[0.5,\"#f7f7f7\"],[0.6,\"#e6f5d0\"],[0.7,\"#b8e186\"],[0.8,\"#7fbc41\"],[0.9,\"#4d9221\"],[1,\"#276419\"]],\"sequential\":[[0.0,\"#0d0887\"],[0.1111111111111111,\"#46039f\"],[0.2222222222222222,\"#7201a8\"],[0.3333333333333333,\"#9c179e\"],[0.4444444444444444,\"#bd3786\"],[0.5555555555555556,\"#d8576b\"],[0.6666666666666666,\"#ed7953\"],[0.7777777777777778,\"#fb9f3a\"],[0.8888888888888888,\"#fdca26\"],[1.0,\"#f0f921\"]],\"sequentialminus\":[[0.0,\"#0d0887\"],[0.1111111111111111,\"#46039f\"],[0.2222222222222222,\"#7201a8\"],[0.3333333333333333,\"#9c179e\"],[0.4444444444444444,\"#bd3786\"],[0.5555555555555556,\"#d8576b\"],[0.6666666666666666,\"#ed7953\"],[0.7777777777777778,\"#fb9f3a\"],[0.8888888888888888,\"#fdca26\"],[1.0,\"#f0f921\"]]},\"colorway\":[\"#636efa\",\"#EF553B\",\"#00cc96\",\"#ab63fa\",\"#FFA15A\",\"#19d3f3\",\"#FF6692\",\"#B6E880\",\"#FF97FF\",\"#FECB52\"],\"font\":{\"color\":\"#2a3f5f\"},\"geo\":{\"bgcolor\":\"white\",\"lakecolor\":\"white\",\"landcolor\":\"#E5ECF6\",\"showlakes\":true,\"showland\":true,\"subunitcolor\":\"white\"},\"hoverlabel\":{\"align\":\"left\"},\"hovermode\":\"closest\",\"mapbox\":{\"style\":\"light\"},\"paper_bgcolor\":\"white\",\"plot_bgcolor\":\"#E5ECF6\",\"polar\":{\"angularaxis\":{\"gridcolor\":\"white\",\"linecolor\":\"white\",\"ticks\":\"\"},\"bgcolor\":\"#E5ECF6\",\"radialaxis\":{\"gridcolor\":\"white\",\"linecolor\":\"white\",\"ticks\":\"\"}},\"scene\":{\"xaxis\":{\"backgroundcolor\":\"#E5ECF6\",\"gridcolor\":\"white\",\"gridwidth\":2,\"linecolor\":\"white\",\"showbackground\":true,\"ticks\":\"\",\"zerolinecolor\":\"white\"},\"yaxis\":{\"backgroundcolor\":\"#E5ECF6\",\"gridcolor\":\"white\",\"gridwidth\":2,\"linecolor\":\"white\",\"showbackground\":true,\"ticks\":\"\",\"zerolinecolor\":\"white\"},\"zaxis\":{\"backgroundcolor\":\"#E5ECF6\",\"gridcolor\":\"white\",\"gridwidth\":2,\"linecolor\":\"white\",\"showbackground\":true,\"ticks\":\"\",\"zerolinecolor\":\"white\"}},\"shapedefaults\":{\"line\":{\"color\":\"#2a3f5f\"}},\"ternary\":{\"aaxis\":{\"gridcolor\":\"white\",\"linecolor\":\"white\",\"ticks\":\"\"},\"baxis\":{\"gridcolor\":\"white\",\"linecolor\":\"white\",\"ticks\":\"\"},\"bgcolor\":\"#E5ECF6\",\"caxis\":{\"gridcolor\":\"white\",\"linecolor\":\"white\",\"ticks\":\"\"}},\"title\":{\"x\":0.05},\"xaxis\":{\"automargin\":true,\"gridcolor\":\"white\",\"linecolor\":\"white\",\"ticks\":\"\",\"title\":{\"standoff\":15},\"zerolinecolor\":\"white\",\"zerolinewidth\":2},\"yaxis\":{\"automargin\":true,\"gridcolor\":\"white\",\"linecolor\":\"white\",\"ticks\":\"\",\"title\":{\"standoff\":15},\"zerolinecolor\":\"white\",\"zerolinewidth\":2}}},\"title\":{\"font\":{\"color\":\"#4D5663\"},\"text\":\"Evolution deaths. Total\"},\"width\":900,\"xaxis\":{\"gridcolor\":\"#E1E5ED\",\"showgrid\":true,\"tickfont\":{\"color\":\"#4D5663\"},\"title\":{\"font\":{\"color\":\"#4D5663\"},\"text\":\"Year\"},\"zerolinecolor\":\"#E1E5ED\"},\"yaxis\":{\"gridcolor\":\"#E1E5ED\",\"showgrid\":true,\"tickfont\":{\"color\":\"#4D5663\"},\"title\":{\"font\":{\"color\":\"#4D5663\"},\"text\":\"Total\"},\"zerolinecolor\":\"#E1E5ED\"}},                        {\"showLink\": true, \"linkText\": \"Export to plot.ly\", \"plotlyServerURL\": \"https://plot.ly\", \"responsive\": true}                    ).then(function(){\n",
       "                            \n",
       "var gd = document.getElementById('9b3aeb87-ce5b-4395-85cd-7fad9225b5f7');\n",
       "var x = new MutationObserver(function (mutations, observer) {{\n",
       "        var display = window.getComputedStyle(gd).display;\n",
       "        if (!display || display === 'none') {{\n",
       "            console.log([gd, 'removed!']);\n",
       "            Plotly.purge(gd);\n",
       "            observer.disconnect();\n",
       "        }}\n",
       "}});\n",
       "\n",
       "// Listen for the removal of the full notebook cells\n",
       "var notebookContainer = gd.closest('#notebook-container');\n",
       "if (notebookContainer) {{\n",
       "    x.observe(notebookContainer, {childList: true});\n",
       "}}\n",
       "\n",
       "// Listen for the clearing of the current output cell\n",
       "var outputEl = gd.closest('.output');\n",
       "if (outputEl) {{\n",
       "    x.observe(outputEl, {childList: true});\n",
       "}}\n",
       "\n",
       "                        })                };                });            </script>        </div>"
      ]
     },
     "metadata": {},
     "output_type": "display_data"
    }
   ],
   "source": [
    "# Graph total deaths\n",
    "deaths_tot_year.iplot(kind='line',\n",
    "                      x='Periodo',\n",
    "                      y='Total',\n",
    "                      xTitle='Year',\n",
    "                      yTitle='Total',\n",
    "                      title='Evolution deaths. Total',\n",
    "                      dimensions =(900,300))\n"
   ]
  },
  {
   "cell_type": "code",
   "execution_count": 21,
   "metadata": {},
   "outputs": [
    {
     "data": {
      "application/vnd.plotly.v1+json": {
       "config": {
        "linkText": "Export to plot.ly",
        "plotlyServerURL": "https://plot.ly",
        "showLink": true
       },
       "data": [
        {
         "line": {
          "color": "rgba(255, 153, 51, 1.0)",
          "dash": "solid",
          "shape": "linear",
          "width": 1.3
         },
         "mode": "lines",
         "name": "Percent",
         "text": "",
         "type": "scatter",
         "x": [
          1980,
          1981,
          1982,
          1983,
          1984,
          1985,
          1986,
          1987,
          1988,
          1989,
          1990,
          1991,
          1992,
          1993,
          1994,
          1995,
          1996,
          1997,
          1998,
          1999,
          2000,
          2001,
          2002,
          2003,
          2004,
          2005,
          2006,
          2007,
          2008,
          2009,
          2010,
          2011,
          2012,
          2013,
          2014,
          2015,
          2016,
          2017,
          2018
         ],
         "y": [
          0.7747462041066818,
          0.779548206609476,
          0.7567075682873442,
          0.7943496994800572,
          0.7827093052476886,
          0.8137195153623497,
          0.8056147752489898,
          0.802506813749306,
          0.824745637784239,
          0.8370534736342948,
          0.8574371441527882,
          0.868515179591196,
          0.8489210202693194,
          0.8650690349341079,
          0.8572097122117373,
          0.8734343925586165,
          0.8828519346205902,
          0.8744292690393157,
          0.8980568660156729,
          0.920767114216786,
          0.890509956194415,
          0.8855924591690583,
          0.8982955175317351,
          0.9200284709923793,
          0.8741627642396652,
          0.8946600214544719,
          0.844076940840381,
          0.8604754587949414,
          0.8459228896454741,
          0.8324806850869253,
          0.8218429126092,
          0.8312288026862564,
          0.8606692745404908,
          0.8355160055375922,
          0.8510240507011935,
          0.9097351073147832,
          0.8841733950653292,
          0.9124221294202711,
          0.9167064647479587
         ]
        }
       ],
       "layout": {
        "height": 300,
        "legend": {
         "bgcolor": "#F5F6F9",
         "font": {
          "color": "#4D5663"
         }
        },
        "paper_bgcolor": "#F5F6F9",
        "plot_bgcolor": "#F5F6F9",
        "template": {
         "data": {
          "bar": [
           {
            "error_x": {
             "color": "#2a3f5f"
            },
            "error_y": {
             "color": "#2a3f5f"
            },
            "marker": {
             "line": {
              "color": "#E5ECF6",
              "width": 0.5
             },
             "pattern": {
              "fillmode": "overlay",
              "size": 10,
              "solidity": 0.2
             }
            },
            "type": "bar"
           }
          ],
          "barpolar": [
           {
            "marker": {
             "line": {
              "color": "#E5ECF6",
              "width": 0.5
             },
             "pattern": {
              "fillmode": "overlay",
              "size": 10,
              "solidity": 0.2
             }
            },
            "type": "barpolar"
           }
          ],
          "carpet": [
           {
            "aaxis": {
             "endlinecolor": "#2a3f5f",
             "gridcolor": "white",
             "linecolor": "white",
             "minorgridcolor": "white",
             "startlinecolor": "#2a3f5f"
            },
            "baxis": {
             "endlinecolor": "#2a3f5f",
             "gridcolor": "white",
             "linecolor": "white",
             "minorgridcolor": "white",
             "startlinecolor": "#2a3f5f"
            },
            "type": "carpet"
           }
          ],
          "choropleth": [
           {
            "colorbar": {
             "outlinewidth": 0,
             "ticks": ""
            },
            "type": "choropleth"
           }
          ],
          "contour": [
           {
            "colorbar": {
             "outlinewidth": 0,
             "ticks": ""
            },
            "colorscale": [
             [
              0,
              "#0d0887"
             ],
             [
              0.1111111111111111,
              "#46039f"
             ],
             [
              0.2222222222222222,
              "#7201a8"
             ],
             [
              0.3333333333333333,
              "#9c179e"
             ],
             [
              0.4444444444444444,
              "#bd3786"
             ],
             [
              0.5555555555555556,
              "#d8576b"
             ],
             [
              0.6666666666666666,
              "#ed7953"
             ],
             [
              0.7777777777777778,
              "#fb9f3a"
             ],
             [
              0.8888888888888888,
              "#fdca26"
             ],
             [
              1,
              "#f0f921"
             ]
            ],
            "type": "contour"
           }
          ],
          "contourcarpet": [
           {
            "colorbar": {
             "outlinewidth": 0,
             "ticks": ""
            },
            "type": "contourcarpet"
           }
          ],
          "heatmap": [
           {
            "colorbar": {
             "outlinewidth": 0,
             "ticks": ""
            },
            "colorscale": [
             [
              0,
              "#0d0887"
             ],
             [
              0.1111111111111111,
              "#46039f"
             ],
             [
              0.2222222222222222,
              "#7201a8"
             ],
             [
              0.3333333333333333,
              "#9c179e"
             ],
             [
              0.4444444444444444,
              "#bd3786"
             ],
             [
              0.5555555555555556,
              "#d8576b"
             ],
             [
              0.6666666666666666,
              "#ed7953"
             ],
             [
              0.7777777777777778,
              "#fb9f3a"
             ],
             [
              0.8888888888888888,
              "#fdca26"
             ],
             [
              1,
              "#f0f921"
             ]
            ],
            "type": "heatmap"
           }
          ],
          "heatmapgl": [
           {
            "colorbar": {
             "outlinewidth": 0,
             "ticks": ""
            },
            "colorscale": [
             [
              0,
              "#0d0887"
             ],
             [
              0.1111111111111111,
              "#46039f"
             ],
             [
              0.2222222222222222,
              "#7201a8"
             ],
             [
              0.3333333333333333,
              "#9c179e"
             ],
             [
              0.4444444444444444,
              "#bd3786"
             ],
             [
              0.5555555555555556,
              "#d8576b"
             ],
             [
              0.6666666666666666,
              "#ed7953"
             ],
             [
              0.7777777777777778,
              "#fb9f3a"
             ],
             [
              0.8888888888888888,
              "#fdca26"
             ],
             [
              1,
              "#f0f921"
             ]
            ],
            "type": "heatmapgl"
           }
          ],
          "histogram": [
           {
            "marker": {
             "pattern": {
              "fillmode": "overlay",
              "size": 10,
              "solidity": 0.2
             }
            },
            "type": "histogram"
           }
          ],
          "histogram2d": [
           {
            "colorbar": {
             "outlinewidth": 0,
             "ticks": ""
            },
            "colorscale": [
             [
              0,
              "#0d0887"
             ],
             [
              0.1111111111111111,
              "#46039f"
             ],
             [
              0.2222222222222222,
              "#7201a8"
             ],
             [
              0.3333333333333333,
              "#9c179e"
             ],
             [
              0.4444444444444444,
              "#bd3786"
             ],
             [
              0.5555555555555556,
              "#d8576b"
             ],
             [
              0.6666666666666666,
              "#ed7953"
             ],
             [
              0.7777777777777778,
              "#fb9f3a"
             ],
             [
              0.8888888888888888,
              "#fdca26"
             ],
             [
              1,
              "#f0f921"
             ]
            ],
            "type": "histogram2d"
           }
          ],
          "histogram2dcontour": [
           {
            "colorbar": {
             "outlinewidth": 0,
             "ticks": ""
            },
            "colorscale": [
             [
              0,
              "#0d0887"
             ],
             [
              0.1111111111111111,
              "#46039f"
             ],
             [
              0.2222222222222222,
              "#7201a8"
             ],
             [
              0.3333333333333333,
              "#9c179e"
             ],
             [
              0.4444444444444444,
              "#bd3786"
             ],
             [
              0.5555555555555556,
              "#d8576b"
             ],
             [
              0.6666666666666666,
              "#ed7953"
             ],
             [
              0.7777777777777778,
              "#fb9f3a"
             ],
             [
              0.8888888888888888,
              "#fdca26"
             ],
             [
              1,
              "#f0f921"
             ]
            ],
            "type": "histogram2dcontour"
           }
          ],
          "mesh3d": [
           {
            "colorbar": {
             "outlinewidth": 0,
             "ticks": ""
            },
            "type": "mesh3d"
           }
          ],
          "parcoords": [
           {
            "line": {
             "colorbar": {
              "outlinewidth": 0,
              "ticks": ""
             }
            },
            "type": "parcoords"
           }
          ],
          "pie": [
           {
            "automargin": true,
            "type": "pie"
           }
          ],
          "scatter": [
           {
            "fillpattern": {
             "fillmode": "overlay",
             "size": 10,
             "solidity": 0.2
            },
            "type": "scatter"
           }
          ],
          "scatter3d": [
           {
            "line": {
             "colorbar": {
              "outlinewidth": 0,
              "ticks": ""
             }
            },
            "marker": {
             "colorbar": {
              "outlinewidth": 0,
              "ticks": ""
             }
            },
            "type": "scatter3d"
           }
          ],
          "scattercarpet": [
           {
            "marker": {
             "colorbar": {
              "outlinewidth": 0,
              "ticks": ""
             }
            },
            "type": "scattercarpet"
           }
          ],
          "scattergeo": [
           {
            "marker": {
             "colorbar": {
              "outlinewidth": 0,
              "ticks": ""
             }
            },
            "type": "scattergeo"
           }
          ],
          "scattergl": [
           {
            "marker": {
             "colorbar": {
              "outlinewidth": 0,
              "ticks": ""
             }
            },
            "type": "scattergl"
           }
          ],
          "scattermapbox": [
           {
            "marker": {
             "colorbar": {
              "outlinewidth": 0,
              "ticks": ""
             }
            },
            "type": "scattermapbox"
           }
          ],
          "scatterpolar": [
           {
            "marker": {
             "colorbar": {
              "outlinewidth": 0,
              "ticks": ""
             }
            },
            "type": "scatterpolar"
           }
          ],
          "scatterpolargl": [
           {
            "marker": {
             "colorbar": {
              "outlinewidth": 0,
              "ticks": ""
             }
            },
            "type": "scatterpolargl"
           }
          ],
          "scatterternary": [
           {
            "marker": {
             "colorbar": {
              "outlinewidth": 0,
              "ticks": ""
             }
            },
            "type": "scatterternary"
           }
          ],
          "surface": [
           {
            "colorbar": {
             "outlinewidth": 0,
             "ticks": ""
            },
            "colorscale": [
             [
              0,
              "#0d0887"
             ],
             [
              0.1111111111111111,
              "#46039f"
             ],
             [
              0.2222222222222222,
              "#7201a8"
             ],
             [
              0.3333333333333333,
              "#9c179e"
             ],
             [
              0.4444444444444444,
              "#bd3786"
             ],
             [
              0.5555555555555556,
              "#d8576b"
             ],
             [
              0.6666666666666666,
              "#ed7953"
             ],
             [
              0.7777777777777778,
              "#fb9f3a"
             ],
             [
              0.8888888888888888,
              "#fdca26"
             ],
             [
              1,
              "#f0f921"
             ]
            ],
            "type": "surface"
           }
          ],
          "table": [
           {
            "cells": {
             "fill": {
              "color": "#EBF0F8"
             },
             "line": {
              "color": "white"
             }
            },
            "header": {
             "fill": {
              "color": "#C8D4E3"
             },
             "line": {
              "color": "white"
             }
            },
            "type": "table"
           }
          ]
         },
         "layout": {
          "annotationdefaults": {
           "arrowcolor": "#2a3f5f",
           "arrowhead": 0,
           "arrowwidth": 1
          },
          "autotypenumbers": "strict",
          "coloraxis": {
           "colorbar": {
            "outlinewidth": 0,
            "ticks": ""
           }
          },
          "colorscale": {
           "diverging": [
            [
             0,
             "#8e0152"
            ],
            [
             0.1,
             "#c51b7d"
            ],
            [
             0.2,
             "#de77ae"
            ],
            [
             0.3,
             "#f1b6da"
            ],
            [
             0.4,
             "#fde0ef"
            ],
            [
             0.5,
             "#f7f7f7"
            ],
            [
             0.6,
             "#e6f5d0"
            ],
            [
             0.7,
             "#b8e186"
            ],
            [
             0.8,
             "#7fbc41"
            ],
            [
             0.9,
             "#4d9221"
            ],
            [
             1,
             "#276419"
            ]
           ],
           "sequential": [
            [
             0,
             "#0d0887"
            ],
            [
             0.1111111111111111,
             "#46039f"
            ],
            [
             0.2222222222222222,
             "#7201a8"
            ],
            [
             0.3333333333333333,
             "#9c179e"
            ],
            [
             0.4444444444444444,
             "#bd3786"
            ],
            [
             0.5555555555555556,
             "#d8576b"
            ],
            [
             0.6666666666666666,
             "#ed7953"
            ],
            [
             0.7777777777777778,
             "#fb9f3a"
            ],
            [
             0.8888888888888888,
             "#fdca26"
            ],
            [
             1,
             "#f0f921"
            ]
           ],
           "sequentialminus": [
            [
             0,
             "#0d0887"
            ],
            [
             0.1111111111111111,
             "#46039f"
            ],
            [
             0.2222222222222222,
             "#7201a8"
            ],
            [
             0.3333333333333333,
             "#9c179e"
            ],
            [
             0.4444444444444444,
             "#bd3786"
            ],
            [
             0.5555555555555556,
             "#d8576b"
            ],
            [
             0.6666666666666666,
             "#ed7953"
            ],
            [
             0.7777777777777778,
             "#fb9f3a"
            ],
            [
             0.8888888888888888,
             "#fdca26"
            ],
            [
             1,
             "#f0f921"
            ]
           ]
          },
          "colorway": [
           "#636efa",
           "#EF553B",
           "#00cc96",
           "#ab63fa",
           "#FFA15A",
           "#19d3f3",
           "#FF6692",
           "#B6E880",
           "#FF97FF",
           "#FECB52"
          ],
          "font": {
           "color": "#2a3f5f"
          },
          "geo": {
           "bgcolor": "white",
           "lakecolor": "white",
           "landcolor": "#E5ECF6",
           "showlakes": true,
           "showland": true,
           "subunitcolor": "white"
          },
          "hoverlabel": {
           "align": "left"
          },
          "hovermode": "closest",
          "mapbox": {
           "style": "light"
          },
          "paper_bgcolor": "white",
          "plot_bgcolor": "#E5ECF6",
          "polar": {
           "angularaxis": {
            "gridcolor": "white",
            "linecolor": "white",
            "ticks": ""
           },
           "bgcolor": "#E5ECF6",
           "radialaxis": {
            "gridcolor": "white",
            "linecolor": "white",
            "ticks": ""
           }
          },
          "scene": {
           "xaxis": {
            "backgroundcolor": "#E5ECF6",
            "gridcolor": "white",
            "gridwidth": 2,
            "linecolor": "white",
            "showbackground": true,
            "ticks": "",
            "zerolinecolor": "white"
           },
           "yaxis": {
            "backgroundcolor": "#E5ECF6",
            "gridcolor": "white",
            "gridwidth": 2,
            "linecolor": "white",
            "showbackground": true,
            "ticks": "",
            "zerolinecolor": "white"
           },
           "zaxis": {
            "backgroundcolor": "#E5ECF6",
            "gridcolor": "white",
            "gridwidth": 2,
            "linecolor": "white",
            "showbackground": true,
            "ticks": "",
            "zerolinecolor": "white"
           }
          },
          "shapedefaults": {
           "line": {
            "color": "#2a3f5f"
           }
          },
          "ternary": {
           "aaxis": {
            "gridcolor": "white",
            "linecolor": "white",
            "ticks": ""
           },
           "baxis": {
            "gridcolor": "white",
            "linecolor": "white",
            "ticks": ""
           },
           "bgcolor": "#E5ECF6",
           "caxis": {
            "gridcolor": "white",
            "linecolor": "white",
            "ticks": ""
           }
          },
          "title": {
           "x": 0.05
          },
          "xaxis": {
           "automargin": true,
           "gridcolor": "white",
           "linecolor": "white",
           "ticks": "",
           "title": {
            "standoff": 15
           },
           "zerolinecolor": "white",
           "zerolinewidth": 2
          },
          "yaxis": {
           "automargin": true,
           "gridcolor": "white",
           "linecolor": "white",
           "ticks": "",
           "title": {
            "standoff": 15
           },
           "zerolinecolor": "white",
           "zerolinewidth": 2
          }
         }
        },
        "title": {
         "font": {
          "color": "#4D5663"
         },
         "text": "Evolution deaths. Total by population"
        },
        "width": 900,
        "xaxis": {
         "gridcolor": "#E1E5ED",
         "showgrid": true,
         "tickfont": {
          "color": "#4D5663"
         },
         "title": {
          "font": {
           "color": "#4D5663"
          },
          "text": "Year"
         },
         "zerolinecolor": "#E1E5ED"
        },
        "yaxis": {
         "gridcolor": "#E1E5ED",
         "showgrid": true,
         "tickfont": {
          "color": "#4D5663"
         },
         "title": {
          "font": {
           "color": "#4D5663"
          },
          "text": "Total / population"
         },
         "zerolinecolor": "#E1E5ED"
        }
       }
      },
      "text/html": [
       "<div>                            <div id=\"d7ad91aa-5063-4782-95e6-e469109e4450\" class=\"plotly-graph-div\" style=\"height:300px; width:900px;\"></div>            <script type=\"text/javascript\">                require([\"plotly\"], function(Plotly) {                    window.PLOTLYENV=window.PLOTLYENV || {};\n",
       "                    window.PLOTLYENV.BASE_URL='https://plot.ly';                                    if (document.getElementById(\"d7ad91aa-5063-4782-95e6-e469109e4450\")) {                    Plotly.newPlot(                        \"d7ad91aa-5063-4782-95e6-e469109e4450\",                        [{\"line\":{\"color\":\"rgba(255, 153, 51, 1.0)\",\"dash\":\"solid\",\"shape\":\"linear\",\"width\":1.3},\"mode\":\"lines\",\"name\":\"Percent\",\"text\":\"\",\"x\":[1980,1981,1982,1983,1984,1985,1986,1987,1988,1989,1990,1991,1992,1993,1994,1995,1996,1997,1998,1999,2000,2001,2002,2003,2004,2005,2006,2007,2008,2009,2010,2011,2012,2013,2014,2015,2016,2017,2018],\"y\":[0.7747462041066818,0.779548206609476,0.7567075682873442,0.7943496994800572,0.7827093052476886,0.8137195153623497,0.8056147752489898,0.802506813749306,0.824745637784239,0.8370534736342948,0.8574371441527882,0.868515179591196,0.8489210202693194,0.8650690349341079,0.8572097122117373,0.8734343925586165,0.8828519346205902,0.8744292690393157,0.8980568660156729,0.920767114216786,0.890509956194415,0.8855924591690583,0.8982955175317351,0.9200284709923793,0.8741627642396652,0.8946600214544719,0.844076940840381,0.8604754587949414,0.8459228896454741,0.8324806850869253,0.8218429126092,0.8312288026862564,0.8606692745404908,0.8355160055375922,0.8510240507011935,0.9097351073147832,0.8841733950653292,0.9124221294202711,0.9167064647479587],\"type\":\"scatter\"}],                        {\"height\":300,\"legend\":{\"bgcolor\":\"#F5F6F9\",\"font\":{\"color\":\"#4D5663\"}},\"paper_bgcolor\":\"#F5F6F9\",\"plot_bgcolor\":\"#F5F6F9\",\"template\":{\"data\":{\"barpolar\":[{\"marker\":{\"line\":{\"color\":\"#E5ECF6\",\"width\":0.5},\"pattern\":{\"fillmode\":\"overlay\",\"size\":10,\"solidity\":0.2}},\"type\":\"barpolar\"}],\"bar\":[{\"error_x\":{\"color\":\"#2a3f5f\"},\"error_y\":{\"color\":\"#2a3f5f\"},\"marker\":{\"line\":{\"color\":\"#E5ECF6\",\"width\":0.5},\"pattern\":{\"fillmode\":\"overlay\",\"size\":10,\"solidity\":0.2}},\"type\":\"bar\"}],\"carpet\":[{\"aaxis\":{\"endlinecolor\":\"#2a3f5f\",\"gridcolor\":\"white\",\"linecolor\":\"white\",\"minorgridcolor\":\"white\",\"startlinecolor\":\"#2a3f5f\"},\"baxis\":{\"endlinecolor\":\"#2a3f5f\",\"gridcolor\":\"white\",\"linecolor\":\"white\",\"minorgridcolor\":\"white\",\"startlinecolor\":\"#2a3f5f\"},\"type\":\"carpet\"}],\"choropleth\":[{\"colorbar\":{\"outlinewidth\":0,\"ticks\":\"\"},\"type\":\"choropleth\"}],\"contourcarpet\":[{\"colorbar\":{\"outlinewidth\":0,\"ticks\":\"\"},\"type\":\"contourcarpet\"}],\"contour\":[{\"colorbar\":{\"outlinewidth\":0,\"ticks\":\"\"},\"colorscale\":[[0.0,\"#0d0887\"],[0.1111111111111111,\"#46039f\"],[0.2222222222222222,\"#7201a8\"],[0.3333333333333333,\"#9c179e\"],[0.4444444444444444,\"#bd3786\"],[0.5555555555555556,\"#d8576b\"],[0.6666666666666666,\"#ed7953\"],[0.7777777777777778,\"#fb9f3a\"],[0.8888888888888888,\"#fdca26\"],[1.0,\"#f0f921\"]],\"type\":\"contour\"}],\"heatmapgl\":[{\"colorbar\":{\"outlinewidth\":0,\"ticks\":\"\"},\"colorscale\":[[0.0,\"#0d0887\"],[0.1111111111111111,\"#46039f\"],[0.2222222222222222,\"#7201a8\"],[0.3333333333333333,\"#9c179e\"],[0.4444444444444444,\"#bd3786\"],[0.5555555555555556,\"#d8576b\"],[0.6666666666666666,\"#ed7953\"],[0.7777777777777778,\"#fb9f3a\"],[0.8888888888888888,\"#fdca26\"],[1.0,\"#f0f921\"]],\"type\":\"heatmapgl\"}],\"heatmap\":[{\"colorbar\":{\"outlinewidth\":0,\"ticks\":\"\"},\"colorscale\":[[0.0,\"#0d0887\"],[0.1111111111111111,\"#46039f\"],[0.2222222222222222,\"#7201a8\"],[0.3333333333333333,\"#9c179e\"],[0.4444444444444444,\"#bd3786\"],[0.5555555555555556,\"#d8576b\"],[0.6666666666666666,\"#ed7953\"],[0.7777777777777778,\"#fb9f3a\"],[0.8888888888888888,\"#fdca26\"],[1.0,\"#f0f921\"]],\"type\":\"heatmap\"}],\"histogram2dcontour\":[{\"colorbar\":{\"outlinewidth\":0,\"ticks\":\"\"},\"colorscale\":[[0.0,\"#0d0887\"],[0.1111111111111111,\"#46039f\"],[0.2222222222222222,\"#7201a8\"],[0.3333333333333333,\"#9c179e\"],[0.4444444444444444,\"#bd3786\"],[0.5555555555555556,\"#d8576b\"],[0.6666666666666666,\"#ed7953\"],[0.7777777777777778,\"#fb9f3a\"],[0.8888888888888888,\"#fdca26\"],[1.0,\"#f0f921\"]],\"type\":\"histogram2dcontour\"}],\"histogram2d\":[{\"colorbar\":{\"outlinewidth\":0,\"ticks\":\"\"},\"colorscale\":[[0.0,\"#0d0887\"],[0.1111111111111111,\"#46039f\"],[0.2222222222222222,\"#7201a8\"],[0.3333333333333333,\"#9c179e\"],[0.4444444444444444,\"#bd3786\"],[0.5555555555555556,\"#d8576b\"],[0.6666666666666666,\"#ed7953\"],[0.7777777777777778,\"#fb9f3a\"],[0.8888888888888888,\"#fdca26\"],[1.0,\"#f0f921\"]],\"type\":\"histogram2d\"}],\"histogram\":[{\"marker\":{\"pattern\":{\"fillmode\":\"overlay\",\"size\":10,\"solidity\":0.2}},\"type\":\"histogram\"}],\"mesh3d\":[{\"colorbar\":{\"outlinewidth\":0,\"ticks\":\"\"},\"type\":\"mesh3d\"}],\"parcoords\":[{\"line\":{\"colorbar\":{\"outlinewidth\":0,\"ticks\":\"\"}},\"type\":\"parcoords\"}],\"pie\":[{\"automargin\":true,\"type\":\"pie\"}],\"scatter3d\":[{\"line\":{\"colorbar\":{\"outlinewidth\":0,\"ticks\":\"\"}},\"marker\":{\"colorbar\":{\"outlinewidth\":0,\"ticks\":\"\"}},\"type\":\"scatter3d\"}],\"scattercarpet\":[{\"marker\":{\"colorbar\":{\"outlinewidth\":0,\"ticks\":\"\"}},\"type\":\"scattercarpet\"}],\"scattergeo\":[{\"marker\":{\"colorbar\":{\"outlinewidth\":0,\"ticks\":\"\"}},\"type\":\"scattergeo\"}],\"scattergl\":[{\"marker\":{\"colorbar\":{\"outlinewidth\":0,\"ticks\":\"\"}},\"type\":\"scattergl\"}],\"scattermapbox\":[{\"marker\":{\"colorbar\":{\"outlinewidth\":0,\"ticks\":\"\"}},\"type\":\"scattermapbox\"}],\"scatterpolargl\":[{\"marker\":{\"colorbar\":{\"outlinewidth\":0,\"ticks\":\"\"}},\"type\":\"scatterpolargl\"}],\"scatterpolar\":[{\"marker\":{\"colorbar\":{\"outlinewidth\":0,\"ticks\":\"\"}},\"type\":\"scatterpolar\"}],\"scatter\":[{\"fillpattern\":{\"fillmode\":\"overlay\",\"size\":10,\"solidity\":0.2},\"type\":\"scatter\"}],\"scatterternary\":[{\"marker\":{\"colorbar\":{\"outlinewidth\":0,\"ticks\":\"\"}},\"type\":\"scatterternary\"}],\"surface\":[{\"colorbar\":{\"outlinewidth\":0,\"ticks\":\"\"},\"colorscale\":[[0.0,\"#0d0887\"],[0.1111111111111111,\"#46039f\"],[0.2222222222222222,\"#7201a8\"],[0.3333333333333333,\"#9c179e\"],[0.4444444444444444,\"#bd3786\"],[0.5555555555555556,\"#d8576b\"],[0.6666666666666666,\"#ed7953\"],[0.7777777777777778,\"#fb9f3a\"],[0.8888888888888888,\"#fdca26\"],[1.0,\"#f0f921\"]],\"type\":\"surface\"}],\"table\":[{\"cells\":{\"fill\":{\"color\":\"#EBF0F8\"},\"line\":{\"color\":\"white\"}},\"header\":{\"fill\":{\"color\":\"#C8D4E3\"},\"line\":{\"color\":\"white\"}},\"type\":\"table\"}]},\"layout\":{\"annotationdefaults\":{\"arrowcolor\":\"#2a3f5f\",\"arrowhead\":0,\"arrowwidth\":1},\"autotypenumbers\":\"strict\",\"coloraxis\":{\"colorbar\":{\"outlinewidth\":0,\"ticks\":\"\"}},\"colorscale\":{\"diverging\":[[0,\"#8e0152\"],[0.1,\"#c51b7d\"],[0.2,\"#de77ae\"],[0.3,\"#f1b6da\"],[0.4,\"#fde0ef\"],[0.5,\"#f7f7f7\"],[0.6,\"#e6f5d0\"],[0.7,\"#b8e186\"],[0.8,\"#7fbc41\"],[0.9,\"#4d9221\"],[1,\"#276419\"]],\"sequential\":[[0.0,\"#0d0887\"],[0.1111111111111111,\"#46039f\"],[0.2222222222222222,\"#7201a8\"],[0.3333333333333333,\"#9c179e\"],[0.4444444444444444,\"#bd3786\"],[0.5555555555555556,\"#d8576b\"],[0.6666666666666666,\"#ed7953\"],[0.7777777777777778,\"#fb9f3a\"],[0.8888888888888888,\"#fdca26\"],[1.0,\"#f0f921\"]],\"sequentialminus\":[[0.0,\"#0d0887\"],[0.1111111111111111,\"#46039f\"],[0.2222222222222222,\"#7201a8\"],[0.3333333333333333,\"#9c179e\"],[0.4444444444444444,\"#bd3786\"],[0.5555555555555556,\"#d8576b\"],[0.6666666666666666,\"#ed7953\"],[0.7777777777777778,\"#fb9f3a\"],[0.8888888888888888,\"#fdca26\"],[1.0,\"#f0f921\"]]},\"colorway\":[\"#636efa\",\"#EF553B\",\"#00cc96\",\"#ab63fa\",\"#FFA15A\",\"#19d3f3\",\"#FF6692\",\"#B6E880\",\"#FF97FF\",\"#FECB52\"],\"font\":{\"color\":\"#2a3f5f\"},\"geo\":{\"bgcolor\":\"white\",\"lakecolor\":\"white\",\"landcolor\":\"#E5ECF6\",\"showlakes\":true,\"showland\":true,\"subunitcolor\":\"white\"},\"hoverlabel\":{\"align\":\"left\"},\"hovermode\":\"closest\",\"mapbox\":{\"style\":\"light\"},\"paper_bgcolor\":\"white\",\"plot_bgcolor\":\"#E5ECF6\",\"polar\":{\"angularaxis\":{\"gridcolor\":\"white\",\"linecolor\":\"white\",\"ticks\":\"\"},\"bgcolor\":\"#E5ECF6\",\"radialaxis\":{\"gridcolor\":\"white\",\"linecolor\":\"white\",\"ticks\":\"\"}},\"scene\":{\"xaxis\":{\"backgroundcolor\":\"#E5ECF6\",\"gridcolor\":\"white\",\"gridwidth\":2,\"linecolor\":\"white\",\"showbackground\":true,\"ticks\":\"\",\"zerolinecolor\":\"white\"},\"yaxis\":{\"backgroundcolor\":\"#E5ECF6\",\"gridcolor\":\"white\",\"gridwidth\":2,\"linecolor\":\"white\",\"showbackground\":true,\"ticks\":\"\",\"zerolinecolor\":\"white\"},\"zaxis\":{\"backgroundcolor\":\"#E5ECF6\",\"gridcolor\":\"white\",\"gridwidth\":2,\"linecolor\":\"white\",\"showbackground\":true,\"ticks\":\"\",\"zerolinecolor\":\"white\"}},\"shapedefaults\":{\"line\":{\"color\":\"#2a3f5f\"}},\"ternary\":{\"aaxis\":{\"gridcolor\":\"white\",\"linecolor\":\"white\",\"ticks\":\"\"},\"baxis\":{\"gridcolor\":\"white\",\"linecolor\":\"white\",\"ticks\":\"\"},\"bgcolor\":\"#E5ECF6\",\"caxis\":{\"gridcolor\":\"white\",\"linecolor\":\"white\",\"ticks\":\"\"}},\"title\":{\"x\":0.05},\"xaxis\":{\"automargin\":true,\"gridcolor\":\"white\",\"linecolor\":\"white\",\"ticks\":\"\",\"title\":{\"standoff\":15},\"zerolinecolor\":\"white\",\"zerolinewidth\":2},\"yaxis\":{\"automargin\":true,\"gridcolor\":\"white\",\"linecolor\":\"white\",\"ticks\":\"\",\"title\":{\"standoff\":15},\"zerolinecolor\":\"white\",\"zerolinewidth\":2}}},\"title\":{\"font\":{\"color\":\"#4D5663\"},\"text\":\"Evolution deaths. Total by population\"},\"width\":900,\"xaxis\":{\"gridcolor\":\"#E1E5ED\",\"showgrid\":true,\"tickfont\":{\"color\":\"#4D5663\"},\"title\":{\"font\":{\"color\":\"#4D5663\"},\"text\":\"Year\"},\"zerolinecolor\":\"#E1E5ED\"},\"yaxis\":{\"gridcolor\":\"#E1E5ED\",\"showgrid\":true,\"tickfont\":{\"color\":\"#4D5663\"},\"title\":{\"font\":{\"color\":\"#4D5663\"},\"text\":\"Total / population\"},\"zerolinecolor\":\"#E1E5ED\"}},                        {\"showLink\": true, \"linkText\": \"Export to plot.ly\", \"plotlyServerURL\": \"https://plot.ly\", \"responsive\": true}                    ).then(function(){\n",
       "                            \n",
       "var gd = document.getElementById('d7ad91aa-5063-4782-95e6-e469109e4450');\n",
       "var x = new MutationObserver(function (mutations, observer) {{\n",
       "        var display = window.getComputedStyle(gd).display;\n",
       "        if (!display || display === 'none') {{\n",
       "            console.log([gd, 'removed!']);\n",
       "            Plotly.purge(gd);\n",
       "            observer.disconnect();\n",
       "        }}\n",
       "}});\n",
       "\n",
       "// Listen for the removal of the full notebook cells\n",
       "var notebookContainer = gd.closest('#notebook-container');\n",
       "if (notebookContainer) {{\n",
       "    x.observe(notebookContainer, {childList: true});\n",
       "}}\n",
       "\n",
       "// Listen for the clearing of the current output cell\n",
       "var outputEl = gd.closest('.output');\n",
       "if (outputEl) {{\n",
       "    x.observe(outputEl, {childList: true});\n",
       "}}\n",
       "\n",
       "                        })                };                });            </script>        </div>"
      ]
     },
     "metadata": {},
     "output_type": "display_data"
    }
   ],
   "source": [
    "\n",
    "# Graph total deaths by population\n",
    "deaths_tot_year.iplot(kind='line',\n",
    "                      x='Periodo',\n",
    "                      y='Percent',\n",
    "                      xTitle='Year',\n",
    "                      yTitle='Total / population',\n",
    "                      title='Evolution deaths. Total by population',\n",
    "                      dimensions =(900,300))\n"
   ]
  },
  {
   "cell_type": "code",
   "execution_count": null,
   "metadata": {},
   "outputs": [],
   "source": [
    "# Significant by population\n"
   ]
  },
  {
   "cell_type": "code",
   "execution_count": 22,
   "metadata": {},
   "outputs": [
    {
     "data": {
      "text/html": [
       "<div>\n",
       "<style scoped>\n",
       "    .dataframe tbody tr th:only-of-type {\n",
       "        vertical-align: middle;\n",
       "    }\n",
       "\n",
       "    .dataframe tbody tr th {\n",
       "        vertical-align: top;\n",
       "    }\n",
       "\n",
       "    .dataframe thead th {\n",
       "        text-align: right;\n",
       "    }\n",
       "</style>\n",
       "<table border=\"1\" class=\"dataframe\">\n",
       "  <thead>\n",
       "    <tr style=\"text-align: right;\">\n",
       "      <th></th>\n",
       "      <th>Causa de muerte</th>\n",
       "      <th>Sexo</th>\n",
       "      <th>Edad</th>\n",
       "      <th>Periodo</th>\n",
       "      <th>Total</th>\n",
       "      <th>cause_code</th>\n",
       "      <th>cause_group</th>\n",
       "      <th>cause_name</th>\n",
       "      <th>Demo</th>\n",
       "      <th>Percent</th>\n",
       "      <th>PercentK</th>\n",
       "    </tr>\n",
       "  </thead>\n",
       "  <tbody>\n",
       "    <tr>\n",
       "      <th>0</th>\n",
       "      <td>001  Enfermedades infecciosas intestinales</td>\n",
       "      <td>Total</td>\n",
       "      <td>Todas las edades</td>\n",
       "      <td>2018</td>\n",
       "      <td>1037</td>\n",
       "      <td>001</td>\n",
       "      <td>Single cause</td>\n",
       "      <td>Enfermedades infecciosas intestinales</td>\n",
       "      <td>46658447</td>\n",
       "      <td>0.002223</td>\n",
       "      <td>222.253432</td>\n",
       "    </tr>\n",
       "    <tr>\n",
       "      <th>1</th>\n",
       "      <td>002  Tuberculosis y sus efectos tardíos</td>\n",
       "      <td>Total</td>\n",
       "      <td>Todas las edades</td>\n",
       "      <td>2018</td>\n",
       "      <td>249</td>\n",
       "      <td>002</td>\n",
       "      <td>Single cause</td>\n",
       "      <td>Tuberculosis y sus efectos tardíos</td>\n",
       "      <td>46658447</td>\n",
       "      <td>0.000534</td>\n",
       "      <td>53.366543</td>\n",
       "    </tr>\n",
       "    <tr>\n",
       "      <th>2</th>\n",
       "      <td>003  Enfermedad meningocócica</td>\n",
       "      <td>Total</td>\n",
       "      <td>Todas las edades</td>\n",
       "      <td>2018</td>\n",
       "      <td>15</td>\n",
       "      <td>003</td>\n",
       "      <td>Single cause</td>\n",
       "      <td>Enfermedad meningocócica</td>\n",
       "      <td>46658447</td>\n",
       "      <td>0.000032</td>\n",
       "      <td>3.214852</td>\n",
       "    </tr>\n",
       "    <tr>\n",
       "      <th>3</th>\n",
       "      <td>004  Septicemia</td>\n",
       "      <td>Total</td>\n",
       "      <td>Todas las edades</td>\n",
       "      <td>2018</td>\n",
       "      <td>3040</td>\n",
       "      <td>004</td>\n",
       "      <td>Single cause</td>\n",
       "      <td>Septicemia</td>\n",
       "      <td>46658447</td>\n",
       "      <td>0.006515</td>\n",
       "      <td>651.543331</td>\n",
       "    </tr>\n",
       "    <tr>\n",
       "      <th>4</th>\n",
       "      <td>005  Hepatitis vírica</td>\n",
       "      <td>Total</td>\n",
       "      <td>Todas las edades</td>\n",
       "      <td>2018</td>\n",
       "      <td>567</td>\n",
       "      <td>005</td>\n",
       "      <td>Single cause</td>\n",
       "      <td>Hepatitis vírica</td>\n",
       "      <td>46658447</td>\n",
       "      <td>0.001215</td>\n",
       "      <td>121.521404</td>\n",
       "    </tr>\n",
       "  </tbody>\n",
       "</table>\n",
       "</div>"
      ],
      "text/plain": [
       "                              Causa de muerte   Sexo              Edad  \\\n",
       "0  001  Enfermedades infecciosas intestinales  Total  Todas las edades   \n",
       "1     002  Tuberculosis y sus efectos tardíos  Total  Todas las edades   \n",
       "2               003  Enfermedad meningocócica  Total  Todas las edades   \n",
       "3                             004  Septicemia  Total  Todas las edades   \n",
       "4                       005  Hepatitis vírica  Total  Todas las edades   \n",
       "\n",
       "   Periodo  Total cause_code   cause_group  \\\n",
       "0     2018   1037        001  Single cause   \n",
       "1     2018    249        002  Single cause   \n",
       "2     2018     15        003  Single cause   \n",
       "3     2018   3040        004  Single cause   \n",
       "4     2018    567        005  Single cause   \n",
       "\n",
       "                              cause_name      Demo   Percent    PercentK  \n",
       "0  Enfermedades infecciosas intestinales  46658447  0.002223  222.253432  \n",
       "1     Tuberculosis y sus efectos tardíos  46658447  0.000534   53.366543  \n",
       "2               Enfermedad meningocócica  46658447  0.000032    3.214852  \n",
       "3                             Septicemia  46658447  0.006515  651.543331  \n",
       "4                       Hepatitis vírica  46658447  0.001215  121.521404  "
      ]
     },
     "execution_count": 22,
     "metadata": {},
     "output_type": "execute_result"
    }
   ],
   "source": [
    "deaths_tot.head()"
   ]
  },
  {
   "cell_type": "code",
   "execution_count": 23,
   "metadata": {
    "scrolled": true
   },
   "outputs": [
    {
     "name": "stdout",
     "output_type": "stream",
     "text": [
      "102\n",
      "10\n"
     ]
    },
    {
     "data": {
      "text/html": [
       "<div>\n",
       "<style scoped>\n",
       "    .dataframe tbody tr th:only-of-type {\n",
       "        vertical-align: middle;\n",
       "    }\n",
       "\n",
       "    .dataframe tbody tr th {\n",
       "        vertical-align: top;\n",
       "    }\n",
       "\n",
       "    .dataframe thead th {\n",
       "        text-align: right;\n",
       "    }\n",
       "</style>\n",
       "<table border=\"1\" class=\"dataframe\">\n",
       "  <thead>\n",
       "    <tr style=\"text-align: right;\">\n",
       "      <th></th>\n",
       "      <th>cause_code</th>\n",
       "      <th>cause_name</th>\n",
       "      <th>Total</th>\n",
       "      <th>Percent</th>\n",
       "      <th>PercentK</th>\n",
       "    </tr>\n",
       "  </thead>\n",
       "  <tbody>\n",
       "    <tr>\n",
       "      <th>58</th>\n",
       "      <td>059</td>\n",
       "      <td>Enfermedades cerebrovasculares</td>\n",
       "      <td>1467841</td>\n",
       "      <td>3.589863</td>\n",
       "      <td>358986.288705</td>\n",
       "    </tr>\n",
       "    <tr>\n",
       "      <th>54</th>\n",
       "      <td>055</td>\n",
       "      <td>Infarto agudo de miocardio</td>\n",
       "      <td>855162</td>\n",
       "      <td>2.081283</td>\n",
       "      <td>208128.328300</td>\n",
       "    </tr>\n",
       "    <tr>\n",
       "      <th>56</th>\n",
       "      <td>057</td>\n",
       "      <td>Insuficiencia cardíaca</td>\n",
       "      <td>758343</td>\n",
       "      <td>1.833875</td>\n",
       "      <td>183387.483773</td>\n",
       "    </tr>\n",
       "    <tr>\n",
       "      <th>17</th>\n",
       "      <td>018</td>\n",
       "      <td>Tumor maligno de la tráquea, de los bronquios ...</td>\n",
       "      <td>656092</td>\n",
       "      <td>1.554487</td>\n",
       "      <td>155448.668038</td>\n",
       "    </tr>\n",
       "    <tr>\n",
       "      <th>57</th>\n",
       "      <td>058</td>\n",
       "      <td>Otras enfermedades del corazón</td>\n",
       "      <td>644917</td>\n",
       "      <td>1.529769</td>\n",
       "      <td>152976.886419</td>\n",
       "    </tr>\n",
       "    <tr>\n",
       "      <th>63</th>\n",
       "      <td>064</td>\n",
       "      <td>Enfermedades crónicas de las vías respiratoria...</td>\n",
       "      <td>527573</td>\n",
       "      <td>1.260730</td>\n",
       "      <td>126072.950375</td>\n",
       "    </tr>\n",
       "    <tr>\n",
       "      <th>55</th>\n",
       "      <td>056</td>\n",
       "      <td>Otras enfermedades isquémicas del corazón</td>\n",
       "      <td>509696</td>\n",
       "      <td>1.206033</td>\n",
       "      <td>120603.286466</td>\n",
       "    </tr>\n",
       "    <tr>\n",
       "      <th>66</th>\n",
       "      <td>067</td>\n",
       "      <td>Otras enfermedades del sistema respiratorio</td>\n",
       "      <td>498811</td>\n",
       "      <td>1.171766</td>\n",
       "      <td>117176.609923</td>\n",
       "    </tr>\n",
       "    <tr>\n",
       "      <th>45</th>\n",
       "      <td>046</td>\n",
       "      <td>Trastornos mentales orgánicos, senil y presenil</td>\n",
       "      <td>378321</td>\n",
       "      <td>0.870775</td>\n",
       "      <td>87077.545485</td>\n",
       "    </tr>\n",
       "    <tr>\n",
       "      <th>43</th>\n",
       "      <td>044</td>\n",
       "      <td>Diabetes mellitus</td>\n",
       "      <td>359715</td>\n",
       "      <td>0.862838</td>\n",
       "      <td>86283.840436</td>\n",
       "    </tr>\n",
       "  </tbody>\n",
       "</table>\n",
       "</div>"
      ],
      "text/plain": [
       "   cause_code                                         cause_name    Total  \\\n",
       "58        059                     Enfermedades cerebrovasculares  1467841   \n",
       "54        055                         Infarto agudo de miocardio   855162   \n",
       "56        057                             Insuficiencia cardíaca   758343   \n",
       "17        018  Tumor maligno de la tráquea, de los bronquios ...   656092   \n",
       "57        058                     Otras enfermedades del corazón   644917   \n",
       "63        064  Enfermedades crónicas de las vías respiratoria...   527573   \n",
       "55        056          Otras enfermedades isquémicas del corazón   509696   \n",
       "66        067        Otras enfermedades del sistema respiratorio   498811   \n",
       "45        046    Trastornos mentales orgánicos, senil y presenil   378321   \n",
       "43        044                                  Diabetes mellitus   359715   \n",
       "\n",
       "     Percent       PercentK  \n",
       "58  3.589863  358986.288705  \n",
       "54  2.081283  208128.328300  \n",
       "56  1.833875  183387.483773  \n",
       "17  1.554487  155448.668038  \n",
       "57  1.529769  152976.886419  \n",
       "63  1.260730  126072.950375  \n",
       "55  1.206033  120603.286466  \n",
       "66  1.171766  117176.609923  \n",
       "45  0.870775   87077.545485  \n",
       "43  0.862838   86283.840436  "
      ]
     },
     "execution_count": 23,
     "metadata": {},
     "output_type": "execute_result"
    }
   ],
   "source": [
    "# Total deaths every cause\n",
    "deaths_tot_cause = deaths_tot.groupby(['cause_code', \n",
    "                                       'cause_name'])[['Total', \n",
    "                                                       'Percent', \n",
    "                                                       'PercentK']].sum().reset_index()\n",
    "print(len(deaths_tot_cause))\n",
    "deaths_tot_cause = deaths_tot_cause.sort_values(by=['Total'], ascending=False).head(10)\n",
    "print(len(deaths_tot_cause))\n",
    "deaths_tot_cause\n"
   ]
  },
  {
   "cell_type": "code",
   "execution_count": 24,
   "metadata": {},
   "outputs": [
    {
     "data": {
      "application/vnd.plotly.v1+json": {
       "config": {
        "linkText": "Export to plot.ly",
        "plotlyServerURL": "https://plot.ly",
        "showLink": true
       },
       "data": [
        {
         "marker": {
          "color": "rgba(255, 153, 51, 0.6)",
          "line": {
           "color": "rgba(255, 153, 51, 1.0)",
           "width": 1
          }
         },
         "name": "Total",
         "orientation": "v",
         "text": "",
         "type": "bar",
         "x": [
          "Enfermedades cerebrovasculares",
          "Infarto agudo de miocardio",
          "Insuficiencia cardíaca",
          "Tumor maligno de la tráquea, de los bronquios y del pulmón",
          "Otras enfermedades del corazón",
          "Enfermedades crónicas de las vías respiratorias inferiores (excepto asma)",
          "Otras enfermedades isquémicas del corazón",
          "Otras enfermedades del sistema respiratorio",
          "Trastornos mentales orgánicos, senil y presenil",
          "Diabetes mellitus"
         ],
         "y": [
          1467841,
          855162,
          758343,
          656092,
          644917,
          527573,
          509696,
          498811,
          378321,
          359715
         ]
        }
       ],
       "layout": {
        "legend": {
         "bgcolor": "#F5F6F9",
         "font": {
          "color": "#4D5663"
         }
        },
        "paper_bgcolor": "#F5F6F9",
        "plot_bgcolor": "#F5F6F9",
        "template": {
         "data": {
          "bar": [
           {
            "error_x": {
             "color": "#2a3f5f"
            },
            "error_y": {
             "color": "#2a3f5f"
            },
            "marker": {
             "line": {
              "color": "#E5ECF6",
              "width": 0.5
             },
             "pattern": {
              "fillmode": "overlay",
              "size": 10,
              "solidity": 0.2
             }
            },
            "type": "bar"
           }
          ],
          "barpolar": [
           {
            "marker": {
             "line": {
              "color": "#E5ECF6",
              "width": 0.5
             },
             "pattern": {
              "fillmode": "overlay",
              "size": 10,
              "solidity": 0.2
             }
            },
            "type": "barpolar"
           }
          ],
          "carpet": [
           {
            "aaxis": {
             "endlinecolor": "#2a3f5f",
             "gridcolor": "white",
             "linecolor": "white",
             "minorgridcolor": "white",
             "startlinecolor": "#2a3f5f"
            },
            "baxis": {
             "endlinecolor": "#2a3f5f",
             "gridcolor": "white",
             "linecolor": "white",
             "minorgridcolor": "white",
             "startlinecolor": "#2a3f5f"
            },
            "type": "carpet"
           }
          ],
          "choropleth": [
           {
            "colorbar": {
             "outlinewidth": 0,
             "ticks": ""
            },
            "type": "choropleth"
           }
          ],
          "contour": [
           {
            "colorbar": {
             "outlinewidth": 0,
             "ticks": ""
            },
            "colorscale": [
             [
              0,
              "#0d0887"
             ],
             [
              0.1111111111111111,
              "#46039f"
             ],
             [
              0.2222222222222222,
              "#7201a8"
             ],
             [
              0.3333333333333333,
              "#9c179e"
             ],
             [
              0.4444444444444444,
              "#bd3786"
             ],
             [
              0.5555555555555556,
              "#d8576b"
             ],
             [
              0.6666666666666666,
              "#ed7953"
             ],
             [
              0.7777777777777778,
              "#fb9f3a"
             ],
             [
              0.8888888888888888,
              "#fdca26"
             ],
             [
              1,
              "#f0f921"
             ]
            ],
            "type": "contour"
           }
          ],
          "contourcarpet": [
           {
            "colorbar": {
             "outlinewidth": 0,
             "ticks": ""
            },
            "type": "contourcarpet"
           }
          ],
          "heatmap": [
           {
            "colorbar": {
             "outlinewidth": 0,
             "ticks": ""
            },
            "colorscale": [
             [
              0,
              "#0d0887"
             ],
             [
              0.1111111111111111,
              "#46039f"
             ],
             [
              0.2222222222222222,
              "#7201a8"
             ],
             [
              0.3333333333333333,
              "#9c179e"
             ],
             [
              0.4444444444444444,
              "#bd3786"
             ],
             [
              0.5555555555555556,
              "#d8576b"
             ],
             [
              0.6666666666666666,
              "#ed7953"
             ],
             [
              0.7777777777777778,
              "#fb9f3a"
             ],
             [
              0.8888888888888888,
              "#fdca26"
             ],
             [
              1,
              "#f0f921"
             ]
            ],
            "type": "heatmap"
           }
          ],
          "heatmapgl": [
           {
            "colorbar": {
             "outlinewidth": 0,
             "ticks": ""
            },
            "colorscale": [
             [
              0,
              "#0d0887"
             ],
             [
              0.1111111111111111,
              "#46039f"
             ],
             [
              0.2222222222222222,
              "#7201a8"
             ],
             [
              0.3333333333333333,
              "#9c179e"
             ],
             [
              0.4444444444444444,
              "#bd3786"
             ],
             [
              0.5555555555555556,
              "#d8576b"
             ],
             [
              0.6666666666666666,
              "#ed7953"
             ],
             [
              0.7777777777777778,
              "#fb9f3a"
             ],
             [
              0.8888888888888888,
              "#fdca26"
             ],
             [
              1,
              "#f0f921"
             ]
            ],
            "type": "heatmapgl"
           }
          ],
          "histogram": [
           {
            "marker": {
             "pattern": {
              "fillmode": "overlay",
              "size": 10,
              "solidity": 0.2
             }
            },
            "type": "histogram"
           }
          ],
          "histogram2d": [
           {
            "colorbar": {
             "outlinewidth": 0,
             "ticks": ""
            },
            "colorscale": [
             [
              0,
              "#0d0887"
             ],
             [
              0.1111111111111111,
              "#46039f"
             ],
             [
              0.2222222222222222,
              "#7201a8"
             ],
             [
              0.3333333333333333,
              "#9c179e"
             ],
             [
              0.4444444444444444,
              "#bd3786"
             ],
             [
              0.5555555555555556,
              "#d8576b"
             ],
             [
              0.6666666666666666,
              "#ed7953"
             ],
             [
              0.7777777777777778,
              "#fb9f3a"
             ],
             [
              0.8888888888888888,
              "#fdca26"
             ],
             [
              1,
              "#f0f921"
             ]
            ],
            "type": "histogram2d"
           }
          ],
          "histogram2dcontour": [
           {
            "colorbar": {
             "outlinewidth": 0,
             "ticks": ""
            },
            "colorscale": [
             [
              0,
              "#0d0887"
             ],
             [
              0.1111111111111111,
              "#46039f"
             ],
             [
              0.2222222222222222,
              "#7201a8"
             ],
             [
              0.3333333333333333,
              "#9c179e"
             ],
             [
              0.4444444444444444,
              "#bd3786"
             ],
             [
              0.5555555555555556,
              "#d8576b"
             ],
             [
              0.6666666666666666,
              "#ed7953"
             ],
             [
              0.7777777777777778,
              "#fb9f3a"
             ],
             [
              0.8888888888888888,
              "#fdca26"
             ],
             [
              1,
              "#f0f921"
             ]
            ],
            "type": "histogram2dcontour"
           }
          ],
          "mesh3d": [
           {
            "colorbar": {
             "outlinewidth": 0,
             "ticks": ""
            },
            "type": "mesh3d"
           }
          ],
          "parcoords": [
           {
            "line": {
             "colorbar": {
              "outlinewidth": 0,
              "ticks": ""
             }
            },
            "type": "parcoords"
           }
          ],
          "pie": [
           {
            "automargin": true,
            "type": "pie"
           }
          ],
          "scatter": [
           {
            "fillpattern": {
             "fillmode": "overlay",
             "size": 10,
             "solidity": 0.2
            },
            "type": "scatter"
           }
          ],
          "scatter3d": [
           {
            "line": {
             "colorbar": {
              "outlinewidth": 0,
              "ticks": ""
             }
            },
            "marker": {
             "colorbar": {
              "outlinewidth": 0,
              "ticks": ""
             }
            },
            "type": "scatter3d"
           }
          ],
          "scattercarpet": [
           {
            "marker": {
             "colorbar": {
              "outlinewidth": 0,
              "ticks": ""
             }
            },
            "type": "scattercarpet"
           }
          ],
          "scattergeo": [
           {
            "marker": {
             "colorbar": {
              "outlinewidth": 0,
              "ticks": ""
             }
            },
            "type": "scattergeo"
           }
          ],
          "scattergl": [
           {
            "marker": {
             "colorbar": {
              "outlinewidth": 0,
              "ticks": ""
             }
            },
            "type": "scattergl"
           }
          ],
          "scattermapbox": [
           {
            "marker": {
             "colorbar": {
              "outlinewidth": 0,
              "ticks": ""
             }
            },
            "type": "scattermapbox"
           }
          ],
          "scatterpolar": [
           {
            "marker": {
             "colorbar": {
              "outlinewidth": 0,
              "ticks": ""
             }
            },
            "type": "scatterpolar"
           }
          ],
          "scatterpolargl": [
           {
            "marker": {
             "colorbar": {
              "outlinewidth": 0,
              "ticks": ""
             }
            },
            "type": "scatterpolargl"
           }
          ],
          "scatterternary": [
           {
            "marker": {
             "colorbar": {
              "outlinewidth": 0,
              "ticks": ""
             }
            },
            "type": "scatterternary"
           }
          ],
          "surface": [
           {
            "colorbar": {
             "outlinewidth": 0,
             "ticks": ""
            },
            "colorscale": [
             [
              0,
              "#0d0887"
             ],
             [
              0.1111111111111111,
              "#46039f"
             ],
             [
              0.2222222222222222,
              "#7201a8"
             ],
             [
              0.3333333333333333,
              "#9c179e"
             ],
             [
              0.4444444444444444,
              "#bd3786"
             ],
             [
              0.5555555555555556,
              "#d8576b"
             ],
             [
              0.6666666666666666,
              "#ed7953"
             ],
             [
              0.7777777777777778,
              "#fb9f3a"
             ],
             [
              0.8888888888888888,
              "#fdca26"
             ],
             [
              1,
              "#f0f921"
             ]
            ],
            "type": "surface"
           }
          ],
          "table": [
           {
            "cells": {
             "fill": {
              "color": "#EBF0F8"
             },
             "line": {
              "color": "white"
             }
            },
            "header": {
             "fill": {
              "color": "#C8D4E3"
             },
             "line": {
              "color": "white"
             }
            },
            "type": "table"
           }
          ]
         },
         "layout": {
          "annotationdefaults": {
           "arrowcolor": "#2a3f5f",
           "arrowhead": 0,
           "arrowwidth": 1
          },
          "autotypenumbers": "strict",
          "coloraxis": {
           "colorbar": {
            "outlinewidth": 0,
            "ticks": ""
           }
          },
          "colorscale": {
           "diverging": [
            [
             0,
             "#8e0152"
            ],
            [
             0.1,
             "#c51b7d"
            ],
            [
             0.2,
             "#de77ae"
            ],
            [
             0.3,
             "#f1b6da"
            ],
            [
             0.4,
             "#fde0ef"
            ],
            [
             0.5,
             "#f7f7f7"
            ],
            [
             0.6,
             "#e6f5d0"
            ],
            [
             0.7,
             "#b8e186"
            ],
            [
             0.8,
             "#7fbc41"
            ],
            [
             0.9,
             "#4d9221"
            ],
            [
             1,
             "#276419"
            ]
           ],
           "sequential": [
            [
             0,
             "#0d0887"
            ],
            [
             0.1111111111111111,
             "#46039f"
            ],
            [
             0.2222222222222222,
             "#7201a8"
            ],
            [
             0.3333333333333333,
             "#9c179e"
            ],
            [
             0.4444444444444444,
             "#bd3786"
            ],
            [
             0.5555555555555556,
             "#d8576b"
            ],
            [
             0.6666666666666666,
             "#ed7953"
            ],
            [
             0.7777777777777778,
             "#fb9f3a"
            ],
            [
             0.8888888888888888,
             "#fdca26"
            ],
            [
             1,
             "#f0f921"
            ]
           ],
           "sequentialminus": [
            [
             0,
             "#0d0887"
            ],
            [
             0.1111111111111111,
             "#46039f"
            ],
            [
             0.2222222222222222,
             "#7201a8"
            ],
            [
             0.3333333333333333,
             "#9c179e"
            ],
            [
             0.4444444444444444,
             "#bd3786"
            ],
            [
             0.5555555555555556,
             "#d8576b"
            ],
            [
             0.6666666666666666,
             "#ed7953"
            ],
            [
             0.7777777777777778,
             "#fb9f3a"
            ],
            [
             0.8888888888888888,
             "#fdca26"
            ],
            [
             1,
             "#f0f921"
            ]
           ]
          },
          "colorway": [
           "#636efa",
           "#EF553B",
           "#00cc96",
           "#ab63fa",
           "#FFA15A",
           "#19d3f3",
           "#FF6692",
           "#B6E880",
           "#FF97FF",
           "#FECB52"
          ],
          "font": {
           "color": "#2a3f5f"
          },
          "geo": {
           "bgcolor": "white",
           "lakecolor": "white",
           "landcolor": "#E5ECF6",
           "showlakes": true,
           "showland": true,
           "subunitcolor": "white"
          },
          "hoverlabel": {
           "align": "left"
          },
          "hovermode": "closest",
          "mapbox": {
           "style": "light"
          },
          "paper_bgcolor": "white",
          "plot_bgcolor": "#E5ECF6",
          "polar": {
           "angularaxis": {
            "gridcolor": "white",
            "linecolor": "white",
            "ticks": ""
           },
           "bgcolor": "#E5ECF6",
           "radialaxis": {
            "gridcolor": "white",
            "linecolor": "white",
            "ticks": ""
           }
          },
          "scene": {
           "xaxis": {
            "backgroundcolor": "#E5ECF6",
            "gridcolor": "white",
            "gridwidth": 2,
            "linecolor": "white",
            "showbackground": true,
            "ticks": "",
            "zerolinecolor": "white"
           },
           "yaxis": {
            "backgroundcolor": "#E5ECF6",
            "gridcolor": "white",
            "gridwidth": 2,
            "linecolor": "white",
            "showbackground": true,
            "ticks": "",
            "zerolinecolor": "white"
           },
           "zaxis": {
            "backgroundcolor": "#E5ECF6",
            "gridcolor": "white",
            "gridwidth": 2,
            "linecolor": "white",
            "showbackground": true,
            "ticks": "",
            "zerolinecolor": "white"
           }
          },
          "shapedefaults": {
           "line": {
            "color": "#2a3f5f"
           }
          },
          "ternary": {
           "aaxis": {
            "gridcolor": "white",
            "linecolor": "white",
            "ticks": ""
           },
           "baxis": {
            "gridcolor": "white",
            "linecolor": "white",
            "ticks": ""
           },
           "bgcolor": "#E5ECF6",
           "caxis": {
            "gridcolor": "white",
            "linecolor": "white",
            "ticks": ""
           }
          },
          "title": {
           "x": 0.05
          },
          "xaxis": {
           "automargin": true,
           "gridcolor": "white",
           "linecolor": "white",
           "ticks": "",
           "title": {
            "standoff": 15
           },
           "zerolinecolor": "white",
           "zerolinewidth": 2
          },
          "yaxis": {
           "automargin": true,
           "gridcolor": "white",
           "linecolor": "white",
           "ticks": "",
           "title": {
            "standoff": 15
           },
           "zerolinecolor": "white",
           "zerolinewidth": 2
          }
         }
        },
        "title": {
         "font": {
          "color": "#4D5663"
         },
         "text": "Total by cause (10 most frequent causes)"
        },
        "xaxis": {
         "gridcolor": "#E1E5ED",
         "showgrid": true,
         "tickfont": {
          "color": "#4D5663"
         },
         "title": {
          "font": {
           "color": "#4D5663"
          },
          "text": "Cause"
         },
         "zerolinecolor": "#E1E5ED"
        },
        "yaxis": {
         "gridcolor": "#E1E5ED",
         "showgrid": true,
         "tickfont": {
          "color": "#4D5663"
         },
         "title": {
          "font": {
           "color": "#4D5663"
          },
          "text": "Total"
         },
         "zerolinecolor": "#E1E5ED"
        }
       }
      },
      "text/html": [
       "<div>                            <div id=\"698ddf5e-a5d4-4771-9cc8-94d1eedb5ec0\" class=\"plotly-graph-div\" style=\"height:525px; width:100%;\"></div>            <script type=\"text/javascript\">                require([\"plotly\"], function(Plotly) {                    window.PLOTLYENV=window.PLOTLYENV || {};\n",
       "                    window.PLOTLYENV.BASE_URL='https://plot.ly';                                    if (document.getElementById(\"698ddf5e-a5d4-4771-9cc8-94d1eedb5ec0\")) {                    Plotly.newPlot(                        \"698ddf5e-a5d4-4771-9cc8-94d1eedb5ec0\",                        [{\"marker\":{\"color\":\"rgba(255, 153, 51, 0.6)\",\"line\":{\"color\":\"rgba(255, 153, 51, 1.0)\",\"width\":1}},\"name\":\"Total\",\"orientation\":\"v\",\"text\":\"\",\"x\":[\"Enfermedades cerebrovasculares\",\"Infarto agudo de miocardio\",\"Insuficiencia card\\u00edaca\",\"Tumor maligno de la tr\\u00e1quea, de los bronquios y del pulm\\u00f3n\",\"Otras enfermedades del coraz\\u00f3n\",\"Enfermedades cr\\u00f3nicas de las v\\u00edas respiratorias inferiores (excepto asma)\",\"Otras enfermedades isqu\\u00e9micas del coraz\\u00f3n\",\"Otras enfermedades del sistema respiratorio\",\"Trastornos mentales org\\u00e1nicos, senil y presenil\",\"Diabetes mellitus\"],\"y\":[1467841,855162,758343,656092,644917,527573,509696,498811,378321,359715],\"type\":\"bar\"}],                        {\"legend\":{\"bgcolor\":\"#F5F6F9\",\"font\":{\"color\":\"#4D5663\"}},\"paper_bgcolor\":\"#F5F6F9\",\"plot_bgcolor\":\"#F5F6F9\",\"template\":{\"data\":{\"barpolar\":[{\"marker\":{\"line\":{\"color\":\"#E5ECF6\",\"width\":0.5},\"pattern\":{\"fillmode\":\"overlay\",\"size\":10,\"solidity\":0.2}},\"type\":\"barpolar\"}],\"bar\":[{\"error_x\":{\"color\":\"#2a3f5f\"},\"error_y\":{\"color\":\"#2a3f5f\"},\"marker\":{\"line\":{\"color\":\"#E5ECF6\",\"width\":0.5},\"pattern\":{\"fillmode\":\"overlay\",\"size\":10,\"solidity\":0.2}},\"type\":\"bar\"}],\"carpet\":[{\"aaxis\":{\"endlinecolor\":\"#2a3f5f\",\"gridcolor\":\"white\",\"linecolor\":\"white\",\"minorgridcolor\":\"white\",\"startlinecolor\":\"#2a3f5f\"},\"baxis\":{\"endlinecolor\":\"#2a3f5f\",\"gridcolor\":\"white\",\"linecolor\":\"white\",\"minorgridcolor\":\"white\",\"startlinecolor\":\"#2a3f5f\"},\"type\":\"carpet\"}],\"choropleth\":[{\"colorbar\":{\"outlinewidth\":0,\"ticks\":\"\"},\"type\":\"choropleth\"}],\"contourcarpet\":[{\"colorbar\":{\"outlinewidth\":0,\"ticks\":\"\"},\"type\":\"contourcarpet\"}],\"contour\":[{\"colorbar\":{\"outlinewidth\":0,\"ticks\":\"\"},\"colorscale\":[[0.0,\"#0d0887\"],[0.1111111111111111,\"#46039f\"],[0.2222222222222222,\"#7201a8\"],[0.3333333333333333,\"#9c179e\"],[0.4444444444444444,\"#bd3786\"],[0.5555555555555556,\"#d8576b\"],[0.6666666666666666,\"#ed7953\"],[0.7777777777777778,\"#fb9f3a\"],[0.8888888888888888,\"#fdca26\"],[1.0,\"#f0f921\"]],\"type\":\"contour\"}],\"heatmapgl\":[{\"colorbar\":{\"outlinewidth\":0,\"ticks\":\"\"},\"colorscale\":[[0.0,\"#0d0887\"],[0.1111111111111111,\"#46039f\"],[0.2222222222222222,\"#7201a8\"],[0.3333333333333333,\"#9c179e\"],[0.4444444444444444,\"#bd3786\"],[0.5555555555555556,\"#d8576b\"],[0.6666666666666666,\"#ed7953\"],[0.7777777777777778,\"#fb9f3a\"],[0.8888888888888888,\"#fdca26\"],[1.0,\"#f0f921\"]],\"type\":\"heatmapgl\"}],\"heatmap\":[{\"colorbar\":{\"outlinewidth\":0,\"ticks\":\"\"},\"colorscale\":[[0.0,\"#0d0887\"],[0.1111111111111111,\"#46039f\"],[0.2222222222222222,\"#7201a8\"],[0.3333333333333333,\"#9c179e\"],[0.4444444444444444,\"#bd3786\"],[0.5555555555555556,\"#d8576b\"],[0.6666666666666666,\"#ed7953\"],[0.7777777777777778,\"#fb9f3a\"],[0.8888888888888888,\"#fdca26\"],[1.0,\"#f0f921\"]],\"type\":\"heatmap\"}],\"histogram2dcontour\":[{\"colorbar\":{\"outlinewidth\":0,\"ticks\":\"\"},\"colorscale\":[[0.0,\"#0d0887\"],[0.1111111111111111,\"#46039f\"],[0.2222222222222222,\"#7201a8\"],[0.3333333333333333,\"#9c179e\"],[0.4444444444444444,\"#bd3786\"],[0.5555555555555556,\"#d8576b\"],[0.6666666666666666,\"#ed7953\"],[0.7777777777777778,\"#fb9f3a\"],[0.8888888888888888,\"#fdca26\"],[1.0,\"#f0f921\"]],\"type\":\"histogram2dcontour\"}],\"histogram2d\":[{\"colorbar\":{\"outlinewidth\":0,\"ticks\":\"\"},\"colorscale\":[[0.0,\"#0d0887\"],[0.1111111111111111,\"#46039f\"],[0.2222222222222222,\"#7201a8\"],[0.3333333333333333,\"#9c179e\"],[0.4444444444444444,\"#bd3786\"],[0.5555555555555556,\"#d8576b\"],[0.6666666666666666,\"#ed7953\"],[0.7777777777777778,\"#fb9f3a\"],[0.8888888888888888,\"#fdca26\"],[1.0,\"#f0f921\"]],\"type\":\"histogram2d\"}],\"histogram\":[{\"marker\":{\"pattern\":{\"fillmode\":\"overlay\",\"size\":10,\"solidity\":0.2}},\"type\":\"histogram\"}],\"mesh3d\":[{\"colorbar\":{\"outlinewidth\":0,\"ticks\":\"\"},\"type\":\"mesh3d\"}],\"parcoords\":[{\"line\":{\"colorbar\":{\"outlinewidth\":0,\"ticks\":\"\"}},\"type\":\"parcoords\"}],\"pie\":[{\"automargin\":true,\"type\":\"pie\"}],\"scatter3d\":[{\"line\":{\"colorbar\":{\"outlinewidth\":0,\"ticks\":\"\"}},\"marker\":{\"colorbar\":{\"outlinewidth\":0,\"ticks\":\"\"}},\"type\":\"scatter3d\"}],\"scattercarpet\":[{\"marker\":{\"colorbar\":{\"outlinewidth\":0,\"ticks\":\"\"}},\"type\":\"scattercarpet\"}],\"scattergeo\":[{\"marker\":{\"colorbar\":{\"outlinewidth\":0,\"ticks\":\"\"}},\"type\":\"scattergeo\"}],\"scattergl\":[{\"marker\":{\"colorbar\":{\"outlinewidth\":0,\"ticks\":\"\"}},\"type\":\"scattergl\"}],\"scattermapbox\":[{\"marker\":{\"colorbar\":{\"outlinewidth\":0,\"ticks\":\"\"}},\"type\":\"scattermapbox\"}],\"scatterpolargl\":[{\"marker\":{\"colorbar\":{\"outlinewidth\":0,\"ticks\":\"\"}},\"type\":\"scatterpolargl\"}],\"scatterpolar\":[{\"marker\":{\"colorbar\":{\"outlinewidth\":0,\"ticks\":\"\"}},\"type\":\"scatterpolar\"}],\"scatter\":[{\"fillpattern\":{\"fillmode\":\"overlay\",\"size\":10,\"solidity\":0.2},\"type\":\"scatter\"}],\"scatterternary\":[{\"marker\":{\"colorbar\":{\"outlinewidth\":0,\"ticks\":\"\"}},\"type\":\"scatterternary\"}],\"surface\":[{\"colorbar\":{\"outlinewidth\":0,\"ticks\":\"\"},\"colorscale\":[[0.0,\"#0d0887\"],[0.1111111111111111,\"#46039f\"],[0.2222222222222222,\"#7201a8\"],[0.3333333333333333,\"#9c179e\"],[0.4444444444444444,\"#bd3786\"],[0.5555555555555556,\"#d8576b\"],[0.6666666666666666,\"#ed7953\"],[0.7777777777777778,\"#fb9f3a\"],[0.8888888888888888,\"#fdca26\"],[1.0,\"#f0f921\"]],\"type\":\"surface\"}],\"table\":[{\"cells\":{\"fill\":{\"color\":\"#EBF0F8\"},\"line\":{\"color\":\"white\"}},\"header\":{\"fill\":{\"color\":\"#C8D4E3\"},\"line\":{\"color\":\"white\"}},\"type\":\"table\"}]},\"layout\":{\"annotationdefaults\":{\"arrowcolor\":\"#2a3f5f\",\"arrowhead\":0,\"arrowwidth\":1},\"autotypenumbers\":\"strict\",\"coloraxis\":{\"colorbar\":{\"outlinewidth\":0,\"ticks\":\"\"}},\"colorscale\":{\"diverging\":[[0,\"#8e0152\"],[0.1,\"#c51b7d\"],[0.2,\"#de77ae\"],[0.3,\"#f1b6da\"],[0.4,\"#fde0ef\"],[0.5,\"#f7f7f7\"],[0.6,\"#e6f5d0\"],[0.7,\"#b8e186\"],[0.8,\"#7fbc41\"],[0.9,\"#4d9221\"],[1,\"#276419\"]],\"sequential\":[[0.0,\"#0d0887\"],[0.1111111111111111,\"#46039f\"],[0.2222222222222222,\"#7201a8\"],[0.3333333333333333,\"#9c179e\"],[0.4444444444444444,\"#bd3786\"],[0.5555555555555556,\"#d8576b\"],[0.6666666666666666,\"#ed7953\"],[0.7777777777777778,\"#fb9f3a\"],[0.8888888888888888,\"#fdca26\"],[1.0,\"#f0f921\"]],\"sequentialminus\":[[0.0,\"#0d0887\"],[0.1111111111111111,\"#46039f\"],[0.2222222222222222,\"#7201a8\"],[0.3333333333333333,\"#9c179e\"],[0.4444444444444444,\"#bd3786\"],[0.5555555555555556,\"#d8576b\"],[0.6666666666666666,\"#ed7953\"],[0.7777777777777778,\"#fb9f3a\"],[0.8888888888888888,\"#fdca26\"],[1.0,\"#f0f921\"]]},\"colorway\":[\"#636efa\",\"#EF553B\",\"#00cc96\",\"#ab63fa\",\"#FFA15A\",\"#19d3f3\",\"#FF6692\",\"#B6E880\",\"#FF97FF\",\"#FECB52\"],\"font\":{\"color\":\"#2a3f5f\"},\"geo\":{\"bgcolor\":\"white\",\"lakecolor\":\"white\",\"landcolor\":\"#E5ECF6\",\"showlakes\":true,\"showland\":true,\"subunitcolor\":\"white\"},\"hoverlabel\":{\"align\":\"left\"},\"hovermode\":\"closest\",\"mapbox\":{\"style\":\"light\"},\"paper_bgcolor\":\"white\",\"plot_bgcolor\":\"#E5ECF6\",\"polar\":{\"angularaxis\":{\"gridcolor\":\"white\",\"linecolor\":\"white\",\"ticks\":\"\"},\"bgcolor\":\"#E5ECF6\",\"radialaxis\":{\"gridcolor\":\"white\",\"linecolor\":\"white\",\"ticks\":\"\"}},\"scene\":{\"xaxis\":{\"backgroundcolor\":\"#E5ECF6\",\"gridcolor\":\"white\",\"gridwidth\":2,\"linecolor\":\"white\",\"showbackground\":true,\"ticks\":\"\",\"zerolinecolor\":\"white\"},\"yaxis\":{\"backgroundcolor\":\"#E5ECF6\",\"gridcolor\":\"white\",\"gridwidth\":2,\"linecolor\":\"white\",\"showbackground\":true,\"ticks\":\"\",\"zerolinecolor\":\"white\"},\"zaxis\":{\"backgroundcolor\":\"#E5ECF6\",\"gridcolor\":\"white\",\"gridwidth\":2,\"linecolor\":\"white\",\"showbackground\":true,\"ticks\":\"\",\"zerolinecolor\":\"white\"}},\"shapedefaults\":{\"line\":{\"color\":\"#2a3f5f\"}},\"ternary\":{\"aaxis\":{\"gridcolor\":\"white\",\"linecolor\":\"white\",\"ticks\":\"\"},\"baxis\":{\"gridcolor\":\"white\",\"linecolor\":\"white\",\"ticks\":\"\"},\"bgcolor\":\"#E5ECF6\",\"caxis\":{\"gridcolor\":\"white\",\"linecolor\":\"white\",\"ticks\":\"\"}},\"title\":{\"x\":0.05},\"xaxis\":{\"automargin\":true,\"gridcolor\":\"white\",\"linecolor\":\"white\",\"ticks\":\"\",\"title\":{\"standoff\":15},\"zerolinecolor\":\"white\",\"zerolinewidth\":2},\"yaxis\":{\"automargin\":true,\"gridcolor\":\"white\",\"linecolor\":\"white\",\"ticks\":\"\",\"title\":{\"standoff\":15},\"zerolinecolor\":\"white\",\"zerolinewidth\":2}}},\"title\":{\"font\":{\"color\":\"#4D5663\"},\"text\":\"Total by cause (10 most frequent causes)\"},\"xaxis\":{\"gridcolor\":\"#E1E5ED\",\"showgrid\":true,\"tickfont\":{\"color\":\"#4D5663\"},\"title\":{\"font\":{\"color\":\"#4D5663\"},\"text\":\"Cause\"},\"zerolinecolor\":\"#E1E5ED\"},\"yaxis\":{\"gridcolor\":\"#E1E5ED\",\"showgrid\":true,\"tickfont\":{\"color\":\"#4D5663\"},\"title\":{\"font\":{\"color\":\"#4D5663\"},\"text\":\"Total\"},\"zerolinecolor\":\"#E1E5ED\"}},                        {\"showLink\": true, \"linkText\": \"Export to plot.ly\", \"plotlyServerURL\": \"https://plot.ly\", \"responsive\": true}                    ).then(function(){\n",
       "                            \n",
       "var gd = document.getElementById('698ddf5e-a5d4-4771-9cc8-94d1eedb5ec0');\n",
       "var x = new MutationObserver(function (mutations, observer) {{\n",
       "        var display = window.getComputedStyle(gd).display;\n",
       "        if (!display || display === 'none') {{\n",
       "            console.log([gd, 'removed!']);\n",
       "            Plotly.purge(gd);\n",
       "            observer.disconnect();\n",
       "        }}\n",
       "}});\n",
       "\n",
       "// Listen for the removal of the full notebook cells\n",
       "var notebookContainer = gd.closest('#notebook-container');\n",
       "if (notebookContainer) {{\n",
       "    x.observe(notebookContainer, {childList: true});\n",
       "}}\n",
       "\n",
       "// Listen for the clearing of the current output cell\n",
       "var outputEl = gd.closest('.output');\n",
       "if (outputEl) {{\n",
       "    x.observe(outputEl, {childList: true});\n",
       "}}\n",
       "\n",
       "                        })                };                });            </script>        </div>"
      ]
     },
     "metadata": {},
     "output_type": "display_data"
    }
   ],
   "source": [
    "# Graph total deaths every cause\n",
    "deaths_tot_cause.iplot(kind='bar',\n",
    "                       x='cause_name',\n",
    "                       y='Total',\n",
    "                       xTitle='Cause',\n",
    "                       yTitle='Total',\n",
    "                       title='Total by cause (10 most frequent causes)')\n"
   ]
  },
  {
   "cell_type": "code",
   "execution_count": 25,
   "metadata": {},
   "outputs": [
    {
     "data": {
      "text/html": [
       "<div>\n",
       "<style scoped>\n",
       "    .dataframe tbody tr th:only-of-type {\n",
       "        vertical-align: middle;\n",
       "    }\n",
       "\n",
       "    .dataframe tbody tr th {\n",
       "        vertical-align: top;\n",
       "    }\n",
       "\n",
       "    .dataframe thead th {\n",
       "        text-align: right;\n",
       "    }\n",
       "</style>\n",
       "<table border=\"1\" class=\"dataframe\">\n",
       "  <thead>\n",
       "    <tr style=\"text-align: right;\">\n",
       "      <th></th>\n",
       "      <th>cause_code</th>\n",
       "      <th>Causa de muerte</th>\n",
       "      <th>Sexo</th>\n",
       "      <th>Edad</th>\n",
       "      <th>Periodo</th>\n",
       "      <th>Total</th>\n",
       "      <th>cause_group</th>\n",
       "      <th>cause_name</th>\n",
       "    </tr>\n",
       "  </thead>\n",
       "  <tbody>\n",
       "    <tr>\n",
       "      <th>858</th>\n",
       "      <td>059</td>\n",
       "      <td>059  Enfermedades cerebrovasculares</td>\n",
       "      <td>Hombres</td>\n",
       "      <td>Todas las edades</td>\n",
       "      <td>2018</td>\n",
       "      <td>11435</td>\n",
       "      <td>Single cause</td>\n",
       "      <td>Enfermedades cerebrovasculares</td>\n",
       "    </tr>\n",
       "    <tr>\n",
       "      <th>859</th>\n",
       "      <td>059</td>\n",
       "      <td>059  Enfermedades cerebrovasculares</td>\n",
       "      <td>Hombres</td>\n",
       "      <td>Todas las edades</td>\n",
       "      <td>2017</td>\n",
       "      <td>11555</td>\n",
       "      <td>Single cause</td>\n",
       "      <td>Enfermedades cerebrovasculares</td>\n",
       "    </tr>\n",
       "    <tr>\n",
       "      <th>860</th>\n",
       "      <td>059</td>\n",
       "      <td>059  Enfermedades cerebrovasculares</td>\n",
       "      <td>Hombres</td>\n",
       "      <td>Todas las edades</td>\n",
       "      <td>2016</td>\n",
       "      <td>11556</td>\n",
       "      <td>Single cause</td>\n",
       "      <td>Enfermedades cerebrovasculares</td>\n",
       "    </tr>\n",
       "    <tr>\n",
       "      <th>861</th>\n",
       "      <td>059</td>\n",
       "      <td>059  Enfermedades cerebrovasculares</td>\n",
       "      <td>Hombres</td>\n",
       "      <td>Todas las edades</td>\n",
       "      <td>2015</td>\n",
       "      <td>12077</td>\n",
       "      <td>Single cause</td>\n",
       "      <td>Enfermedades cerebrovasculares</td>\n",
       "    </tr>\n",
       "    <tr>\n",
       "      <th>862</th>\n",
       "      <td>059</td>\n",
       "      <td>059  Enfermedades cerebrovasculares</td>\n",
       "      <td>Hombres</td>\n",
       "      <td>Todas las edades</td>\n",
       "      <td>2014</td>\n",
       "      <td>11573</td>\n",
       "      <td>Single cause</td>\n",
       "      <td>Enfermedades cerebrovasculares</td>\n",
       "    </tr>\n",
       "    <tr>\n",
       "      <th>...</th>\n",
       "      <td>...</td>\n",
       "      <td>...</td>\n",
       "      <td>...</td>\n",
       "      <td>...</td>\n",
       "      <td>...</td>\n",
       "      <td>...</td>\n",
       "      <td>...</td>\n",
       "      <td>...</td>\n",
       "    </tr>\n",
       "    <tr>\n",
       "      <th>24916</th>\n",
       "      <td>044</td>\n",
       "      <td>044  Diabetes mellitus</td>\n",
       "      <td>Mujeres</td>\n",
       "      <td>Todas las edades</td>\n",
       "      <td>1984</td>\n",
       "      <td>5378</td>\n",
       "      <td>Single cause</td>\n",
       "      <td>Diabetes mellitus</td>\n",
       "    </tr>\n",
       "    <tr>\n",
       "      <th>24917</th>\n",
       "      <td>044</td>\n",
       "      <td>044  Diabetes mellitus</td>\n",
       "      <td>Mujeres</td>\n",
       "      <td>Todas las edades</td>\n",
       "      <td>1983</td>\n",
       "      <td>5326</td>\n",
       "      <td>Single cause</td>\n",
       "      <td>Diabetes mellitus</td>\n",
       "    </tr>\n",
       "    <tr>\n",
       "      <th>24918</th>\n",
       "      <td>044</td>\n",
       "      <td>044  Diabetes mellitus</td>\n",
       "      <td>Mujeres</td>\n",
       "      <td>Todas las edades</td>\n",
       "      <td>1982</td>\n",
       "      <td>5006</td>\n",
       "      <td>Single cause</td>\n",
       "      <td>Diabetes mellitus</td>\n",
       "    </tr>\n",
       "    <tr>\n",
       "      <th>24919</th>\n",
       "      <td>044</td>\n",
       "      <td>044  Diabetes mellitus</td>\n",
       "      <td>Mujeres</td>\n",
       "      <td>Todas las edades</td>\n",
       "      <td>1981</td>\n",
       "      <td>4832</td>\n",
       "      <td>Single cause</td>\n",
       "      <td>Diabetes mellitus</td>\n",
       "    </tr>\n",
       "    <tr>\n",
       "      <th>24920</th>\n",
       "      <td>044</td>\n",
       "      <td>044  Diabetes mellitus</td>\n",
       "      <td>Mujeres</td>\n",
       "      <td>Todas las edades</td>\n",
       "      <td>1980</td>\n",
       "      <td>4580</td>\n",
       "      <td>Single cause</td>\n",
       "      <td>Diabetes mellitus</td>\n",
       "    </tr>\n",
       "  </tbody>\n",
       "</table>\n",
       "<p>780 rows × 8 columns</p>\n",
       "</div>"
      ],
      "text/plain": [
       "      cause_code                      Causa de muerte     Sexo  \\\n",
       "858          059  059  Enfermedades cerebrovasculares  Hombres   \n",
       "859          059  059  Enfermedades cerebrovasculares  Hombres   \n",
       "860          059  059  Enfermedades cerebrovasculares  Hombres   \n",
       "861          059  059  Enfermedades cerebrovasculares  Hombres   \n",
       "862          059  059  Enfermedades cerebrovasculares  Hombres   \n",
       "...          ...                                  ...      ...   \n",
       "24916        044               044  Diabetes mellitus  Mujeres   \n",
       "24917        044               044  Diabetes mellitus  Mujeres   \n",
       "24918        044               044  Diabetes mellitus  Mujeres   \n",
       "24919        044               044  Diabetes mellitus  Mujeres   \n",
       "24920        044               044  Diabetes mellitus  Mujeres   \n",
       "\n",
       "                   Edad  Periodo  Total   cause_group  \\\n",
       "858    Todas las edades     2018  11435  Single cause   \n",
       "859    Todas las edades     2017  11555  Single cause   \n",
       "860    Todas las edades     2016  11556  Single cause   \n",
       "861    Todas las edades     2015  12077  Single cause   \n",
       "862    Todas las edades     2014  11573  Single cause   \n",
       "...                 ...      ...    ...           ...   \n",
       "24916  Todas las edades     1984   5378  Single cause   \n",
       "24917  Todas las edades     1983   5326  Single cause   \n",
       "24918  Todas las edades     1982   5006  Single cause   \n",
       "24919  Todas las edades     1981   4832  Single cause   \n",
       "24920  Todas las edades     1980   4580  Single cause   \n",
       "\n",
       "                           cause_name  \n",
       "858    Enfermedades cerebrovasculares  \n",
       "859    Enfermedades cerebrovasculares  \n",
       "860    Enfermedades cerebrovasculares  \n",
       "861    Enfermedades cerebrovasculares  \n",
       "862    Enfermedades cerebrovasculares  \n",
       "...                               ...  \n",
       "24916               Diabetes mellitus  \n",
       "24917               Diabetes mellitus  \n",
       "24918               Diabetes mellitus  \n",
       "24919               Diabetes mellitus  \n",
       "24920               Diabetes mellitus  \n",
       "\n",
       "[780 rows x 8 columns]"
      ]
     },
     "execution_count": 25,
     "metadata": {},
     "output_type": "execute_result"
    }
   ],
   "source": [
    "# 10 most causes by sex\n",
    "most_causes = deaths_tot_cause[['cause_code']]\n",
    "deaths_sex = most_causes.merge(deaths)\n",
    "deaths_sex = deaths_sex[(deaths_sex['Sexo'] != 'Total') & \n",
    "                        (deaths_sex['Edad'] == 'Todas las edades')]\n",
    "deaths_sex"
   ]
  },
  {
   "cell_type": "code",
   "execution_count": 26,
   "metadata": {},
   "outputs": [
    {
     "name": "stdout",
     "output_type": "stream",
     "text": [
      "20\n"
     ]
    },
    {
     "data": {
      "text/html": [
       "<div>\n",
       "<style scoped>\n",
       "    .dataframe tbody tr th:only-of-type {\n",
       "        vertical-align: middle;\n",
       "    }\n",
       "\n",
       "    .dataframe tbody tr th {\n",
       "        vertical-align: top;\n",
       "    }\n",
       "\n",
       "    .dataframe thead th {\n",
       "        text-align: right;\n",
       "    }\n",
       "</style>\n",
       "<table border=\"1\" class=\"dataframe\">\n",
       "  <thead>\n",
       "    <tr style=\"text-align: right;\">\n",
       "      <th></th>\n",
       "      <th>Sexo</th>\n",
       "      <th>cause_code</th>\n",
       "      <th>cause_name</th>\n",
       "      <th>Total</th>\n",
       "    </tr>\n",
       "  </thead>\n",
       "  <tbody>\n",
       "    <tr>\n",
       "      <th>0</th>\n",
       "      <td>Hombres</td>\n",
       "      <td>018</td>\n",
       "      <td>Tumor maligno de la tráquea, de los bronquios ...</td>\n",
       "      <td>565825</td>\n",
       "    </tr>\n",
       "    <tr>\n",
       "      <th>1</th>\n",
       "      <td>Hombres</td>\n",
       "      <td>044</td>\n",
       "      <td>Diabetes mellitus</td>\n",
       "      <td>138261</td>\n",
       "    </tr>\n",
       "    <tr>\n",
       "      <th>2</th>\n",
       "      <td>Hombres</td>\n",
       "      <td>046</td>\n",
       "      <td>Trastornos mentales orgánicos, senil y presenil</td>\n",
       "      <td>123447</td>\n",
       "    </tr>\n",
       "    <tr>\n",
       "      <th>3</th>\n",
       "      <td>Hombres</td>\n",
       "      <td>055</td>\n",
       "      <td>Infarto agudo de miocardio</td>\n",
       "      <td>523199</td>\n",
       "    </tr>\n",
       "    <tr>\n",
       "      <th>4</th>\n",
       "      <td>Hombres</td>\n",
       "      <td>056</td>\n",
       "      <td>Otras enfermedades isquémicas del corazón</td>\n",
       "      <td>268537</td>\n",
       "    </tr>\n",
       "    <tr>\n",
       "      <th>5</th>\n",
       "      <td>Hombres</td>\n",
       "      <td>057</td>\n",
       "      <td>Insuficiencia cardíaca</td>\n",
       "      <td>273816</td>\n",
       "    </tr>\n",
       "    <tr>\n",
       "      <th>6</th>\n",
       "      <td>Hombres</td>\n",
       "      <td>058</td>\n",
       "      <td>Otras enfermedades del corazón</td>\n",
       "      <td>290034</td>\n",
       "    </tr>\n",
       "    <tr>\n",
       "      <th>7</th>\n",
       "      <td>Hombres</td>\n",
       "      <td>059</td>\n",
       "      <td>Enfermedades cerebrovasculares</td>\n",
       "      <td>612649</td>\n",
       "    </tr>\n",
       "    <tr>\n",
       "      <th>8</th>\n",
       "      <td>Hombres</td>\n",
       "      <td>064</td>\n",
       "      <td>Enfermedades crónicas de las vías respiratoria...</td>\n",
       "      <td>397349</td>\n",
       "    </tr>\n",
       "    <tr>\n",
       "      <th>9</th>\n",
       "      <td>Hombres</td>\n",
       "      <td>067</td>\n",
       "      <td>Otras enfermedades del sistema respiratorio</td>\n",
       "      <td>246037</td>\n",
       "    </tr>\n",
       "    <tr>\n",
       "      <th>10</th>\n",
       "      <td>Mujeres</td>\n",
       "      <td>018</td>\n",
       "      <td>Tumor maligno de la tráquea, de los bronquios ...</td>\n",
       "      <td>90267</td>\n",
       "    </tr>\n",
       "    <tr>\n",
       "      <th>11</th>\n",
       "      <td>Mujeres</td>\n",
       "      <td>044</td>\n",
       "      <td>Diabetes mellitus</td>\n",
       "      <td>221454</td>\n",
       "    </tr>\n",
       "    <tr>\n",
       "      <th>12</th>\n",
       "      <td>Mujeres</td>\n",
       "      <td>046</td>\n",
       "      <td>Trastornos mentales orgánicos, senil y presenil</td>\n",
       "      <td>254874</td>\n",
       "    </tr>\n",
       "    <tr>\n",
       "      <th>13</th>\n",
       "      <td>Mujeres</td>\n",
       "      <td>055</td>\n",
       "      <td>Infarto agudo de miocardio</td>\n",
       "      <td>331963</td>\n",
       "    </tr>\n",
       "    <tr>\n",
       "      <th>14</th>\n",
       "      <td>Mujeres</td>\n",
       "      <td>056</td>\n",
       "      <td>Otras enfermedades isquémicas del corazón</td>\n",
       "      <td>241159</td>\n",
       "    </tr>\n",
       "    <tr>\n",
       "      <th>15</th>\n",
       "      <td>Mujeres</td>\n",
       "      <td>057</td>\n",
       "      <td>Insuficiencia cardíaca</td>\n",
       "      <td>484527</td>\n",
       "    </tr>\n",
       "    <tr>\n",
       "      <th>16</th>\n",
       "      <td>Mujeres</td>\n",
       "      <td>058</td>\n",
       "      <td>Otras enfermedades del corazón</td>\n",
       "      <td>354883</td>\n",
       "    </tr>\n",
       "    <tr>\n",
       "      <th>17</th>\n",
       "      <td>Mujeres</td>\n",
       "      <td>059</td>\n",
       "      <td>Enfermedades cerebrovasculares</td>\n",
       "      <td>855192</td>\n",
       "    </tr>\n",
       "    <tr>\n",
       "      <th>18</th>\n",
       "      <td>Mujeres</td>\n",
       "      <td>064</td>\n",
       "      <td>Enfermedades crónicas de las vías respiratoria...</td>\n",
       "      <td>130224</td>\n",
       "    </tr>\n",
       "    <tr>\n",
       "      <th>19</th>\n",
       "      <td>Mujeres</td>\n",
       "      <td>067</td>\n",
       "      <td>Otras enfermedades del sistema respiratorio</td>\n",
       "      <td>252774</td>\n",
       "    </tr>\n",
       "  </tbody>\n",
       "</table>\n",
       "</div>"
      ],
      "text/plain": [
       "       Sexo cause_code                                         cause_name  \\\n",
       "0   Hombres        018  Tumor maligno de la tráquea, de los bronquios ...   \n",
       "1   Hombres        044                                  Diabetes mellitus   \n",
       "2   Hombres        046    Trastornos mentales orgánicos, senil y presenil   \n",
       "3   Hombres        055                         Infarto agudo de miocardio   \n",
       "4   Hombres        056          Otras enfermedades isquémicas del corazón   \n",
       "5   Hombres        057                             Insuficiencia cardíaca   \n",
       "6   Hombres        058                     Otras enfermedades del corazón   \n",
       "7   Hombres        059                     Enfermedades cerebrovasculares   \n",
       "8   Hombres        064  Enfermedades crónicas de las vías respiratoria...   \n",
       "9   Hombres        067        Otras enfermedades del sistema respiratorio   \n",
       "10  Mujeres        018  Tumor maligno de la tráquea, de los bronquios ...   \n",
       "11  Mujeres        044                                  Diabetes mellitus   \n",
       "12  Mujeres        046    Trastornos mentales orgánicos, senil y presenil   \n",
       "13  Mujeres        055                         Infarto agudo de miocardio   \n",
       "14  Mujeres        056          Otras enfermedades isquémicas del corazón   \n",
       "15  Mujeres        057                             Insuficiencia cardíaca   \n",
       "16  Mujeres        058                     Otras enfermedades del corazón   \n",
       "17  Mujeres        059                     Enfermedades cerebrovasculares   \n",
       "18  Mujeres        064  Enfermedades crónicas de las vías respiratoria...   \n",
       "19  Mujeres        067        Otras enfermedades del sistema respiratorio   \n",
       "\n",
       "     Total  \n",
       "0   565825  \n",
       "1   138261  \n",
       "2   123447  \n",
       "3   523199  \n",
       "4   268537  \n",
       "5   273816  \n",
       "6   290034  \n",
       "7   612649  \n",
       "8   397349  \n",
       "9   246037  \n",
       "10   90267  \n",
       "11  221454  \n",
       "12  254874  \n",
       "13  331963  \n",
       "14  241159  \n",
       "15  484527  \n",
       "16  354883  \n",
       "17  855192  \n",
       "18  130224  \n",
       "19  252774  "
      ]
     },
     "execution_count": 26,
     "metadata": {},
     "output_type": "execute_result"
    }
   ],
   "source": [
    "deaths_tot_sex = deaths_sex.groupby(['Sexo',\n",
    "                                     'cause_code', \n",
    "                                     'cause_name'])[['Total']].sum().reset_index()\n",
    "print(len(deaths_tot_sex))\n",
    "deaths_tot_sex"
   ]
  },
  {
   "cell_type": "code",
   "execution_count": 27,
   "metadata": {},
   "outputs": [
    {
     "data": {
      "application/vnd.plotly.v1+json": {
       "config": {
        "plotlyServerURL": "https://plot.ly"
       },
       "data": [
        {
         "alignmentgroup": "True",
         "hovertemplate": "Sex=Hombres<br>Cause=%{x}<br>Total=%{y}<extra></extra>",
         "legendgroup": "Hombres",
         "marker": {
          "color": "#636efa",
          "pattern": {
           "shape": ""
          }
         },
         "name": "Hombres",
         "offsetgroup": "Hombres",
         "orientation": "v",
         "showlegend": true,
         "textposition": "auto",
         "type": "bar",
         "x": [
          "Tumor maligno de la tráquea, de los bronquios y del pulmón",
          "Diabetes mellitus",
          "Trastornos mentales orgánicos, senil y presenil",
          "Infarto agudo de miocardio",
          "Otras enfermedades isquémicas del corazón",
          "Insuficiencia cardíaca",
          "Otras enfermedades del corazón",
          "Enfermedades cerebrovasculares",
          "Enfermedades crónicas de las vías respiratorias inferiores (excepto asma)",
          "Otras enfermedades del sistema respiratorio"
         ],
         "xaxis": "x",
         "y": [
          565825,
          138261,
          123447,
          523199,
          268537,
          273816,
          290034,
          612649,
          397349,
          246037
         ],
         "yaxis": "y"
        },
        {
         "alignmentgroup": "True",
         "hovertemplate": "Sex=Mujeres<br>Cause=%{x}<br>Total=%{y}<extra></extra>",
         "legendgroup": "Mujeres",
         "marker": {
          "color": "#EF553B",
          "pattern": {
           "shape": ""
          }
         },
         "name": "Mujeres",
         "offsetgroup": "Mujeres",
         "orientation": "v",
         "showlegend": true,
         "textposition": "auto",
         "type": "bar",
         "x": [
          "Tumor maligno de la tráquea, de los bronquios y del pulmón",
          "Diabetes mellitus",
          "Trastornos mentales orgánicos, senil y presenil",
          "Infarto agudo de miocardio",
          "Otras enfermedades isquémicas del corazón",
          "Insuficiencia cardíaca",
          "Otras enfermedades del corazón",
          "Enfermedades cerebrovasculares",
          "Enfermedades crónicas de las vías respiratorias inferiores (excepto asma)",
          "Otras enfermedades del sistema respiratorio"
         ],
         "xaxis": "x",
         "y": [
          90267,
          221454,
          254874,
          331963,
          241159,
          484527,
          354883,
          855192,
          130224,
          252774
         ],
         "yaxis": "y"
        }
       ],
       "layout": {
        "barmode": "group",
        "legend": {
         "title": {
          "text": "Sex"
         },
         "tracegroupgap": 0
        },
        "template": {
         "data": {
          "bar": [
           {
            "error_x": {
             "color": "#2a3f5f"
            },
            "error_y": {
             "color": "#2a3f5f"
            },
            "marker": {
             "line": {
              "color": "#E5ECF6",
              "width": 0.5
             },
             "pattern": {
              "fillmode": "overlay",
              "size": 10,
              "solidity": 0.2
             }
            },
            "type": "bar"
           }
          ],
          "barpolar": [
           {
            "marker": {
             "line": {
              "color": "#E5ECF6",
              "width": 0.5
             },
             "pattern": {
              "fillmode": "overlay",
              "size": 10,
              "solidity": 0.2
             }
            },
            "type": "barpolar"
           }
          ],
          "carpet": [
           {
            "aaxis": {
             "endlinecolor": "#2a3f5f",
             "gridcolor": "white",
             "linecolor": "white",
             "minorgridcolor": "white",
             "startlinecolor": "#2a3f5f"
            },
            "baxis": {
             "endlinecolor": "#2a3f5f",
             "gridcolor": "white",
             "linecolor": "white",
             "minorgridcolor": "white",
             "startlinecolor": "#2a3f5f"
            },
            "type": "carpet"
           }
          ],
          "choropleth": [
           {
            "colorbar": {
             "outlinewidth": 0,
             "ticks": ""
            },
            "type": "choropleth"
           }
          ],
          "contour": [
           {
            "colorbar": {
             "outlinewidth": 0,
             "ticks": ""
            },
            "colorscale": [
             [
              0,
              "#0d0887"
             ],
             [
              0.1111111111111111,
              "#46039f"
             ],
             [
              0.2222222222222222,
              "#7201a8"
             ],
             [
              0.3333333333333333,
              "#9c179e"
             ],
             [
              0.4444444444444444,
              "#bd3786"
             ],
             [
              0.5555555555555556,
              "#d8576b"
             ],
             [
              0.6666666666666666,
              "#ed7953"
             ],
             [
              0.7777777777777778,
              "#fb9f3a"
             ],
             [
              0.8888888888888888,
              "#fdca26"
             ],
             [
              1,
              "#f0f921"
             ]
            ],
            "type": "contour"
           }
          ],
          "contourcarpet": [
           {
            "colorbar": {
             "outlinewidth": 0,
             "ticks": ""
            },
            "type": "contourcarpet"
           }
          ],
          "heatmap": [
           {
            "colorbar": {
             "outlinewidth": 0,
             "ticks": ""
            },
            "colorscale": [
             [
              0,
              "#0d0887"
             ],
             [
              0.1111111111111111,
              "#46039f"
             ],
             [
              0.2222222222222222,
              "#7201a8"
             ],
             [
              0.3333333333333333,
              "#9c179e"
             ],
             [
              0.4444444444444444,
              "#bd3786"
             ],
             [
              0.5555555555555556,
              "#d8576b"
             ],
             [
              0.6666666666666666,
              "#ed7953"
             ],
             [
              0.7777777777777778,
              "#fb9f3a"
             ],
             [
              0.8888888888888888,
              "#fdca26"
             ],
             [
              1,
              "#f0f921"
             ]
            ],
            "type": "heatmap"
           }
          ],
          "heatmapgl": [
           {
            "colorbar": {
             "outlinewidth": 0,
             "ticks": ""
            },
            "colorscale": [
             [
              0,
              "#0d0887"
             ],
             [
              0.1111111111111111,
              "#46039f"
             ],
             [
              0.2222222222222222,
              "#7201a8"
             ],
             [
              0.3333333333333333,
              "#9c179e"
             ],
             [
              0.4444444444444444,
              "#bd3786"
             ],
             [
              0.5555555555555556,
              "#d8576b"
             ],
             [
              0.6666666666666666,
              "#ed7953"
             ],
             [
              0.7777777777777778,
              "#fb9f3a"
             ],
             [
              0.8888888888888888,
              "#fdca26"
             ],
             [
              1,
              "#f0f921"
             ]
            ],
            "type": "heatmapgl"
           }
          ],
          "histogram": [
           {
            "marker": {
             "pattern": {
              "fillmode": "overlay",
              "size": 10,
              "solidity": 0.2
             }
            },
            "type": "histogram"
           }
          ],
          "histogram2d": [
           {
            "colorbar": {
             "outlinewidth": 0,
             "ticks": ""
            },
            "colorscale": [
             [
              0,
              "#0d0887"
             ],
             [
              0.1111111111111111,
              "#46039f"
             ],
             [
              0.2222222222222222,
              "#7201a8"
             ],
             [
              0.3333333333333333,
              "#9c179e"
             ],
             [
              0.4444444444444444,
              "#bd3786"
             ],
             [
              0.5555555555555556,
              "#d8576b"
             ],
             [
              0.6666666666666666,
              "#ed7953"
             ],
             [
              0.7777777777777778,
              "#fb9f3a"
             ],
             [
              0.8888888888888888,
              "#fdca26"
             ],
             [
              1,
              "#f0f921"
             ]
            ],
            "type": "histogram2d"
           }
          ],
          "histogram2dcontour": [
           {
            "colorbar": {
             "outlinewidth": 0,
             "ticks": ""
            },
            "colorscale": [
             [
              0,
              "#0d0887"
             ],
             [
              0.1111111111111111,
              "#46039f"
             ],
             [
              0.2222222222222222,
              "#7201a8"
             ],
             [
              0.3333333333333333,
              "#9c179e"
             ],
             [
              0.4444444444444444,
              "#bd3786"
             ],
             [
              0.5555555555555556,
              "#d8576b"
             ],
             [
              0.6666666666666666,
              "#ed7953"
             ],
             [
              0.7777777777777778,
              "#fb9f3a"
             ],
             [
              0.8888888888888888,
              "#fdca26"
             ],
             [
              1,
              "#f0f921"
             ]
            ],
            "type": "histogram2dcontour"
           }
          ],
          "mesh3d": [
           {
            "colorbar": {
             "outlinewidth": 0,
             "ticks": ""
            },
            "type": "mesh3d"
           }
          ],
          "parcoords": [
           {
            "line": {
             "colorbar": {
              "outlinewidth": 0,
              "ticks": ""
             }
            },
            "type": "parcoords"
           }
          ],
          "pie": [
           {
            "automargin": true,
            "type": "pie"
           }
          ],
          "scatter": [
           {
            "fillpattern": {
             "fillmode": "overlay",
             "size": 10,
             "solidity": 0.2
            },
            "type": "scatter"
           }
          ],
          "scatter3d": [
           {
            "line": {
             "colorbar": {
              "outlinewidth": 0,
              "ticks": ""
             }
            },
            "marker": {
             "colorbar": {
              "outlinewidth": 0,
              "ticks": ""
             }
            },
            "type": "scatter3d"
           }
          ],
          "scattercarpet": [
           {
            "marker": {
             "colorbar": {
              "outlinewidth": 0,
              "ticks": ""
             }
            },
            "type": "scattercarpet"
           }
          ],
          "scattergeo": [
           {
            "marker": {
             "colorbar": {
              "outlinewidth": 0,
              "ticks": ""
             }
            },
            "type": "scattergeo"
           }
          ],
          "scattergl": [
           {
            "marker": {
             "colorbar": {
              "outlinewidth": 0,
              "ticks": ""
             }
            },
            "type": "scattergl"
           }
          ],
          "scattermapbox": [
           {
            "marker": {
             "colorbar": {
              "outlinewidth": 0,
              "ticks": ""
             }
            },
            "type": "scattermapbox"
           }
          ],
          "scatterpolar": [
           {
            "marker": {
             "colorbar": {
              "outlinewidth": 0,
              "ticks": ""
             }
            },
            "type": "scatterpolar"
           }
          ],
          "scatterpolargl": [
           {
            "marker": {
             "colorbar": {
              "outlinewidth": 0,
              "ticks": ""
             }
            },
            "type": "scatterpolargl"
           }
          ],
          "scatterternary": [
           {
            "marker": {
             "colorbar": {
              "outlinewidth": 0,
              "ticks": ""
             }
            },
            "type": "scatterternary"
           }
          ],
          "surface": [
           {
            "colorbar": {
             "outlinewidth": 0,
             "ticks": ""
            },
            "colorscale": [
             [
              0,
              "#0d0887"
             ],
             [
              0.1111111111111111,
              "#46039f"
             ],
             [
              0.2222222222222222,
              "#7201a8"
             ],
             [
              0.3333333333333333,
              "#9c179e"
             ],
             [
              0.4444444444444444,
              "#bd3786"
             ],
             [
              0.5555555555555556,
              "#d8576b"
             ],
             [
              0.6666666666666666,
              "#ed7953"
             ],
             [
              0.7777777777777778,
              "#fb9f3a"
             ],
             [
              0.8888888888888888,
              "#fdca26"
             ],
             [
              1,
              "#f0f921"
             ]
            ],
            "type": "surface"
           }
          ],
          "table": [
           {
            "cells": {
             "fill": {
              "color": "#EBF0F8"
             },
             "line": {
              "color": "white"
             }
            },
            "header": {
             "fill": {
              "color": "#C8D4E3"
             },
             "line": {
              "color": "white"
             }
            },
            "type": "table"
           }
          ]
         },
         "layout": {
          "annotationdefaults": {
           "arrowcolor": "#2a3f5f",
           "arrowhead": 0,
           "arrowwidth": 1
          },
          "autotypenumbers": "strict",
          "coloraxis": {
           "colorbar": {
            "outlinewidth": 0,
            "ticks": ""
           }
          },
          "colorscale": {
           "diverging": [
            [
             0,
             "#8e0152"
            ],
            [
             0.1,
             "#c51b7d"
            ],
            [
             0.2,
             "#de77ae"
            ],
            [
             0.3,
             "#f1b6da"
            ],
            [
             0.4,
             "#fde0ef"
            ],
            [
             0.5,
             "#f7f7f7"
            ],
            [
             0.6,
             "#e6f5d0"
            ],
            [
             0.7,
             "#b8e186"
            ],
            [
             0.8,
             "#7fbc41"
            ],
            [
             0.9,
             "#4d9221"
            ],
            [
             1,
             "#276419"
            ]
           ],
           "sequential": [
            [
             0,
             "#0d0887"
            ],
            [
             0.1111111111111111,
             "#46039f"
            ],
            [
             0.2222222222222222,
             "#7201a8"
            ],
            [
             0.3333333333333333,
             "#9c179e"
            ],
            [
             0.4444444444444444,
             "#bd3786"
            ],
            [
             0.5555555555555556,
             "#d8576b"
            ],
            [
             0.6666666666666666,
             "#ed7953"
            ],
            [
             0.7777777777777778,
             "#fb9f3a"
            ],
            [
             0.8888888888888888,
             "#fdca26"
            ],
            [
             1,
             "#f0f921"
            ]
           ],
           "sequentialminus": [
            [
             0,
             "#0d0887"
            ],
            [
             0.1111111111111111,
             "#46039f"
            ],
            [
             0.2222222222222222,
             "#7201a8"
            ],
            [
             0.3333333333333333,
             "#9c179e"
            ],
            [
             0.4444444444444444,
             "#bd3786"
            ],
            [
             0.5555555555555556,
             "#d8576b"
            ],
            [
             0.6666666666666666,
             "#ed7953"
            ],
            [
             0.7777777777777778,
             "#fb9f3a"
            ],
            [
             0.8888888888888888,
             "#fdca26"
            ],
            [
             1,
             "#f0f921"
            ]
           ]
          },
          "colorway": [
           "#636efa",
           "#EF553B",
           "#00cc96",
           "#ab63fa",
           "#FFA15A",
           "#19d3f3",
           "#FF6692",
           "#B6E880",
           "#FF97FF",
           "#FECB52"
          ],
          "font": {
           "color": "#2a3f5f"
          },
          "geo": {
           "bgcolor": "white",
           "lakecolor": "white",
           "landcolor": "#E5ECF6",
           "showlakes": true,
           "showland": true,
           "subunitcolor": "white"
          },
          "hoverlabel": {
           "align": "left"
          },
          "hovermode": "closest",
          "mapbox": {
           "style": "light"
          },
          "paper_bgcolor": "white",
          "plot_bgcolor": "#E5ECF6",
          "polar": {
           "angularaxis": {
            "gridcolor": "white",
            "linecolor": "white",
            "ticks": ""
           },
           "bgcolor": "#E5ECF6",
           "radialaxis": {
            "gridcolor": "white",
            "linecolor": "white",
            "ticks": ""
           }
          },
          "scene": {
           "xaxis": {
            "backgroundcolor": "#E5ECF6",
            "gridcolor": "white",
            "gridwidth": 2,
            "linecolor": "white",
            "showbackground": true,
            "ticks": "",
            "zerolinecolor": "white"
           },
           "yaxis": {
            "backgroundcolor": "#E5ECF6",
            "gridcolor": "white",
            "gridwidth": 2,
            "linecolor": "white",
            "showbackground": true,
            "ticks": "",
            "zerolinecolor": "white"
           },
           "zaxis": {
            "backgroundcolor": "#E5ECF6",
            "gridcolor": "white",
            "gridwidth": 2,
            "linecolor": "white",
            "showbackground": true,
            "ticks": "",
            "zerolinecolor": "white"
           }
          },
          "shapedefaults": {
           "line": {
            "color": "#2a3f5f"
           }
          },
          "ternary": {
           "aaxis": {
            "gridcolor": "white",
            "linecolor": "white",
            "ticks": ""
           },
           "baxis": {
            "gridcolor": "white",
            "linecolor": "white",
            "ticks": ""
           },
           "bgcolor": "#E5ECF6",
           "caxis": {
            "gridcolor": "white",
            "linecolor": "white",
            "ticks": ""
           }
          },
          "title": {
           "x": 0.05
          },
          "xaxis": {
           "automargin": true,
           "gridcolor": "white",
           "linecolor": "white",
           "ticks": "",
           "title": {
            "standoff": 15
           },
           "zerolinecolor": "white",
           "zerolinewidth": 2
          },
          "yaxis": {
           "automargin": true,
           "gridcolor": "white",
           "linecolor": "white",
           "ticks": "",
           "title": {
            "standoff": 15
           },
           "zerolinecolor": "white",
           "zerolinewidth": 2
          }
         }
        },
        "title": {
         "text": "Mostly causes by sex"
        },
        "xaxis": {
         "anchor": "y",
         "categoryorder": "total descending",
         "domain": [
          0,
          1
         ],
         "title": {
          "text": "Cause"
         }
        },
        "yaxis": {
         "anchor": "x",
         "domain": [
          0,
          1
         ],
         "title": {
          "text": "Total"
         }
        }
       }
      },
      "text/html": [
       "<div>                            <div id=\"76d5caa3-5c2e-473d-b36a-d726ba822738\" class=\"plotly-graph-div\" style=\"height:525px; width:100%;\"></div>            <script type=\"text/javascript\">                require([\"plotly\"], function(Plotly) {                    window.PLOTLYENV=window.PLOTLYENV || {};                                    if (document.getElementById(\"76d5caa3-5c2e-473d-b36a-d726ba822738\")) {                    Plotly.newPlot(                        \"76d5caa3-5c2e-473d-b36a-d726ba822738\",                        [{\"alignmentgroup\":\"True\",\"hovertemplate\":\"Sex=Hombres<br>Cause=%{x}<br>Total=%{y}<extra></extra>\",\"legendgroup\":\"Hombres\",\"marker\":{\"color\":\"#636efa\",\"pattern\":{\"shape\":\"\"}},\"name\":\"Hombres\",\"offsetgroup\":\"Hombres\",\"orientation\":\"v\",\"showlegend\":true,\"textposition\":\"auto\",\"x\":[\"Tumor maligno de la tr\\u00e1quea, de los bronquios y del pulm\\u00f3n\",\"Diabetes mellitus\",\"Trastornos mentales org\\u00e1nicos, senil y presenil\",\"Infarto agudo de miocardio\",\"Otras enfermedades isqu\\u00e9micas del coraz\\u00f3n\",\"Insuficiencia card\\u00edaca\",\"Otras enfermedades del coraz\\u00f3n\",\"Enfermedades cerebrovasculares\",\"Enfermedades cr\\u00f3nicas de las v\\u00edas respiratorias inferiores (excepto asma)\",\"Otras enfermedades del sistema respiratorio\"],\"xaxis\":\"x\",\"y\":[565825,138261,123447,523199,268537,273816,290034,612649,397349,246037],\"yaxis\":\"y\",\"type\":\"bar\"},{\"alignmentgroup\":\"True\",\"hovertemplate\":\"Sex=Mujeres<br>Cause=%{x}<br>Total=%{y}<extra></extra>\",\"legendgroup\":\"Mujeres\",\"marker\":{\"color\":\"#EF553B\",\"pattern\":{\"shape\":\"\"}},\"name\":\"Mujeres\",\"offsetgroup\":\"Mujeres\",\"orientation\":\"v\",\"showlegend\":true,\"textposition\":\"auto\",\"x\":[\"Tumor maligno de la tr\\u00e1quea, de los bronquios y del pulm\\u00f3n\",\"Diabetes mellitus\",\"Trastornos mentales org\\u00e1nicos, senil y presenil\",\"Infarto agudo de miocardio\",\"Otras enfermedades isqu\\u00e9micas del coraz\\u00f3n\",\"Insuficiencia card\\u00edaca\",\"Otras enfermedades del coraz\\u00f3n\",\"Enfermedades cerebrovasculares\",\"Enfermedades cr\\u00f3nicas de las v\\u00edas respiratorias inferiores (excepto asma)\",\"Otras enfermedades del sistema respiratorio\"],\"xaxis\":\"x\",\"y\":[90267,221454,254874,331963,241159,484527,354883,855192,130224,252774],\"yaxis\":\"y\",\"type\":\"bar\"}],                        {\"template\":{\"data\":{\"histogram2dcontour\":[{\"type\":\"histogram2dcontour\",\"colorbar\":{\"outlinewidth\":0,\"ticks\":\"\"},\"colorscale\":[[0.0,\"#0d0887\"],[0.1111111111111111,\"#46039f\"],[0.2222222222222222,\"#7201a8\"],[0.3333333333333333,\"#9c179e\"],[0.4444444444444444,\"#bd3786\"],[0.5555555555555556,\"#d8576b\"],[0.6666666666666666,\"#ed7953\"],[0.7777777777777778,\"#fb9f3a\"],[0.8888888888888888,\"#fdca26\"],[1.0,\"#f0f921\"]]}],\"choropleth\":[{\"type\":\"choropleth\",\"colorbar\":{\"outlinewidth\":0,\"ticks\":\"\"}}],\"histogram2d\":[{\"type\":\"histogram2d\",\"colorbar\":{\"outlinewidth\":0,\"ticks\":\"\"},\"colorscale\":[[0.0,\"#0d0887\"],[0.1111111111111111,\"#46039f\"],[0.2222222222222222,\"#7201a8\"],[0.3333333333333333,\"#9c179e\"],[0.4444444444444444,\"#bd3786\"],[0.5555555555555556,\"#d8576b\"],[0.6666666666666666,\"#ed7953\"],[0.7777777777777778,\"#fb9f3a\"],[0.8888888888888888,\"#fdca26\"],[1.0,\"#f0f921\"]]}],\"heatmap\":[{\"type\":\"heatmap\",\"colorbar\":{\"outlinewidth\":0,\"ticks\":\"\"},\"colorscale\":[[0.0,\"#0d0887\"],[0.1111111111111111,\"#46039f\"],[0.2222222222222222,\"#7201a8\"],[0.3333333333333333,\"#9c179e\"],[0.4444444444444444,\"#bd3786\"],[0.5555555555555556,\"#d8576b\"],[0.6666666666666666,\"#ed7953\"],[0.7777777777777778,\"#fb9f3a\"],[0.8888888888888888,\"#fdca26\"],[1.0,\"#f0f921\"]]}],\"heatmapgl\":[{\"type\":\"heatmapgl\",\"colorbar\":{\"outlinewidth\":0,\"ticks\":\"\"},\"colorscale\":[[0.0,\"#0d0887\"],[0.1111111111111111,\"#46039f\"],[0.2222222222222222,\"#7201a8\"],[0.3333333333333333,\"#9c179e\"],[0.4444444444444444,\"#bd3786\"],[0.5555555555555556,\"#d8576b\"],[0.6666666666666666,\"#ed7953\"],[0.7777777777777778,\"#fb9f3a\"],[0.8888888888888888,\"#fdca26\"],[1.0,\"#f0f921\"]]}],\"contourcarpet\":[{\"type\":\"contourcarpet\",\"colorbar\":{\"outlinewidth\":0,\"ticks\":\"\"}}],\"contour\":[{\"type\":\"contour\",\"colorbar\":{\"outlinewidth\":0,\"ticks\":\"\"},\"colorscale\":[[0.0,\"#0d0887\"],[0.1111111111111111,\"#46039f\"],[0.2222222222222222,\"#7201a8\"],[0.3333333333333333,\"#9c179e\"],[0.4444444444444444,\"#bd3786\"],[0.5555555555555556,\"#d8576b\"],[0.6666666666666666,\"#ed7953\"],[0.7777777777777778,\"#fb9f3a\"],[0.8888888888888888,\"#fdca26\"],[1.0,\"#f0f921\"]]}],\"surface\":[{\"type\":\"surface\",\"colorbar\":{\"outlinewidth\":0,\"ticks\":\"\"},\"colorscale\":[[0.0,\"#0d0887\"],[0.1111111111111111,\"#46039f\"],[0.2222222222222222,\"#7201a8\"],[0.3333333333333333,\"#9c179e\"],[0.4444444444444444,\"#bd3786\"],[0.5555555555555556,\"#d8576b\"],[0.6666666666666666,\"#ed7953\"],[0.7777777777777778,\"#fb9f3a\"],[0.8888888888888888,\"#fdca26\"],[1.0,\"#f0f921\"]]}],\"mesh3d\":[{\"type\":\"mesh3d\",\"colorbar\":{\"outlinewidth\":0,\"ticks\":\"\"}}],\"scatter\":[{\"fillpattern\":{\"fillmode\":\"overlay\",\"size\":10,\"solidity\":0.2},\"type\":\"scatter\"}],\"parcoords\":[{\"type\":\"parcoords\",\"line\":{\"colorbar\":{\"outlinewidth\":0,\"ticks\":\"\"}}}],\"scatterpolargl\":[{\"type\":\"scatterpolargl\",\"marker\":{\"colorbar\":{\"outlinewidth\":0,\"ticks\":\"\"}}}],\"bar\":[{\"error_x\":{\"color\":\"#2a3f5f\"},\"error_y\":{\"color\":\"#2a3f5f\"},\"marker\":{\"line\":{\"color\":\"#E5ECF6\",\"width\":0.5},\"pattern\":{\"fillmode\":\"overlay\",\"size\":10,\"solidity\":0.2}},\"type\":\"bar\"}],\"scattergeo\":[{\"type\":\"scattergeo\",\"marker\":{\"colorbar\":{\"outlinewidth\":0,\"ticks\":\"\"}}}],\"scatterpolar\":[{\"type\":\"scatterpolar\",\"marker\":{\"colorbar\":{\"outlinewidth\":0,\"ticks\":\"\"}}}],\"histogram\":[{\"marker\":{\"pattern\":{\"fillmode\":\"overlay\",\"size\":10,\"solidity\":0.2}},\"type\":\"histogram\"}],\"scattergl\":[{\"type\":\"scattergl\",\"marker\":{\"colorbar\":{\"outlinewidth\":0,\"ticks\":\"\"}}}],\"scatter3d\":[{\"type\":\"scatter3d\",\"line\":{\"colorbar\":{\"outlinewidth\":0,\"ticks\":\"\"}},\"marker\":{\"colorbar\":{\"outlinewidth\":0,\"ticks\":\"\"}}}],\"scattermapbox\":[{\"type\":\"scattermapbox\",\"marker\":{\"colorbar\":{\"outlinewidth\":0,\"ticks\":\"\"}}}],\"scatterternary\":[{\"type\":\"scatterternary\",\"marker\":{\"colorbar\":{\"outlinewidth\":0,\"ticks\":\"\"}}}],\"scattercarpet\":[{\"type\":\"scattercarpet\",\"marker\":{\"colorbar\":{\"outlinewidth\":0,\"ticks\":\"\"}}}],\"carpet\":[{\"aaxis\":{\"endlinecolor\":\"#2a3f5f\",\"gridcolor\":\"white\",\"linecolor\":\"white\",\"minorgridcolor\":\"white\",\"startlinecolor\":\"#2a3f5f\"},\"baxis\":{\"endlinecolor\":\"#2a3f5f\",\"gridcolor\":\"white\",\"linecolor\":\"white\",\"minorgridcolor\":\"white\",\"startlinecolor\":\"#2a3f5f\"},\"type\":\"carpet\"}],\"table\":[{\"cells\":{\"fill\":{\"color\":\"#EBF0F8\"},\"line\":{\"color\":\"white\"}},\"header\":{\"fill\":{\"color\":\"#C8D4E3\"},\"line\":{\"color\":\"white\"}},\"type\":\"table\"}],\"barpolar\":[{\"marker\":{\"line\":{\"color\":\"#E5ECF6\",\"width\":0.5},\"pattern\":{\"fillmode\":\"overlay\",\"size\":10,\"solidity\":0.2}},\"type\":\"barpolar\"}],\"pie\":[{\"automargin\":true,\"type\":\"pie\"}]},\"layout\":{\"autotypenumbers\":\"strict\",\"colorway\":[\"#636efa\",\"#EF553B\",\"#00cc96\",\"#ab63fa\",\"#FFA15A\",\"#19d3f3\",\"#FF6692\",\"#B6E880\",\"#FF97FF\",\"#FECB52\"],\"font\":{\"color\":\"#2a3f5f\"},\"hovermode\":\"closest\",\"hoverlabel\":{\"align\":\"left\"},\"paper_bgcolor\":\"white\",\"plot_bgcolor\":\"#E5ECF6\",\"polar\":{\"bgcolor\":\"#E5ECF6\",\"angularaxis\":{\"gridcolor\":\"white\",\"linecolor\":\"white\",\"ticks\":\"\"},\"radialaxis\":{\"gridcolor\":\"white\",\"linecolor\":\"white\",\"ticks\":\"\"}},\"ternary\":{\"bgcolor\":\"#E5ECF6\",\"aaxis\":{\"gridcolor\":\"white\",\"linecolor\":\"white\",\"ticks\":\"\"},\"baxis\":{\"gridcolor\":\"white\",\"linecolor\":\"white\",\"ticks\":\"\"},\"caxis\":{\"gridcolor\":\"white\",\"linecolor\":\"white\",\"ticks\":\"\"}},\"coloraxis\":{\"colorbar\":{\"outlinewidth\":0,\"ticks\":\"\"}},\"colorscale\":{\"sequential\":[[0.0,\"#0d0887\"],[0.1111111111111111,\"#46039f\"],[0.2222222222222222,\"#7201a8\"],[0.3333333333333333,\"#9c179e\"],[0.4444444444444444,\"#bd3786\"],[0.5555555555555556,\"#d8576b\"],[0.6666666666666666,\"#ed7953\"],[0.7777777777777778,\"#fb9f3a\"],[0.8888888888888888,\"#fdca26\"],[1.0,\"#f0f921\"]],\"sequentialminus\":[[0.0,\"#0d0887\"],[0.1111111111111111,\"#46039f\"],[0.2222222222222222,\"#7201a8\"],[0.3333333333333333,\"#9c179e\"],[0.4444444444444444,\"#bd3786\"],[0.5555555555555556,\"#d8576b\"],[0.6666666666666666,\"#ed7953\"],[0.7777777777777778,\"#fb9f3a\"],[0.8888888888888888,\"#fdca26\"],[1.0,\"#f0f921\"]],\"diverging\":[[0,\"#8e0152\"],[0.1,\"#c51b7d\"],[0.2,\"#de77ae\"],[0.3,\"#f1b6da\"],[0.4,\"#fde0ef\"],[0.5,\"#f7f7f7\"],[0.6,\"#e6f5d0\"],[0.7,\"#b8e186\"],[0.8,\"#7fbc41\"],[0.9,\"#4d9221\"],[1,\"#276419\"]]},\"xaxis\":{\"gridcolor\":\"white\",\"linecolor\":\"white\",\"ticks\":\"\",\"title\":{\"standoff\":15},\"zerolinecolor\":\"white\",\"automargin\":true,\"zerolinewidth\":2},\"yaxis\":{\"gridcolor\":\"white\",\"linecolor\":\"white\",\"ticks\":\"\",\"title\":{\"standoff\":15},\"zerolinecolor\":\"white\",\"automargin\":true,\"zerolinewidth\":2},\"scene\":{\"xaxis\":{\"backgroundcolor\":\"#E5ECF6\",\"gridcolor\":\"white\",\"linecolor\":\"white\",\"showbackground\":true,\"ticks\":\"\",\"zerolinecolor\":\"white\",\"gridwidth\":2},\"yaxis\":{\"backgroundcolor\":\"#E5ECF6\",\"gridcolor\":\"white\",\"linecolor\":\"white\",\"showbackground\":true,\"ticks\":\"\",\"zerolinecolor\":\"white\",\"gridwidth\":2},\"zaxis\":{\"backgroundcolor\":\"#E5ECF6\",\"gridcolor\":\"white\",\"linecolor\":\"white\",\"showbackground\":true,\"ticks\":\"\",\"zerolinecolor\":\"white\",\"gridwidth\":2}},\"shapedefaults\":{\"line\":{\"color\":\"#2a3f5f\"}},\"annotationdefaults\":{\"arrowcolor\":\"#2a3f5f\",\"arrowhead\":0,\"arrowwidth\":1},\"geo\":{\"bgcolor\":\"white\",\"landcolor\":\"#E5ECF6\",\"subunitcolor\":\"white\",\"showland\":true,\"showlakes\":true,\"lakecolor\":\"white\"},\"title\":{\"x\":0.05},\"mapbox\":{\"style\":\"light\"}}},\"xaxis\":{\"anchor\":\"y\",\"domain\":[0.0,1.0],\"title\":{\"text\":\"Cause\"},\"categoryorder\":\"total descending\"},\"yaxis\":{\"anchor\":\"x\",\"domain\":[0.0,1.0],\"title\":{\"text\":\"Total\"}},\"legend\":{\"title\":{\"text\":\"Sex\"},\"tracegroupgap\":0},\"title\":{\"text\":\"Mostly causes by sex\"},\"barmode\":\"group\"},                        {\"responsive\": true}                    ).then(function(){\n",
       "                            \n",
       "var gd = document.getElementById('76d5caa3-5c2e-473d-b36a-d726ba822738');\n",
       "var x = new MutationObserver(function (mutations, observer) {{\n",
       "        var display = window.getComputedStyle(gd).display;\n",
       "        if (!display || display === 'none') {{\n",
       "            console.log([gd, 'removed!']);\n",
       "            Plotly.purge(gd);\n",
       "            observer.disconnect();\n",
       "        }}\n",
       "}});\n",
       "\n",
       "// Listen for the removal of the full notebook cells\n",
       "var notebookContainer = gd.closest('#notebook-container');\n",
       "if (notebookContainer) {{\n",
       "    x.observe(notebookContainer, {childList: true});\n",
       "}}\n",
       "\n",
       "// Listen for the clearing of the current output cell\n",
       "var outputEl = gd.closest('.output');\n",
       "if (outputEl) {{\n",
       "    x.observe(outputEl, {childList: true});\n",
       "}}\n",
       "\n",
       "                        })                };                });            </script>        </div>"
      ]
     },
     "metadata": {},
     "output_type": "display_data"
    }
   ],
   "source": [
    "# Graph total deaths most causes by sex\n",
    "graph = px.bar(deaths_tot_sex, \n",
    "               x = 'cause_name',\n",
    "               y = 'Total', \n",
    "               color = 'Sexo', \n",
    "               title = 'Mostly causes by sex',\n",
    "               labels={'cause_name':'Cause', \n",
    "                       'Total':'Total', \n",
    "                       'Sexo': 'Sex'})\n",
    "\n",
    "graph.update_layout(barmode='group', xaxis={'categoryorder': 'total descending'})\n",
    "\n",
    "graph.show()"
   ]
  },
  {
   "cell_type": "code",
   "execution_count": 28,
   "metadata": {},
   "outputs": [
    {
     "name": "stdout",
     "output_type": "stream",
     "text": [
      "117\n",
      "102\n"
     ]
    }
   ],
   "source": [
    "print(len(causes_table))\n",
    "causes_single = causes_table.loc[causes_table['cause_code'].str.contains('-') == False]\n",
    "print(len(causes_single))"
   ]
  },
  {
   "cell_type": "code",
   "execution_count": 29,
   "metadata": {},
   "outputs": [
    {
     "data": {
      "text/html": [
       "<div>\n",
       "<style scoped>\n",
       "    .dataframe tbody tr th:only-of-type {\n",
       "        vertical-align: middle;\n",
       "    }\n",
       "\n",
       "    .dataframe tbody tr th {\n",
       "        vertical-align: top;\n",
       "    }\n",
       "\n",
       "    .dataframe thead th {\n",
       "        text-align: right;\n",
       "    }\n",
       "</style>\n",
       "<table border=\"1\" class=\"dataframe\">\n",
       "  <thead>\n",
       "    <tr style=\"text-align: right;\">\n",
       "      <th></th>\n",
       "      <th>cause_code</th>\n",
       "      <th>cause_name</th>\n",
       "    </tr>\n",
       "  </thead>\n",
       "  <tbody>\n",
       "    <tr>\n",
       "      <th>0</th>\n",
       "      <td>001</td>\n",
       "      <td>Enfermedades infecciosas intestinales</td>\n",
       "    </tr>\n",
       "    <tr>\n",
       "      <th>3</th>\n",
       "      <td>002</td>\n",
       "      <td>Tuberculosis y sus efectos tardíos</td>\n",
       "    </tr>\n",
       "    <tr>\n",
       "      <th>4</th>\n",
       "      <td>003</td>\n",
       "      <td>Enfermedad meningocócica</td>\n",
       "    </tr>\n",
       "    <tr>\n",
       "      <th>5</th>\n",
       "      <td>004</td>\n",
       "      <td>Septicemia</td>\n",
       "    </tr>\n",
       "    <tr>\n",
       "      <th>6</th>\n",
       "      <td>005</td>\n",
       "      <td>Hepatitis vírica</td>\n",
       "    </tr>\n",
       "    <tr>\n",
       "      <th>7</th>\n",
       "      <td>006</td>\n",
       "      <td>SIDA</td>\n",
       "    </tr>\n",
       "    <tr>\n",
       "      <th>8</th>\n",
       "      <td>007</td>\n",
       "      <td>VIH+ (portador, evidencias de laboratorio del ...</td>\n",
       "    </tr>\n",
       "    <tr>\n",
       "      <th>9</th>\n",
       "      <td>008</td>\n",
       "      <td>Resto de enfermedades infecciosas y parasitari...</td>\n",
       "    </tr>\n",
       "    <tr>\n",
       "      <th>10</th>\n",
       "      <td>009</td>\n",
       "      <td>Tumor maligno del labio, de la cavidad bucal y...</td>\n",
       "    </tr>\n",
       "    <tr>\n",
       "      <th>12</th>\n",
       "      <td>010</td>\n",
       "      <td>Tumor maligno del esófago</td>\n",
       "    </tr>\n",
       "    <tr>\n",
       "      <th>13</th>\n",
       "      <td>011</td>\n",
       "      <td>Tumor maligno del estómago</td>\n",
       "    </tr>\n",
       "    <tr>\n",
       "      <th>14</th>\n",
       "      <td>012</td>\n",
       "      <td>Tumor maligno del colon</td>\n",
       "    </tr>\n",
       "    <tr>\n",
       "      <th>15</th>\n",
       "      <td>013</td>\n",
       "      <td>Tumor maligno del recto, de la porción rectosi...</td>\n",
       "    </tr>\n",
       "    <tr>\n",
       "      <th>16</th>\n",
       "      <td>014</td>\n",
       "      <td>Tumor maligno del hígado y vías biliares intra...</td>\n",
       "    </tr>\n",
       "    <tr>\n",
       "      <th>17</th>\n",
       "      <td>015</td>\n",
       "      <td>Tumor maligno del páncreas</td>\n",
       "    </tr>\n",
       "    <tr>\n",
       "      <th>18</th>\n",
       "      <td>016</td>\n",
       "      <td>Otros tumores malignos digestivos</td>\n",
       "    </tr>\n",
       "    <tr>\n",
       "      <th>19</th>\n",
       "      <td>017</td>\n",
       "      <td>Tumor maligno de la laringe</td>\n",
       "    </tr>\n",
       "    <tr>\n",
       "      <th>20</th>\n",
       "      <td>018</td>\n",
       "      <td>Tumor maligno de la tráquea, de los bronquios ...</td>\n",
       "    </tr>\n",
       "    <tr>\n",
       "      <th>21</th>\n",
       "      <td>019</td>\n",
       "      <td>Otros tumores malignos respiratorios e intrato...</td>\n",
       "    </tr>\n",
       "    <tr>\n",
       "      <th>22</th>\n",
       "      <td>020</td>\n",
       "      <td>Tumores malignos del hueso y de los cartílagos...</td>\n",
       "    </tr>\n",
       "    <tr>\n",
       "      <th>23</th>\n",
       "      <td>021</td>\n",
       "      <td>Melanoma maligno de la piel</td>\n",
       "    </tr>\n",
       "    <tr>\n",
       "      <th>24</th>\n",
       "      <td>022</td>\n",
       "      <td>Otros tumores malignos de la piel y de los tej...</td>\n",
       "    </tr>\n",
       "    <tr>\n",
       "      <th>25</th>\n",
       "      <td>023</td>\n",
       "      <td>Tumor maligno de la mama</td>\n",
       "    </tr>\n",
       "    <tr>\n",
       "      <th>26</th>\n",
       "      <td>024</td>\n",
       "      <td>Tumor maligno del cuello del útero</td>\n",
       "    </tr>\n",
       "    <tr>\n",
       "      <th>27</th>\n",
       "      <td>025</td>\n",
       "      <td>Tumor maligno de otras partes del útero</td>\n",
       "    </tr>\n",
       "    <tr>\n",
       "      <th>28</th>\n",
       "      <td>026</td>\n",
       "      <td>Tumor maligno del ovario</td>\n",
       "    </tr>\n",
       "    <tr>\n",
       "      <th>29</th>\n",
       "      <td>027</td>\n",
       "      <td>Tumores malignos de otros órganos genitales fe...</td>\n",
       "    </tr>\n",
       "    <tr>\n",
       "      <th>30</th>\n",
       "      <td>028</td>\n",
       "      <td>Tumor maligno de la próstata</td>\n",
       "    </tr>\n",
       "    <tr>\n",
       "      <th>31</th>\n",
       "      <td>029</td>\n",
       "      <td>Tumores malignos de otros órganos genitales ma...</td>\n",
       "    </tr>\n",
       "    <tr>\n",
       "      <th>32</th>\n",
       "      <td>030</td>\n",
       "      <td>Tumor maligno del riñón, excepto pelvis renal</td>\n",
       "    </tr>\n",
       "    <tr>\n",
       "      <th>33</th>\n",
       "      <td>031</td>\n",
       "      <td>Tumor maligno de la vejiga</td>\n",
       "    </tr>\n",
       "    <tr>\n",
       "      <th>34</th>\n",
       "      <td>032</td>\n",
       "      <td>Otros tumores malignos de las vías urinarias</td>\n",
       "    </tr>\n",
       "    <tr>\n",
       "      <th>35</th>\n",
       "      <td>033</td>\n",
       "      <td>Tumor maligno del encéfalo</td>\n",
       "    </tr>\n",
       "    <tr>\n",
       "      <th>36</th>\n",
       "      <td>034</td>\n",
       "      <td>Otros tumores malignos neurológicos y endocrinos</td>\n",
       "    </tr>\n",
       "    <tr>\n",
       "      <th>37</th>\n",
       "      <td>035</td>\n",
       "      <td>Tumor maligno de sitios mal definidos, secunda...</td>\n",
       "    </tr>\n",
       "    <tr>\n",
       "      <th>38</th>\n",
       "      <td>036</td>\n",
       "      <td>Tumores malignos del tejido linfático, de los ...</td>\n",
       "    </tr>\n",
       "    <tr>\n",
       "      <th>39</th>\n",
       "      <td>037</td>\n",
       "      <td>Leucemia</td>\n",
       "    </tr>\n",
       "    <tr>\n",
       "      <th>40</th>\n",
       "      <td>038</td>\n",
       "      <td>Tumores in situ</td>\n",
       "    </tr>\n",
       "    <tr>\n",
       "      <th>41</th>\n",
       "      <td>039</td>\n",
       "      <td>Tumores benignos</td>\n",
       "    </tr>\n",
       "    <tr>\n",
       "      <th>42</th>\n",
       "      <td>040</td>\n",
       "      <td>Síndrome mielodisplásico</td>\n",
       "    </tr>\n",
       "    <tr>\n",
       "      <th>43</th>\n",
       "      <td>041</td>\n",
       "      <td>Otros tumores de comportamiento incierto o des...</td>\n",
       "    </tr>\n",
       "    <tr>\n",
       "      <th>44</th>\n",
       "      <td>042</td>\n",
       "      <td>Enfermedades de la sangre y de los órganos hem...</td>\n",
       "    </tr>\n",
       "    <tr>\n",
       "      <th>46</th>\n",
       "      <td>043</td>\n",
       "      <td>Ciertos trastornos que afectan al mecanismo de...</td>\n",
       "    </tr>\n",
       "    <tr>\n",
       "      <th>47</th>\n",
       "      <td>044</td>\n",
       "      <td>Diabetes mellitus</td>\n",
       "    </tr>\n",
       "    <tr>\n",
       "      <th>49</th>\n",
       "      <td>045</td>\n",
       "      <td>Otras enfermedades endocrinas, nutricionales y...</td>\n",
       "    </tr>\n",
       "    <tr>\n",
       "      <th>50</th>\n",
       "      <td>046</td>\n",
       "      <td>Trastornos mentales orgánicos, senil y presenil</td>\n",
       "    </tr>\n",
       "    <tr>\n",
       "      <th>52</th>\n",
       "      <td>047</td>\n",
       "      <td>Trastornos mentales debidos al uso de alcohol</td>\n",
       "    </tr>\n",
       "    <tr>\n",
       "      <th>53</th>\n",
       "      <td>048</td>\n",
       "      <td>Trastornos mentales debidos al uso de drogas (...</td>\n",
       "    </tr>\n",
       "    <tr>\n",
       "      <th>54</th>\n",
       "      <td>049</td>\n",
       "      <td>Otros trastornos mentales y del comportamiento</td>\n",
       "    </tr>\n",
       "    <tr>\n",
       "      <th>55</th>\n",
       "      <td>050</td>\n",
       "      <td>Meningitis (otras en 003)</td>\n",
       "    </tr>\n",
       "    <tr>\n",
       "      <th>57</th>\n",
       "      <td>051</td>\n",
       "      <td>Enfermedad de Alzheimer</td>\n",
       "    </tr>\n",
       "  </tbody>\n",
       "</table>\n",
       "</div>"
      ],
      "text/plain": [
       "   cause_code                                         cause_name\n",
       "0         001              Enfermedades infecciosas intestinales\n",
       "3         002                 Tuberculosis y sus efectos tardíos\n",
       "4         003                           Enfermedad meningocócica\n",
       "5         004                                         Septicemia\n",
       "6         005                                   Hepatitis vírica\n",
       "7         006                                               SIDA\n",
       "8         007  VIH+ (portador, evidencias de laboratorio del ...\n",
       "9         008  Resto de enfermedades infecciosas y parasitari...\n",
       "10        009  Tumor maligno del labio, de la cavidad bucal y...\n",
       "12        010                          Tumor maligno del esófago\n",
       "13        011                         Tumor maligno del estómago\n",
       "14        012                            Tumor maligno del colon\n",
       "15        013  Tumor maligno del recto, de la porción rectosi...\n",
       "16        014  Tumor maligno del hígado y vías biliares intra...\n",
       "17        015                         Tumor maligno del páncreas\n",
       "18        016                  Otros tumores malignos digestivos\n",
       "19        017                        Tumor maligno de la laringe\n",
       "20        018  Tumor maligno de la tráquea, de los bronquios ...\n",
       "21        019  Otros tumores malignos respiratorios e intrato...\n",
       "22        020  Tumores malignos del hueso y de los cartílagos...\n",
       "23        021                        Melanoma maligno de la piel\n",
       "24        022  Otros tumores malignos de la piel y de los tej...\n",
       "25        023                           Tumor maligno de la mama\n",
       "26        024                 Tumor maligno del cuello del útero\n",
       "27        025            Tumor maligno de otras partes del útero\n",
       "28        026                           Tumor maligno del ovario\n",
       "29        027  Tumores malignos de otros órganos genitales fe...\n",
       "30        028                       Tumor maligno de la próstata\n",
       "31        029  Tumores malignos de otros órganos genitales ma...\n",
       "32        030      Tumor maligno del riñón, excepto pelvis renal\n",
       "33        031                         Tumor maligno de la vejiga\n",
       "34        032       Otros tumores malignos de las vías urinarias\n",
       "35        033                         Tumor maligno del encéfalo\n",
       "36        034   Otros tumores malignos neurológicos y endocrinos\n",
       "37        035  Tumor maligno de sitios mal definidos, secunda...\n",
       "38        036  Tumores malignos del tejido linfático, de los ...\n",
       "39        037                                           Leucemia\n",
       "40        038                                    Tumores in situ\n",
       "41        039                                   Tumores benignos\n",
       "42        040                           Síndrome mielodisplásico\n",
       "43        041  Otros tumores de comportamiento incierto o des...\n",
       "44        042  Enfermedades de la sangre y de los órganos hem...\n",
       "46        043  Ciertos trastornos que afectan al mecanismo de...\n",
       "47        044                                  Diabetes mellitus\n",
       "49        045  Otras enfermedades endocrinas, nutricionales y...\n",
       "50        046    Trastornos mentales orgánicos, senil y presenil\n",
       "52        047      Trastornos mentales debidos al uso de alcohol\n",
       "53        048  Trastornos mentales debidos al uso de drogas (...\n",
       "54        049     Otros trastornos mentales y del comportamiento\n",
       "55        050                          Meningitis (otras en 003)\n",
       "57        051                            Enfermedad de Alzheimer"
      ]
     },
     "metadata": {},
     "output_type": "display_data"
    },
    {
     "data": {
      "text/html": [
       "<div>\n",
       "<style scoped>\n",
       "    .dataframe tbody tr th:only-of-type {\n",
       "        vertical-align: middle;\n",
       "    }\n",
       "\n",
       "    .dataframe tbody tr th {\n",
       "        vertical-align: top;\n",
       "    }\n",
       "\n",
       "    .dataframe thead th {\n",
       "        text-align: right;\n",
       "    }\n",
       "</style>\n",
       "<table border=\"1\" class=\"dataframe\">\n",
       "  <thead>\n",
       "    <tr style=\"text-align: right;\">\n",
       "      <th></th>\n",
       "      <th>cause_code</th>\n",
       "      <th>cause_name</th>\n",
       "    </tr>\n",
       "  </thead>\n",
       "  <tbody>\n",
       "    <tr>\n",
       "      <th>58</th>\n",
       "      <td>052</td>\n",
       "      <td>Otras enfermedades del sistema nervioso y de l...</td>\n",
       "    </tr>\n",
       "    <tr>\n",
       "      <th>59</th>\n",
       "      <td>053</td>\n",
       "      <td>Enfermedades cardíacas reumáticas crónicas</td>\n",
       "    </tr>\n",
       "    <tr>\n",
       "      <th>61</th>\n",
       "      <td>054</td>\n",
       "      <td>Enfermedades hipertensivas</td>\n",
       "    </tr>\n",
       "    <tr>\n",
       "      <th>62</th>\n",
       "      <td>055</td>\n",
       "      <td>Infarto agudo de miocardio</td>\n",
       "    </tr>\n",
       "    <tr>\n",
       "      <th>63</th>\n",
       "      <td>056</td>\n",
       "      <td>Otras enfermedades isquémicas del corazón</td>\n",
       "    </tr>\n",
       "    <tr>\n",
       "      <th>64</th>\n",
       "      <td>057</td>\n",
       "      <td>Insuficiencia cardíaca</td>\n",
       "    </tr>\n",
       "    <tr>\n",
       "      <th>65</th>\n",
       "      <td>058</td>\n",
       "      <td>Otras enfermedades del corazón</td>\n",
       "    </tr>\n",
       "    <tr>\n",
       "      <th>66</th>\n",
       "      <td>059</td>\n",
       "      <td>Enfermedades cerebrovasculares</td>\n",
       "    </tr>\n",
       "    <tr>\n",
       "      <th>67</th>\n",
       "      <td>060</td>\n",
       "      <td>Aterosclerosis</td>\n",
       "    </tr>\n",
       "    <tr>\n",
       "      <th>68</th>\n",
       "      <td>061</td>\n",
       "      <td>Otras enfermedades de los vasos sanguíneos</td>\n",
       "    </tr>\n",
       "    <tr>\n",
       "      <th>69</th>\n",
       "      <td>062</td>\n",
       "      <td>Influenza (gripe) (incluye gripe aviar y gripe A)</td>\n",
       "    </tr>\n",
       "    <tr>\n",
       "      <th>71</th>\n",
       "      <td>063</td>\n",
       "      <td>Neumonía</td>\n",
       "    </tr>\n",
       "    <tr>\n",
       "      <th>72</th>\n",
       "      <td>064</td>\n",
       "      <td>Enfermedades crónicas de las vías respiratoria...</td>\n",
       "    </tr>\n",
       "    <tr>\n",
       "      <th>73</th>\n",
       "      <td>065</td>\n",
       "      <td>Asma</td>\n",
       "    </tr>\n",
       "    <tr>\n",
       "      <th>74</th>\n",
       "      <td>066</td>\n",
       "      <td>Insuficiencia respiratoria</td>\n",
       "    </tr>\n",
       "    <tr>\n",
       "      <th>75</th>\n",
       "      <td>067</td>\n",
       "      <td>Otras enfermedades del sistema respiratorio</td>\n",
       "    </tr>\n",
       "    <tr>\n",
       "      <th>76</th>\n",
       "      <td>068</td>\n",
       "      <td>Úlcera de estómago, duodeno y yeyuno</td>\n",
       "    </tr>\n",
       "    <tr>\n",
       "      <th>78</th>\n",
       "      <td>069</td>\n",
       "      <td>Enteritis y colitis no infecciosas</td>\n",
       "    </tr>\n",
       "    <tr>\n",
       "      <th>79</th>\n",
       "      <td>070</td>\n",
       "      <td>Enfermedad vascular intestinal</td>\n",
       "    </tr>\n",
       "    <tr>\n",
       "      <th>80</th>\n",
       "      <td>071</td>\n",
       "      <td>Cirrosis y otras enfermedades crónicas del hígado</td>\n",
       "    </tr>\n",
       "    <tr>\n",
       "      <th>81</th>\n",
       "      <td>072</td>\n",
       "      <td>Otras enfermedades del sistema digestivo</td>\n",
       "    </tr>\n",
       "    <tr>\n",
       "      <th>82</th>\n",
       "      <td>073</td>\n",
       "      <td>XII.Enfermedades de la piel y del tejido subcu...</td>\n",
       "    </tr>\n",
       "    <tr>\n",
       "      <th>83</th>\n",
       "      <td>074</td>\n",
       "      <td>Artritis reumatoide y osteoartrosis</td>\n",
       "    </tr>\n",
       "    <tr>\n",
       "      <th>85</th>\n",
       "      <td>075</td>\n",
       "      <td>Osteoporosis y fractura patológica</td>\n",
       "    </tr>\n",
       "    <tr>\n",
       "      <th>86</th>\n",
       "      <td>076</td>\n",
       "      <td>Otras enfermedades del sistema osteomuscular y...</td>\n",
       "    </tr>\n",
       "    <tr>\n",
       "      <th>87</th>\n",
       "      <td>077</td>\n",
       "      <td>Enfermedades del riñón y del uréter</td>\n",
       "    </tr>\n",
       "    <tr>\n",
       "      <th>89</th>\n",
       "      <td>078</td>\n",
       "      <td>Enfermedades de los órganos genitales masculinos</td>\n",
       "    </tr>\n",
       "    <tr>\n",
       "      <th>90</th>\n",
       "      <td>079</td>\n",
       "      <td>Enfermedades de los órganos genitales femenino...</td>\n",
       "    </tr>\n",
       "    <tr>\n",
       "      <th>91</th>\n",
       "      <td>080</td>\n",
       "      <td>Otras enfermedades del sistema genitourinario</td>\n",
       "    </tr>\n",
       "    <tr>\n",
       "      <th>92</th>\n",
       "      <td>081</td>\n",
       "      <td>XV.Embarazo, parto y puerperio</td>\n",
       "    </tr>\n",
       "    <tr>\n",
       "      <th>93</th>\n",
       "      <td>082</td>\n",
       "      <td>XVI.Afecciones originadas en el periodo perinatal</td>\n",
       "    </tr>\n",
       "    <tr>\n",
       "      <th>94</th>\n",
       "      <td>083</td>\n",
       "      <td>Malformaciones congénitas del sistema nervioso</td>\n",
       "    </tr>\n",
       "    <tr>\n",
       "      <th>96</th>\n",
       "      <td>084</td>\n",
       "      <td>Malformaciones congénitas del sistema circulat...</td>\n",
       "    </tr>\n",
       "    <tr>\n",
       "      <th>97</th>\n",
       "      <td>085</td>\n",
       "      <td>Otras malformaciones congénitas, deformidades ...</td>\n",
       "    </tr>\n",
       "    <tr>\n",
       "      <th>98</th>\n",
       "      <td>086</td>\n",
       "      <td>Paro cardíaco, muerte sin asistencia y otra ca...</td>\n",
       "    </tr>\n",
       "    <tr>\n",
       "      <th>100</th>\n",
       "      <td>087</td>\n",
       "      <td>Senilidad</td>\n",
       "    </tr>\n",
       "    <tr>\n",
       "      <th>101</th>\n",
       "      <td>088</td>\n",
       "      <td>Muerte súbita infantil</td>\n",
       "    </tr>\n",
       "    <tr>\n",
       "      <th>102</th>\n",
       "      <td>089</td>\n",
       "      <td>Resto de síntomas, signos y hallazgos anormale...</td>\n",
       "    </tr>\n",
       "    <tr>\n",
       "      <th>103</th>\n",
       "      <td>090</td>\n",
       "      <td>Accidentes de tráfico</td>\n",
       "    </tr>\n",
       "    <tr>\n",
       "      <th>105</th>\n",
       "      <td>091</td>\n",
       "      <td>Otros accidentes de transporte</td>\n",
       "    </tr>\n",
       "    <tr>\n",
       "      <th>106</th>\n",
       "      <td>092</td>\n",
       "      <td>Caídas accidentales</td>\n",
       "    </tr>\n",
       "    <tr>\n",
       "      <th>107</th>\n",
       "      <td>093</td>\n",
       "      <td>Ahogamiento, sumersión y sofocación accidentales</td>\n",
       "    </tr>\n",
       "    <tr>\n",
       "      <th>108</th>\n",
       "      <td>094</td>\n",
       "      <td>Accidentes por fuego, humo y sustancias calientes</td>\n",
       "    </tr>\n",
       "    <tr>\n",
       "      <th>109</th>\n",
       "      <td>095</td>\n",
       "      <td>Envenenamiento accidental por psicofármacos y ...</td>\n",
       "    </tr>\n",
       "    <tr>\n",
       "      <th>110</th>\n",
       "      <td>096</td>\n",
       "      <td>Otros envenenamientos accidentales</td>\n",
       "    </tr>\n",
       "    <tr>\n",
       "      <th>111</th>\n",
       "      <td>097</td>\n",
       "      <td>Otros accidentes</td>\n",
       "    </tr>\n",
       "    <tr>\n",
       "      <th>112</th>\n",
       "      <td>098</td>\n",
       "      <td>Suicidio y lesiones autoinfligidas</td>\n",
       "    </tr>\n",
       "    <tr>\n",
       "      <th>113</th>\n",
       "      <td>099</td>\n",
       "      <td>Agresiones (homicidio)</td>\n",
       "    </tr>\n",
       "    <tr>\n",
       "      <th>114</th>\n",
       "      <td>100</td>\n",
       "      <td>Eventos de intención no determinada</td>\n",
       "    </tr>\n",
       "    <tr>\n",
       "      <th>115</th>\n",
       "      <td>101</td>\n",
       "      <td>Complicaciones de la atención médica y quirúrgica</td>\n",
       "    </tr>\n",
       "    <tr>\n",
       "      <th>116</th>\n",
       "      <td>102</td>\n",
       "      <td>Otras causas externas y sus efectos tardíos</td>\n",
       "    </tr>\n",
       "  </tbody>\n",
       "</table>\n",
       "</div>"
      ],
      "text/plain": [
       "    cause_code                                         cause_name\n",
       "58         052  Otras enfermedades del sistema nervioso y de l...\n",
       "59         053         Enfermedades cardíacas reumáticas crónicas\n",
       "61         054                         Enfermedades hipertensivas\n",
       "62         055                         Infarto agudo de miocardio\n",
       "63         056          Otras enfermedades isquémicas del corazón\n",
       "64         057                             Insuficiencia cardíaca\n",
       "65         058                     Otras enfermedades del corazón\n",
       "66         059                     Enfermedades cerebrovasculares\n",
       "67         060                                     Aterosclerosis\n",
       "68         061         Otras enfermedades de los vasos sanguíneos\n",
       "69         062  Influenza (gripe) (incluye gripe aviar y gripe A)\n",
       "71         063                                           Neumonía\n",
       "72         064  Enfermedades crónicas de las vías respiratoria...\n",
       "73         065                                               Asma\n",
       "74         066                         Insuficiencia respiratoria\n",
       "75         067        Otras enfermedades del sistema respiratorio\n",
       "76         068               Úlcera de estómago, duodeno y yeyuno\n",
       "78         069                 Enteritis y colitis no infecciosas\n",
       "79         070                     Enfermedad vascular intestinal\n",
       "80         071  Cirrosis y otras enfermedades crónicas del hígado\n",
       "81         072           Otras enfermedades del sistema digestivo\n",
       "82         073  XII.Enfermedades de la piel y del tejido subcu...\n",
       "83         074                Artritis reumatoide y osteoartrosis\n",
       "85         075                 Osteoporosis y fractura patológica\n",
       "86         076  Otras enfermedades del sistema osteomuscular y...\n",
       "87         077                Enfermedades del riñón y del uréter\n",
       "89         078   Enfermedades de los órganos genitales masculinos\n",
       "90         079  Enfermedades de los órganos genitales femenino...\n",
       "91         080      Otras enfermedades del sistema genitourinario\n",
       "92         081                     XV.Embarazo, parto y puerperio\n",
       "93         082  XVI.Afecciones originadas en el periodo perinatal\n",
       "94         083     Malformaciones congénitas del sistema nervioso\n",
       "96         084  Malformaciones congénitas del sistema circulat...\n",
       "97         085  Otras malformaciones congénitas, deformidades ...\n",
       "98         086  Paro cardíaco, muerte sin asistencia y otra ca...\n",
       "100        087                                          Senilidad\n",
       "101        088                             Muerte súbita infantil\n",
       "102        089  Resto de síntomas, signos y hallazgos anormale...\n",
       "103        090                              Accidentes de tráfico\n",
       "105        091                     Otros accidentes de transporte\n",
       "106        092                                Caídas accidentales\n",
       "107        093   Ahogamiento, sumersión y sofocación accidentales\n",
       "108        094  Accidentes por fuego, humo y sustancias calientes\n",
       "109        095  Envenenamiento accidental por psicofármacos y ...\n",
       "110        096                 Otros envenenamientos accidentales\n",
       "111        097                                   Otros accidentes\n",
       "112        098                 Suicidio y lesiones autoinfligidas\n",
       "113        099                             Agresiones (homicidio)\n",
       "114        100                Eventos de intención no determinada\n",
       "115        101  Complicaciones de la atención médica y quirúrgica\n",
       "116        102        Otras causas externas y sus efectos tardíos"
      ]
     },
     "metadata": {},
     "output_type": "display_data"
    }
   ],
   "source": [
    "display(causes_single.head(51))\n",
    "display(causes_single.tail(51))"
   ]
  },
  {
   "cell_type": "code",
   "execution_count": 30,
   "metadata": {},
   "outputs": [
    {
     "name": "stdout",
     "output_type": "stream",
     "text": [
      "195\n"
     ]
    },
    {
     "data": {
      "text/html": [
       "<div>\n",
       "<style scoped>\n",
       "    .dataframe tbody tr th:only-of-type {\n",
       "        vertical-align: middle;\n",
       "    }\n",
       "\n",
       "    .dataframe tbody tr th {\n",
       "        vertical-align: top;\n",
       "    }\n",
       "\n",
       "    .dataframe thead th {\n",
       "        text-align: right;\n",
       "    }\n",
       "</style>\n",
       "<table border=\"1\" class=\"dataframe\">\n",
       "  <thead>\n",
       "    <tr style=\"text-align: right;\">\n",
       "      <th></th>\n",
       "      <th>cause_code</th>\n",
       "      <th>Causa de muerte</th>\n",
       "      <th>Sexo</th>\n",
       "      <th>Edad</th>\n",
       "      <th>Periodo</th>\n",
       "      <th>Total</th>\n",
       "      <th>cause_group</th>\n",
       "      <th>cause_name</th>\n",
       "      <th>Demo</th>\n",
       "      <th>Percent</th>\n",
       "      <th>PercentK</th>\n",
       "    </tr>\n",
       "  </thead>\n",
       "  <tbody>\n",
       "    <tr>\n",
       "      <th>0</th>\n",
       "      <td>059</td>\n",
       "      <td>059  Enfermedades cerebrovasculares</td>\n",
       "      <td>Total</td>\n",
       "      <td>Todas las edades</td>\n",
       "      <td>2018</td>\n",
       "      <td>26420</td>\n",
       "      <td>Single cause</td>\n",
       "      <td>Enfermedades cerebrovasculares</td>\n",
       "      <td>46658447</td>\n",
       "      <td>0.056624</td>\n",
       "      <td>5662.425927</td>\n",
       "    </tr>\n",
       "    <tr>\n",
       "      <th>1</th>\n",
       "      <td>059</td>\n",
       "      <td>059  Enfermedades cerebrovasculares</td>\n",
       "      <td>Total</td>\n",
       "      <td>Todas las edades</td>\n",
       "      <td>2017</td>\n",
       "      <td>26937</td>\n",
       "      <td>Single cause</td>\n",
       "      <td>Enfermedades cerebrovasculares</td>\n",
       "      <td>46527039</td>\n",
       "      <td>0.057895</td>\n",
       "      <td>5789.536704</td>\n",
       "    </tr>\n",
       "    <tr>\n",
       "      <th>2</th>\n",
       "      <td>059</td>\n",
       "      <td>059  Enfermedades cerebrovasculares</td>\n",
       "      <td>Total</td>\n",
       "      <td>Todas las edades</td>\n",
       "      <td>2016</td>\n",
       "      <td>27122</td>\n",
       "      <td>Single cause</td>\n",
       "      <td>Enfermedades cerebrovasculares</td>\n",
       "      <td>46440099</td>\n",
       "      <td>0.058402</td>\n",
       "      <td>5840.211495</td>\n",
       "    </tr>\n",
       "    <tr>\n",
       "      <th>3</th>\n",
       "      <td>059</td>\n",
       "      <td>059  Enfermedades cerebrovasculares</td>\n",
       "      <td>Total</td>\n",
       "      <td>Todas las edades</td>\n",
       "      <td>2015</td>\n",
       "      <td>28434</td>\n",
       "      <td>Single cause</td>\n",
       "      <td>Enfermedades cerebrovasculares</td>\n",
       "      <td>46449565</td>\n",
       "      <td>0.061215</td>\n",
       "      <td>6121.478210</td>\n",
       "    </tr>\n",
       "    <tr>\n",
       "      <th>4</th>\n",
       "      <td>059</td>\n",
       "      <td>059  Enfermedades cerebrovasculares</td>\n",
       "      <td>Total</td>\n",
       "      <td>Todas las edades</td>\n",
       "      <td>2014</td>\n",
       "      <td>27579</td>\n",
       "      <td>Single cause</td>\n",
       "      <td>Enfermedades cerebrovasculares</td>\n",
       "      <td>46512199</td>\n",
       "      <td>0.059294</td>\n",
       "      <td>5929.412196</td>\n",
       "    </tr>\n",
       "  </tbody>\n",
       "</table>\n",
       "</div>"
      ],
      "text/plain": [
       "  cause_code                      Causa de muerte   Sexo              Edad  \\\n",
       "0        059  059  Enfermedades cerebrovasculares  Total  Todas las edades   \n",
       "1        059  059  Enfermedades cerebrovasculares  Total  Todas las edades   \n",
       "2        059  059  Enfermedades cerebrovasculares  Total  Todas las edades   \n",
       "3        059  059  Enfermedades cerebrovasculares  Total  Todas las edades   \n",
       "4        059  059  Enfermedades cerebrovasculares  Total  Todas las edades   \n",
       "\n",
       "   Periodo  Total   cause_group                      cause_name      Demo  \\\n",
       "0     2018  26420  Single cause  Enfermedades cerebrovasculares  46658447   \n",
       "1     2017  26937  Single cause  Enfermedades cerebrovasculares  46527039   \n",
       "2     2016  27122  Single cause  Enfermedades cerebrovasculares  46440099   \n",
       "3     2015  28434  Single cause  Enfermedades cerebrovasculares  46449565   \n",
       "4     2014  27579  Single cause  Enfermedades cerebrovasculares  46512199   \n",
       "\n",
       "    Percent     PercentK  \n",
       "0  0.056624  5662.425927  \n",
       "1  0.057895  5789.536704  \n",
       "2  0.058402  5840.211495  \n",
       "3  0.061215  6121.478210  \n",
       "4  0.059294  5929.412196  "
      ]
     },
     "execution_count": 30,
     "metadata": {},
     "output_type": "execute_result"
    }
   ],
   "source": [
    "# Evolution most frequent causes. Selected most frequent cause, two increasing causes and other curious causes\n",
    "selected_causes = pd.DataFrame(['059', '018', '046', '090', '098'], columns=['cause_code'])\n",
    "deaths_causes_evo = selected_causes.merge(deaths_tot)\n",
    "print(len(deaths_causes_evo))\n",
    "deaths_causes_evo.head()"
   ]
  },
  {
   "cell_type": "code",
   "execution_count": 31,
   "metadata": {},
   "outputs": [
    {
     "data": {
      "application/vnd.plotly.v1+json": {
       "config": {
        "plotlyServerURL": "https://plot.ly"
       },
       "data": [
        {
         "hovertemplate": "=Enfermedades cerebrovasculares<br>Year=%{x}<br>Total=%{y}<extra></extra>",
         "legendgroup": "Enfermedades cerebrovasculares",
         "line": {
          "color": "#636efa",
          "dash": "solid"
         },
         "marker": {
          "symbol": "circle"
         },
         "mode": "lines",
         "name": "Enfermedades cerebrovasculares",
         "orientation": "v",
         "showlegend": true,
         "type": "scatter",
         "x": [
          2018,
          2017,
          2016,
          2015,
          2014,
          2013,
          2012,
          2011,
          2010,
          2009,
          2008,
          2007,
          2006,
          2005,
          2004,
          2003,
          2002,
          2001,
          2000,
          1999,
          1998,
          1997,
          1996,
          1995,
          1994,
          1993,
          1992,
          1991,
          1990,
          1989,
          1988,
          1987,
          1986,
          1985,
          1984,
          1983,
          1982,
          1981,
          1980
         ],
         "xaxis": "x",
         "y": [
          26420,
          26937,
          27122,
          28434,
          27579,
          27850,
          29520,
          28855,
          30161,
          31157,
          31833,
          33034,
          32900,
          34750,
          34250,
          37225,
          35947,
          36567,
          36596,
          38730,
          38064,
          37822,
          38815,
          39922,
          41134,
          41842,
          42027,
          44001,
          43227,
          43876,
          44655,
          44462,
          45800,
          47684,
          47699,
          48331,
          46138,
          49000,
          47475
         ],
         "yaxis": "y"
        },
        {
         "hovertemplate": "=Tumor maligno de la tráquea, de los bronquios y del pulmón<br>Year=%{x}<br>Total=%{y}<extra></extra>",
         "legendgroup": "Tumor maligno de la tráquea, de los bronquios y del pulmón",
         "line": {
          "color": "#EF553B",
          "dash": "solid"
         },
         "marker": {
          "symbol": "circle"
         },
         "mode": "lines",
         "name": "Tumor maligno de la tráquea, de los bronquios y del pulmón",
         "orientation": "v",
         "showlegend": true,
         "type": "scatter",
         "x": [
          2018,
          2017,
          2016,
          2015,
          2014,
          2013,
          2012,
          2011,
          2010,
          2009,
          2008,
          2007,
          2006,
          2005,
          2004,
          2003,
          2002,
          2001,
          2000,
          1999,
          1998,
          1997,
          1996,
          1995,
          1994,
          1993,
          1992,
          1991,
          1990,
          1989,
          1988,
          1987,
          1986,
          1985,
          1984,
          1983,
          1982,
          1981,
          1980
         ],
         "xaxis": "x",
         "y": [
          22153,
          22121,
          22187,
          21625,
          21270,
          21689,
          21511,
          21097,
          20755,
          20425,
          20213,
          19992,
          19532,
          19118,
          19092,
          18801,
          18114,
          18214,
          17363,
          17428,
          17215,
          16607,
          16270,
          16510,
          16036,
          15574,
          15041,
          14522,
          13982,
          13627,
          13153,
          12508,
          11650,
          11349,
          10935,
          10328,
          9828,
          9486,
          8771
         ],
         "yaxis": "y"
        },
        {
         "hovertemplate": "=Trastornos mentales orgánicos, senil y presenil<br>Year=%{x}<br>Total=%{y}<extra></extra>",
         "legendgroup": "Trastornos mentales orgánicos, senil y presenil",
         "line": {
          "color": "#00cc96",
          "dash": "solid"
         },
         "marker": {
          "symbol": "circle"
         },
         "mode": "lines",
         "name": "Trastornos mentales orgánicos, senil y presenil",
         "orientation": "v",
         "showlegend": true,
         "type": "scatter",
         "x": [
          2018,
          2017,
          2016,
          2015,
          2014,
          2013,
          2012,
          2011,
          2010,
          2009,
          2008,
          2007,
          2006,
          2005,
          2004,
          2003,
          2002,
          2001,
          2000,
          1999,
          1998,
          1997,
          1996,
          1995,
          1994,
          1993,
          1992,
          1991,
          1990,
          1989,
          1988,
          1987,
          1986,
          1985,
          1984,
          1983,
          1982,
          1981,
          1980
         ],
         "xaxis": "x",
         "y": [
          21669,
          21035,
          20213,
          20562,
          17964,
          16323,
          16385,
          14598,
          14125,
          13751,
          12380,
          11726,
          11428,
          11756,
          11058,
          12213,
          10982,
          10670,
          10614,
          10826,
          11157,
          10218,
          9635,
          8802,
          7889,
          6913,
          6234,
          5868,
          4867,
          3839,
          2932,
          2543,
          1992,
          1617,
          1203,
          944,
          499,
          494,
          397
         ],
         "yaxis": "y"
        },
        {
         "hovertemplate": "=Accidentes de tráfico<br>Year=%{x}<br>Total=%{y}<extra></extra>",
         "legendgroup": "Accidentes de tráfico",
         "line": {
          "color": "#ab63fa",
          "dash": "solid"
         },
         "marker": {
          "symbol": "circle"
         },
         "mode": "lines",
         "name": "Accidentes de tráfico",
         "orientation": "v",
         "showlegend": true,
         "type": "scatter",
         "x": [
          2018,
          2017,
          2016,
          2015,
          2014,
          2013,
          2012,
          2011,
          2010,
          2009,
          2008,
          2007,
          2006,
          2005,
          2004,
          2003,
          2002,
          2001,
          2000,
          1999,
          1998,
          1997,
          1996,
          1995,
          1994,
          1993,
          1992,
          1991,
          1990,
          1989,
          1988,
          1987,
          1986,
          1985,
          1984,
          1983,
          1982,
          1981,
          1980
         ],
         "xaxis": "x",
         "y": [
          1896,
          1943,
          1890,
          1880,
          1873,
          1807,
          1914,
          2116,
          2336,
          2588,
          3030,
          3811,
          4144,
          4522,
          4888,
          5514,
          5496,
          5744,
          6098,
          6024,
          6154,
          5790,
          5635,
          5752,
          5584,
          6176,
          6680,
          7724,
          7989,
          8218,
          7398,
          6681,
          6212,
          5670,
          5572,
          5176,
          4746,
          5697,
          6146
         ],
         "yaxis": "y"
        },
        {
         "hovertemplate": "=Suicidio y lesiones autoinfligidas<br>Year=%{x}<br>Total=%{y}<extra></extra>",
         "legendgroup": "Suicidio y lesiones autoinfligidas",
         "line": {
          "color": "#FFA15A",
          "dash": "solid"
         },
         "marker": {
          "symbol": "circle"
         },
         "mode": "lines",
         "name": "Suicidio y lesiones autoinfligidas",
         "orientation": "v",
         "showlegend": true,
         "type": "scatter",
         "x": [
          2018,
          2017,
          2016,
          2015,
          2014,
          2013,
          2012,
          2011,
          2010,
          2009,
          2008,
          2007,
          2006,
          2005,
          2004,
          2003,
          2002,
          2001,
          2000,
          1999,
          1998,
          1997,
          1996,
          1995,
          1994,
          1993,
          1992,
          1991,
          1990,
          1989,
          1988,
          1987,
          1986,
          1985,
          1984,
          1983,
          1982,
          1981,
          1980
         ],
         "xaxis": "x",
         "y": [
          3539,
          3679,
          3569,
          3602,
          3910,
          3870,
          3539,
          3180,
          3158,
          3429,
          3457,
          3263,
          3246,
          3399,
          3507,
          3478,
          3371,
          3189,
          3393,
          3218,
          3261,
          3373,
          3320,
          3157,
          3171,
          3037,
          2786,
          2916,
          2939,
          2987,
          2960,
          2804,
          2755,
          2514,
          2493,
          2181,
          1851,
          1718,
          1652
         ],
         "yaxis": "y"
        }
       ],
       "layout": {
        "legend": {
         "orientation": "v",
         "title": {
          "text": ""
         },
         "tracegroupgap": 0
        },
        "template": {
         "data": {
          "bar": [
           {
            "error_x": {
             "color": "#2a3f5f"
            },
            "error_y": {
             "color": "#2a3f5f"
            },
            "marker": {
             "line": {
              "color": "#E5ECF6",
              "width": 0.5
             },
             "pattern": {
              "fillmode": "overlay",
              "size": 10,
              "solidity": 0.2
             }
            },
            "type": "bar"
           }
          ],
          "barpolar": [
           {
            "marker": {
             "line": {
              "color": "#E5ECF6",
              "width": 0.5
             },
             "pattern": {
              "fillmode": "overlay",
              "size": 10,
              "solidity": 0.2
             }
            },
            "type": "barpolar"
           }
          ],
          "carpet": [
           {
            "aaxis": {
             "endlinecolor": "#2a3f5f",
             "gridcolor": "white",
             "linecolor": "white",
             "minorgridcolor": "white",
             "startlinecolor": "#2a3f5f"
            },
            "baxis": {
             "endlinecolor": "#2a3f5f",
             "gridcolor": "white",
             "linecolor": "white",
             "minorgridcolor": "white",
             "startlinecolor": "#2a3f5f"
            },
            "type": "carpet"
           }
          ],
          "choropleth": [
           {
            "colorbar": {
             "outlinewidth": 0,
             "ticks": ""
            },
            "type": "choropleth"
           }
          ],
          "contour": [
           {
            "colorbar": {
             "outlinewidth": 0,
             "ticks": ""
            },
            "colorscale": [
             [
              0,
              "#0d0887"
             ],
             [
              0.1111111111111111,
              "#46039f"
             ],
             [
              0.2222222222222222,
              "#7201a8"
             ],
             [
              0.3333333333333333,
              "#9c179e"
             ],
             [
              0.4444444444444444,
              "#bd3786"
             ],
             [
              0.5555555555555556,
              "#d8576b"
             ],
             [
              0.6666666666666666,
              "#ed7953"
             ],
             [
              0.7777777777777778,
              "#fb9f3a"
             ],
             [
              0.8888888888888888,
              "#fdca26"
             ],
             [
              1,
              "#f0f921"
             ]
            ],
            "type": "contour"
           }
          ],
          "contourcarpet": [
           {
            "colorbar": {
             "outlinewidth": 0,
             "ticks": ""
            },
            "type": "contourcarpet"
           }
          ],
          "heatmap": [
           {
            "colorbar": {
             "outlinewidth": 0,
             "ticks": ""
            },
            "colorscale": [
             [
              0,
              "#0d0887"
             ],
             [
              0.1111111111111111,
              "#46039f"
             ],
             [
              0.2222222222222222,
              "#7201a8"
             ],
             [
              0.3333333333333333,
              "#9c179e"
             ],
             [
              0.4444444444444444,
              "#bd3786"
             ],
             [
              0.5555555555555556,
              "#d8576b"
             ],
             [
              0.6666666666666666,
              "#ed7953"
             ],
             [
              0.7777777777777778,
              "#fb9f3a"
             ],
             [
              0.8888888888888888,
              "#fdca26"
             ],
             [
              1,
              "#f0f921"
             ]
            ],
            "type": "heatmap"
           }
          ],
          "heatmapgl": [
           {
            "colorbar": {
             "outlinewidth": 0,
             "ticks": ""
            },
            "colorscale": [
             [
              0,
              "#0d0887"
             ],
             [
              0.1111111111111111,
              "#46039f"
             ],
             [
              0.2222222222222222,
              "#7201a8"
             ],
             [
              0.3333333333333333,
              "#9c179e"
             ],
             [
              0.4444444444444444,
              "#bd3786"
             ],
             [
              0.5555555555555556,
              "#d8576b"
             ],
             [
              0.6666666666666666,
              "#ed7953"
             ],
             [
              0.7777777777777778,
              "#fb9f3a"
             ],
             [
              0.8888888888888888,
              "#fdca26"
             ],
             [
              1,
              "#f0f921"
             ]
            ],
            "type": "heatmapgl"
           }
          ],
          "histogram": [
           {
            "marker": {
             "pattern": {
              "fillmode": "overlay",
              "size": 10,
              "solidity": 0.2
             }
            },
            "type": "histogram"
           }
          ],
          "histogram2d": [
           {
            "colorbar": {
             "outlinewidth": 0,
             "ticks": ""
            },
            "colorscale": [
             [
              0,
              "#0d0887"
             ],
             [
              0.1111111111111111,
              "#46039f"
             ],
             [
              0.2222222222222222,
              "#7201a8"
             ],
             [
              0.3333333333333333,
              "#9c179e"
             ],
             [
              0.4444444444444444,
              "#bd3786"
             ],
             [
              0.5555555555555556,
              "#d8576b"
             ],
             [
              0.6666666666666666,
              "#ed7953"
             ],
             [
              0.7777777777777778,
              "#fb9f3a"
             ],
             [
              0.8888888888888888,
              "#fdca26"
             ],
             [
              1,
              "#f0f921"
             ]
            ],
            "type": "histogram2d"
           }
          ],
          "histogram2dcontour": [
           {
            "colorbar": {
             "outlinewidth": 0,
             "ticks": ""
            },
            "colorscale": [
             [
              0,
              "#0d0887"
             ],
             [
              0.1111111111111111,
              "#46039f"
             ],
             [
              0.2222222222222222,
              "#7201a8"
             ],
             [
              0.3333333333333333,
              "#9c179e"
             ],
             [
              0.4444444444444444,
              "#bd3786"
             ],
             [
              0.5555555555555556,
              "#d8576b"
             ],
             [
              0.6666666666666666,
              "#ed7953"
             ],
             [
              0.7777777777777778,
              "#fb9f3a"
             ],
             [
              0.8888888888888888,
              "#fdca26"
             ],
             [
              1,
              "#f0f921"
             ]
            ],
            "type": "histogram2dcontour"
           }
          ],
          "mesh3d": [
           {
            "colorbar": {
             "outlinewidth": 0,
             "ticks": ""
            },
            "type": "mesh3d"
           }
          ],
          "parcoords": [
           {
            "line": {
             "colorbar": {
              "outlinewidth": 0,
              "ticks": ""
             }
            },
            "type": "parcoords"
           }
          ],
          "pie": [
           {
            "automargin": true,
            "type": "pie"
           }
          ],
          "scatter": [
           {
            "fillpattern": {
             "fillmode": "overlay",
             "size": 10,
             "solidity": 0.2
            },
            "type": "scatter"
           }
          ],
          "scatter3d": [
           {
            "line": {
             "colorbar": {
              "outlinewidth": 0,
              "ticks": ""
             }
            },
            "marker": {
             "colorbar": {
              "outlinewidth": 0,
              "ticks": ""
             }
            },
            "type": "scatter3d"
           }
          ],
          "scattercarpet": [
           {
            "marker": {
             "colorbar": {
              "outlinewidth": 0,
              "ticks": ""
             }
            },
            "type": "scattercarpet"
           }
          ],
          "scattergeo": [
           {
            "marker": {
             "colorbar": {
              "outlinewidth": 0,
              "ticks": ""
             }
            },
            "type": "scattergeo"
           }
          ],
          "scattergl": [
           {
            "marker": {
             "colorbar": {
              "outlinewidth": 0,
              "ticks": ""
             }
            },
            "type": "scattergl"
           }
          ],
          "scattermapbox": [
           {
            "marker": {
             "colorbar": {
              "outlinewidth": 0,
              "ticks": ""
             }
            },
            "type": "scattermapbox"
           }
          ],
          "scatterpolar": [
           {
            "marker": {
             "colorbar": {
              "outlinewidth": 0,
              "ticks": ""
             }
            },
            "type": "scatterpolar"
           }
          ],
          "scatterpolargl": [
           {
            "marker": {
             "colorbar": {
              "outlinewidth": 0,
              "ticks": ""
             }
            },
            "type": "scatterpolargl"
           }
          ],
          "scatterternary": [
           {
            "marker": {
             "colorbar": {
              "outlinewidth": 0,
              "ticks": ""
             }
            },
            "type": "scatterternary"
           }
          ],
          "surface": [
           {
            "colorbar": {
             "outlinewidth": 0,
             "ticks": ""
            },
            "colorscale": [
             [
              0,
              "#0d0887"
             ],
             [
              0.1111111111111111,
              "#46039f"
             ],
             [
              0.2222222222222222,
              "#7201a8"
             ],
             [
              0.3333333333333333,
              "#9c179e"
             ],
             [
              0.4444444444444444,
              "#bd3786"
             ],
             [
              0.5555555555555556,
              "#d8576b"
             ],
             [
              0.6666666666666666,
              "#ed7953"
             ],
             [
              0.7777777777777778,
              "#fb9f3a"
             ],
             [
              0.8888888888888888,
              "#fdca26"
             ],
             [
              1,
              "#f0f921"
             ]
            ],
            "type": "surface"
           }
          ],
          "table": [
           {
            "cells": {
             "fill": {
              "color": "#EBF0F8"
             },
             "line": {
              "color": "white"
             }
            },
            "header": {
             "fill": {
              "color": "#C8D4E3"
             },
             "line": {
              "color": "white"
             }
            },
            "type": "table"
           }
          ]
         },
         "layout": {
          "annotationdefaults": {
           "arrowcolor": "#2a3f5f",
           "arrowhead": 0,
           "arrowwidth": 1
          },
          "autotypenumbers": "strict",
          "coloraxis": {
           "colorbar": {
            "outlinewidth": 0,
            "ticks": ""
           }
          },
          "colorscale": {
           "diverging": [
            [
             0,
             "#8e0152"
            ],
            [
             0.1,
             "#c51b7d"
            ],
            [
             0.2,
             "#de77ae"
            ],
            [
             0.3,
             "#f1b6da"
            ],
            [
             0.4,
             "#fde0ef"
            ],
            [
             0.5,
             "#f7f7f7"
            ],
            [
             0.6,
             "#e6f5d0"
            ],
            [
             0.7,
             "#b8e186"
            ],
            [
             0.8,
             "#7fbc41"
            ],
            [
             0.9,
             "#4d9221"
            ],
            [
             1,
             "#276419"
            ]
           ],
           "sequential": [
            [
             0,
             "#0d0887"
            ],
            [
             0.1111111111111111,
             "#46039f"
            ],
            [
             0.2222222222222222,
             "#7201a8"
            ],
            [
             0.3333333333333333,
             "#9c179e"
            ],
            [
             0.4444444444444444,
             "#bd3786"
            ],
            [
             0.5555555555555556,
             "#d8576b"
            ],
            [
             0.6666666666666666,
             "#ed7953"
            ],
            [
             0.7777777777777778,
             "#fb9f3a"
            ],
            [
             0.8888888888888888,
             "#fdca26"
            ],
            [
             1,
             "#f0f921"
            ]
           ],
           "sequentialminus": [
            [
             0,
             "#0d0887"
            ],
            [
             0.1111111111111111,
             "#46039f"
            ],
            [
             0.2222222222222222,
             "#7201a8"
            ],
            [
             0.3333333333333333,
             "#9c179e"
            ],
            [
             0.4444444444444444,
             "#bd3786"
            ],
            [
             0.5555555555555556,
             "#d8576b"
            ],
            [
             0.6666666666666666,
             "#ed7953"
            ],
            [
             0.7777777777777778,
             "#fb9f3a"
            ],
            [
             0.8888888888888888,
             "#fdca26"
            ],
            [
             1,
             "#f0f921"
            ]
           ]
          },
          "colorway": [
           "#636efa",
           "#EF553B",
           "#00cc96",
           "#ab63fa",
           "#FFA15A",
           "#19d3f3",
           "#FF6692",
           "#B6E880",
           "#FF97FF",
           "#FECB52"
          ],
          "font": {
           "color": "#2a3f5f"
          },
          "geo": {
           "bgcolor": "white",
           "lakecolor": "white",
           "landcolor": "#E5ECF6",
           "showlakes": true,
           "showland": true,
           "subunitcolor": "white"
          },
          "hoverlabel": {
           "align": "left"
          },
          "hovermode": "closest",
          "mapbox": {
           "style": "light"
          },
          "paper_bgcolor": "white",
          "plot_bgcolor": "#E5ECF6",
          "polar": {
           "angularaxis": {
            "gridcolor": "white",
            "linecolor": "white",
            "ticks": ""
           },
           "bgcolor": "#E5ECF6",
           "radialaxis": {
            "gridcolor": "white",
            "linecolor": "white",
            "ticks": ""
           }
          },
          "scene": {
           "xaxis": {
            "backgroundcolor": "#E5ECF6",
            "gridcolor": "white",
            "gridwidth": 2,
            "linecolor": "white",
            "showbackground": true,
            "ticks": "",
            "zerolinecolor": "white"
           },
           "yaxis": {
            "backgroundcolor": "#E5ECF6",
            "gridcolor": "white",
            "gridwidth": 2,
            "linecolor": "white",
            "showbackground": true,
            "ticks": "",
            "zerolinecolor": "white"
           },
           "zaxis": {
            "backgroundcolor": "#E5ECF6",
            "gridcolor": "white",
            "gridwidth": 2,
            "linecolor": "white",
            "showbackground": true,
            "ticks": "",
            "zerolinecolor": "white"
           }
          },
          "shapedefaults": {
           "line": {
            "color": "#2a3f5f"
           }
          },
          "ternary": {
           "aaxis": {
            "gridcolor": "white",
            "linecolor": "white",
            "ticks": ""
           },
           "baxis": {
            "gridcolor": "white",
            "linecolor": "white",
            "ticks": ""
           },
           "bgcolor": "#E5ECF6",
           "caxis": {
            "gridcolor": "white",
            "linecolor": "white",
            "ticks": ""
           }
          },
          "title": {
           "x": 0.05
          },
          "xaxis": {
           "automargin": true,
           "gridcolor": "white",
           "linecolor": "white",
           "ticks": "",
           "title": {
            "standoff": 15
           },
           "zerolinecolor": "white",
           "zerolinewidth": 2
          },
          "yaxis": {
           "automargin": true,
           "gridcolor": "white",
           "linecolor": "white",
           "ticks": "",
           "title": {
            "standoff": 15
           },
           "zerolinecolor": "white",
           "zerolinewidth": 2
          }
         }
        },
        "title": {
         "text": "Evolution most frequent causes"
        },
        "xaxis": {
         "anchor": "y",
         "domain": [
          0,
          1
         ],
         "title": {
          "text": "Year"
         }
        },
        "yaxis": {
         "anchor": "x",
         "domain": [
          0,
          1
         ],
         "title": {
          "text": "Total"
         }
        }
       }
      },
      "text/html": [
       "<div>                            <div id=\"9ec7f559-61a7-44be-a34f-3fab1ca42152\" class=\"plotly-graph-div\" style=\"height:525px; width:100%;\"></div>            <script type=\"text/javascript\">                require([\"plotly\"], function(Plotly) {                    window.PLOTLYENV=window.PLOTLYENV || {};                                    if (document.getElementById(\"9ec7f559-61a7-44be-a34f-3fab1ca42152\")) {                    Plotly.newPlot(                        \"9ec7f559-61a7-44be-a34f-3fab1ca42152\",                        [{\"hovertemplate\":\"=Enfermedades cerebrovasculares<br>Year=%{x}<br>Total=%{y}<extra></extra>\",\"legendgroup\":\"Enfermedades cerebrovasculares\",\"line\":{\"color\":\"#636efa\",\"dash\":\"solid\"},\"marker\":{\"symbol\":\"circle\"},\"mode\":\"lines\",\"name\":\"Enfermedades cerebrovasculares\",\"orientation\":\"v\",\"showlegend\":true,\"x\":[2018,2017,2016,2015,2014,2013,2012,2011,2010,2009,2008,2007,2006,2005,2004,2003,2002,2001,2000,1999,1998,1997,1996,1995,1994,1993,1992,1991,1990,1989,1988,1987,1986,1985,1984,1983,1982,1981,1980],\"xaxis\":\"x\",\"y\":[26420,26937,27122,28434,27579,27850,29520,28855,30161,31157,31833,33034,32900,34750,34250,37225,35947,36567,36596,38730,38064,37822,38815,39922,41134,41842,42027,44001,43227,43876,44655,44462,45800,47684,47699,48331,46138,49000,47475],\"yaxis\":\"y\",\"type\":\"scatter\"},{\"hovertemplate\":\"=Tumor maligno de la tr\\u00e1quea, de los bronquios y del pulm\\u00f3n<br>Year=%{x}<br>Total=%{y}<extra></extra>\",\"legendgroup\":\"Tumor maligno de la tr\\u00e1quea, de los bronquios y del pulm\\u00f3n\",\"line\":{\"color\":\"#EF553B\",\"dash\":\"solid\"},\"marker\":{\"symbol\":\"circle\"},\"mode\":\"lines\",\"name\":\"Tumor maligno de la tr\\u00e1quea, de los bronquios y del pulm\\u00f3n\",\"orientation\":\"v\",\"showlegend\":true,\"x\":[2018,2017,2016,2015,2014,2013,2012,2011,2010,2009,2008,2007,2006,2005,2004,2003,2002,2001,2000,1999,1998,1997,1996,1995,1994,1993,1992,1991,1990,1989,1988,1987,1986,1985,1984,1983,1982,1981,1980],\"xaxis\":\"x\",\"y\":[22153,22121,22187,21625,21270,21689,21511,21097,20755,20425,20213,19992,19532,19118,19092,18801,18114,18214,17363,17428,17215,16607,16270,16510,16036,15574,15041,14522,13982,13627,13153,12508,11650,11349,10935,10328,9828,9486,8771],\"yaxis\":\"y\",\"type\":\"scatter\"},{\"hovertemplate\":\"=Trastornos mentales org\\u00e1nicos, senil y presenil<br>Year=%{x}<br>Total=%{y}<extra></extra>\",\"legendgroup\":\"Trastornos mentales org\\u00e1nicos, senil y presenil\",\"line\":{\"color\":\"#00cc96\",\"dash\":\"solid\"},\"marker\":{\"symbol\":\"circle\"},\"mode\":\"lines\",\"name\":\"Trastornos mentales org\\u00e1nicos, senil y presenil\",\"orientation\":\"v\",\"showlegend\":true,\"x\":[2018,2017,2016,2015,2014,2013,2012,2011,2010,2009,2008,2007,2006,2005,2004,2003,2002,2001,2000,1999,1998,1997,1996,1995,1994,1993,1992,1991,1990,1989,1988,1987,1986,1985,1984,1983,1982,1981,1980],\"xaxis\":\"x\",\"y\":[21669,21035,20213,20562,17964,16323,16385,14598,14125,13751,12380,11726,11428,11756,11058,12213,10982,10670,10614,10826,11157,10218,9635,8802,7889,6913,6234,5868,4867,3839,2932,2543,1992,1617,1203,944,499,494,397],\"yaxis\":\"y\",\"type\":\"scatter\"},{\"hovertemplate\":\"=Accidentes de tr\\u00e1fico<br>Year=%{x}<br>Total=%{y}<extra></extra>\",\"legendgroup\":\"Accidentes de tr\\u00e1fico\",\"line\":{\"color\":\"#ab63fa\",\"dash\":\"solid\"},\"marker\":{\"symbol\":\"circle\"},\"mode\":\"lines\",\"name\":\"Accidentes de tr\\u00e1fico\",\"orientation\":\"v\",\"showlegend\":true,\"x\":[2018,2017,2016,2015,2014,2013,2012,2011,2010,2009,2008,2007,2006,2005,2004,2003,2002,2001,2000,1999,1998,1997,1996,1995,1994,1993,1992,1991,1990,1989,1988,1987,1986,1985,1984,1983,1982,1981,1980],\"xaxis\":\"x\",\"y\":[1896,1943,1890,1880,1873,1807,1914,2116,2336,2588,3030,3811,4144,4522,4888,5514,5496,5744,6098,6024,6154,5790,5635,5752,5584,6176,6680,7724,7989,8218,7398,6681,6212,5670,5572,5176,4746,5697,6146],\"yaxis\":\"y\",\"type\":\"scatter\"},{\"hovertemplate\":\"=Suicidio y lesiones autoinfligidas<br>Year=%{x}<br>Total=%{y}<extra></extra>\",\"legendgroup\":\"Suicidio y lesiones autoinfligidas\",\"line\":{\"color\":\"#FFA15A\",\"dash\":\"solid\"},\"marker\":{\"symbol\":\"circle\"},\"mode\":\"lines\",\"name\":\"Suicidio y lesiones autoinfligidas\",\"orientation\":\"v\",\"showlegend\":true,\"x\":[2018,2017,2016,2015,2014,2013,2012,2011,2010,2009,2008,2007,2006,2005,2004,2003,2002,2001,2000,1999,1998,1997,1996,1995,1994,1993,1992,1991,1990,1989,1988,1987,1986,1985,1984,1983,1982,1981,1980],\"xaxis\":\"x\",\"y\":[3539,3679,3569,3602,3910,3870,3539,3180,3158,3429,3457,3263,3246,3399,3507,3478,3371,3189,3393,3218,3261,3373,3320,3157,3171,3037,2786,2916,2939,2987,2960,2804,2755,2514,2493,2181,1851,1718,1652],\"yaxis\":\"y\",\"type\":\"scatter\"}],                        {\"template\":{\"data\":{\"histogram2dcontour\":[{\"type\":\"histogram2dcontour\",\"colorbar\":{\"outlinewidth\":0,\"ticks\":\"\"},\"colorscale\":[[0.0,\"#0d0887\"],[0.1111111111111111,\"#46039f\"],[0.2222222222222222,\"#7201a8\"],[0.3333333333333333,\"#9c179e\"],[0.4444444444444444,\"#bd3786\"],[0.5555555555555556,\"#d8576b\"],[0.6666666666666666,\"#ed7953\"],[0.7777777777777778,\"#fb9f3a\"],[0.8888888888888888,\"#fdca26\"],[1.0,\"#f0f921\"]]}],\"choropleth\":[{\"type\":\"choropleth\",\"colorbar\":{\"outlinewidth\":0,\"ticks\":\"\"}}],\"histogram2d\":[{\"type\":\"histogram2d\",\"colorbar\":{\"outlinewidth\":0,\"ticks\":\"\"},\"colorscale\":[[0.0,\"#0d0887\"],[0.1111111111111111,\"#46039f\"],[0.2222222222222222,\"#7201a8\"],[0.3333333333333333,\"#9c179e\"],[0.4444444444444444,\"#bd3786\"],[0.5555555555555556,\"#d8576b\"],[0.6666666666666666,\"#ed7953\"],[0.7777777777777778,\"#fb9f3a\"],[0.8888888888888888,\"#fdca26\"],[1.0,\"#f0f921\"]]}],\"heatmap\":[{\"type\":\"heatmap\",\"colorbar\":{\"outlinewidth\":0,\"ticks\":\"\"},\"colorscale\":[[0.0,\"#0d0887\"],[0.1111111111111111,\"#46039f\"],[0.2222222222222222,\"#7201a8\"],[0.3333333333333333,\"#9c179e\"],[0.4444444444444444,\"#bd3786\"],[0.5555555555555556,\"#d8576b\"],[0.6666666666666666,\"#ed7953\"],[0.7777777777777778,\"#fb9f3a\"],[0.8888888888888888,\"#fdca26\"],[1.0,\"#f0f921\"]]}],\"heatmapgl\":[{\"type\":\"heatmapgl\",\"colorbar\":{\"outlinewidth\":0,\"ticks\":\"\"},\"colorscale\":[[0.0,\"#0d0887\"],[0.1111111111111111,\"#46039f\"],[0.2222222222222222,\"#7201a8\"],[0.3333333333333333,\"#9c179e\"],[0.4444444444444444,\"#bd3786\"],[0.5555555555555556,\"#d8576b\"],[0.6666666666666666,\"#ed7953\"],[0.7777777777777778,\"#fb9f3a\"],[0.8888888888888888,\"#fdca26\"],[1.0,\"#f0f921\"]]}],\"contourcarpet\":[{\"type\":\"contourcarpet\",\"colorbar\":{\"outlinewidth\":0,\"ticks\":\"\"}}],\"contour\":[{\"type\":\"contour\",\"colorbar\":{\"outlinewidth\":0,\"ticks\":\"\"},\"colorscale\":[[0.0,\"#0d0887\"],[0.1111111111111111,\"#46039f\"],[0.2222222222222222,\"#7201a8\"],[0.3333333333333333,\"#9c179e\"],[0.4444444444444444,\"#bd3786\"],[0.5555555555555556,\"#d8576b\"],[0.6666666666666666,\"#ed7953\"],[0.7777777777777778,\"#fb9f3a\"],[0.8888888888888888,\"#fdca26\"],[1.0,\"#f0f921\"]]}],\"surface\":[{\"type\":\"surface\",\"colorbar\":{\"outlinewidth\":0,\"ticks\":\"\"},\"colorscale\":[[0.0,\"#0d0887\"],[0.1111111111111111,\"#46039f\"],[0.2222222222222222,\"#7201a8\"],[0.3333333333333333,\"#9c179e\"],[0.4444444444444444,\"#bd3786\"],[0.5555555555555556,\"#d8576b\"],[0.6666666666666666,\"#ed7953\"],[0.7777777777777778,\"#fb9f3a\"],[0.8888888888888888,\"#fdca26\"],[1.0,\"#f0f921\"]]}],\"mesh3d\":[{\"type\":\"mesh3d\",\"colorbar\":{\"outlinewidth\":0,\"ticks\":\"\"}}],\"scatter\":[{\"fillpattern\":{\"fillmode\":\"overlay\",\"size\":10,\"solidity\":0.2},\"type\":\"scatter\"}],\"parcoords\":[{\"type\":\"parcoords\",\"line\":{\"colorbar\":{\"outlinewidth\":0,\"ticks\":\"\"}}}],\"scatterpolargl\":[{\"type\":\"scatterpolargl\",\"marker\":{\"colorbar\":{\"outlinewidth\":0,\"ticks\":\"\"}}}],\"bar\":[{\"error_x\":{\"color\":\"#2a3f5f\"},\"error_y\":{\"color\":\"#2a3f5f\"},\"marker\":{\"line\":{\"color\":\"#E5ECF6\",\"width\":0.5},\"pattern\":{\"fillmode\":\"overlay\",\"size\":10,\"solidity\":0.2}},\"type\":\"bar\"}],\"scattergeo\":[{\"type\":\"scattergeo\",\"marker\":{\"colorbar\":{\"outlinewidth\":0,\"ticks\":\"\"}}}],\"scatterpolar\":[{\"type\":\"scatterpolar\",\"marker\":{\"colorbar\":{\"outlinewidth\":0,\"ticks\":\"\"}}}],\"histogram\":[{\"marker\":{\"pattern\":{\"fillmode\":\"overlay\",\"size\":10,\"solidity\":0.2}},\"type\":\"histogram\"}],\"scattergl\":[{\"type\":\"scattergl\",\"marker\":{\"colorbar\":{\"outlinewidth\":0,\"ticks\":\"\"}}}],\"scatter3d\":[{\"type\":\"scatter3d\",\"line\":{\"colorbar\":{\"outlinewidth\":0,\"ticks\":\"\"}},\"marker\":{\"colorbar\":{\"outlinewidth\":0,\"ticks\":\"\"}}}],\"scattermapbox\":[{\"type\":\"scattermapbox\",\"marker\":{\"colorbar\":{\"outlinewidth\":0,\"ticks\":\"\"}}}],\"scatterternary\":[{\"type\":\"scatterternary\",\"marker\":{\"colorbar\":{\"outlinewidth\":0,\"ticks\":\"\"}}}],\"scattercarpet\":[{\"type\":\"scattercarpet\",\"marker\":{\"colorbar\":{\"outlinewidth\":0,\"ticks\":\"\"}}}],\"carpet\":[{\"aaxis\":{\"endlinecolor\":\"#2a3f5f\",\"gridcolor\":\"white\",\"linecolor\":\"white\",\"minorgridcolor\":\"white\",\"startlinecolor\":\"#2a3f5f\"},\"baxis\":{\"endlinecolor\":\"#2a3f5f\",\"gridcolor\":\"white\",\"linecolor\":\"white\",\"minorgridcolor\":\"white\",\"startlinecolor\":\"#2a3f5f\"},\"type\":\"carpet\"}],\"table\":[{\"cells\":{\"fill\":{\"color\":\"#EBF0F8\"},\"line\":{\"color\":\"white\"}},\"header\":{\"fill\":{\"color\":\"#C8D4E3\"},\"line\":{\"color\":\"white\"}},\"type\":\"table\"}],\"barpolar\":[{\"marker\":{\"line\":{\"color\":\"#E5ECF6\",\"width\":0.5},\"pattern\":{\"fillmode\":\"overlay\",\"size\":10,\"solidity\":0.2}},\"type\":\"barpolar\"}],\"pie\":[{\"automargin\":true,\"type\":\"pie\"}]},\"layout\":{\"autotypenumbers\":\"strict\",\"colorway\":[\"#636efa\",\"#EF553B\",\"#00cc96\",\"#ab63fa\",\"#FFA15A\",\"#19d3f3\",\"#FF6692\",\"#B6E880\",\"#FF97FF\",\"#FECB52\"],\"font\":{\"color\":\"#2a3f5f\"},\"hovermode\":\"closest\",\"hoverlabel\":{\"align\":\"left\"},\"paper_bgcolor\":\"white\",\"plot_bgcolor\":\"#E5ECF6\",\"polar\":{\"bgcolor\":\"#E5ECF6\",\"angularaxis\":{\"gridcolor\":\"white\",\"linecolor\":\"white\",\"ticks\":\"\"},\"radialaxis\":{\"gridcolor\":\"white\",\"linecolor\":\"white\",\"ticks\":\"\"}},\"ternary\":{\"bgcolor\":\"#E5ECF6\",\"aaxis\":{\"gridcolor\":\"white\",\"linecolor\":\"white\",\"ticks\":\"\"},\"baxis\":{\"gridcolor\":\"white\",\"linecolor\":\"white\",\"ticks\":\"\"},\"caxis\":{\"gridcolor\":\"white\",\"linecolor\":\"white\",\"ticks\":\"\"}},\"coloraxis\":{\"colorbar\":{\"outlinewidth\":0,\"ticks\":\"\"}},\"colorscale\":{\"sequential\":[[0.0,\"#0d0887\"],[0.1111111111111111,\"#46039f\"],[0.2222222222222222,\"#7201a8\"],[0.3333333333333333,\"#9c179e\"],[0.4444444444444444,\"#bd3786\"],[0.5555555555555556,\"#d8576b\"],[0.6666666666666666,\"#ed7953\"],[0.7777777777777778,\"#fb9f3a\"],[0.8888888888888888,\"#fdca26\"],[1.0,\"#f0f921\"]],\"sequentialminus\":[[0.0,\"#0d0887\"],[0.1111111111111111,\"#46039f\"],[0.2222222222222222,\"#7201a8\"],[0.3333333333333333,\"#9c179e\"],[0.4444444444444444,\"#bd3786\"],[0.5555555555555556,\"#d8576b\"],[0.6666666666666666,\"#ed7953\"],[0.7777777777777778,\"#fb9f3a\"],[0.8888888888888888,\"#fdca26\"],[1.0,\"#f0f921\"]],\"diverging\":[[0,\"#8e0152\"],[0.1,\"#c51b7d\"],[0.2,\"#de77ae\"],[0.3,\"#f1b6da\"],[0.4,\"#fde0ef\"],[0.5,\"#f7f7f7\"],[0.6,\"#e6f5d0\"],[0.7,\"#b8e186\"],[0.8,\"#7fbc41\"],[0.9,\"#4d9221\"],[1,\"#276419\"]]},\"xaxis\":{\"gridcolor\":\"white\",\"linecolor\":\"white\",\"ticks\":\"\",\"title\":{\"standoff\":15},\"zerolinecolor\":\"white\",\"automargin\":true,\"zerolinewidth\":2},\"yaxis\":{\"gridcolor\":\"white\",\"linecolor\":\"white\",\"ticks\":\"\",\"title\":{\"standoff\":15},\"zerolinecolor\":\"white\",\"automargin\":true,\"zerolinewidth\":2},\"scene\":{\"xaxis\":{\"backgroundcolor\":\"#E5ECF6\",\"gridcolor\":\"white\",\"linecolor\":\"white\",\"showbackground\":true,\"ticks\":\"\",\"zerolinecolor\":\"white\",\"gridwidth\":2},\"yaxis\":{\"backgroundcolor\":\"#E5ECF6\",\"gridcolor\":\"white\",\"linecolor\":\"white\",\"showbackground\":true,\"ticks\":\"\",\"zerolinecolor\":\"white\",\"gridwidth\":2},\"zaxis\":{\"backgroundcolor\":\"#E5ECF6\",\"gridcolor\":\"white\",\"linecolor\":\"white\",\"showbackground\":true,\"ticks\":\"\",\"zerolinecolor\":\"white\",\"gridwidth\":2}},\"shapedefaults\":{\"line\":{\"color\":\"#2a3f5f\"}},\"annotationdefaults\":{\"arrowcolor\":\"#2a3f5f\",\"arrowhead\":0,\"arrowwidth\":1},\"geo\":{\"bgcolor\":\"white\",\"landcolor\":\"#E5ECF6\",\"subunitcolor\":\"white\",\"showland\":true,\"showlakes\":true,\"lakecolor\":\"white\"},\"title\":{\"x\":0.05},\"mapbox\":{\"style\":\"light\"}}},\"xaxis\":{\"anchor\":\"y\",\"domain\":[0.0,1.0],\"title\":{\"text\":\"Year\"}},\"yaxis\":{\"anchor\":\"x\",\"domain\":[0.0,1.0],\"title\":{\"text\":\"Total\"}},\"legend\":{\"title\":{\"text\":\"\"},\"tracegroupgap\":0,\"orientation\":\"v\"},\"title\":{\"text\":\"Evolution most frequent causes\"}},                        {\"responsive\": true}                    ).then(function(){\n",
       "                            \n",
       "var gd = document.getElementById('9ec7f559-61a7-44be-a34f-3fab1ca42152');\n",
       "var x = new MutationObserver(function (mutations, observer) {{\n",
       "        var display = window.getComputedStyle(gd).display;\n",
       "        if (!display || display === 'none') {{\n",
       "            console.log([gd, 'removed!']);\n",
       "            Plotly.purge(gd);\n",
       "            observer.disconnect();\n",
       "        }}\n",
       "}});\n",
       "\n",
       "// Listen for the removal of the full notebook cells\n",
       "var notebookContainer = gd.closest('#notebook-container');\n",
       "if (notebookContainer) {{\n",
       "    x.observe(notebookContainer, {childList: true});\n",
       "}}\n",
       "\n",
       "// Listen for the clearing of the current output cell\n",
       "var outputEl = gd.closest('.output');\n",
       "if (outputEl) {{\n",
       "    x.observe(outputEl, {childList: true});\n",
       "}}\n",
       "\n",
       "                        })                };                });            </script>        </div>"
      ]
     },
     "metadata": {},
     "output_type": "display_data"
    }
   ],
   "source": [
    "# Graph evolution selected causes\n",
    "graph = px.line(deaths_causes_evo, \n",
    "                x = 'Periodo',\n",
    "                y = 'Total', \n",
    "                color = 'cause_name',\n",
    "                title = 'Evolution most frequent causes',\n",
    "                labels={'Periodo':'Year', \n",
    "                        'Total':'Total', \n",
    "                        'cause_name': ''})\n",
    "\n",
    "graph.update_layout(legend=dict(orientation='v'))\n",
    "\n",
    "graph.show()"
   ]
  },
  {
   "cell_type": "code",
   "execution_count": 32,
   "metadata": {},
   "outputs": [
    {
     "name": "stdout",
     "output_type": "stream",
     "text": [
      "39\n"
     ]
    },
    {
     "data": {
      "text/html": [
       "<div>\n",
       "<style scoped>\n",
       "    .dataframe tbody tr th:only-of-type {\n",
       "        vertical-align: middle;\n",
       "    }\n",
       "\n",
       "    .dataframe tbody tr th {\n",
       "        vertical-align: top;\n",
       "    }\n",
       "\n",
       "    .dataframe thead th {\n",
       "        text-align: right;\n",
       "    }\n",
       "</style>\n",
       "<table border=\"1\" class=\"dataframe\">\n",
       "  <thead>\n",
       "    <tr style=\"text-align: right;\">\n",
       "      <th></th>\n",
       "      <th>Causa de muerte</th>\n",
       "      <th>Sexo</th>\n",
       "      <th>Edad</th>\n",
       "      <th>Periodo</th>\n",
       "      <th>Total</th>\n",
       "      <th>cause_code</th>\n",
       "      <th>cause_group</th>\n",
       "      <th>cause_name</th>\n",
       "      <th>Demo</th>\n",
       "      <th>Percent</th>\n",
       "      <th>PercentK</th>\n",
       "    </tr>\n",
       "  </thead>\n",
       "  <tbody>\n",
       "    <tr>\n",
       "      <th>97</th>\n",
       "      <td>098  Suicidio y lesiones autoinfligidas</td>\n",
       "      <td>Total</td>\n",
       "      <td>Todas las edades</td>\n",
       "      <td>2018</td>\n",
       "      <td>3539</td>\n",
       "      <td>098</td>\n",
       "      <td>Single cause</td>\n",
       "      <td>Suicidio y lesiones autoinfligidas</td>\n",
       "      <td>46658447</td>\n",
       "      <td>0.007585</td>\n",
       "      <td>758.490740</td>\n",
       "    </tr>\n",
       "    <tr>\n",
       "      <th>199</th>\n",
       "      <td>098  Suicidio y lesiones autoinfligidas</td>\n",
       "      <td>Total</td>\n",
       "      <td>Todas las edades</td>\n",
       "      <td>2017</td>\n",
       "      <td>3679</td>\n",
       "      <td>098</td>\n",
       "      <td>Single cause</td>\n",
       "      <td>Suicidio y lesiones autoinfligidas</td>\n",
       "      <td>46527039</td>\n",
       "      <td>0.007907</td>\n",
       "      <td>790.723003</td>\n",
       "    </tr>\n",
       "    <tr>\n",
       "      <th>301</th>\n",
       "      <td>098  Suicidio y lesiones autoinfligidas</td>\n",
       "      <td>Total</td>\n",
       "      <td>Todas las edades</td>\n",
       "      <td>2016</td>\n",
       "      <td>3569</td>\n",
       "      <td>098</td>\n",
       "      <td>Single cause</td>\n",
       "      <td>Suicidio y lesiones autoinfligidas</td>\n",
       "      <td>46440099</td>\n",
       "      <td>0.007685</td>\n",
       "      <td>768.516880</td>\n",
       "    </tr>\n",
       "    <tr>\n",
       "      <th>403</th>\n",
       "      <td>098  Suicidio y lesiones autoinfligidas</td>\n",
       "      <td>Total</td>\n",
       "      <td>Todas las edades</td>\n",
       "      <td>2015</td>\n",
       "      <td>3602</td>\n",
       "      <td>098</td>\n",
       "      <td>Single cause</td>\n",
       "      <td>Suicidio y lesiones autoinfligidas</td>\n",
       "      <td>46449565</td>\n",
       "      <td>0.007755</td>\n",
       "      <td>775.464743</td>\n",
       "    </tr>\n",
       "    <tr>\n",
       "      <th>505</th>\n",
       "      <td>098  Suicidio y lesiones autoinfligidas</td>\n",
       "      <td>Total</td>\n",
       "      <td>Todas las edades</td>\n",
       "      <td>2014</td>\n",
       "      <td>3910</td>\n",
       "      <td>098</td>\n",
       "      <td>Single cause</td>\n",
       "      <td>Suicidio y lesiones autoinfligidas</td>\n",
       "      <td>46512199</td>\n",
       "      <td>0.008406</td>\n",
       "      <td>840.639678</td>\n",
       "    </tr>\n",
       "  </tbody>\n",
       "</table>\n",
       "</div>"
      ],
      "text/plain": [
       "                             Causa de muerte   Sexo              Edad  \\\n",
       "97   098  Suicidio y lesiones autoinfligidas  Total  Todas las edades   \n",
       "199  098  Suicidio y lesiones autoinfligidas  Total  Todas las edades   \n",
       "301  098  Suicidio y lesiones autoinfligidas  Total  Todas las edades   \n",
       "403  098  Suicidio y lesiones autoinfligidas  Total  Todas las edades   \n",
       "505  098  Suicidio y lesiones autoinfligidas  Total  Todas las edades   \n",
       "\n",
       "     Periodo  Total cause_code   cause_group  \\\n",
       "97      2018   3539        098  Single cause   \n",
       "199     2017   3679        098  Single cause   \n",
       "301     2016   3569        098  Single cause   \n",
       "403     2015   3602        098  Single cause   \n",
       "505     2014   3910        098  Single cause   \n",
       "\n",
       "                             cause_name      Demo   Percent    PercentK  \n",
       "97   Suicidio y lesiones autoinfligidas  46658447  0.007585  758.490740  \n",
       "199  Suicidio y lesiones autoinfligidas  46527039  0.007907  790.723003  \n",
       "301  Suicidio y lesiones autoinfligidas  46440099  0.007685  768.516880  \n",
       "403  Suicidio y lesiones autoinfligidas  46449565  0.007755  775.464743  \n",
       "505  Suicidio y lesiones autoinfligidas  46512199  0.008406  840.639678  "
      ]
     },
     "execution_count": 32,
     "metadata": {},
     "output_type": "execute_result"
    }
   ],
   "source": [
    "# Cause: 098 - suicide. Total\n",
    "deaths_cause_tot_098 = deaths_tot[deaths_tot['cause_code'] == '098']\n",
    "print(len(deaths_cause_tot_098))\n",
    "deaths_cause_tot_098.head()"
   ]
  },
  {
   "cell_type": "code",
   "execution_count": 33,
   "metadata": {},
   "outputs": [
    {
     "data": {
      "text/html": [
       "<div>\n",
       "<style scoped>\n",
       "    .dataframe tbody tr th:only-of-type {\n",
       "        vertical-align: middle;\n",
       "    }\n",
       "\n",
       "    .dataframe tbody tr th {\n",
       "        vertical-align: top;\n",
       "    }\n",
       "\n",
       "    .dataframe thead th {\n",
       "        text-align: right;\n",
       "    }\n",
       "</style>\n",
       "<table border=\"1\" class=\"dataframe\">\n",
       "  <thead>\n",
       "    <tr style=\"text-align: right;\">\n",
       "      <th></th>\n",
       "      <th>Causa de muerte</th>\n",
       "      <th>Sexo</th>\n",
       "      <th>Edad</th>\n",
       "      <th>Periodo</th>\n",
       "      <th>Total</th>\n",
       "      <th>cause_code</th>\n",
       "      <th>cause_group</th>\n",
       "      <th>cause_name</th>\n",
       "    </tr>\n",
       "  </thead>\n",
       "  <tbody>\n",
       "    <tr>\n",
       "      <th>289185</th>\n",
       "      <td>098  Suicidio y lesiones autoinfligidas</td>\n",
       "      <td>Hombres</td>\n",
       "      <td>Menos de 1 año</td>\n",
       "      <td>2018</td>\n",
       "      <td>0</td>\n",
       "      <td>098</td>\n",
       "      <td>Single cause</td>\n",
       "      <td>Suicidio y lesiones autoinfligidas</td>\n",
       "    </tr>\n",
       "    <tr>\n",
       "      <th>289186</th>\n",
       "      <td>098  Suicidio y lesiones autoinfligidas</td>\n",
       "      <td>Hombres</td>\n",
       "      <td>Menos de 1 año</td>\n",
       "      <td>2017</td>\n",
       "      <td>0</td>\n",
       "      <td>098</td>\n",
       "      <td>Single cause</td>\n",
       "      <td>Suicidio y lesiones autoinfligidas</td>\n",
       "    </tr>\n",
       "    <tr>\n",
       "      <th>289187</th>\n",
       "      <td>098  Suicidio y lesiones autoinfligidas</td>\n",
       "      <td>Hombres</td>\n",
       "      <td>Menos de 1 año</td>\n",
       "      <td>2016</td>\n",
       "      <td>0</td>\n",
       "      <td>098</td>\n",
       "      <td>Single cause</td>\n",
       "      <td>Suicidio y lesiones autoinfligidas</td>\n",
       "    </tr>\n",
       "    <tr>\n",
       "      <th>289188</th>\n",
       "      <td>098  Suicidio y lesiones autoinfligidas</td>\n",
       "      <td>Hombres</td>\n",
       "      <td>Menos de 1 año</td>\n",
       "      <td>2015</td>\n",
       "      <td>0</td>\n",
       "      <td>098</td>\n",
       "      <td>Single cause</td>\n",
       "      <td>Suicidio y lesiones autoinfligidas</td>\n",
       "    </tr>\n",
       "    <tr>\n",
       "      <th>289189</th>\n",
       "      <td>098  Suicidio y lesiones autoinfligidas</td>\n",
       "      <td>Hombres</td>\n",
       "      <td>Menos de 1 año</td>\n",
       "      <td>2014</td>\n",
       "      <td>0</td>\n",
       "      <td>098</td>\n",
       "      <td>Single cause</td>\n",
       "      <td>Suicidio y lesiones autoinfligidas</td>\n",
       "    </tr>\n",
       "  </tbody>\n",
       "</table>\n",
       "</div>"
      ],
      "text/plain": [
       "                                Causa de muerte     Sexo            Edad  \\\n",
       "289185  098  Suicidio y lesiones autoinfligidas  Hombres  Menos de 1 año   \n",
       "289186  098  Suicidio y lesiones autoinfligidas  Hombres  Menos de 1 año   \n",
       "289187  098  Suicidio y lesiones autoinfligidas  Hombres  Menos de 1 año   \n",
       "289188  098  Suicidio y lesiones autoinfligidas  Hombres  Menos de 1 año   \n",
       "289189  098  Suicidio y lesiones autoinfligidas  Hombres  Menos de 1 año   \n",
       "\n",
       "        Periodo  Total cause_code   cause_group  \\\n",
       "289185     2018      0        098  Single cause   \n",
       "289186     2017      0        098  Single cause   \n",
       "289187     2016      0        098  Single cause   \n",
       "289188     2015      0        098  Single cause   \n",
       "289189     2014      0        098  Single cause   \n",
       "\n",
       "                                cause_name  \n",
       "289185  Suicidio y lesiones autoinfligidas  \n",
       "289186  Suicidio y lesiones autoinfligidas  \n",
       "289187  Suicidio y lesiones autoinfligidas  \n",
       "289188  Suicidio y lesiones autoinfligidas  \n",
       "289189  Suicidio y lesiones autoinfligidas  "
      ]
     },
     "execution_count": 33,
     "metadata": {},
     "output_type": "execute_result"
    }
   ],
   "source": [
    "# Cause: 098 - suicide. By sex, ages\n",
    "deaths_cause_098 = deaths[deaths['cause_code'] == '098']\n",
    "deaths_cause_098 = deaths_cause_098[(deaths_cause_098['Sexo'] != 'Total') &\n",
    "                                    (deaths_cause_098['Edad'] != 'Todas las edades')] \n",
    "deaths_cause_098.head()"
   ]
  },
  {
   "cell_type": "code",
   "execution_count": 34,
   "metadata": {},
   "outputs": [
    {
     "data": {
      "application/vnd.plotly.v1+json": {
       "config": {
        "linkText": "Export to plot.ly",
        "plotlyServerURL": "https://plot.ly",
        "showLink": true
       },
       "data": [
        {
         "line": {
          "color": "rgba(255, 153, 51, 1.0)",
          "dash": "solid",
          "shape": "linear",
          "width": 1.3
         },
         "mode": "lines",
         "name": "Total",
         "text": "",
         "type": "scatter",
         "x": [
          2018,
          2017,
          2016,
          2015,
          2014,
          2013,
          2012,
          2011,
          2010,
          2009,
          2008,
          2007,
          2006,
          2005,
          2004,
          2003,
          2002,
          2001,
          2000,
          1999,
          1998,
          1997,
          1996,
          1995,
          1994,
          1993,
          1992,
          1991,
          1990,
          1989,
          1988,
          1987,
          1986,
          1985,
          1984,
          1983,
          1982,
          1981,
          1980
         ],
         "y": [
          3539,
          3679,
          3569,
          3602,
          3910,
          3870,
          3539,
          3180,
          3158,
          3429,
          3457,
          3263,
          3246,
          3399,
          3507,
          3478,
          3371,
          3189,
          3393,
          3218,
          3261,
          3373,
          3320,
          3157,
          3171,
          3037,
          2786,
          2916,
          2939,
          2987,
          2960,
          2804,
          2755,
          2514,
          2493,
          2181,
          1851,
          1718,
          1652
         ]
        }
       ],
       "layout": {
        "legend": {
         "bgcolor": "#F5F6F9",
         "font": {
          "color": "#4D5663"
         }
        },
        "paper_bgcolor": "#F5F6F9",
        "plot_bgcolor": "#F5F6F9",
        "template": {
         "data": {
          "bar": [
           {
            "error_x": {
             "color": "#2a3f5f"
            },
            "error_y": {
             "color": "#2a3f5f"
            },
            "marker": {
             "line": {
              "color": "#E5ECF6",
              "width": 0.5
             },
             "pattern": {
              "fillmode": "overlay",
              "size": 10,
              "solidity": 0.2
             }
            },
            "type": "bar"
           }
          ],
          "barpolar": [
           {
            "marker": {
             "line": {
              "color": "#E5ECF6",
              "width": 0.5
             },
             "pattern": {
              "fillmode": "overlay",
              "size": 10,
              "solidity": 0.2
             }
            },
            "type": "barpolar"
           }
          ],
          "carpet": [
           {
            "aaxis": {
             "endlinecolor": "#2a3f5f",
             "gridcolor": "white",
             "linecolor": "white",
             "minorgridcolor": "white",
             "startlinecolor": "#2a3f5f"
            },
            "baxis": {
             "endlinecolor": "#2a3f5f",
             "gridcolor": "white",
             "linecolor": "white",
             "minorgridcolor": "white",
             "startlinecolor": "#2a3f5f"
            },
            "type": "carpet"
           }
          ],
          "choropleth": [
           {
            "colorbar": {
             "outlinewidth": 0,
             "ticks": ""
            },
            "type": "choropleth"
           }
          ],
          "contour": [
           {
            "colorbar": {
             "outlinewidth": 0,
             "ticks": ""
            },
            "colorscale": [
             [
              0,
              "#0d0887"
             ],
             [
              0.1111111111111111,
              "#46039f"
             ],
             [
              0.2222222222222222,
              "#7201a8"
             ],
             [
              0.3333333333333333,
              "#9c179e"
             ],
             [
              0.4444444444444444,
              "#bd3786"
             ],
             [
              0.5555555555555556,
              "#d8576b"
             ],
             [
              0.6666666666666666,
              "#ed7953"
             ],
             [
              0.7777777777777778,
              "#fb9f3a"
             ],
             [
              0.8888888888888888,
              "#fdca26"
             ],
             [
              1,
              "#f0f921"
             ]
            ],
            "type": "contour"
           }
          ],
          "contourcarpet": [
           {
            "colorbar": {
             "outlinewidth": 0,
             "ticks": ""
            },
            "type": "contourcarpet"
           }
          ],
          "heatmap": [
           {
            "colorbar": {
             "outlinewidth": 0,
             "ticks": ""
            },
            "colorscale": [
             [
              0,
              "#0d0887"
             ],
             [
              0.1111111111111111,
              "#46039f"
             ],
             [
              0.2222222222222222,
              "#7201a8"
             ],
             [
              0.3333333333333333,
              "#9c179e"
             ],
             [
              0.4444444444444444,
              "#bd3786"
             ],
             [
              0.5555555555555556,
              "#d8576b"
             ],
             [
              0.6666666666666666,
              "#ed7953"
             ],
             [
              0.7777777777777778,
              "#fb9f3a"
             ],
             [
              0.8888888888888888,
              "#fdca26"
             ],
             [
              1,
              "#f0f921"
             ]
            ],
            "type": "heatmap"
           }
          ],
          "heatmapgl": [
           {
            "colorbar": {
             "outlinewidth": 0,
             "ticks": ""
            },
            "colorscale": [
             [
              0,
              "#0d0887"
             ],
             [
              0.1111111111111111,
              "#46039f"
             ],
             [
              0.2222222222222222,
              "#7201a8"
             ],
             [
              0.3333333333333333,
              "#9c179e"
             ],
             [
              0.4444444444444444,
              "#bd3786"
             ],
             [
              0.5555555555555556,
              "#d8576b"
             ],
             [
              0.6666666666666666,
              "#ed7953"
             ],
             [
              0.7777777777777778,
              "#fb9f3a"
             ],
             [
              0.8888888888888888,
              "#fdca26"
             ],
             [
              1,
              "#f0f921"
             ]
            ],
            "type": "heatmapgl"
           }
          ],
          "histogram": [
           {
            "marker": {
             "pattern": {
              "fillmode": "overlay",
              "size": 10,
              "solidity": 0.2
             }
            },
            "type": "histogram"
           }
          ],
          "histogram2d": [
           {
            "colorbar": {
             "outlinewidth": 0,
             "ticks": ""
            },
            "colorscale": [
             [
              0,
              "#0d0887"
             ],
             [
              0.1111111111111111,
              "#46039f"
             ],
             [
              0.2222222222222222,
              "#7201a8"
             ],
             [
              0.3333333333333333,
              "#9c179e"
             ],
             [
              0.4444444444444444,
              "#bd3786"
             ],
             [
              0.5555555555555556,
              "#d8576b"
             ],
             [
              0.6666666666666666,
              "#ed7953"
             ],
             [
              0.7777777777777778,
              "#fb9f3a"
             ],
             [
              0.8888888888888888,
              "#fdca26"
             ],
             [
              1,
              "#f0f921"
             ]
            ],
            "type": "histogram2d"
           }
          ],
          "histogram2dcontour": [
           {
            "colorbar": {
             "outlinewidth": 0,
             "ticks": ""
            },
            "colorscale": [
             [
              0,
              "#0d0887"
             ],
             [
              0.1111111111111111,
              "#46039f"
             ],
             [
              0.2222222222222222,
              "#7201a8"
             ],
             [
              0.3333333333333333,
              "#9c179e"
             ],
             [
              0.4444444444444444,
              "#bd3786"
             ],
             [
              0.5555555555555556,
              "#d8576b"
             ],
             [
              0.6666666666666666,
              "#ed7953"
             ],
             [
              0.7777777777777778,
              "#fb9f3a"
             ],
             [
              0.8888888888888888,
              "#fdca26"
             ],
             [
              1,
              "#f0f921"
             ]
            ],
            "type": "histogram2dcontour"
           }
          ],
          "mesh3d": [
           {
            "colorbar": {
             "outlinewidth": 0,
             "ticks": ""
            },
            "type": "mesh3d"
           }
          ],
          "parcoords": [
           {
            "line": {
             "colorbar": {
              "outlinewidth": 0,
              "ticks": ""
             }
            },
            "type": "parcoords"
           }
          ],
          "pie": [
           {
            "automargin": true,
            "type": "pie"
           }
          ],
          "scatter": [
           {
            "fillpattern": {
             "fillmode": "overlay",
             "size": 10,
             "solidity": 0.2
            },
            "type": "scatter"
           }
          ],
          "scatter3d": [
           {
            "line": {
             "colorbar": {
              "outlinewidth": 0,
              "ticks": ""
             }
            },
            "marker": {
             "colorbar": {
              "outlinewidth": 0,
              "ticks": ""
             }
            },
            "type": "scatter3d"
           }
          ],
          "scattercarpet": [
           {
            "marker": {
             "colorbar": {
              "outlinewidth": 0,
              "ticks": ""
             }
            },
            "type": "scattercarpet"
           }
          ],
          "scattergeo": [
           {
            "marker": {
             "colorbar": {
              "outlinewidth": 0,
              "ticks": ""
             }
            },
            "type": "scattergeo"
           }
          ],
          "scattergl": [
           {
            "marker": {
             "colorbar": {
              "outlinewidth": 0,
              "ticks": ""
             }
            },
            "type": "scattergl"
           }
          ],
          "scattermapbox": [
           {
            "marker": {
             "colorbar": {
              "outlinewidth": 0,
              "ticks": ""
             }
            },
            "type": "scattermapbox"
           }
          ],
          "scatterpolar": [
           {
            "marker": {
             "colorbar": {
              "outlinewidth": 0,
              "ticks": ""
             }
            },
            "type": "scatterpolar"
           }
          ],
          "scatterpolargl": [
           {
            "marker": {
             "colorbar": {
              "outlinewidth": 0,
              "ticks": ""
             }
            },
            "type": "scatterpolargl"
           }
          ],
          "scatterternary": [
           {
            "marker": {
             "colorbar": {
              "outlinewidth": 0,
              "ticks": ""
             }
            },
            "type": "scatterternary"
           }
          ],
          "surface": [
           {
            "colorbar": {
             "outlinewidth": 0,
             "ticks": ""
            },
            "colorscale": [
             [
              0,
              "#0d0887"
             ],
             [
              0.1111111111111111,
              "#46039f"
             ],
             [
              0.2222222222222222,
              "#7201a8"
             ],
             [
              0.3333333333333333,
              "#9c179e"
             ],
             [
              0.4444444444444444,
              "#bd3786"
             ],
             [
              0.5555555555555556,
              "#d8576b"
             ],
             [
              0.6666666666666666,
              "#ed7953"
             ],
             [
              0.7777777777777778,
              "#fb9f3a"
             ],
             [
              0.8888888888888888,
              "#fdca26"
             ],
             [
              1,
              "#f0f921"
             ]
            ],
            "type": "surface"
           }
          ],
          "table": [
           {
            "cells": {
             "fill": {
              "color": "#EBF0F8"
             },
             "line": {
              "color": "white"
             }
            },
            "header": {
             "fill": {
              "color": "#C8D4E3"
             },
             "line": {
              "color": "white"
             }
            },
            "type": "table"
           }
          ]
         },
         "layout": {
          "annotationdefaults": {
           "arrowcolor": "#2a3f5f",
           "arrowhead": 0,
           "arrowwidth": 1
          },
          "autotypenumbers": "strict",
          "coloraxis": {
           "colorbar": {
            "outlinewidth": 0,
            "ticks": ""
           }
          },
          "colorscale": {
           "diverging": [
            [
             0,
             "#8e0152"
            ],
            [
             0.1,
             "#c51b7d"
            ],
            [
             0.2,
             "#de77ae"
            ],
            [
             0.3,
             "#f1b6da"
            ],
            [
             0.4,
             "#fde0ef"
            ],
            [
             0.5,
             "#f7f7f7"
            ],
            [
             0.6,
             "#e6f5d0"
            ],
            [
             0.7,
             "#b8e186"
            ],
            [
             0.8,
             "#7fbc41"
            ],
            [
             0.9,
             "#4d9221"
            ],
            [
             1,
             "#276419"
            ]
           ],
           "sequential": [
            [
             0,
             "#0d0887"
            ],
            [
             0.1111111111111111,
             "#46039f"
            ],
            [
             0.2222222222222222,
             "#7201a8"
            ],
            [
             0.3333333333333333,
             "#9c179e"
            ],
            [
             0.4444444444444444,
             "#bd3786"
            ],
            [
             0.5555555555555556,
             "#d8576b"
            ],
            [
             0.6666666666666666,
             "#ed7953"
            ],
            [
             0.7777777777777778,
             "#fb9f3a"
            ],
            [
             0.8888888888888888,
             "#fdca26"
            ],
            [
             1,
             "#f0f921"
            ]
           ],
           "sequentialminus": [
            [
             0,
             "#0d0887"
            ],
            [
             0.1111111111111111,
             "#46039f"
            ],
            [
             0.2222222222222222,
             "#7201a8"
            ],
            [
             0.3333333333333333,
             "#9c179e"
            ],
            [
             0.4444444444444444,
             "#bd3786"
            ],
            [
             0.5555555555555556,
             "#d8576b"
            ],
            [
             0.6666666666666666,
             "#ed7953"
            ],
            [
             0.7777777777777778,
             "#fb9f3a"
            ],
            [
             0.8888888888888888,
             "#fdca26"
            ],
            [
             1,
             "#f0f921"
            ]
           ]
          },
          "colorway": [
           "#636efa",
           "#EF553B",
           "#00cc96",
           "#ab63fa",
           "#FFA15A",
           "#19d3f3",
           "#FF6692",
           "#B6E880",
           "#FF97FF",
           "#FECB52"
          ],
          "font": {
           "color": "#2a3f5f"
          },
          "geo": {
           "bgcolor": "white",
           "lakecolor": "white",
           "landcolor": "#E5ECF6",
           "showlakes": true,
           "showland": true,
           "subunitcolor": "white"
          },
          "hoverlabel": {
           "align": "left"
          },
          "hovermode": "closest",
          "mapbox": {
           "style": "light"
          },
          "paper_bgcolor": "white",
          "plot_bgcolor": "#E5ECF6",
          "polar": {
           "angularaxis": {
            "gridcolor": "white",
            "linecolor": "white",
            "ticks": ""
           },
           "bgcolor": "#E5ECF6",
           "radialaxis": {
            "gridcolor": "white",
            "linecolor": "white",
            "ticks": ""
           }
          },
          "scene": {
           "xaxis": {
            "backgroundcolor": "#E5ECF6",
            "gridcolor": "white",
            "gridwidth": 2,
            "linecolor": "white",
            "showbackground": true,
            "ticks": "",
            "zerolinecolor": "white"
           },
           "yaxis": {
            "backgroundcolor": "#E5ECF6",
            "gridcolor": "white",
            "gridwidth": 2,
            "linecolor": "white",
            "showbackground": true,
            "ticks": "",
            "zerolinecolor": "white"
           },
           "zaxis": {
            "backgroundcolor": "#E5ECF6",
            "gridcolor": "white",
            "gridwidth": 2,
            "linecolor": "white",
            "showbackground": true,
            "ticks": "",
            "zerolinecolor": "white"
           }
          },
          "shapedefaults": {
           "line": {
            "color": "#2a3f5f"
           }
          },
          "ternary": {
           "aaxis": {
            "gridcolor": "white",
            "linecolor": "white",
            "ticks": ""
           },
           "baxis": {
            "gridcolor": "white",
            "linecolor": "white",
            "ticks": ""
           },
           "bgcolor": "#E5ECF6",
           "caxis": {
            "gridcolor": "white",
            "linecolor": "white",
            "ticks": ""
           }
          },
          "title": {
           "x": 0.05
          },
          "xaxis": {
           "automargin": true,
           "gridcolor": "white",
           "linecolor": "white",
           "ticks": "",
           "title": {
            "standoff": 15
           },
           "zerolinecolor": "white",
           "zerolinewidth": 2
          },
          "yaxis": {
           "automargin": true,
           "gridcolor": "white",
           "linecolor": "white",
           "ticks": "",
           "title": {
            "standoff": 15
           },
           "zerolinecolor": "white",
           "zerolinewidth": 2
          }
         }
        },
        "title": {
         "font": {
          "color": "#4D5663"
         },
         "text": "Total suicide"
        },
        "xaxis": {
         "gridcolor": "#E1E5ED",
         "showgrid": true,
         "tickfont": {
          "color": "#4D5663"
         },
         "title": {
          "font": {
           "color": "#4D5663"
          },
          "text": "Year"
         },
         "zerolinecolor": "#E1E5ED"
        },
        "yaxis": {
         "gridcolor": "#E1E5ED",
         "showgrid": true,
         "tickfont": {
          "color": "#4D5663"
         },
         "title": {
          "font": {
           "color": "#4D5663"
          },
          "text": "Total"
         },
         "zerolinecolor": "#E1E5ED"
        }
       }
      },
      "text/html": [
       "<div>                            <div id=\"3b9256aa-67e5-47fa-b7c1-b69111f49e56\" class=\"plotly-graph-div\" style=\"height:525px; width:100%;\"></div>            <script type=\"text/javascript\">                require([\"plotly\"], function(Plotly) {                    window.PLOTLYENV=window.PLOTLYENV || {};\n",
       "                    window.PLOTLYENV.BASE_URL='https://plot.ly';                                    if (document.getElementById(\"3b9256aa-67e5-47fa-b7c1-b69111f49e56\")) {                    Plotly.newPlot(                        \"3b9256aa-67e5-47fa-b7c1-b69111f49e56\",                        [{\"line\":{\"color\":\"rgba(255, 153, 51, 1.0)\",\"dash\":\"solid\",\"shape\":\"linear\",\"width\":1.3},\"mode\":\"lines\",\"name\":\"Total\",\"text\":\"\",\"x\":[2018,2017,2016,2015,2014,2013,2012,2011,2010,2009,2008,2007,2006,2005,2004,2003,2002,2001,2000,1999,1998,1997,1996,1995,1994,1993,1992,1991,1990,1989,1988,1987,1986,1985,1984,1983,1982,1981,1980],\"y\":[3539,3679,3569,3602,3910,3870,3539,3180,3158,3429,3457,3263,3246,3399,3507,3478,3371,3189,3393,3218,3261,3373,3320,3157,3171,3037,2786,2916,2939,2987,2960,2804,2755,2514,2493,2181,1851,1718,1652],\"type\":\"scatter\"}],                        {\"legend\":{\"bgcolor\":\"#F5F6F9\",\"font\":{\"color\":\"#4D5663\"}},\"paper_bgcolor\":\"#F5F6F9\",\"plot_bgcolor\":\"#F5F6F9\",\"template\":{\"data\":{\"barpolar\":[{\"marker\":{\"line\":{\"color\":\"#E5ECF6\",\"width\":0.5},\"pattern\":{\"fillmode\":\"overlay\",\"size\":10,\"solidity\":0.2}},\"type\":\"barpolar\"}],\"bar\":[{\"error_x\":{\"color\":\"#2a3f5f\"},\"error_y\":{\"color\":\"#2a3f5f\"},\"marker\":{\"line\":{\"color\":\"#E5ECF6\",\"width\":0.5},\"pattern\":{\"fillmode\":\"overlay\",\"size\":10,\"solidity\":0.2}},\"type\":\"bar\"}],\"carpet\":[{\"aaxis\":{\"endlinecolor\":\"#2a3f5f\",\"gridcolor\":\"white\",\"linecolor\":\"white\",\"minorgridcolor\":\"white\",\"startlinecolor\":\"#2a3f5f\"},\"baxis\":{\"endlinecolor\":\"#2a3f5f\",\"gridcolor\":\"white\",\"linecolor\":\"white\",\"minorgridcolor\":\"white\",\"startlinecolor\":\"#2a3f5f\"},\"type\":\"carpet\"}],\"choropleth\":[{\"colorbar\":{\"outlinewidth\":0,\"ticks\":\"\"},\"type\":\"choropleth\"}],\"contourcarpet\":[{\"colorbar\":{\"outlinewidth\":0,\"ticks\":\"\"},\"type\":\"contourcarpet\"}],\"contour\":[{\"colorbar\":{\"outlinewidth\":0,\"ticks\":\"\"},\"colorscale\":[[0.0,\"#0d0887\"],[0.1111111111111111,\"#46039f\"],[0.2222222222222222,\"#7201a8\"],[0.3333333333333333,\"#9c179e\"],[0.4444444444444444,\"#bd3786\"],[0.5555555555555556,\"#d8576b\"],[0.6666666666666666,\"#ed7953\"],[0.7777777777777778,\"#fb9f3a\"],[0.8888888888888888,\"#fdca26\"],[1.0,\"#f0f921\"]],\"type\":\"contour\"}],\"heatmapgl\":[{\"colorbar\":{\"outlinewidth\":0,\"ticks\":\"\"},\"colorscale\":[[0.0,\"#0d0887\"],[0.1111111111111111,\"#46039f\"],[0.2222222222222222,\"#7201a8\"],[0.3333333333333333,\"#9c179e\"],[0.4444444444444444,\"#bd3786\"],[0.5555555555555556,\"#d8576b\"],[0.6666666666666666,\"#ed7953\"],[0.7777777777777778,\"#fb9f3a\"],[0.8888888888888888,\"#fdca26\"],[1.0,\"#f0f921\"]],\"type\":\"heatmapgl\"}],\"heatmap\":[{\"colorbar\":{\"outlinewidth\":0,\"ticks\":\"\"},\"colorscale\":[[0.0,\"#0d0887\"],[0.1111111111111111,\"#46039f\"],[0.2222222222222222,\"#7201a8\"],[0.3333333333333333,\"#9c179e\"],[0.4444444444444444,\"#bd3786\"],[0.5555555555555556,\"#d8576b\"],[0.6666666666666666,\"#ed7953\"],[0.7777777777777778,\"#fb9f3a\"],[0.8888888888888888,\"#fdca26\"],[1.0,\"#f0f921\"]],\"type\":\"heatmap\"}],\"histogram2dcontour\":[{\"colorbar\":{\"outlinewidth\":0,\"ticks\":\"\"},\"colorscale\":[[0.0,\"#0d0887\"],[0.1111111111111111,\"#46039f\"],[0.2222222222222222,\"#7201a8\"],[0.3333333333333333,\"#9c179e\"],[0.4444444444444444,\"#bd3786\"],[0.5555555555555556,\"#d8576b\"],[0.6666666666666666,\"#ed7953\"],[0.7777777777777778,\"#fb9f3a\"],[0.8888888888888888,\"#fdca26\"],[1.0,\"#f0f921\"]],\"type\":\"histogram2dcontour\"}],\"histogram2d\":[{\"colorbar\":{\"outlinewidth\":0,\"ticks\":\"\"},\"colorscale\":[[0.0,\"#0d0887\"],[0.1111111111111111,\"#46039f\"],[0.2222222222222222,\"#7201a8\"],[0.3333333333333333,\"#9c179e\"],[0.4444444444444444,\"#bd3786\"],[0.5555555555555556,\"#d8576b\"],[0.6666666666666666,\"#ed7953\"],[0.7777777777777778,\"#fb9f3a\"],[0.8888888888888888,\"#fdca26\"],[1.0,\"#f0f921\"]],\"type\":\"histogram2d\"}],\"histogram\":[{\"marker\":{\"pattern\":{\"fillmode\":\"overlay\",\"size\":10,\"solidity\":0.2}},\"type\":\"histogram\"}],\"mesh3d\":[{\"colorbar\":{\"outlinewidth\":0,\"ticks\":\"\"},\"type\":\"mesh3d\"}],\"parcoords\":[{\"line\":{\"colorbar\":{\"outlinewidth\":0,\"ticks\":\"\"}},\"type\":\"parcoords\"}],\"pie\":[{\"automargin\":true,\"type\":\"pie\"}],\"scatter3d\":[{\"line\":{\"colorbar\":{\"outlinewidth\":0,\"ticks\":\"\"}},\"marker\":{\"colorbar\":{\"outlinewidth\":0,\"ticks\":\"\"}},\"type\":\"scatter3d\"}],\"scattercarpet\":[{\"marker\":{\"colorbar\":{\"outlinewidth\":0,\"ticks\":\"\"}},\"type\":\"scattercarpet\"}],\"scattergeo\":[{\"marker\":{\"colorbar\":{\"outlinewidth\":0,\"ticks\":\"\"}},\"type\":\"scattergeo\"}],\"scattergl\":[{\"marker\":{\"colorbar\":{\"outlinewidth\":0,\"ticks\":\"\"}},\"type\":\"scattergl\"}],\"scattermapbox\":[{\"marker\":{\"colorbar\":{\"outlinewidth\":0,\"ticks\":\"\"}},\"type\":\"scattermapbox\"}],\"scatterpolargl\":[{\"marker\":{\"colorbar\":{\"outlinewidth\":0,\"ticks\":\"\"}},\"type\":\"scatterpolargl\"}],\"scatterpolar\":[{\"marker\":{\"colorbar\":{\"outlinewidth\":0,\"ticks\":\"\"}},\"type\":\"scatterpolar\"}],\"scatter\":[{\"fillpattern\":{\"fillmode\":\"overlay\",\"size\":10,\"solidity\":0.2},\"type\":\"scatter\"}],\"scatterternary\":[{\"marker\":{\"colorbar\":{\"outlinewidth\":0,\"ticks\":\"\"}},\"type\":\"scatterternary\"}],\"surface\":[{\"colorbar\":{\"outlinewidth\":0,\"ticks\":\"\"},\"colorscale\":[[0.0,\"#0d0887\"],[0.1111111111111111,\"#46039f\"],[0.2222222222222222,\"#7201a8\"],[0.3333333333333333,\"#9c179e\"],[0.4444444444444444,\"#bd3786\"],[0.5555555555555556,\"#d8576b\"],[0.6666666666666666,\"#ed7953\"],[0.7777777777777778,\"#fb9f3a\"],[0.8888888888888888,\"#fdca26\"],[1.0,\"#f0f921\"]],\"type\":\"surface\"}],\"table\":[{\"cells\":{\"fill\":{\"color\":\"#EBF0F8\"},\"line\":{\"color\":\"white\"}},\"header\":{\"fill\":{\"color\":\"#C8D4E3\"},\"line\":{\"color\":\"white\"}},\"type\":\"table\"}]},\"layout\":{\"annotationdefaults\":{\"arrowcolor\":\"#2a3f5f\",\"arrowhead\":0,\"arrowwidth\":1},\"autotypenumbers\":\"strict\",\"coloraxis\":{\"colorbar\":{\"outlinewidth\":0,\"ticks\":\"\"}},\"colorscale\":{\"diverging\":[[0,\"#8e0152\"],[0.1,\"#c51b7d\"],[0.2,\"#de77ae\"],[0.3,\"#f1b6da\"],[0.4,\"#fde0ef\"],[0.5,\"#f7f7f7\"],[0.6,\"#e6f5d0\"],[0.7,\"#b8e186\"],[0.8,\"#7fbc41\"],[0.9,\"#4d9221\"],[1,\"#276419\"]],\"sequential\":[[0.0,\"#0d0887\"],[0.1111111111111111,\"#46039f\"],[0.2222222222222222,\"#7201a8\"],[0.3333333333333333,\"#9c179e\"],[0.4444444444444444,\"#bd3786\"],[0.5555555555555556,\"#d8576b\"],[0.6666666666666666,\"#ed7953\"],[0.7777777777777778,\"#fb9f3a\"],[0.8888888888888888,\"#fdca26\"],[1.0,\"#f0f921\"]],\"sequentialminus\":[[0.0,\"#0d0887\"],[0.1111111111111111,\"#46039f\"],[0.2222222222222222,\"#7201a8\"],[0.3333333333333333,\"#9c179e\"],[0.4444444444444444,\"#bd3786\"],[0.5555555555555556,\"#d8576b\"],[0.6666666666666666,\"#ed7953\"],[0.7777777777777778,\"#fb9f3a\"],[0.8888888888888888,\"#fdca26\"],[1.0,\"#f0f921\"]]},\"colorway\":[\"#636efa\",\"#EF553B\",\"#00cc96\",\"#ab63fa\",\"#FFA15A\",\"#19d3f3\",\"#FF6692\",\"#B6E880\",\"#FF97FF\",\"#FECB52\"],\"font\":{\"color\":\"#2a3f5f\"},\"geo\":{\"bgcolor\":\"white\",\"lakecolor\":\"white\",\"landcolor\":\"#E5ECF6\",\"showlakes\":true,\"showland\":true,\"subunitcolor\":\"white\"},\"hoverlabel\":{\"align\":\"left\"},\"hovermode\":\"closest\",\"mapbox\":{\"style\":\"light\"},\"paper_bgcolor\":\"white\",\"plot_bgcolor\":\"#E5ECF6\",\"polar\":{\"angularaxis\":{\"gridcolor\":\"white\",\"linecolor\":\"white\",\"ticks\":\"\"},\"bgcolor\":\"#E5ECF6\",\"radialaxis\":{\"gridcolor\":\"white\",\"linecolor\":\"white\",\"ticks\":\"\"}},\"scene\":{\"xaxis\":{\"backgroundcolor\":\"#E5ECF6\",\"gridcolor\":\"white\",\"gridwidth\":2,\"linecolor\":\"white\",\"showbackground\":true,\"ticks\":\"\",\"zerolinecolor\":\"white\"},\"yaxis\":{\"backgroundcolor\":\"#E5ECF6\",\"gridcolor\":\"white\",\"gridwidth\":2,\"linecolor\":\"white\",\"showbackground\":true,\"ticks\":\"\",\"zerolinecolor\":\"white\"},\"zaxis\":{\"backgroundcolor\":\"#E5ECF6\",\"gridcolor\":\"white\",\"gridwidth\":2,\"linecolor\":\"white\",\"showbackground\":true,\"ticks\":\"\",\"zerolinecolor\":\"white\"}},\"shapedefaults\":{\"line\":{\"color\":\"#2a3f5f\"}},\"ternary\":{\"aaxis\":{\"gridcolor\":\"white\",\"linecolor\":\"white\",\"ticks\":\"\"},\"baxis\":{\"gridcolor\":\"white\",\"linecolor\":\"white\",\"ticks\":\"\"},\"bgcolor\":\"#E5ECF6\",\"caxis\":{\"gridcolor\":\"white\",\"linecolor\":\"white\",\"ticks\":\"\"}},\"title\":{\"x\":0.05},\"xaxis\":{\"automargin\":true,\"gridcolor\":\"white\",\"linecolor\":\"white\",\"ticks\":\"\",\"title\":{\"standoff\":15},\"zerolinecolor\":\"white\",\"zerolinewidth\":2},\"yaxis\":{\"automargin\":true,\"gridcolor\":\"white\",\"linecolor\":\"white\",\"ticks\":\"\",\"title\":{\"standoff\":15},\"zerolinecolor\":\"white\",\"zerolinewidth\":2}}},\"title\":{\"font\":{\"color\":\"#4D5663\"},\"text\":\"Total suicide\"},\"xaxis\":{\"gridcolor\":\"#E1E5ED\",\"showgrid\":true,\"tickfont\":{\"color\":\"#4D5663\"},\"title\":{\"font\":{\"color\":\"#4D5663\"},\"text\":\"Year\"},\"zerolinecolor\":\"#E1E5ED\"},\"yaxis\":{\"gridcolor\":\"#E1E5ED\",\"showgrid\":true,\"tickfont\":{\"color\":\"#4D5663\"},\"title\":{\"font\":{\"color\":\"#4D5663\"},\"text\":\"Total\"},\"zerolinecolor\":\"#E1E5ED\"}},                        {\"showLink\": true, \"linkText\": \"Export to plot.ly\", \"plotlyServerURL\": \"https://plot.ly\", \"responsive\": true}                    ).then(function(){\n",
       "                            \n",
       "var gd = document.getElementById('3b9256aa-67e5-47fa-b7c1-b69111f49e56');\n",
       "var x = new MutationObserver(function (mutations, observer) {{\n",
       "        var display = window.getComputedStyle(gd).display;\n",
       "        if (!display || display === 'none') {{\n",
       "            console.log([gd, 'removed!']);\n",
       "            Plotly.purge(gd);\n",
       "            observer.disconnect();\n",
       "        }}\n",
       "}});\n",
       "\n",
       "// Listen for the removal of the full notebook cells\n",
       "var notebookContainer = gd.closest('#notebook-container');\n",
       "if (notebookContainer) {{\n",
       "    x.observe(notebookContainer, {childList: true});\n",
       "}}\n",
       "\n",
       "// Listen for the clearing of the current output cell\n",
       "var outputEl = gd.closest('.output');\n",
       "if (outputEl) {{\n",
       "    x.observe(outputEl, {childList: true});\n",
       "}}\n",
       "\n",
       "                        })                };                });            </script>        </div>"
      ]
     },
     "metadata": {},
     "output_type": "display_data"
    }
   ],
   "source": [
    "# Graph total suicide by year\n",
    "deaths_cause_tot_098.iplot(kind='line',\n",
    "                           x='Periodo',\n",
    "                           y='Total',\n",
    "                           xTitle='Year',\n",
    "                           yTitle='Total',\n",
    "                           title='Total suicide')\n"
   ]
  },
  {
   "cell_type": "code",
   "execution_count": 36,
   "metadata": {},
   "outputs": [
    {
     "data": {
      "application/vnd.plotly.v1+json": {
       "config": {
        "plotlyServerURL": "https://plot.ly"
       },
       "data": [
        {
         "customdata": [
          [
           "Hombres"
          ],
          [
           "Hombres"
          ],
          [
           "Hombres"
          ],
          [
           "Hombres"
          ],
          [
           "Hombres"
          ],
          [
           "Hombres"
          ],
          [
           "Hombres"
          ],
          [
           "Hombres"
          ],
          [
           "Hombres"
          ],
          [
           "Hombres"
          ],
          [
           "Hombres"
          ],
          [
           "Hombres"
          ],
          [
           "Hombres"
          ],
          [
           "Hombres"
          ],
          [
           "Hombres"
          ],
          [
           "Hombres"
          ],
          [
           "Hombres"
          ],
          [
           "Hombres"
          ],
          [
           "Hombres"
          ],
          [
           "Hombres"
          ],
          [
           "Hombres"
          ],
          [
           "Hombres"
          ],
          [
           "Hombres"
          ],
          [
           "Hombres"
          ],
          [
           "Hombres"
          ],
          [
           "Hombres"
          ],
          [
           "Hombres"
          ],
          [
           "Hombres"
          ],
          [
           "Hombres"
          ],
          [
           "Hombres"
          ],
          [
           "Hombres"
          ],
          [
           "Hombres"
          ],
          [
           "Hombres"
          ],
          [
           "Hombres"
          ],
          [
           "Hombres"
          ],
          [
           "Hombres"
          ],
          [
           "Hombres"
          ],
          [
           "Hombres"
          ],
          [
           "Hombres"
          ],
          [
           "Hombres"
          ],
          [
           "Hombres"
          ],
          [
           "Hombres"
          ],
          [
           "Hombres"
          ],
          [
           "Hombres"
          ],
          [
           "Hombres"
          ],
          [
           "Hombres"
          ],
          [
           "Hombres"
          ],
          [
           "Hombres"
          ],
          [
           "Hombres"
          ],
          [
           "Hombres"
          ],
          [
           "Hombres"
          ],
          [
           "Hombres"
          ],
          [
           "Hombres"
          ],
          [
           "Hombres"
          ],
          [
           "Hombres"
          ],
          [
           "Hombres"
          ],
          [
           "Hombres"
          ],
          [
           "Hombres"
          ],
          [
           "Hombres"
          ],
          [
           "Hombres"
          ],
          [
           "Hombres"
          ],
          [
           "Hombres"
          ],
          [
           "Hombres"
          ],
          [
           "Hombres"
          ],
          [
           "Hombres"
          ],
          [
           "Hombres"
          ],
          [
           "Hombres"
          ],
          [
           "Hombres"
          ],
          [
           "Hombres"
          ],
          [
           "Hombres"
          ],
          [
           "Hombres"
          ],
          [
           "Hombres"
          ],
          [
           "Hombres"
          ],
          [
           "Hombres"
          ],
          [
           "Hombres"
          ],
          [
           "Hombres"
          ],
          [
           "Hombres"
          ],
          [
           "Hombres"
          ],
          [
           "Hombres"
          ],
          [
           "Hombres"
          ],
          [
           "Hombres"
          ],
          [
           "Hombres"
          ],
          [
           "Hombres"
          ],
          [
           "Hombres"
          ],
          [
           "Hombres"
          ],
          [
           "Hombres"
          ],
          [
           "Hombres"
          ],
          [
           "Hombres"
          ],
          [
           "Hombres"
          ],
          [
           "Hombres"
          ],
          [
           "Hombres"
          ],
          [
           "Hombres"
          ],
          [
           "Hombres"
          ],
          [
           "Hombres"
          ],
          [
           "Hombres"
          ],
          [
           "Hombres"
          ],
          [
           "Hombres"
          ],
          [
           "Hombres"
          ],
          [
           "Hombres"
          ],
          [
           "Hombres"
          ],
          [
           "Hombres"
          ],
          [
           "Hombres"
          ],
          [
           "Hombres"
          ],
          [
           "Hombres"
          ],
          [
           "Hombres"
          ],
          [
           "Hombres"
          ],
          [
           "Hombres"
          ],
          [
           "Hombres"
          ],
          [
           "Hombres"
          ],
          [
           "Hombres"
          ],
          [
           "Hombres"
          ],
          [
           "Hombres"
          ],
          [
           "Hombres"
          ],
          [
           "Hombres"
          ],
          [
           "Hombres"
          ],
          [
           "Hombres"
          ],
          [
           "Hombres"
          ],
          [
           "Hombres"
          ],
          [
           "Hombres"
          ],
          [
           "Hombres"
          ],
          [
           "Hombres"
          ],
          [
           "Hombres"
          ],
          [
           "Hombres"
          ],
          [
           "Hombres"
          ],
          [
           "Hombres"
          ],
          [
           "Hombres"
          ],
          [
           "Hombres"
          ],
          [
           "Hombres"
          ],
          [
           "Hombres"
          ],
          [
           "Hombres"
          ],
          [
           "Hombres"
          ],
          [
           "Hombres"
          ],
          [
           "Hombres"
          ],
          [
           "Hombres"
          ],
          [
           "Hombres"
          ],
          [
           "Hombres"
          ],
          [
           "Hombres"
          ],
          [
           "Hombres"
          ],
          [
           "Hombres"
          ],
          [
           "Hombres"
          ],
          [
           "Hombres"
          ],
          [
           "Hombres"
          ],
          [
           "Hombres"
          ],
          [
           "Hombres"
          ],
          [
           "Hombres"
          ],
          [
           "Hombres"
          ],
          [
           "Hombres"
          ],
          [
           "Hombres"
          ],
          [
           "Hombres"
          ],
          [
           "Hombres"
          ],
          [
           "Hombres"
          ],
          [
           "Hombres"
          ],
          [
           "Hombres"
          ],
          [
           "Hombres"
          ],
          [
           "Hombres"
          ],
          [
           "Hombres"
          ],
          [
           "Hombres"
          ],
          [
           "Hombres"
          ],
          [
           "Hombres"
          ],
          [
           "Hombres"
          ],
          [
           "Hombres"
          ],
          [
           "Hombres"
          ],
          [
           "Hombres"
          ],
          [
           "Hombres"
          ],
          [
           "Hombres"
          ],
          [
           "Hombres"
          ],
          [
           "Hombres"
          ],
          [
           "Hombres"
          ],
          [
           "Hombres"
          ],
          [
           "Hombres"
          ],
          [
           "Hombres"
          ],
          [
           "Hombres"
          ],
          [
           "Hombres"
          ],
          [
           "Hombres"
          ],
          [
           "Hombres"
          ],
          [
           "Hombres"
          ],
          [
           "Hombres"
          ],
          [
           "Hombres"
          ],
          [
           "Hombres"
          ],
          [
           "Hombres"
          ],
          [
           "Hombres"
          ],
          [
           "Hombres"
          ],
          [
           "Hombres"
          ],
          [
           "Hombres"
          ],
          [
           "Hombres"
          ],
          [
           "Hombres"
          ],
          [
           "Hombres"
          ],
          [
           "Hombres"
          ],
          [
           "Hombres"
          ],
          [
           "Hombres"
          ],
          [
           "Hombres"
          ],
          [
           "Hombres"
          ],
          [
           "Hombres"
          ],
          [
           "Hombres"
          ],
          [
           "Hombres"
          ],
          [
           "Hombres"
          ],
          [
           "Hombres"
          ],
          [
           "Hombres"
          ],
          [
           "Hombres"
          ],
          [
           "Hombres"
          ],
          [
           "Hombres"
          ],
          [
           "Hombres"
          ],
          [
           "Hombres"
          ],
          [
           "Hombres"
          ],
          [
           "Hombres"
          ],
          [
           "Hombres"
          ],
          [
           "Hombres"
          ],
          [
           "Hombres"
          ],
          [
           "Hombres"
          ],
          [
           "Hombres"
          ],
          [
           "Hombres"
          ],
          [
           "Hombres"
          ],
          [
           "Hombres"
          ],
          [
           "Hombres"
          ],
          [
           "Hombres"
          ],
          [
           "Hombres"
          ],
          [
           "Hombres"
          ],
          [
           "Hombres"
          ],
          [
           "Hombres"
          ],
          [
           "Hombres"
          ],
          [
           "Hombres"
          ],
          [
           "Hombres"
          ],
          [
           "Hombres"
          ],
          [
           "Hombres"
          ],
          [
           "Hombres"
          ],
          [
           "Hombres"
          ],
          [
           "Hombres"
          ],
          [
           "Hombres"
          ],
          [
           "Hombres"
          ],
          [
           "Hombres"
          ],
          [
           "Hombres"
          ],
          [
           "Hombres"
          ],
          [
           "Hombres"
          ],
          [
           "Hombres"
          ],
          [
           "Hombres"
          ],
          [
           "Hombres"
          ],
          [
           "Hombres"
          ],
          [
           "Hombres"
          ],
          [
           "Hombres"
          ],
          [
           "Hombres"
          ],
          [
           "Hombres"
          ],
          [
           "Hombres"
          ],
          [
           "Hombres"
          ],
          [
           "Hombres"
          ],
          [
           "Hombres"
          ],
          [
           "Hombres"
          ],
          [
           "Hombres"
          ],
          [
           "Hombres"
          ],
          [
           "Hombres"
          ],
          [
           "Hombres"
          ],
          [
           "Hombres"
          ],
          [
           "Hombres"
          ],
          [
           "Hombres"
          ],
          [
           "Hombres"
          ],
          [
           "Hombres"
          ],
          [
           "Hombres"
          ],
          [
           "Hombres"
          ],
          [
           "Hombres"
          ],
          [
           "Hombres"
          ],
          [
           "Hombres"
          ],
          [
           "Hombres"
          ],
          [
           "Hombres"
          ],
          [
           "Hombres"
          ],
          [
           "Hombres"
          ],
          [
           "Hombres"
          ],
          [
           "Hombres"
          ],
          [
           "Hombres"
          ],
          [
           "Hombres"
          ],
          [
           "Hombres"
          ],
          [
           "Hombres"
          ],
          [
           "Hombres"
          ],
          [
           "Hombres"
          ],
          [
           "Hombres"
          ],
          [
           "Hombres"
          ],
          [
           "Hombres"
          ],
          [
           "Hombres"
          ],
          [
           "Hombres"
          ],
          [
           "Hombres"
          ],
          [
           "Hombres"
          ],
          [
           "Hombres"
          ],
          [
           "Hombres"
          ],
          [
           "Hombres"
          ],
          [
           "Hombres"
          ],
          [
           "Hombres"
          ],
          [
           "Hombres"
          ],
          [
           "Hombres"
          ],
          [
           "Hombres"
          ],
          [
           "Hombres"
          ],
          [
           "Hombres"
          ],
          [
           "Hombres"
          ],
          [
           "Hombres"
          ],
          [
           "Hombres"
          ],
          [
           "Hombres"
          ],
          [
           "Hombres"
          ],
          [
           "Hombres"
          ],
          [
           "Hombres"
          ],
          [
           "Hombres"
          ],
          [
           "Hombres"
          ],
          [
           "Hombres"
          ],
          [
           "Hombres"
          ],
          [
           "Hombres"
          ],
          [
           "Hombres"
          ],
          [
           "Hombres"
          ],
          [
           "Hombres"
          ],
          [
           "Hombres"
          ],
          [
           "Hombres"
          ],
          [
           "Hombres"
          ],
          [
           "Hombres"
          ],
          [
           "Hombres"
          ],
          [
           "Hombres"
          ],
          [
           "Hombres"
          ],
          [
           "Hombres"
          ],
          [
           "Hombres"
          ],
          [
           "Hombres"
          ],
          [
           "Hombres"
          ],
          [
           "Hombres"
          ],
          [
           "Hombres"
          ],
          [
           "Hombres"
          ],
          [
           "Hombres"
          ],
          [
           "Hombres"
          ],
          [
           "Hombres"
          ],
          [
           "Hombres"
          ],
          [
           "Hombres"
          ],
          [
           "Hombres"
          ],
          [
           "Hombres"
          ],
          [
           "Hombres"
          ],
          [
           "Hombres"
          ],
          [
           "Hombres"
          ],
          [
           "Hombres"
          ],
          [
           "Hombres"
          ],
          [
           "Hombres"
          ],
          [
           "Hombres"
          ],
          [
           "Hombres"
          ],
          [
           "Hombres"
          ],
          [
           "Hombres"
          ],
          [
           "Hombres"
          ],
          [
           "Hombres"
          ],
          [
           "Hombres"
          ],
          [
           "Hombres"
          ],
          [
           "Hombres"
          ],
          [
           "Hombres"
          ],
          [
           "Hombres"
          ],
          [
           "Hombres"
          ],
          [
           "Hombres"
          ],
          [
           "Hombres"
          ],
          [
           "Hombres"
          ],
          [
           "Hombres"
          ],
          [
           "Hombres"
          ],
          [
           "Hombres"
          ],
          [
           "Hombres"
          ],
          [
           "Hombres"
          ],
          [
           "Hombres"
          ],
          [
           "Hombres"
          ],
          [
           "Hombres"
          ],
          [
           "Hombres"
          ],
          [
           "Hombres"
          ],
          [
           "Hombres"
          ],
          [
           "Hombres"
          ],
          [
           "Hombres"
          ],
          [
           "Hombres"
          ],
          [
           "Hombres"
          ],
          [
           "Hombres"
          ],
          [
           "Hombres"
          ],
          [
           "Hombres"
          ],
          [
           "Hombres"
          ],
          [
           "Hombres"
          ],
          [
           "Hombres"
          ],
          [
           "Hombres"
          ],
          [
           "Hombres"
          ],
          [
           "Hombres"
          ],
          [
           "Hombres"
          ],
          [
           "Hombres"
          ],
          [
           "Hombres"
          ],
          [
           "Hombres"
          ],
          [
           "Hombres"
          ],
          [
           "Hombres"
          ],
          [
           "Hombres"
          ],
          [
           "Hombres"
          ],
          [
           "Hombres"
          ],
          [
           "Hombres"
          ],
          [
           "Hombres"
          ],
          [
           "Hombres"
          ],
          [
           "Hombres"
          ],
          [
           "Hombres"
          ],
          [
           "Hombres"
          ],
          [
           "Hombres"
          ],
          [
           "Hombres"
          ],
          [
           "Hombres"
          ],
          [
           "Hombres"
          ],
          [
           "Hombres"
          ],
          [
           "Hombres"
          ],
          [
           "Hombres"
          ],
          [
           "Hombres"
          ],
          [
           "Hombres"
          ],
          [
           "Hombres"
          ],
          [
           "Hombres"
          ],
          [
           "Hombres"
          ],
          [
           "Hombres"
          ],
          [
           "Hombres"
          ],
          [
           "Hombres"
          ],
          [
           "Hombres"
          ],
          [
           "Hombres"
          ],
          [
           "Hombres"
          ],
          [
           "Hombres"
          ],
          [
           "Hombres"
          ],
          [
           "Hombres"
          ],
          [
           "Hombres"
          ],
          [
           "Hombres"
          ],
          [
           "Hombres"
          ],
          [
           "Hombres"
          ],
          [
           "Hombres"
          ],
          [
           "Hombres"
          ],
          [
           "Hombres"
          ],
          [
           "Hombres"
          ],
          [
           "Hombres"
          ],
          [
           "Hombres"
          ],
          [
           "Hombres"
          ],
          [
           "Hombres"
          ],
          [
           "Hombres"
          ],
          [
           "Hombres"
          ],
          [
           "Hombres"
          ],
          [
           "Hombres"
          ],
          [
           "Hombres"
          ],
          [
           "Hombres"
          ],
          [
           "Hombres"
          ],
          [
           "Hombres"
          ],
          [
           "Hombres"
          ],
          [
           "Hombres"
          ],
          [
           "Hombres"
          ],
          [
           "Hombres"
          ],
          [
           "Hombres"
          ],
          [
           "Hombres"
          ],
          [
           "Hombres"
          ],
          [
           "Hombres"
          ],
          [
           "Hombres"
          ],
          [
           "Hombres"
          ],
          [
           "Hombres"
          ],
          [
           "Hombres"
          ],
          [
           "Hombres"
          ],
          [
           "Hombres"
          ],
          [
           "Hombres"
          ],
          [
           "Hombres"
          ],
          [
           "Hombres"
          ],
          [
           "Hombres"
          ],
          [
           "Hombres"
          ],
          [
           "Hombres"
          ],
          [
           "Hombres"
          ],
          [
           "Hombres"
          ],
          [
           "Hombres"
          ],
          [
           "Hombres"
          ],
          [
           "Hombres"
          ],
          [
           "Hombres"
          ],
          [
           "Hombres"
          ],
          [
           "Hombres"
          ],
          [
           "Hombres"
          ],
          [
           "Hombres"
          ],
          [
           "Hombres"
          ],
          [
           "Hombres"
          ],
          [
           "Hombres"
          ],
          [
           "Hombres"
          ],
          [
           "Hombres"
          ],
          [
           "Hombres"
          ],
          [
           "Hombres"
          ],
          [
           "Hombres"
          ],
          [
           "Hombres"
          ],
          [
           "Hombres"
          ],
          [
           "Hombres"
          ],
          [
           "Hombres"
          ],
          [
           "Hombres"
          ],
          [
           "Hombres"
          ],
          [
           "Hombres"
          ],
          [
           "Hombres"
          ],
          [
           "Hombres"
          ],
          [
           "Hombres"
          ],
          [
           "Hombres"
          ],
          [
           "Hombres"
          ],
          [
           "Hombres"
          ],
          [
           "Hombres"
          ],
          [
           "Hombres"
          ],
          [
           "Hombres"
          ],
          [
           "Hombres"
          ],
          [
           "Hombres"
          ],
          [
           "Hombres"
          ],
          [
           "Hombres"
          ],
          [
           "Hombres"
          ],
          [
           "Hombres"
          ],
          [
           "Hombres"
          ],
          [
           "Hombres"
          ],
          [
           "Hombres"
          ],
          [
           "Hombres"
          ],
          [
           "Hombres"
          ],
          [
           "Hombres"
          ],
          [
           "Hombres"
          ],
          [
           "Hombres"
          ],
          [
           "Hombres"
          ],
          [
           "Hombres"
          ],
          [
           "Hombres"
          ],
          [
           "Hombres"
          ],
          [
           "Hombres"
          ],
          [
           "Hombres"
          ],
          [
           "Hombres"
          ],
          [
           "Hombres"
          ],
          [
           "Hombres"
          ],
          [
           "Hombres"
          ],
          [
           "Hombres"
          ],
          [
           "Hombres"
          ],
          [
           "Hombres"
          ],
          [
           "Hombres"
          ],
          [
           "Hombres"
          ],
          [
           "Hombres"
          ],
          [
           "Hombres"
          ],
          [
           "Hombres"
          ],
          [
           "Hombres"
          ],
          [
           "Hombres"
          ],
          [
           "Hombres"
          ],
          [
           "Hombres"
          ],
          [
           "Hombres"
          ],
          [
           "Hombres"
          ],
          [
           "Hombres"
          ],
          [
           "Hombres"
          ],
          [
           "Hombres"
          ],
          [
           "Hombres"
          ],
          [
           "Hombres"
          ],
          [
           "Hombres"
          ],
          [
           "Hombres"
          ],
          [
           "Hombres"
          ],
          [
           "Hombres"
          ],
          [
           "Hombres"
          ],
          [
           "Hombres"
          ],
          [
           "Hombres"
          ],
          [
           "Hombres"
          ],
          [
           "Hombres"
          ],
          [
           "Hombres"
          ],
          [
           "Hombres"
          ],
          [
           "Hombres"
          ],
          [
           "Hombres"
          ],
          [
           "Hombres"
          ],
          [
           "Hombres"
          ],
          [
           "Hombres"
          ],
          [
           "Hombres"
          ],
          [
           "Hombres"
          ],
          [
           "Hombres"
          ],
          [
           "Hombres"
          ],
          [
           "Hombres"
          ],
          [
           "Hombres"
          ],
          [
           "Hombres"
          ],
          [
           "Hombres"
          ],
          [
           "Hombres"
          ],
          [
           "Hombres"
          ],
          [
           "Hombres"
          ],
          [
           "Hombres"
          ],
          [
           "Hombres"
          ],
          [
           "Hombres"
          ],
          [
           "Hombres"
          ],
          [
           "Hombres"
          ],
          [
           "Hombres"
          ],
          [
           "Hombres"
          ],
          [
           "Hombres"
          ],
          [
           "Hombres"
          ],
          [
           "Hombres"
          ],
          [
           "Hombres"
          ],
          [
           "Hombres"
          ],
          [
           "Hombres"
          ],
          [
           "Hombres"
          ],
          [
           "Hombres"
          ],
          [
           "Hombres"
          ],
          [
           "Hombres"
          ],
          [
           "Hombres"
          ],
          [
           "Hombres"
          ],
          [
           "Hombres"
          ],
          [
           "Hombres"
          ],
          [
           "Hombres"
          ],
          [
           "Hombres"
          ],
          [
           "Hombres"
          ],
          [
           "Hombres"
          ],
          [
           "Hombres"
          ],
          [
           "Hombres"
          ],
          [
           "Hombres"
          ],
          [
           "Hombres"
          ],
          [
           "Hombres"
          ],
          [
           "Hombres"
          ],
          [
           "Hombres"
          ],
          [
           "Hombres"
          ],
          [
           "Hombres"
          ],
          [
           "Hombres"
          ],
          [
           "Hombres"
          ],
          [
           "Hombres"
          ],
          [
           "Hombres"
          ],
          [
           "Hombres"
          ],
          [
           "Hombres"
          ],
          [
           "Hombres"
          ],
          [
           "Hombres"
          ],
          [
           "Hombres"
          ],
          [
           "Hombres"
          ],
          [
           "Hombres"
          ],
          [
           "Hombres"
          ],
          [
           "Hombres"
          ],
          [
           "Hombres"
          ],
          [
           "Hombres"
          ],
          [
           "Hombres"
          ],
          [
           "Hombres"
          ],
          [
           "Hombres"
          ],
          [
           "Hombres"
          ],
          [
           "Hombres"
          ],
          [
           "Hombres"
          ],
          [
           "Hombres"
          ],
          [
           "Hombres"
          ],
          [
           "Hombres"
          ],
          [
           "Hombres"
          ],
          [
           "Hombres"
          ],
          [
           "Hombres"
          ],
          [
           "Hombres"
          ],
          [
           "Hombres"
          ],
          [
           "Hombres"
          ],
          [
           "Hombres"
          ],
          [
           "Hombres"
          ],
          [
           "Hombres"
          ],
          [
           "Hombres"
          ],
          [
           "Hombres"
          ],
          [
           "Hombres"
          ],
          [
           "Hombres"
          ],
          [
           "Hombres"
          ],
          [
           "Hombres"
          ],
          [
           "Hombres"
          ],
          [
           "Hombres"
          ],
          [
           "Hombres"
          ],
          [
           "Hombres"
          ],
          [
           "Hombres"
          ],
          [
           "Hombres"
          ],
          [
           "Hombres"
          ],
          [
           "Hombres"
          ],
          [
           "Hombres"
          ],
          [
           "Hombres"
          ],
          [
           "Hombres"
          ],
          [
           "Hombres"
          ],
          [
           "Hombres"
          ],
          [
           "Hombres"
          ],
          [
           "Hombres"
          ],
          [
           "Hombres"
          ],
          [
           "Hombres"
          ],
          [
           "Hombres"
          ],
          [
           "Hombres"
          ],
          [
           "Hombres"
          ],
          [
           "Hombres"
          ],
          [
           "Hombres"
          ],
          [
           "Hombres"
          ],
          [
           "Hombres"
          ],
          [
           "Hombres"
          ],
          [
           "Hombres"
          ],
          [
           "Hombres"
          ],
          [
           "Hombres"
          ],
          [
           "Hombres"
          ],
          [
           "Hombres"
          ],
          [
           "Hombres"
          ],
          [
           "Hombres"
          ],
          [
           "Hombres"
          ],
          [
           "Hombres"
          ],
          [
           "Hombres"
          ],
          [
           "Hombres"
          ],
          [
           "Hombres"
          ],
          [
           "Hombres"
          ],
          [
           "Hombres"
          ],
          [
           "Hombres"
          ],
          [
           "Hombres"
          ],
          [
           "Hombres"
          ],
          [
           "Hombres"
          ],
          [
           "Hombres"
          ],
          [
           "Hombres"
          ],
          [
           "Hombres"
          ],
          [
           "Hombres"
          ],
          [
           "Hombres"
          ],
          [
           "Hombres"
          ],
          [
           "Hombres"
          ],
          [
           "Hombres"
          ],
          [
           "Hombres"
          ],
          [
           "Hombres"
          ],
          [
           "Hombres"
          ],
          [
           "Hombres"
          ],
          [
           "Hombres"
          ],
          [
           "Hombres"
          ],
          [
           "Hombres"
          ],
          [
           "Hombres"
          ],
          [
           "Hombres"
          ],
          [
           "Hombres"
          ],
          [
           "Hombres"
          ],
          [
           "Hombres"
          ],
          [
           "Hombres"
          ],
          [
           "Hombres"
          ],
          [
           "Hombres"
          ],
          [
           "Hombres"
          ],
          [
           "Hombres"
          ],
          [
           "Hombres"
          ],
          [
           "Hombres"
          ],
          [
           "Hombres"
          ],
          [
           "Hombres"
          ],
          [
           "Hombres"
          ],
          [
           "Hombres"
          ],
          [
           "Hombres"
          ],
          [
           "Hombres"
          ],
          [
           "Hombres"
          ],
          [
           "Hombres"
          ],
          [
           "Hombres"
          ],
          [
           "Hombres"
          ],
          [
           "Hombres"
          ],
          [
           "Hombres"
          ],
          [
           "Hombres"
          ],
          [
           "Hombres"
          ],
          [
           "Hombres"
          ],
          [
           "Hombres"
          ],
          [
           "Hombres"
          ],
          [
           "Hombres"
          ],
          [
           "Hombres"
          ],
          [
           "Hombres"
          ],
          [
           "Hombres"
          ],
          [
           "Hombres"
          ],
          [
           "Hombres"
          ],
          [
           "Hombres"
          ],
          [
           "Hombres"
          ],
          [
           "Hombres"
          ],
          [
           "Hombres"
          ],
          [
           "Hombres"
          ],
          [
           "Hombres"
          ],
          [
           "Hombres"
          ],
          [
           "Hombres"
          ],
          [
           "Hombres"
          ],
          [
           "Hombres"
          ],
          [
           "Hombres"
          ],
          [
           "Hombres"
          ],
          [
           "Hombres"
          ],
          [
           "Hombres"
          ],
          [
           "Hombres"
          ],
          [
           "Hombres"
          ],
          [
           "Hombres"
          ],
          [
           "Hombres"
          ],
          [
           "Hombres"
          ],
          [
           "Hombres"
          ],
          [
           "Hombres"
          ],
          [
           "Hombres"
          ],
          [
           "Hombres"
          ],
          [
           "Hombres"
          ],
          [
           "Hombres"
          ],
          [
           "Hombres"
          ],
          [
           "Hombres"
          ],
          [
           "Hombres"
          ],
          [
           "Hombres"
          ],
          [
           "Hombres"
          ],
          [
           "Hombres"
          ],
          [
           "Hombres"
          ],
          [
           "Hombres"
          ],
          [
           "Hombres"
          ],
          [
           "Hombres"
          ],
          [
           "Hombres"
          ],
          [
           "Hombres"
          ],
          [
           "Hombres"
          ],
          [
           "Hombres"
          ],
          [
           "Hombres"
          ],
          [
           "Hombres"
          ],
          [
           "Hombres"
          ],
          [
           "Hombres"
          ],
          [
           "Hombres"
          ],
          [
           "Hombres"
          ],
          [
           "Hombres"
          ],
          [
           "Hombres"
          ],
          [
           "Hombres"
          ],
          [
           "Hombres"
          ],
          [
           "Hombres"
          ],
          [
           "Hombres"
          ],
          [
           "Hombres"
          ],
          [
           "Hombres"
          ],
          [
           "Hombres"
          ],
          [
           "Hombres"
          ],
          [
           "Hombres"
          ],
          [
           "Hombres"
          ],
          [
           "Hombres"
          ],
          [
           "Hombres"
          ],
          [
           "Hombres"
          ],
          [
           "Hombres"
          ],
          [
           "Hombres"
          ],
          [
           "Hombres"
          ],
          [
           "Hombres"
          ],
          [
           "Hombres"
          ],
          [
           "Hombres"
          ],
          [
           "Hombres"
          ],
          [
           "Hombres"
          ],
          [
           "Hombres"
          ],
          [
           "Hombres"
          ],
          [
           "Hombres"
          ],
          [
           "Hombres"
          ],
          [
           "Hombres"
          ],
          [
           "Hombres"
          ],
          [
           "Hombres"
          ],
          [
           "Hombres"
          ],
          [
           "Hombres"
          ],
          [
           "Hombres"
          ],
          [
           "Hombres"
          ],
          [
           "Hombres"
          ],
          [
           "Hombres"
          ],
          [
           "Hombres"
          ],
          [
           "Hombres"
          ],
          [
           "Hombres"
          ],
          [
           "Hombres"
          ],
          [
           "Hombres"
          ],
          [
           "Hombres"
          ],
          [
           "Hombres"
          ],
          [
           "Hombres"
          ],
          [
           "Hombres"
          ],
          [
           "Hombres"
          ],
          [
           "Hombres"
          ],
          [
           "Hombres"
          ],
          [
           "Hombres"
          ],
          [
           "Hombres"
          ],
          [
           "Hombres"
          ],
          [
           "Hombres"
          ],
          [
           "Hombres"
          ],
          [
           "Hombres"
          ],
          [
           "Hombres"
          ],
          [
           "Hombres"
          ],
          [
           "Hombres"
          ],
          [
           "Hombres"
          ],
          [
           "Mujeres"
          ],
          [
           "Mujeres"
          ],
          [
           "Mujeres"
          ],
          [
           "Mujeres"
          ],
          [
           "Mujeres"
          ],
          [
           "Mujeres"
          ],
          [
           "Mujeres"
          ],
          [
           "Mujeres"
          ],
          [
           "Mujeres"
          ],
          [
           "Mujeres"
          ],
          [
           "Mujeres"
          ],
          [
           "Mujeres"
          ],
          [
           "Mujeres"
          ],
          [
           "Mujeres"
          ],
          [
           "Mujeres"
          ],
          [
           "Mujeres"
          ],
          [
           "Mujeres"
          ],
          [
           "Mujeres"
          ],
          [
           "Mujeres"
          ],
          [
           "Mujeres"
          ],
          [
           "Mujeres"
          ],
          [
           "Mujeres"
          ],
          [
           "Mujeres"
          ],
          [
           "Mujeres"
          ],
          [
           "Mujeres"
          ],
          [
           "Mujeres"
          ],
          [
           "Mujeres"
          ],
          [
           "Mujeres"
          ],
          [
           "Mujeres"
          ],
          [
           "Mujeres"
          ],
          [
           "Mujeres"
          ],
          [
           "Mujeres"
          ],
          [
           "Mujeres"
          ],
          [
           "Mujeres"
          ],
          [
           "Mujeres"
          ],
          [
           "Mujeres"
          ],
          [
           "Mujeres"
          ],
          [
           "Mujeres"
          ],
          [
           "Mujeres"
          ],
          [
           "Mujeres"
          ],
          [
           "Mujeres"
          ],
          [
           "Mujeres"
          ],
          [
           "Mujeres"
          ],
          [
           "Mujeres"
          ],
          [
           "Mujeres"
          ],
          [
           "Mujeres"
          ],
          [
           "Mujeres"
          ],
          [
           "Mujeres"
          ],
          [
           "Mujeres"
          ],
          [
           "Mujeres"
          ],
          [
           "Mujeres"
          ],
          [
           "Mujeres"
          ],
          [
           "Mujeres"
          ],
          [
           "Mujeres"
          ],
          [
           "Mujeres"
          ],
          [
           "Mujeres"
          ],
          [
           "Mujeres"
          ],
          [
           "Mujeres"
          ],
          [
           "Mujeres"
          ],
          [
           "Mujeres"
          ],
          [
           "Mujeres"
          ],
          [
           "Mujeres"
          ],
          [
           "Mujeres"
          ],
          [
           "Mujeres"
          ],
          [
           "Mujeres"
          ],
          [
           "Mujeres"
          ],
          [
           "Mujeres"
          ],
          [
           "Mujeres"
          ],
          [
           "Mujeres"
          ],
          [
           "Mujeres"
          ],
          [
           "Mujeres"
          ],
          [
           "Mujeres"
          ],
          [
           "Mujeres"
          ],
          [
           "Mujeres"
          ],
          [
           "Mujeres"
          ],
          [
           "Mujeres"
          ],
          [
           "Mujeres"
          ],
          [
           "Mujeres"
          ],
          [
           "Mujeres"
          ],
          [
           "Mujeres"
          ],
          [
           "Mujeres"
          ],
          [
           "Mujeres"
          ],
          [
           "Mujeres"
          ],
          [
           "Mujeres"
          ],
          [
           "Mujeres"
          ],
          [
           "Mujeres"
          ],
          [
           "Mujeres"
          ],
          [
           "Mujeres"
          ],
          [
           "Mujeres"
          ],
          [
           "Mujeres"
          ],
          [
           "Mujeres"
          ],
          [
           "Mujeres"
          ],
          [
           "Mujeres"
          ],
          [
           "Mujeres"
          ],
          [
           "Mujeres"
          ],
          [
           "Mujeres"
          ],
          [
           "Mujeres"
          ],
          [
           "Mujeres"
          ],
          [
           "Mujeres"
          ],
          [
           "Mujeres"
          ],
          [
           "Mujeres"
          ],
          [
           "Mujeres"
          ],
          [
           "Mujeres"
          ],
          [
           "Mujeres"
          ],
          [
           "Mujeres"
          ],
          [
           "Mujeres"
          ],
          [
           "Mujeres"
          ],
          [
           "Mujeres"
          ],
          [
           "Mujeres"
          ],
          [
           "Mujeres"
          ],
          [
           "Mujeres"
          ],
          [
           "Mujeres"
          ],
          [
           "Mujeres"
          ],
          [
           "Mujeres"
          ],
          [
           "Mujeres"
          ],
          [
           "Mujeres"
          ],
          [
           "Mujeres"
          ],
          [
           "Mujeres"
          ],
          [
           "Mujeres"
          ],
          [
           "Mujeres"
          ],
          [
           "Mujeres"
          ],
          [
           "Mujeres"
          ],
          [
           "Mujeres"
          ],
          [
           "Mujeres"
          ],
          [
           "Mujeres"
          ],
          [
           "Mujeres"
          ],
          [
           "Mujeres"
          ],
          [
           "Mujeres"
          ],
          [
           "Mujeres"
          ],
          [
           "Mujeres"
          ],
          [
           "Mujeres"
          ],
          [
           "Mujeres"
          ],
          [
           "Mujeres"
          ],
          [
           "Mujeres"
          ],
          [
           "Mujeres"
          ],
          [
           "Mujeres"
          ],
          [
           "Mujeres"
          ],
          [
           "Mujeres"
          ],
          [
           "Mujeres"
          ],
          [
           "Mujeres"
          ],
          [
           "Mujeres"
          ],
          [
           "Mujeres"
          ],
          [
           "Mujeres"
          ],
          [
           "Mujeres"
          ],
          [
           "Mujeres"
          ],
          [
           "Mujeres"
          ],
          [
           "Mujeres"
          ],
          [
           "Mujeres"
          ],
          [
           "Mujeres"
          ],
          [
           "Mujeres"
          ],
          [
           "Mujeres"
          ],
          [
           "Mujeres"
          ],
          [
           "Mujeres"
          ],
          [
           "Mujeres"
          ],
          [
           "Mujeres"
          ],
          [
           "Mujeres"
          ],
          [
           "Mujeres"
          ],
          [
           "Mujeres"
          ],
          [
           "Mujeres"
          ],
          [
           "Mujeres"
          ],
          [
           "Mujeres"
          ],
          [
           "Mujeres"
          ],
          [
           "Mujeres"
          ],
          [
           "Mujeres"
          ],
          [
           "Mujeres"
          ],
          [
           "Mujeres"
          ],
          [
           "Mujeres"
          ],
          [
           "Mujeres"
          ],
          [
           "Mujeres"
          ],
          [
           "Mujeres"
          ],
          [
           "Mujeres"
          ],
          [
           "Mujeres"
          ],
          [
           "Mujeres"
          ],
          [
           "Mujeres"
          ],
          [
           "Mujeres"
          ],
          [
           "Mujeres"
          ],
          [
           "Mujeres"
          ],
          [
           "Mujeres"
          ],
          [
           "Mujeres"
          ],
          [
           "Mujeres"
          ],
          [
           "Mujeres"
          ],
          [
           "Mujeres"
          ],
          [
           "Mujeres"
          ],
          [
           "Mujeres"
          ],
          [
           "Mujeres"
          ],
          [
           "Mujeres"
          ],
          [
           "Mujeres"
          ],
          [
           "Mujeres"
          ],
          [
           "Mujeres"
          ],
          [
           "Mujeres"
          ],
          [
           "Mujeres"
          ],
          [
           "Mujeres"
          ],
          [
           "Mujeres"
          ],
          [
           "Mujeres"
          ],
          [
           "Mujeres"
          ],
          [
           "Mujeres"
          ],
          [
           "Mujeres"
          ],
          [
           "Mujeres"
          ],
          [
           "Mujeres"
          ],
          [
           "Mujeres"
          ],
          [
           "Mujeres"
          ],
          [
           "Mujeres"
          ],
          [
           "Mujeres"
          ],
          [
           "Mujeres"
          ],
          [
           "Mujeres"
          ],
          [
           "Mujeres"
          ],
          [
           "Mujeres"
          ],
          [
           "Mujeres"
          ],
          [
           "Mujeres"
          ],
          [
           "Mujeres"
          ],
          [
           "Mujeres"
          ],
          [
           "Mujeres"
          ],
          [
           "Mujeres"
          ],
          [
           "Mujeres"
          ],
          [
           "Mujeres"
          ],
          [
           "Mujeres"
          ],
          [
           "Mujeres"
          ],
          [
           "Mujeres"
          ],
          [
           "Mujeres"
          ],
          [
           "Mujeres"
          ],
          [
           "Mujeres"
          ],
          [
           "Mujeres"
          ],
          [
           "Mujeres"
          ],
          [
           "Mujeres"
          ],
          [
           "Mujeres"
          ],
          [
           "Mujeres"
          ],
          [
           "Mujeres"
          ],
          [
           "Mujeres"
          ],
          [
           "Mujeres"
          ],
          [
           "Mujeres"
          ],
          [
           "Mujeres"
          ],
          [
           "Mujeres"
          ],
          [
           "Mujeres"
          ],
          [
           "Mujeres"
          ],
          [
           "Mujeres"
          ],
          [
           "Mujeres"
          ],
          [
           "Mujeres"
          ],
          [
           "Mujeres"
          ],
          [
           "Mujeres"
          ],
          [
           "Mujeres"
          ],
          [
           "Mujeres"
          ],
          [
           "Mujeres"
          ],
          [
           "Mujeres"
          ],
          [
           "Mujeres"
          ],
          [
           "Mujeres"
          ],
          [
           "Mujeres"
          ],
          [
           "Mujeres"
          ],
          [
           "Mujeres"
          ],
          [
           "Mujeres"
          ],
          [
           "Mujeres"
          ],
          [
           "Mujeres"
          ],
          [
           "Mujeres"
          ],
          [
           "Mujeres"
          ],
          [
           "Mujeres"
          ],
          [
           "Mujeres"
          ],
          [
           "Mujeres"
          ],
          [
           "Mujeres"
          ],
          [
           "Mujeres"
          ],
          [
           "Mujeres"
          ],
          [
           "Mujeres"
          ],
          [
           "Mujeres"
          ],
          [
           "Mujeres"
          ],
          [
           "Mujeres"
          ],
          [
           "Mujeres"
          ],
          [
           "Mujeres"
          ],
          [
           "Mujeres"
          ],
          [
           "Mujeres"
          ],
          [
           "Mujeres"
          ],
          [
           "Mujeres"
          ],
          [
           "Mujeres"
          ],
          [
           "Mujeres"
          ],
          [
           "Mujeres"
          ],
          [
           "Mujeres"
          ],
          [
           "Mujeres"
          ],
          [
           "Mujeres"
          ],
          [
           "Mujeres"
          ],
          [
           "Mujeres"
          ],
          [
           "Mujeres"
          ],
          [
           "Mujeres"
          ],
          [
           "Mujeres"
          ],
          [
           "Mujeres"
          ],
          [
           "Mujeres"
          ],
          [
           "Mujeres"
          ],
          [
           "Mujeres"
          ],
          [
           "Mujeres"
          ],
          [
           "Mujeres"
          ],
          [
           "Mujeres"
          ],
          [
           "Mujeres"
          ],
          [
           "Mujeres"
          ],
          [
           "Mujeres"
          ],
          [
           "Mujeres"
          ],
          [
           "Mujeres"
          ],
          [
           "Mujeres"
          ],
          [
           "Mujeres"
          ],
          [
           "Mujeres"
          ],
          [
           "Mujeres"
          ],
          [
           "Mujeres"
          ],
          [
           "Mujeres"
          ],
          [
           "Mujeres"
          ],
          [
           "Mujeres"
          ],
          [
           "Mujeres"
          ],
          [
           "Mujeres"
          ],
          [
           "Mujeres"
          ],
          [
           "Mujeres"
          ],
          [
           "Mujeres"
          ],
          [
           "Mujeres"
          ],
          [
           "Mujeres"
          ],
          [
           "Mujeres"
          ],
          [
           "Mujeres"
          ],
          [
           "Mujeres"
          ],
          [
           "Mujeres"
          ],
          [
           "Mujeres"
          ],
          [
           "Mujeres"
          ],
          [
           "Mujeres"
          ],
          [
           "Mujeres"
          ],
          [
           "Mujeres"
          ],
          [
           "Mujeres"
          ],
          [
           "Mujeres"
          ],
          [
           "Mujeres"
          ],
          [
           "Mujeres"
          ],
          [
           "Mujeres"
          ],
          [
           "Mujeres"
          ],
          [
           "Mujeres"
          ],
          [
           "Mujeres"
          ],
          [
           "Mujeres"
          ],
          [
           "Mujeres"
          ],
          [
           "Mujeres"
          ],
          [
           "Mujeres"
          ],
          [
           "Mujeres"
          ],
          [
           "Mujeres"
          ],
          [
           "Mujeres"
          ],
          [
           "Mujeres"
          ],
          [
           "Mujeres"
          ],
          [
           "Mujeres"
          ],
          [
           "Mujeres"
          ],
          [
           "Mujeres"
          ],
          [
           "Mujeres"
          ],
          [
           "Mujeres"
          ],
          [
           "Mujeres"
          ],
          [
           "Mujeres"
          ],
          [
           "Mujeres"
          ],
          [
           "Mujeres"
          ],
          [
           "Mujeres"
          ],
          [
           "Mujeres"
          ],
          [
           "Mujeres"
          ],
          [
           "Mujeres"
          ],
          [
           "Mujeres"
          ],
          [
           "Mujeres"
          ],
          [
           "Mujeres"
          ],
          [
           "Mujeres"
          ],
          [
           "Mujeres"
          ],
          [
           "Mujeres"
          ],
          [
           "Mujeres"
          ],
          [
           "Mujeres"
          ],
          [
           "Mujeres"
          ],
          [
           "Mujeres"
          ],
          [
           "Mujeres"
          ],
          [
           "Mujeres"
          ],
          [
           "Mujeres"
          ],
          [
           "Mujeres"
          ],
          [
           "Mujeres"
          ],
          [
           "Mujeres"
          ],
          [
           "Mujeres"
          ],
          [
           "Mujeres"
          ],
          [
           "Mujeres"
          ],
          [
           "Mujeres"
          ],
          [
           "Mujeres"
          ],
          [
           "Mujeres"
          ],
          [
           "Mujeres"
          ],
          [
           "Mujeres"
          ],
          [
           "Mujeres"
          ],
          [
           "Mujeres"
          ],
          [
           "Mujeres"
          ],
          [
           "Mujeres"
          ],
          [
           "Mujeres"
          ],
          [
           "Mujeres"
          ],
          [
           "Mujeres"
          ],
          [
           "Mujeres"
          ],
          [
           "Mujeres"
          ],
          [
           "Mujeres"
          ],
          [
           "Mujeres"
          ],
          [
           "Mujeres"
          ],
          [
           "Mujeres"
          ],
          [
           "Mujeres"
          ],
          [
           "Mujeres"
          ],
          [
           "Mujeres"
          ],
          [
           "Mujeres"
          ],
          [
           "Mujeres"
          ],
          [
           "Mujeres"
          ],
          [
           "Mujeres"
          ],
          [
           "Mujeres"
          ],
          [
           "Mujeres"
          ],
          [
           "Mujeres"
          ],
          [
           "Mujeres"
          ],
          [
           "Mujeres"
          ],
          [
           "Mujeres"
          ],
          [
           "Mujeres"
          ],
          [
           "Mujeres"
          ],
          [
           "Mujeres"
          ],
          [
           "Mujeres"
          ],
          [
           "Mujeres"
          ],
          [
           "Mujeres"
          ],
          [
           "Mujeres"
          ],
          [
           "Mujeres"
          ],
          [
           "Mujeres"
          ],
          [
           "Mujeres"
          ],
          [
           "Mujeres"
          ],
          [
           "Mujeres"
          ],
          [
           "Mujeres"
          ],
          [
           "Mujeres"
          ],
          [
           "Mujeres"
          ],
          [
           "Mujeres"
          ],
          [
           "Mujeres"
          ],
          [
           "Mujeres"
          ],
          [
           "Mujeres"
          ],
          [
           "Mujeres"
          ],
          [
           "Mujeres"
          ],
          [
           "Mujeres"
          ],
          [
           "Mujeres"
          ],
          [
           "Mujeres"
          ],
          [
           "Mujeres"
          ],
          [
           "Mujeres"
          ],
          [
           "Mujeres"
          ],
          [
           "Mujeres"
          ],
          [
           "Mujeres"
          ],
          [
           "Mujeres"
          ],
          [
           "Mujeres"
          ],
          [
           "Mujeres"
          ],
          [
           "Mujeres"
          ],
          [
           "Mujeres"
          ],
          [
           "Mujeres"
          ],
          [
           "Mujeres"
          ],
          [
           "Mujeres"
          ],
          [
           "Mujeres"
          ],
          [
           "Mujeres"
          ],
          [
           "Mujeres"
          ],
          [
           "Mujeres"
          ],
          [
           "Mujeres"
          ],
          [
           "Mujeres"
          ],
          [
           "Mujeres"
          ],
          [
           "Mujeres"
          ],
          [
           "Mujeres"
          ],
          [
           "Mujeres"
          ],
          [
           "Mujeres"
          ],
          [
           "Mujeres"
          ],
          [
           "Mujeres"
          ],
          [
           "Mujeres"
          ],
          [
           "Mujeres"
          ],
          [
           "Mujeres"
          ],
          [
           "Mujeres"
          ],
          [
           "Mujeres"
          ],
          [
           "Mujeres"
          ],
          [
           "Mujeres"
          ],
          [
           "Mujeres"
          ],
          [
           "Mujeres"
          ],
          [
           "Mujeres"
          ],
          [
           "Mujeres"
          ],
          [
           "Mujeres"
          ],
          [
           "Mujeres"
          ],
          [
           "Mujeres"
          ],
          [
           "Mujeres"
          ],
          [
           "Mujeres"
          ],
          [
           "Mujeres"
          ],
          [
           "Mujeres"
          ],
          [
           "Mujeres"
          ],
          [
           "Mujeres"
          ],
          [
           "Mujeres"
          ],
          [
           "Mujeres"
          ],
          [
           "Mujeres"
          ],
          [
           "Mujeres"
          ],
          [
           "Mujeres"
          ],
          [
           "Mujeres"
          ],
          [
           "Mujeres"
          ],
          [
           "Mujeres"
          ],
          [
           "Mujeres"
          ],
          [
           "Mujeres"
          ],
          [
           "Mujeres"
          ],
          [
           "Mujeres"
          ],
          [
           "Mujeres"
          ],
          [
           "Mujeres"
          ],
          [
           "Mujeres"
          ],
          [
           "Mujeres"
          ],
          [
           "Mujeres"
          ],
          [
           "Mujeres"
          ],
          [
           "Mujeres"
          ],
          [
           "Mujeres"
          ],
          [
           "Mujeres"
          ],
          [
           "Mujeres"
          ],
          [
           "Mujeres"
          ],
          [
           "Mujeres"
          ],
          [
           "Mujeres"
          ],
          [
           "Mujeres"
          ],
          [
           "Mujeres"
          ],
          [
           "Mujeres"
          ],
          [
           "Mujeres"
          ],
          [
           "Mujeres"
          ],
          [
           "Mujeres"
          ],
          [
           "Mujeres"
          ],
          [
           "Mujeres"
          ],
          [
           "Mujeres"
          ],
          [
           "Mujeres"
          ],
          [
           "Mujeres"
          ],
          [
           "Mujeres"
          ],
          [
           "Mujeres"
          ],
          [
           "Mujeres"
          ],
          [
           "Mujeres"
          ],
          [
           "Mujeres"
          ],
          [
           "Mujeres"
          ],
          [
           "Mujeres"
          ],
          [
           "Mujeres"
          ],
          [
           "Mujeres"
          ],
          [
           "Mujeres"
          ],
          [
           "Mujeres"
          ],
          [
           "Mujeres"
          ],
          [
           "Mujeres"
          ],
          [
           "Mujeres"
          ],
          [
           "Mujeres"
          ],
          [
           "Mujeres"
          ],
          [
           "Mujeres"
          ],
          [
           "Mujeres"
          ],
          [
           "Mujeres"
          ],
          [
           "Mujeres"
          ],
          [
           "Mujeres"
          ],
          [
           "Mujeres"
          ],
          [
           "Mujeres"
          ],
          [
           "Mujeres"
          ],
          [
           "Mujeres"
          ],
          [
           "Mujeres"
          ],
          [
           "Mujeres"
          ],
          [
           "Mujeres"
          ],
          [
           "Mujeres"
          ],
          [
           "Mujeres"
          ],
          [
           "Mujeres"
          ],
          [
           "Mujeres"
          ],
          [
           "Mujeres"
          ],
          [
           "Mujeres"
          ],
          [
           "Mujeres"
          ],
          [
           "Mujeres"
          ],
          [
           "Mujeres"
          ],
          [
           "Mujeres"
          ],
          [
           "Mujeres"
          ],
          [
           "Mujeres"
          ],
          [
           "Mujeres"
          ],
          [
           "Mujeres"
          ],
          [
           "Mujeres"
          ],
          [
           "Mujeres"
          ],
          [
           "Mujeres"
          ],
          [
           "Mujeres"
          ],
          [
           "Mujeres"
          ],
          [
           "Mujeres"
          ],
          [
           "Mujeres"
          ],
          [
           "Mujeres"
          ],
          [
           "Mujeres"
          ],
          [
           "Mujeres"
          ],
          [
           "Mujeres"
          ],
          [
           "Mujeres"
          ],
          [
           "Mujeres"
          ],
          [
           "Mujeres"
          ],
          [
           "Mujeres"
          ],
          [
           "Mujeres"
          ],
          [
           "Mujeres"
          ],
          [
           "Mujeres"
          ],
          [
           "Mujeres"
          ],
          [
           "Mujeres"
          ],
          [
           "Mujeres"
          ],
          [
           "Mujeres"
          ],
          [
           "Mujeres"
          ],
          [
           "Mujeres"
          ],
          [
           "Mujeres"
          ],
          [
           "Mujeres"
          ],
          [
           "Mujeres"
          ],
          [
           "Mujeres"
          ],
          [
           "Mujeres"
          ],
          [
           "Mujeres"
          ],
          [
           "Mujeres"
          ],
          [
           "Mujeres"
          ],
          [
           "Mujeres"
          ],
          [
           "Mujeres"
          ],
          [
           "Mujeres"
          ],
          [
           "Mujeres"
          ],
          [
           "Mujeres"
          ],
          [
           "Mujeres"
          ],
          [
           "Mujeres"
          ],
          [
           "Mujeres"
          ],
          [
           "Mujeres"
          ],
          [
           "Mujeres"
          ],
          [
           "Mujeres"
          ],
          [
           "Mujeres"
          ],
          [
           "Mujeres"
          ],
          [
           "Mujeres"
          ],
          [
           "Mujeres"
          ],
          [
           "Mujeres"
          ],
          [
           "Mujeres"
          ],
          [
           "Mujeres"
          ],
          [
           "Mujeres"
          ],
          [
           "Mujeres"
          ],
          [
           "Mujeres"
          ],
          [
           "Mujeres"
          ],
          [
           "Mujeres"
          ],
          [
           "Mujeres"
          ],
          [
           "Mujeres"
          ],
          [
           "Mujeres"
          ],
          [
           "Mujeres"
          ],
          [
           "Mujeres"
          ],
          [
           "Mujeres"
          ],
          [
           "Mujeres"
          ],
          [
           "Mujeres"
          ],
          [
           "Mujeres"
          ],
          [
           "Mujeres"
          ],
          [
           "Mujeres"
          ],
          [
           "Mujeres"
          ],
          [
           "Mujeres"
          ],
          [
           "Mujeres"
          ],
          [
           "Mujeres"
          ],
          [
           "Mujeres"
          ],
          [
           "Mujeres"
          ],
          [
           "Mujeres"
          ],
          [
           "Mujeres"
          ],
          [
           "Mujeres"
          ],
          [
           "Mujeres"
          ],
          [
           "Mujeres"
          ],
          [
           "Mujeres"
          ],
          [
           "Mujeres"
          ],
          [
           "Mujeres"
          ],
          [
           "Mujeres"
          ],
          [
           "Mujeres"
          ],
          [
           "Mujeres"
          ],
          [
           "Mujeres"
          ],
          [
           "Mujeres"
          ],
          [
           "Mujeres"
          ],
          [
           "Mujeres"
          ],
          [
           "Mujeres"
          ],
          [
           "Mujeres"
          ],
          [
           "Mujeres"
          ],
          [
           "Mujeres"
          ],
          [
           "Mujeres"
          ],
          [
           "Mujeres"
          ],
          [
           "Mujeres"
          ],
          [
           "Mujeres"
          ],
          [
           "Mujeres"
          ],
          [
           "Mujeres"
          ],
          [
           "Mujeres"
          ],
          [
           "Mujeres"
          ],
          [
           "Mujeres"
          ],
          [
           "Mujeres"
          ],
          [
           "Mujeres"
          ],
          [
           "Mujeres"
          ],
          [
           "Mujeres"
          ],
          [
           "Mujeres"
          ],
          [
           "Mujeres"
          ],
          [
           "Mujeres"
          ],
          [
           "Mujeres"
          ],
          [
           "Mujeres"
          ],
          [
           "Mujeres"
          ],
          [
           "Mujeres"
          ],
          [
           "Mujeres"
          ],
          [
           "Mujeres"
          ],
          [
           "Mujeres"
          ],
          [
           "Mujeres"
          ],
          [
           "Mujeres"
          ],
          [
           "Mujeres"
          ],
          [
           "Mujeres"
          ],
          [
           "Mujeres"
          ],
          [
           "Mujeres"
          ],
          [
           "Mujeres"
          ],
          [
           "Mujeres"
          ],
          [
           "Mujeres"
          ],
          [
           "Mujeres"
          ],
          [
           "Mujeres"
          ],
          [
           "Mujeres"
          ],
          [
           "Mujeres"
          ],
          [
           "Mujeres"
          ],
          [
           "Mujeres"
          ],
          [
           "Mujeres"
          ],
          [
           "Mujeres"
          ],
          [
           "Mujeres"
          ],
          [
           "Mujeres"
          ],
          [
           "Mujeres"
          ],
          [
           "Mujeres"
          ],
          [
           "Mujeres"
          ],
          [
           "Mujeres"
          ],
          [
           "Mujeres"
          ],
          [
           "Mujeres"
          ],
          [
           "Mujeres"
          ],
          [
           "Mujeres"
          ],
          [
           "Mujeres"
          ],
          [
           "Mujeres"
          ],
          [
           "Mujeres"
          ],
          [
           "Mujeres"
          ],
          [
           "Mujeres"
          ],
          [
           "Mujeres"
          ],
          [
           "Mujeres"
          ],
          [
           "Mujeres"
          ],
          [
           "Mujeres"
          ],
          [
           "Mujeres"
          ],
          [
           "Mujeres"
          ],
          [
           "Mujeres"
          ],
          [
           "Mujeres"
          ],
          [
           "Mujeres"
          ],
          [
           "Mujeres"
          ],
          [
           "Mujeres"
          ],
          [
           "Mujeres"
          ],
          [
           "Mujeres"
          ],
          [
           "Mujeres"
          ],
          [
           "Mujeres"
          ],
          [
           "Mujeres"
          ],
          [
           "Mujeres"
          ],
          [
           "Mujeres"
          ],
          [
           "Mujeres"
          ],
          [
           "Mujeres"
          ],
          [
           "Mujeres"
          ],
          [
           "Mujeres"
          ],
          [
           "Mujeres"
          ],
          [
           "Mujeres"
          ],
          [
           "Mujeres"
          ],
          [
           "Mujeres"
          ],
          [
           "Mujeres"
          ],
          [
           "Mujeres"
          ],
          [
           "Mujeres"
          ],
          [
           "Mujeres"
          ],
          [
           "Mujeres"
          ],
          [
           "Mujeres"
          ],
          [
           "Mujeres"
          ],
          [
           "Mujeres"
          ],
          [
           "Mujeres"
          ],
          [
           "Mujeres"
          ],
          [
           "Mujeres"
          ],
          [
           "Mujeres"
          ],
          [
           "Mujeres"
          ],
          [
           "Mujeres"
          ],
          [
           "Mujeres"
          ],
          [
           "Mujeres"
          ],
          [
           "Mujeres"
          ],
          [
           "Mujeres"
          ],
          [
           "Mujeres"
          ],
          [
           "Mujeres"
          ],
          [
           "Mujeres"
          ],
          [
           "Mujeres"
          ],
          [
           "Mujeres"
          ],
          [
           "Mujeres"
          ],
          [
           "Mujeres"
          ],
          [
           "Mujeres"
          ],
          [
           "Mujeres"
          ],
          [
           "Mujeres"
          ],
          [
           "Mujeres"
          ],
          [
           "Mujeres"
          ],
          [
           "Mujeres"
          ],
          [
           "Mujeres"
          ],
          [
           "Mujeres"
          ],
          [
           "Mujeres"
          ],
          [
           "Mujeres"
          ],
          [
           "Mujeres"
          ],
          [
           "Mujeres"
          ],
          [
           "Mujeres"
          ],
          [
           "Mujeres"
          ],
          [
           "Mujeres"
          ],
          [
           "Mujeres"
          ],
          [
           "Mujeres"
          ],
          [
           "Mujeres"
          ],
          [
           "Mujeres"
          ],
          [
           "Mujeres"
          ],
          [
           "Mujeres"
          ],
          [
           "Mujeres"
          ],
          [
           "Mujeres"
          ],
          [
           "Mujeres"
          ],
          [
           "Mujeres"
          ],
          [
           "Mujeres"
          ],
          [
           "Mujeres"
          ],
          [
           "Mujeres"
          ],
          [
           "Mujeres"
          ],
          [
           "Mujeres"
          ],
          [
           "Mujeres"
          ],
          [
           "Mujeres"
          ],
          [
           "Mujeres"
          ],
          [
           "Mujeres"
          ],
          [
           "Mujeres"
          ],
          [
           "Mujeres"
          ],
          [
           "Mujeres"
          ],
          [
           "Mujeres"
          ],
          [
           "Mujeres"
          ],
          [
           "Mujeres"
          ],
          [
           "Mujeres"
          ],
          [
           "Mujeres"
          ],
          [
           "Mujeres"
          ],
          [
           "Mujeres"
          ],
          [
           "Mujeres"
          ],
          [
           "Mujeres"
          ],
          [
           "Mujeres"
          ],
          [
           "Mujeres"
          ],
          [
           "Mujeres"
          ],
          [
           "Mujeres"
          ],
          [
           "Mujeres"
          ],
          [
           "Mujeres"
          ],
          [
           "Mujeres"
          ],
          [
           "Mujeres"
          ],
          [
           "Mujeres"
          ],
          [
           "Mujeres"
          ],
          [
           "Mujeres"
          ],
          [
           "Mujeres"
          ],
          [
           "Mujeres"
          ],
          [
           "Mujeres"
          ],
          [
           "Mujeres"
          ],
          [
           "Mujeres"
          ],
          [
           "Mujeres"
          ],
          [
           "Mujeres"
          ],
          [
           "Mujeres"
          ],
          [
           "Mujeres"
          ],
          [
           "Mujeres"
          ],
          [
           "Mujeres"
          ],
          [
           "Mujeres"
          ],
          [
           "Mujeres"
          ],
          [
           "Mujeres"
          ],
          [
           "Mujeres"
          ],
          [
           "Mujeres"
          ],
          [
           "Mujeres"
          ],
          [
           "Mujeres"
          ],
          [
           "Mujeres"
          ],
          [
           "Mujeres"
          ],
          [
           "Mujeres"
          ]
         ],
         "domain": {
          "x": [
           0,
           1
          ],
          "y": [
           0,
           1
          ]
         },
         "hovertemplate": "Sexo=%{customdata[0]}<br>Total=%{value}<extra></extra>",
         "labels": [
          "Hombres",
          "Hombres",
          "Hombres",
          "Hombres",
          "Hombres",
          "Hombres",
          "Hombres",
          "Hombres",
          "Hombres",
          "Hombres",
          "Hombres",
          "Hombres",
          "Hombres",
          "Hombres",
          "Hombres",
          "Hombres",
          "Hombres",
          "Hombres",
          "Hombres",
          "Hombres",
          "Hombres",
          "Hombres",
          "Hombres",
          "Hombres",
          "Hombres",
          "Hombres",
          "Hombres",
          "Hombres",
          "Hombres",
          "Hombres",
          "Hombres",
          "Hombres",
          "Hombres",
          "Hombres",
          "Hombres",
          "Hombres",
          "Hombres",
          "Hombres",
          "Hombres",
          "Hombres",
          "Hombres",
          "Hombres",
          "Hombres",
          "Hombres",
          "Hombres",
          "Hombres",
          "Hombres",
          "Hombres",
          "Hombres",
          "Hombres",
          "Hombres",
          "Hombres",
          "Hombres",
          "Hombres",
          "Hombres",
          "Hombres",
          "Hombres",
          "Hombres",
          "Hombres",
          "Hombres",
          "Hombres",
          "Hombres",
          "Hombres",
          "Hombres",
          "Hombres",
          "Hombres",
          "Hombres",
          "Hombres",
          "Hombres",
          "Hombres",
          "Hombres",
          "Hombres",
          "Hombres",
          "Hombres",
          "Hombres",
          "Hombres",
          "Hombres",
          "Hombres",
          "Hombres",
          "Hombres",
          "Hombres",
          "Hombres",
          "Hombres",
          "Hombres",
          "Hombres",
          "Hombres",
          "Hombres",
          "Hombres",
          "Hombres",
          "Hombres",
          "Hombres",
          "Hombres",
          "Hombres",
          "Hombres",
          "Hombres",
          "Hombres",
          "Hombres",
          "Hombres",
          "Hombres",
          "Hombres",
          "Hombres",
          "Hombres",
          "Hombres",
          "Hombres",
          "Hombres",
          "Hombres",
          "Hombres",
          "Hombres",
          "Hombres",
          "Hombres",
          "Hombres",
          "Hombres",
          "Hombres",
          "Hombres",
          "Hombres",
          "Hombres",
          "Hombres",
          "Hombres",
          "Hombres",
          "Hombres",
          "Hombres",
          "Hombres",
          "Hombres",
          "Hombres",
          "Hombres",
          "Hombres",
          "Hombres",
          "Hombres",
          "Hombres",
          "Hombres",
          "Hombres",
          "Hombres",
          "Hombres",
          "Hombres",
          "Hombres",
          "Hombres",
          "Hombres",
          "Hombres",
          "Hombres",
          "Hombres",
          "Hombres",
          "Hombres",
          "Hombres",
          "Hombres",
          "Hombres",
          "Hombres",
          "Hombres",
          "Hombres",
          "Hombres",
          "Hombres",
          "Hombres",
          "Hombres",
          "Hombres",
          "Hombres",
          "Hombres",
          "Hombres",
          "Hombres",
          "Hombres",
          "Hombres",
          "Hombres",
          "Hombres",
          "Hombres",
          "Hombres",
          "Hombres",
          "Hombres",
          "Hombres",
          "Hombres",
          "Hombres",
          "Hombres",
          "Hombres",
          "Hombres",
          "Hombres",
          "Hombres",
          "Hombres",
          "Hombres",
          "Hombres",
          "Hombres",
          "Hombres",
          "Hombres",
          "Hombres",
          "Hombres",
          "Hombres",
          "Hombres",
          "Hombres",
          "Hombres",
          "Hombres",
          "Hombres",
          "Hombres",
          "Hombres",
          "Hombres",
          "Hombres",
          "Hombres",
          "Hombres",
          "Hombres",
          "Hombres",
          "Hombres",
          "Hombres",
          "Hombres",
          "Hombres",
          "Hombres",
          "Hombres",
          "Hombres",
          "Hombres",
          "Hombres",
          "Hombres",
          "Hombres",
          "Hombres",
          "Hombres",
          "Hombres",
          "Hombres",
          "Hombres",
          "Hombres",
          "Hombres",
          "Hombres",
          "Hombres",
          "Hombres",
          "Hombres",
          "Hombres",
          "Hombres",
          "Hombres",
          "Hombres",
          "Hombres",
          "Hombres",
          "Hombres",
          "Hombres",
          "Hombres",
          "Hombres",
          "Hombres",
          "Hombres",
          "Hombres",
          "Hombres",
          "Hombres",
          "Hombres",
          "Hombres",
          "Hombres",
          "Hombres",
          "Hombres",
          "Hombres",
          "Hombres",
          "Hombres",
          "Hombres",
          "Hombres",
          "Hombres",
          "Hombres",
          "Hombres",
          "Hombres",
          "Hombres",
          "Hombres",
          "Hombres",
          "Hombres",
          "Hombres",
          "Hombres",
          "Hombres",
          "Hombres",
          "Hombres",
          "Hombres",
          "Hombres",
          "Hombres",
          "Hombres",
          "Hombres",
          "Hombres",
          "Hombres",
          "Hombres",
          "Hombres",
          "Hombres",
          "Hombres",
          "Hombres",
          "Hombres",
          "Hombres",
          "Hombres",
          "Hombres",
          "Hombres",
          "Hombres",
          "Hombres",
          "Hombres",
          "Hombres",
          "Hombres",
          "Hombres",
          "Hombres",
          "Hombres",
          "Hombres",
          "Hombres",
          "Hombres",
          "Hombres",
          "Hombres",
          "Hombres",
          "Hombres",
          "Hombres",
          "Hombres",
          "Hombres",
          "Hombres",
          "Hombres",
          "Hombres",
          "Hombres",
          "Hombres",
          "Hombres",
          "Hombres",
          "Hombres",
          "Hombres",
          "Hombres",
          "Hombres",
          "Hombres",
          "Hombres",
          "Hombres",
          "Hombres",
          "Hombres",
          "Hombres",
          "Hombres",
          "Hombres",
          "Hombres",
          "Hombres",
          "Hombres",
          "Hombres",
          "Hombres",
          "Hombres",
          "Hombres",
          "Hombres",
          "Hombres",
          "Hombres",
          "Hombres",
          "Hombres",
          "Hombres",
          "Hombres",
          "Hombres",
          "Hombres",
          "Hombres",
          "Hombres",
          "Hombres",
          "Hombres",
          "Hombres",
          "Hombres",
          "Hombres",
          "Hombres",
          "Hombres",
          "Hombres",
          "Hombres",
          "Hombres",
          "Hombres",
          "Hombres",
          "Hombres",
          "Hombres",
          "Hombres",
          "Hombres",
          "Hombres",
          "Hombres",
          "Hombres",
          "Hombres",
          "Hombres",
          "Hombres",
          "Hombres",
          "Hombres",
          "Hombres",
          "Hombres",
          "Hombres",
          "Hombres",
          "Hombres",
          "Hombres",
          "Hombres",
          "Hombres",
          "Hombres",
          "Hombres",
          "Hombres",
          "Hombres",
          "Hombres",
          "Hombres",
          "Hombres",
          "Hombres",
          "Hombres",
          "Hombres",
          "Hombres",
          "Hombres",
          "Hombres",
          "Hombres",
          "Hombres",
          "Hombres",
          "Hombres",
          "Hombres",
          "Hombres",
          "Hombres",
          "Hombres",
          "Hombres",
          "Hombres",
          "Hombres",
          "Hombres",
          "Hombres",
          "Hombres",
          "Hombres",
          "Hombres",
          "Hombres",
          "Hombres",
          "Hombres",
          "Hombres",
          "Hombres",
          "Hombres",
          "Hombres",
          "Hombres",
          "Hombres",
          "Hombres",
          "Hombres",
          "Hombres",
          "Hombres",
          "Hombres",
          "Hombres",
          "Hombres",
          "Hombres",
          "Hombres",
          "Hombres",
          "Hombres",
          "Hombres",
          "Hombres",
          "Hombres",
          "Hombres",
          "Hombres",
          "Hombres",
          "Hombres",
          "Hombres",
          "Hombres",
          "Hombres",
          "Hombres",
          "Hombres",
          "Hombres",
          "Hombres",
          "Hombres",
          "Hombres",
          "Hombres",
          "Hombres",
          "Hombres",
          "Hombres",
          "Hombres",
          "Hombres",
          "Hombres",
          "Hombres",
          "Hombres",
          "Hombres",
          "Hombres",
          "Hombres",
          "Hombres",
          "Hombres",
          "Hombres",
          "Hombres",
          "Hombres",
          "Hombres",
          "Hombres",
          "Hombres",
          "Hombres",
          "Hombres",
          "Hombres",
          "Hombres",
          "Hombres",
          "Hombres",
          "Hombres",
          "Hombres",
          "Hombres",
          "Hombres",
          "Hombres",
          "Hombres",
          "Hombres",
          "Hombres",
          "Hombres",
          "Hombres",
          "Hombres",
          "Hombres",
          "Hombres",
          "Hombres",
          "Hombres",
          "Hombres",
          "Hombres",
          "Hombres",
          "Hombres",
          "Hombres",
          "Hombres",
          "Hombres",
          "Hombres",
          "Hombres",
          "Hombres",
          "Hombres",
          "Hombres",
          "Hombres",
          "Hombres",
          "Hombres",
          "Hombres",
          "Hombres",
          "Hombres",
          "Hombres",
          "Hombres",
          "Hombres",
          "Hombres",
          "Hombres",
          "Hombres",
          "Hombres",
          "Hombres",
          "Hombres",
          "Hombres",
          "Hombres",
          "Hombres",
          "Hombres",
          "Hombres",
          "Hombres",
          "Hombres",
          "Hombres",
          "Hombres",
          "Hombres",
          "Hombres",
          "Hombres",
          "Hombres",
          "Hombres",
          "Hombres",
          "Hombres",
          "Hombres",
          "Hombres",
          "Hombres",
          "Hombres",
          "Hombres",
          "Hombres",
          "Hombres",
          "Hombres",
          "Hombres",
          "Hombres",
          "Hombres",
          "Hombres",
          "Hombres",
          "Hombres",
          "Hombres",
          "Hombres",
          "Hombres",
          "Hombres",
          "Hombres",
          "Hombres",
          "Hombres",
          "Hombres",
          "Hombres",
          "Hombres",
          "Hombres",
          "Hombres",
          "Hombres",
          "Hombres",
          "Hombres",
          "Hombres",
          "Hombres",
          "Hombres",
          "Hombres",
          "Hombres",
          "Hombres",
          "Hombres",
          "Hombres",
          "Hombres",
          "Hombres",
          "Hombres",
          "Hombres",
          "Hombres",
          "Hombres",
          "Hombres",
          "Hombres",
          "Hombres",
          "Hombres",
          "Hombres",
          "Hombres",
          "Hombres",
          "Hombres",
          "Hombres",
          "Hombres",
          "Hombres",
          "Hombres",
          "Hombres",
          "Hombres",
          "Hombres",
          "Hombres",
          "Hombres",
          "Hombres",
          "Hombres",
          "Hombres",
          "Hombres",
          "Hombres",
          "Hombres",
          "Hombres",
          "Hombres",
          "Hombres",
          "Hombres",
          "Hombres",
          "Hombres",
          "Hombres",
          "Hombres",
          "Hombres",
          "Hombres",
          "Hombres",
          "Hombres",
          "Hombres",
          "Hombres",
          "Hombres",
          "Hombres",
          "Hombres",
          "Hombres",
          "Hombres",
          "Hombres",
          "Hombres",
          "Hombres",
          "Hombres",
          "Hombres",
          "Hombres",
          "Hombres",
          "Hombres",
          "Hombres",
          "Hombres",
          "Hombres",
          "Hombres",
          "Hombres",
          "Hombres",
          "Hombres",
          "Hombres",
          "Hombres",
          "Hombres",
          "Hombres",
          "Hombres",
          "Hombres",
          "Hombres",
          "Hombres",
          "Hombres",
          "Hombres",
          "Hombres",
          "Hombres",
          "Hombres",
          "Hombres",
          "Hombres",
          "Hombres",
          "Hombres",
          "Hombres",
          "Hombres",
          "Hombres",
          "Hombres",
          "Hombres",
          "Hombres",
          "Hombres",
          "Hombres",
          "Hombres",
          "Hombres",
          "Hombres",
          "Hombres",
          "Hombres",
          "Hombres",
          "Hombres",
          "Hombres",
          "Hombres",
          "Hombres",
          "Hombres",
          "Hombres",
          "Hombres",
          "Hombres",
          "Hombres",
          "Hombres",
          "Hombres",
          "Hombres",
          "Hombres",
          "Hombres",
          "Hombres",
          "Hombres",
          "Hombres",
          "Hombres",
          "Hombres",
          "Hombres",
          "Hombres",
          "Hombres",
          "Hombres",
          "Hombres",
          "Hombres",
          "Hombres",
          "Hombres",
          "Hombres",
          "Hombres",
          "Hombres",
          "Hombres",
          "Hombres",
          "Hombres",
          "Hombres",
          "Hombres",
          "Hombres",
          "Hombres",
          "Hombres",
          "Hombres",
          "Hombres",
          "Hombres",
          "Hombres",
          "Hombres",
          "Hombres",
          "Hombres",
          "Hombres",
          "Hombres",
          "Hombres",
          "Hombres",
          "Hombres",
          "Hombres",
          "Hombres",
          "Hombres",
          "Hombres",
          "Hombres",
          "Hombres",
          "Hombres",
          "Hombres",
          "Hombres",
          "Hombres",
          "Hombres",
          "Hombres",
          "Hombres",
          "Hombres",
          "Hombres",
          "Hombres",
          "Hombres",
          "Hombres",
          "Hombres",
          "Hombres",
          "Hombres",
          "Hombres",
          "Hombres",
          "Hombres",
          "Hombres",
          "Hombres",
          "Hombres",
          "Hombres",
          "Hombres",
          "Hombres",
          "Hombres",
          "Hombres",
          "Hombres",
          "Hombres",
          "Hombres",
          "Hombres",
          "Hombres",
          "Hombres",
          "Hombres",
          "Hombres",
          "Hombres",
          "Hombres",
          "Hombres",
          "Hombres",
          "Hombres",
          "Hombres",
          "Hombres",
          "Hombres",
          "Hombres",
          "Hombres",
          "Hombres",
          "Hombres",
          "Hombres",
          "Hombres",
          "Hombres",
          "Hombres",
          "Hombres",
          "Hombres",
          "Hombres",
          "Hombres",
          "Hombres",
          "Hombres",
          "Hombres",
          "Hombres",
          "Hombres",
          "Hombres",
          "Hombres",
          "Hombres",
          "Hombres",
          "Hombres",
          "Hombres",
          "Hombres",
          "Hombres",
          "Hombres",
          "Hombres",
          "Hombres",
          "Hombres",
          "Hombres",
          "Hombres",
          "Hombres",
          "Hombres",
          "Hombres",
          "Hombres",
          "Hombres",
          "Hombres",
          "Hombres",
          "Hombres",
          "Hombres",
          "Hombres",
          "Hombres",
          "Hombres",
          "Hombres",
          "Hombres",
          "Hombres",
          "Hombres",
          "Hombres",
          "Hombres",
          "Hombres",
          "Hombres",
          "Hombres",
          "Hombres",
          "Hombres",
          "Hombres",
          "Hombres",
          "Hombres",
          "Hombres",
          "Hombres",
          "Hombres",
          "Hombres",
          "Hombres",
          "Hombres",
          "Hombres",
          "Hombres",
          "Hombres",
          "Hombres",
          "Hombres",
          "Hombres",
          "Hombres",
          "Hombres",
          "Hombres",
          "Hombres",
          "Hombres",
          "Hombres",
          "Hombres",
          "Hombres",
          "Hombres",
          "Hombres",
          "Hombres",
          "Hombres",
          "Hombres",
          "Mujeres",
          "Mujeres",
          "Mujeres",
          "Mujeres",
          "Mujeres",
          "Mujeres",
          "Mujeres",
          "Mujeres",
          "Mujeres",
          "Mujeres",
          "Mujeres",
          "Mujeres",
          "Mujeres",
          "Mujeres",
          "Mujeres",
          "Mujeres",
          "Mujeres",
          "Mujeres",
          "Mujeres",
          "Mujeres",
          "Mujeres",
          "Mujeres",
          "Mujeres",
          "Mujeres",
          "Mujeres",
          "Mujeres",
          "Mujeres",
          "Mujeres",
          "Mujeres",
          "Mujeres",
          "Mujeres",
          "Mujeres",
          "Mujeres",
          "Mujeres",
          "Mujeres",
          "Mujeres",
          "Mujeres",
          "Mujeres",
          "Mujeres",
          "Mujeres",
          "Mujeres",
          "Mujeres",
          "Mujeres",
          "Mujeres",
          "Mujeres",
          "Mujeres",
          "Mujeres",
          "Mujeres",
          "Mujeres",
          "Mujeres",
          "Mujeres",
          "Mujeres",
          "Mujeres",
          "Mujeres",
          "Mujeres",
          "Mujeres",
          "Mujeres",
          "Mujeres",
          "Mujeres",
          "Mujeres",
          "Mujeres",
          "Mujeres",
          "Mujeres",
          "Mujeres",
          "Mujeres",
          "Mujeres",
          "Mujeres",
          "Mujeres",
          "Mujeres",
          "Mujeres",
          "Mujeres",
          "Mujeres",
          "Mujeres",
          "Mujeres",
          "Mujeres",
          "Mujeres",
          "Mujeres",
          "Mujeres",
          "Mujeres",
          "Mujeres",
          "Mujeres",
          "Mujeres",
          "Mujeres",
          "Mujeres",
          "Mujeres",
          "Mujeres",
          "Mujeres",
          "Mujeres",
          "Mujeres",
          "Mujeres",
          "Mujeres",
          "Mujeres",
          "Mujeres",
          "Mujeres",
          "Mujeres",
          "Mujeres",
          "Mujeres",
          "Mujeres",
          "Mujeres",
          "Mujeres",
          "Mujeres",
          "Mujeres",
          "Mujeres",
          "Mujeres",
          "Mujeres",
          "Mujeres",
          "Mujeres",
          "Mujeres",
          "Mujeres",
          "Mujeres",
          "Mujeres",
          "Mujeres",
          "Mujeres",
          "Mujeres",
          "Mujeres",
          "Mujeres",
          "Mujeres",
          "Mujeres",
          "Mujeres",
          "Mujeres",
          "Mujeres",
          "Mujeres",
          "Mujeres",
          "Mujeres",
          "Mujeres",
          "Mujeres",
          "Mujeres",
          "Mujeres",
          "Mujeres",
          "Mujeres",
          "Mujeres",
          "Mujeres",
          "Mujeres",
          "Mujeres",
          "Mujeres",
          "Mujeres",
          "Mujeres",
          "Mujeres",
          "Mujeres",
          "Mujeres",
          "Mujeres",
          "Mujeres",
          "Mujeres",
          "Mujeres",
          "Mujeres",
          "Mujeres",
          "Mujeres",
          "Mujeres",
          "Mujeres",
          "Mujeres",
          "Mujeres",
          "Mujeres",
          "Mujeres",
          "Mujeres",
          "Mujeres",
          "Mujeres",
          "Mujeres",
          "Mujeres",
          "Mujeres",
          "Mujeres",
          "Mujeres",
          "Mujeres",
          "Mujeres",
          "Mujeres",
          "Mujeres",
          "Mujeres",
          "Mujeres",
          "Mujeres",
          "Mujeres",
          "Mujeres",
          "Mujeres",
          "Mujeres",
          "Mujeres",
          "Mujeres",
          "Mujeres",
          "Mujeres",
          "Mujeres",
          "Mujeres",
          "Mujeres",
          "Mujeres",
          "Mujeres",
          "Mujeres",
          "Mujeres",
          "Mujeres",
          "Mujeres",
          "Mujeres",
          "Mujeres",
          "Mujeres",
          "Mujeres",
          "Mujeres",
          "Mujeres",
          "Mujeres",
          "Mujeres",
          "Mujeres",
          "Mujeres",
          "Mujeres",
          "Mujeres",
          "Mujeres",
          "Mujeres",
          "Mujeres",
          "Mujeres",
          "Mujeres",
          "Mujeres",
          "Mujeres",
          "Mujeres",
          "Mujeres",
          "Mujeres",
          "Mujeres",
          "Mujeres",
          "Mujeres",
          "Mujeres",
          "Mujeres",
          "Mujeres",
          "Mujeres",
          "Mujeres",
          "Mujeres",
          "Mujeres",
          "Mujeres",
          "Mujeres",
          "Mujeres",
          "Mujeres",
          "Mujeres",
          "Mujeres",
          "Mujeres",
          "Mujeres",
          "Mujeres",
          "Mujeres",
          "Mujeres",
          "Mujeres",
          "Mujeres",
          "Mujeres",
          "Mujeres",
          "Mujeres",
          "Mujeres",
          "Mujeres",
          "Mujeres",
          "Mujeres",
          "Mujeres",
          "Mujeres",
          "Mujeres",
          "Mujeres",
          "Mujeres",
          "Mujeres",
          "Mujeres",
          "Mujeres",
          "Mujeres",
          "Mujeres",
          "Mujeres",
          "Mujeres",
          "Mujeres",
          "Mujeres",
          "Mujeres",
          "Mujeres",
          "Mujeres",
          "Mujeres",
          "Mujeres",
          "Mujeres",
          "Mujeres",
          "Mujeres",
          "Mujeres",
          "Mujeres",
          "Mujeres",
          "Mujeres",
          "Mujeres",
          "Mujeres",
          "Mujeres",
          "Mujeres",
          "Mujeres",
          "Mujeres",
          "Mujeres",
          "Mujeres",
          "Mujeres",
          "Mujeres",
          "Mujeres",
          "Mujeres",
          "Mujeres",
          "Mujeres",
          "Mujeres",
          "Mujeres",
          "Mujeres",
          "Mujeres",
          "Mujeres",
          "Mujeres",
          "Mujeres",
          "Mujeres",
          "Mujeres",
          "Mujeres",
          "Mujeres",
          "Mujeres",
          "Mujeres",
          "Mujeres",
          "Mujeres",
          "Mujeres",
          "Mujeres",
          "Mujeres",
          "Mujeres",
          "Mujeres",
          "Mujeres",
          "Mujeres",
          "Mujeres",
          "Mujeres",
          "Mujeres",
          "Mujeres",
          "Mujeres",
          "Mujeres",
          "Mujeres",
          "Mujeres",
          "Mujeres",
          "Mujeres",
          "Mujeres",
          "Mujeres",
          "Mujeres",
          "Mujeres",
          "Mujeres",
          "Mujeres",
          "Mujeres",
          "Mujeres",
          "Mujeres",
          "Mujeres",
          "Mujeres",
          "Mujeres",
          "Mujeres",
          "Mujeres",
          "Mujeres",
          "Mujeres",
          "Mujeres",
          "Mujeres",
          "Mujeres",
          "Mujeres",
          "Mujeres",
          "Mujeres",
          "Mujeres",
          "Mujeres",
          "Mujeres",
          "Mujeres",
          "Mujeres",
          "Mujeres",
          "Mujeres",
          "Mujeres",
          "Mujeres",
          "Mujeres",
          "Mujeres",
          "Mujeres",
          "Mujeres",
          "Mujeres",
          "Mujeres",
          "Mujeres",
          "Mujeres",
          "Mujeres",
          "Mujeres",
          "Mujeres",
          "Mujeres",
          "Mujeres",
          "Mujeres",
          "Mujeres",
          "Mujeres",
          "Mujeres",
          "Mujeres",
          "Mujeres",
          "Mujeres",
          "Mujeres",
          "Mujeres",
          "Mujeres",
          "Mujeres",
          "Mujeres",
          "Mujeres",
          "Mujeres",
          "Mujeres",
          "Mujeres",
          "Mujeres",
          "Mujeres",
          "Mujeres",
          "Mujeres",
          "Mujeres",
          "Mujeres",
          "Mujeres",
          "Mujeres",
          "Mujeres",
          "Mujeres",
          "Mujeres",
          "Mujeres",
          "Mujeres",
          "Mujeres",
          "Mujeres",
          "Mujeres",
          "Mujeres",
          "Mujeres",
          "Mujeres",
          "Mujeres",
          "Mujeres",
          "Mujeres",
          "Mujeres",
          "Mujeres",
          "Mujeres",
          "Mujeres",
          "Mujeres",
          "Mujeres",
          "Mujeres",
          "Mujeres",
          "Mujeres",
          "Mujeres",
          "Mujeres",
          "Mujeres",
          "Mujeres",
          "Mujeres",
          "Mujeres",
          "Mujeres",
          "Mujeres",
          "Mujeres",
          "Mujeres",
          "Mujeres",
          "Mujeres",
          "Mujeres",
          "Mujeres",
          "Mujeres",
          "Mujeres",
          "Mujeres",
          "Mujeres",
          "Mujeres",
          "Mujeres",
          "Mujeres",
          "Mujeres",
          "Mujeres",
          "Mujeres",
          "Mujeres",
          "Mujeres",
          "Mujeres",
          "Mujeres",
          "Mujeres",
          "Mujeres",
          "Mujeres",
          "Mujeres",
          "Mujeres",
          "Mujeres",
          "Mujeres",
          "Mujeres",
          "Mujeres",
          "Mujeres",
          "Mujeres",
          "Mujeres",
          "Mujeres",
          "Mujeres",
          "Mujeres",
          "Mujeres",
          "Mujeres",
          "Mujeres",
          "Mujeres",
          "Mujeres",
          "Mujeres",
          "Mujeres",
          "Mujeres",
          "Mujeres",
          "Mujeres",
          "Mujeres",
          "Mujeres",
          "Mujeres",
          "Mujeres",
          "Mujeres",
          "Mujeres",
          "Mujeres",
          "Mujeres",
          "Mujeres",
          "Mujeres",
          "Mujeres",
          "Mujeres",
          "Mujeres",
          "Mujeres",
          "Mujeres",
          "Mujeres",
          "Mujeres",
          "Mujeres",
          "Mujeres",
          "Mujeres",
          "Mujeres",
          "Mujeres",
          "Mujeres",
          "Mujeres",
          "Mujeres",
          "Mujeres",
          "Mujeres",
          "Mujeres",
          "Mujeres",
          "Mujeres",
          "Mujeres",
          "Mujeres",
          "Mujeres",
          "Mujeres",
          "Mujeres",
          "Mujeres",
          "Mujeres",
          "Mujeres",
          "Mujeres",
          "Mujeres",
          "Mujeres",
          "Mujeres",
          "Mujeres",
          "Mujeres",
          "Mujeres",
          "Mujeres",
          "Mujeres",
          "Mujeres",
          "Mujeres",
          "Mujeres",
          "Mujeres",
          "Mujeres",
          "Mujeres",
          "Mujeres",
          "Mujeres",
          "Mujeres",
          "Mujeres",
          "Mujeres",
          "Mujeres",
          "Mujeres",
          "Mujeres",
          "Mujeres",
          "Mujeres",
          "Mujeres",
          "Mujeres",
          "Mujeres",
          "Mujeres",
          "Mujeres",
          "Mujeres",
          "Mujeres",
          "Mujeres",
          "Mujeres",
          "Mujeres",
          "Mujeres",
          "Mujeres",
          "Mujeres",
          "Mujeres",
          "Mujeres",
          "Mujeres",
          "Mujeres",
          "Mujeres",
          "Mujeres",
          "Mujeres",
          "Mujeres",
          "Mujeres",
          "Mujeres",
          "Mujeres",
          "Mujeres",
          "Mujeres",
          "Mujeres",
          "Mujeres",
          "Mujeres",
          "Mujeres",
          "Mujeres",
          "Mujeres",
          "Mujeres",
          "Mujeres",
          "Mujeres",
          "Mujeres",
          "Mujeres",
          "Mujeres",
          "Mujeres",
          "Mujeres",
          "Mujeres",
          "Mujeres",
          "Mujeres",
          "Mujeres",
          "Mujeres",
          "Mujeres",
          "Mujeres",
          "Mujeres",
          "Mujeres",
          "Mujeres",
          "Mujeres",
          "Mujeres",
          "Mujeres",
          "Mujeres",
          "Mujeres",
          "Mujeres",
          "Mujeres",
          "Mujeres",
          "Mujeres",
          "Mujeres",
          "Mujeres",
          "Mujeres",
          "Mujeres",
          "Mujeres",
          "Mujeres",
          "Mujeres",
          "Mujeres",
          "Mujeres",
          "Mujeres",
          "Mujeres",
          "Mujeres",
          "Mujeres",
          "Mujeres",
          "Mujeres",
          "Mujeres",
          "Mujeres",
          "Mujeres",
          "Mujeres",
          "Mujeres",
          "Mujeres",
          "Mujeres",
          "Mujeres",
          "Mujeres",
          "Mujeres",
          "Mujeres",
          "Mujeres",
          "Mujeres",
          "Mujeres",
          "Mujeres",
          "Mujeres",
          "Mujeres",
          "Mujeres",
          "Mujeres",
          "Mujeres",
          "Mujeres",
          "Mujeres",
          "Mujeres",
          "Mujeres",
          "Mujeres",
          "Mujeres",
          "Mujeres",
          "Mujeres",
          "Mujeres",
          "Mujeres",
          "Mujeres",
          "Mujeres",
          "Mujeres",
          "Mujeres",
          "Mujeres",
          "Mujeres",
          "Mujeres",
          "Mujeres",
          "Mujeres",
          "Mujeres",
          "Mujeres",
          "Mujeres",
          "Mujeres",
          "Mujeres",
          "Mujeres",
          "Mujeres",
          "Mujeres",
          "Mujeres",
          "Mujeres",
          "Mujeres",
          "Mujeres",
          "Mujeres",
          "Mujeres",
          "Mujeres",
          "Mujeres",
          "Mujeres",
          "Mujeres",
          "Mujeres",
          "Mujeres",
          "Mujeres",
          "Mujeres",
          "Mujeres",
          "Mujeres",
          "Mujeres",
          "Mujeres",
          "Mujeres",
          "Mujeres",
          "Mujeres",
          "Mujeres",
          "Mujeres",
          "Mujeres",
          "Mujeres",
          "Mujeres",
          "Mujeres",
          "Mujeres",
          "Mujeres",
          "Mujeres",
          "Mujeres",
          "Mujeres",
          "Mujeres",
          "Mujeres",
          "Mujeres",
          "Mujeres",
          "Mujeres",
          "Mujeres",
          "Mujeres",
          "Mujeres",
          "Mujeres",
          "Mujeres",
          "Mujeres",
          "Mujeres",
          "Mujeres",
          "Mujeres",
          "Mujeres",
          "Mujeres",
          "Mujeres",
          "Mujeres",
          "Mujeres",
          "Mujeres",
          "Mujeres",
          "Mujeres",
          "Mujeres",
          "Mujeres",
          "Mujeres",
          "Mujeres",
          "Mujeres",
          "Mujeres",
          "Mujeres",
          "Mujeres",
          "Mujeres",
          "Mujeres",
          "Mujeres",
          "Mujeres",
          "Mujeres",
          "Mujeres",
          "Mujeres",
          "Mujeres",
          "Mujeres",
          "Mujeres",
          "Mujeres",
          "Mujeres",
          "Mujeres",
          "Mujeres",
          "Mujeres",
          "Mujeres",
          "Mujeres",
          "Mujeres",
          "Mujeres",
          "Mujeres",
          "Mujeres",
          "Mujeres",
          "Mujeres",
          "Mujeres",
          "Mujeres",
          "Mujeres",
          "Mujeres",
          "Mujeres",
          "Mujeres",
          "Mujeres",
          "Mujeres",
          "Mujeres",
          "Mujeres",
          "Mujeres",
          "Mujeres",
          "Mujeres",
          "Mujeres",
          "Mujeres",
          "Mujeres",
          "Mujeres",
          "Mujeres",
          "Mujeres",
          "Mujeres",
          "Mujeres",
          "Mujeres",
          "Mujeres",
          "Mujeres",
          "Mujeres",
          "Mujeres",
          "Mujeres",
          "Mujeres",
          "Mujeres",
          "Mujeres",
          "Mujeres",
          "Mujeres",
          "Mujeres",
          "Mujeres",
          "Mujeres",
          "Mujeres",
          "Mujeres",
          "Mujeres",
          "Mujeres",
          "Mujeres",
          "Mujeres",
          "Mujeres",
          "Mujeres",
          "Mujeres",
          "Mujeres",
          "Mujeres",
          "Mujeres",
          "Mujeres",
          "Mujeres",
          "Mujeres",
          "Mujeres",
          "Mujeres",
          "Mujeres",
          "Mujeres",
          "Mujeres",
          "Mujeres",
          "Mujeres",
          "Mujeres",
          "Mujeres",
          "Mujeres",
          "Mujeres",
          "Mujeres",
          "Mujeres",
          "Mujeres",
          "Mujeres",
          "Mujeres",
          "Mujeres",
          "Mujeres",
          "Mujeres",
          "Mujeres",
          "Mujeres",
          "Mujeres",
          "Mujeres",
          "Mujeres",
          "Mujeres",
          "Mujeres",
          "Mujeres",
          "Mujeres",
          "Mujeres",
          "Mujeres",
          "Mujeres",
          "Mujeres",
          "Mujeres",
          "Mujeres",
          "Mujeres",
          "Mujeres",
          "Mujeres",
          "Mujeres",
          "Mujeres",
          "Mujeres",
          "Mujeres",
          "Mujeres",
          "Mujeres",
          "Mujeres",
          "Mujeres",
          "Mujeres",
          "Mujeres"
         ],
         "legendgroup": "",
         "marker": {
          "colors": [
           "grey",
           "grey",
           "grey",
           "grey",
           "grey",
           "grey",
           "grey",
           "grey",
           "grey",
           "grey",
           "grey",
           "grey",
           "grey",
           "grey",
           "grey",
           "grey",
           "grey",
           "grey",
           "grey",
           "grey",
           "grey",
           "grey",
           "grey",
           "grey",
           "grey",
           "grey",
           "grey",
           "grey",
           "grey",
           "grey",
           "grey",
           "grey",
           "grey",
           "grey",
           "grey",
           "grey",
           "grey",
           "grey",
           "grey",
           "grey",
           "grey",
           "grey",
           "grey",
           "grey",
           "grey",
           "grey",
           "grey",
           "grey",
           "grey",
           "grey",
           "grey",
           "grey",
           "grey",
           "grey",
           "grey",
           "grey",
           "grey",
           "grey",
           "grey",
           "grey",
           "grey",
           "grey",
           "grey",
           "grey",
           "grey",
           "grey",
           "grey",
           "grey",
           "grey",
           "grey",
           "grey",
           "grey",
           "grey",
           "grey",
           "grey",
           "grey",
           "grey",
           "grey",
           "grey",
           "grey",
           "grey",
           "grey",
           "grey",
           "grey",
           "grey",
           "grey",
           "grey",
           "grey",
           "grey",
           "grey",
           "grey",
           "grey",
           "grey",
           "grey",
           "grey",
           "grey",
           "grey",
           "grey",
           "grey",
           "grey",
           "grey",
           "grey",
           "grey",
           "grey",
           "grey",
           "grey",
           "grey",
           "grey",
           "grey",
           "grey",
           "grey",
           "grey",
           "grey",
           "grey",
           "grey",
           "grey",
           "grey",
           "grey",
           "grey",
           "grey",
           "grey",
           "grey",
           "grey",
           "grey",
           "grey",
           "grey",
           "grey",
           "grey",
           "grey",
           "grey",
           "grey",
           "grey",
           "grey",
           "grey",
           "grey",
           "grey",
           "grey",
           "grey",
           "grey",
           "grey",
           "grey",
           "grey",
           "grey",
           "grey",
           "grey",
           "grey",
           "grey",
           "grey",
           "grey",
           "grey",
           "grey",
           "grey",
           "grey",
           "grey",
           "grey",
           "grey",
           "grey",
           "grey",
           "grey",
           "grey",
           "grey",
           "grey",
           "grey",
           "grey",
           "grey",
           "grey",
           "grey",
           "grey",
           "grey",
           "grey",
           "grey",
           "grey",
           "grey",
           "grey",
           "grey",
           "grey",
           "grey",
           "grey",
           "grey",
           "grey",
           "grey",
           "grey",
           "grey",
           "grey",
           "grey",
           "grey",
           "grey",
           "grey",
           "grey",
           "grey",
           "grey",
           "grey",
           "grey",
           "grey",
           "grey",
           "grey",
           "grey",
           "grey",
           "grey",
           "grey",
           "grey",
           "grey",
           "grey",
           "grey",
           "grey",
           "grey",
           "grey",
           "grey",
           "grey",
           "grey",
           "grey",
           "grey",
           "grey",
           "grey",
           "grey",
           "grey",
           "grey",
           "grey",
           "grey",
           "grey",
           "grey",
           "grey",
           "grey",
           "grey",
           "grey",
           "grey",
           "grey",
           "grey",
           "grey",
           "grey",
           "grey",
           "grey",
           "grey",
           "grey",
           "grey",
           "grey",
           "grey",
           "grey",
           "grey",
           "grey",
           "grey",
           "grey",
           "grey",
           "grey",
           "grey",
           "grey",
           "grey",
           "grey",
           "grey",
           "grey",
           "grey",
           "grey",
           "grey",
           "grey",
           "grey",
           "grey",
           "grey",
           "grey",
           "grey",
           "grey",
           "grey",
           "grey",
           "grey",
           "grey",
           "grey",
           "grey",
           "grey",
           "grey",
           "grey",
           "grey",
           "grey",
           "grey",
           "grey",
           "grey",
           "grey",
           "grey",
           "grey",
           "grey",
           "grey",
           "grey",
           "grey",
           "grey",
           "grey",
           "grey",
           "grey",
           "grey",
           "grey",
           "grey",
           "grey",
           "grey",
           "grey",
           "grey",
           "grey",
           "grey",
           "grey",
           "grey",
           "grey",
           "grey",
           "grey",
           "grey",
           "grey",
           "grey",
           "grey",
           "grey",
           "grey",
           "grey",
           "grey",
           "grey",
           "grey",
           "grey",
           "grey",
           "grey",
           "grey",
           "grey",
           "grey",
           "grey",
           "grey",
           "grey",
           "grey",
           "grey",
           "grey",
           "grey",
           "grey",
           "grey",
           "grey",
           "grey",
           "grey",
           "grey",
           "grey",
           "grey",
           "grey",
           "grey",
           "grey",
           "grey",
           "grey",
           "grey",
           "grey",
           "grey",
           "grey",
           "grey",
           "grey",
           "grey",
           "grey",
           "grey",
           "grey",
           "grey",
           "grey",
           "grey",
           "grey",
           "grey",
           "grey",
           "grey",
           "grey",
           "grey",
           "grey",
           "grey",
           "grey",
           "grey",
           "grey",
           "grey",
           "grey",
           "grey",
           "grey",
           "grey",
           "grey",
           "grey",
           "grey",
           "grey",
           "grey",
           "grey",
           "grey",
           "grey",
           "grey",
           "grey",
           "grey",
           "grey",
           "grey",
           "grey",
           "grey",
           "grey",
           "grey",
           "grey",
           "grey",
           "grey",
           "grey",
           "grey",
           "grey",
           "grey",
           "grey",
           "grey",
           "grey",
           "grey",
           "grey",
           "grey",
           "grey",
           "grey",
           "grey",
           "grey",
           "grey",
           "grey",
           "grey",
           "grey",
           "grey",
           "grey",
           "grey",
           "grey",
           "grey",
           "grey",
           "grey",
           "grey",
           "grey",
           "grey",
           "grey",
           "grey",
           "grey",
           "grey",
           "grey",
           "grey",
           "grey",
           "grey",
           "grey",
           "grey",
           "grey",
           "grey",
           "grey",
           "grey",
           "grey",
           "grey",
           "grey",
           "grey",
           "grey",
           "grey",
           "grey",
           "grey",
           "grey",
           "grey",
           "grey",
           "grey",
           "grey",
           "grey",
           "grey",
           "grey",
           "grey",
           "grey",
           "grey",
           "grey",
           "grey",
           "grey",
           "grey",
           "grey",
           "grey",
           "grey",
           "grey",
           "grey",
           "grey",
           "grey",
           "grey",
           "grey",
           "grey",
           "grey",
           "grey",
           "grey",
           "grey",
           "grey",
           "grey",
           "grey",
           "grey",
           "grey",
           "grey",
           "grey",
           "grey",
           "grey",
           "grey",
           "grey",
           "grey",
           "grey",
           "grey",
           "grey",
           "grey",
           "grey",
           "grey",
           "grey",
           "grey",
           "grey",
           "grey",
           "grey",
           "grey",
           "grey",
           "grey",
           "grey",
           "grey",
           "grey",
           "grey",
           "grey",
           "grey",
           "grey",
           "grey",
           "grey",
           "grey",
           "grey",
           "grey",
           "grey",
           "grey",
           "grey",
           "grey",
           "grey",
           "grey",
           "grey",
           "grey",
           "grey",
           "grey",
           "grey",
           "grey",
           "grey",
           "grey",
           "grey",
           "grey",
           "grey",
           "grey",
           "grey",
           "grey",
           "grey",
           "grey",
           "grey",
           "grey",
           "grey",
           "grey",
           "grey",
           "grey",
           "grey",
           "grey",
           "grey",
           "grey",
           "grey",
           "grey",
           "grey",
           "grey",
           "grey",
           "grey",
           "grey",
           "grey",
           "grey",
           "grey",
           "grey",
           "grey",
           "grey",
           "grey",
           "grey",
           "grey",
           "grey",
           "grey",
           "grey",
           "grey",
           "grey",
           "grey",
           "grey",
           "grey",
           "grey",
           "grey",
           "grey",
           "grey",
           "grey",
           "grey",
           "grey",
           "grey",
           "grey",
           "grey",
           "grey",
           "grey",
           "grey",
           "grey",
           "grey",
           "grey",
           "grey",
           "grey",
           "grey",
           "grey",
           "grey",
           "grey",
           "grey",
           "grey",
           "grey",
           "grey",
           "grey",
           "grey",
           "grey",
           "grey",
           "grey",
           "grey",
           "grey",
           "grey",
           "grey",
           "grey",
           "grey",
           "grey",
           "grey",
           "grey",
           "grey",
           "grey",
           "grey",
           "grey",
           "grey",
           "grey",
           "grey",
           "grey",
           "grey",
           "grey",
           "grey",
           "grey",
           "grey",
           "grey",
           "grey",
           "grey",
           "grey",
           "grey",
           "grey",
           "grey",
           "grey",
           "grey",
           "grey",
           "grey",
           "grey",
           "grey",
           "grey",
           "grey",
           "grey",
           "grey",
           "grey",
           "grey",
           "grey",
           "grey",
           "grey",
           "grey",
           "grey",
           "grey",
           "grey",
           "grey",
           "grey",
           "grey",
           "grey",
           "grey",
           "grey",
           "grey",
           "grey",
           "grey",
           "grey",
           "grey",
           "grey",
           "grey",
           "grey",
           "grey",
           "grey",
           "grey",
           "grey",
           "grey",
           "grey",
           "grey",
           "grey",
           "grey",
           "grey",
           "grey",
           "grey",
           "grey",
           "grey",
           "grey",
           "grey",
           "grey",
           "grey",
           "grey",
           "grey",
           "grey",
           "grey",
           "grey",
           "grey",
           "grey",
           "grey",
           "grey",
           "grey",
           "grey",
           "grey",
           "grey",
           "grey",
           "grey",
           "grey",
           "grey",
           "grey",
           "grey",
           "grey",
           "grey",
           "grey",
           "grey",
           "grey",
           "grey",
           "grey",
           "grey",
           "grey",
           "grey",
           "grey",
           "grey",
           "grey",
           "grey",
           "grey",
           "grey",
           "grey",
           "grey",
           "grey",
           "grey",
           "grey",
           "grey",
           "grey",
           "grey",
           "grey",
           "grey",
           "grey",
           "grey",
           "grey",
           "grey",
           "grey",
           "grey",
           "grey",
           "grey",
           "grey",
           "grey",
           "grey",
           "grey",
           "grey",
           "grey",
           "grey",
           "grey",
           "grey",
           "grey",
           "grey",
           "grey",
           "grey",
           "grey",
           "grey",
           "grey",
           "grey",
           "grey",
           "grey",
           "grey",
           "grey",
           "grey",
           "grey",
           "grey",
           "grey",
           "grey",
           "grey",
           "grey",
           "grey",
           "grey",
           "grey",
           "grey",
           "grey",
           "grey",
           "grey",
           "grey",
           "grey",
           "grey",
           "grey",
           "grey",
           "grey",
           "grey",
           "grey",
           "grey",
           "grey",
           "grey",
           "grey",
           "grey",
           "grey",
           "grey",
           "grey",
           "grey",
           "grey",
           "grey",
           "grey",
           "grey",
           "grey",
           "grey",
           "grey",
           "grey",
           "grey",
           "grey",
           "grey",
           "grey",
           "grey",
           "grey",
           "grey",
           "grey",
           "grey",
           "grey",
           "grey",
           "grey",
           "grey",
           "grey",
           "grey",
           "grey",
           "grey",
           "grey",
           "grey",
           "grey",
           "grey",
           "grey",
           "grey",
           "grey",
           "grey",
           "grey",
           "grey",
           "grey",
           "grey",
           "grey",
           "grey",
           "grey",
           "grey",
           "grey",
           "grey",
           "grey",
           "grey",
           "grey",
           "gold",
           "gold",
           "gold",
           "gold",
           "gold",
           "gold",
           "gold",
           "gold",
           "gold",
           "gold",
           "gold",
           "gold",
           "gold",
           "gold",
           "gold",
           "gold",
           "gold",
           "gold",
           "gold",
           "gold",
           "gold",
           "gold",
           "gold",
           "gold",
           "gold",
           "gold",
           "gold",
           "gold",
           "gold",
           "gold",
           "gold",
           "gold",
           "gold",
           "gold",
           "gold",
           "gold",
           "gold",
           "gold",
           "gold",
           "gold",
           "gold",
           "gold",
           "gold",
           "gold",
           "gold",
           "gold",
           "gold",
           "gold",
           "gold",
           "gold",
           "gold",
           "gold",
           "gold",
           "gold",
           "gold",
           "gold",
           "gold",
           "gold",
           "gold",
           "gold",
           "gold",
           "gold",
           "gold",
           "gold",
           "gold",
           "gold",
           "gold",
           "gold",
           "gold",
           "gold",
           "gold",
           "gold",
           "gold",
           "gold",
           "gold",
           "gold",
           "gold",
           "gold",
           "gold",
           "gold",
           "gold",
           "gold",
           "gold",
           "gold",
           "gold",
           "gold",
           "gold",
           "gold",
           "gold",
           "gold",
           "gold",
           "gold",
           "gold",
           "gold",
           "gold",
           "gold",
           "gold",
           "gold",
           "gold",
           "gold",
           "gold",
           "gold",
           "gold",
           "gold",
           "gold",
           "gold",
           "gold",
           "gold",
           "gold",
           "gold",
           "gold",
           "gold",
           "gold",
           "gold",
           "gold",
           "gold",
           "gold",
           "gold",
           "gold",
           "gold",
           "gold",
           "gold",
           "gold",
           "gold",
           "gold",
           "gold",
           "gold",
           "gold",
           "gold",
           "gold",
           "gold",
           "gold",
           "gold",
           "gold",
           "gold",
           "gold",
           "gold",
           "gold",
           "gold",
           "gold",
           "gold",
           "gold",
           "gold",
           "gold",
           "gold",
           "gold",
           "gold",
           "gold",
           "gold",
           "gold",
           "gold",
           "gold",
           "gold",
           "gold",
           "gold",
           "gold",
           "gold",
           "gold",
           "gold",
           "gold",
           "gold",
           "gold",
           "gold",
           "gold",
           "gold",
           "gold",
           "gold",
           "gold",
           "gold",
           "gold",
           "gold",
           "gold",
           "gold",
           "gold",
           "gold",
           "gold",
           "gold",
           "gold",
           "gold",
           "gold",
           "gold",
           "gold",
           "gold",
           "gold",
           "gold",
           "gold",
           "gold",
           "gold",
           "gold",
           "gold",
           "gold",
           "gold",
           "gold",
           "gold",
           "gold",
           "gold",
           "gold",
           "gold",
           "gold",
           "gold",
           "gold",
           "gold",
           "gold",
           "gold",
           "gold",
           "gold",
           "gold",
           "gold",
           "gold",
           "gold",
           "gold",
           "gold",
           "gold",
           "gold",
           "gold",
           "gold",
           "gold",
           "gold",
           "gold",
           "gold",
           "gold",
           "gold",
           "gold",
           "gold",
           "gold",
           "gold",
           "gold",
           "gold",
           "gold",
           "gold",
           "gold",
           "gold",
           "gold",
           "gold",
           "gold",
           "gold",
           "gold",
           "gold",
           "gold",
           "gold",
           "gold",
           "gold",
           "gold",
           "gold",
           "gold",
           "gold",
           "gold",
           "gold",
           "gold",
           "gold",
           "gold",
           "gold",
           "gold",
           "gold",
           "gold",
           "gold",
           "gold",
           "gold",
           "gold",
           "gold",
           "gold",
           "gold",
           "gold",
           "gold",
           "gold",
           "gold",
           "gold",
           "gold",
           "gold",
           "gold",
           "gold",
           "gold",
           "gold",
           "gold",
           "gold",
           "gold",
           "gold",
           "gold",
           "gold",
           "gold",
           "gold",
           "gold",
           "gold",
           "gold",
           "gold",
           "gold",
           "gold",
           "gold",
           "gold",
           "gold",
           "gold",
           "gold",
           "gold",
           "gold",
           "gold",
           "gold",
           "gold",
           "gold",
           "gold",
           "gold",
           "gold",
           "gold",
           "gold",
           "gold",
           "gold",
           "gold",
           "gold",
           "gold",
           "gold",
           "gold",
           "gold",
           "gold",
           "gold",
           "gold",
           "gold",
           "gold",
           "gold",
           "gold",
           "gold",
           "gold",
           "gold",
           "gold",
           "gold",
           "gold",
           "gold",
           "gold",
           "gold",
           "gold",
           "gold",
           "gold",
           "gold",
           "gold",
           "gold",
           "gold",
           "gold",
           "gold",
           "gold",
           "gold",
           "gold",
           "gold",
           "gold",
           "gold",
           "gold",
           "gold",
           "gold",
           "gold",
           "gold",
           "gold",
           "gold",
           "gold",
           "gold",
           "gold",
           "gold",
           "gold",
           "gold",
           "gold",
           "gold",
           "gold",
           "gold",
           "gold",
           "gold",
           "gold",
           "gold",
           "gold",
           "gold",
           "gold",
           "gold",
           "gold",
           "gold",
           "gold",
           "gold",
           "gold",
           "gold",
           "gold",
           "gold",
           "gold",
           "gold",
           "gold",
           "gold",
           "gold",
           "gold",
           "gold",
           "gold",
           "gold",
           "gold",
           "gold",
           "gold",
           "gold",
           "gold",
           "gold",
           "gold",
           "gold",
           "gold",
           "gold",
           "gold",
           "gold",
           "gold",
           "gold",
           "gold",
           "gold",
           "gold",
           "gold",
           "gold",
           "gold",
           "gold",
           "gold",
           "gold",
           "gold",
           "gold",
           "gold",
           "gold",
           "gold",
           "gold",
           "gold",
           "gold",
           "gold",
           "gold",
           "gold",
           "gold",
           "gold",
           "gold",
           "gold",
           "gold",
           "gold",
           "gold",
           "gold",
           "gold",
           "gold",
           "gold",
           "gold",
           "gold",
           "gold",
           "gold",
           "gold",
           "gold",
           "gold",
           "gold",
           "gold",
           "gold",
           "gold",
           "gold",
           "gold",
           "gold",
           "gold",
           "gold",
           "gold",
           "gold",
           "gold",
           "gold",
           "gold",
           "gold",
           "gold",
           "gold",
           "gold",
           "gold",
           "gold",
           "gold",
           "gold",
           "gold",
           "gold",
           "gold",
           "gold",
           "gold",
           "gold",
           "gold",
           "gold",
           "gold",
           "gold",
           "gold",
           "gold",
           "gold",
           "gold",
           "gold",
           "gold",
           "gold",
           "gold",
           "gold",
           "gold",
           "gold",
           "gold",
           "gold",
           "gold",
           "gold",
           "gold",
           "gold",
           "gold",
           "gold",
           "gold",
           "gold",
           "gold",
           "gold",
           "gold",
           "gold",
           "gold",
           "gold",
           "gold",
           "gold",
           "gold",
           "gold",
           "gold",
           "gold",
           "gold",
           "gold",
           "gold",
           "gold",
           "gold",
           "gold",
           "gold",
           "gold",
           "gold",
           "gold",
           "gold",
           "gold",
           "gold",
           "gold",
           "gold",
           "gold",
           "gold",
           "gold",
           "gold",
           "gold",
           "gold",
           "gold",
           "gold",
           "gold",
           "gold",
           "gold",
           "gold",
           "gold",
           "gold",
           "gold",
           "gold",
           "gold",
           "gold",
           "gold",
           "gold",
           "gold",
           "gold",
           "gold",
           "gold",
           "gold",
           "gold",
           "gold",
           "gold",
           "gold",
           "gold",
           "gold",
           "gold",
           "gold",
           "gold",
           "gold",
           "gold",
           "gold",
           "gold",
           "gold",
           "gold",
           "gold",
           "gold",
           "gold",
           "gold",
           "gold",
           "gold",
           "gold",
           "gold",
           "gold",
           "gold",
           "gold",
           "gold",
           "gold",
           "gold",
           "gold",
           "gold",
           "gold",
           "gold",
           "gold",
           "gold",
           "gold",
           "gold",
           "gold",
           "gold",
           "gold",
           "gold",
           "gold",
           "gold",
           "gold",
           "gold",
           "gold",
           "gold",
           "gold",
           "gold",
           "gold",
           "gold",
           "gold",
           "gold",
           "gold",
           "gold",
           "gold",
           "gold",
           "gold",
           "gold",
           "gold",
           "gold",
           "gold",
           "gold",
           "gold",
           "gold",
           "gold",
           "gold",
           "gold",
           "gold",
           "gold",
           "gold",
           "gold",
           "gold",
           "gold",
           "gold",
           "gold",
           "gold",
           "gold",
           "gold",
           "gold",
           "gold",
           "gold",
           "gold",
           "gold",
           "gold",
           "gold",
           "gold",
           "gold",
           "gold",
           "gold",
           "gold",
           "gold",
           "gold",
           "gold",
           "gold",
           "gold",
           "gold",
           "gold",
           "gold",
           "gold",
           "gold",
           "gold",
           "gold",
           "gold",
           "gold",
           "gold",
           "gold",
           "gold",
           "gold",
           "gold",
           "gold",
           "gold",
           "gold",
           "gold",
           "gold",
           "gold",
           "gold",
           "gold",
           "gold",
           "gold",
           "gold",
           "gold",
           "gold",
           "gold",
           "gold",
           "gold",
           "gold",
           "gold",
           "gold",
           "gold",
           "gold",
           "gold",
           "gold",
           "gold",
           "gold",
           "gold",
           "gold",
           "gold",
           "gold",
           "gold",
           "gold",
           "gold",
           "gold",
           "gold",
           "gold",
           "gold",
           "gold",
           "gold",
           "gold",
           "gold",
           "gold",
           "gold",
           "gold",
           "gold",
           "gold",
           "gold",
           "gold",
           "gold",
           "gold",
           "gold",
           "gold",
           "gold",
           "gold",
           "gold",
           "gold",
           "gold",
           "gold",
           "gold",
           "gold",
           "gold",
           "gold",
           "gold",
           "gold",
           "gold",
           "gold",
           "gold",
           "gold",
           "gold",
           "gold",
           "gold",
           "gold",
           "gold",
           "gold",
           "gold",
           "gold",
           "gold",
           "gold",
           "gold",
           "gold",
           "gold",
           "gold",
           "gold",
           "gold",
           "gold",
           "gold",
           "gold",
           "gold",
           "gold",
           "gold",
           "gold",
           "gold",
           "gold",
           "gold",
           "gold",
           "gold",
           "gold",
           "gold",
           "gold",
           "gold",
           "gold",
           "gold",
           "gold",
           "gold",
           "gold",
           "gold",
           "gold",
           "gold",
           "gold",
           "gold",
           "gold",
           "gold",
           "gold",
           "gold",
           "gold",
           "gold",
           "gold",
           "gold",
           "gold",
           "gold",
           "gold",
           "gold",
           "gold",
           "gold",
           "gold",
           "gold",
           "gold",
           "gold",
           "gold",
           "gold",
           "gold",
           "gold",
           "gold",
           "gold",
           "gold",
           "gold",
           "gold",
           "gold",
           "gold",
           "gold",
           "gold",
           "gold",
           "gold",
           "gold",
           "gold",
           "gold",
           "gold",
           "gold",
           "gold",
           "gold",
           "gold",
           "gold",
           "gold",
           "gold",
           "gold",
           "gold",
           "gold",
           "gold",
           "gold",
           "gold",
           "gold",
           "gold",
           "gold",
           "gold",
           "gold",
           "gold",
           "gold",
           "gold",
           "gold"
          ]
         },
         "name": "",
         "showlegend": true,
         "textposition": "none",
         "type": "pie",
         "values": [
          0,
          0,
          0,
          0,
          0,
          0,
          0,
          0,
          0,
          0,
          0,
          0,
          0,
          0,
          0,
          0,
          0,
          0,
          0,
          0,
          0,
          0,
          0,
          0,
          0,
          0,
          0,
          0,
          0,
          0,
          0,
          0,
          0,
          0,
          0,
          0,
          0,
          0,
          0,
          0,
          0,
          0,
          0,
          0,
          0,
          0,
          0,
          0,
          0,
          0,
          0,
          0,
          0,
          0,
          0,
          0,
          0,
          0,
          0,
          0,
          0,
          0,
          0,
          0,
          0,
          0,
          0,
          0,
          0,
          0,
          0,
          0,
          0,
          0,
          0,
          0,
          0,
          0,
          0,
          0,
          0,
          0,
          0,
          0,
          0,
          0,
          0,
          0,
          0,
          0,
          0,
          0,
          0,
          0,
          0,
          0,
          0,
          0,
          0,
          0,
          0,
          0,
          0,
          1,
          0,
          1,
          0,
          0,
          1,
          0,
          1,
          1,
          0,
          1,
          1,
          2,
          0,
          4,
          6,
          8,
          7,
          4,
          6,
          4,
          1,
          3,
          7,
          2,
          7,
          2,
          4,
          11,
          2,
          7,
          7,
          6,
          2,
          4,
          9,
          5,
          8,
          10,
          15,
          6,
          19,
          19,
          18,
          20,
          17,
          19,
          7,
          14,
          11,
          11,
          15,
          6,
          52,
          33,
          37,
          39,
          38,
          40,
          36,
          33,
          22,
          41,
          30,
          22,
          37,
          52,
          35,
          47,
          46,
          37,
          71,
          68,
          62,
          81,
          81,
          100,
          70,
          71,
          71,
          80,
          82,
          81,
          101,
          78,
          82,
          60,
          77,
          51,
          56,
          51,
          41,
          68,
          66,
          68,
          70,
          98,
          91,
          84,
          60,
          77,
          98,
          108,
          92,
          116,
          112,
          140,
          144,
          150,
          157,
          158,
          150,
          187,
          176,
          197,
          187,
          183,
          175,
          154,
          158,
          158,
          203,
          183,
          138,
          145,
          116,
          119,
          123,
          84,
          108,
          93,
          83,
          105,
          75,
          109,
          103,
          94,
          119,
          110,
          97,
          165,
          170,
          156,
          150,
          179,
          219,
          177,
          193,
          186,
          225,
          170,
          241,
          234,
          196,
          200,
          209,
          198,
          179,
          183,
          185,
          161,
          183,
          149,
          142,
          125,
          125,
          93,
          96,
          74,
          78,
          133,
          144,
          143,
          132,
          165,
          166,
          199,
          172,
          175,
          179,
          209,
          176,
          218,
          223,
          202,
          282,
          221,
          221,
          175,
          197,
          202,
          187,
          210,
          198,
          209,
          179,
          159,
          143,
          140,
          155,
          120,
          128,
          123,
          94,
          85,
          91,
          82,
          65,
          76,
          176,
          210,
          203,
          200,
          210,
          229,
          226,
          211,
          228,
          221,
          246,
          224,
          228,
          225,
          243,
          230,
          213,
          209,
          221,
          192,
          181,
          206,
          181,
          167,
          168,
          133,
          127,
          136,
          120,
          119,
          116,
          92,
          108,
          103,
          102,
          86,
          66,
          78,
          76,
          236,
          246,
          275,
          259,
          293,
          285,
          274,
          268,
          262,
          244,
          262,
          242,
          219,
          249,
          230,
          197,
          176,
          193,
          193,
          169,
          162,
          157,
          147,
          140,
          139,
          152,
          100,
          102,
          114,
          130,
          125,
          110,
          103,
          110,
          108,
          67,
          82,
          77,
          63,
          298,
          291,
          266,
          276,
          337,
          319,
          269,
          229,
          238,
          264,
          239,
          208,
          217,
          185,
          219,
          184,
          177,
          148,
          173,
          169,
          149,
          164,
          164,
          157,
          161,
          151,
          132,
          122,
          117,
          143,
          127,
          105,
          145,
          116,
          133,
          120,
          101,
          101,
          101,
          280,
          305,
          288,
          279,
          344,
          340,
          247,
          234,
          243,
          216,
          225,
          167,
          158,
          170,
          195,
          188,
          185,
          152,
          155,
          159,
          158,
          146,
          151,
          136,
          160,
          152,
          131,
          113,
          130,
          165,
          169,
          172,
          182,
          168,
          199,
          158,
          129,
          116,
          120,
          275,
          254,
          242,
          251,
          236,
          237,
          228,
          180,
          179,
          196,
          199,
          165,
          171,
          157,
          146,
          164,
          181,
          137,
          149,
          131,
          132,
          157,
          164,
          127,
          188,
          173,
          162,
          198,
          174,
          175,
          170,
          182,
          214,
          199,
          171,
          163,
          129,
          148,
          115,
          196,
          170,
          191,
          176,
          190,
          205,
          179,
          146,
          168,
          192,
          163,
          153,
          171,
          145,
          142,
          142,
          128,
          149,
          155,
          145,
          175,
          181,
          167,
          185,
          174,
          186,
          187,
          182,
          174,
          161,
          183,
          194,
          179,
          176,
          189,
          145,
          132,
          103,
          92,
          164,
          162,
          175,
          166,
          175,
          187,
          133,
          139,
          147,
          147,
          167,
          145,
          139,
          156,
          159,
          166,
          188,
          198,
          201,
          205,
          189,
          180,
          199,
          183,
          180,
          172,
          161,
          197,
          170,
          180,
          154,
          162,
          137,
          110,
          114,
          106,
          75,
          71,
          103,
          160,
          166,
          154,
          143,
          158,
          182,
          155,
          138,
          141,
          179,
          172,
          170,
          195,
          205,
          212,
          204,
          191,
          174,
          205,
          200,
          206,
          184,
          186,
          223,
          197,
          159,
          145,
          155,
          148,
          163,
          144,
          155,
          147,
          139,
          143,
          121,
          103,
          85,
          111,
          129,
          145,
          178,
          178,
          194,
          181,
          213,
          216,
          177,
          221,
          191,
          200,
          187,
          209,
          207,
          214,
          215,
          197,
          196,
          173,
          192,
          187,
          154,
          141,
          155,
          133,
          165,
          161,
          177,
          152,
          163,
          156,
          149,
          137,
          132,
          132,
          102,
          87,
          76,
          167,
          204,
          181,
          205,
          184,
          203,
          201,
          172,
          158,
          147,
          170,
          179,
          180,
          165,
          157,
          179,
          149,
          121,
          152,
          156,
          140,
          129,
          126,
          140,
          129,
          122,
          136,
          112,
          142,
          141,
          117,
          118,
          98,
          114,
          84,
          86,
          50,
          54,
          62,
          134,
          143,
          106,
          131,
          152,
          106,
          104,
          92,
          109,
          111,
          84,
          122,
          83,
          85,
          88,
          96,
          91,
          110,
          102,
          86,
          85,
          103,
          96,
          79,
          67,
          85,
          74,
          55,
          64,
          51,
          62,
          48,
          45,
          41,
          30,
          29,
          29,
          20,
          18,
          56,
          56,
          60,
          50,
          50,
          35,
          43,
          31,
          38,
          34,
          31,
          28,
          32,
          43,
          35,
          22,
          34,
          27,
          34,
          33,
          30,
          40,
          22,
          33,
          27,
          24,
          10,
          19,
          18,
          13,
          7,
          12,
          12,
          13,
          9,
          8,
          7,
          10,
          6,
          8,
          12,
          12,
          9,
          7,
          5,
          10,
          3,
          6,
          4,
          8,
          7,
          9,
          6,
          11,
          12,
          9,
          7,
          3,
          5,
          4,
          5,
          5,
          4,
          3,
          2,
          5,
          3,
          3,
          2,
          5,
          1,
          1,
          0,
          2,
          2,
          1,
          3,
          0,
          0,
          0,
          0,
          0,
          0,
          0,
          0,
          0,
          0,
          0,
          0,
          0,
          0,
          0,
          0,
          0,
          0,
          0,
          0,
          0,
          0,
          0,
          0,
          0,
          0,
          0,
          0,
          0,
          0,
          0,
          0,
          0,
          0,
          0,
          0,
          0,
          0,
          0,
          0,
          0,
          0,
          0,
          0,
          0,
          0,
          0,
          0,
          0,
          0,
          0,
          0,
          0,
          0,
          0,
          0,
          0,
          0,
          0,
          0,
          0,
          0,
          0,
          0,
          0,
          0,
          0,
          0,
          0,
          0,
          0,
          0,
          0,
          0,
          0,
          0,
          0,
          0,
          0,
          0,
          0,
          0,
          0,
          0,
          0,
          0,
          0,
          0,
          0,
          0,
          0,
          0,
          1,
          0,
          0,
          0,
          0,
          0,
          0,
          0,
          0,
          1,
          0,
          0,
          0,
          0,
          0,
          0,
          0,
          0,
          0,
          0,
          0,
          0,
          0,
          0,
          0,
          0,
          3,
          7,
          4,
          1,
          6,
          3,
          1,
          1,
          0,
          1,
          2,
          5,
          3,
          2,
          1,
          1,
          1,
          4,
          3,
          0,
          4,
          5,
          7,
          1,
          2,
          2,
          3,
          5,
          6,
          6,
          1,
          2,
          9,
          1,
          4,
          3,
          2,
          3,
          1,
          18,
          17,
          21,
          19,
          21,
          17,
          16,
          12,
          6,
          6,
          11,
          9,
          13,
          14,
          19,
          16,
          20,
          12,
          18,
          25,
          16,
          29,
          25,
          21,
          20,
          21,
          15,
          23,
          20,
          26,
          17,
          24,
          24,
          15,
          18,
          20,
          16,
          13,
          13,
          22,
          16,
          20,
          28,
          29,
          28,
          18,
          9,
          17,
          26,
          19,
          21,
          25,
          24,
          37,
          40,
          26,
          28,
          25,
          36,
          28,
          41,
          45,
          44,
          36,
          32,
          27,
          48,
          34,
          34,
          42,
          44,
          30,
          28,
          32,
          25,
          28,
          25,
          20,
          25,
          36,
          26,
          31,
          30,
          31,
          32,
          20,
          20,
          34,
          42,
          31,
          33,
          55,
          35,
          41,
          47,
          35,
          48,
          29,
          54,
          40,
          66,
          40,
          32,
          44,
          38,
          42,
          55,
          43,
          31,
          47,
          37,
          28,
          31,
          27,
          24,
          24,
          15,
          33,
          31,
          38,
          35,
          56,
          48,
          42,
          50,
          39,
          46,
          45,
          66,
          54,
          62,
          54,
          52,
          56,
          58,
          59,
          35,
          45,
          47,
          44,
          29,
          48,
          48,
          28,
          40,
          35,
          34,
          48,
          43,
          38,
          31,
          26,
          31,
          18,
          16,
          17,
          54,
          67,
          72,
          60,
          73,
          75,
          81,
          63,
          58,
          73,
          63,
          72,
          58,
          66,
          64,
          57,
          56,
          62,
          47,
          45,
          48,
          54,
          54,
          53,
          56,
          43,
          48,
          32,
          39,
          30,
          46,
          36,
          30,
          34,
          33,
          19,
          25,
          18,
          21,
          79,
          98,
          80,
          96,
          93,
          94,
          90,
          75,
          83,
          76,
          79,
          67,
          56,
          49,
          66,
          72,
          66,
          60,
          53,
          51,
          59,
          43,
          59,
          41,
          25,
          37,
          41,
          25,
          40,
          26,
          37,
          42,
          29,
          33,
          23,
          29,
          25,
          22,
          23,
          95,
          76,
          83,
          111,
          120,
          93,
          71,
          71,
          72,
          76,
          60,
          75,
          63,
          57,
          72,
          67,
          65,
          59,
          52,
          49,
          42,
          43,
          45,
          33,
          39,
          37,
          35,
          39,
          41,
          43,
          34,
          41,
          34,
          41,
          36,
          42,
          45,
          49,
          27,
          97,
          116,
          89,
          93,
          94,
          110,
          91,
          81,
          68,
          49,
          59,
          61,
          68,
          56,
          64,
          70,
          58,
          53,
          64,
          59,
          54,
          67,
          64,
          56,
          48,
          51,
          33,
          52,
          51,
          55,
          74,
          61,
          64,
          66,
          73,
          53,
          41,
          41,
          51,
          106,
          108,
          81,
          81,
          77,
          87,
          60,
          57,
          56,
          57,
          67,
          67,
          51,
          66,
          63,
          64,
          55,
          43,
          53,
          49,
          51,
          54,
          60,
          61,
          52,
          64,
          60,
          63,
          92,
          73,
          85,
          80,
          73,
          62,
          71,
          54,
          52,
          40,
          41,
          77,
          81,
          79,
          75,
          78,
          65,
          51,
          48,
          53,
          61,
          62,
          72,
          57,
          64,
          65,
          60,
          63,
          43,
          67,
          78,
          47,
          91,
          74,
          74,
          74,
          64,
          60,
          69,
          60,
          78,
          75,
          81,
          71,
          78,
          64,
          62,
          67,
          41,
          53,
          75,
          68,
          88,
          62,
          81,
          70,
          60,
          59,
          52,
          62,
          59,
          39,
          42,
          60,
          67,
          65,
          80,
          66,
          78,
          94,
          84,
          71,
          95,
          73,
          88,
          81,
          69,
          76,
          84,
          82,
          86,
          78,
          71,
          71,
          58,
          56,
          56,
          50,
          29,
          70,
          79,
          58,
          63,
          57,
          65,
          59,
          66,
          46,
          47,
          59,
          69,
          67,
          87,
          66,
          61,
          70,
          76,
          87,
          87,
          75,
          76,
          69,
          65,
          72,
          86,
          74,
          91,
          72,
          92,
          78,
          81,
          86,
          66,
          64,
          67,
          43,
          38,
          42,
          44,
          59,
          58,
          69,
          52,
          73,
          55,
          42,
          52,
          60,
          64,
          51,
          53,
          59,
          70,
          61,
          62,
          63,
          70,
          79,
          58,
          70,
          70,
          72,
          62,
          69,
          65,
          79,
          71,
          65,
          82,
          60,
          48,
          69,
          70,
          50,
          40,
          37,
          38,
          61,
          55,
          50,
          50,
          48,
          54,
          47,
          44,
          29,
          54,
          45,
          59,
          52,
          61,
          60,
          47,
          41,
          52,
          51,
          46,
          47,
          58,
          47,
          44,
          56,
          40,
          52,
          55,
          52,
          49,
          39,
          42,
          52,
          37,
          32,
          32,
          21,
          21,
          13,
          41,
          37,
          37,
          30,
          37,
          31,
          34,
          31,
          27,
          27,
          36,
          26,
          30,
          30,
          40,
          33,
          39,
          34,
          33,
          35,
          36,
          43,
          24,
          31,
          23,
          26,
          27,
          31,
          37,
          27,
          30,
          19,
          20,
          19,
          19,
          15,
          10,
          9,
          10,
          17,
          8,
          19,
          14,
          19,
          10,
          5,
          9,
          9,
          6,
          8,
          9,
          8,
          14,
          13,
          17,
          11,
          9,
          8,
          11,
          12,
          10,
          16,
          9,
          9,
          7,
          6,
          7,
          11,
          9,
          4,
          4,
          4,
          6,
          3,
          2,
          2,
          2,
          1,
          3,
          2,
          4,
          4,
          1,
          5,
          2,
          7,
          3,
          2,
          1,
          1,
          1,
          2,
          0,
          4,
          1,
          2,
          3,
          0,
          2,
          5,
          4,
          2,
          0,
          2,
          1,
          0,
          4,
          2,
          1,
          2,
          3,
          0,
          0,
          1,
          0,
          1,
          0
         ]
        }
       ],
       "layout": {
        "legend": {
         "tracegroupgap": 0
        },
        "template": {
         "data": {
          "bar": [
           {
            "error_x": {
             "color": "#2a3f5f"
            },
            "error_y": {
             "color": "#2a3f5f"
            },
            "marker": {
             "line": {
              "color": "#E5ECF6",
              "width": 0.5
             },
             "pattern": {
              "fillmode": "overlay",
              "size": 10,
              "solidity": 0.2
             }
            },
            "type": "bar"
           }
          ],
          "barpolar": [
           {
            "marker": {
             "line": {
              "color": "#E5ECF6",
              "width": 0.5
             },
             "pattern": {
              "fillmode": "overlay",
              "size": 10,
              "solidity": 0.2
             }
            },
            "type": "barpolar"
           }
          ],
          "carpet": [
           {
            "aaxis": {
             "endlinecolor": "#2a3f5f",
             "gridcolor": "white",
             "linecolor": "white",
             "minorgridcolor": "white",
             "startlinecolor": "#2a3f5f"
            },
            "baxis": {
             "endlinecolor": "#2a3f5f",
             "gridcolor": "white",
             "linecolor": "white",
             "minorgridcolor": "white",
             "startlinecolor": "#2a3f5f"
            },
            "type": "carpet"
           }
          ],
          "choropleth": [
           {
            "colorbar": {
             "outlinewidth": 0,
             "ticks": ""
            },
            "type": "choropleth"
           }
          ],
          "contour": [
           {
            "colorbar": {
             "outlinewidth": 0,
             "ticks": ""
            },
            "colorscale": [
             [
              0,
              "#0d0887"
             ],
             [
              0.1111111111111111,
              "#46039f"
             ],
             [
              0.2222222222222222,
              "#7201a8"
             ],
             [
              0.3333333333333333,
              "#9c179e"
             ],
             [
              0.4444444444444444,
              "#bd3786"
             ],
             [
              0.5555555555555556,
              "#d8576b"
             ],
             [
              0.6666666666666666,
              "#ed7953"
             ],
             [
              0.7777777777777778,
              "#fb9f3a"
             ],
             [
              0.8888888888888888,
              "#fdca26"
             ],
             [
              1,
              "#f0f921"
             ]
            ],
            "type": "contour"
           }
          ],
          "contourcarpet": [
           {
            "colorbar": {
             "outlinewidth": 0,
             "ticks": ""
            },
            "type": "contourcarpet"
           }
          ],
          "heatmap": [
           {
            "colorbar": {
             "outlinewidth": 0,
             "ticks": ""
            },
            "colorscale": [
             [
              0,
              "#0d0887"
             ],
             [
              0.1111111111111111,
              "#46039f"
             ],
             [
              0.2222222222222222,
              "#7201a8"
             ],
             [
              0.3333333333333333,
              "#9c179e"
             ],
             [
              0.4444444444444444,
              "#bd3786"
             ],
             [
              0.5555555555555556,
              "#d8576b"
             ],
             [
              0.6666666666666666,
              "#ed7953"
             ],
             [
              0.7777777777777778,
              "#fb9f3a"
             ],
             [
              0.8888888888888888,
              "#fdca26"
             ],
             [
              1,
              "#f0f921"
             ]
            ],
            "type": "heatmap"
           }
          ],
          "heatmapgl": [
           {
            "colorbar": {
             "outlinewidth": 0,
             "ticks": ""
            },
            "colorscale": [
             [
              0,
              "#0d0887"
             ],
             [
              0.1111111111111111,
              "#46039f"
             ],
             [
              0.2222222222222222,
              "#7201a8"
             ],
             [
              0.3333333333333333,
              "#9c179e"
             ],
             [
              0.4444444444444444,
              "#bd3786"
             ],
             [
              0.5555555555555556,
              "#d8576b"
             ],
             [
              0.6666666666666666,
              "#ed7953"
             ],
             [
              0.7777777777777778,
              "#fb9f3a"
             ],
             [
              0.8888888888888888,
              "#fdca26"
             ],
             [
              1,
              "#f0f921"
             ]
            ],
            "type": "heatmapgl"
           }
          ],
          "histogram": [
           {
            "marker": {
             "pattern": {
              "fillmode": "overlay",
              "size": 10,
              "solidity": 0.2
             }
            },
            "type": "histogram"
           }
          ],
          "histogram2d": [
           {
            "colorbar": {
             "outlinewidth": 0,
             "ticks": ""
            },
            "colorscale": [
             [
              0,
              "#0d0887"
             ],
             [
              0.1111111111111111,
              "#46039f"
             ],
             [
              0.2222222222222222,
              "#7201a8"
             ],
             [
              0.3333333333333333,
              "#9c179e"
             ],
             [
              0.4444444444444444,
              "#bd3786"
             ],
             [
              0.5555555555555556,
              "#d8576b"
             ],
             [
              0.6666666666666666,
              "#ed7953"
             ],
             [
              0.7777777777777778,
              "#fb9f3a"
             ],
             [
              0.8888888888888888,
              "#fdca26"
             ],
             [
              1,
              "#f0f921"
             ]
            ],
            "type": "histogram2d"
           }
          ],
          "histogram2dcontour": [
           {
            "colorbar": {
             "outlinewidth": 0,
             "ticks": ""
            },
            "colorscale": [
             [
              0,
              "#0d0887"
             ],
             [
              0.1111111111111111,
              "#46039f"
             ],
             [
              0.2222222222222222,
              "#7201a8"
             ],
             [
              0.3333333333333333,
              "#9c179e"
             ],
             [
              0.4444444444444444,
              "#bd3786"
             ],
             [
              0.5555555555555556,
              "#d8576b"
             ],
             [
              0.6666666666666666,
              "#ed7953"
             ],
             [
              0.7777777777777778,
              "#fb9f3a"
             ],
             [
              0.8888888888888888,
              "#fdca26"
             ],
             [
              1,
              "#f0f921"
             ]
            ],
            "type": "histogram2dcontour"
           }
          ],
          "mesh3d": [
           {
            "colorbar": {
             "outlinewidth": 0,
             "ticks": ""
            },
            "type": "mesh3d"
           }
          ],
          "parcoords": [
           {
            "line": {
             "colorbar": {
              "outlinewidth": 0,
              "ticks": ""
             }
            },
            "type": "parcoords"
           }
          ],
          "pie": [
           {
            "automargin": true,
            "type": "pie"
           }
          ],
          "scatter": [
           {
            "fillpattern": {
             "fillmode": "overlay",
             "size": 10,
             "solidity": 0.2
            },
            "type": "scatter"
           }
          ],
          "scatter3d": [
           {
            "line": {
             "colorbar": {
              "outlinewidth": 0,
              "ticks": ""
             }
            },
            "marker": {
             "colorbar": {
              "outlinewidth": 0,
              "ticks": ""
             }
            },
            "type": "scatter3d"
           }
          ],
          "scattercarpet": [
           {
            "marker": {
             "colorbar": {
              "outlinewidth": 0,
              "ticks": ""
             }
            },
            "type": "scattercarpet"
           }
          ],
          "scattergeo": [
           {
            "marker": {
             "colorbar": {
              "outlinewidth": 0,
              "ticks": ""
             }
            },
            "type": "scattergeo"
           }
          ],
          "scattergl": [
           {
            "marker": {
             "colorbar": {
              "outlinewidth": 0,
              "ticks": ""
             }
            },
            "type": "scattergl"
           }
          ],
          "scattermapbox": [
           {
            "marker": {
             "colorbar": {
              "outlinewidth": 0,
              "ticks": ""
             }
            },
            "type": "scattermapbox"
           }
          ],
          "scatterpolar": [
           {
            "marker": {
             "colorbar": {
              "outlinewidth": 0,
              "ticks": ""
             }
            },
            "type": "scatterpolar"
           }
          ],
          "scatterpolargl": [
           {
            "marker": {
             "colorbar": {
              "outlinewidth": 0,
              "ticks": ""
             }
            },
            "type": "scatterpolargl"
           }
          ],
          "scatterternary": [
           {
            "marker": {
             "colorbar": {
              "outlinewidth": 0,
              "ticks": ""
             }
            },
            "type": "scatterternary"
           }
          ],
          "surface": [
           {
            "colorbar": {
             "outlinewidth": 0,
             "ticks": ""
            },
            "colorscale": [
             [
              0,
              "#0d0887"
             ],
             [
              0.1111111111111111,
              "#46039f"
             ],
             [
              0.2222222222222222,
              "#7201a8"
             ],
             [
              0.3333333333333333,
              "#9c179e"
             ],
             [
              0.4444444444444444,
              "#bd3786"
             ],
             [
              0.5555555555555556,
              "#d8576b"
             ],
             [
              0.6666666666666666,
              "#ed7953"
             ],
             [
              0.7777777777777778,
              "#fb9f3a"
             ],
             [
              0.8888888888888888,
              "#fdca26"
             ],
             [
              1,
              "#f0f921"
             ]
            ],
            "type": "surface"
           }
          ],
          "table": [
           {
            "cells": {
             "fill": {
              "color": "#EBF0F8"
             },
             "line": {
              "color": "white"
             }
            },
            "header": {
             "fill": {
              "color": "#C8D4E3"
             },
             "line": {
              "color": "white"
             }
            },
            "type": "table"
           }
          ]
         },
         "layout": {
          "annotationdefaults": {
           "arrowcolor": "#2a3f5f",
           "arrowhead": 0,
           "arrowwidth": 1
          },
          "autotypenumbers": "strict",
          "coloraxis": {
           "colorbar": {
            "outlinewidth": 0,
            "ticks": ""
           }
          },
          "colorscale": {
           "diverging": [
            [
             0,
             "#8e0152"
            ],
            [
             0.1,
             "#c51b7d"
            ],
            [
             0.2,
             "#de77ae"
            ],
            [
             0.3,
             "#f1b6da"
            ],
            [
             0.4,
             "#fde0ef"
            ],
            [
             0.5,
             "#f7f7f7"
            ],
            [
             0.6,
             "#e6f5d0"
            ],
            [
             0.7,
             "#b8e186"
            ],
            [
             0.8,
             "#7fbc41"
            ],
            [
             0.9,
             "#4d9221"
            ],
            [
             1,
             "#276419"
            ]
           ],
           "sequential": [
            [
             0,
             "#0d0887"
            ],
            [
             0.1111111111111111,
             "#46039f"
            ],
            [
             0.2222222222222222,
             "#7201a8"
            ],
            [
             0.3333333333333333,
             "#9c179e"
            ],
            [
             0.4444444444444444,
             "#bd3786"
            ],
            [
             0.5555555555555556,
             "#d8576b"
            ],
            [
             0.6666666666666666,
             "#ed7953"
            ],
            [
             0.7777777777777778,
             "#fb9f3a"
            ],
            [
             0.8888888888888888,
             "#fdca26"
            ],
            [
             1,
             "#f0f921"
            ]
           ],
           "sequentialminus": [
            [
             0,
             "#0d0887"
            ],
            [
             0.1111111111111111,
             "#46039f"
            ],
            [
             0.2222222222222222,
             "#7201a8"
            ],
            [
             0.3333333333333333,
             "#9c179e"
            ],
            [
             0.4444444444444444,
             "#bd3786"
            ],
            [
             0.5555555555555556,
             "#d8576b"
            ],
            [
             0.6666666666666666,
             "#ed7953"
            ],
            [
             0.7777777777777778,
             "#fb9f3a"
            ],
            [
             0.8888888888888888,
             "#fdca26"
            ],
            [
             1,
             "#f0f921"
            ]
           ]
          },
          "colorway": [
           "#636efa",
           "#EF553B",
           "#00cc96",
           "#ab63fa",
           "#FFA15A",
           "#19d3f3",
           "#FF6692",
           "#B6E880",
           "#FF97FF",
           "#FECB52"
          ],
          "font": {
           "color": "#2a3f5f"
          },
          "geo": {
           "bgcolor": "white",
           "lakecolor": "white",
           "landcolor": "#E5ECF6",
           "showlakes": true,
           "showland": true,
           "subunitcolor": "white"
          },
          "hoverlabel": {
           "align": "left"
          },
          "hovermode": "closest",
          "mapbox": {
           "style": "light"
          },
          "paper_bgcolor": "white",
          "plot_bgcolor": "#E5ECF6",
          "polar": {
           "angularaxis": {
            "gridcolor": "white",
            "linecolor": "white",
            "ticks": ""
           },
           "bgcolor": "#E5ECF6",
           "radialaxis": {
            "gridcolor": "white",
            "linecolor": "white",
            "ticks": ""
           }
          },
          "scene": {
           "xaxis": {
            "backgroundcolor": "#E5ECF6",
            "gridcolor": "white",
            "gridwidth": 2,
            "linecolor": "white",
            "showbackground": true,
            "ticks": "",
            "zerolinecolor": "white"
           },
           "yaxis": {
            "backgroundcolor": "#E5ECF6",
            "gridcolor": "white",
            "gridwidth": 2,
            "linecolor": "white",
            "showbackground": true,
            "ticks": "",
            "zerolinecolor": "white"
           },
           "zaxis": {
            "backgroundcolor": "#E5ECF6",
            "gridcolor": "white",
            "gridwidth": 2,
            "linecolor": "white",
            "showbackground": true,
            "ticks": "",
            "zerolinecolor": "white"
           }
          },
          "shapedefaults": {
           "line": {
            "color": "#2a3f5f"
           }
          },
          "ternary": {
           "aaxis": {
            "gridcolor": "white",
            "linecolor": "white",
            "ticks": ""
           },
           "baxis": {
            "gridcolor": "white",
            "linecolor": "white",
            "ticks": ""
           },
           "bgcolor": "#E5ECF6",
           "caxis": {
            "gridcolor": "white",
            "linecolor": "white",
            "ticks": ""
           }
          },
          "title": {
           "x": 0.05
          },
          "xaxis": {
           "automargin": true,
           "gridcolor": "white",
           "linecolor": "white",
           "ticks": "",
           "title": {
            "standoff": 15
           },
           "zerolinecolor": "white",
           "zerolinewidth": 2
          },
          "yaxis": {
           "automargin": true,
           "gridcolor": "white",
           "linecolor": "white",
           "ticks": "",
           "title": {
            "standoff": 15
           },
           "zerolinecolor": "white",
           "zerolinewidth": 2
          }
         }
        },
        "title": {
         "text": "Total suicide"
        }
       }
      },
      "text/html": [
       "<div>                            <div id=\"8a20fa12-bc90-4219-bc22-09af253b0ab6\" class=\"plotly-graph-div\" style=\"height:525px; width:100%;\"></div>            <script type=\"text/javascript\">                require([\"plotly\"], function(Plotly) {                    window.PLOTLYENV=window.PLOTLYENV || {};                                    if (document.getElementById(\"8a20fa12-bc90-4219-bc22-09af253b0ab6\")) {                    Plotly.newPlot(                        \"8a20fa12-bc90-4219-bc22-09af253b0ab6\",                        [{\"customdata\":[[\"Hombres\"],[\"Hombres\"],[\"Hombres\"],[\"Hombres\"],[\"Hombres\"],[\"Hombres\"],[\"Hombres\"],[\"Hombres\"],[\"Hombres\"],[\"Hombres\"],[\"Hombres\"],[\"Hombres\"],[\"Hombres\"],[\"Hombres\"],[\"Hombres\"],[\"Hombres\"],[\"Hombres\"],[\"Hombres\"],[\"Hombres\"],[\"Hombres\"],[\"Hombres\"],[\"Hombres\"],[\"Hombres\"],[\"Hombres\"],[\"Hombres\"],[\"Hombres\"],[\"Hombres\"],[\"Hombres\"],[\"Hombres\"],[\"Hombres\"],[\"Hombres\"],[\"Hombres\"],[\"Hombres\"],[\"Hombres\"],[\"Hombres\"],[\"Hombres\"],[\"Hombres\"],[\"Hombres\"],[\"Hombres\"],[\"Hombres\"],[\"Hombres\"],[\"Hombres\"],[\"Hombres\"],[\"Hombres\"],[\"Hombres\"],[\"Hombres\"],[\"Hombres\"],[\"Hombres\"],[\"Hombres\"],[\"Hombres\"],[\"Hombres\"],[\"Hombres\"],[\"Hombres\"],[\"Hombres\"],[\"Hombres\"],[\"Hombres\"],[\"Hombres\"],[\"Hombres\"],[\"Hombres\"],[\"Hombres\"],[\"Hombres\"],[\"Hombres\"],[\"Hombres\"],[\"Hombres\"],[\"Hombres\"],[\"Hombres\"],[\"Hombres\"],[\"Hombres\"],[\"Hombres\"],[\"Hombres\"],[\"Hombres\"],[\"Hombres\"],[\"Hombres\"],[\"Hombres\"],[\"Hombres\"],[\"Hombres\"],[\"Hombres\"],[\"Hombres\"],[\"Hombres\"],[\"Hombres\"],[\"Hombres\"],[\"Hombres\"],[\"Hombres\"],[\"Hombres\"],[\"Hombres\"],[\"Hombres\"],[\"Hombres\"],[\"Hombres\"],[\"Hombres\"],[\"Hombres\"],[\"Hombres\"],[\"Hombres\"],[\"Hombres\"],[\"Hombres\"],[\"Hombres\"],[\"Hombres\"],[\"Hombres\"],[\"Hombres\"],[\"Hombres\"],[\"Hombres\"],[\"Hombres\"],[\"Hombres\"],[\"Hombres\"],[\"Hombres\"],[\"Hombres\"],[\"Hombres\"],[\"Hombres\"],[\"Hombres\"],[\"Hombres\"],[\"Hombres\"],[\"Hombres\"],[\"Hombres\"],[\"Hombres\"],[\"Hombres\"],[\"Hombres\"],[\"Hombres\"],[\"Hombres\"],[\"Hombres\"],[\"Hombres\"],[\"Hombres\"],[\"Hombres\"],[\"Hombres\"],[\"Hombres\"],[\"Hombres\"],[\"Hombres\"],[\"Hombres\"],[\"Hombres\"],[\"Hombres\"],[\"Hombres\"],[\"Hombres\"],[\"Hombres\"],[\"Hombres\"],[\"Hombres\"],[\"Hombres\"],[\"Hombres\"],[\"Hombres\"],[\"Hombres\"],[\"Hombres\"],[\"Hombres\"],[\"Hombres\"],[\"Hombres\"],[\"Hombres\"],[\"Hombres\"],[\"Hombres\"],[\"Hombres\"],[\"Hombres\"],[\"Hombres\"],[\"Hombres\"],[\"Hombres\"],[\"Hombres\"],[\"Hombres\"],[\"Hombres\"],[\"Hombres\"],[\"Hombres\"],[\"Hombres\"],[\"Hombres\"],[\"Hombres\"],[\"Hombres\"],[\"Hombres\"],[\"Hombres\"],[\"Hombres\"],[\"Hombres\"],[\"Hombres\"],[\"Hombres\"],[\"Hombres\"],[\"Hombres\"],[\"Hombres\"],[\"Hombres\"],[\"Hombres\"],[\"Hombres\"],[\"Hombres\"],[\"Hombres\"],[\"Hombres\"],[\"Hombres\"],[\"Hombres\"],[\"Hombres\"],[\"Hombres\"],[\"Hombres\"],[\"Hombres\"],[\"Hombres\"],[\"Hombres\"],[\"Hombres\"],[\"Hombres\"],[\"Hombres\"],[\"Hombres\"],[\"Hombres\"],[\"Hombres\"],[\"Hombres\"],[\"Hombres\"],[\"Hombres\"],[\"Hombres\"],[\"Hombres\"],[\"Hombres\"],[\"Hombres\"],[\"Hombres\"],[\"Hombres\"],[\"Hombres\"],[\"Hombres\"],[\"Hombres\"],[\"Hombres\"],[\"Hombres\"],[\"Hombres\"],[\"Hombres\"],[\"Hombres\"],[\"Hombres\"],[\"Hombres\"],[\"Hombres\"],[\"Hombres\"],[\"Hombres\"],[\"Hombres\"],[\"Hombres\"],[\"Hombres\"],[\"Hombres\"],[\"Hombres\"],[\"Hombres\"],[\"Hombres\"],[\"Hombres\"],[\"Hombres\"],[\"Hombres\"],[\"Hombres\"],[\"Hombres\"],[\"Hombres\"],[\"Hombres\"],[\"Hombres\"],[\"Hombres\"],[\"Hombres\"],[\"Hombres\"],[\"Hombres\"],[\"Hombres\"],[\"Hombres\"],[\"Hombres\"],[\"Hombres\"],[\"Hombres\"],[\"Hombres\"],[\"Hombres\"],[\"Hombres\"],[\"Hombres\"],[\"Hombres\"],[\"Hombres\"],[\"Hombres\"],[\"Hombres\"],[\"Hombres\"],[\"Hombres\"],[\"Hombres\"],[\"Hombres\"],[\"Hombres\"],[\"Hombres\"],[\"Hombres\"],[\"Hombres\"],[\"Hombres\"],[\"Hombres\"],[\"Hombres\"],[\"Hombres\"],[\"Hombres\"],[\"Hombres\"],[\"Hombres\"],[\"Hombres\"],[\"Hombres\"],[\"Hombres\"],[\"Hombres\"],[\"Hombres\"],[\"Hombres\"],[\"Hombres\"],[\"Hombres\"],[\"Hombres\"],[\"Hombres\"],[\"Hombres\"],[\"Hombres\"],[\"Hombres\"],[\"Hombres\"],[\"Hombres\"],[\"Hombres\"],[\"Hombres\"],[\"Hombres\"],[\"Hombres\"],[\"Hombres\"],[\"Hombres\"],[\"Hombres\"],[\"Hombres\"],[\"Hombres\"],[\"Hombres\"],[\"Hombres\"],[\"Hombres\"],[\"Hombres\"],[\"Hombres\"],[\"Hombres\"],[\"Hombres\"],[\"Hombres\"],[\"Hombres\"],[\"Hombres\"],[\"Hombres\"],[\"Hombres\"],[\"Hombres\"],[\"Hombres\"],[\"Hombres\"],[\"Hombres\"],[\"Hombres\"],[\"Hombres\"],[\"Hombres\"],[\"Hombres\"],[\"Hombres\"],[\"Hombres\"],[\"Hombres\"],[\"Hombres\"],[\"Hombres\"],[\"Hombres\"],[\"Hombres\"],[\"Hombres\"],[\"Hombres\"],[\"Hombres\"],[\"Hombres\"],[\"Hombres\"],[\"Hombres\"],[\"Hombres\"],[\"Hombres\"],[\"Hombres\"],[\"Hombres\"],[\"Hombres\"],[\"Hombres\"],[\"Hombres\"],[\"Hombres\"],[\"Hombres\"],[\"Hombres\"],[\"Hombres\"],[\"Hombres\"],[\"Hombres\"],[\"Hombres\"],[\"Hombres\"],[\"Hombres\"],[\"Hombres\"],[\"Hombres\"],[\"Hombres\"],[\"Hombres\"],[\"Hombres\"],[\"Hombres\"],[\"Hombres\"],[\"Hombres\"],[\"Hombres\"],[\"Hombres\"],[\"Hombres\"],[\"Hombres\"],[\"Hombres\"],[\"Hombres\"],[\"Hombres\"],[\"Hombres\"],[\"Hombres\"],[\"Hombres\"],[\"Hombres\"],[\"Hombres\"],[\"Hombres\"],[\"Hombres\"],[\"Hombres\"],[\"Hombres\"],[\"Hombres\"],[\"Hombres\"],[\"Hombres\"],[\"Hombres\"],[\"Hombres\"],[\"Hombres\"],[\"Hombres\"],[\"Hombres\"],[\"Hombres\"],[\"Hombres\"],[\"Hombres\"],[\"Hombres\"],[\"Hombres\"],[\"Hombres\"],[\"Hombres\"],[\"Hombres\"],[\"Hombres\"],[\"Hombres\"],[\"Hombres\"],[\"Hombres\"],[\"Hombres\"],[\"Hombres\"],[\"Hombres\"],[\"Hombres\"],[\"Hombres\"],[\"Hombres\"],[\"Hombres\"],[\"Hombres\"],[\"Hombres\"],[\"Hombres\"],[\"Hombres\"],[\"Hombres\"],[\"Hombres\"],[\"Hombres\"],[\"Hombres\"],[\"Hombres\"],[\"Hombres\"],[\"Hombres\"],[\"Hombres\"],[\"Hombres\"],[\"Hombres\"],[\"Hombres\"],[\"Hombres\"],[\"Hombres\"],[\"Hombres\"],[\"Hombres\"],[\"Hombres\"],[\"Hombres\"],[\"Hombres\"],[\"Hombres\"],[\"Hombres\"],[\"Hombres\"],[\"Hombres\"],[\"Hombres\"],[\"Hombres\"],[\"Hombres\"],[\"Hombres\"],[\"Hombres\"],[\"Hombres\"],[\"Hombres\"],[\"Hombres\"],[\"Hombres\"],[\"Hombres\"],[\"Hombres\"],[\"Hombres\"],[\"Hombres\"],[\"Hombres\"],[\"Hombres\"],[\"Hombres\"],[\"Hombres\"],[\"Hombres\"],[\"Hombres\"],[\"Hombres\"],[\"Hombres\"],[\"Hombres\"],[\"Hombres\"],[\"Hombres\"],[\"Hombres\"],[\"Hombres\"],[\"Hombres\"],[\"Hombres\"],[\"Hombres\"],[\"Hombres\"],[\"Hombres\"],[\"Hombres\"],[\"Hombres\"],[\"Hombres\"],[\"Hombres\"],[\"Hombres\"],[\"Hombres\"],[\"Hombres\"],[\"Hombres\"],[\"Hombres\"],[\"Hombres\"],[\"Hombres\"],[\"Hombres\"],[\"Hombres\"],[\"Hombres\"],[\"Hombres\"],[\"Hombres\"],[\"Hombres\"],[\"Hombres\"],[\"Hombres\"],[\"Hombres\"],[\"Hombres\"],[\"Hombres\"],[\"Hombres\"],[\"Hombres\"],[\"Hombres\"],[\"Hombres\"],[\"Hombres\"],[\"Hombres\"],[\"Hombres\"],[\"Hombres\"],[\"Hombres\"],[\"Hombres\"],[\"Hombres\"],[\"Hombres\"],[\"Hombres\"],[\"Hombres\"],[\"Hombres\"],[\"Hombres\"],[\"Hombres\"],[\"Hombres\"],[\"Hombres\"],[\"Hombres\"],[\"Hombres\"],[\"Hombres\"],[\"Hombres\"],[\"Hombres\"],[\"Hombres\"],[\"Hombres\"],[\"Hombres\"],[\"Hombres\"],[\"Hombres\"],[\"Hombres\"],[\"Hombres\"],[\"Hombres\"],[\"Hombres\"],[\"Hombres\"],[\"Hombres\"],[\"Hombres\"],[\"Hombres\"],[\"Hombres\"],[\"Hombres\"],[\"Hombres\"],[\"Hombres\"],[\"Hombres\"],[\"Hombres\"],[\"Hombres\"],[\"Hombres\"],[\"Hombres\"],[\"Hombres\"],[\"Hombres\"],[\"Hombres\"],[\"Hombres\"],[\"Hombres\"],[\"Hombres\"],[\"Hombres\"],[\"Hombres\"],[\"Hombres\"],[\"Hombres\"],[\"Hombres\"],[\"Hombres\"],[\"Hombres\"],[\"Hombres\"],[\"Hombres\"],[\"Hombres\"],[\"Hombres\"],[\"Hombres\"],[\"Hombres\"],[\"Hombres\"],[\"Hombres\"],[\"Hombres\"],[\"Hombres\"],[\"Hombres\"],[\"Hombres\"],[\"Hombres\"],[\"Hombres\"],[\"Hombres\"],[\"Hombres\"],[\"Hombres\"],[\"Hombres\"],[\"Hombres\"],[\"Hombres\"],[\"Hombres\"],[\"Hombres\"],[\"Hombres\"],[\"Hombres\"],[\"Hombres\"],[\"Hombres\"],[\"Hombres\"],[\"Hombres\"],[\"Hombres\"],[\"Hombres\"],[\"Hombres\"],[\"Hombres\"],[\"Hombres\"],[\"Hombres\"],[\"Hombres\"],[\"Hombres\"],[\"Hombres\"],[\"Hombres\"],[\"Hombres\"],[\"Hombres\"],[\"Hombres\"],[\"Hombres\"],[\"Hombres\"],[\"Hombres\"],[\"Hombres\"],[\"Hombres\"],[\"Hombres\"],[\"Hombres\"],[\"Hombres\"],[\"Hombres\"],[\"Hombres\"],[\"Hombres\"],[\"Hombres\"],[\"Hombres\"],[\"Hombres\"],[\"Hombres\"],[\"Hombres\"],[\"Hombres\"],[\"Hombres\"],[\"Hombres\"],[\"Hombres\"],[\"Hombres\"],[\"Hombres\"],[\"Hombres\"],[\"Hombres\"],[\"Hombres\"],[\"Hombres\"],[\"Hombres\"],[\"Hombres\"],[\"Hombres\"],[\"Hombres\"],[\"Hombres\"],[\"Hombres\"],[\"Hombres\"],[\"Hombres\"],[\"Hombres\"],[\"Hombres\"],[\"Hombres\"],[\"Hombres\"],[\"Hombres\"],[\"Hombres\"],[\"Hombres\"],[\"Hombres\"],[\"Hombres\"],[\"Hombres\"],[\"Hombres\"],[\"Hombres\"],[\"Hombres\"],[\"Hombres\"],[\"Hombres\"],[\"Hombres\"],[\"Hombres\"],[\"Hombres\"],[\"Hombres\"],[\"Hombres\"],[\"Hombres\"],[\"Hombres\"],[\"Hombres\"],[\"Hombres\"],[\"Hombres\"],[\"Hombres\"],[\"Hombres\"],[\"Hombres\"],[\"Hombres\"],[\"Hombres\"],[\"Hombres\"],[\"Hombres\"],[\"Hombres\"],[\"Hombres\"],[\"Hombres\"],[\"Hombres\"],[\"Hombres\"],[\"Hombres\"],[\"Hombres\"],[\"Hombres\"],[\"Hombres\"],[\"Hombres\"],[\"Hombres\"],[\"Hombres\"],[\"Hombres\"],[\"Hombres\"],[\"Hombres\"],[\"Hombres\"],[\"Hombres\"],[\"Hombres\"],[\"Hombres\"],[\"Hombres\"],[\"Hombres\"],[\"Hombres\"],[\"Hombres\"],[\"Hombres\"],[\"Hombres\"],[\"Hombres\"],[\"Hombres\"],[\"Hombres\"],[\"Hombres\"],[\"Hombres\"],[\"Hombres\"],[\"Hombres\"],[\"Hombres\"],[\"Hombres\"],[\"Hombres\"],[\"Hombres\"],[\"Hombres\"],[\"Hombres\"],[\"Hombres\"],[\"Hombres\"],[\"Hombres\"],[\"Hombres\"],[\"Hombres\"],[\"Hombres\"],[\"Hombres\"],[\"Hombres\"],[\"Hombres\"],[\"Hombres\"],[\"Hombres\"],[\"Hombres\"],[\"Hombres\"],[\"Hombres\"],[\"Hombres\"],[\"Hombres\"],[\"Hombres\"],[\"Hombres\"],[\"Hombres\"],[\"Hombres\"],[\"Hombres\"],[\"Hombres\"],[\"Hombres\"],[\"Hombres\"],[\"Hombres\"],[\"Hombres\"],[\"Hombres\"],[\"Hombres\"],[\"Hombres\"],[\"Hombres\"],[\"Hombres\"],[\"Hombres\"],[\"Hombres\"],[\"Hombres\"],[\"Hombres\"],[\"Hombres\"],[\"Hombres\"],[\"Hombres\"],[\"Hombres\"],[\"Hombres\"],[\"Hombres\"],[\"Hombres\"],[\"Hombres\"],[\"Hombres\"],[\"Hombres\"],[\"Hombres\"],[\"Hombres\"],[\"Hombres\"],[\"Hombres\"],[\"Hombres\"],[\"Hombres\"],[\"Hombres\"],[\"Hombres\"],[\"Hombres\"],[\"Hombres\"],[\"Hombres\"],[\"Hombres\"],[\"Hombres\"],[\"Hombres\"],[\"Hombres\"],[\"Hombres\"],[\"Hombres\"],[\"Hombres\"],[\"Hombres\"],[\"Hombres\"],[\"Hombres\"],[\"Hombres\"],[\"Hombres\"],[\"Hombres\"],[\"Hombres\"],[\"Hombres\"],[\"Hombres\"],[\"Hombres\"],[\"Hombres\"],[\"Hombres\"],[\"Hombres\"],[\"Hombres\"],[\"Hombres\"],[\"Hombres\"],[\"Hombres\"],[\"Hombres\"],[\"Hombres\"],[\"Hombres\"],[\"Hombres\"],[\"Hombres\"],[\"Hombres\"],[\"Hombres\"],[\"Hombres\"],[\"Hombres\"],[\"Hombres\"],[\"Hombres\"],[\"Hombres\"],[\"Hombres\"],[\"Hombres\"],[\"Hombres\"],[\"Hombres\"],[\"Hombres\"],[\"Hombres\"],[\"Hombres\"],[\"Hombres\"],[\"Hombres\"],[\"Hombres\"],[\"Hombres\"],[\"Hombres\"],[\"Hombres\"],[\"Hombres\"],[\"Hombres\"],[\"Hombres\"],[\"Hombres\"],[\"Hombres\"],[\"Hombres\"],[\"Hombres\"],[\"Hombres\"],[\"Hombres\"],[\"Hombres\"],[\"Hombres\"],[\"Hombres\"],[\"Hombres\"],[\"Hombres\"],[\"Hombres\"],[\"Hombres\"],[\"Hombres\"],[\"Hombres\"],[\"Hombres\"],[\"Hombres\"],[\"Hombres\"],[\"Hombres\"],[\"Hombres\"],[\"Hombres\"],[\"Hombres\"],[\"Hombres\"],[\"Hombres\"],[\"Hombres\"],[\"Hombres\"],[\"Hombres\"],[\"Hombres\"],[\"Hombres\"],[\"Hombres\"],[\"Hombres\"],[\"Hombres\"],[\"Hombres\"],[\"Hombres\"],[\"Hombres\"],[\"Hombres\"],[\"Hombres\"],[\"Hombres\"],[\"Hombres\"],[\"Hombres\"],[\"Hombres\"],[\"Hombres\"],[\"Hombres\"],[\"Hombres\"],[\"Hombres\"],[\"Hombres\"],[\"Hombres\"],[\"Hombres\"],[\"Mujeres\"],[\"Mujeres\"],[\"Mujeres\"],[\"Mujeres\"],[\"Mujeres\"],[\"Mujeres\"],[\"Mujeres\"],[\"Mujeres\"],[\"Mujeres\"],[\"Mujeres\"],[\"Mujeres\"],[\"Mujeres\"],[\"Mujeres\"],[\"Mujeres\"],[\"Mujeres\"],[\"Mujeres\"],[\"Mujeres\"],[\"Mujeres\"],[\"Mujeres\"],[\"Mujeres\"],[\"Mujeres\"],[\"Mujeres\"],[\"Mujeres\"],[\"Mujeres\"],[\"Mujeres\"],[\"Mujeres\"],[\"Mujeres\"],[\"Mujeres\"],[\"Mujeres\"],[\"Mujeres\"],[\"Mujeres\"],[\"Mujeres\"],[\"Mujeres\"],[\"Mujeres\"],[\"Mujeres\"],[\"Mujeres\"],[\"Mujeres\"],[\"Mujeres\"],[\"Mujeres\"],[\"Mujeres\"],[\"Mujeres\"],[\"Mujeres\"],[\"Mujeres\"],[\"Mujeres\"],[\"Mujeres\"],[\"Mujeres\"],[\"Mujeres\"],[\"Mujeres\"],[\"Mujeres\"],[\"Mujeres\"],[\"Mujeres\"],[\"Mujeres\"],[\"Mujeres\"],[\"Mujeres\"],[\"Mujeres\"],[\"Mujeres\"],[\"Mujeres\"],[\"Mujeres\"],[\"Mujeres\"],[\"Mujeres\"],[\"Mujeres\"],[\"Mujeres\"],[\"Mujeres\"],[\"Mujeres\"],[\"Mujeres\"],[\"Mujeres\"],[\"Mujeres\"],[\"Mujeres\"],[\"Mujeres\"],[\"Mujeres\"],[\"Mujeres\"],[\"Mujeres\"],[\"Mujeres\"],[\"Mujeres\"],[\"Mujeres\"],[\"Mujeres\"],[\"Mujeres\"],[\"Mujeres\"],[\"Mujeres\"],[\"Mujeres\"],[\"Mujeres\"],[\"Mujeres\"],[\"Mujeres\"],[\"Mujeres\"],[\"Mujeres\"],[\"Mujeres\"],[\"Mujeres\"],[\"Mujeres\"],[\"Mujeres\"],[\"Mujeres\"],[\"Mujeres\"],[\"Mujeres\"],[\"Mujeres\"],[\"Mujeres\"],[\"Mujeres\"],[\"Mujeres\"],[\"Mujeres\"],[\"Mujeres\"],[\"Mujeres\"],[\"Mujeres\"],[\"Mujeres\"],[\"Mujeres\"],[\"Mujeres\"],[\"Mujeres\"],[\"Mujeres\"],[\"Mujeres\"],[\"Mujeres\"],[\"Mujeres\"],[\"Mujeres\"],[\"Mujeres\"],[\"Mujeres\"],[\"Mujeres\"],[\"Mujeres\"],[\"Mujeres\"],[\"Mujeres\"],[\"Mujeres\"],[\"Mujeres\"],[\"Mujeres\"],[\"Mujeres\"],[\"Mujeres\"],[\"Mujeres\"],[\"Mujeres\"],[\"Mujeres\"],[\"Mujeres\"],[\"Mujeres\"],[\"Mujeres\"],[\"Mujeres\"],[\"Mujeres\"],[\"Mujeres\"],[\"Mujeres\"],[\"Mujeres\"],[\"Mujeres\"],[\"Mujeres\"],[\"Mujeres\"],[\"Mujeres\"],[\"Mujeres\"],[\"Mujeres\"],[\"Mujeres\"],[\"Mujeres\"],[\"Mujeres\"],[\"Mujeres\"],[\"Mujeres\"],[\"Mujeres\"],[\"Mujeres\"],[\"Mujeres\"],[\"Mujeres\"],[\"Mujeres\"],[\"Mujeres\"],[\"Mujeres\"],[\"Mujeres\"],[\"Mujeres\"],[\"Mujeres\"],[\"Mujeres\"],[\"Mujeres\"],[\"Mujeres\"],[\"Mujeres\"],[\"Mujeres\"],[\"Mujeres\"],[\"Mujeres\"],[\"Mujeres\"],[\"Mujeres\"],[\"Mujeres\"],[\"Mujeres\"],[\"Mujeres\"],[\"Mujeres\"],[\"Mujeres\"],[\"Mujeres\"],[\"Mujeres\"],[\"Mujeres\"],[\"Mujeres\"],[\"Mujeres\"],[\"Mujeres\"],[\"Mujeres\"],[\"Mujeres\"],[\"Mujeres\"],[\"Mujeres\"],[\"Mujeres\"],[\"Mujeres\"],[\"Mujeres\"],[\"Mujeres\"],[\"Mujeres\"],[\"Mujeres\"],[\"Mujeres\"],[\"Mujeres\"],[\"Mujeres\"],[\"Mujeres\"],[\"Mujeres\"],[\"Mujeres\"],[\"Mujeres\"],[\"Mujeres\"],[\"Mujeres\"],[\"Mujeres\"],[\"Mujeres\"],[\"Mujeres\"],[\"Mujeres\"],[\"Mujeres\"],[\"Mujeres\"],[\"Mujeres\"],[\"Mujeres\"],[\"Mujeres\"],[\"Mujeres\"],[\"Mujeres\"],[\"Mujeres\"],[\"Mujeres\"],[\"Mujeres\"],[\"Mujeres\"],[\"Mujeres\"],[\"Mujeres\"],[\"Mujeres\"],[\"Mujeres\"],[\"Mujeres\"],[\"Mujeres\"],[\"Mujeres\"],[\"Mujeres\"],[\"Mujeres\"],[\"Mujeres\"],[\"Mujeres\"],[\"Mujeres\"],[\"Mujeres\"],[\"Mujeres\"],[\"Mujeres\"],[\"Mujeres\"],[\"Mujeres\"],[\"Mujeres\"],[\"Mujeres\"],[\"Mujeres\"],[\"Mujeres\"],[\"Mujeres\"],[\"Mujeres\"],[\"Mujeres\"],[\"Mujeres\"],[\"Mujeres\"],[\"Mujeres\"],[\"Mujeres\"],[\"Mujeres\"],[\"Mujeres\"],[\"Mujeres\"],[\"Mujeres\"],[\"Mujeres\"],[\"Mujeres\"],[\"Mujeres\"],[\"Mujeres\"],[\"Mujeres\"],[\"Mujeres\"],[\"Mujeres\"],[\"Mujeres\"],[\"Mujeres\"],[\"Mujeres\"],[\"Mujeres\"],[\"Mujeres\"],[\"Mujeres\"],[\"Mujeres\"],[\"Mujeres\"],[\"Mujeres\"],[\"Mujeres\"],[\"Mujeres\"],[\"Mujeres\"],[\"Mujeres\"],[\"Mujeres\"],[\"Mujeres\"],[\"Mujeres\"],[\"Mujeres\"],[\"Mujeres\"],[\"Mujeres\"],[\"Mujeres\"],[\"Mujeres\"],[\"Mujeres\"],[\"Mujeres\"],[\"Mujeres\"],[\"Mujeres\"],[\"Mujeres\"],[\"Mujeres\"],[\"Mujeres\"],[\"Mujeres\"],[\"Mujeres\"],[\"Mujeres\"],[\"Mujeres\"],[\"Mujeres\"],[\"Mujeres\"],[\"Mujeres\"],[\"Mujeres\"],[\"Mujeres\"],[\"Mujeres\"],[\"Mujeres\"],[\"Mujeres\"],[\"Mujeres\"],[\"Mujeres\"],[\"Mujeres\"],[\"Mujeres\"],[\"Mujeres\"],[\"Mujeres\"],[\"Mujeres\"],[\"Mujeres\"],[\"Mujeres\"],[\"Mujeres\"],[\"Mujeres\"],[\"Mujeres\"],[\"Mujeres\"],[\"Mujeres\"],[\"Mujeres\"],[\"Mujeres\"],[\"Mujeres\"],[\"Mujeres\"],[\"Mujeres\"],[\"Mujeres\"],[\"Mujeres\"],[\"Mujeres\"],[\"Mujeres\"],[\"Mujeres\"],[\"Mujeres\"],[\"Mujeres\"],[\"Mujeres\"],[\"Mujeres\"],[\"Mujeres\"],[\"Mujeres\"],[\"Mujeres\"],[\"Mujeres\"],[\"Mujeres\"],[\"Mujeres\"],[\"Mujeres\"],[\"Mujeres\"],[\"Mujeres\"],[\"Mujeres\"],[\"Mujeres\"],[\"Mujeres\"],[\"Mujeres\"],[\"Mujeres\"],[\"Mujeres\"],[\"Mujeres\"],[\"Mujeres\"],[\"Mujeres\"],[\"Mujeres\"],[\"Mujeres\"],[\"Mujeres\"],[\"Mujeres\"],[\"Mujeres\"],[\"Mujeres\"],[\"Mujeres\"],[\"Mujeres\"],[\"Mujeres\"],[\"Mujeres\"],[\"Mujeres\"],[\"Mujeres\"],[\"Mujeres\"],[\"Mujeres\"],[\"Mujeres\"],[\"Mujeres\"],[\"Mujeres\"],[\"Mujeres\"],[\"Mujeres\"],[\"Mujeres\"],[\"Mujeres\"],[\"Mujeres\"],[\"Mujeres\"],[\"Mujeres\"],[\"Mujeres\"],[\"Mujeres\"],[\"Mujeres\"],[\"Mujeres\"],[\"Mujeres\"],[\"Mujeres\"],[\"Mujeres\"],[\"Mujeres\"],[\"Mujeres\"],[\"Mujeres\"],[\"Mujeres\"],[\"Mujeres\"],[\"Mujeres\"],[\"Mujeres\"],[\"Mujeres\"],[\"Mujeres\"],[\"Mujeres\"],[\"Mujeres\"],[\"Mujeres\"],[\"Mujeres\"],[\"Mujeres\"],[\"Mujeres\"],[\"Mujeres\"],[\"Mujeres\"],[\"Mujeres\"],[\"Mujeres\"],[\"Mujeres\"],[\"Mujeres\"],[\"Mujeres\"],[\"Mujeres\"],[\"Mujeres\"],[\"Mujeres\"],[\"Mujeres\"],[\"Mujeres\"],[\"Mujeres\"],[\"Mujeres\"],[\"Mujeres\"],[\"Mujeres\"],[\"Mujeres\"],[\"Mujeres\"],[\"Mujeres\"],[\"Mujeres\"],[\"Mujeres\"],[\"Mujeres\"],[\"Mujeres\"],[\"Mujeres\"],[\"Mujeres\"],[\"Mujeres\"],[\"Mujeres\"],[\"Mujeres\"],[\"Mujeres\"],[\"Mujeres\"],[\"Mujeres\"],[\"Mujeres\"],[\"Mujeres\"],[\"Mujeres\"],[\"Mujeres\"],[\"Mujeres\"],[\"Mujeres\"],[\"Mujeres\"],[\"Mujeres\"],[\"Mujeres\"],[\"Mujeres\"],[\"Mujeres\"],[\"Mujeres\"],[\"Mujeres\"],[\"Mujeres\"],[\"Mujeres\"],[\"Mujeres\"],[\"Mujeres\"],[\"Mujeres\"],[\"Mujeres\"],[\"Mujeres\"],[\"Mujeres\"],[\"Mujeres\"],[\"Mujeres\"],[\"Mujeres\"],[\"Mujeres\"],[\"Mujeres\"],[\"Mujeres\"],[\"Mujeres\"],[\"Mujeres\"],[\"Mujeres\"],[\"Mujeres\"],[\"Mujeres\"],[\"Mujeres\"],[\"Mujeres\"],[\"Mujeres\"],[\"Mujeres\"],[\"Mujeres\"],[\"Mujeres\"],[\"Mujeres\"],[\"Mujeres\"],[\"Mujeres\"],[\"Mujeres\"],[\"Mujeres\"],[\"Mujeres\"],[\"Mujeres\"],[\"Mujeres\"],[\"Mujeres\"],[\"Mujeres\"],[\"Mujeres\"],[\"Mujeres\"],[\"Mujeres\"],[\"Mujeres\"],[\"Mujeres\"],[\"Mujeres\"],[\"Mujeres\"],[\"Mujeres\"],[\"Mujeres\"],[\"Mujeres\"],[\"Mujeres\"],[\"Mujeres\"],[\"Mujeres\"],[\"Mujeres\"],[\"Mujeres\"],[\"Mujeres\"],[\"Mujeres\"],[\"Mujeres\"],[\"Mujeres\"],[\"Mujeres\"],[\"Mujeres\"],[\"Mujeres\"],[\"Mujeres\"],[\"Mujeres\"],[\"Mujeres\"],[\"Mujeres\"],[\"Mujeres\"],[\"Mujeres\"],[\"Mujeres\"],[\"Mujeres\"],[\"Mujeres\"],[\"Mujeres\"],[\"Mujeres\"],[\"Mujeres\"],[\"Mujeres\"],[\"Mujeres\"],[\"Mujeres\"],[\"Mujeres\"],[\"Mujeres\"],[\"Mujeres\"],[\"Mujeres\"],[\"Mujeres\"],[\"Mujeres\"],[\"Mujeres\"],[\"Mujeres\"],[\"Mujeres\"],[\"Mujeres\"],[\"Mujeres\"],[\"Mujeres\"],[\"Mujeres\"],[\"Mujeres\"],[\"Mujeres\"],[\"Mujeres\"],[\"Mujeres\"],[\"Mujeres\"],[\"Mujeres\"],[\"Mujeres\"],[\"Mujeres\"],[\"Mujeres\"],[\"Mujeres\"],[\"Mujeres\"],[\"Mujeres\"],[\"Mujeres\"],[\"Mujeres\"],[\"Mujeres\"],[\"Mujeres\"],[\"Mujeres\"],[\"Mujeres\"],[\"Mujeres\"],[\"Mujeres\"],[\"Mujeres\"],[\"Mujeres\"],[\"Mujeres\"],[\"Mujeres\"],[\"Mujeres\"],[\"Mujeres\"],[\"Mujeres\"],[\"Mujeres\"],[\"Mujeres\"],[\"Mujeres\"],[\"Mujeres\"],[\"Mujeres\"],[\"Mujeres\"],[\"Mujeres\"],[\"Mujeres\"],[\"Mujeres\"],[\"Mujeres\"],[\"Mujeres\"],[\"Mujeres\"],[\"Mujeres\"],[\"Mujeres\"],[\"Mujeres\"],[\"Mujeres\"],[\"Mujeres\"],[\"Mujeres\"],[\"Mujeres\"],[\"Mujeres\"],[\"Mujeres\"],[\"Mujeres\"],[\"Mujeres\"],[\"Mujeres\"],[\"Mujeres\"],[\"Mujeres\"],[\"Mujeres\"],[\"Mujeres\"],[\"Mujeres\"],[\"Mujeres\"],[\"Mujeres\"],[\"Mujeres\"],[\"Mujeres\"],[\"Mujeres\"],[\"Mujeres\"],[\"Mujeres\"],[\"Mujeres\"],[\"Mujeres\"],[\"Mujeres\"],[\"Mujeres\"],[\"Mujeres\"],[\"Mujeres\"],[\"Mujeres\"],[\"Mujeres\"],[\"Mujeres\"],[\"Mujeres\"],[\"Mujeres\"],[\"Mujeres\"],[\"Mujeres\"],[\"Mujeres\"],[\"Mujeres\"],[\"Mujeres\"],[\"Mujeres\"],[\"Mujeres\"],[\"Mujeres\"],[\"Mujeres\"],[\"Mujeres\"],[\"Mujeres\"],[\"Mujeres\"],[\"Mujeres\"],[\"Mujeres\"],[\"Mujeres\"],[\"Mujeres\"],[\"Mujeres\"],[\"Mujeres\"],[\"Mujeres\"],[\"Mujeres\"],[\"Mujeres\"],[\"Mujeres\"],[\"Mujeres\"],[\"Mujeres\"],[\"Mujeres\"],[\"Mujeres\"],[\"Mujeres\"],[\"Mujeres\"],[\"Mujeres\"],[\"Mujeres\"],[\"Mujeres\"],[\"Mujeres\"],[\"Mujeres\"],[\"Mujeres\"],[\"Mujeres\"],[\"Mujeres\"],[\"Mujeres\"],[\"Mujeres\"],[\"Mujeres\"],[\"Mujeres\"],[\"Mujeres\"],[\"Mujeres\"],[\"Mujeres\"],[\"Mujeres\"],[\"Mujeres\"],[\"Mujeres\"],[\"Mujeres\"],[\"Mujeres\"],[\"Mujeres\"],[\"Mujeres\"],[\"Mujeres\"],[\"Mujeres\"],[\"Mujeres\"],[\"Mujeres\"],[\"Mujeres\"],[\"Mujeres\"],[\"Mujeres\"],[\"Mujeres\"],[\"Mujeres\"],[\"Mujeres\"],[\"Mujeres\"],[\"Mujeres\"],[\"Mujeres\"],[\"Mujeres\"],[\"Mujeres\"],[\"Mujeres\"],[\"Mujeres\"],[\"Mujeres\"],[\"Mujeres\"],[\"Mujeres\"],[\"Mujeres\"],[\"Mujeres\"],[\"Mujeres\"],[\"Mujeres\"],[\"Mujeres\"],[\"Mujeres\"],[\"Mujeres\"],[\"Mujeres\"],[\"Mujeres\"],[\"Mujeres\"],[\"Mujeres\"],[\"Mujeres\"],[\"Mujeres\"],[\"Mujeres\"],[\"Mujeres\"],[\"Mujeres\"],[\"Mujeres\"],[\"Mujeres\"],[\"Mujeres\"],[\"Mujeres\"],[\"Mujeres\"],[\"Mujeres\"],[\"Mujeres\"],[\"Mujeres\"],[\"Mujeres\"],[\"Mujeres\"],[\"Mujeres\"],[\"Mujeres\"],[\"Mujeres\"],[\"Mujeres\"],[\"Mujeres\"],[\"Mujeres\"],[\"Mujeres\"],[\"Mujeres\"],[\"Mujeres\"],[\"Mujeres\"],[\"Mujeres\"],[\"Mujeres\"],[\"Mujeres\"],[\"Mujeres\"],[\"Mujeres\"],[\"Mujeres\"],[\"Mujeres\"],[\"Mujeres\"],[\"Mujeres\"],[\"Mujeres\"],[\"Mujeres\"],[\"Mujeres\"],[\"Mujeres\"],[\"Mujeres\"],[\"Mujeres\"],[\"Mujeres\"],[\"Mujeres\"],[\"Mujeres\"],[\"Mujeres\"],[\"Mujeres\"],[\"Mujeres\"],[\"Mujeres\"],[\"Mujeres\"],[\"Mujeres\"],[\"Mujeres\"],[\"Mujeres\"],[\"Mujeres\"],[\"Mujeres\"],[\"Mujeres\"],[\"Mujeres\"],[\"Mujeres\"],[\"Mujeres\"],[\"Mujeres\"],[\"Mujeres\"],[\"Mujeres\"],[\"Mujeres\"],[\"Mujeres\"],[\"Mujeres\"],[\"Mujeres\"],[\"Mujeres\"],[\"Mujeres\"],[\"Mujeres\"],[\"Mujeres\"],[\"Mujeres\"],[\"Mujeres\"],[\"Mujeres\"],[\"Mujeres\"],[\"Mujeres\"],[\"Mujeres\"],[\"Mujeres\"],[\"Mujeres\"],[\"Mujeres\"],[\"Mujeres\"],[\"Mujeres\"],[\"Mujeres\"],[\"Mujeres\"],[\"Mujeres\"],[\"Mujeres\"],[\"Mujeres\"],[\"Mujeres\"],[\"Mujeres\"],[\"Mujeres\"],[\"Mujeres\"],[\"Mujeres\"],[\"Mujeres\"],[\"Mujeres\"],[\"Mujeres\"],[\"Mujeres\"],[\"Mujeres\"],[\"Mujeres\"],[\"Mujeres\"],[\"Mujeres\"],[\"Mujeres\"],[\"Mujeres\"],[\"Mujeres\"],[\"Mujeres\"],[\"Mujeres\"],[\"Mujeres\"],[\"Mujeres\"],[\"Mujeres\"],[\"Mujeres\"],[\"Mujeres\"],[\"Mujeres\"],[\"Mujeres\"],[\"Mujeres\"],[\"Mujeres\"],[\"Mujeres\"],[\"Mujeres\"],[\"Mujeres\"],[\"Mujeres\"],[\"Mujeres\"],[\"Mujeres\"],[\"Mujeres\"],[\"Mujeres\"],[\"Mujeres\"],[\"Mujeres\"],[\"Mujeres\"],[\"Mujeres\"],[\"Mujeres\"],[\"Mujeres\"],[\"Mujeres\"],[\"Mujeres\"],[\"Mujeres\"],[\"Mujeres\"],[\"Mujeres\"],[\"Mujeres\"],[\"Mujeres\"],[\"Mujeres\"],[\"Mujeres\"],[\"Mujeres\"],[\"Mujeres\"],[\"Mujeres\"],[\"Mujeres\"],[\"Mujeres\"],[\"Mujeres\"],[\"Mujeres\"],[\"Mujeres\"],[\"Mujeres\"],[\"Mujeres\"],[\"Mujeres\"],[\"Mujeres\"],[\"Mujeres\"],[\"Mujeres\"],[\"Mujeres\"],[\"Mujeres\"],[\"Mujeres\"],[\"Mujeres\"],[\"Mujeres\"],[\"Mujeres\"],[\"Mujeres\"],[\"Mujeres\"],[\"Mujeres\"],[\"Mujeres\"]],\"domain\":{\"x\":[0.0,1.0],\"y\":[0.0,1.0]},\"hovertemplate\":\"Sexo=%{customdata[0]}<br>Total=%{value}<extra></extra>\",\"labels\":[\"Hombres\",\"Hombres\",\"Hombres\",\"Hombres\",\"Hombres\",\"Hombres\",\"Hombres\",\"Hombres\",\"Hombres\",\"Hombres\",\"Hombres\",\"Hombres\",\"Hombres\",\"Hombres\",\"Hombres\",\"Hombres\",\"Hombres\",\"Hombres\",\"Hombres\",\"Hombres\",\"Hombres\",\"Hombres\",\"Hombres\",\"Hombres\",\"Hombres\",\"Hombres\",\"Hombres\",\"Hombres\",\"Hombres\",\"Hombres\",\"Hombres\",\"Hombres\",\"Hombres\",\"Hombres\",\"Hombres\",\"Hombres\",\"Hombres\",\"Hombres\",\"Hombres\",\"Hombres\",\"Hombres\",\"Hombres\",\"Hombres\",\"Hombres\",\"Hombres\",\"Hombres\",\"Hombres\",\"Hombres\",\"Hombres\",\"Hombres\",\"Hombres\",\"Hombres\",\"Hombres\",\"Hombres\",\"Hombres\",\"Hombres\",\"Hombres\",\"Hombres\",\"Hombres\",\"Hombres\",\"Hombres\",\"Hombres\",\"Hombres\",\"Hombres\",\"Hombres\",\"Hombres\",\"Hombres\",\"Hombres\",\"Hombres\",\"Hombres\",\"Hombres\",\"Hombres\",\"Hombres\",\"Hombres\",\"Hombres\",\"Hombres\",\"Hombres\",\"Hombres\",\"Hombres\",\"Hombres\",\"Hombres\",\"Hombres\",\"Hombres\",\"Hombres\",\"Hombres\",\"Hombres\",\"Hombres\",\"Hombres\",\"Hombres\",\"Hombres\",\"Hombres\",\"Hombres\",\"Hombres\",\"Hombres\",\"Hombres\",\"Hombres\",\"Hombres\",\"Hombres\",\"Hombres\",\"Hombres\",\"Hombres\",\"Hombres\",\"Hombres\",\"Hombres\",\"Hombres\",\"Hombres\",\"Hombres\",\"Hombres\",\"Hombres\",\"Hombres\",\"Hombres\",\"Hombres\",\"Hombres\",\"Hombres\",\"Hombres\",\"Hombres\",\"Hombres\",\"Hombres\",\"Hombres\",\"Hombres\",\"Hombres\",\"Hombres\",\"Hombres\",\"Hombres\",\"Hombres\",\"Hombres\",\"Hombres\",\"Hombres\",\"Hombres\",\"Hombres\",\"Hombres\",\"Hombres\",\"Hombres\",\"Hombres\",\"Hombres\",\"Hombres\",\"Hombres\",\"Hombres\",\"Hombres\",\"Hombres\",\"Hombres\",\"Hombres\",\"Hombres\",\"Hombres\",\"Hombres\",\"Hombres\",\"Hombres\",\"Hombres\",\"Hombres\",\"Hombres\",\"Hombres\",\"Hombres\",\"Hombres\",\"Hombres\",\"Hombres\",\"Hombres\",\"Hombres\",\"Hombres\",\"Hombres\",\"Hombres\",\"Hombres\",\"Hombres\",\"Hombres\",\"Hombres\",\"Hombres\",\"Hombres\",\"Hombres\",\"Hombres\",\"Hombres\",\"Hombres\",\"Hombres\",\"Hombres\",\"Hombres\",\"Hombres\",\"Hombres\",\"Hombres\",\"Hombres\",\"Hombres\",\"Hombres\",\"Hombres\",\"Hombres\",\"Hombres\",\"Hombres\",\"Hombres\",\"Hombres\",\"Hombres\",\"Hombres\",\"Hombres\",\"Hombres\",\"Hombres\",\"Hombres\",\"Hombres\",\"Hombres\",\"Hombres\",\"Hombres\",\"Hombres\",\"Hombres\",\"Hombres\",\"Hombres\",\"Hombres\",\"Hombres\",\"Hombres\",\"Hombres\",\"Hombres\",\"Hombres\",\"Hombres\",\"Hombres\",\"Hombres\",\"Hombres\",\"Hombres\",\"Hombres\",\"Hombres\",\"Hombres\",\"Hombres\",\"Hombres\",\"Hombres\",\"Hombres\",\"Hombres\",\"Hombres\",\"Hombres\",\"Hombres\",\"Hombres\",\"Hombres\",\"Hombres\",\"Hombres\",\"Hombres\",\"Hombres\",\"Hombres\",\"Hombres\",\"Hombres\",\"Hombres\",\"Hombres\",\"Hombres\",\"Hombres\",\"Hombres\",\"Hombres\",\"Hombres\",\"Hombres\",\"Hombres\",\"Hombres\",\"Hombres\",\"Hombres\",\"Hombres\",\"Hombres\",\"Hombres\",\"Hombres\",\"Hombres\",\"Hombres\",\"Hombres\",\"Hombres\",\"Hombres\",\"Hombres\",\"Hombres\",\"Hombres\",\"Hombres\",\"Hombres\",\"Hombres\",\"Hombres\",\"Hombres\",\"Hombres\",\"Hombres\",\"Hombres\",\"Hombres\",\"Hombres\",\"Hombres\",\"Hombres\",\"Hombres\",\"Hombres\",\"Hombres\",\"Hombres\",\"Hombres\",\"Hombres\",\"Hombres\",\"Hombres\",\"Hombres\",\"Hombres\",\"Hombres\",\"Hombres\",\"Hombres\",\"Hombres\",\"Hombres\",\"Hombres\",\"Hombres\",\"Hombres\",\"Hombres\",\"Hombres\",\"Hombres\",\"Hombres\",\"Hombres\",\"Hombres\",\"Hombres\",\"Hombres\",\"Hombres\",\"Hombres\",\"Hombres\",\"Hombres\",\"Hombres\",\"Hombres\",\"Hombres\",\"Hombres\",\"Hombres\",\"Hombres\",\"Hombres\",\"Hombres\",\"Hombres\",\"Hombres\",\"Hombres\",\"Hombres\",\"Hombres\",\"Hombres\",\"Hombres\",\"Hombres\",\"Hombres\",\"Hombres\",\"Hombres\",\"Hombres\",\"Hombres\",\"Hombres\",\"Hombres\",\"Hombres\",\"Hombres\",\"Hombres\",\"Hombres\",\"Hombres\",\"Hombres\",\"Hombres\",\"Hombres\",\"Hombres\",\"Hombres\",\"Hombres\",\"Hombres\",\"Hombres\",\"Hombres\",\"Hombres\",\"Hombres\",\"Hombres\",\"Hombres\",\"Hombres\",\"Hombres\",\"Hombres\",\"Hombres\",\"Hombres\",\"Hombres\",\"Hombres\",\"Hombres\",\"Hombres\",\"Hombres\",\"Hombres\",\"Hombres\",\"Hombres\",\"Hombres\",\"Hombres\",\"Hombres\",\"Hombres\",\"Hombres\",\"Hombres\",\"Hombres\",\"Hombres\",\"Hombres\",\"Hombres\",\"Hombres\",\"Hombres\",\"Hombres\",\"Hombres\",\"Hombres\",\"Hombres\",\"Hombres\",\"Hombres\",\"Hombres\",\"Hombres\",\"Hombres\",\"Hombres\",\"Hombres\",\"Hombres\",\"Hombres\",\"Hombres\",\"Hombres\",\"Hombres\",\"Hombres\",\"Hombres\",\"Hombres\",\"Hombres\",\"Hombres\",\"Hombres\",\"Hombres\",\"Hombres\",\"Hombres\",\"Hombres\",\"Hombres\",\"Hombres\",\"Hombres\",\"Hombres\",\"Hombres\",\"Hombres\",\"Hombres\",\"Hombres\",\"Hombres\",\"Hombres\",\"Hombres\",\"Hombres\",\"Hombres\",\"Hombres\",\"Hombres\",\"Hombres\",\"Hombres\",\"Hombres\",\"Hombres\",\"Hombres\",\"Hombres\",\"Hombres\",\"Hombres\",\"Hombres\",\"Hombres\",\"Hombres\",\"Hombres\",\"Hombres\",\"Hombres\",\"Hombres\",\"Hombres\",\"Hombres\",\"Hombres\",\"Hombres\",\"Hombres\",\"Hombres\",\"Hombres\",\"Hombres\",\"Hombres\",\"Hombres\",\"Hombres\",\"Hombres\",\"Hombres\",\"Hombres\",\"Hombres\",\"Hombres\",\"Hombres\",\"Hombres\",\"Hombres\",\"Hombres\",\"Hombres\",\"Hombres\",\"Hombres\",\"Hombres\",\"Hombres\",\"Hombres\",\"Hombres\",\"Hombres\",\"Hombres\",\"Hombres\",\"Hombres\",\"Hombres\",\"Hombres\",\"Hombres\",\"Hombres\",\"Hombres\",\"Hombres\",\"Hombres\",\"Hombres\",\"Hombres\",\"Hombres\",\"Hombres\",\"Hombres\",\"Hombres\",\"Hombres\",\"Hombres\",\"Hombres\",\"Hombres\",\"Hombres\",\"Hombres\",\"Hombres\",\"Hombres\",\"Hombres\",\"Hombres\",\"Hombres\",\"Hombres\",\"Hombres\",\"Hombres\",\"Hombres\",\"Hombres\",\"Hombres\",\"Hombres\",\"Hombres\",\"Hombres\",\"Hombres\",\"Hombres\",\"Hombres\",\"Hombres\",\"Hombres\",\"Hombres\",\"Hombres\",\"Hombres\",\"Hombres\",\"Hombres\",\"Hombres\",\"Hombres\",\"Hombres\",\"Hombres\",\"Hombres\",\"Hombres\",\"Hombres\",\"Hombres\",\"Hombres\",\"Hombres\",\"Hombres\",\"Hombres\",\"Hombres\",\"Hombres\",\"Hombres\",\"Hombres\",\"Hombres\",\"Hombres\",\"Hombres\",\"Hombres\",\"Hombres\",\"Hombres\",\"Hombres\",\"Hombres\",\"Hombres\",\"Hombres\",\"Hombres\",\"Hombres\",\"Hombres\",\"Hombres\",\"Hombres\",\"Hombres\",\"Hombres\",\"Hombres\",\"Hombres\",\"Hombres\",\"Hombres\",\"Hombres\",\"Hombres\",\"Hombres\",\"Hombres\",\"Hombres\",\"Hombres\",\"Hombres\",\"Hombres\",\"Hombres\",\"Hombres\",\"Hombres\",\"Hombres\",\"Hombres\",\"Hombres\",\"Hombres\",\"Hombres\",\"Hombres\",\"Hombres\",\"Hombres\",\"Hombres\",\"Hombres\",\"Hombres\",\"Hombres\",\"Hombres\",\"Hombres\",\"Hombres\",\"Hombres\",\"Hombres\",\"Hombres\",\"Hombres\",\"Hombres\",\"Hombres\",\"Hombres\",\"Hombres\",\"Hombres\",\"Hombres\",\"Hombres\",\"Hombres\",\"Hombres\",\"Hombres\",\"Hombres\",\"Hombres\",\"Hombres\",\"Hombres\",\"Hombres\",\"Hombres\",\"Hombres\",\"Hombres\",\"Hombres\",\"Hombres\",\"Hombres\",\"Hombres\",\"Hombres\",\"Hombres\",\"Hombres\",\"Hombres\",\"Hombres\",\"Hombres\",\"Hombres\",\"Hombres\",\"Hombres\",\"Hombres\",\"Hombres\",\"Hombres\",\"Hombres\",\"Hombres\",\"Hombres\",\"Hombres\",\"Hombres\",\"Hombres\",\"Hombres\",\"Hombres\",\"Hombres\",\"Hombres\",\"Hombres\",\"Hombres\",\"Hombres\",\"Hombres\",\"Hombres\",\"Hombres\",\"Hombres\",\"Hombres\",\"Hombres\",\"Hombres\",\"Hombres\",\"Hombres\",\"Hombres\",\"Hombres\",\"Hombres\",\"Hombres\",\"Hombres\",\"Hombres\",\"Hombres\",\"Hombres\",\"Hombres\",\"Hombres\",\"Hombres\",\"Hombres\",\"Hombres\",\"Hombres\",\"Hombres\",\"Hombres\",\"Hombres\",\"Hombres\",\"Hombres\",\"Hombres\",\"Hombres\",\"Hombres\",\"Hombres\",\"Hombres\",\"Hombres\",\"Hombres\",\"Hombres\",\"Hombres\",\"Hombres\",\"Hombres\",\"Hombres\",\"Hombres\",\"Hombres\",\"Hombres\",\"Hombres\",\"Hombres\",\"Hombres\",\"Hombres\",\"Hombres\",\"Hombres\",\"Hombres\",\"Hombres\",\"Hombres\",\"Hombres\",\"Hombres\",\"Hombres\",\"Hombres\",\"Hombres\",\"Hombres\",\"Hombres\",\"Hombres\",\"Hombres\",\"Hombres\",\"Hombres\",\"Hombres\",\"Hombres\",\"Hombres\",\"Hombres\",\"Hombres\",\"Hombres\",\"Hombres\",\"Hombres\",\"Hombres\",\"Hombres\",\"Hombres\",\"Hombres\",\"Hombres\",\"Hombres\",\"Hombres\",\"Hombres\",\"Hombres\",\"Hombres\",\"Hombres\",\"Hombres\",\"Hombres\",\"Hombres\",\"Hombres\",\"Hombres\",\"Hombres\",\"Hombres\",\"Hombres\",\"Hombres\",\"Hombres\",\"Hombres\",\"Hombres\",\"Hombres\",\"Hombres\",\"Hombres\",\"Hombres\",\"Hombres\",\"Hombres\",\"Hombres\",\"Hombres\",\"Hombres\",\"Hombres\",\"Hombres\",\"Hombres\",\"Hombres\",\"Hombres\",\"Hombres\",\"Hombres\",\"Hombres\",\"Hombres\",\"Hombres\",\"Hombres\",\"Hombres\",\"Hombres\",\"Hombres\",\"Hombres\",\"Hombres\",\"Hombres\",\"Hombres\",\"Hombres\",\"Hombres\",\"Hombres\",\"Hombres\",\"Hombres\",\"Hombres\",\"Hombres\",\"Hombres\",\"Hombres\",\"Hombres\",\"Hombres\",\"Hombres\",\"Hombres\",\"Hombres\",\"Hombres\",\"Hombres\",\"Hombres\",\"Hombres\",\"Hombres\",\"Hombres\",\"Hombres\",\"Hombres\",\"Hombres\",\"Hombres\",\"Hombres\",\"Hombres\",\"Hombres\",\"Hombres\",\"Hombres\",\"Hombres\",\"Hombres\",\"Hombres\",\"Hombres\",\"Hombres\",\"Hombres\",\"Hombres\",\"Hombres\",\"Hombres\",\"Hombres\",\"Hombres\",\"Hombres\",\"Hombres\",\"Hombres\",\"Hombres\",\"Hombres\",\"Hombres\",\"Hombres\",\"Hombres\",\"Hombres\",\"Hombres\",\"Hombres\",\"Hombres\",\"Hombres\",\"Hombres\",\"Hombres\",\"Hombres\",\"Hombres\",\"Hombres\",\"Hombres\",\"Hombres\",\"Hombres\",\"Hombres\",\"Hombres\",\"Hombres\",\"Hombres\",\"Hombres\",\"Hombres\",\"Hombres\",\"Hombres\",\"Hombres\",\"Hombres\",\"Hombres\",\"Hombres\",\"Hombres\",\"Hombres\",\"Hombres\",\"Hombres\",\"Hombres\",\"Hombres\",\"Hombres\",\"Hombres\",\"Hombres\",\"Hombres\",\"Hombres\",\"Hombres\",\"Hombres\",\"Hombres\",\"Hombres\",\"Hombres\",\"Hombres\",\"Hombres\",\"Hombres\",\"Mujeres\",\"Mujeres\",\"Mujeres\",\"Mujeres\",\"Mujeres\",\"Mujeres\",\"Mujeres\",\"Mujeres\",\"Mujeres\",\"Mujeres\",\"Mujeres\",\"Mujeres\",\"Mujeres\",\"Mujeres\",\"Mujeres\",\"Mujeres\",\"Mujeres\",\"Mujeres\",\"Mujeres\",\"Mujeres\",\"Mujeres\",\"Mujeres\",\"Mujeres\",\"Mujeres\",\"Mujeres\",\"Mujeres\",\"Mujeres\",\"Mujeres\",\"Mujeres\",\"Mujeres\",\"Mujeres\",\"Mujeres\",\"Mujeres\",\"Mujeres\",\"Mujeres\",\"Mujeres\",\"Mujeres\",\"Mujeres\",\"Mujeres\",\"Mujeres\",\"Mujeres\",\"Mujeres\",\"Mujeres\",\"Mujeres\",\"Mujeres\",\"Mujeres\",\"Mujeres\",\"Mujeres\",\"Mujeres\",\"Mujeres\",\"Mujeres\",\"Mujeres\",\"Mujeres\",\"Mujeres\",\"Mujeres\",\"Mujeres\",\"Mujeres\",\"Mujeres\",\"Mujeres\",\"Mujeres\",\"Mujeres\",\"Mujeres\",\"Mujeres\",\"Mujeres\",\"Mujeres\",\"Mujeres\",\"Mujeres\",\"Mujeres\",\"Mujeres\",\"Mujeres\",\"Mujeres\",\"Mujeres\",\"Mujeres\",\"Mujeres\",\"Mujeres\",\"Mujeres\",\"Mujeres\",\"Mujeres\",\"Mujeres\",\"Mujeres\",\"Mujeres\",\"Mujeres\",\"Mujeres\",\"Mujeres\",\"Mujeres\",\"Mujeres\",\"Mujeres\",\"Mujeres\",\"Mujeres\",\"Mujeres\",\"Mujeres\",\"Mujeres\",\"Mujeres\",\"Mujeres\",\"Mujeres\",\"Mujeres\",\"Mujeres\",\"Mujeres\",\"Mujeres\",\"Mujeres\",\"Mujeres\",\"Mujeres\",\"Mujeres\",\"Mujeres\",\"Mujeres\",\"Mujeres\",\"Mujeres\",\"Mujeres\",\"Mujeres\",\"Mujeres\",\"Mujeres\",\"Mujeres\",\"Mujeres\",\"Mujeres\",\"Mujeres\",\"Mujeres\",\"Mujeres\",\"Mujeres\",\"Mujeres\",\"Mujeres\",\"Mujeres\",\"Mujeres\",\"Mujeres\",\"Mujeres\",\"Mujeres\",\"Mujeres\",\"Mujeres\",\"Mujeres\",\"Mujeres\",\"Mujeres\",\"Mujeres\",\"Mujeres\",\"Mujeres\",\"Mujeres\",\"Mujeres\",\"Mujeres\",\"Mujeres\",\"Mujeres\",\"Mujeres\",\"Mujeres\",\"Mujeres\",\"Mujeres\",\"Mujeres\",\"Mujeres\",\"Mujeres\",\"Mujeres\",\"Mujeres\",\"Mujeres\",\"Mujeres\",\"Mujeres\",\"Mujeres\",\"Mujeres\",\"Mujeres\",\"Mujeres\",\"Mujeres\",\"Mujeres\",\"Mujeres\",\"Mujeres\",\"Mujeres\",\"Mujeres\",\"Mujeres\",\"Mujeres\",\"Mujeres\",\"Mujeres\",\"Mujeres\",\"Mujeres\",\"Mujeres\",\"Mujeres\",\"Mujeres\",\"Mujeres\",\"Mujeres\",\"Mujeres\",\"Mujeres\",\"Mujeres\",\"Mujeres\",\"Mujeres\",\"Mujeres\",\"Mujeres\",\"Mujeres\",\"Mujeres\",\"Mujeres\",\"Mujeres\",\"Mujeres\",\"Mujeres\",\"Mujeres\",\"Mujeres\",\"Mujeres\",\"Mujeres\",\"Mujeres\",\"Mujeres\",\"Mujeres\",\"Mujeres\",\"Mujeres\",\"Mujeres\",\"Mujeres\",\"Mujeres\",\"Mujeres\",\"Mujeres\",\"Mujeres\",\"Mujeres\",\"Mujeres\",\"Mujeres\",\"Mujeres\",\"Mujeres\",\"Mujeres\",\"Mujeres\",\"Mujeres\",\"Mujeres\",\"Mujeres\",\"Mujeres\",\"Mujeres\",\"Mujeres\",\"Mujeres\",\"Mujeres\",\"Mujeres\",\"Mujeres\",\"Mujeres\",\"Mujeres\",\"Mujeres\",\"Mujeres\",\"Mujeres\",\"Mujeres\",\"Mujeres\",\"Mujeres\",\"Mujeres\",\"Mujeres\",\"Mujeres\",\"Mujeres\",\"Mujeres\",\"Mujeres\",\"Mujeres\",\"Mujeres\",\"Mujeres\",\"Mujeres\",\"Mujeres\",\"Mujeres\",\"Mujeres\",\"Mujeres\",\"Mujeres\",\"Mujeres\",\"Mujeres\",\"Mujeres\",\"Mujeres\",\"Mujeres\",\"Mujeres\",\"Mujeres\",\"Mujeres\",\"Mujeres\",\"Mujeres\",\"Mujeres\",\"Mujeres\",\"Mujeres\",\"Mujeres\",\"Mujeres\",\"Mujeres\",\"Mujeres\",\"Mujeres\",\"Mujeres\",\"Mujeres\",\"Mujeres\",\"Mujeres\",\"Mujeres\",\"Mujeres\",\"Mujeres\",\"Mujeres\",\"Mujeres\",\"Mujeres\",\"Mujeres\",\"Mujeres\",\"Mujeres\",\"Mujeres\",\"Mujeres\",\"Mujeres\",\"Mujeres\",\"Mujeres\",\"Mujeres\",\"Mujeres\",\"Mujeres\",\"Mujeres\",\"Mujeres\",\"Mujeres\",\"Mujeres\",\"Mujeres\",\"Mujeres\",\"Mujeres\",\"Mujeres\",\"Mujeres\",\"Mujeres\",\"Mujeres\",\"Mujeres\",\"Mujeres\",\"Mujeres\",\"Mujeres\",\"Mujeres\",\"Mujeres\",\"Mujeres\",\"Mujeres\",\"Mujeres\",\"Mujeres\",\"Mujeres\",\"Mujeres\",\"Mujeres\",\"Mujeres\",\"Mujeres\",\"Mujeres\",\"Mujeres\",\"Mujeres\",\"Mujeres\",\"Mujeres\",\"Mujeres\",\"Mujeres\",\"Mujeres\",\"Mujeres\",\"Mujeres\",\"Mujeres\",\"Mujeres\",\"Mujeres\",\"Mujeres\",\"Mujeres\",\"Mujeres\",\"Mujeres\",\"Mujeres\",\"Mujeres\",\"Mujeres\",\"Mujeres\",\"Mujeres\",\"Mujeres\",\"Mujeres\",\"Mujeres\",\"Mujeres\",\"Mujeres\",\"Mujeres\",\"Mujeres\",\"Mujeres\",\"Mujeres\",\"Mujeres\",\"Mujeres\",\"Mujeres\",\"Mujeres\",\"Mujeres\",\"Mujeres\",\"Mujeres\",\"Mujeres\",\"Mujeres\",\"Mujeres\",\"Mujeres\",\"Mujeres\",\"Mujeres\",\"Mujeres\",\"Mujeres\",\"Mujeres\",\"Mujeres\",\"Mujeres\",\"Mujeres\",\"Mujeres\",\"Mujeres\",\"Mujeres\",\"Mujeres\",\"Mujeres\",\"Mujeres\",\"Mujeres\",\"Mujeres\",\"Mujeres\",\"Mujeres\",\"Mujeres\",\"Mujeres\",\"Mujeres\",\"Mujeres\",\"Mujeres\",\"Mujeres\",\"Mujeres\",\"Mujeres\",\"Mujeres\",\"Mujeres\",\"Mujeres\",\"Mujeres\",\"Mujeres\",\"Mujeres\",\"Mujeres\",\"Mujeres\",\"Mujeres\",\"Mujeres\",\"Mujeres\",\"Mujeres\",\"Mujeres\",\"Mujeres\",\"Mujeres\",\"Mujeres\",\"Mujeres\",\"Mujeres\",\"Mujeres\",\"Mujeres\",\"Mujeres\",\"Mujeres\",\"Mujeres\",\"Mujeres\",\"Mujeres\",\"Mujeres\",\"Mujeres\",\"Mujeres\",\"Mujeres\",\"Mujeres\",\"Mujeres\",\"Mujeres\",\"Mujeres\",\"Mujeres\",\"Mujeres\",\"Mujeres\",\"Mujeres\",\"Mujeres\",\"Mujeres\",\"Mujeres\",\"Mujeres\",\"Mujeres\",\"Mujeres\",\"Mujeres\",\"Mujeres\",\"Mujeres\",\"Mujeres\",\"Mujeres\",\"Mujeres\",\"Mujeres\",\"Mujeres\",\"Mujeres\",\"Mujeres\",\"Mujeres\",\"Mujeres\",\"Mujeres\",\"Mujeres\",\"Mujeres\",\"Mujeres\",\"Mujeres\",\"Mujeres\",\"Mujeres\",\"Mujeres\",\"Mujeres\",\"Mujeres\",\"Mujeres\",\"Mujeres\",\"Mujeres\",\"Mujeres\",\"Mujeres\",\"Mujeres\",\"Mujeres\",\"Mujeres\",\"Mujeres\",\"Mujeres\",\"Mujeres\",\"Mujeres\",\"Mujeres\",\"Mujeres\",\"Mujeres\",\"Mujeres\",\"Mujeres\",\"Mujeres\",\"Mujeres\",\"Mujeres\",\"Mujeres\",\"Mujeres\",\"Mujeres\",\"Mujeres\",\"Mujeres\",\"Mujeres\",\"Mujeres\",\"Mujeres\",\"Mujeres\",\"Mujeres\",\"Mujeres\",\"Mujeres\",\"Mujeres\",\"Mujeres\",\"Mujeres\",\"Mujeres\",\"Mujeres\",\"Mujeres\",\"Mujeres\",\"Mujeres\",\"Mujeres\",\"Mujeres\",\"Mujeres\",\"Mujeres\",\"Mujeres\",\"Mujeres\",\"Mujeres\",\"Mujeres\",\"Mujeres\",\"Mujeres\",\"Mujeres\",\"Mujeres\",\"Mujeres\",\"Mujeres\",\"Mujeres\",\"Mujeres\",\"Mujeres\",\"Mujeres\",\"Mujeres\",\"Mujeres\",\"Mujeres\",\"Mujeres\",\"Mujeres\",\"Mujeres\",\"Mujeres\",\"Mujeres\",\"Mujeres\",\"Mujeres\",\"Mujeres\",\"Mujeres\",\"Mujeres\",\"Mujeres\",\"Mujeres\",\"Mujeres\",\"Mujeres\",\"Mujeres\",\"Mujeres\",\"Mujeres\",\"Mujeres\",\"Mujeres\",\"Mujeres\",\"Mujeres\",\"Mujeres\",\"Mujeres\",\"Mujeres\",\"Mujeres\",\"Mujeres\",\"Mujeres\",\"Mujeres\",\"Mujeres\",\"Mujeres\",\"Mujeres\",\"Mujeres\",\"Mujeres\",\"Mujeres\",\"Mujeres\",\"Mujeres\",\"Mujeres\",\"Mujeres\",\"Mujeres\",\"Mujeres\",\"Mujeres\",\"Mujeres\",\"Mujeres\",\"Mujeres\",\"Mujeres\",\"Mujeres\",\"Mujeres\",\"Mujeres\",\"Mujeres\",\"Mujeres\",\"Mujeres\",\"Mujeres\",\"Mujeres\",\"Mujeres\",\"Mujeres\",\"Mujeres\",\"Mujeres\",\"Mujeres\",\"Mujeres\",\"Mujeres\",\"Mujeres\",\"Mujeres\",\"Mujeres\",\"Mujeres\",\"Mujeres\",\"Mujeres\",\"Mujeres\",\"Mujeres\",\"Mujeres\",\"Mujeres\",\"Mujeres\",\"Mujeres\",\"Mujeres\",\"Mujeres\",\"Mujeres\",\"Mujeres\",\"Mujeres\",\"Mujeres\",\"Mujeres\",\"Mujeres\",\"Mujeres\",\"Mujeres\",\"Mujeres\",\"Mujeres\",\"Mujeres\",\"Mujeres\",\"Mujeres\",\"Mujeres\",\"Mujeres\",\"Mujeres\",\"Mujeres\",\"Mujeres\",\"Mujeres\",\"Mujeres\",\"Mujeres\",\"Mujeres\",\"Mujeres\",\"Mujeres\",\"Mujeres\",\"Mujeres\",\"Mujeres\",\"Mujeres\",\"Mujeres\",\"Mujeres\",\"Mujeres\",\"Mujeres\",\"Mujeres\",\"Mujeres\",\"Mujeres\",\"Mujeres\",\"Mujeres\",\"Mujeres\",\"Mujeres\",\"Mujeres\",\"Mujeres\",\"Mujeres\",\"Mujeres\",\"Mujeres\",\"Mujeres\",\"Mujeres\",\"Mujeres\",\"Mujeres\",\"Mujeres\",\"Mujeres\",\"Mujeres\",\"Mujeres\",\"Mujeres\",\"Mujeres\",\"Mujeres\",\"Mujeres\",\"Mujeres\",\"Mujeres\",\"Mujeres\",\"Mujeres\",\"Mujeres\",\"Mujeres\",\"Mujeres\",\"Mujeres\",\"Mujeres\",\"Mujeres\",\"Mujeres\",\"Mujeres\",\"Mujeres\",\"Mujeres\",\"Mujeres\",\"Mujeres\",\"Mujeres\",\"Mujeres\",\"Mujeres\",\"Mujeres\",\"Mujeres\",\"Mujeres\",\"Mujeres\",\"Mujeres\",\"Mujeres\",\"Mujeres\",\"Mujeres\",\"Mujeres\",\"Mujeres\",\"Mujeres\",\"Mujeres\",\"Mujeres\",\"Mujeres\",\"Mujeres\",\"Mujeres\",\"Mujeres\",\"Mujeres\",\"Mujeres\",\"Mujeres\",\"Mujeres\",\"Mujeres\",\"Mujeres\",\"Mujeres\",\"Mujeres\",\"Mujeres\",\"Mujeres\",\"Mujeres\",\"Mujeres\",\"Mujeres\",\"Mujeres\",\"Mujeres\",\"Mujeres\",\"Mujeres\",\"Mujeres\",\"Mujeres\",\"Mujeres\",\"Mujeres\",\"Mujeres\",\"Mujeres\",\"Mujeres\",\"Mujeres\",\"Mujeres\",\"Mujeres\",\"Mujeres\",\"Mujeres\",\"Mujeres\",\"Mujeres\",\"Mujeres\",\"Mujeres\",\"Mujeres\",\"Mujeres\",\"Mujeres\",\"Mujeres\",\"Mujeres\",\"Mujeres\",\"Mujeres\",\"Mujeres\",\"Mujeres\",\"Mujeres\",\"Mujeres\",\"Mujeres\",\"Mujeres\",\"Mujeres\",\"Mujeres\",\"Mujeres\",\"Mujeres\",\"Mujeres\",\"Mujeres\",\"Mujeres\",\"Mujeres\",\"Mujeres\",\"Mujeres\",\"Mujeres\",\"Mujeres\",\"Mujeres\",\"Mujeres\",\"Mujeres\",\"Mujeres\",\"Mujeres\",\"Mujeres\",\"Mujeres\",\"Mujeres\",\"Mujeres\",\"Mujeres\",\"Mujeres\",\"Mujeres\",\"Mujeres\",\"Mujeres\",\"Mujeres\",\"Mujeres\",\"Mujeres\",\"Mujeres\",\"Mujeres\",\"Mujeres\",\"Mujeres\",\"Mujeres\",\"Mujeres\",\"Mujeres\",\"Mujeres\",\"Mujeres\",\"Mujeres\",\"Mujeres\",\"Mujeres\",\"Mujeres\",\"Mujeres\",\"Mujeres\",\"Mujeres\",\"Mujeres\",\"Mujeres\",\"Mujeres\",\"Mujeres\",\"Mujeres\",\"Mujeres\",\"Mujeres\",\"Mujeres\",\"Mujeres\",\"Mujeres\",\"Mujeres\",\"Mujeres\",\"Mujeres\",\"Mujeres\",\"Mujeres\",\"Mujeres\",\"Mujeres\",\"Mujeres\",\"Mujeres\",\"Mujeres\",\"Mujeres\",\"Mujeres\",\"Mujeres\",\"Mujeres\",\"Mujeres\",\"Mujeres\",\"Mujeres\",\"Mujeres\",\"Mujeres\",\"Mujeres\",\"Mujeres\",\"Mujeres\",\"Mujeres\",\"Mujeres\",\"Mujeres\",\"Mujeres\",\"Mujeres\",\"Mujeres\",\"Mujeres\",\"Mujeres\",\"Mujeres\",\"Mujeres\",\"Mujeres\",\"Mujeres\",\"Mujeres\",\"Mujeres\",\"Mujeres\",\"Mujeres\",\"Mujeres\",\"Mujeres\",\"Mujeres\",\"Mujeres\",\"Mujeres\",\"Mujeres\",\"Mujeres\",\"Mujeres\",\"Mujeres\",\"Mujeres\",\"Mujeres\",\"Mujeres\",\"Mujeres\",\"Mujeres\",\"Mujeres\",\"Mujeres\"],\"legendgroup\":\"\",\"marker\":{\"colors\":[\"grey\",\"grey\",\"grey\",\"grey\",\"grey\",\"grey\",\"grey\",\"grey\",\"grey\",\"grey\",\"grey\",\"grey\",\"grey\",\"grey\",\"grey\",\"grey\",\"grey\",\"grey\",\"grey\",\"grey\",\"grey\",\"grey\",\"grey\",\"grey\",\"grey\",\"grey\",\"grey\",\"grey\",\"grey\",\"grey\",\"grey\",\"grey\",\"grey\",\"grey\",\"grey\",\"grey\",\"grey\",\"grey\",\"grey\",\"grey\",\"grey\",\"grey\",\"grey\",\"grey\",\"grey\",\"grey\",\"grey\",\"grey\",\"grey\",\"grey\",\"grey\",\"grey\",\"grey\",\"grey\",\"grey\",\"grey\",\"grey\",\"grey\",\"grey\",\"grey\",\"grey\",\"grey\",\"grey\",\"grey\",\"grey\",\"grey\",\"grey\",\"grey\",\"grey\",\"grey\",\"grey\",\"grey\",\"grey\",\"grey\",\"grey\",\"grey\",\"grey\",\"grey\",\"grey\",\"grey\",\"grey\",\"grey\",\"grey\",\"grey\",\"grey\",\"grey\",\"grey\",\"grey\",\"grey\",\"grey\",\"grey\",\"grey\",\"grey\",\"grey\",\"grey\",\"grey\",\"grey\",\"grey\",\"grey\",\"grey\",\"grey\",\"grey\",\"grey\",\"grey\",\"grey\",\"grey\",\"grey\",\"grey\",\"grey\",\"grey\",\"grey\",\"grey\",\"grey\",\"grey\",\"grey\",\"grey\",\"grey\",\"grey\",\"grey\",\"grey\",\"grey\",\"grey\",\"grey\",\"grey\",\"grey\",\"grey\",\"grey\",\"grey\",\"grey\",\"grey\",\"grey\",\"grey\",\"grey\",\"grey\",\"grey\",\"grey\",\"grey\",\"grey\",\"grey\",\"grey\",\"grey\",\"grey\",\"grey\",\"grey\",\"grey\",\"grey\",\"grey\",\"grey\",\"grey\",\"grey\",\"grey\",\"grey\",\"grey\",\"grey\",\"grey\",\"grey\",\"grey\",\"grey\",\"grey\",\"grey\",\"grey\",\"grey\",\"grey\",\"grey\",\"grey\",\"grey\",\"grey\",\"grey\",\"grey\",\"grey\",\"grey\",\"grey\",\"grey\",\"grey\",\"grey\",\"grey\",\"grey\",\"grey\",\"grey\",\"grey\",\"grey\",\"grey\",\"grey\",\"grey\",\"grey\",\"grey\",\"grey\",\"grey\",\"grey\",\"grey\",\"grey\",\"grey\",\"grey\",\"grey\",\"grey\",\"grey\",\"grey\",\"grey\",\"grey\",\"grey\",\"grey\",\"grey\",\"grey\",\"grey\",\"grey\",\"grey\",\"grey\",\"grey\",\"grey\",\"grey\",\"grey\",\"grey\",\"grey\",\"grey\",\"grey\",\"grey\",\"grey\",\"grey\",\"grey\",\"grey\",\"grey\",\"grey\",\"grey\",\"grey\",\"grey\",\"grey\",\"grey\",\"grey\",\"grey\",\"grey\",\"grey\",\"grey\",\"grey\",\"grey\",\"grey\",\"grey\",\"grey\",\"grey\",\"grey\",\"grey\",\"grey\",\"grey\",\"grey\",\"grey\",\"grey\",\"grey\",\"grey\",\"grey\",\"grey\",\"grey\",\"grey\",\"grey\",\"grey\",\"grey\",\"grey\",\"grey\",\"grey\",\"grey\",\"grey\",\"grey\",\"grey\",\"grey\",\"grey\",\"grey\",\"grey\",\"grey\",\"grey\",\"grey\",\"grey\",\"grey\",\"grey\",\"grey\",\"grey\",\"grey\",\"grey\",\"grey\",\"grey\",\"grey\",\"grey\",\"grey\",\"grey\",\"grey\",\"grey\",\"grey\",\"grey\",\"grey\",\"grey\",\"grey\",\"grey\",\"grey\",\"grey\",\"grey\",\"grey\",\"grey\",\"grey\",\"grey\",\"grey\",\"grey\",\"grey\",\"grey\",\"grey\",\"grey\",\"grey\",\"grey\",\"grey\",\"grey\",\"grey\",\"grey\",\"grey\",\"grey\",\"grey\",\"grey\",\"grey\",\"grey\",\"grey\",\"grey\",\"grey\",\"grey\",\"grey\",\"grey\",\"grey\",\"grey\",\"grey\",\"grey\",\"grey\",\"grey\",\"grey\",\"grey\",\"grey\",\"grey\",\"grey\",\"grey\",\"grey\",\"grey\",\"grey\",\"grey\",\"grey\",\"grey\",\"grey\",\"grey\",\"grey\",\"grey\",\"grey\",\"grey\",\"grey\",\"grey\",\"grey\",\"grey\",\"grey\",\"grey\",\"grey\",\"grey\",\"grey\",\"grey\",\"grey\",\"grey\",\"grey\",\"grey\",\"grey\",\"grey\",\"grey\",\"grey\",\"grey\",\"grey\",\"grey\",\"grey\",\"grey\",\"grey\",\"grey\",\"grey\",\"grey\",\"grey\",\"grey\",\"grey\",\"grey\",\"grey\",\"grey\",\"grey\",\"grey\",\"grey\",\"grey\",\"grey\",\"grey\",\"grey\",\"grey\",\"grey\",\"grey\",\"grey\",\"grey\",\"grey\",\"grey\",\"grey\",\"grey\",\"grey\",\"grey\",\"grey\",\"grey\",\"grey\",\"grey\",\"grey\",\"grey\",\"grey\",\"grey\",\"grey\",\"grey\",\"grey\",\"grey\",\"grey\",\"grey\",\"grey\",\"grey\",\"grey\",\"grey\",\"grey\",\"grey\",\"grey\",\"grey\",\"grey\",\"grey\",\"grey\",\"grey\",\"grey\",\"grey\",\"grey\",\"grey\",\"grey\",\"grey\",\"grey\",\"grey\",\"grey\",\"grey\",\"grey\",\"grey\",\"grey\",\"grey\",\"grey\",\"grey\",\"grey\",\"grey\",\"grey\",\"grey\",\"grey\",\"grey\",\"grey\",\"grey\",\"grey\",\"grey\",\"grey\",\"grey\",\"grey\",\"grey\",\"grey\",\"grey\",\"grey\",\"grey\",\"grey\",\"grey\",\"grey\",\"grey\",\"grey\",\"grey\",\"grey\",\"grey\",\"grey\",\"grey\",\"grey\",\"grey\",\"grey\",\"grey\",\"grey\",\"grey\",\"grey\",\"grey\",\"grey\",\"grey\",\"grey\",\"grey\",\"grey\",\"grey\",\"grey\",\"grey\",\"grey\",\"grey\",\"grey\",\"grey\",\"grey\",\"grey\",\"grey\",\"grey\",\"grey\",\"grey\",\"grey\",\"grey\",\"grey\",\"grey\",\"grey\",\"grey\",\"grey\",\"grey\",\"grey\",\"grey\",\"grey\",\"grey\",\"grey\",\"grey\",\"grey\",\"grey\",\"grey\",\"grey\",\"grey\",\"grey\",\"grey\",\"grey\",\"grey\",\"grey\",\"grey\",\"grey\",\"grey\",\"grey\",\"grey\",\"grey\",\"grey\",\"grey\",\"grey\",\"grey\",\"grey\",\"grey\",\"grey\",\"grey\",\"grey\",\"grey\",\"grey\",\"grey\",\"grey\",\"grey\",\"grey\",\"grey\",\"grey\",\"grey\",\"grey\",\"grey\",\"grey\",\"grey\",\"grey\",\"grey\",\"grey\",\"grey\",\"grey\",\"grey\",\"grey\",\"grey\",\"grey\",\"grey\",\"grey\",\"grey\",\"grey\",\"grey\",\"grey\",\"grey\",\"grey\",\"grey\",\"grey\",\"grey\",\"grey\",\"grey\",\"grey\",\"grey\",\"grey\",\"grey\",\"grey\",\"grey\",\"grey\",\"grey\",\"grey\",\"grey\",\"grey\",\"grey\",\"grey\",\"grey\",\"grey\",\"grey\",\"grey\",\"grey\",\"grey\",\"grey\",\"grey\",\"grey\",\"grey\",\"grey\",\"grey\",\"grey\",\"grey\",\"grey\",\"grey\",\"grey\",\"grey\",\"grey\",\"grey\",\"grey\",\"grey\",\"grey\",\"grey\",\"grey\",\"grey\",\"grey\",\"grey\",\"grey\",\"grey\",\"grey\",\"grey\",\"grey\",\"grey\",\"grey\",\"grey\",\"grey\",\"grey\",\"grey\",\"grey\",\"grey\",\"grey\",\"grey\",\"grey\",\"grey\",\"grey\",\"grey\",\"grey\",\"grey\",\"grey\",\"grey\",\"grey\",\"grey\",\"grey\",\"grey\",\"grey\",\"grey\",\"grey\",\"grey\",\"grey\",\"grey\",\"grey\",\"grey\",\"grey\",\"grey\",\"grey\",\"grey\",\"grey\",\"grey\",\"grey\",\"grey\",\"grey\",\"grey\",\"grey\",\"grey\",\"grey\",\"grey\",\"grey\",\"grey\",\"grey\",\"grey\",\"grey\",\"grey\",\"grey\",\"grey\",\"grey\",\"grey\",\"grey\",\"grey\",\"grey\",\"grey\",\"grey\",\"grey\",\"grey\",\"grey\",\"grey\",\"grey\",\"grey\",\"grey\",\"grey\",\"grey\",\"grey\",\"grey\",\"grey\",\"grey\",\"grey\",\"grey\",\"grey\",\"grey\",\"grey\",\"grey\",\"grey\",\"grey\",\"grey\",\"grey\",\"grey\",\"grey\",\"grey\",\"grey\",\"grey\",\"grey\",\"grey\",\"grey\",\"grey\",\"grey\",\"grey\",\"grey\",\"grey\",\"grey\",\"grey\",\"grey\",\"grey\",\"grey\",\"grey\",\"grey\",\"grey\",\"grey\",\"grey\",\"grey\",\"grey\",\"grey\",\"grey\",\"grey\",\"grey\",\"grey\",\"grey\",\"grey\",\"grey\",\"grey\",\"grey\",\"grey\",\"grey\",\"grey\",\"grey\",\"grey\",\"grey\",\"grey\",\"grey\",\"grey\",\"grey\",\"grey\",\"grey\",\"grey\",\"grey\",\"grey\",\"grey\",\"grey\",\"grey\",\"grey\",\"grey\",\"grey\",\"grey\",\"grey\",\"grey\",\"grey\",\"grey\",\"grey\",\"grey\",\"grey\",\"grey\",\"grey\",\"grey\",\"grey\",\"grey\",\"grey\",\"grey\",\"grey\",\"grey\",\"grey\",\"grey\",\"grey\",\"grey\",\"grey\",\"grey\",\"grey\",\"grey\",\"grey\",\"grey\",\"grey\",\"grey\",\"grey\",\"grey\",\"grey\",\"grey\",\"grey\",\"grey\",\"grey\",\"grey\",\"grey\",\"grey\",\"grey\",\"grey\",\"grey\",\"grey\",\"grey\",\"grey\",\"grey\",\"grey\",\"grey\",\"grey\",\"grey\",\"grey\",\"grey\",\"grey\",\"grey\",\"grey\",\"grey\",\"grey\",\"grey\",\"grey\",\"grey\",\"grey\",\"grey\",\"grey\",\"grey\",\"grey\",\"grey\",\"grey\",\"grey\",\"grey\",\"grey\",\"gold\",\"gold\",\"gold\",\"gold\",\"gold\",\"gold\",\"gold\",\"gold\",\"gold\",\"gold\",\"gold\",\"gold\",\"gold\",\"gold\",\"gold\",\"gold\",\"gold\",\"gold\",\"gold\",\"gold\",\"gold\",\"gold\",\"gold\",\"gold\",\"gold\",\"gold\",\"gold\",\"gold\",\"gold\",\"gold\",\"gold\",\"gold\",\"gold\",\"gold\",\"gold\",\"gold\",\"gold\",\"gold\",\"gold\",\"gold\",\"gold\",\"gold\",\"gold\",\"gold\",\"gold\",\"gold\",\"gold\",\"gold\",\"gold\",\"gold\",\"gold\",\"gold\",\"gold\",\"gold\",\"gold\",\"gold\",\"gold\",\"gold\",\"gold\",\"gold\",\"gold\",\"gold\",\"gold\",\"gold\",\"gold\",\"gold\",\"gold\",\"gold\",\"gold\",\"gold\",\"gold\",\"gold\",\"gold\",\"gold\",\"gold\",\"gold\",\"gold\",\"gold\",\"gold\",\"gold\",\"gold\",\"gold\",\"gold\",\"gold\",\"gold\",\"gold\",\"gold\",\"gold\",\"gold\",\"gold\",\"gold\",\"gold\",\"gold\",\"gold\",\"gold\",\"gold\",\"gold\",\"gold\",\"gold\",\"gold\",\"gold\",\"gold\",\"gold\",\"gold\",\"gold\",\"gold\",\"gold\",\"gold\",\"gold\",\"gold\",\"gold\",\"gold\",\"gold\",\"gold\",\"gold\",\"gold\",\"gold\",\"gold\",\"gold\",\"gold\",\"gold\",\"gold\",\"gold\",\"gold\",\"gold\",\"gold\",\"gold\",\"gold\",\"gold\",\"gold\",\"gold\",\"gold\",\"gold\",\"gold\",\"gold\",\"gold\",\"gold\",\"gold\",\"gold\",\"gold\",\"gold\",\"gold\",\"gold\",\"gold\",\"gold\",\"gold\",\"gold\",\"gold\",\"gold\",\"gold\",\"gold\",\"gold\",\"gold\",\"gold\",\"gold\",\"gold\",\"gold\",\"gold\",\"gold\",\"gold\",\"gold\",\"gold\",\"gold\",\"gold\",\"gold\",\"gold\",\"gold\",\"gold\",\"gold\",\"gold\",\"gold\",\"gold\",\"gold\",\"gold\",\"gold\",\"gold\",\"gold\",\"gold\",\"gold\",\"gold\",\"gold\",\"gold\",\"gold\",\"gold\",\"gold\",\"gold\",\"gold\",\"gold\",\"gold\",\"gold\",\"gold\",\"gold\",\"gold\",\"gold\",\"gold\",\"gold\",\"gold\",\"gold\",\"gold\",\"gold\",\"gold\",\"gold\",\"gold\",\"gold\",\"gold\",\"gold\",\"gold\",\"gold\",\"gold\",\"gold\",\"gold\",\"gold\",\"gold\",\"gold\",\"gold\",\"gold\",\"gold\",\"gold\",\"gold\",\"gold\",\"gold\",\"gold\",\"gold\",\"gold\",\"gold\",\"gold\",\"gold\",\"gold\",\"gold\",\"gold\",\"gold\",\"gold\",\"gold\",\"gold\",\"gold\",\"gold\",\"gold\",\"gold\",\"gold\",\"gold\",\"gold\",\"gold\",\"gold\",\"gold\",\"gold\",\"gold\",\"gold\",\"gold\",\"gold\",\"gold\",\"gold\",\"gold\",\"gold\",\"gold\",\"gold\",\"gold\",\"gold\",\"gold\",\"gold\",\"gold\",\"gold\",\"gold\",\"gold\",\"gold\",\"gold\",\"gold\",\"gold\",\"gold\",\"gold\",\"gold\",\"gold\",\"gold\",\"gold\",\"gold\",\"gold\",\"gold\",\"gold\",\"gold\",\"gold\",\"gold\",\"gold\",\"gold\",\"gold\",\"gold\",\"gold\",\"gold\",\"gold\",\"gold\",\"gold\",\"gold\",\"gold\",\"gold\",\"gold\",\"gold\",\"gold\",\"gold\",\"gold\",\"gold\",\"gold\",\"gold\",\"gold\",\"gold\",\"gold\",\"gold\",\"gold\",\"gold\",\"gold\",\"gold\",\"gold\",\"gold\",\"gold\",\"gold\",\"gold\",\"gold\",\"gold\",\"gold\",\"gold\",\"gold\",\"gold\",\"gold\",\"gold\",\"gold\",\"gold\",\"gold\",\"gold\",\"gold\",\"gold\",\"gold\",\"gold\",\"gold\",\"gold\",\"gold\",\"gold\",\"gold\",\"gold\",\"gold\",\"gold\",\"gold\",\"gold\",\"gold\",\"gold\",\"gold\",\"gold\",\"gold\",\"gold\",\"gold\",\"gold\",\"gold\",\"gold\",\"gold\",\"gold\",\"gold\",\"gold\",\"gold\",\"gold\",\"gold\",\"gold\",\"gold\",\"gold\",\"gold\",\"gold\",\"gold\",\"gold\",\"gold\",\"gold\",\"gold\",\"gold\",\"gold\",\"gold\",\"gold\",\"gold\",\"gold\",\"gold\",\"gold\",\"gold\",\"gold\",\"gold\",\"gold\",\"gold\",\"gold\",\"gold\",\"gold\",\"gold\",\"gold\",\"gold\",\"gold\",\"gold\",\"gold\",\"gold\",\"gold\",\"gold\",\"gold\",\"gold\",\"gold\",\"gold\",\"gold\",\"gold\",\"gold\",\"gold\",\"gold\",\"gold\",\"gold\",\"gold\",\"gold\",\"gold\",\"gold\",\"gold\",\"gold\",\"gold\",\"gold\",\"gold\",\"gold\",\"gold\",\"gold\",\"gold\",\"gold\",\"gold\",\"gold\",\"gold\",\"gold\",\"gold\",\"gold\",\"gold\",\"gold\",\"gold\",\"gold\",\"gold\",\"gold\",\"gold\",\"gold\",\"gold\",\"gold\",\"gold\",\"gold\",\"gold\",\"gold\",\"gold\",\"gold\",\"gold\",\"gold\",\"gold\",\"gold\",\"gold\",\"gold\",\"gold\",\"gold\",\"gold\",\"gold\",\"gold\",\"gold\",\"gold\",\"gold\",\"gold\",\"gold\",\"gold\",\"gold\",\"gold\",\"gold\",\"gold\",\"gold\",\"gold\",\"gold\",\"gold\",\"gold\",\"gold\",\"gold\",\"gold\",\"gold\",\"gold\",\"gold\",\"gold\",\"gold\",\"gold\",\"gold\",\"gold\",\"gold\",\"gold\",\"gold\",\"gold\",\"gold\",\"gold\",\"gold\",\"gold\",\"gold\",\"gold\",\"gold\",\"gold\",\"gold\",\"gold\",\"gold\",\"gold\",\"gold\",\"gold\",\"gold\",\"gold\",\"gold\",\"gold\",\"gold\",\"gold\",\"gold\",\"gold\",\"gold\",\"gold\",\"gold\",\"gold\",\"gold\",\"gold\",\"gold\",\"gold\",\"gold\",\"gold\",\"gold\",\"gold\",\"gold\",\"gold\",\"gold\",\"gold\",\"gold\",\"gold\",\"gold\",\"gold\",\"gold\",\"gold\",\"gold\",\"gold\",\"gold\",\"gold\",\"gold\",\"gold\",\"gold\",\"gold\",\"gold\",\"gold\",\"gold\",\"gold\",\"gold\",\"gold\",\"gold\",\"gold\",\"gold\",\"gold\",\"gold\",\"gold\",\"gold\",\"gold\",\"gold\",\"gold\",\"gold\",\"gold\",\"gold\",\"gold\",\"gold\",\"gold\",\"gold\",\"gold\",\"gold\",\"gold\",\"gold\",\"gold\",\"gold\",\"gold\",\"gold\",\"gold\",\"gold\",\"gold\",\"gold\",\"gold\",\"gold\",\"gold\",\"gold\",\"gold\",\"gold\",\"gold\",\"gold\",\"gold\",\"gold\",\"gold\",\"gold\",\"gold\",\"gold\",\"gold\",\"gold\",\"gold\",\"gold\",\"gold\",\"gold\",\"gold\",\"gold\",\"gold\",\"gold\",\"gold\",\"gold\",\"gold\",\"gold\",\"gold\",\"gold\",\"gold\",\"gold\",\"gold\",\"gold\",\"gold\",\"gold\",\"gold\",\"gold\",\"gold\",\"gold\",\"gold\",\"gold\",\"gold\",\"gold\",\"gold\",\"gold\",\"gold\",\"gold\",\"gold\",\"gold\",\"gold\",\"gold\",\"gold\",\"gold\",\"gold\",\"gold\",\"gold\",\"gold\",\"gold\",\"gold\",\"gold\",\"gold\",\"gold\",\"gold\",\"gold\",\"gold\",\"gold\",\"gold\",\"gold\",\"gold\",\"gold\",\"gold\",\"gold\",\"gold\",\"gold\",\"gold\",\"gold\",\"gold\",\"gold\",\"gold\",\"gold\",\"gold\",\"gold\",\"gold\",\"gold\",\"gold\",\"gold\",\"gold\",\"gold\",\"gold\",\"gold\",\"gold\",\"gold\",\"gold\",\"gold\",\"gold\",\"gold\",\"gold\",\"gold\",\"gold\",\"gold\",\"gold\",\"gold\",\"gold\",\"gold\",\"gold\",\"gold\",\"gold\",\"gold\",\"gold\",\"gold\",\"gold\",\"gold\",\"gold\",\"gold\",\"gold\",\"gold\",\"gold\",\"gold\",\"gold\",\"gold\",\"gold\",\"gold\",\"gold\",\"gold\",\"gold\",\"gold\",\"gold\",\"gold\",\"gold\",\"gold\",\"gold\",\"gold\",\"gold\",\"gold\",\"gold\",\"gold\",\"gold\",\"gold\",\"gold\",\"gold\",\"gold\",\"gold\",\"gold\",\"gold\",\"gold\",\"gold\",\"gold\",\"gold\",\"gold\",\"gold\",\"gold\",\"gold\",\"gold\",\"gold\",\"gold\",\"gold\",\"gold\",\"gold\",\"gold\",\"gold\",\"gold\",\"gold\",\"gold\",\"gold\",\"gold\",\"gold\",\"gold\",\"gold\",\"gold\",\"gold\",\"gold\",\"gold\",\"gold\",\"gold\",\"gold\",\"gold\",\"gold\",\"gold\",\"gold\",\"gold\",\"gold\",\"gold\",\"gold\",\"gold\",\"gold\",\"gold\",\"gold\",\"gold\",\"gold\",\"gold\",\"gold\",\"gold\",\"gold\",\"gold\",\"gold\",\"gold\",\"gold\",\"gold\",\"gold\",\"gold\",\"gold\",\"gold\",\"gold\",\"gold\",\"gold\",\"gold\",\"gold\",\"gold\",\"gold\",\"gold\",\"gold\",\"gold\",\"gold\",\"gold\",\"gold\",\"gold\",\"gold\",\"gold\",\"gold\",\"gold\",\"gold\",\"gold\",\"gold\",\"gold\",\"gold\",\"gold\",\"gold\",\"gold\",\"gold\",\"gold\",\"gold\",\"gold\",\"gold\",\"gold\",\"gold\",\"gold\",\"gold\",\"gold\",\"gold\",\"gold\",\"gold\",\"gold\",\"gold\",\"gold\",\"gold\",\"gold\",\"gold\",\"gold\",\"gold\",\"gold\",\"gold\",\"gold\"]},\"name\":\"\",\"showlegend\":true,\"values\":[0,0,0,0,0,0,0,0,0,0,0,0,0,0,0,0,0,0,0,0,0,0,0,0,0,0,0,0,0,0,0,0,0,0,0,0,0,0,0,0,0,0,0,0,0,0,0,0,0,0,0,0,0,0,0,0,0,0,0,0,0,0,0,0,0,0,0,0,0,0,0,0,0,0,0,0,0,0,0,0,0,0,0,0,0,0,0,0,0,0,0,0,0,0,0,0,0,0,0,0,0,0,0,1,0,1,0,0,1,0,1,1,0,1,1,2,0,4,6,8,7,4,6,4,1,3,7,2,7,2,4,11,2,7,7,6,2,4,9,5,8,10,15,6,19,19,18,20,17,19,7,14,11,11,15,6,52,33,37,39,38,40,36,33,22,41,30,22,37,52,35,47,46,37,71,68,62,81,81,100,70,71,71,80,82,81,101,78,82,60,77,51,56,51,41,68,66,68,70,98,91,84,60,77,98,108,92,116,112,140,144,150,157,158,150,187,176,197,187,183,175,154,158,158,203,183,138,145,116,119,123,84,108,93,83,105,75,109,103,94,119,110,97,165,170,156,150,179,219,177,193,186,225,170,241,234,196,200,209,198,179,183,185,161,183,149,142,125,125,93,96,74,78,133,144,143,132,165,166,199,172,175,179,209,176,218,223,202,282,221,221,175,197,202,187,210,198,209,179,159,143,140,155,120,128,123,94,85,91,82,65,76,176,210,203,200,210,229,226,211,228,221,246,224,228,225,243,230,213,209,221,192,181,206,181,167,168,133,127,136,120,119,116,92,108,103,102,86,66,78,76,236,246,275,259,293,285,274,268,262,244,262,242,219,249,230,197,176,193,193,169,162,157,147,140,139,152,100,102,114,130,125,110,103,110,108,67,82,77,63,298,291,266,276,337,319,269,229,238,264,239,208,217,185,219,184,177,148,173,169,149,164,164,157,161,151,132,122,117,143,127,105,145,116,133,120,101,101,101,280,305,288,279,344,340,247,234,243,216,225,167,158,170,195,188,185,152,155,159,158,146,151,136,160,152,131,113,130,165,169,172,182,168,199,158,129,116,120,275,254,242,251,236,237,228,180,179,196,199,165,171,157,146,164,181,137,149,131,132,157,164,127,188,173,162,198,174,175,170,182,214,199,171,163,129,148,115,196,170,191,176,190,205,179,146,168,192,163,153,171,145,142,142,128,149,155,145,175,181,167,185,174,186,187,182,174,161,183,194,179,176,189,145,132,103,92,164,162,175,166,175,187,133,139,147,147,167,145,139,156,159,166,188,198,201,205,189,180,199,183,180,172,161,197,170,180,154,162,137,110,114,106,75,71,103,160,166,154,143,158,182,155,138,141,179,172,170,195,205,212,204,191,174,205,200,206,184,186,223,197,159,145,155,148,163,144,155,147,139,143,121,103,85,111,129,145,178,178,194,181,213,216,177,221,191,200,187,209,207,214,215,197,196,173,192,187,154,141,155,133,165,161,177,152,163,156,149,137,132,132,102,87,76,167,204,181,205,184,203,201,172,158,147,170,179,180,165,157,179,149,121,152,156,140,129,126,140,129,122,136,112,142,141,117,118,98,114,84,86,50,54,62,134,143,106,131,152,106,104,92,109,111,84,122,83,85,88,96,91,110,102,86,85,103,96,79,67,85,74,55,64,51,62,48,45,41,30,29,29,20,18,56,56,60,50,50,35,43,31,38,34,31,28,32,43,35,22,34,27,34,33,30,40,22,33,27,24,10,19,18,13,7,12,12,13,9,8,7,10,6,8,12,12,9,7,5,10,3,6,4,8,7,9,6,11,12,9,7,3,5,4,5,5,4,3,2,5,3,3,2,5,1,1,0,2,2,1,3,0,0,0,0,0,0,0,0,0,0,0,0,0,0,0,0,0,0,0,0,0,0,0,0,0,0,0,0,0,0,0,0,0,0,0,0,0,0,0,0,0,0,0,0,0,0,0,0,0,0,0,0,0,0,0,0,0,0,0,0,0,0,0,0,0,0,0,0,0,0,0,0,0,0,0,0,0,0,0,0,0,0,0,0,0,0,0,0,0,0,0,0,1,0,0,0,0,0,0,0,0,1,0,0,0,0,0,0,0,0,0,0,0,0,0,0,0,0,3,7,4,1,6,3,1,1,0,1,2,5,3,2,1,1,1,4,3,0,4,5,7,1,2,2,3,5,6,6,1,2,9,1,4,3,2,3,1,18,17,21,19,21,17,16,12,6,6,11,9,13,14,19,16,20,12,18,25,16,29,25,21,20,21,15,23,20,26,17,24,24,15,18,20,16,13,13,22,16,20,28,29,28,18,9,17,26,19,21,25,24,37,40,26,28,25,36,28,41,45,44,36,32,27,48,34,34,42,44,30,28,32,25,28,25,20,25,36,26,31,30,31,32,20,20,34,42,31,33,55,35,41,47,35,48,29,54,40,66,40,32,44,38,42,55,43,31,47,37,28,31,27,24,24,15,33,31,38,35,56,48,42,50,39,46,45,66,54,62,54,52,56,58,59,35,45,47,44,29,48,48,28,40,35,34,48,43,38,31,26,31,18,16,17,54,67,72,60,73,75,81,63,58,73,63,72,58,66,64,57,56,62,47,45,48,54,54,53,56,43,48,32,39,30,46,36,30,34,33,19,25,18,21,79,98,80,96,93,94,90,75,83,76,79,67,56,49,66,72,66,60,53,51,59,43,59,41,25,37,41,25,40,26,37,42,29,33,23,29,25,22,23,95,76,83,111,120,93,71,71,72,76,60,75,63,57,72,67,65,59,52,49,42,43,45,33,39,37,35,39,41,43,34,41,34,41,36,42,45,49,27,97,116,89,93,94,110,91,81,68,49,59,61,68,56,64,70,58,53,64,59,54,67,64,56,48,51,33,52,51,55,74,61,64,66,73,53,41,41,51,106,108,81,81,77,87,60,57,56,57,67,67,51,66,63,64,55,43,53,49,51,54,60,61,52,64,60,63,92,73,85,80,73,62,71,54,52,40,41,77,81,79,75,78,65,51,48,53,61,62,72,57,64,65,60,63,43,67,78,47,91,74,74,74,64,60,69,60,78,75,81,71,78,64,62,67,41,53,75,68,88,62,81,70,60,59,52,62,59,39,42,60,67,65,80,66,78,94,84,71,95,73,88,81,69,76,84,82,86,78,71,71,58,56,56,50,29,70,79,58,63,57,65,59,66,46,47,59,69,67,87,66,61,70,76,87,87,75,76,69,65,72,86,74,91,72,92,78,81,86,66,64,67,43,38,42,44,59,58,69,52,73,55,42,52,60,64,51,53,59,70,61,62,63,70,79,58,70,70,72,62,69,65,79,71,65,82,60,48,69,70,50,40,37,38,61,55,50,50,48,54,47,44,29,54,45,59,52,61,60,47,41,52,51,46,47,58,47,44,56,40,52,55,52,49,39,42,52,37,32,32,21,21,13,41,37,37,30,37,31,34,31,27,27,36,26,30,30,40,33,39,34,33,35,36,43,24,31,23,26,27,31,37,27,30,19,20,19,19,15,10,9,10,17,8,19,14,19,10,5,9,9,6,8,9,8,14,13,17,11,9,8,11,12,10,16,9,9,7,6,7,11,9,4,4,4,6,3,2,2,2,1,3,2,4,4,1,5,2,7,3,2,1,1,1,2,0,4,1,2,3,0,2,5,4,2,0,2,1,0,4,2,1,2,3,0,0,1,0,1,0],\"type\":\"pie\",\"textposition\":\"none\"}],                        {\"template\":{\"data\":{\"histogram2dcontour\":[{\"type\":\"histogram2dcontour\",\"colorbar\":{\"outlinewidth\":0,\"ticks\":\"\"},\"colorscale\":[[0.0,\"#0d0887\"],[0.1111111111111111,\"#46039f\"],[0.2222222222222222,\"#7201a8\"],[0.3333333333333333,\"#9c179e\"],[0.4444444444444444,\"#bd3786\"],[0.5555555555555556,\"#d8576b\"],[0.6666666666666666,\"#ed7953\"],[0.7777777777777778,\"#fb9f3a\"],[0.8888888888888888,\"#fdca26\"],[1.0,\"#f0f921\"]]}],\"choropleth\":[{\"type\":\"choropleth\",\"colorbar\":{\"outlinewidth\":0,\"ticks\":\"\"}}],\"histogram2d\":[{\"type\":\"histogram2d\",\"colorbar\":{\"outlinewidth\":0,\"ticks\":\"\"},\"colorscale\":[[0.0,\"#0d0887\"],[0.1111111111111111,\"#46039f\"],[0.2222222222222222,\"#7201a8\"],[0.3333333333333333,\"#9c179e\"],[0.4444444444444444,\"#bd3786\"],[0.5555555555555556,\"#d8576b\"],[0.6666666666666666,\"#ed7953\"],[0.7777777777777778,\"#fb9f3a\"],[0.8888888888888888,\"#fdca26\"],[1.0,\"#f0f921\"]]}],\"heatmap\":[{\"type\":\"heatmap\",\"colorbar\":{\"outlinewidth\":0,\"ticks\":\"\"},\"colorscale\":[[0.0,\"#0d0887\"],[0.1111111111111111,\"#46039f\"],[0.2222222222222222,\"#7201a8\"],[0.3333333333333333,\"#9c179e\"],[0.4444444444444444,\"#bd3786\"],[0.5555555555555556,\"#d8576b\"],[0.6666666666666666,\"#ed7953\"],[0.7777777777777778,\"#fb9f3a\"],[0.8888888888888888,\"#fdca26\"],[1.0,\"#f0f921\"]]}],\"heatmapgl\":[{\"type\":\"heatmapgl\",\"colorbar\":{\"outlinewidth\":0,\"ticks\":\"\"},\"colorscale\":[[0.0,\"#0d0887\"],[0.1111111111111111,\"#46039f\"],[0.2222222222222222,\"#7201a8\"],[0.3333333333333333,\"#9c179e\"],[0.4444444444444444,\"#bd3786\"],[0.5555555555555556,\"#d8576b\"],[0.6666666666666666,\"#ed7953\"],[0.7777777777777778,\"#fb9f3a\"],[0.8888888888888888,\"#fdca26\"],[1.0,\"#f0f921\"]]}],\"contourcarpet\":[{\"type\":\"contourcarpet\",\"colorbar\":{\"outlinewidth\":0,\"ticks\":\"\"}}],\"contour\":[{\"type\":\"contour\",\"colorbar\":{\"outlinewidth\":0,\"ticks\":\"\"},\"colorscale\":[[0.0,\"#0d0887\"],[0.1111111111111111,\"#46039f\"],[0.2222222222222222,\"#7201a8\"],[0.3333333333333333,\"#9c179e\"],[0.4444444444444444,\"#bd3786\"],[0.5555555555555556,\"#d8576b\"],[0.6666666666666666,\"#ed7953\"],[0.7777777777777778,\"#fb9f3a\"],[0.8888888888888888,\"#fdca26\"],[1.0,\"#f0f921\"]]}],\"surface\":[{\"type\":\"surface\",\"colorbar\":{\"outlinewidth\":0,\"ticks\":\"\"},\"colorscale\":[[0.0,\"#0d0887\"],[0.1111111111111111,\"#46039f\"],[0.2222222222222222,\"#7201a8\"],[0.3333333333333333,\"#9c179e\"],[0.4444444444444444,\"#bd3786\"],[0.5555555555555556,\"#d8576b\"],[0.6666666666666666,\"#ed7953\"],[0.7777777777777778,\"#fb9f3a\"],[0.8888888888888888,\"#fdca26\"],[1.0,\"#f0f921\"]]}],\"mesh3d\":[{\"type\":\"mesh3d\",\"colorbar\":{\"outlinewidth\":0,\"ticks\":\"\"}}],\"scatter\":[{\"fillpattern\":{\"fillmode\":\"overlay\",\"size\":10,\"solidity\":0.2},\"type\":\"scatter\"}],\"parcoords\":[{\"type\":\"parcoords\",\"line\":{\"colorbar\":{\"outlinewidth\":0,\"ticks\":\"\"}}}],\"scatterpolargl\":[{\"type\":\"scatterpolargl\",\"marker\":{\"colorbar\":{\"outlinewidth\":0,\"ticks\":\"\"}}}],\"bar\":[{\"error_x\":{\"color\":\"#2a3f5f\"},\"error_y\":{\"color\":\"#2a3f5f\"},\"marker\":{\"line\":{\"color\":\"#E5ECF6\",\"width\":0.5},\"pattern\":{\"fillmode\":\"overlay\",\"size\":10,\"solidity\":0.2}},\"type\":\"bar\"}],\"scattergeo\":[{\"type\":\"scattergeo\",\"marker\":{\"colorbar\":{\"outlinewidth\":0,\"ticks\":\"\"}}}],\"scatterpolar\":[{\"type\":\"scatterpolar\",\"marker\":{\"colorbar\":{\"outlinewidth\":0,\"ticks\":\"\"}}}],\"histogram\":[{\"marker\":{\"pattern\":{\"fillmode\":\"overlay\",\"size\":10,\"solidity\":0.2}},\"type\":\"histogram\"}],\"scattergl\":[{\"type\":\"scattergl\",\"marker\":{\"colorbar\":{\"outlinewidth\":0,\"ticks\":\"\"}}}],\"scatter3d\":[{\"type\":\"scatter3d\",\"line\":{\"colorbar\":{\"outlinewidth\":0,\"ticks\":\"\"}},\"marker\":{\"colorbar\":{\"outlinewidth\":0,\"ticks\":\"\"}}}],\"scattermapbox\":[{\"type\":\"scattermapbox\",\"marker\":{\"colorbar\":{\"outlinewidth\":0,\"ticks\":\"\"}}}],\"scatterternary\":[{\"type\":\"scatterternary\",\"marker\":{\"colorbar\":{\"outlinewidth\":0,\"ticks\":\"\"}}}],\"scattercarpet\":[{\"type\":\"scattercarpet\",\"marker\":{\"colorbar\":{\"outlinewidth\":0,\"ticks\":\"\"}}}],\"carpet\":[{\"aaxis\":{\"endlinecolor\":\"#2a3f5f\",\"gridcolor\":\"white\",\"linecolor\":\"white\",\"minorgridcolor\":\"white\",\"startlinecolor\":\"#2a3f5f\"},\"baxis\":{\"endlinecolor\":\"#2a3f5f\",\"gridcolor\":\"white\",\"linecolor\":\"white\",\"minorgridcolor\":\"white\",\"startlinecolor\":\"#2a3f5f\"},\"type\":\"carpet\"}],\"table\":[{\"cells\":{\"fill\":{\"color\":\"#EBF0F8\"},\"line\":{\"color\":\"white\"}},\"header\":{\"fill\":{\"color\":\"#C8D4E3\"},\"line\":{\"color\":\"white\"}},\"type\":\"table\"}],\"barpolar\":[{\"marker\":{\"line\":{\"color\":\"#E5ECF6\",\"width\":0.5},\"pattern\":{\"fillmode\":\"overlay\",\"size\":10,\"solidity\":0.2}},\"type\":\"barpolar\"}],\"pie\":[{\"automargin\":true,\"type\":\"pie\"}]},\"layout\":{\"autotypenumbers\":\"strict\",\"colorway\":[\"#636efa\",\"#EF553B\",\"#00cc96\",\"#ab63fa\",\"#FFA15A\",\"#19d3f3\",\"#FF6692\",\"#B6E880\",\"#FF97FF\",\"#FECB52\"],\"font\":{\"color\":\"#2a3f5f\"},\"hovermode\":\"closest\",\"hoverlabel\":{\"align\":\"left\"},\"paper_bgcolor\":\"white\",\"plot_bgcolor\":\"#E5ECF6\",\"polar\":{\"bgcolor\":\"#E5ECF6\",\"angularaxis\":{\"gridcolor\":\"white\",\"linecolor\":\"white\",\"ticks\":\"\"},\"radialaxis\":{\"gridcolor\":\"white\",\"linecolor\":\"white\",\"ticks\":\"\"}},\"ternary\":{\"bgcolor\":\"#E5ECF6\",\"aaxis\":{\"gridcolor\":\"white\",\"linecolor\":\"white\",\"ticks\":\"\"},\"baxis\":{\"gridcolor\":\"white\",\"linecolor\":\"white\",\"ticks\":\"\"},\"caxis\":{\"gridcolor\":\"white\",\"linecolor\":\"white\",\"ticks\":\"\"}},\"coloraxis\":{\"colorbar\":{\"outlinewidth\":0,\"ticks\":\"\"}},\"colorscale\":{\"sequential\":[[0.0,\"#0d0887\"],[0.1111111111111111,\"#46039f\"],[0.2222222222222222,\"#7201a8\"],[0.3333333333333333,\"#9c179e\"],[0.4444444444444444,\"#bd3786\"],[0.5555555555555556,\"#d8576b\"],[0.6666666666666666,\"#ed7953\"],[0.7777777777777778,\"#fb9f3a\"],[0.8888888888888888,\"#fdca26\"],[1.0,\"#f0f921\"]],\"sequentialminus\":[[0.0,\"#0d0887\"],[0.1111111111111111,\"#46039f\"],[0.2222222222222222,\"#7201a8\"],[0.3333333333333333,\"#9c179e\"],[0.4444444444444444,\"#bd3786\"],[0.5555555555555556,\"#d8576b\"],[0.6666666666666666,\"#ed7953\"],[0.7777777777777778,\"#fb9f3a\"],[0.8888888888888888,\"#fdca26\"],[1.0,\"#f0f921\"]],\"diverging\":[[0,\"#8e0152\"],[0.1,\"#c51b7d\"],[0.2,\"#de77ae\"],[0.3,\"#f1b6da\"],[0.4,\"#fde0ef\"],[0.5,\"#f7f7f7\"],[0.6,\"#e6f5d0\"],[0.7,\"#b8e186\"],[0.8,\"#7fbc41\"],[0.9,\"#4d9221\"],[1,\"#276419\"]]},\"xaxis\":{\"gridcolor\":\"white\",\"linecolor\":\"white\",\"ticks\":\"\",\"title\":{\"standoff\":15},\"zerolinecolor\":\"white\",\"automargin\":true,\"zerolinewidth\":2},\"yaxis\":{\"gridcolor\":\"white\",\"linecolor\":\"white\",\"ticks\":\"\",\"title\":{\"standoff\":15},\"zerolinecolor\":\"white\",\"automargin\":true,\"zerolinewidth\":2},\"scene\":{\"xaxis\":{\"backgroundcolor\":\"#E5ECF6\",\"gridcolor\":\"white\",\"linecolor\":\"white\",\"showbackground\":true,\"ticks\":\"\",\"zerolinecolor\":\"white\",\"gridwidth\":2},\"yaxis\":{\"backgroundcolor\":\"#E5ECF6\",\"gridcolor\":\"white\",\"linecolor\":\"white\",\"showbackground\":true,\"ticks\":\"\",\"zerolinecolor\":\"white\",\"gridwidth\":2},\"zaxis\":{\"backgroundcolor\":\"#E5ECF6\",\"gridcolor\":\"white\",\"linecolor\":\"white\",\"showbackground\":true,\"ticks\":\"\",\"zerolinecolor\":\"white\",\"gridwidth\":2}},\"shapedefaults\":{\"line\":{\"color\":\"#2a3f5f\"}},\"annotationdefaults\":{\"arrowcolor\":\"#2a3f5f\",\"arrowhead\":0,\"arrowwidth\":1},\"geo\":{\"bgcolor\":\"white\",\"landcolor\":\"#E5ECF6\",\"subunitcolor\":\"white\",\"showland\":true,\"showlakes\":true,\"lakecolor\":\"white\"},\"title\":{\"x\":0.05},\"mapbox\":{\"style\":\"light\"}}},\"legend\":{\"tracegroupgap\":0},\"title\":{\"text\":\"Total suicide\"}},                        {\"responsive\": true}                    ).then(function(){\n",
       "                            \n",
       "var gd = document.getElementById('8a20fa12-bc90-4219-bc22-09af253b0ab6');\n",
       "var x = new MutationObserver(function (mutations, observer) {{\n",
       "        var display = window.getComputedStyle(gd).display;\n",
       "        if (!display || display === 'none') {{\n",
       "            console.log([gd, 'removed!']);\n",
       "            Plotly.purge(gd);\n",
       "            observer.disconnect();\n",
       "        }}\n",
       "}});\n",
       "\n",
       "// Listen for the removal of the full notebook cells\n",
       "var notebookContainer = gd.closest('#notebook-container');\n",
       "if (notebookContainer) {{\n",
       "    x.observe(notebookContainer, {childList: true});\n",
       "}}\n",
       "\n",
       "// Listen for the clearing of the current output cell\n",
       "var outputEl = gd.closest('.output');\n",
       "if (outputEl) {{\n",
       "    x.observe(outputEl, {childList: true});\n",
       "}}\n",
       "\n",
       "                        })                };                });            </script>        </div>"
      ]
     },
     "metadata": {},
     "output_type": "display_data"
    }
   ],
   "source": [
    "# Graph total suicide by sex\n",
    "graph = px.pie(deaths_cause_098, \n",
    "               values = 'Total',\n",
    "               names = 'Sexo',\n",
    "               title = 'Total suicide',\n",
    "               color = 'Sexo',\n",
    "               color_discrete_map={'Hombres': 'grey',\n",
    "                                   'Mujeres': 'gold'})\n",
    "\n",
    "graph.update_traces(textposition = 'none')\n",
    "\n",
    "graph.show()\n"
   ]
  },
  {
   "cell_type": "code",
   "execution_count": 37,
   "metadata": {},
   "outputs": [
    {
     "data": {
      "application/vnd.plotly.v1+json": {
       "config": {
        "plotlyServerURL": "https://plot.ly"
       },
       "data": [
        {
         "alignmentgroup": "True",
         "hovertemplate": "Sex=Hombres<br>Year=%{x}<br>Total=%{y}<extra></extra>",
         "legendgroup": "Hombres",
         "marker": {
          "color": "#636efa",
          "pattern": {
           "shape": ""
          }
         },
         "name": "Hombres",
         "offsetgroup": "Hombres",
         "orientation": "v",
         "showlegend": true,
         "textposition": "auto",
         "type": "bar",
         "x": [
          1980,
          1981,
          1982,
          1983,
          1984,
          1985,
          1986,
          1987,
          1988,
          1989,
          1990,
          1991,
          1992,
          1993,
          1994,
          1995,
          1996,
          1997,
          1998,
          1999,
          2000,
          2001,
          2002,
          2003,
          2004,
          2005,
          2006,
          2007,
          2008,
          2009,
          2010,
          2011,
          2012,
          2013,
          2014,
          2015,
          2016,
          2017,
          2018
         ],
         "xaxis": "x",
         "y": [
          1237,
          1268,
          1336,
          1593,
          1836,
          1829,
          2032,
          2017,
          2150,
          2213,
          2135,
          2139,
          2104,
          2283,
          2429,
          2408,
          2451,
          2526,
          2499,
          2410,
          2574,
          2430,
          2554,
          2650,
          2651,
          2570,
          2512,
          2463,
          2676,
          2666,
          2468,
          2435,
          2724,
          2911,
          2938,
          2680,
          2662,
          2718,
          2619
         ],
         "yaxis": "y"
        },
        {
         "alignmentgroup": "True",
         "hovertemplate": "Sex=Mujeres<br>Year=%{x}<br>Total=%{y}<extra></extra>",
         "legendgroup": "Mujeres",
         "marker": {
          "color": "#EF553B",
          "pattern": {
           "shape": ""
          }
         },
         "name": "Mujeres",
         "offsetgroup": "Mujeres",
         "orientation": "v",
         "showlegend": true,
         "textposition": "auto",
         "type": "bar",
         "x": [
          1980,
          1981,
          1982,
          1983,
          1984,
          1985,
          1986,
          1987,
          1988,
          1989,
          1990,
          1991,
          1992,
          1993,
          1994,
          1995,
          1996,
          1997,
          1998,
          1999,
          2000,
          2001,
          2002,
          2003,
          2004,
          2005,
          2006,
          2007,
          2008,
          2009,
          2010,
          2011,
          2012,
          2013,
          2014,
          2015,
          2016,
          2017,
          2018
         ],
         "xaxis": "x",
         "y": [
          415,
          450,
          515,
          588,
          657,
          685,
          723,
          787,
          810,
          774,
          804,
          777,
          682,
          754,
          742,
          749,
          869,
          847,
          762,
          808,
          819,
          759,
          817,
          828,
          856,
          829,
          734,
          800,
          781,
          763,
          690,
          745,
          815,
          959,
          972,
          922,
          907,
          961,
          920
         ],
         "yaxis": "y"
        }
       ],
       "layout": {
        "barmode": "relative",
        "legend": {
         "title": {
          "text": "Sex"
         },
         "tracegroupgap": 0
        },
        "template": {
         "data": {
          "bar": [
           {
            "error_x": {
             "color": "#2a3f5f"
            },
            "error_y": {
             "color": "#2a3f5f"
            },
            "marker": {
             "line": {
              "color": "#E5ECF6",
              "width": 0.5
             },
             "pattern": {
              "fillmode": "overlay",
              "size": 10,
              "solidity": 0.2
             }
            },
            "type": "bar"
           }
          ],
          "barpolar": [
           {
            "marker": {
             "line": {
              "color": "#E5ECF6",
              "width": 0.5
             },
             "pattern": {
              "fillmode": "overlay",
              "size": 10,
              "solidity": 0.2
             }
            },
            "type": "barpolar"
           }
          ],
          "carpet": [
           {
            "aaxis": {
             "endlinecolor": "#2a3f5f",
             "gridcolor": "white",
             "linecolor": "white",
             "minorgridcolor": "white",
             "startlinecolor": "#2a3f5f"
            },
            "baxis": {
             "endlinecolor": "#2a3f5f",
             "gridcolor": "white",
             "linecolor": "white",
             "minorgridcolor": "white",
             "startlinecolor": "#2a3f5f"
            },
            "type": "carpet"
           }
          ],
          "choropleth": [
           {
            "colorbar": {
             "outlinewidth": 0,
             "ticks": ""
            },
            "type": "choropleth"
           }
          ],
          "contour": [
           {
            "colorbar": {
             "outlinewidth": 0,
             "ticks": ""
            },
            "colorscale": [
             [
              0,
              "#0d0887"
             ],
             [
              0.1111111111111111,
              "#46039f"
             ],
             [
              0.2222222222222222,
              "#7201a8"
             ],
             [
              0.3333333333333333,
              "#9c179e"
             ],
             [
              0.4444444444444444,
              "#bd3786"
             ],
             [
              0.5555555555555556,
              "#d8576b"
             ],
             [
              0.6666666666666666,
              "#ed7953"
             ],
             [
              0.7777777777777778,
              "#fb9f3a"
             ],
             [
              0.8888888888888888,
              "#fdca26"
             ],
             [
              1,
              "#f0f921"
             ]
            ],
            "type": "contour"
           }
          ],
          "contourcarpet": [
           {
            "colorbar": {
             "outlinewidth": 0,
             "ticks": ""
            },
            "type": "contourcarpet"
           }
          ],
          "heatmap": [
           {
            "colorbar": {
             "outlinewidth": 0,
             "ticks": ""
            },
            "colorscale": [
             [
              0,
              "#0d0887"
             ],
             [
              0.1111111111111111,
              "#46039f"
             ],
             [
              0.2222222222222222,
              "#7201a8"
             ],
             [
              0.3333333333333333,
              "#9c179e"
             ],
             [
              0.4444444444444444,
              "#bd3786"
             ],
             [
              0.5555555555555556,
              "#d8576b"
             ],
             [
              0.6666666666666666,
              "#ed7953"
             ],
             [
              0.7777777777777778,
              "#fb9f3a"
             ],
             [
              0.8888888888888888,
              "#fdca26"
             ],
             [
              1,
              "#f0f921"
             ]
            ],
            "type": "heatmap"
           }
          ],
          "heatmapgl": [
           {
            "colorbar": {
             "outlinewidth": 0,
             "ticks": ""
            },
            "colorscale": [
             [
              0,
              "#0d0887"
             ],
             [
              0.1111111111111111,
              "#46039f"
             ],
             [
              0.2222222222222222,
              "#7201a8"
             ],
             [
              0.3333333333333333,
              "#9c179e"
             ],
             [
              0.4444444444444444,
              "#bd3786"
             ],
             [
              0.5555555555555556,
              "#d8576b"
             ],
             [
              0.6666666666666666,
              "#ed7953"
             ],
             [
              0.7777777777777778,
              "#fb9f3a"
             ],
             [
              0.8888888888888888,
              "#fdca26"
             ],
             [
              1,
              "#f0f921"
             ]
            ],
            "type": "heatmapgl"
           }
          ],
          "histogram": [
           {
            "marker": {
             "pattern": {
              "fillmode": "overlay",
              "size": 10,
              "solidity": 0.2
             }
            },
            "type": "histogram"
           }
          ],
          "histogram2d": [
           {
            "colorbar": {
             "outlinewidth": 0,
             "ticks": ""
            },
            "colorscale": [
             [
              0,
              "#0d0887"
             ],
             [
              0.1111111111111111,
              "#46039f"
             ],
             [
              0.2222222222222222,
              "#7201a8"
             ],
             [
              0.3333333333333333,
              "#9c179e"
             ],
             [
              0.4444444444444444,
              "#bd3786"
             ],
             [
              0.5555555555555556,
              "#d8576b"
             ],
             [
              0.6666666666666666,
              "#ed7953"
             ],
             [
              0.7777777777777778,
              "#fb9f3a"
             ],
             [
              0.8888888888888888,
              "#fdca26"
             ],
             [
              1,
              "#f0f921"
             ]
            ],
            "type": "histogram2d"
           }
          ],
          "histogram2dcontour": [
           {
            "colorbar": {
             "outlinewidth": 0,
             "ticks": ""
            },
            "colorscale": [
             [
              0,
              "#0d0887"
             ],
             [
              0.1111111111111111,
              "#46039f"
             ],
             [
              0.2222222222222222,
              "#7201a8"
             ],
             [
              0.3333333333333333,
              "#9c179e"
             ],
             [
              0.4444444444444444,
              "#bd3786"
             ],
             [
              0.5555555555555556,
              "#d8576b"
             ],
             [
              0.6666666666666666,
              "#ed7953"
             ],
             [
              0.7777777777777778,
              "#fb9f3a"
             ],
             [
              0.8888888888888888,
              "#fdca26"
             ],
             [
              1,
              "#f0f921"
             ]
            ],
            "type": "histogram2dcontour"
           }
          ],
          "mesh3d": [
           {
            "colorbar": {
             "outlinewidth": 0,
             "ticks": ""
            },
            "type": "mesh3d"
           }
          ],
          "parcoords": [
           {
            "line": {
             "colorbar": {
              "outlinewidth": 0,
              "ticks": ""
             }
            },
            "type": "parcoords"
           }
          ],
          "pie": [
           {
            "automargin": true,
            "type": "pie"
           }
          ],
          "scatter": [
           {
            "fillpattern": {
             "fillmode": "overlay",
             "size": 10,
             "solidity": 0.2
            },
            "type": "scatter"
           }
          ],
          "scatter3d": [
           {
            "line": {
             "colorbar": {
              "outlinewidth": 0,
              "ticks": ""
             }
            },
            "marker": {
             "colorbar": {
              "outlinewidth": 0,
              "ticks": ""
             }
            },
            "type": "scatter3d"
           }
          ],
          "scattercarpet": [
           {
            "marker": {
             "colorbar": {
              "outlinewidth": 0,
              "ticks": ""
             }
            },
            "type": "scattercarpet"
           }
          ],
          "scattergeo": [
           {
            "marker": {
             "colorbar": {
              "outlinewidth": 0,
              "ticks": ""
             }
            },
            "type": "scattergeo"
           }
          ],
          "scattergl": [
           {
            "marker": {
             "colorbar": {
              "outlinewidth": 0,
              "ticks": ""
             }
            },
            "type": "scattergl"
           }
          ],
          "scattermapbox": [
           {
            "marker": {
             "colorbar": {
              "outlinewidth": 0,
              "ticks": ""
             }
            },
            "type": "scattermapbox"
           }
          ],
          "scatterpolar": [
           {
            "marker": {
             "colorbar": {
              "outlinewidth": 0,
              "ticks": ""
             }
            },
            "type": "scatterpolar"
           }
          ],
          "scatterpolargl": [
           {
            "marker": {
             "colorbar": {
              "outlinewidth": 0,
              "ticks": ""
             }
            },
            "type": "scatterpolargl"
           }
          ],
          "scatterternary": [
           {
            "marker": {
             "colorbar": {
              "outlinewidth": 0,
              "ticks": ""
             }
            },
            "type": "scatterternary"
           }
          ],
          "surface": [
           {
            "colorbar": {
             "outlinewidth": 0,
             "ticks": ""
            },
            "colorscale": [
             [
              0,
              "#0d0887"
             ],
             [
              0.1111111111111111,
              "#46039f"
             ],
             [
              0.2222222222222222,
              "#7201a8"
             ],
             [
              0.3333333333333333,
              "#9c179e"
             ],
             [
              0.4444444444444444,
              "#bd3786"
             ],
             [
              0.5555555555555556,
              "#d8576b"
             ],
             [
              0.6666666666666666,
              "#ed7953"
             ],
             [
              0.7777777777777778,
              "#fb9f3a"
             ],
             [
              0.8888888888888888,
              "#fdca26"
             ],
             [
              1,
              "#f0f921"
             ]
            ],
            "type": "surface"
           }
          ],
          "table": [
           {
            "cells": {
             "fill": {
              "color": "#EBF0F8"
             },
             "line": {
              "color": "white"
             }
            },
            "header": {
             "fill": {
              "color": "#C8D4E3"
             },
             "line": {
              "color": "white"
             }
            },
            "type": "table"
           }
          ]
         },
         "layout": {
          "annotationdefaults": {
           "arrowcolor": "#2a3f5f",
           "arrowhead": 0,
           "arrowwidth": 1
          },
          "autotypenumbers": "strict",
          "coloraxis": {
           "colorbar": {
            "outlinewidth": 0,
            "ticks": ""
           }
          },
          "colorscale": {
           "diverging": [
            [
             0,
             "#8e0152"
            ],
            [
             0.1,
             "#c51b7d"
            ],
            [
             0.2,
             "#de77ae"
            ],
            [
             0.3,
             "#f1b6da"
            ],
            [
             0.4,
             "#fde0ef"
            ],
            [
             0.5,
             "#f7f7f7"
            ],
            [
             0.6,
             "#e6f5d0"
            ],
            [
             0.7,
             "#b8e186"
            ],
            [
             0.8,
             "#7fbc41"
            ],
            [
             0.9,
             "#4d9221"
            ],
            [
             1,
             "#276419"
            ]
           ],
           "sequential": [
            [
             0,
             "#0d0887"
            ],
            [
             0.1111111111111111,
             "#46039f"
            ],
            [
             0.2222222222222222,
             "#7201a8"
            ],
            [
             0.3333333333333333,
             "#9c179e"
            ],
            [
             0.4444444444444444,
             "#bd3786"
            ],
            [
             0.5555555555555556,
             "#d8576b"
            ],
            [
             0.6666666666666666,
             "#ed7953"
            ],
            [
             0.7777777777777778,
             "#fb9f3a"
            ],
            [
             0.8888888888888888,
             "#fdca26"
            ],
            [
             1,
             "#f0f921"
            ]
           ],
           "sequentialminus": [
            [
             0,
             "#0d0887"
            ],
            [
             0.1111111111111111,
             "#46039f"
            ],
            [
             0.2222222222222222,
             "#7201a8"
            ],
            [
             0.3333333333333333,
             "#9c179e"
            ],
            [
             0.4444444444444444,
             "#bd3786"
            ],
            [
             0.5555555555555556,
             "#d8576b"
            ],
            [
             0.6666666666666666,
             "#ed7953"
            ],
            [
             0.7777777777777778,
             "#fb9f3a"
            ],
            [
             0.8888888888888888,
             "#fdca26"
            ],
            [
             1,
             "#f0f921"
            ]
           ]
          },
          "colorway": [
           "#636efa",
           "#EF553B",
           "#00cc96",
           "#ab63fa",
           "#FFA15A",
           "#19d3f3",
           "#FF6692",
           "#B6E880",
           "#FF97FF",
           "#FECB52"
          ],
          "font": {
           "color": "#2a3f5f"
          },
          "geo": {
           "bgcolor": "white",
           "lakecolor": "white",
           "landcolor": "#E5ECF6",
           "showlakes": true,
           "showland": true,
           "subunitcolor": "white"
          },
          "hoverlabel": {
           "align": "left"
          },
          "hovermode": "closest",
          "mapbox": {
           "style": "light"
          },
          "paper_bgcolor": "white",
          "plot_bgcolor": "#E5ECF6",
          "polar": {
           "angularaxis": {
            "gridcolor": "white",
            "linecolor": "white",
            "ticks": ""
           },
           "bgcolor": "#E5ECF6",
           "radialaxis": {
            "gridcolor": "white",
            "linecolor": "white",
            "ticks": ""
           }
          },
          "scene": {
           "xaxis": {
            "backgroundcolor": "#E5ECF6",
            "gridcolor": "white",
            "gridwidth": 2,
            "linecolor": "white",
            "showbackground": true,
            "ticks": "",
            "zerolinecolor": "white"
           },
           "yaxis": {
            "backgroundcolor": "#E5ECF6",
            "gridcolor": "white",
            "gridwidth": 2,
            "linecolor": "white",
            "showbackground": true,
            "ticks": "",
            "zerolinecolor": "white"
           },
           "zaxis": {
            "backgroundcolor": "#E5ECF6",
            "gridcolor": "white",
            "gridwidth": 2,
            "linecolor": "white",
            "showbackground": true,
            "ticks": "",
            "zerolinecolor": "white"
           }
          },
          "shapedefaults": {
           "line": {
            "color": "#2a3f5f"
           }
          },
          "ternary": {
           "aaxis": {
            "gridcolor": "white",
            "linecolor": "white",
            "ticks": ""
           },
           "baxis": {
            "gridcolor": "white",
            "linecolor": "white",
            "ticks": ""
           },
           "bgcolor": "#E5ECF6",
           "caxis": {
            "gridcolor": "white",
            "linecolor": "white",
            "ticks": ""
           }
          },
          "title": {
           "x": 0.05
          },
          "xaxis": {
           "automargin": true,
           "gridcolor": "white",
           "linecolor": "white",
           "ticks": "",
           "title": {
            "standoff": 15
           },
           "zerolinecolor": "white",
           "zerolinewidth": 2
          },
          "yaxis": {
           "automargin": true,
           "gridcolor": "white",
           "linecolor": "white",
           "ticks": "",
           "title": {
            "standoff": 15
           },
           "zerolinecolor": "white",
           "zerolinewidth": 2
          }
         }
        },
        "title": {
         "text": "Total suicide"
        },
        "xaxis": {
         "anchor": "y",
         "domain": [
          0,
          1
         ],
         "title": {
          "text": "Year"
         }
        },
        "yaxis": {
         "anchor": "x",
         "domain": [
          0,
          1
         ],
         "title": {
          "text": "Total"
         }
        }
       }
      },
      "text/html": [
       "<div>                            <div id=\"7be19b68-41d5-41e0-af7f-27f7851a15fa\" class=\"plotly-graph-div\" style=\"height:525px; width:100%;\"></div>            <script type=\"text/javascript\">                require([\"plotly\"], function(Plotly) {                    window.PLOTLYENV=window.PLOTLYENV || {};                                    if (document.getElementById(\"7be19b68-41d5-41e0-af7f-27f7851a15fa\")) {                    Plotly.newPlot(                        \"7be19b68-41d5-41e0-af7f-27f7851a15fa\",                        [{\"alignmentgroup\":\"True\",\"hovertemplate\":\"Sex=Hombres<br>Year=%{x}<br>Total=%{y}<extra></extra>\",\"legendgroup\":\"Hombres\",\"marker\":{\"color\":\"#636efa\",\"pattern\":{\"shape\":\"\"}},\"name\":\"Hombres\",\"offsetgroup\":\"Hombres\",\"orientation\":\"v\",\"showlegend\":true,\"textposition\":\"auto\",\"x\":[1980,1981,1982,1983,1984,1985,1986,1987,1988,1989,1990,1991,1992,1993,1994,1995,1996,1997,1998,1999,2000,2001,2002,2003,2004,2005,2006,2007,2008,2009,2010,2011,2012,2013,2014,2015,2016,2017,2018],\"xaxis\":\"x\",\"y\":[1237,1268,1336,1593,1836,1829,2032,2017,2150,2213,2135,2139,2104,2283,2429,2408,2451,2526,2499,2410,2574,2430,2554,2650,2651,2570,2512,2463,2676,2666,2468,2435,2724,2911,2938,2680,2662,2718,2619],\"yaxis\":\"y\",\"type\":\"bar\"},{\"alignmentgroup\":\"True\",\"hovertemplate\":\"Sex=Mujeres<br>Year=%{x}<br>Total=%{y}<extra></extra>\",\"legendgroup\":\"Mujeres\",\"marker\":{\"color\":\"#EF553B\",\"pattern\":{\"shape\":\"\"}},\"name\":\"Mujeres\",\"offsetgroup\":\"Mujeres\",\"orientation\":\"v\",\"showlegend\":true,\"textposition\":\"auto\",\"x\":[1980,1981,1982,1983,1984,1985,1986,1987,1988,1989,1990,1991,1992,1993,1994,1995,1996,1997,1998,1999,2000,2001,2002,2003,2004,2005,2006,2007,2008,2009,2010,2011,2012,2013,2014,2015,2016,2017,2018],\"xaxis\":\"x\",\"y\":[415,450,515,588,657,685,723,787,810,774,804,777,682,754,742,749,869,847,762,808,819,759,817,828,856,829,734,800,781,763,690,745,815,959,972,922,907,961,920],\"yaxis\":\"y\",\"type\":\"bar\"}],                        {\"template\":{\"data\":{\"histogram2dcontour\":[{\"type\":\"histogram2dcontour\",\"colorbar\":{\"outlinewidth\":0,\"ticks\":\"\"},\"colorscale\":[[0.0,\"#0d0887\"],[0.1111111111111111,\"#46039f\"],[0.2222222222222222,\"#7201a8\"],[0.3333333333333333,\"#9c179e\"],[0.4444444444444444,\"#bd3786\"],[0.5555555555555556,\"#d8576b\"],[0.6666666666666666,\"#ed7953\"],[0.7777777777777778,\"#fb9f3a\"],[0.8888888888888888,\"#fdca26\"],[1.0,\"#f0f921\"]]}],\"choropleth\":[{\"type\":\"choropleth\",\"colorbar\":{\"outlinewidth\":0,\"ticks\":\"\"}}],\"histogram2d\":[{\"type\":\"histogram2d\",\"colorbar\":{\"outlinewidth\":0,\"ticks\":\"\"},\"colorscale\":[[0.0,\"#0d0887\"],[0.1111111111111111,\"#46039f\"],[0.2222222222222222,\"#7201a8\"],[0.3333333333333333,\"#9c179e\"],[0.4444444444444444,\"#bd3786\"],[0.5555555555555556,\"#d8576b\"],[0.6666666666666666,\"#ed7953\"],[0.7777777777777778,\"#fb9f3a\"],[0.8888888888888888,\"#fdca26\"],[1.0,\"#f0f921\"]]}],\"heatmap\":[{\"type\":\"heatmap\",\"colorbar\":{\"outlinewidth\":0,\"ticks\":\"\"},\"colorscale\":[[0.0,\"#0d0887\"],[0.1111111111111111,\"#46039f\"],[0.2222222222222222,\"#7201a8\"],[0.3333333333333333,\"#9c179e\"],[0.4444444444444444,\"#bd3786\"],[0.5555555555555556,\"#d8576b\"],[0.6666666666666666,\"#ed7953\"],[0.7777777777777778,\"#fb9f3a\"],[0.8888888888888888,\"#fdca26\"],[1.0,\"#f0f921\"]]}],\"heatmapgl\":[{\"type\":\"heatmapgl\",\"colorbar\":{\"outlinewidth\":0,\"ticks\":\"\"},\"colorscale\":[[0.0,\"#0d0887\"],[0.1111111111111111,\"#46039f\"],[0.2222222222222222,\"#7201a8\"],[0.3333333333333333,\"#9c179e\"],[0.4444444444444444,\"#bd3786\"],[0.5555555555555556,\"#d8576b\"],[0.6666666666666666,\"#ed7953\"],[0.7777777777777778,\"#fb9f3a\"],[0.8888888888888888,\"#fdca26\"],[1.0,\"#f0f921\"]]}],\"contourcarpet\":[{\"type\":\"contourcarpet\",\"colorbar\":{\"outlinewidth\":0,\"ticks\":\"\"}}],\"contour\":[{\"type\":\"contour\",\"colorbar\":{\"outlinewidth\":0,\"ticks\":\"\"},\"colorscale\":[[0.0,\"#0d0887\"],[0.1111111111111111,\"#46039f\"],[0.2222222222222222,\"#7201a8\"],[0.3333333333333333,\"#9c179e\"],[0.4444444444444444,\"#bd3786\"],[0.5555555555555556,\"#d8576b\"],[0.6666666666666666,\"#ed7953\"],[0.7777777777777778,\"#fb9f3a\"],[0.8888888888888888,\"#fdca26\"],[1.0,\"#f0f921\"]]}],\"surface\":[{\"type\":\"surface\",\"colorbar\":{\"outlinewidth\":0,\"ticks\":\"\"},\"colorscale\":[[0.0,\"#0d0887\"],[0.1111111111111111,\"#46039f\"],[0.2222222222222222,\"#7201a8\"],[0.3333333333333333,\"#9c179e\"],[0.4444444444444444,\"#bd3786\"],[0.5555555555555556,\"#d8576b\"],[0.6666666666666666,\"#ed7953\"],[0.7777777777777778,\"#fb9f3a\"],[0.8888888888888888,\"#fdca26\"],[1.0,\"#f0f921\"]]}],\"mesh3d\":[{\"type\":\"mesh3d\",\"colorbar\":{\"outlinewidth\":0,\"ticks\":\"\"}}],\"scatter\":[{\"fillpattern\":{\"fillmode\":\"overlay\",\"size\":10,\"solidity\":0.2},\"type\":\"scatter\"}],\"parcoords\":[{\"type\":\"parcoords\",\"line\":{\"colorbar\":{\"outlinewidth\":0,\"ticks\":\"\"}}}],\"scatterpolargl\":[{\"type\":\"scatterpolargl\",\"marker\":{\"colorbar\":{\"outlinewidth\":0,\"ticks\":\"\"}}}],\"bar\":[{\"error_x\":{\"color\":\"#2a3f5f\"},\"error_y\":{\"color\":\"#2a3f5f\"},\"marker\":{\"line\":{\"color\":\"#E5ECF6\",\"width\":0.5},\"pattern\":{\"fillmode\":\"overlay\",\"size\":10,\"solidity\":0.2}},\"type\":\"bar\"}],\"scattergeo\":[{\"type\":\"scattergeo\",\"marker\":{\"colorbar\":{\"outlinewidth\":0,\"ticks\":\"\"}}}],\"scatterpolar\":[{\"type\":\"scatterpolar\",\"marker\":{\"colorbar\":{\"outlinewidth\":0,\"ticks\":\"\"}}}],\"histogram\":[{\"marker\":{\"pattern\":{\"fillmode\":\"overlay\",\"size\":10,\"solidity\":0.2}},\"type\":\"histogram\"}],\"scattergl\":[{\"type\":\"scattergl\",\"marker\":{\"colorbar\":{\"outlinewidth\":0,\"ticks\":\"\"}}}],\"scatter3d\":[{\"type\":\"scatter3d\",\"line\":{\"colorbar\":{\"outlinewidth\":0,\"ticks\":\"\"}},\"marker\":{\"colorbar\":{\"outlinewidth\":0,\"ticks\":\"\"}}}],\"scattermapbox\":[{\"type\":\"scattermapbox\",\"marker\":{\"colorbar\":{\"outlinewidth\":0,\"ticks\":\"\"}}}],\"scatterternary\":[{\"type\":\"scatterternary\",\"marker\":{\"colorbar\":{\"outlinewidth\":0,\"ticks\":\"\"}}}],\"scattercarpet\":[{\"type\":\"scattercarpet\",\"marker\":{\"colorbar\":{\"outlinewidth\":0,\"ticks\":\"\"}}}],\"carpet\":[{\"aaxis\":{\"endlinecolor\":\"#2a3f5f\",\"gridcolor\":\"white\",\"linecolor\":\"white\",\"minorgridcolor\":\"white\",\"startlinecolor\":\"#2a3f5f\"},\"baxis\":{\"endlinecolor\":\"#2a3f5f\",\"gridcolor\":\"white\",\"linecolor\":\"white\",\"minorgridcolor\":\"white\",\"startlinecolor\":\"#2a3f5f\"},\"type\":\"carpet\"}],\"table\":[{\"cells\":{\"fill\":{\"color\":\"#EBF0F8\"},\"line\":{\"color\":\"white\"}},\"header\":{\"fill\":{\"color\":\"#C8D4E3\"},\"line\":{\"color\":\"white\"}},\"type\":\"table\"}],\"barpolar\":[{\"marker\":{\"line\":{\"color\":\"#E5ECF6\",\"width\":0.5},\"pattern\":{\"fillmode\":\"overlay\",\"size\":10,\"solidity\":0.2}},\"type\":\"barpolar\"}],\"pie\":[{\"automargin\":true,\"type\":\"pie\"}]},\"layout\":{\"autotypenumbers\":\"strict\",\"colorway\":[\"#636efa\",\"#EF553B\",\"#00cc96\",\"#ab63fa\",\"#FFA15A\",\"#19d3f3\",\"#FF6692\",\"#B6E880\",\"#FF97FF\",\"#FECB52\"],\"font\":{\"color\":\"#2a3f5f\"},\"hovermode\":\"closest\",\"hoverlabel\":{\"align\":\"left\"},\"paper_bgcolor\":\"white\",\"plot_bgcolor\":\"#E5ECF6\",\"polar\":{\"bgcolor\":\"#E5ECF6\",\"angularaxis\":{\"gridcolor\":\"white\",\"linecolor\":\"white\",\"ticks\":\"\"},\"radialaxis\":{\"gridcolor\":\"white\",\"linecolor\":\"white\",\"ticks\":\"\"}},\"ternary\":{\"bgcolor\":\"#E5ECF6\",\"aaxis\":{\"gridcolor\":\"white\",\"linecolor\":\"white\",\"ticks\":\"\"},\"baxis\":{\"gridcolor\":\"white\",\"linecolor\":\"white\",\"ticks\":\"\"},\"caxis\":{\"gridcolor\":\"white\",\"linecolor\":\"white\",\"ticks\":\"\"}},\"coloraxis\":{\"colorbar\":{\"outlinewidth\":0,\"ticks\":\"\"}},\"colorscale\":{\"sequential\":[[0.0,\"#0d0887\"],[0.1111111111111111,\"#46039f\"],[0.2222222222222222,\"#7201a8\"],[0.3333333333333333,\"#9c179e\"],[0.4444444444444444,\"#bd3786\"],[0.5555555555555556,\"#d8576b\"],[0.6666666666666666,\"#ed7953\"],[0.7777777777777778,\"#fb9f3a\"],[0.8888888888888888,\"#fdca26\"],[1.0,\"#f0f921\"]],\"sequentialminus\":[[0.0,\"#0d0887\"],[0.1111111111111111,\"#46039f\"],[0.2222222222222222,\"#7201a8\"],[0.3333333333333333,\"#9c179e\"],[0.4444444444444444,\"#bd3786\"],[0.5555555555555556,\"#d8576b\"],[0.6666666666666666,\"#ed7953\"],[0.7777777777777778,\"#fb9f3a\"],[0.8888888888888888,\"#fdca26\"],[1.0,\"#f0f921\"]],\"diverging\":[[0,\"#8e0152\"],[0.1,\"#c51b7d\"],[0.2,\"#de77ae\"],[0.3,\"#f1b6da\"],[0.4,\"#fde0ef\"],[0.5,\"#f7f7f7\"],[0.6,\"#e6f5d0\"],[0.7,\"#b8e186\"],[0.8,\"#7fbc41\"],[0.9,\"#4d9221\"],[1,\"#276419\"]]},\"xaxis\":{\"gridcolor\":\"white\",\"linecolor\":\"white\",\"ticks\":\"\",\"title\":{\"standoff\":15},\"zerolinecolor\":\"white\",\"automargin\":true,\"zerolinewidth\":2},\"yaxis\":{\"gridcolor\":\"white\",\"linecolor\":\"white\",\"ticks\":\"\",\"title\":{\"standoff\":15},\"zerolinecolor\":\"white\",\"automargin\":true,\"zerolinewidth\":2},\"scene\":{\"xaxis\":{\"backgroundcolor\":\"#E5ECF6\",\"gridcolor\":\"white\",\"linecolor\":\"white\",\"showbackground\":true,\"ticks\":\"\",\"zerolinecolor\":\"white\",\"gridwidth\":2},\"yaxis\":{\"backgroundcolor\":\"#E5ECF6\",\"gridcolor\":\"white\",\"linecolor\":\"white\",\"showbackground\":true,\"ticks\":\"\",\"zerolinecolor\":\"white\",\"gridwidth\":2},\"zaxis\":{\"backgroundcolor\":\"#E5ECF6\",\"gridcolor\":\"white\",\"linecolor\":\"white\",\"showbackground\":true,\"ticks\":\"\",\"zerolinecolor\":\"white\",\"gridwidth\":2}},\"shapedefaults\":{\"line\":{\"color\":\"#2a3f5f\"}},\"annotationdefaults\":{\"arrowcolor\":\"#2a3f5f\",\"arrowhead\":0,\"arrowwidth\":1},\"geo\":{\"bgcolor\":\"white\",\"landcolor\":\"#E5ECF6\",\"subunitcolor\":\"white\",\"showland\":true,\"showlakes\":true,\"lakecolor\":\"white\"},\"title\":{\"x\":0.05},\"mapbox\":{\"style\":\"light\"}}},\"xaxis\":{\"anchor\":\"y\",\"domain\":[0.0,1.0],\"title\":{\"text\":\"Year\"}},\"yaxis\":{\"anchor\":\"x\",\"domain\":[0.0,1.0],\"title\":{\"text\":\"Total\"}},\"legend\":{\"title\":{\"text\":\"Sex\"},\"tracegroupgap\":0},\"title\":{\"text\":\"Total suicide\"},\"barmode\":\"relative\"},                        {\"responsive\": true}                    ).then(function(){\n",
       "                            \n",
       "var gd = document.getElementById('7be19b68-41d5-41e0-af7f-27f7851a15fa');\n",
       "var x = new MutationObserver(function (mutations, observer) {{\n",
       "        var display = window.getComputedStyle(gd).display;\n",
       "        if (!display || display === 'none') {{\n",
       "            console.log([gd, 'removed!']);\n",
       "            Plotly.purge(gd);\n",
       "            observer.disconnect();\n",
       "        }}\n",
       "}});\n",
       "\n",
       "// Listen for the removal of the full notebook cells\n",
       "var notebookContainer = gd.closest('#notebook-container');\n",
       "if (notebookContainer) {{\n",
       "    x.observe(notebookContainer, {childList: true});\n",
       "}}\n",
       "\n",
       "// Listen for the clearing of the current output cell\n",
       "var outputEl = gd.closest('.output');\n",
       "if (outputEl) {{\n",
       "    x.observe(outputEl, {childList: true});\n",
       "}}\n",
       "\n",
       "                        })                };                });            </script>        </div>"
      ]
     },
     "metadata": {},
     "output_type": "display_data"
    }
   ],
   "source": [
    "# Graph total suicide by year, sex\n",
    "deaths_cause_098_sex = deaths_cause_098.groupby(['Sexo', 'Periodo'])[['Total']].sum().reset_index()\n",
    "\n",
    "graph = px.bar(deaths_cause_098_sex, \n",
    "               x = 'Periodo',\n",
    "               y = 'Total',\n",
    "               color = 'Sexo',\n",
    "               title = 'Total suicide',\n",
    "               labels={'Periodo':'Year', \n",
    "                       'Total':'Total', \n",
    "                       'Sexo': 'Sex'})\n",
    "\n",
    "graph.show()"
   ]
  },
  {
   "cell_type": "code",
   "execution_count": 38,
   "metadata": {},
   "outputs": [
    {
     "name": "stdout",
     "output_type": "stream",
     "text": [
      "21\n"
     ]
    },
    {
     "data": {
      "application/vnd.plotly.v1+json": {
       "config": {
        "plotlyServerURL": "https://plot.ly"
       },
       "data": [
        {
         "alignmentgroup": "True",
         "hovertemplate": "Age=%{x}<br>Total=%{y}<extra></extra>",
         "legendgroup": "",
         "marker": {
          "color": "#636efa",
          "pattern": {
           "shape": ""
          }
         },
         "name": "",
         "offsetgroup": "",
         "orientation": "v",
         "showlegend": false,
         "textposition": "auto",
         "type": "bar",
         "x": [
          "95 y más años",
          "De 1 a 4 años",
          "De 10 a 14 años  ",
          "De 15 a 19 años  ",
          "De 20 a 24 años",
          "De 25 a 29 años",
          "De 30 a 34 años",
          "De 35 a 39 años",
          "De 40 a 44 años",
          "De 45 a 49 años",
          "De 5 a 9 años",
          "De 50 a 54 años",
          "De 55 a 59 años",
          "De 60 a 64 años",
          "De 65 a 69 años",
          "De 70 a 74 años  ",
          "De 75 a 79 años  ",
          "De 80 a 84 años  ",
          "De 85 a 89 años  ",
          "De 90 a 94 años  ",
          "Menos de 1 año"
         ],
         "xaxis": "x",
         "y": [
          282,
          0,
          449,
          2878,
          6131,
          7335,
          8003,
          8695,
          9102,
          9448,
          11,
          9940,
          9555,
          9053,
          8847,
          9094,
          8943,
          7325,
          4340,
          1440,
          0
         ],
         "yaxis": "y"
        }
       ],
       "layout": {
        "barmode": "relative",
        "legend": {
         "tracegroupgap": 0
        },
        "template": {
         "data": {
          "bar": [
           {
            "error_x": {
             "color": "#2a3f5f"
            },
            "error_y": {
             "color": "#2a3f5f"
            },
            "marker": {
             "line": {
              "color": "#E5ECF6",
              "width": 0.5
             },
             "pattern": {
              "fillmode": "overlay",
              "size": 10,
              "solidity": 0.2
             }
            },
            "type": "bar"
           }
          ],
          "barpolar": [
           {
            "marker": {
             "line": {
              "color": "#E5ECF6",
              "width": 0.5
             },
             "pattern": {
              "fillmode": "overlay",
              "size": 10,
              "solidity": 0.2
             }
            },
            "type": "barpolar"
           }
          ],
          "carpet": [
           {
            "aaxis": {
             "endlinecolor": "#2a3f5f",
             "gridcolor": "white",
             "linecolor": "white",
             "minorgridcolor": "white",
             "startlinecolor": "#2a3f5f"
            },
            "baxis": {
             "endlinecolor": "#2a3f5f",
             "gridcolor": "white",
             "linecolor": "white",
             "minorgridcolor": "white",
             "startlinecolor": "#2a3f5f"
            },
            "type": "carpet"
           }
          ],
          "choropleth": [
           {
            "colorbar": {
             "outlinewidth": 0,
             "ticks": ""
            },
            "type": "choropleth"
           }
          ],
          "contour": [
           {
            "colorbar": {
             "outlinewidth": 0,
             "ticks": ""
            },
            "colorscale": [
             [
              0,
              "#0d0887"
             ],
             [
              0.1111111111111111,
              "#46039f"
             ],
             [
              0.2222222222222222,
              "#7201a8"
             ],
             [
              0.3333333333333333,
              "#9c179e"
             ],
             [
              0.4444444444444444,
              "#bd3786"
             ],
             [
              0.5555555555555556,
              "#d8576b"
             ],
             [
              0.6666666666666666,
              "#ed7953"
             ],
             [
              0.7777777777777778,
              "#fb9f3a"
             ],
             [
              0.8888888888888888,
              "#fdca26"
             ],
             [
              1,
              "#f0f921"
             ]
            ],
            "type": "contour"
           }
          ],
          "contourcarpet": [
           {
            "colorbar": {
             "outlinewidth": 0,
             "ticks": ""
            },
            "type": "contourcarpet"
           }
          ],
          "heatmap": [
           {
            "colorbar": {
             "outlinewidth": 0,
             "ticks": ""
            },
            "colorscale": [
             [
              0,
              "#0d0887"
             ],
             [
              0.1111111111111111,
              "#46039f"
             ],
             [
              0.2222222222222222,
              "#7201a8"
             ],
             [
              0.3333333333333333,
              "#9c179e"
             ],
             [
              0.4444444444444444,
              "#bd3786"
             ],
             [
              0.5555555555555556,
              "#d8576b"
             ],
             [
              0.6666666666666666,
              "#ed7953"
             ],
             [
              0.7777777777777778,
              "#fb9f3a"
             ],
             [
              0.8888888888888888,
              "#fdca26"
             ],
             [
              1,
              "#f0f921"
             ]
            ],
            "type": "heatmap"
           }
          ],
          "heatmapgl": [
           {
            "colorbar": {
             "outlinewidth": 0,
             "ticks": ""
            },
            "colorscale": [
             [
              0,
              "#0d0887"
             ],
             [
              0.1111111111111111,
              "#46039f"
             ],
             [
              0.2222222222222222,
              "#7201a8"
             ],
             [
              0.3333333333333333,
              "#9c179e"
             ],
             [
              0.4444444444444444,
              "#bd3786"
             ],
             [
              0.5555555555555556,
              "#d8576b"
             ],
             [
              0.6666666666666666,
              "#ed7953"
             ],
             [
              0.7777777777777778,
              "#fb9f3a"
             ],
             [
              0.8888888888888888,
              "#fdca26"
             ],
             [
              1,
              "#f0f921"
             ]
            ],
            "type": "heatmapgl"
           }
          ],
          "histogram": [
           {
            "marker": {
             "pattern": {
              "fillmode": "overlay",
              "size": 10,
              "solidity": 0.2
             }
            },
            "type": "histogram"
           }
          ],
          "histogram2d": [
           {
            "colorbar": {
             "outlinewidth": 0,
             "ticks": ""
            },
            "colorscale": [
             [
              0,
              "#0d0887"
             ],
             [
              0.1111111111111111,
              "#46039f"
             ],
             [
              0.2222222222222222,
              "#7201a8"
             ],
             [
              0.3333333333333333,
              "#9c179e"
             ],
             [
              0.4444444444444444,
              "#bd3786"
             ],
             [
              0.5555555555555556,
              "#d8576b"
             ],
             [
              0.6666666666666666,
              "#ed7953"
             ],
             [
              0.7777777777777778,
              "#fb9f3a"
             ],
             [
              0.8888888888888888,
              "#fdca26"
             ],
             [
              1,
              "#f0f921"
             ]
            ],
            "type": "histogram2d"
           }
          ],
          "histogram2dcontour": [
           {
            "colorbar": {
             "outlinewidth": 0,
             "ticks": ""
            },
            "colorscale": [
             [
              0,
              "#0d0887"
             ],
             [
              0.1111111111111111,
              "#46039f"
             ],
             [
              0.2222222222222222,
              "#7201a8"
             ],
             [
              0.3333333333333333,
              "#9c179e"
             ],
             [
              0.4444444444444444,
              "#bd3786"
             ],
             [
              0.5555555555555556,
              "#d8576b"
             ],
             [
              0.6666666666666666,
              "#ed7953"
             ],
             [
              0.7777777777777778,
              "#fb9f3a"
             ],
             [
              0.8888888888888888,
              "#fdca26"
             ],
             [
              1,
              "#f0f921"
             ]
            ],
            "type": "histogram2dcontour"
           }
          ],
          "mesh3d": [
           {
            "colorbar": {
             "outlinewidth": 0,
             "ticks": ""
            },
            "type": "mesh3d"
           }
          ],
          "parcoords": [
           {
            "line": {
             "colorbar": {
              "outlinewidth": 0,
              "ticks": ""
             }
            },
            "type": "parcoords"
           }
          ],
          "pie": [
           {
            "automargin": true,
            "type": "pie"
           }
          ],
          "scatter": [
           {
            "fillpattern": {
             "fillmode": "overlay",
             "size": 10,
             "solidity": 0.2
            },
            "type": "scatter"
           }
          ],
          "scatter3d": [
           {
            "line": {
             "colorbar": {
              "outlinewidth": 0,
              "ticks": ""
             }
            },
            "marker": {
             "colorbar": {
              "outlinewidth": 0,
              "ticks": ""
             }
            },
            "type": "scatter3d"
           }
          ],
          "scattercarpet": [
           {
            "marker": {
             "colorbar": {
              "outlinewidth": 0,
              "ticks": ""
             }
            },
            "type": "scattercarpet"
           }
          ],
          "scattergeo": [
           {
            "marker": {
             "colorbar": {
              "outlinewidth": 0,
              "ticks": ""
             }
            },
            "type": "scattergeo"
           }
          ],
          "scattergl": [
           {
            "marker": {
             "colorbar": {
              "outlinewidth": 0,
              "ticks": ""
             }
            },
            "type": "scattergl"
           }
          ],
          "scattermapbox": [
           {
            "marker": {
             "colorbar": {
              "outlinewidth": 0,
              "ticks": ""
             }
            },
            "type": "scattermapbox"
           }
          ],
          "scatterpolar": [
           {
            "marker": {
             "colorbar": {
              "outlinewidth": 0,
              "ticks": ""
             }
            },
            "type": "scatterpolar"
           }
          ],
          "scatterpolargl": [
           {
            "marker": {
             "colorbar": {
              "outlinewidth": 0,
              "ticks": ""
             }
            },
            "type": "scatterpolargl"
           }
          ],
          "scatterternary": [
           {
            "marker": {
             "colorbar": {
              "outlinewidth": 0,
              "ticks": ""
             }
            },
            "type": "scatterternary"
           }
          ],
          "surface": [
           {
            "colorbar": {
             "outlinewidth": 0,
             "ticks": ""
            },
            "colorscale": [
             [
              0,
              "#0d0887"
             ],
             [
              0.1111111111111111,
              "#46039f"
             ],
             [
              0.2222222222222222,
              "#7201a8"
             ],
             [
              0.3333333333333333,
              "#9c179e"
             ],
             [
              0.4444444444444444,
              "#bd3786"
             ],
             [
              0.5555555555555556,
              "#d8576b"
             ],
             [
              0.6666666666666666,
              "#ed7953"
             ],
             [
              0.7777777777777778,
              "#fb9f3a"
             ],
             [
              0.8888888888888888,
              "#fdca26"
             ],
             [
              1,
              "#f0f921"
             ]
            ],
            "type": "surface"
           }
          ],
          "table": [
           {
            "cells": {
             "fill": {
              "color": "#EBF0F8"
             },
             "line": {
              "color": "white"
             }
            },
            "header": {
             "fill": {
              "color": "#C8D4E3"
             },
             "line": {
              "color": "white"
             }
            },
            "type": "table"
           }
          ]
         },
         "layout": {
          "annotationdefaults": {
           "arrowcolor": "#2a3f5f",
           "arrowhead": 0,
           "arrowwidth": 1
          },
          "autotypenumbers": "strict",
          "coloraxis": {
           "colorbar": {
            "outlinewidth": 0,
            "ticks": ""
           }
          },
          "colorscale": {
           "diverging": [
            [
             0,
             "#8e0152"
            ],
            [
             0.1,
             "#c51b7d"
            ],
            [
             0.2,
             "#de77ae"
            ],
            [
             0.3,
             "#f1b6da"
            ],
            [
             0.4,
             "#fde0ef"
            ],
            [
             0.5,
             "#f7f7f7"
            ],
            [
             0.6,
             "#e6f5d0"
            ],
            [
             0.7,
             "#b8e186"
            ],
            [
             0.8,
             "#7fbc41"
            ],
            [
             0.9,
             "#4d9221"
            ],
            [
             1,
             "#276419"
            ]
           ],
           "sequential": [
            [
             0,
             "#0d0887"
            ],
            [
             0.1111111111111111,
             "#46039f"
            ],
            [
             0.2222222222222222,
             "#7201a8"
            ],
            [
             0.3333333333333333,
             "#9c179e"
            ],
            [
             0.4444444444444444,
             "#bd3786"
            ],
            [
             0.5555555555555556,
             "#d8576b"
            ],
            [
             0.6666666666666666,
             "#ed7953"
            ],
            [
             0.7777777777777778,
             "#fb9f3a"
            ],
            [
             0.8888888888888888,
             "#fdca26"
            ],
            [
             1,
             "#f0f921"
            ]
           ],
           "sequentialminus": [
            [
             0,
             "#0d0887"
            ],
            [
             0.1111111111111111,
             "#46039f"
            ],
            [
             0.2222222222222222,
             "#7201a8"
            ],
            [
             0.3333333333333333,
             "#9c179e"
            ],
            [
             0.4444444444444444,
             "#bd3786"
            ],
            [
             0.5555555555555556,
             "#d8576b"
            ],
            [
             0.6666666666666666,
             "#ed7953"
            ],
            [
             0.7777777777777778,
             "#fb9f3a"
            ],
            [
             0.8888888888888888,
             "#fdca26"
            ],
            [
             1,
             "#f0f921"
            ]
           ]
          },
          "colorway": [
           "#636efa",
           "#EF553B",
           "#00cc96",
           "#ab63fa",
           "#FFA15A",
           "#19d3f3",
           "#FF6692",
           "#B6E880",
           "#FF97FF",
           "#FECB52"
          ],
          "font": {
           "color": "#2a3f5f"
          },
          "geo": {
           "bgcolor": "white",
           "lakecolor": "white",
           "landcolor": "#E5ECF6",
           "showlakes": true,
           "showland": true,
           "subunitcolor": "white"
          },
          "hoverlabel": {
           "align": "left"
          },
          "hovermode": "closest",
          "mapbox": {
           "style": "light"
          },
          "paper_bgcolor": "white",
          "plot_bgcolor": "#E5ECF6",
          "polar": {
           "angularaxis": {
            "gridcolor": "white",
            "linecolor": "white",
            "ticks": ""
           },
           "bgcolor": "#E5ECF6",
           "radialaxis": {
            "gridcolor": "white",
            "linecolor": "white",
            "ticks": ""
           }
          },
          "scene": {
           "xaxis": {
            "backgroundcolor": "#E5ECF6",
            "gridcolor": "white",
            "gridwidth": 2,
            "linecolor": "white",
            "showbackground": true,
            "ticks": "",
            "zerolinecolor": "white"
           },
           "yaxis": {
            "backgroundcolor": "#E5ECF6",
            "gridcolor": "white",
            "gridwidth": 2,
            "linecolor": "white",
            "showbackground": true,
            "ticks": "",
            "zerolinecolor": "white"
           },
           "zaxis": {
            "backgroundcolor": "#E5ECF6",
            "gridcolor": "white",
            "gridwidth": 2,
            "linecolor": "white",
            "showbackground": true,
            "ticks": "",
            "zerolinecolor": "white"
           }
          },
          "shapedefaults": {
           "line": {
            "color": "#2a3f5f"
           }
          },
          "ternary": {
           "aaxis": {
            "gridcolor": "white",
            "linecolor": "white",
            "ticks": ""
           },
           "baxis": {
            "gridcolor": "white",
            "linecolor": "white",
            "ticks": ""
           },
           "bgcolor": "#E5ECF6",
           "caxis": {
            "gridcolor": "white",
            "linecolor": "white",
            "ticks": ""
           }
          },
          "title": {
           "x": 0.05
          },
          "xaxis": {
           "automargin": true,
           "gridcolor": "white",
           "linecolor": "white",
           "ticks": "",
           "title": {
            "standoff": 15
           },
           "zerolinecolor": "white",
           "zerolinewidth": 2
          },
          "yaxis": {
           "automargin": true,
           "gridcolor": "white",
           "linecolor": "white",
           "ticks": "",
           "title": {
            "standoff": 15
           },
           "zerolinecolor": "white",
           "zerolinewidth": 2
          }
         }
        },
        "title": {
         "text": "Total suicide"
        },
        "xaxis": {
         "anchor": "y",
         "categoryorder": "total descending",
         "domain": [
          0,
          1
         ],
         "title": {
          "text": "Age"
         }
        },
        "yaxis": {
         "anchor": "x",
         "domain": [
          0,
          1
         ],
         "title": {
          "text": "Total"
         }
        }
       }
      },
      "text/html": [
       "<div>                            <div id=\"7658ec9f-7211-46c5-8afe-0a1042048d50\" class=\"plotly-graph-div\" style=\"height:525px; width:100%;\"></div>            <script type=\"text/javascript\">                require([\"plotly\"], function(Plotly) {                    window.PLOTLYENV=window.PLOTLYENV || {};                                    if (document.getElementById(\"7658ec9f-7211-46c5-8afe-0a1042048d50\")) {                    Plotly.newPlot(                        \"7658ec9f-7211-46c5-8afe-0a1042048d50\",                        [{\"alignmentgroup\":\"True\",\"hovertemplate\":\"Age=%{x}<br>Total=%{y}<extra></extra>\",\"legendgroup\":\"\",\"marker\":{\"color\":\"#636efa\",\"pattern\":{\"shape\":\"\"}},\"name\":\"\",\"offsetgroup\":\"\",\"orientation\":\"v\",\"showlegend\":false,\"textposition\":\"auto\",\"x\":[\"95 y m\\u00e1s a\\u00f1os\",\"De 1 a 4 a\\u00f1os\",\"De 10 a 14 a\\u00f1os  \",\"De 15 a 19 a\\u00f1os  \",\"De 20 a 24 a\\u00f1os\",\"De 25 a 29 a\\u00f1os\",\"De 30 a 34 a\\u00f1os\",\"De 35 a 39 a\\u00f1os\",\"De 40 a 44 a\\u00f1os\",\"De 45 a 49 a\\u00f1os\",\"De 5 a 9 a\\u00f1os\",\"De 50 a 54 a\\u00f1os\",\"De 55 a 59 a\\u00f1os\",\"De 60 a 64 a\\u00f1os\",\"De 65 a 69 a\\u00f1os\",\"De 70 a 74 a\\u00f1os  \",\"De 75 a 79 a\\u00f1os  \",\"De 80 a 84 a\\u00f1os  \",\"De 85 a 89 a\\u00f1os  \",\"De 90 a 94 a\\u00f1os  \",\"Menos de 1 a\\u00f1o\"],\"xaxis\":\"x\",\"y\":[282,0,449,2878,6131,7335,8003,8695,9102,9448,11,9940,9555,9053,8847,9094,8943,7325,4340,1440,0],\"yaxis\":\"y\",\"type\":\"bar\"}],                        {\"template\":{\"data\":{\"histogram2dcontour\":[{\"type\":\"histogram2dcontour\",\"colorbar\":{\"outlinewidth\":0,\"ticks\":\"\"},\"colorscale\":[[0.0,\"#0d0887\"],[0.1111111111111111,\"#46039f\"],[0.2222222222222222,\"#7201a8\"],[0.3333333333333333,\"#9c179e\"],[0.4444444444444444,\"#bd3786\"],[0.5555555555555556,\"#d8576b\"],[0.6666666666666666,\"#ed7953\"],[0.7777777777777778,\"#fb9f3a\"],[0.8888888888888888,\"#fdca26\"],[1.0,\"#f0f921\"]]}],\"choropleth\":[{\"type\":\"choropleth\",\"colorbar\":{\"outlinewidth\":0,\"ticks\":\"\"}}],\"histogram2d\":[{\"type\":\"histogram2d\",\"colorbar\":{\"outlinewidth\":0,\"ticks\":\"\"},\"colorscale\":[[0.0,\"#0d0887\"],[0.1111111111111111,\"#46039f\"],[0.2222222222222222,\"#7201a8\"],[0.3333333333333333,\"#9c179e\"],[0.4444444444444444,\"#bd3786\"],[0.5555555555555556,\"#d8576b\"],[0.6666666666666666,\"#ed7953\"],[0.7777777777777778,\"#fb9f3a\"],[0.8888888888888888,\"#fdca26\"],[1.0,\"#f0f921\"]]}],\"heatmap\":[{\"type\":\"heatmap\",\"colorbar\":{\"outlinewidth\":0,\"ticks\":\"\"},\"colorscale\":[[0.0,\"#0d0887\"],[0.1111111111111111,\"#46039f\"],[0.2222222222222222,\"#7201a8\"],[0.3333333333333333,\"#9c179e\"],[0.4444444444444444,\"#bd3786\"],[0.5555555555555556,\"#d8576b\"],[0.6666666666666666,\"#ed7953\"],[0.7777777777777778,\"#fb9f3a\"],[0.8888888888888888,\"#fdca26\"],[1.0,\"#f0f921\"]]}],\"heatmapgl\":[{\"type\":\"heatmapgl\",\"colorbar\":{\"outlinewidth\":0,\"ticks\":\"\"},\"colorscale\":[[0.0,\"#0d0887\"],[0.1111111111111111,\"#46039f\"],[0.2222222222222222,\"#7201a8\"],[0.3333333333333333,\"#9c179e\"],[0.4444444444444444,\"#bd3786\"],[0.5555555555555556,\"#d8576b\"],[0.6666666666666666,\"#ed7953\"],[0.7777777777777778,\"#fb9f3a\"],[0.8888888888888888,\"#fdca26\"],[1.0,\"#f0f921\"]]}],\"contourcarpet\":[{\"type\":\"contourcarpet\",\"colorbar\":{\"outlinewidth\":0,\"ticks\":\"\"}}],\"contour\":[{\"type\":\"contour\",\"colorbar\":{\"outlinewidth\":0,\"ticks\":\"\"},\"colorscale\":[[0.0,\"#0d0887\"],[0.1111111111111111,\"#46039f\"],[0.2222222222222222,\"#7201a8\"],[0.3333333333333333,\"#9c179e\"],[0.4444444444444444,\"#bd3786\"],[0.5555555555555556,\"#d8576b\"],[0.6666666666666666,\"#ed7953\"],[0.7777777777777778,\"#fb9f3a\"],[0.8888888888888888,\"#fdca26\"],[1.0,\"#f0f921\"]]}],\"surface\":[{\"type\":\"surface\",\"colorbar\":{\"outlinewidth\":0,\"ticks\":\"\"},\"colorscale\":[[0.0,\"#0d0887\"],[0.1111111111111111,\"#46039f\"],[0.2222222222222222,\"#7201a8\"],[0.3333333333333333,\"#9c179e\"],[0.4444444444444444,\"#bd3786\"],[0.5555555555555556,\"#d8576b\"],[0.6666666666666666,\"#ed7953\"],[0.7777777777777778,\"#fb9f3a\"],[0.8888888888888888,\"#fdca26\"],[1.0,\"#f0f921\"]]}],\"mesh3d\":[{\"type\":\"mesh3d\",\"colorbar\":{\"outlinewidth\":0,\"ticks\":\"\"}}],\"scatter\":[{\"fillpattern\":{\"fillmode\":\"overlay\",\"size\":10,\"solidity\":0.2},\"type\":\"scatter\"}],\"parcoords\":[{\"type\":\"parcoords\",\"line\":{\"colorbar\":{\"outlinewidth\":0,\"ticks\":\"\"}}}],\"scatterpolargl\":[{\"type\":\"scatterpolargl\",\"marker\":{\"colorbar\":{\"outlinewidth\":0,\"ticks\":\"\"}}}],\"bar\":[{\"error_x\":{\"color\":\"#2a3f5f\"},\"error_y\":{\"color\":\"#2a3f5f\"},\"marker\":{\"line\":{\"color\":\"#E5ECF6\",\"width\":0.5},\"pattern\":{\"fillmode\":\"overlay\",\"size\":10,\"solidity\":0.2}},\"type\":\"bar\"}],\"scattergeo\":[{\"type\":\"scattergeo\",\"marker\":{\"colorbar\":{\"outlinewidth\":0,\"ticks\":\"\"}}}],\"scatterpolar\":[{\"type\":\"scatterpolar\",\"marker\":{\"colorbar\":{\"outlinewidth\":0,\"ticks\":\"\"}}}],\"histogram\":[{\"marker\":{\"pattern\":{\"fillmode\":\"overlay\",\"size\":10,\"solidity\":0.2}},\"type\":\"histogram\"}],\"scattergl\":[{\"type\":\"scattergl\",\"marker\":{\"colorbar\":{\"outlinewidth\":0,\"ticks\":\"\"}}}],\"scatter3d\":[{\"type\":\"scatter3d\",\"line\":{\"colorbar\":{\"outlinewidth\":0,\"ticks\":\"\"}},\"marker\":{\"colorbar\":{\"outlinewidth\":0,\"ticks\":\"\"}}}],\"scattermapbox\":[{\"type\":\"scattermapbox\",\"marker\":{\"colorbar\":{\"outlinewidth\":0,\"ticks\":\"\"}}}],\"scatterternary\":[{\"type\":\"scatterternary\",\"marker\":{\"colorbar\":{\"outlinewidth\":0,\"ticks\":\"\"}}}],\"scattercarpet\":[{\"type\":\"scattercarpet\",\"marker\":{\"colorbar\":{\"outlinewidth\":0,\"ticks\":\"\"}}}],\"carpet\":[{\"aaxis\":{\"endlinecolor\":\"#2a3f5f\",\"gridcolor\":\"white\",\"linecolor\":\"white\",\"minorgridcolor\":\"white\",\"startlinecolor\":\"#2a3f5f\"},\"baxis\":{\"endlinecolor\":\"#2a3f5f\",\"gridcolor\":\"white\",\"linecolor\":\"white\",\"minorgridcolor\":\"white\",\"startlinecolor\":\"#2a3f5f\"},\"type\":\"carpet\"}],\"table\":[{\"cells\":{\"fill\":{\"color\":\"#EBF0F8\"},\"line\":{\"color\":\"white\"}},\"header\":{\"fill\":{\"color\":\"#C8D4E3\"},\"line\":{\"color\":\"white\"}},\"type\":\"table\"}],\"barpolar\":[{\"marker\":{\"line\":{\"color\":\"#E5ECF6\",\"width\":0.5},\"pattern\":{\"fillmode\":\"overlay\",\"size\":10,\"solidity\":0.2}},\"type\":\"barpolar\"}],\"pie\":[{\"automargin\":true,\"type\":\"pie\"}]},\"layout\":{\"autotypenumbers\":\"strict\",\"colorway\":[\"#636efa\",\"#EF553B\",\"#00cc96\",\"#ab63fa\",\"#FFA15A\",\"#19d3f3\",\"#FF6692\",\"#B6E880\",\"#FF97FF\",\"#FECB52\"],\"font\":{\"color\":\"#2a3f5f\"},\"hovermode\":\"closest\",\"hoverlabel\":{\"align\":\"left\"},\"paper_bgcolor\":\"white\",\"plot_bgcolor\":\"#E5ECF6\",\"polar\":{\"bgcolor\":\"#E5ECF6\",\"angularaxis\":{\"gridcolor\":\"white\",\"linecolor\":\"white\",\"ticks\":\"\"},\"radialaxis\":{\"gridcolor\":\"white\",\"linecolor\":\"white\",\"ticks\":\"\"}},\"ternary\":{\"bgcolor\":\"#E5ECF6\",\"aaxis\":{\"gridcolor\":\"white\",\"linecolor\":\"white\",\"ticks\":\"\"},\"baxis\":{\"gridcolor\":\"white\",\"linecolor\":\"white\",\"ticks\":\"\"},\"caxis\":{\"gridcolor\":\"white\",\"linecolor\":\"white\",\"ticks\":\"\"}},\"coloraxis\":{\"colorbar\":{\"outlinewidth\":0,\"ticks\":\"\"}},\"colorscale\":{\"sequential\":[[0.0,\"#0d0887\"],[0.1111111111111111,\"#46039f\"],[0.2222222222222222,\"#7201a8\"],[0.3333333333333333,\"#9c179e\"],[0.4444444444444444,\"#bd3786\"],[0.5555555555555556,\"#d8576b\"],[0.6666666666666666,\"#ed7953\"],[0.7777777777777778,\"#fb9f3a\"],[0.8888888888888888,\"#fdca26\"],[1.0,\"#f0f921\"]],\"sequentialminus\":[[0.0,\"#0d0887\"],[0.1111111111111111,\"#46039f\"],[0.2222222222222222,\"#7201a8\"],[0.3333333333333333,\"#9c179e\"],[0.4444444444444444,\"#bd3786\"],[0.5555555555555556,\"#d8576b\"],[0.6666666666666666,\"#ed7953\"],[0.7777777777777778,\"#fb9f3a\"],[0.8888888888888888,\"#fdca26\"],[1.0,\"#f0f921\"]],\"diverging\":[[0,\"#8e0152\"],[0.1,\"#c51b7d\"],[0.2,\"#de77ae\"],[0.3,\"#f1b6da\"],[0.4,\"#fde0ef\"],[0.5,\"#f7f7f7\"],[0.6,\"#e6f5d0\"],[0.7,\"#b8e186\"],[0.8,\"#7fbc41\"],[0.9,\"#4d9221\"],[1,\"#276419\"]]},\"xaxis\":{\"gridcolor\":\"white\",\"linecolor\":\"white\",\"ticks\":\"\",\"title\":{\"standoff\":15},\"zerolinecolor\":\"white\",\"automargin\":true,\"zerolinewidth\":2},\"yaxis\":{\"gridcolor\":\"white\",\"linecolor\":\"white\",\"ticks\":\"\",\"title\":{\"standoff\":15},\"zerolinecolor\":\"white\",\"automargin\":true,\"zerolinewidth\":2},\"scene\":{\"xaxis\":{\"backgroundcolor\":\"#E5ECF6\",\"gridcolor\":\"white\",\"linecolor\":\"white\",\"showbackground\":true,\"ticks\":\"\",\"zerolinecolor\":\"white\",\"gridwidth\":2},\"yaxis\":{\"backgroundcolor\":\"#E5ECF6\",\"gridcolor\":\"white\",\"linecolor\":\"white\",\"showbackground\":true,\"ticks\":\"\",\"zerolinecolor\":\"white\",\"gridwidth\":2},\"zaxis\":{\"backgroundcolor\":\"#E5ECF6\",\"gridcolor\":\"white\",\"linecolor\":\"white\",\"showbackground\":true,\"ticks\":\"\",\"zerolinecolor\":\"white\",\"gridwidth\":2}},\"shapedefaults\":{\"line\":{\"color\":\"#2a3f5f\"}},\"annotationdefaults\":{\"arrowcolor\":\"#2a3f5f\",\"arrowhead\":0,\"arrowwidth\":1},\"geo\":{\"bgcolor\":\"white\",\"landcolor\":\"#E5ECF6\",\"subunitcolor\":\"white\",\"showland\":true,\"showlakes\":true,\"lakecolor\":\"white\"},\"title\":{\"x\":0.05},\"mapbox\":{\"style\":\"light\"}}},\"xaxis\":{\"anchor\":\"y\",\"domain\":[0.0,1.0],\"title\":{\"text\":\"Age\"},\"categoryorder\":\"total descending\"},\"yaxis\":{\"anchor\":\"x\",\"domain\":[0.0,1.0],\"title\":{\"text\":\"Total\"}},\"legend\":{\"tracegroupgap\":0},\"title\":{\"text\":\"Total suicide\"},\"barmode\":\"relative\"},                        {\"responsive\": true}                    ).then(function(){\n",
       "                            \n",
       "var gd = document.getElementById('7658ec9f-7211-46c5-8afe-0a1042048d50');\n",
       "var x = new MutationObserver(function (mutations, observer) {{\n",
       "        var display = window.getComputedStyle(gd).display;\n",
       "        if (!display || display === 'none') {{\n",
       "            console.log([gd, 'removed!']);\n",
       "            Plotly.purge(gd);\n",
       "            observer.disconnect();\n",
       "        }}\n",
       "}});\n",
       "\n",
       "// Listen for the removal of the full notebook cells\n",
       "var notebookContainer = gd.closest('#notebook-container');\n",
       "if (notebookContainer) {{\n",
       "    x.observe(notebookContainer, {childList: true});\n",
       "}}\n",
       "\n",
       "// Listen for the clearing of the current output cell\n",
       "var outputEl = gd.closest('.output');\n",
       "if (outputEl) {{\n",
       "    x.observe(outputEl, {childList: true});\n",
       "}}\n",
       "\n",
       "                        })                };                });            </script>        </div>"
      ]
     },
     "metadata": {},
     "output_type": "display_data"
    }
   ],
   "source": [
    "# Graph total suicide by age\n",
    "deaths_cause_098_age = deaths_cause_098.groupby(['Edad'])[['Total']].sum().reset_index()\n",
    "print(len(deaths_cause_098_age))\n",
    "\n",
    "graph = px.bar(deaths_cause_098_age, \n",
    "               x = 'Edad',\n",
    "               y = 'Total',\n",
    "               title = 'Total suicide',\n",
    "               labels={'Edad':'Age', \n",
    "                       'Total':'Total'})\n",
    "\n",
    "graph.update_layout(xaxis={'categoryorder': 'total descending'})\n",
    "\n",
    "graph.show()\n"
   ]
  },
  {
   "cell_type": "code",
   "execution_count": 40,
   "metadata": {},
   "outputs": [
    {
     "data": {
      "application/vnd.plotly.v1+json": {
       "config": {
        "plotlyServerURL": "https://plot.ly"
       },
       "data": [
        {
         "alignmentgroup": "True",
         "hovertemplate": "Edad=De 50 a 54 años<br>Year=%{x}<br>Total=%{y}<extra></extra>",
         "legendgroup": "De 50 a 54 años",
         "marker": {
          "color": "#636efa",
          "pattern": {
           "shape": ""
          }
         },
         "name": "De 50 a 54 años",
         "offsetgroup": "De 50 a 54 años",
         "orientation": "v",
         "showlegend": true,
         "textposition": "auto",
         "type": "bar",
         "x": [
          1980,
          1984,
          2013,
          2016,
          2017
         ],
         "xaxis": "x",
         "y": [
          171,
          272,
          450,
          377,
          421
         ],
         "yaxis": "y"
        },
        {
         "alignmentgroup": "True",
         "hovertemplate": "Edad=De 55 a 59 años<br>Year=%{x}<br>Total=%{y}<extra></extra>",
         "legendgroup": "De 55 a 59 años",
         "marker": {
          "color": "#EF553B",
          "pattern": {
           "shape": ""
          }
         },
         "name": "De 55 a 59 años",
         "offsetgroup": "De 55 a 59 años",
         "orientation": "v",
         "showlegend": true,
         "textposition": "auto",
         "type": "bar",
         "x": [
          1981,
          1983,
          1985,
          1986,
          1990
         ],
         "xaxis": "x",
         "y": [
          188,
          217,
          261,
          287,
          266
         ],
         "yaxis": "y"
        },
        {
         "alignmentgroup": "True",
         "hovertemplate": "Edad=De 60 a 64 años<br>Year=%{x}<br>Total=%{y}<extra></extra>",
         "legendgroup": "De 60 a 64 años",
         "marker": {
          "color": "#00cc96",
          "pattern": {
           "shape": ""
          }
         },
         "name": "De 60 a 64 años",
         "offsetgroup": "De 60 a 64 años",
         "orientation": "v",
         "showlegend": true,
         "textposition": "auto",
         "type": "bar",
         "x": [
          1982,
          1987,
          1988,
          1992
         ],
         "xaxis": "x",
         "y": [
          199,
          275,
          258,
          247
         ],
         "yaxis": "y"
        },
        {
         "alignmentgroup": "True",
         "hovertemplate": "Edad=De 65 a 69 años<br>Year=%{x}<br>Total=%{y}<extra></extra>",
         "legendgroup": "De 65 a 69 años",
         "marker": {
          "color": "#ab63fa",
          "pattern": {
           "shape": ""
          }
         },
         "name": "De 65 a 69 años",
         "offsetgroup": "De 65 a 69 años",
         "orientation": "v",
         "showlegend": true,
         "textposition": "auto",
         "type": "bar",
         "x": [
          1989,
          1991,
          1993,
          1996,
          1999
         ],
         "xaxis": "x",
         "y": [
          262,
          273,
          253,
          294,
          299
         ],
         "yaxis": "y"
        },
        {
         "alignmentgroup": "True",
         "hovertemplate": "Edad=De 70 a 74 años  <br>Year=%{x}<br>Total=%{y}<extra></extra>",
         "legendgroup": "De 70 a 74 años  ",
         "marker": {
          "color": "#FFA15A",
          "pattern": {
           "shape": ""
          }
         },
         "name": "De 70 a 74 años  ",
         "offsetgroup": "De 70 a 74 años  ",
         "orientation": "v",
         "showlegend": true,
         "textposition": "auto",
         "type": "bar",
         "x": [
          1994,
          1995,
          2000
         ],
         "xaxis": "x",
         "y": [
          269,
          288,
          292
         ],
         "yaxis": "y"
        },
        {
         "alignmentgroup": "True",
         "hovertemplate": "Edad=De 25 a 29 años<br>Year=%{x}<br>Total=%{y}<extra></extra>",
         "legendgroup": "De 25 a 29 años",
         "marker": {
          "color": "#19d3f3",
          "pattern": {
           "shape": ""
          }
         },
         "name": "De 25 a 29 años",
         "offsetgroup": "De 25 a 29 años",
         "orientation": "v",
         "showlegend": true,
         "textposition": "auto",
         "type": "bar",
         "x": [
          1997,
          1998
         ],
         "xaxis": "x",
         "y": [
          274,
          295
         ],
         "yaxis": "y"
        },
        {
         "alignmentgroup": "True",
         "hovertemplate": "Edad=De 30 a 34 años<br>Year=%{x}<br>Total=%{y}<extra></extra>",
         "legendgroup": "De 30 a 34 años",
         "marker": {
          "color": "#FF6692",
          "pattern": {
           "shape": ""
          }
         },
         "name": "De 30 a 34 años",
         "offsetgroup": "De 30 a 34 años",
         "orientation": "v",
         "showlegend": true,
         "textposition": "auto",
         "type": "bar",
         "x": [
          2001,
          2002,
          2003
         ],
         "xaxis": "x",
         "y": [
          279,
          277,
          334
         ],
         "yaxis": "y"
        },
        {
         "alignmentgroup": "True",
         "hovertemplate": "Edad=De 35 a 39 años<br>Year=%{x}<br>Total=%{y}<extra></extra>",
         "legendgroup": "De 35 a 39 años",
         "marker": {
          "color": "#B6E880",
          "pattern": {
           "shape": ""
          }
         },
         "name": "De 35 a 39 años",
         "offsetgroup": "De 35 a 39 años",
         "orientation": "v",
         "showlegend": true,
         "textposition": "auto",
         "type": "bar",
         "x": [
          2004,
          2006
         ],
         "xaxis": "x",
         "y": [
          307,
          286
         ],
         "yaxis": "y"
        },
        {
         "alignmentgroup": "True",
         "hovertemplate": "Edad=De 40 a 44 años<br>Year=%{x}<br>Total=%{y}<extra></extra>",
         "legendgroup": "De 40 a 44 años",
         "marker": {
          "color": "#FF97FF",
          "pattern": {
           "shape": ""
          }
         },
         "name": "De 40 a 44 años",
         "offsetgroup": "De 40 a 44 años",
         "orientation": "v",
         "showlegend": true,
         "textposition": "auto",
         "type": "bar",
         "x": [
          2005,
          2007,
          2008,
          2010,
          2011,
          2012
         ],
         "xaxis": "x",
         "y": [
          298,
          309,
          341,
          345,
          343,
          364
         ],
         "yaxis": "y"
        },
        {
         "alignmentgroup": "True",
         "hovertemplate": "Edad=De 45 a 49 años<br>Year=%{x}<br>Total=%{y}<extra></extra>",
         "legendgroup": "De 45 a 49 años",
         "marker": {
          "color": "#FECB52",
          "pattern": {
           "shape": ""
          }
         },
         "name": "De 45 a 49 años",
         "offsetgroup": "De 45 a 49 años",
         "orientation": "v",
         "showlegend": true,
         "textposition": "auto",
         "type": "bar",
         "x": [
          2009,
          2014,
          2015,
          2018
         ],
         "xaxis": "x",
         "y": [
          340,
          457,
          387,
          393
         ],
         "yaxis": "y"
        }
       ],
       "layout": {
        "barmode": "relative",
        "legend": {
         "title": {
          "text": "Edad"
         },
         "tracegroupgap": 0
        },
        "template": {
         "data": {
          "bar": [
           {
            "error_x": {
             "color": "#2a3f5f"
            },
            "error_y": {
             "color": "#2a3f5f"
            },
            "marker": {
             "line": {
              "color": "#E5ECF6",
              "width": 0.5
             },
             "pattern": {
              "fillmode": "overlay",
              "size": 10,
              "solidity": 0.2
             }
            },
            "type": "bar"
           }
          ],
          "barpolar": [
           {
            "marker": {
             "line": {
              "color": "#E5ECF6",
              "width": 0.5
             },
             "pattern": {
              "fillmode": "overlay",
              "size": 10,
              "solidity": 0.2
             }
            },
            "type": "barpolar"
           }
          ],
          "carpet": [
           {
            "aaxis": {
             "endlinecolor": "#2a3f5f",
             "gridcolor": "white",
             "linecolor": "white",
             "minorgridcolor": "white",
             "startlinecolor": "#2a3f5f"
            },
            "baxis": {
             "endlinecolor": "#2a3f5f",
             "gridcolor": "white",
             "linecolor": "white",
             "minorgridcolor": "white",
             "startlinecolor": "#2a3f5f"
            },
            "type": "carpet"
           }
          ],
          "choropleth": [
           {
            "colorbar": {
             "outlinewidth": 0,
             "ticks": ""
            },
            "type": "choropleth"
           }
          ],
          "contour": [
           {
            "colorbar": {
             "outlinewidth": 0,
             "ticks": ""
            },
            "colorscale": [
             [
              0,
              "#0d0887"
             ],
             [
              0.1111111111111111,
              "#46039f"
             ],
             [
              0.2222222222222222,
              "#7201a8"
             ],
             [
              0.3333333333333333,
              "#9c179e"
             ],
             [
              0.4444444444444444,
              "#bd3786"
             ],
             [
              0.5555555555555556,
              "#d8576b"
             ],
             [
              0.6666666666666666,
              "#ed7953"
             ],
             [
              0.7777777777777778,
              "#fb9f3a"
             ],
             [
              0.8888888888888888,
              "#fdca26"
             ],
             [
              1,
              "#f0f921"
             ]
            ],
            "type": "contour"
           }
          ],
          "contourcarpet": [
           {
            "colorbar": {
             "outlinewidth": 0,
             "ticks": ""
            },
            "type": "contourcarpet"
           }
          ],
          "heatmap": [
           {
            "colorbar": {
             "outlinewidth": 0,
             "ticks": ""
            },
            "colorscale": [
             [
              0,
              "#0d0887"
             ],
             [
              0.1111111111111111,
              "#46039f"
             ],
             [
              0.2222222222222222,
              "#7201a8"
             ],
             [
              0.3333333333333333,
              "#9c179e"
             ],
             [
              0.4444444444444444,
              "#bd3786"
             ],
             [
              0.5555555555555556,
              "#d8576b"
             ],
             [
              0.6666666666666666,
              "#ed7953"
             ],
             [
              0.7777777777777778,
              "#fb9f3a"
             ],
             [
              0.8888888888888888,
              "#fdca26"
             ],
             [
              1,
              "#f0f921"
             ]
            ],
            "type": "heatmap"
           }
          ],
          "heatmapgl": [
           {
            "colorbar": {
             "outlinewidth": 0,
             "ticks": ""
            },
            "colorscale": [
             [
              0,
              "#0d0887"
             ],
             [
              0.1111111111111111,
              "#46039f"
             ],
             [
              0.2222222222222222,
              "#7201a8"
             ],
             [
              0.3333333333333333,
              "#9c179e"
             ],
             [
              0.4444444444444444,
              "#bd3786"
             ],
             [
              0.5555555555555556,
              "#d8576b"
             ],
             [
              0.6666666666666666,
              "#ed7953"
             ],
             [
              0.7777777777777778,
              "#fb9f3a"
             ],
             [
              0.8888888888888888,
              "#fdca26"
             ],
             [
              1,
              "#f0f921"
             ]
            ],
            "type": "heatmapgl"
           }
          ],
          "histogram": [
           {
            "marker": {
             "pattern": {
              "fillmode": "overlay",
              "size": 10,
              "solidity": 0.2
             }
            },
            "type": "histogram"
           }
          ],
          "histogram2d": [
           {
            "colorbar": {
             "outlinewidth": 0,
             "ticks": ""
            },
            "colorscale": [
             [
              0,
              "#0d0887"
             ],
             [
              0.1111111111111111,
              "#46039f"
             ],
             [
              0.2222222222222222,
              "#7201a8"
             ],
             [
              0.3333333333333333,
              "#9c179e"
             ],
             [
              0.4444444444444444,
              "#bd3786"
             ],
             [
              0.5555555555555556,
              "#d8576b"
             ],
             [
              0.6666666666666666,
              "#ed7953"
             ],
             [
              0.7777777777777778,
              "#fb9f3a"
             ],
             [
              0.8888888888888888,
              "#fdca26"
             ],
             [
              1,
              "#f0f921"
             ]
            ],
            "type": "histogram2d"
           }
          ],
          "histogram2dcontour": [
           {
            "colorbar": {
             "outlinewidth": 0,
             "ticks": ""
            },
            "colorscale": [
             [
              0,
              "#0d0887"
             ],
             [
              0.1111111111111111,
              "#46039f"
             ],
             [
              0.2222222222222222,
              "#7201a8"
             ],
             [
              0.3333333333333333,
              "#9c179e"
             ],
             [
              0.4444444444444444,
              "#bd3786"
             ],
             [
              0.5555555555555556,
              "#d8576b"
             ],
             [
              0.6666666666666666,
              "#ed7953"
             ],
             [
              0.7777777777777778,
              "#fb9f3a"
             ],
             [
              0.8888888888888888,
              "#fdca26"
             ],
             [
              1,
              "#f0f921"
             ]
            ],
            "type": "histogram2dcontour"
           }
          ],
          "mesh3d": [
           {
            "colorbar": {
             "outlinewidth": 0,
             "ticks": ""
            },
            "type": "mesh3d"
           }
          ],
          "parcoords": [
           {
            "line": {
             "colorbar": {
              "outlinewidth": 0,
              "ticks": ""
             }
            },
            "type": "parcoords"
           }
          ],
          "pie": [
           {
            "automargin": true,
            "type": "pie"
           }
          ],
          "scatter": [
           {
            "fillpattern": {
             "fillmode": "overlay",
             "size": 10,
             "solidity": 0.2
            },
            "type": "scatter"
           }
          ],
          "scatter3d": [
           {
            "line": {
             "colorbar": {
              "outlinewidth": 0,
              "ticks": ""
             }
            },
            "marker": {
             "colorbar": {
              "outlinewidth": 0,
              "ticks": ""
             }
            },
            "type": "scatter3d"
           }
          ],
          "scattercarpet": [
           {
            "marker": {
             "colorbar": {
              "outlinewidth": 0,
              "ticks": ""
             }
            },
            "type": "scattercarpet"
           }
          ],
          "scattergeo": [
           {
            "marker": {
             "colorbar": {
              "outlinewidth": 0,
              "ticks": ""
             }
            },
            "type": "scattergeo"
           }
          ],
          "scattergl": [
           {
            "marker": {
             "colorbar": {
              "outlinewidth": 0,
              "ticks": ""
             }
            },
            "type": "scattergl"
           }
          ],
          "scattermapbox": [
           {
            "marker": {
             "colorbar": {
              "outlinewidth": 0,
              "ticks": ""
             }
            },
            "type": "scattermapbox"
           }
          ],
          "scatterpolar": [
           {
            "marker": {
             "colorbar": {
              "outlinewidth": 0,
              "ticks": ""
             }
            },
            "type": "scatterpolar"
           }
          ],
          "scatterpolargl": [
           {
            "marker": {
             "colorbar": {
              "outlinewidth": 0,
              "ticks": ""
             }
            },
            "type": "scatterpolargl"
           }
          ],
          "scatterternary": [
           {
            "marker": {
             "colorbar": {
              "outlinewidth": 0,
              "ticks": ""
             }
            },
            "type": "scatterternary"
           }
          ],
          "surface": [
           {
            "colorbar": {
             "outlinewidth": 0,
             "ticks": ""
            },
            "colorscale": [
             [
              0,
              "#0d0887"
             ],
             [
              0.1111111111111111,
              "#46039f"
             ],
             [
              0.2222222222222222,
              "#7201a8"
             ],
             [
              0.3333333333333333,
              "#9c179e"
             ],
             [
              0.4444444444444444,
              "#bd3786"
             ],
             [
              0.5555555555555556,
              "#d8576b"
             ],
             [
              0.6666666666666666,
              "#ed7953"
             ],
             [
              0.7777777777777778,
              "#fb9f3a"
             ],
             [
              0.8888888888888888,
              "#fdca26"
             ],
             [
              1,
              "#f0f921"
             ]
            ],
            "type": "surface"
           }
          ],
          "table": [
           {
            "cells": {
             "fill": {
              "color": "#EBF0F8"
             },
             "line": {
              "color": "white"
             }
            },
            "header": {
             "fill": {
              "color": "#C8D4E3"
             },
             "line": {
              "color": "white"
             }
            },
            "type": "table"
           }
          ]
         },
         "layout": {
          "annotationdefaults": {
           "arrowcolor": "#2a3f5f",
           "arrowhead": 0,
           "arrowwidth": 1
          },
          "autotypenumbers": "strict",
          "coloraxis": {
           "colorbar": {
            "outlinewidth": 0,
            "ticks": ""
           }
          },
          "colorscale": {
           "diverging": [
            [
             0,
             "#8e0152"
            ],
            [
             0.1,
             "#c51b7d"
            ],
            [
             0.2,
             "#de77ae"
            ],
            [
             0.3,
             "#f1b6da"
            ],
            [
             0.4,
             "#fde0ef"
            ],
            [
             0.5,
             "#f7f7f7"
            ],
            [
             0.6,
             "#e6f5d0"
            ],
            [
             0.7,
             "#b8e186"
            ],
            [
             0.8,
             "#7fbc41"
            ],
            [
             0.9,
             "#4d9221"
            ],
            [
             1,
             "#276419"
            ]
           ],
           "sequential": [
            [
             0,
             "#0d0887"
            ],
            [
             0.1111111111111111,
             "#46039f"
            ],
            [
             0.2222222222222222,
             "#7201a8"
            ],
            [
             0.3333333333333333,
             "#9c179e"
            ],
            [
             0.4444444444444444,
             "#bd3786"
            ],
            [
             0.5555555555555556,
             "#d8576b"
            ],
            [
             0.6666666666666666,
             "#ed7953"
            ],
            [
             0.7777777777777778,
             "#fb9f3a"
            ],
            [
             0.8888888888888888,
             "#fdca26"
            ],
            [
             1,
             "#f0f921"
            ]
           ],
           "sequentialminus": [
            [
             0,
             "#0d0887"
            ],
            [
             0.1111111111111111,
             "#46039f"
            ],
            [
             0.2222222222222222,
             "#7201a8"
            ],
            [
             0.3333333333333333,
             "#9c179e"
            ],
            [
             0.4444444444444444,
             "#bd3786"
            ],
            [
             0.5555555555555556,
             "#d8576b"
            ],
            [
             0.6666666666666666,
             "#ed7953"
            ],
            [
             0.7777777777777778,
             "#fb9f3a"
            ],
            [
             0.8888888888888888,
             "#fdca26"
            ],
            [
             1,
             "#f0f921"
            ]
           ]
          },
          "colorway": [
           "#636efa",
           "#EF553B",
           "#00cc96",
           "#ab63fa",
           "#FFA15A",
           "#19d3f3",
           "#FF6692",
           "#B6E880",
           "#FF97FF",
           "#FECB52"
          ],
          "font": {
           "color": "#2a3f5f"
          },
          "geo": {
           "bgcolor": "white",
           "lakecolor": "white",
           "landcolor": "#E5ECF6",
           "showlakes": true,
           "showland": true,
           "subunitcolor": "white"
          },
          "hoverlabel": {
           "align": "left"
          },
          "hovermode": "closest",
          "mapbox": {
           "style": "light"
          },
          "paper_bgcolor": "white",
          "plot_bgcolor": "#E5ECF6",
          "polar": {
           "angularaxis": {
            "gridcolor": "white",
            "linecolor": "white",
            "ticks": ""
           },
           "bgcolor": "#E5ECF6",
           "radialaxis": {
            "gridcolor": "white",
            "linecolor": "white",
            "ticks": ""
           }
          },
          "scene": {
           "xaxis": {
            "backgroundcolor": "#E5ECF6",
            "gridcolor": "white",
            "gridwidth": 2,
            "linecolor": "white",
            "showbackground": true,
            "ticks": "",
            "zerolinecolor": "white"
           },
           "yaxis": {
            "backgroundcolor": "#E5ECF6",
            "gridcolor": "white",
            "gridwidth": 2,
            "linecolor": "white",
            "showbackground": true,
            "ticks": "",
            "zerolinecolor": "white"
           },
           "zaxis": {
            "backgroundcolor": "#E5ECF6",
            "gridcolor": "white",
            "gridwidth": 2,
            "linecolor": "white",
            "showbackground": true,
            "ticks": "",
            "zerolinecolor": "white"
           }
          },
          "shapedefaults": {
           "line": {
            "color": "#2a3f5f"
           }
          },
          "ternary": {
           "aaxis": {
            "gridcolor": "white",
            "linecolor": "white",
            "ticks": ""
           },
           "baxis": {
            "gridcolor": "white",
            "linecolor": "white",
            "ticks": ""
           },
           "bgcolor": "#E5ECF6",
           "caxis": {
            "gridcolor": "white",
            "linecolor": "white",
            "ticks": ""
           }
          },
          "title": {
           "x": 0.05
          },
          "xaxis": {
           "automargin": true,
           "gridcolor": "white",
           "linecolor": "white",
           "ticks": "",
           "title": {
            "standoff": 15
           },
           "zerolinecolor": "white",
           "zerolinewidth": 2
          },
          "yaxis": {
           "automargin": true,
           "gridcolor": "white",
           "linecolor": "white",
           "ticks": "",
           "title": {
            "standoff": 15
           },
           "zerolinecolor": "white",
           "zerolinewidth": 2
          }
         }
        },
        "title": {
         "text": "Age suicide"
        },
        "xaxis": {
         "anchor": "y",
         "domain": [
          0,
          1
         ],
         "title": {
          "text": "Year"
         }
        },
        "yaxis": {
         "anchor": "x",
         "domain": [
          0,
          1
         ],
         "title": {
          "text": "Total"
         }
        }
       }
      },
      "text/html": [
       "<div>                            <div id=\"f5780d10-7aa7-44ef-bb5e-ad2b2fde114f\" class=\"plotly-graph-div\" style=\"height:525px; width:100%;\"></div>            <script type=\"text/javascript\">                require([\"plotly\"], function(Plotly) {                    window.PLOTLYENV=window.PLOTLYENV || {};                                    if (document.getElementById(\"f5780d10-7aa7-44ef-bb5e-ad2b2fde114f\")) {                    Plotly.newPlot(                        \"f5780d10-7aa7-44ef-bb5e-ad2b2fde114f\",                        [{\"alignmentgroup\":\"True\",\"hovertemplate\":\"Edad=De 50 a 54 a\\u00f1os<br>Year=%{x}<br>Total=%{y}<extra></extra>\",\"legendgroup\":\"De 50 a 54 a\\u00f1os\",\"marker\":{\"color\":\"#636efa\",\"pattern\":{\"shape\":\"\"}},\"name\":\"De 50 a 54 a\\u00f1os\",\"offsetgroup\":\"De 50 a 54 a\\u00f1os\",\"orientation\":\"v\",\"showlegend\":true,\"textposition\":\"auto\",\"x\":[1980,1984,2013,2016,2017],\"xaxis\":\"x\",\"y\":[171,272,450,377,421],\"yaxis\":\"y\",\"type\":\"bar\"},{\"alignmentgroup\":\"True\",\"hovertemplate\":\"Edad=De 55 a 59 a\\u00f1os<br>Year=%{x}<br>Total=%{y}<extra></extra>\",\"legendgroup\":\"De 55 a 59 a\\u00f1os\",\"marker\":{\"color\":\"#EF553B\",\"pattern\":{\"shape\":\"\"}},\"name\":\"De 55 a 59 a\\u00f1os\",\"offsetgroup\":\"De 55 a 59 a\\u00f1os\",\"orientation\":\"v\",\"showlegend\":true,\"textposition\":\"auto\",\"x\":[1981,1983,1985,1986,1990],\"xaxis\":\"x\",\"y\":[188,217,261,287,266],\"yaxis\":\"y\",\"type\":\"bar\"},{\"alignmentgroup\":\"True\",\"hovertemplate\":\"Edad=De 60 a 64 a\\u00f1os<br>Year=%{x}<br>Total=%{y}<extra></extra>\",\"legendgroup\":\"De 60 a 64 a\\u00f1os\",\"marker\":{\"color\":\"#00cc96\",\"pattern\":{\"shape\":\"\"}},\"name\":\"De 60 a 64 a\\u00f1os\",\"offsetgroup\":\"De 60 a 64 a\\u00f1os\",\"orientation\":\"v\",\"showlegend\":true,\"textposition\":\"auto\",\"x\":[1982,1987,1988,1992],\"xaxis\":\"x\",\"y\":[199,275,258,247],\"yaxis\":\"y\",\"type\":\"bar\"},{\"alignmentgroup\":\"True\",\"hovertemplate\":\"Edad=De 65 a 69 a\\u00f1os<br>Year=%{x}<br>Total=%{y}<extra></extra>\",\"legendgroup\":\"De 65 a 69 a\\u00f1os\",\"marker\":{\"color\":\"#ab63fa\",\"pattern\":{\"shape\":\"\"}},\"name\":\"De 65 a 69 a\\u00f1os\",\"offsetgroup\":\"De 65 a 69 a\\u00f1os\",\"orientation\":\"v\",\"showlegend\":true,\"textposition\":\"auto\",\"x\":[1989,1991,1993,1996,1999],\"xaxis\":\"x\",\"y\":[262,273,253,294,299],\"yaxis\":\"y\",\"type\":\"bar\"},{\"alignmentgroup\":\"True\",\"hovertemplate\":\"Edad=De 70 a 74 a\\u00f1os  <br>Year=%{x}<br>Total=%{y}<extra></extra>\",\"legendgroup\":\"De 70 a 74 a\\u00f1os  \",\"marker\":{\"color\":\"#FFA15A\",\"pattern\":{\"shape\":\"\"}},\"name\":\"De 70 a 74 a\\u00f1os  \",\"offsetgroup\":\"De 70 a 74 a\\u00f1os  \",\"orientation\":\"v\",\"showlegend\":true,\"textposition\":\"auto\",\"x\":[1994,1995,2000],\"xaxis\":\"x\",\"y\":[269,288,292],\"yaxis\":\"y\",\"type\":\"bar\"},{\"alignmentgroup\":\"True\",\"hovertemplate\":\"Edad=De 25 a 29 a\\u00f1os<br>Year=%{x}<br>Total=%{y}<extra></extra>\",\"legendgroup\":\"De 25 a 29 a\\u00f1os\",\"marker\":{\"color\":\"#19d3f3\",\"pattern\":{\"shape\":\"\"}},\"name\":\"De 25 a 29 a\\u00f1os\",\"offsetgroup\":\"De 25 a 29 a\\u00f1os\",\"orientation\":\"v\",\"showlegend\":true,\"textposition\":\"auto\",\"x\":[1997,1998],\"xaxis\":\"x\",\"y\":[274,295],\"yaxis\":\"y\",\"type\":\"bar\"},{\"alignmentgroup\":\"True\",\"hovertemplate\":\"Edad=De 30 a 34 a\\u00f1os<br>Year=%{x}<br>Total=%{y}<extra></extra>\",\"legendgroup\":\"De 30 a 34 a\\u00f1os\",\"marker\":{\"color\":\"#FF6692\",\"pattern\":{\"shape\":\"\"}},\"name\":\"De 30 a 34 a\\u00f1os\",\"offsetgroup\":\"De 30 a 34 a\\u00f1os\",\"orientation\":\"v\",\"showlegend\":true,\"textposition\":\"auto\",\"x\":[2001,2002,2003],\"xaxis\":\"x\",\"y\":[279,277,334],\"yaxis\":\"y\",\"type\":\"bar\"},{\"alignmentgroup\":\"True\",\"hovertemplate\":\"Edad=De 35 a 39 a\\u00f1os<br>Year=%{x}<br>Total=%{y}<extra></extra>\",\"legendgroup\":\"De 35 a 39 a\\u00f1os\",\"marker\":{\"color\":\"#B6E880\",\"pattern\":{\"shape\":\"\"}},\"name\":\"De 35 a 39 a\\u00f1os\",\"offsetgroup\":\"De 35 a 39 a\\u00f1os\",\"orientation\":\"v\",\"showlegend\":true,\"textposition\":\"auto\",\"x\":[2004,2006],\"xaxis\":\"x\",\"y\":[307,286],\"yaxis\":\"y\",\"type\":\"bar\"},{\"alignmentgroup\":\"True\",\"hovertemplate\":\"Edad=De 40 a 44 a\\u00f1os<br>Year=%{x}<br>Total=%{y}<extra></extra>\",\"legendgroup\":\"De 40 a 44 a\\u00f1os\",\"marker\":{\"color\":\"#FF97FF\",\"pattern\":{\"shape\":\"\"}},\"name\":\"De 40 a 44 a\\u00f1os\",\"offsetgroup\":\"De 40 a 44 a\\u00f1os\",\"orientation\":\"v\",\"showlegend\":true,\"textposition\":\"auto\",\"x\":[2005,2007,2008,2010,2011,2012],\"xaxis\":\"x\",\"y\":[298,309,341,345,343,364],\"yaxis\":\"y\",\"type\":\"bar\"},{\"alignmentgroup\":\"True\",\"hovertemplate\":\"Edad=De 45 a 49 a\\u00f1os<br>Year=%{x}<br>Total=%{y}<extra></extra>\",\"legendgroup\":\"De 45 a 49 a\\u00f1os\",\"marker\":{\"color\":\"#FECB52\",\"pattern\":{\"shape\":\"\"}},\"name\":\"De 45 a 49 a\\u00f1os\",\"offsetgroup\":\"De 45 a 49 a\\u00f1os\",\"orientation\":\"v\",\"showlegend\":true,\"textposition\":\"auto\",\"x\":[2009,2014,2015,2018],\"xaxis\":\"x\",\"y\":[340,457,387,393],\"yaxis\":\"y\",\"type\":\"bar\"}],                        {\"template\":{\"data\":{\"histogram2dcontour\":[{\"type\":\"histogram2dcontour\",\"colorbar\":{\"outlinewidth\":0,\"ticks\":\"\"},\"colorscale\":[[0.0,\"#0d0887\"],[0.1111111111111111,\"#46039f\"],[0.2222222222222222,\"#7201a8\"],[0.3333333333333333,\"#9c179e\"],[0.4444444444444444,\"#bd3786\"],[0.5555555555555556,\"#d8576b\"],[0.6666666666666666,\"#ed7953\"],[0.7777777777777778,\"#fb9f3a\"],[0.8888888888888888,\"#fdca26\"],[1.0,\"#f0f921\"]]}],\"choropleth\":[{\"type\":\"choropleth\",\"colorbar\":{\"outlinewidth\":0,\"ticks\":\"\"}}],\"histogram2d\":[{\"type\":\"histogram2d\",\"colorbar\":{\"outlinewidth\":0,\"ticks\":\"\"},\"colorscale\":[[0.0,\"#0d0887\"],[0.1111111111111111,\"#46039f\"],[0.2222222222222222,\"#7201a8\"],[0.3333333333333333,\"#9c179e\"],[0.4444444444444444,\"#bd3786\"],[0.5555555555555556,\"#d8576b\"],[0.6666666666666666,\"#ed7953\"],[0.7777777777777778,\"#fb9f3a\"],[0.8888888888888888,\"#fdca26\"],[1.0,\"#f0f921\"]]}],\"heatmap\":[{\"type\":\"heatmap\",\"colorbar\":{\"outlinewidth\":0,\"ticks\":\"\"},\"colorscale\":[[0.0,\"#0d0887\"],[0.1111111111111111,\"#46039f\"],[0.2222222222222222,\"#7201a8\"],[0.3333333333333333,\"#9c179e\"],[0.4444444444444444,\"#bd3786\"],[0.5555555555555556,\"#d8576b\"],[0.6666666666666666,\"#ed7953\"],[0.7777777777777778,\"#fb9f3a\"],[0.8888888888888888,\"#fdca26\"],[1.0,\"#f0f921\"]]}],\"heatmapgl\":[{\"type\":\"heatmapgl\",\"colorbar\":{\"outlinewidth\":0,\"ticks\":\"\"},\"colorscale\":[[0.0,\"#0d0887\"],[0.1111111111111111,\"#46039f\"],[0.2222222222222222,\"#7201a8\"],[0.3333333333333333,\"#9c179e\"],[0.4444444444444444,\"#bd3786\"],[0.5555555555555556,\"#d8576b\"],[0.6666666666666666,\"#ed7953\"],[0.7777777777777778,\"#fb9f3a\"],[0.8888888888888888,\"#fdca26\"],[1.0,\"#f0f921\"]]}],\"contourcarpet\":[{\"type\":\"contourcarpet\",\"colorbar\":{\"outlinewidth\":0,\"ticks\":\"\"}}],\"contour\":[{\"type\":\"contour\",\"colorbar\":{\"outlinewidth\":0,\"ticks\":\"\"},\"colorscale\":[[0.0,\"#0d0887\"],[0.1111111111111111,\"#46039f\"],[0.2222222222222222,\"#7201a8\"],[0.3333333333333333,\"#9c179e\"],[0.4444444444444444,\"#bd3786\"],[0.5555555555555556,\"#d8576b\"],[0.6666666666666666,\"#ed7953\"],[0.7777777777777778,\"#fb9f3a\"],[0.8888888888888888,\"#fdca26\"],[1.0,\"#f0f921\"]]}],\"surface\":[{\"type\":\"surface\",\"colorbar\":{\"outlinewidth\":0,\"ticks\":\"\"},\"colorscale\":[[0.0,\"#0d0887\"],[0.1111111111111111,\"#46039f\"],[0.2222222222222222,\"#7201a8\"],[0.3333333333333333,\"#9c179e\"],[0.4444444444444444,\"#bd3786\"],[0.5555555555555556,\"#d8576b\"],[0.6666666666666666,\"#ed7953\"],[0.7777777777777778,\"#fb9f3a\"],[0.8888888888888888,\"#fdca26\"],[1.0,\"#f0f921\"]]}],\"mesh3d\":[{\"type\":\"mesh3d\",\"colorbar\":{\"outlinewidth\":0,\"ticks\":\"\"}}],\"scatter\":[{\"fillpattern\":{\"fillmode\":\"overlay\",\"size\":10,\"solidity\":0.2},\"type\":\"scatter\"}],\"parcoords\":[{\"type\":\"parcoords\",\"line\":{\"colorbar\":{\"outlinewidth\":0,\"ticks\":\"\"}}}],\"scatterpolargl\":[{\"type\":\"scatterpolargl\",\"marker\":{\"colorbar\":{\"outlinewidth\":0,\"ticks\":\"\"}}}],\"bar\":[{\"error_x\":{\"color\":\"#2a3f5f\"},\"error_y\":{\"color\":\"#2a3f5f\"},\"marker\":{\"line\":{\"color\":\"#E5ECF6\",\"width\":0.5},\"pattern\":{\"fillmode\":\"overlay\",\"size\":10,\"solidity\":0.2}},\"type\":\"bar\"}],\"scattergeo\":[{\"type\":\"scattergeo\",\"marker\":{\"colorbar\":{\"outlinewidth\":0,\"ticks\":\"\"}}}],\"scatterpolar\":[{\"type\":\"scatterpolar\",\"marker\":{\"colorbar\":{\"outlinewidth\":0,\"ticks\":\"\"}}}],\"histogram\":[{\"marker\":{\"pattern\":{\"fillmode\":\"overlay\",\"size\":10,\"solidity\":0.2}},\"type\":\"histogram\"}],\"scattergl\":[{\"type\":\"scattergl\",\"marker\":{\"colorbar\":{\"outlinewidth\":0,\"ticks\":\"\"}}}],\"scatter3d\":[{\"type\":\"scatter3d\",\"line\":{\"colorbar\":{\"outlinewidth\":0,\"ticks\":\"\"}},\"marker\":{\"colorbar\":{\"outlinewidth\":0,\"ticks\":\"\"}}}],\"scattermapbox\":[{\"type\":\"scattermapbox\",\"marker\":{\"colorbar\":{\"outlinewidth\":0,\"ticks\":\"\"}}}],\"scatterternary\":[{\"type\":\"scatterternary\",\"marker\":{\"colorbar\":{\"outlinewidth\":0,\"ticks\":\"\"}}}],\"scattercarpet\":[{\"type\":\"scattercarpet\",\"marker\":{\"colorbar\":{\"outlinewidth\":0,\"ticks\":\"\"}}}],\"carpet\":[{\"aaxis\":{\"endlinecolor\":\"#2a3f5f\",\"gridcolor\":\"white\",\"linecolor\":\"white\",\"minorgridcolor\":\"white\",\"startlinecolor\":\"#2a3f5f\"},\"baxis\":{\"endlinecolor\":\"#2a3f5f\",\"gridcolor\":\"white\",\"linecolor\":\"white\",\"minorgridcolor\":\"white\",\"startlinecolor\":\"#2a3f5f\"},\"type\":\"carpet\"}],\"table\":[{\"cells\":{\"fill\":{\"color\":\"#EBF0F8\"},\"line\":{\"color\":\"white\"}},\"header\":{\"fill\":{\"color\":\"#C8D4E3\"},\"line\":{\"color\":\"white\"}},\"type\":\"table\"}],\"barpolar\":[{\"marker\":{\"line\":{\"color\":\"#E5ECF6\",\"width\":0.5},\"pattern\":{\"fillmode\":\"overlay\",\"size\":10,\"solidity\":0.2}},\"type\":\"barpolar\"}],\"pie\":[{\"automargin\":true,\"type\":\"pie\"}]},\"layout\":{\"autotypenumbers\":\"strict\",\"colorway\":[\"#636efa\",\"#EF553B\",\"#00cc96\",\"#ab63fa\",\"#FFA15A\",\"#19d3f3\",\"#FF6692\",\"#B6E880\",\"#FF97FF\",\"#FECB52\"],\"font\":{\"color\":\"#2a3f5f\"},\"hovermode\":\"closest\",\"hoverlabel\":{\"align\":\"left\"},\"paper_bgcolor\":\"white\",\"plot_bgcolor\":\"#E5ECF6\",\"polar\":{\"bgcolor\":\"#E5ECF6\",\"angularaxis\":{\"gridcolor\":\"white\",\"linecolor\":\"white\",\"ticks\":\"\"},\"radialaxis\":{\"gridcolor\":\"white\",\"linecolor\":\"white\",\"ticks\":\"\"}},\"ternary\":{\"bgcolor\":\"#E5ECF6\",\"aaxis\":{\"gridcolor\":\"white\",\"linecolor\":\"white\",\"ticks\":\"\"},\"baxis\":{\"gridcolor\":\"white\",\"linecolor\":\"white\",\"ticks\":\"\"},\"caxis\":{\"gridcolor\":\"white\",\"linecolor\":\"white\",\"ticks\":\"\"}},\"coloraxis\":{\"colorbar\":{\"outlinewidth\":0,\"ticks\":\"\"}},\"colorscale\":{\"sequential\":[[0.0,\"#0d0887\"],[0.1111111111111111,\"#46039f\"],[0.2222222222222222,\"#7201a8\"],[0.3333333333333333,\"#9c179e\"],[0.4444444444444444,\"#bd3786\"],[0.5555555555555556,\"#d8576b\"],[0.6666666666666666,\"#ed7953\"],[0.7777777777777778,\"#fb9f3a\"],[0.8888888888888888,\"#fdca26\"],[1.0,\"#f0f921\"]],\"sequentialminus\":[[0.0,\"#0d0887\"],[0.1111111111111111,\"#46039f\"],[0.2222222222222222,\"#7201a8\"],[0.3333333333333333,\"#9c179e\"],[0.4444444444444444,\"#bd3786\"],[0.5555555555555556,\"#d8576b\"],[0.6666666666666666,\"#ed7953\"],[0.7777777777777778,\"#fb9f3a\"],[0.8888888888888888,\"#fdca26\"],[1.0,\"#f0f921\"]],\"diverging\":[[0,\"#8e0152\"],[0.1,\"#c51b7d\"],[0.2,\"#de77ae\"],[0.3,\"#f1b6da\"],[0.4,\"#fde0ef\"],[0.5,\"#f7f7f7\"],[0.6,\"#e6f5d0\"],[0.7,\"#b8e186\"],[0.8,\"#7fbc41\"],[0.9,\"#4d9221\"],[1,\"#276419\"]]},\"xaxis\":{\"gridcolor\":\"white\",\"linecolor\":\"white\",\"ticks\":\"\",\"title\":{\"standoff\":15},\"zerolinecolor\":\"white\",\"automargin\":true,\"zerolinewidth\":2},\"yaxis\":{\"gridcolor\":\"white\",\"linecolor\":\"white\",\"ticks\":\"\",\"title\":{\"standoff\":15},\"zerolinecolor\":\"white\",\"automargin\":true,\"zerolinewidth\":2},\"scene\":{\"xaxis\":{\"backgroundcolor\":\"#E5ECF6\",\"gridcolor\":\"white\",\"linecolor\":\"white\",\"showbackground\":true,\"ticks\":\"\",\"zerolinecolor\":\"white\",\"gridwidth\":2},\"yaxis\":{\"backgroundcolor\":\"#E5ECF6\",\"gridcolor\":\"white\",\"linecolor\":\"white\",\"showbackground\":true,\"ticks\":\"\",\"zerolinecolor\":\"white\",\"gridwidth\":2},\"zaxis\":{\"backgroundcolor\":\"#E5ECF6\",\"gridcolor\":\"white\",\"linecolor\":\"white\",\"showbackground\":true,\"ticks\":\"\",\"zerolinecolor\":\"white\",\"gridwidth\":2}},\"shapedefaults\":{\"line\":{\"color\":\"#2a3f5f\"}},\"annotationdefaults\":{\"arrowcolor\":\"#2a3f5f\",\"arrowhead\":0,\"arrowwidth\":1},\"geo\":{\"bgcolor\":\"white\",\"landcolor\":\"#E5ECF6\",\"subunitcolor\":\"white\",\"showland\":true,\"showlakes\":true,\"lakecolor\":\"white\"},\"title\":{\"x\":0.05},\"mapbox\":{\"style\":\"light\"}}},\"xaxis\":{\"anchor\":\"y\",\"domain\":[0.0,1.0],\"title\":{\"text\":\"Year\"}},\"yaxis\":{\"anchor\":\"x\",\"domain\":[0.0,1.0],\"title\":{\"text\":\"Total\"}},\"legend\":{\"title\":{\"text\":\"Edad\"},\"tracegroupgap\":0},\"title\":{\"text\":\"Age suicide\"},\"barmode\":\"relative\"},                        {\"responsive\": true}                    ).then(function(){\n",
       "                            \n",
       "var gd = document.getElementById('f5780d10-7aa7-44ef-bb5e-ad2b2fde114f');\n",
       "var x = new MutationObserver(function (mutations, observer) {{\n",
       "        var display = window.getComputedStyle(gd).display;\n",
       "        if (!display || display === 'none') {{\n",
       "            console.log([gd, 'removed!']);\n",
       "            Plotly.purge(gd);\n",
       "            observer.disconnect();\n",
       "        }}\n",
       "}});\n",
       "\n",
       "// Listen for the removal of the full notebook cells\n",
       "var notebookContainer = gd.closest('#notebook-container');\n",
       "if (notebookContainer) {{\n",
       "    x.observe(notebookContainer, {childList: true});\n",
       "}}\n",
       "\n",
       "// Listen for the clearing of the current output cell\n",
       "var outputEl = gd.closest('.output');\n",
       "if (outputEl) {{\n",
       "    x.observe(outputEl, {childList: true});\n",
       "}}\n",
       "\n",
       "                        })                };                });            </script>        </div>"
      ]
     },
     "metadata": {},
     "output_type": "display_data"
    }
   ],
   "source": [
    "# Age suicide by year\n",
    "deaths_cause_098_age_year = deaths_cause_098.groupby(['Edad', 'Periodo'])[['Total']].sum().reset_index()\n",
    "\n",
    "deaths_cause_098_age_year_max = deaths_cause_098_age_year.loc[deaths_cause_098_age_year.groupby('Periodo')['Total'].idxmax()].reset_index(drop=True)\n",
    "\n",
    "graph = px.bar(deaths_cause_098_age_year_max, \n",
    "               x = 'Periodo',\n",
    "               y = 'Total',\n",
    "               color = 'Edad',\n",
    "               title = 'Age suicide',\n",
    "               labels={'Periodo':'Year', \n",
    "                       'Total':'Total'})\n",
    "\n",
    "graph.show()\n",
    "\n"
   ]
  },
  {
   "cell_type": "code",
   "execution_count": 42,
   "metadata": {},
   "outputs": [
    {
     "data": {
      "text/html": [
       "<div>\n",
       "<style scoped>\n",
       "    .dataframe tbody tr th:only-of-type {\n",
       "        vertical-align: middle;\n",
       "    }\n",
       "\n",
       "    .dataframe tbody tr th {\n",
       "        vertical-align: top;\n",
       "    }\n",
       "\n",
       "    .dataframe thead th {\n",
       "        text-align: right;\n",
       "    }\n",
       "</style>\n",
       "<table border=\"1\" class=\"dataframe\">\n",
       "  <thead>\n",
       "    <tr style=\"text-align: right;\">\n",
       "      <th></th>\n",
       "      <th>Causa de muerte</th>\n",
       "      <th>Sexo</th>\n",
       "      <th>Edad</th>\n",
       "      <th>Periodo</th>\n",
       "      <th>Total</th>\n",
       "      <th>cause_code</th>\n",
       "      <th>cause_group</th>\n",
       "      <th>cause_name</th>\n",
       "    </tr>\n",
       "  </thead>\n",
       "  <tbody>\n",
       "    <tr>\n",
       "      <th>169920</th>\n",
       "      <td>059  Enfermedades cerebrovasculares</td>\n",
       "      <td>Total</td>\n",
       "      <td>Todas las edades</td>\n",
       "      <td>1982</td>\n",
       "      <td>46138</td>\n",
       "      <td>059</td>\n",
       "      <td>Single cause</td>\n",
       "      <td>Enfermedades cerebrovasculares</td>\n",
       "    </tr>\n",
       "    <tr>\n",
       "      <th>159624</th>\n",
       "      <td>055  Infarto agudo de miocardio</td>\n",
       "      <td>Total</td>\n",
       "      <td>Todas las edades</td>\n",
       "      <td>1982</td>\n",
       "      <td>21658</td>\n",
       "      <td>055</td>\n",
       "      <td>Single cause</td>\n",
       "      <td>Infarto agudo de miocardio</td>\n",
       "    </tr>\n",
       "    <tr>\n",
       "      <th>164772</th>\n",
       "      <td>057  Insuficiencia cardíaca</td>\n",
       "      <td>Total</td>\n",
       "      <td>Todas las edades</td>\n",
       "      <td>1982</td>\n",
       "      <td>16769</td>\n",
       "      <td>057</td>\n",
       "      <td>Single cause</td>\n",
       "      <td>Insuficiencia cardíaca</td>\n",
       "    </tr>\n",
       "    <tr>\n",
       "      <th>167346</th>\n",
       "      <td>058 Otras enfermedades del corazón</td>\n",
       "      <td>Total</td>\n",
       "      <td>Todas las edades</td>\n",
       "      <td>1982</td>\n",
       "      <td>13052</td>\n",
       "      <td>058</td>\n",
       "      <td>Single cause</td>\n",
       "      <td>Otras enfermedades del corazón</td>\n",
       "    </tr>\n",
       "    <tr>\n",
       "      <th>172494</th>\n",
       "      <td>060  Aterosclerosis</td>\n",
       "      <td>Total</td>\n",
       "      <td>Todas las edades</td>\n",
       "      <td>1982</td>\n",
       "      <td>12326</td>\n",
       "      <td>060</td>\n",
       "      <td>Single cause</td>\n",
       "      <td>Aterosclerosis</td>\n",
       "    </tr>\n",
       "    <tr>\n",
       "      <th>51516</th>\n",
       "      <td>018  Tumor maligno de la tráquea, de los bronq...</td>\n",
       "      <td>Total</td>\n",
       "      <td>Todas las edades</td>\n",
       "      <td>1982</td>\n",
       "      <td>9828</td>\n",
       "      <td>018</td>\n",
       "      <td>Single cause</td>\n",
       "      <td>Tumor maligno de la tráquea, de los bronquios ...</td>\n",
       "    </tr>\n",
       "    <tr>\n",
       "      <th>193086</th>\n",
       "      <td>067  Otras enfermedades del sistema respiratorio</td>\n",
       "      <td>Total</td>\n",
       "      <td>Todas las edades</td>\n",
       "      <td>1982</td>\n",
       "      <td>8432</td>\n",
       "      <td>067</td>\n",
       "      <td>Single cause</td>\n",
       "      <td>Otras enfermedades del sistema respiratorio</td>\n",
       "    </tr>\n",
       "    <tr>\n",
       "      <th>205956</th>\n",
       "      <td>071  Cirrosis y otras enfermedades crónicas de...</td>\n",
       "      <td>Total</td>\n",
       "      <td>Todas las edades</td>\n",
       "      <td>1982</td>\n",
       "      <td>8081</td>\n",
       "      <td>071</td>\n",
       "      <td>Single cause</td>\n",
       "      <td>Cirrosis y otras enfermedades crónicas del hígado</td>\n",
       "    </tr>\n",
       "    <tr>\n",
       "      <th>162198</th>\n",
       "      <td>056  Otras enfermedades isquémicas del corazón</td>\n",
       "      <td>Total</td>\n",
       "      <td>Todas las edades</td>\n",
       "      <td>1982</td>\n",
       "      <td>7871</td>\n",
       "      <td>056</td>\n",
       "      <td>Single cause</td>\n",
       "      <td>Otras enfermedades isquémicas del corazón</td>\n",
       "    </tr>\n",
       "    <tr>\n",
       "      <th>182790</th>\n",
       "      <td>063  Neumonía</td>\n",
       "      <td>Total</td>\n",
       "      <td>Todas las edades</td>\n",
       "      <td>1982</td>\n",
       "      <td>7644</td>\n",
       "      <td>063</td>\n",
       "      <td>Single cause</td>\n",
       "      <td>Neumonía</td>\n",
       "    </tr>\n",
       "  </tbody>\n",
       "</table>\n",
       "</div>"
      ],
      "text/plain": [
       "                                          Causa de muerte   Sexo  \\\n",
       "169920                059  Enfermedades cerebrovasculares  Total   \n",
       "159624                    055  Infarto agudo de miocardio  Total   \n",
       "164772                        057  Insuficiencia cardíaca  Total   \n",
       "167346                 058 Otras enfermedades del corazón  Total   \n",
       "172494                                060  Aterosclerosis  Total   \n",
       "51516   018  Tumor maligno de la tráquea, de los bronq...  Total   \n",
       "193086   067  Otras enfermedades del sistema respiratorio  Total   \n",
       "205956  071  Cirrosis y otras enfermedades crónicas de...  Total   \n",
       "162198     056  Otras enfermedades isquémicas del corazón  Total   \n",
       "182790                                      063  Neumonía  Total   \n",
       "\n",
       "                    Edad  Periodo  Total cause_code   cause_group  \\\n",
       "169920  Todas las edades     1982  46138        059  Single cause   \n",
       "159624  Todas las edades     1982  21658        055  Single cause   \n",
       "164772  Todas las edades     1982  16769        057  Single cause   \n",
       "167346  Todas las edades     1982  13052        058  Single cause   \n",
       "172494  Todas las edades     1982  12326        060  Single cause   \n",
       "51516   Todas las edades     1982   9828        018  Single cause   \n",
       "193086  Todas las edades     1982   8432        067  Single cause   \n",
       "205956  Todas las edades     1982   8081        071  Single cause   \n",
       "162198  Todas las edades     1982   7871        056  Single cause   \n",
       "182790  Todas las edades     1982   7644        063  Single cause   \n",
       "\n",
       "                                               cause_name  \n",
       "169920                     Enfermedades cerebrovasculares  \n",
       "159624                         Infarto agudo de miocardio  \n",
       "164772                             Insuficiencia cardíaca  \n",
       "167346                     Otras enfermedades del corazón  \n",
       "172494                                     Aterosclerosis  \n",
       "51516   Tumor maligno de la tráquea, de los bronquios ...  \n",
       "193086        Otras enfermedades del sistema respiratorio  \n",
       "205956  Cirrosis y otras enfermedades crónicas del hígado  \n",
       "162198          Otras enfermedades isquémicas del corazón  \n",
       "182790                                           Neumonía  "
      ]
     },
     "execution_count": 42,
     "metadata": {},
     "output_type": "execute_result"
    }
   ],
   "source": [
    "# 1982: Most frequent causes in 1982 (total years and sex)\n",
    "year = 1982\n",
    "age = 'Todas las edades'\n",
    "sex = 'Total'\n",
    "cause = 'Single cause'\n",
    "mask = (deaths['Periodo'] == year) & (deaths['Edad'] == age) & (deaths['Sexo'] == sex) & (deaths['cause_group'] == cause)\n",
    "               \n",
    "deaths_year_age_sex = deaths[mask]\n",
    "deaths_sorted = deaths_year_age_sex.sort_values('Total', ascending=False).head(10)\n",
    "deaths_sorted"
   ]
  },
  {
   "cell_type": "code",
   "execution_count": 43,
   "metadata": {},
   "outputs": [
    {
     "data": {
      "application/vnd.plotly.v1+json": {
       "config": {
        "linkText": "Export to plot.ly",
        "plotlyServerURL": "https://plot.ly",
        "showLink": true
       },
       "data": [
        {
         "marker": {
          "color": "rgba(255, 153, 51, 0.6)",
          "line": {
           "color": "rgba(255, 153, 51, 1.0)",
           "width": 1
          }
         },
         "name": "Total",
         "orientation": "h",
         "text": "",
         "type": "bar",
         "x": [
          46138,
          21658,
          16769,
          13052,
          12326,
          9828,
          8432,
          8081,
          7871,
          7644
         ],
         "y": [
          "Enfermedades cerebrovasculares",
          "Infarto agudo de miocardio",
          "Insuficiencia cardíaca",
          "Otras enfermedades del corazón",
          "Aterosclerosis",
          "Tumor maligno de la tráquea, de los bronquios y del pulmón",
          "Otras enfermedades del sistema respiratorio",
          "Cirrosis y otras enfermedades crónicas del hígado",
          "Otras enfermedades isquémicas del corazón",
          "Neumonía"
         ]
        }
       ],
       "layout": {
        "legend": {
         "bgcolor": "#F5F6F9",
         "font": {
          "color": "#4D5663"
         }
        },
        "paper_bgcolor": "#F5F6F9",
        "plot_bgcolor": "#F5F6F9",
        "template": {
         "data": {
          "bar": [
           {
            "error_x": {
             "color": "#2a3f5f"
            },
            "error_y": {
             "color": "#2a3f5f"
            },
            "marker": {
             "line": {
              "color": "#E5ECF6",
              "width": 0.5
             },
             "pattern": {
              "fillmode": "overlay",
              "size": 10,
              "solidity": 0.2
             }
            },
            "type": "bar"
           }
          ],
          "barpolar": [
           {
            "marker": {
             "line": {
              "color": "#E5ECF6",
              "width": 0.5
             },
             "pattern": {
              "fillmode": "overlay",
              "size": 10,
              "solidity": 0.2
             }
            },
            "type": "barpolar"
           }
          ],
          "carpet": [
           {
            "aaxis": {
             "endlinecolor": "#2a3f5f",
             "gridcolor": "white",
             "linecolor": "white",
             "minorgridcolor": "white",
             "startlinecolor": "#2a3f5f"
            },
            "baxis": {
             "endlinecolor": "#2a3f5f",
             "gridcolor": "white",
             "linecolor": "white",
             "minorgridcolor": "white",
             "startlinecolor": "#2a3f5f"
            },
            "type": "carpet"
           }
          ],
          "choropleth": [
           {
            "colorbar": {
             "outlinewidth": 0,
             "ticks": ""
            },
            "type": "choropleth"
           }
          ],
          "contour": [
           {
            "colorbar": {
             "outlinewidth": 0,
             "ticks": ""
            },
            "colorscale": [
             [
              0,
              "#0d0887"
             ],
             [
              0.1111111111111111,
              "#46039f"
             ],
             [
              0.2222222222222222,
              "#7201a8"
             ],
             [
              0.3333333333333333,
              "#9c179e"
             ],
             [
              0.4444444444444444,
              "#bd3786"
             ],
             [
              0.5555555555555556,
              "#d8576b"
             ],
             [
              0.6666666666666666,
              "#ed7953"
             ],
             [
              0.7777777777777778,
              "#fb9f3a"
             ],
             [
              0.8888888888888888,
              "#fdca26"
             ],
             [
              1,
              "#f0f921"
             ]
            ],
            "type": "contour"
           }
          ],
          "contourcarpet": [
           {
            "colorbar": {
             "outlinewidth": 0,
             "ticks": ""
            },
            "type": "contourcarpet"
           }
          ],
          "heatmap": [
           {
            "colorbar": {
             "outlinewidth": 0,
             "ticks": ""
            },
            "colorscale": [
             [
              0,
              "#0d0887"
             ],
             [
              0.1111111111111111,
              "#46039f"
             ],
             [
              0.2222222222222222,
              "#7201a8"
             ],
             [
              0.3333333333333333,
              "#9c179e"
             ],
             [
              0.4444444444444444,
              "#bd3786"
             ],
             [
              0.5555555555555556,
              "#d8576b"
             ],
             [
              0.6666666666666666,
              "#ed7953"
             ],
             [
              0.7777777777777778,
              "#fb9f3a"
             ],
             [
              0.8888888888888888,
              "#fdca26"
             ],
             [
              1,
              "#f0f921"
             ]
            ],
            "type": "heatmap"
           }
          ],
          "heatmapgl": [
           {
            "colorbar": {
             "outlinewidth": 0,
             "ticks": ""
            },
            "colorscale": [
             [
              0,
              "#0d0887"
             ],
             [
              0.1111111111111111,
              "#46039f"
             ],
             [
              0.2222222222222222,
              "#7201a8"
             ],
             [
              0.3333333333333333,
              "#9c179e"
             ],
             [
              0.4444444444444444,
              "#bd3786"
             ],
             [
              0.5555555555555556,
              "#d8576b"
             ],
             [
              0.6666666666666666,
              "#ed7953"
             ],
             [
              0.7777777777777778,
              "#fb9f3a"
             ],
             [
              0.8888888888888888,
              "#fdca26"
             ],
             [
              1,
              "#f0f921"
             ]
            ],
            "type": "heatmapgl"
           }
          ],
          "histogram": [
           {
            "marker": {
             "pattern": {
              "fillmode": "overlay",
              "size": 10,
              "solidity": 0.2
             }
            },
            "type": "histogram"
           }
          ],
          "histogram2d": [
           {
            "colorbar": {
             "outlinewidth": 0,
             "ticks": ""
            },
            "colorscale": [
             [
              0,
              "#0d0887"
             ],
             [
              0.1111111111111111,
              "#46039f"
             ],
             [
              0.2222222222222222,
              "#7201a8"
             ],
             [
              0.3333333333333333,
              "#9c179e"
             ],
             [
              0.4444444444444444,
              "#bd3786"
             ],
             [
              0.5555555555555556,
              "#d8576b"
             ],
             [
              0.6666666666666666,
              "#ed7953"
             ],
             [
              0.7777777777777778,
              "#fb9f3a"
             ],
             [
              0.8888888888888888,
              "#fdca26"
             ],
             [
              1,
              "#f0f921"
             ]
            ],
            "type": "histogram2d"
           }
          ],
          "histogram2dcontour": [
           {
            "colorbar": {
             "outlinewidth": 0,
             "ticks": ""
            },
            "colorscale": [
             [
              0,
              "#0d0887"
             ],
             [
              0.1111111111111111,
              "#46039f"
             ],
             [
              0.2222222222222222,
              "#7201a8"
             ],
             [
              0.3333333333333333,
              "#9c179e"
             ],
             [
              0.4444444444444444,
              "#bd3786"
             ],
             [
              0.5555555555555556,
              "#d8576b"
             ],
             [
              0.6666666666666666,
              "#ed7953"
             ],
             [
              0.7777777777777778,
              "#fb9f3a"
             ],
             [
              0.8888888888888888,
              "#fdca26"
             ],
             [
              1,
              "#f0f921"
             ]
            ],
            "type": "histogram2dcontour"
           }
          ],
          "mesh3d": [
           {
            "colorbar": {
             "outlinewidth": 0,
             "ticks": ""
            },
            "type": "mesh3d"
           }
          ],
          "parcoords": [
           {
            "line": {
             "colorbar": {
              "outlinewidth": 0,
              "ticks": ""
             }
            },
            "type": "parcoords"
           }
          ],
          "pie": [
           {
            "automargin": true,
            "type": "pie"
           }
          ],
          "scatter": [
           {
            "fillpattern": {
             "fillmode": "overlay",
             "size": 10,
             "solidity": 0.2
            },
            "type": "scatter"
           }
          ],
          "scatter3d": [
           {
            "line": {
             "colorbar": {
              "outlinewidth": 0,
              "ticks": ""
             }
            },
            "marker": {
             "colorbar": {
              "outlinewidth": 0,
              "ticks": ""
             }
            },
            "type": "scatter3d"
           }
          ],
          "scattercarpet": [
           {
            "marker": {
             "colorbar": {
              "outlinewidth": 0,
              "ticks": ""
             }
            },
            "type": "scattercarpet"
           }
          ],
          "scattergeo": [
           {
            "marker": {
             "colorbar": {
              "outlinewidth": 0,
              "ticks": ""
             }
            },
            "type": "scattergeo"
           }
          ],
          "scattergl": [
           {
            "marker": {
             "colorbar": {
              "outlinewidth": 0,
              "ticks": ""
             }
            },
            "type": "scattergl"
           }
          ],
          "scattermapbox": [
           {
            "marker": {
             "colorbar": {
              "outlinewidth": 0,
              "ticks": ""
             }
            },
            "type": "scattermapbox"
           }
          ],
          "scatterpolar": [
           {
            "marker": {
             "colorbar": {
              "outlinewidth": 0,
              "ticks": ""
             }
            },
            "type": "scatterpolar"
           }
          ],
          "scatterpolargl": [
           {
            "marker": {
             "colorbar": {
              "outlinewidth": 0,
              "ticks": ""
             }
            },
            "type": "scatterpolargl"
           }
          ],
          "scatterternary": [
           {
            "marker": {
             "colorbar": {
              "outlinewidth": 0,
              "ticks": ""
             }
            },
            "type": "scatterternary"
           }
          ],
          "surface": [
           {
            "colorbar": {
             "outlinewidth": 0,
             "ticks": ""
            },
            "colorscale": [
             [
              0,
              "#0d0887"
             ],
             [
              0.1111111111111111,
              "#46039f"
             ],
             [
              0.2222222222222222,
              "#7201a8"
             ],
             [
              0.3333333333333333,
              "#9c179e"
             ],
             [
              0.4444444444444444,
              "#bd3786"
             ],
             [
              0.5555555555555556,
              "#d8576b"
             ],
             [
              0.6666666666666666,
              "#ed7953"
             ],
             [
              0.7777777777777778,
              "#fb9f3a"
             ],
             [
              0.8888888888888888,
              "#fdca26"
             ],
             [
              1,
              "#f0f921"
             ]
            ],
            "type": "surface"
           }
          ],
          "table": [
           {
            "cells": {
             "fill": {
              "color": "#EBF0F8"
             },
             "line": {
              "color": "white"
             }
            },
            "header": {
             "fill": {
              "color": "#C8D4E3"
             },
             "line": {
              "color": "white"
             }
            },
            "type": "table"
           }
          ]
         },
         "layout": {
          "annotationdefaults": {
           "arrowcolor": "#2a3f5f",
           "arrowhead": 0,
           "arrowwidth": 1
          },
          "autotypenumbers": "strict",
          "coloraxis": {
           "colorbar": {
            "outlinewidth": 0,
            "ticks": ""
           }
          },
          "colorscale": {
           "diverging": [
            [
             0,
             "#8e0152"
            ],
            [
             0.1,
             "#c51b7d"
            ],
            [
             0.2,
             "#de77ae"
            ],
            [
             0.3,
             "#f1b6da"
            ],
            [
             0.4,
             "#fde0ef"
            ],
            [
             0.5,
             "#f7f7f7"
            ],
            [
             0.6,
             "#e6f5d0"
            ],
            [
             0.7,
             "#b8e186"
            ],
            [
             0.8,
             "#7fbc41"
            ],
            [
             0.9,
             "#4d9221"
            ],
            [
             1,
             "#276419"
            ]
           ],
           "sequential": [
            [
             0,
             "#0d0887"
            ],
            [
             0.1111111111111111,
             "#46039f"
            ],
            [
             0.2222222222222222,
             "#7201a8"
            ],
            [
             0.3333333333333333,
             "#9c179e"
            ],
            [
             0.4444444444444444,
             "#bd3786"
            ],
            [
             0.5555555555555556,
             "#d8576b"
            ],
            [
             0.6666666666666666,
             "#ed7953"
            ],
            [
             0.7777777777777778,
             "#fb9f3a"
            ],
            [
             0.8888888888888888,
             "#fdca26"
            ],
            [
             1,
             "#f0f921"
            ]
           ],
           "sequentialminus": [
            [
             0,
             "#0d0887"
            ],
            [
             0.1111111111111111,
             "#46039f"
            ],
            [
             0.2222222222222222,
             "#7201a8"
            ],
            [
             0.3333333333333333,
             "#9c179e"
            ],
            [
             0.4444444444444444,
             "#bd3786"
            ],
            [
             0.5555555555555556,
             "#d8576b"
            ],
            [
             0.6666666666666666,
             "#ed7953"
            ],
            [
             0.7777777777777778,
             "#fb9f3a"
            ],
            [
             0.8888888888888888,
             "#fdca26"
            ],
            [
             1,
             "#f0f921"
            ]
           ]
          },
          "colorway": [
           "#636efa",
           "#EF553B",
           "#00cc96",
           "#ab63fa",
           "#FFA15A",
           "#19d3f3",
           "#FF6692",
           "#B6E880",
           "#FF97FF",
           "#FECB52"
          ],
          "font": {
           "color": "#2a3f5f"
          },
          "geo": {
           "bgcolor": "white",
           "lakecolor": "white",
           "landcolor": "#E5ECF6",
           "showlakes": true,
           "showland": true,
           "subunitcolor": "white"
          },
          "hoverlabel": {
           "align": "left"
          },
          "hovermode": "closest",
          "mapbox": {
           "style": "light"
          },
          "paper_bgcolor": "white",
          "plot_bgcolor": "#E5ECF6",
          "polar": {
           "angularaxis": {
            "gridcolor": "white",
            "linecolor": "white",
            "ticks": ""
           },
           "bgcolor": "#E5ECF6",
           "radialaxis": {
            "gridcolor": "white",
            "linecolor": "white",
            "ticks": ""
           }
          },
          "scene": {
           "xaxis": {
            "backgroundcolor": "#E5ECF6",
            "gridcolor": "white",
            "gridwidth": 2,
            "linecolor": "white",
            "showbackground": true,
            "ticks": "",
            "zerolinecolor": "white"
           },
           "yaxis": {
            "backgroundcolor": "#E5ECF6",
            "gridcolor": "white",
            "gridwidth": 2,
            "linecolor": "white",
            "showbackground": true,
            "ticks": "",
            "zerolinecolor": "white"
           },
           "zaxis": {
            "backgroundcolor": "#E5ECF6",
            "gridcolor": "white",
            "gridwidth": 2,
            "linecolor": "white",
            "showbackground": true,
            "ticks": "",
            "zerolinecolor": "white"
           }
          },
          "shapedefaults": {
           "line": {
            "color": "#2a3f5f"
           }
          },
          "ternary": {
           "aaxis": {
            "gridcolor": "white",
            "linecolor": "white",
            "ticks": ""
           },
           "baxis": {
            "gridcolor": "white",
            "linecolor": "white",
            "ticks": ""
           },
           "bgcolor": "#E5ECF6",
           "caxis": {
            "gridcolor": "white",
            "linecolor": "white",
            "ticks": ""
           }
          },
          "title": {
           "x": 0.05
          },
          "xaxis": {
           "automargin": true,
           "gridcolor": "white",
           "linecolor": "white",
           "ticks": "",
           "title": {
            "standoff": 15
           },
           "zerolinecolor": "white",
           "zerolinewidth": 2
          },
          "yaxis": {
           "automargin": true,
           "gridcolor": "white",
           "linecolor": "white",
           "ticks": "",
           "title": {
            "standoff": 15
           },
           "zerolinecolor": "white",
           "zerolinewidth": 2
          }
         }
        },
        "title": {
         "font": {
          "color": "#4D5663"
         },
         "text": "Mostly causes"
        },
        "xaxis": {
         "gridcolor": "#E1E5ED",
         "showgrid": true,
         "tickfont": {
          "color": "#4D5663"
         },
         "title": {
          "font": {
           "color": "#4D5663"
          },
          "text": "Number"
         },
         "zerolinecolor": "#E1E5ED"
        },
        "yaxis": {
         "gridcolor": "#E1E5ED",
         "showgrid": true,
         "tickfont": {
          "color": "#4D5663"
         },
         "title": {
          "font": {
           "color": "#4D5663"
          },
          "text": "Cause"
         },
         "zerolinecolor": "#E1E5ED"
        }
       }
      },
      "text/html": [
       "<div>                            <div id=\"6d976c76-2177-43e6-b95d-f86443ec9066\" class=\"plotly-graph-div\" style=\"height:525px; width:100%;\"></div>            <script type=\"text/javascript\">                require([\"plotly\"], function(Plotly) {                    window.PLOTLYENV=window.PLOTLYENV || {};\n",
       "                    window.PLOTLYENV.BASE_URL='https://plot.ly';                                    if (document.getElementById(\"6d976c76-2177-43e6-b95d-f86443ec9066\")) {                    Plotly.newPlot(                        \"6d976c76-2177-43e6-b95d-f86443ec9066\",                        [{\"marker\":{\"color\":\"rgba(255, 153, 51, 0.6)\",\"line\":{\"color\":\"rgba(255, 153, 51, 1.0)\",\"width\":1}},\"name\":\"Total\",\"orientation\":\"h\",\"text\":\"\",\"x\":[46138,21658,16769,13052,12326,9828,8432,8081,7871,7644],\"y\":[\"Enfermedades cerebrovasculares\",\"Infarto agudo de miocardio\",\"Insuficiencia card\\u00edaca\",\"Otras enfermedades del coraz\\u00f3n\",\"Aterosclerosis\",\"Tumor maligno de la tr\\u00e1quea, de los bronquios y del pulm\\u00f3n\",\"Otras enfermedades del sistema respiratorio\",\"Cirrosis y otras enfermedades cr\\u00f3nicas del h\\u00edgado\",\"Otras enfermedades isqu\\u00e9micas del coraz\\u00f3n\",\"Neumon\\u00eda\"],\"type\":\"bar\"}],                        {\"legend\":{\"bgcolor\":\"#F5F6F9\",\"font\":{\"color\":\"#4D5663\"}},\"paper_bgcolor\":\"#F5F6F9\",\"plot_bgcolor\":\"#F5F6F9\",\"template\":{\"data\":{\"barpolar\":[{\"marker\":{\"line\":{\"color\":\"#E5ECF6\",\"width\":0.5},\"pattern\":{\"fillmode\":\"overlay\",\"size\":10,\"solidity\":0.2}},\"type\":\"barpolar\"}],\"bar\":[{\"error_x\":{\"color\":\"#2a3f5f\"},\"error_y\":{\"color\":\"#2a3f5f\"},\"marker\":{\"line\":{\"color\":\"#E5ECF6\",\"width\":0.5},\"pattern\":{\"fillmode\":\"overlay\",\"size\":10,\"solidity\":0.2}},\"type\":\"bar\"}],\"carpet\":[{\"aaxis\":{\"endlinecolor\":\"#2a3f5f\",\"gridcolor\":\"white\",\"linecolor\":\"white\",\"minorgridcolor\":\"white\",\"startlinecolor\":\"#2a3f5f\"},\"baxis\":{\"endlinecolor\":\"#2a3f5f\",\"gridcolor\":\"white\",\"linecolor\":\"white\",\"minorgridcolor\":\"white\",\"startlinecolor\":\"#2a3f5f\"},\"type\":\"carpet\"}],\"choropleth\":[{\"colorbar\":{\"outlinewidth\":0,\"ticks\":\"\"},\"type\":\"choropleth\"}],\"contourcarpet\":[{\"colorbar\":{\"outlinewidth\":0,\"ticks\":\"\"},\"type\":\"contourcarpet\"}],\"contour\":[{\"colorbar\":{\"outlinewidth\":0,\"ticks\":\"\"},\"colorscale\":[[0.0,\"#0d0887\"],[0.1111111111111111,\"#46039f\"],[0.2222222222222222,\"#7201a8\"],[0.3333333333333333,\"#9c179e\"],[0.4444444444444444,\"#bd3786\"],[0.5555555555555556,\"#d8576b\"],[0.6666666666666666,\"#ed7953\"],[0.7777777777777778,\"#fb9f3a\"],[0.8888888888888888,\"#fdca26\"],[1.0,\"#f0f921\"]],\"type\":\"contour\"}],\"heatmapgl\":[{\"colorbar\":{\"outlinewidth\":0,\"ticks\":\"\"},\"colorscale\":[[0.0,\"#0d0887\"],[0.1111111111111111,\"#46039f\"],[0.2222222222222222,\"#7201a8\"],[0.3333333333333333,\"#9c179e\"],[0.4444444444444444,\"#bd3786\"],[0.5555555555555556,\"#d8576b\"],[0.6666666666666666,\"#ed7953\"],[0.7777777777777778,\"#fb9f3a\"],[0.8888888888888888,\"#fdca26\"],[1.0,\"#f0f921\"]],\"type\":\"heatmapgl\"}],\"heatmap\":[{\"colorbar\":{\"outlinewidth\":0,\"ticks\":\"\"},\"colorscale\":[[0.0,\"#0d0887\"],[0.1111111111111111,\"#46039f\"],[0.2222222222222222,\"#7201a8\"],[0.3333333333333333,\"#9c179e\"],[0.4444444444444444,\"#bd3786\"],[0.5555555555555556,\"#d8576b\"],[0.6666666666666666,\"#ed7953\"],[0.7777777777777778,\"#fb9f3a\"],[0.8888888888888888,\"#fdca26\"],[1.0,\"#f0f921\"]],\"type\":\"heatmap\"}],\"histogram2dcontour\":[{\"colorbar\":{\"outlinewidth\":0,\"ticks\":\"\"},\"colorscale\":[[0.0,\"#0d0887\"],[0.1111111111111111,\"#46039f\"],[0.2222222222222222,\"#7201a8\"],[0.3333333333333333,\"#9c179e\"],[0.4444444444444444,\"#bd3786\"],[0.5555555555555556,\"#d8576b\"],[0.6666666666666666,\"#ed7953\"],[0.7777777777777778,\"#fb9f3a\"],[0.8888888888888888,\"#fdca26\"],[1.0,\"#f0f921\"]],\"type\":\"histogram2dcontour\"}],\"histogram2d\":[{\"colorbar\":{\"outlinewidth\":0,\"ticks\":\"\"},\"colorscale\":[[0.0,\"#0d0887\"],[0.1111111111111111,\"#46039f\"],[0.2222222222222222,\"#7201a8\"],[0.3333333333333333,\"#9c179e\"],[0.4444444444444444,\"#bd3786\"],[0.5555555555555556,\"#d8576b\"],[0.6666666666666666,\"#ed7953\"],[0.7777777777777778,\"#fb9f3a\"],[0.8888888888888888,\"#fdca26\"],[1.0,\"#f0f921\"]],\"type\":\"histogram2d\"}],\"histogram\":[{\"marker\":{\"pattern\":{\"fillmode\":\"overlay\",\"size\":10,\"solidity\":0.2}},\"type\":\"histogram\"}],\"mesh3d\":[{\"colorbar\":{\"outlinewidth\":0,\"ticks\":\"\"},\"type\":\"mesh3d\"}],\"parcoords\":[{\"line\":{\"colorbar\":{\"outlinewidth\":0,\"ticks\":\"\"}},\"type\":\"parcoords\"}],\"pie\":[{\"automargin\":true,\"type\":\"pie\"}],\"scatter3d\":[{\"line\":{\"colorbar\":{\"outlinewidth\":0,\"ticks\":\"\"}},\"marker\":{\"colorbar\":{\"outlinewidth\":0,\"ticks\":\"\"}},\"type\":\"scatter3d\"}],\"scattercarpet\":[{\"marker\":{\"colorbar\":{\"outlinewidth\":0,\"ticks\":\"\"}},\"type\":\"scattercarpet\"}],\"scattergeo\":[{\"marker\":{\"colorbar\":{\"outlinewidth\":0,\"ticks\":\"\"}},\"type\":\"scattergeo\"}],\"scattergl\":[{\"marker\":{\"colorbar\":{\"outlinewidth\":0,\"ticks\":\"\"}},\"type\":\"scattergl\"}],\"scattermapbox\":[{\"marker\":{\"colorbar\":{\"outlinewidth\":0,\"ticks\":\"\"}},\"type\":\"scattermapbox\"}],\"scatterpolargl\":[{\"marker\":{\"colorbar\":{\"outlinewidth\":0,\"ticks\":\"\"}},\"type\":\"scatterpolargl\"}],\"scatterpolar\":[{\"marker\":{\"colorbar\":{\"outlinewidth\":0,\"ticks\":\"\"}},\"type\":\"scatterpolar\"}],\"scatter\":[{\"fillpattern\":{\"fillmode\":\"overlay\",\"size\":10,\"solidity\":0.2},\"type\":\"scatter\"}],\"scatterternary\":[{\"marker\":{\"colorbar\":{\"outlinewidth\":0,\"ticks\":\"\"}},\"type\":\"scatterternary\"}],\"surface\":[{\"colorbar\":{\"outlinewidth\":0,\"ticks\":\"\"},\"colorscale\":[[0.0,\"#0d0887\"],[0.1111111111111111,\"#46039f\"],[0.2222222222222222,\"#7201a8\"],[0.3333333333333333,\"#9c179e\"],[0.4444444444444444,\"#bd3786\"],[0.5555555555555556,\"#d8576b\"],[0.6666666666666666,\"#ed7953\"],[0.7777777777777778,\"#fb9f3a\"],[0.8888888888888888,\"#fdca26\"],[1.0,\"#f0f921\"]],\"type\":\"surface\"}],\"table\":[{\"cells\":{\"fill\":{\"color\":\"#EBF0F8\"},\"line\":{\"color\":\"white\"}},\"header\":{\"fill\":{\"color\":\"#C8D4E3\"},\"line\":{\"color\":\"white\"}},\"type\":\"table\"}]},\"layout\":{\"annotationdefaults\":{\"arrowcolor\":\"#2a3f5f\",\"arrowhead\":0,\"arrowwidth\":1},\"autotypenumbers\":\"strict\",\"coloraxis\":{\"colorbar\":{\"outlinewidth\":0,\"ticks\":\"\"}},\"colorscale\":{\"diverging\":[[0,\"#8e0152\"],[0.1,\"#c51b7d\"],[0.2,\"#de77ae\"],[0.3,\"#f1b6da\"],[0.4,\"#fde0ef\"],[0.5,\"#f7f7f7\"],[0.6,\"#e6f5d0\"],[0.7,\"#b8e186\"],[0.8,\"#7fbc41\"],[0.9,\"#4d9221\"],[1,\"#276419\"]],\"sequential\":[[0.0,\"#0d0887\"],[0.1111111111111111,\"#46039f\"],[0.2222222222222222,\"#7201a8\"],[0.3333333333333333,\"#9c179e\"],[0.4444444444444444,\"#bd3786\"],[0.5555555555555556,\"#d8576b\"],[0.6666666666666666,\"#ed7953\"],[0.7777777777777778,\"#fb9f3a\"],[0.8888888888888888,\"#fdca26\"],[1.0,\"#f0f921\"]],\"sequentialminus\":[[0.0,\"#0d0887\"],[0.1111111111111111,\"#46039f\"],[0.2222222222222222,\"#7201a8\"],[0.3333333333333333,\"#9c179e\"],[0.4444444444444444,\"#bd3786\"],[0.5555555555555556,\"#d8576b\"],[0.6666666666666666,\"#ed7953\"],[0.7777777777777778,\"#fb9f3a\"],[0.8888888888888888,\"#fdca26\"],[1.0,\"#f0f921\"]]},\"colorway\":[\"#636efa\",\"#EF553B\",\"#00cc96\",\"#ab63fa\",\"#FFA15A\",\"#19d3f3\",\"#FF6692\",\"#B6E880\",\"#FF97FF\",\"#FECB52\"],\"font\":{\"color\":\"#2a3f5f\"},\"geo\":{\"bgcolor\":\"white\",\"lakecolor\":\"white\",\"landcolor\":\"#E5ECF6\",\"showlakes\":true,\"showland\":true,\"subunitcolor\":\"white\"},\"hoverlabel\":{\"align\":\"left\"},\"hovermode\":\"closest\",\"mapbox\":{\"style\":\"light\"},\"paper_bgcolor\":\"white\",\"plot_bgcolor\":\"#E5ECF6\",\"polar\":{\"angularaxis\":{\"gridcolor\":\"white\",\"linecolor\":\"white\",\"ticks\":\"\"},\"bgcolor\":\"#E5ECF6\",\"radialaxis\":{\"gridcolor\":\"white\",\"linecolor\":\"white\",\"ticks\":\"\"}},\"scene\":{\"xaxis\":{\"backgroundcolor\":\"#E5ECF6\",\"gridcolor\":\"white\",\"gridwidth\":2,\"linecolor\":\"white\",\"showbackground\":true,\"ticks\":\"\",\"zerolinecolor\":\"white\"},\"yaxis\":{\"backgroundcolor\":\"#E5ECF6\",\"gridcolor\":\"white\",\"gridwidth\":2,\"linecolor\":\"white\",\"showbackground\":true,\"ticks\":\"\",\"zerolinecolor\":\"white\"},\"zaxis\":{\"backgroundcolor\":\"#E5ECF6\",\"gridcolor\":\"white\",\"gridwidth\":2,\"linecolor\":\"white\",\"showbackground\":true,\"ticks\":\"\",\"zerolinecolor\":\"white\"}},\"shapedefaults\":{\"line\":{\"color\":\"#2a3f5f\"}},\"ternary\":{\"aaxis\":{\"gridcolor\":\"white\",\"linecolor\":\"white\",\"ticks\":\"\"},\"baxis\":{\"gridcolor\":\"white\",\"linecolor\":\"white\",\"ticks\":\"\"},\"bgcolor\":\"#E5ECF6\",\"caxis\":{\"gridcolor\":\"white\",\"linecolor\":\"white\",\"ticks\":\"\"}},\"title\":{\"x\":0.05},\"xaxis\":{\"automargin\":true,\"gridcolor\":\"white\",\"linecolor\":\"white\",\"ticks\":\"\",\"title\":{\"standoff\":15},\"zerolinecolor\":\"white\",\"zerolinewidth\":2},\"yaxis\":{\"automargin\":true,\"gridcolor\":\"white\",\"linecolor\":\"white\",\"ticks\":\"\",\"title\":{\"standoff\":15},\"zerolinecolor\":\"white\",\"zerolinewidth\":2}}},\"title\":{\"font\":{\"color\":\"#4D5663\"},\"text\":\"Mostly causes\"},\"xaxis\":{\"gridcolor\":\"#E1E5ED\",\"showgrid\":true,\"tickfont\":{\"color\":\"#4D5663\"},\"title\":{\"font\":{\"color\":\"#4D5663\"},\"text\":\"Number\"},\"zerolinecolor\":\"#E1E5ED\"},\"yaxis\":{\"gridcolor\":\"#E1E5ED\",\"showgrid\":true,\"tickfont\":{\"color\":\"#4D5663\"},\"title\":{\"font\":{\"color\":\"#4D5663\"},\"text\":\"Cause\"},\"zerolinecolor\":\"#E1E5ED\"}},                        {\"showLink\": true, \"linkText\": \"Export to plot.ly\", \"plotlyServerURL\": \"https://plot.ly\", \"responsive\": true}                    ).then(function(){\n",
       "                            \n",
       "var gd = document.getElementById('6d976c76-2177-43e6-b95d-f86443ec9066');\n",
       "var x = new MutationObserver(function (mutations, observer) {{\n",
       "        var display = window.getComputedStyle(gd).display;\n",
       "        if (!display || display === 'none') {{\n",
       "            console.log([gd, 'removed!']);\n",
       "            Plotly.purge(gd);\n",
       "            observer.disconnect();\n",
       "        }}\n",
       "}});\n",
       "\n",
       "// Listen for the removal of the full notebook cells\n",
       "var notebookContainer = gd.closest('#notebook-container');\n",
       "if (notebookContainer) {{\n",
       "    x.observe(notebookContainer, {childList: true});\n",
       "}}\n",
       "\n",
       "// Listen for the clearing of the current output cell\n",
       "var outputEl = gd.closest('.output');\n",
       "if (outputEl) {{\n",
       "    x.observe(outputEl, {childList: true});\n",
       "}}\n",
       "\n",
       "                        })                };                });            </script>        </div>"
      ]
     },
     "metadata": {},
     "output_type": "display_data"
    }
   ],
   "source": [
    "deaths_sorted.iplot(kind='barh',\n",
    "                    x='cause_name',\n",
    "                    y='Total',\n",
    "                    title='Mostly causes',\n",
    "                    yTitle='Cause',\n",
    "                    xTitle='Number')"
   ]
  },
  {
   "cell_type": "code",
   "execution_count": 46,
   "metadata": {},
   "outputs": [],
   "source": [
    "# Next three graphs: most frequente causes by age in 1982, 2000 and 2018"
   ]
  },
  {
   "cell_type": "code",
   "execution_count": 48,
   "metadata": {},
   "outputs": [
    {
     "data": {
      "application/vnd.plotly.v1+json": {
       "config": {
        "plotlyServerURL": "https://plot.ly"
       },
       "data": [
        {
         "alignmentgroup": "True",
         "hovertemplate": "Edad=95 y más años<br>cause_name=%{x}<br>Total=%{y}<extra></extra>",
         "legendgroup": "95 y más años",
         "marker": {
          "color": "#636efa",
          "pattern": {
           "shape": ""
          }
         },
         "name": "95 y más años",
         "offsetgroup": "95 y más años",
         "orientation": "v",
         "showlegend": true,
         "textposition": "auto",
         "type": "bar",
         "x": [
          "Enfermedades cerebrovasculares"
         ],
         "xaxis": "x",
         "y": [
          699
         ],
         "yaxis": "y"
        },
        {
         "alignmentgroup": "True",
         "hovertemplate": "Edad=De 1 a 4 años<br>cause_name=%{x}<br>Total=%{y}<extra></extra>",
         "legendgroup": "De 1 a 4 años",
         "marker": {
          "color": "#EF553B",
          "pattern": {
           "shape": ""
          }
         },
         "name": "De 1 a 4 años",
         "offsetgroup": "De 1 a 4 años",
         "orientation": "v",
         "showlegend": true,
         "textposition": "auto",
         "type": "bar",
         "x": [
          "Malformaciones congénitas del sistema circulatorio"
         ],
         "xaxis": "x",
         "y": [
          132
         ],
         "yaxis": "y"
        },
        {
         "alignmentgroup": "True",
         "hovertemplate": "Edad=De 10 a 14 años  <br>cause_name=%{x}<br>Total=%{y}<extra></extra>",
         "legendgroup": "De 10 a 14 años  ",
         "marker": {
          "color": "#00cc96",
          "pattern": {
           "shape": ""
          }
         },
         "name": "De 10 a 14 años  ",
         "offsetgroup": "De 10 a 14 años  ",
         "orientation": "v",
         "showlegend": true,
         "textposition": "auto",
         "type": "bar",
         "x": [
          "Accidentes de tráfico"
         ],
         "xaxis": "x",
         "y": [
          121
         ],
         "yaxis": "y"
        },
        {
         "alignmentgroup": "True",
         "hovertemplate": "Edad=De 15 a 19 años  <br>cause_name=%{x}<br>Total=%{y}<extra></extra>",
         "legendgroup": "De 15 a 19 años  ",
         "marker": {
          "color": "#ab63fa",
          "pattern": {
           "shape": ""
          }
         },
         "name": "De 15 a 19 años  ",
         "offsetgroup": "De 15 a 19 años  ",
         "orientation": "v",
         "showlegend": true,
         "textposition": "auto",
         "type": "bar",
         "x": [
          "Accidentes de tráfico"
         ],
         "xaxis": "x",
         "y": [
          451
         ],
         "yaxis": "y"
        },
        {
         "alignmentgroup": "True",
         "hovertemplate": "Edad=De 20 a 24 años<br>cause_name=%{x}<br>Total=%{y}<extra></extra>",
         "legendgroup": "De 20 a 24 años",
         "marker": {
          "color": "#FFA15A",
          "pattern": {
           "shape": ""
          }
         },
         "name": "De 20 a 24 años",
         "offsetgroup": "De 20 a 24 años",
         "orientation": "v",
         "showlegend": true,
         "textposition": "auto",
         "type": "bar",
         "x": [
          "Accidentes de tráfico"
         ],
         "xaxis": "x",
         "y": [
          586
         ],
         "yaxis": "y"
        },
        {
         "alignmentgroup": "True",
         "hovertemplate": "Edad=De 25 a 29 años<br>cause_name=%{x}<br>Total=%{y}<extra></extra>",
         "legendgroup": "De 25 a 29 años",
         "marker": {
          "color": "#19d3f3",
          "pattern": {
           "shape": ""
          }
         },
         "name": "De 25 a 29 años",
         "offsetgroup": "De 25 a 29 años",
         "orientation": "v",
         "showlegend": true,
         "textposition": "auto",
         "type": "bar",
         "x": [
          "Accidentes de tráfico"
         ],
         "xaxis": "x",
         "y": [
          375
         ],
         "yaxis": "y"
        },
        {
         "alignmentgroup": "True",
         "hovertemplate": "Edad=De 30 a 34 años<br>cause_name=%{x}<br>Total=%{y}<extra></extra>",
         "legendgroup": "De 30 a 34 años",
         "marker": {
          "color": "#FF6692",
          "pattern": {
           "shape": ""
          }
         },
         "name": "De 30 a 34 años",
         "offsetgroup": "De 30 a 34 años",
         "orientation": "v",
         "showlegend": true,
         "textposition": "auto",
         "type": "bar",
         "x": [
          "Accidentes de tráfico"
         ],
         "xaxis": "x",
         "y": [
          267
         ],
         "yaxis": "y"
        },
        {
         "alignmentgroup": "True",
         "hovertemplate": "Edad=De 35 a 39 años<br>cause_name=%{x}<br>Total=%{y}<extra></extra>",
         "legendgroup": "De 35 a 39 años",
         "marker": {
          "color": "#B6E880",
          "pattern": {
           "shape": ""
          }
         },
         "name": "De 35 a 39 años",
         "offsetgroup": "De 35 a 39 años",
         "orientation": "v",
         "showlegend": true,
         "textposition": "auto",
         "type": "bar",
         "x": [
          "Accidentes de tráfico"
         ],
         "xaxis": "x",
         "y": [
          267
         ],
         "yaxis": "y"
        },
        {
         "alignmentgroup": "True",
         "hovertemplate": "Edad=De 40 a 44 años<br>cause_name=%{x}<br>Total=%{y}<extra></extra>",
         "legendgroup": "De 40 a 44 años",
         "marker": {
          "color": "#FF97FF",
          "pattern": {
           "shape": ""
          }
         },
         "name": "De 40 a 44 años",
         "offsetgroup": "De 40 a 44 años",
         "orientation": "v",
         "showlegend": true,
         "textposition": "auto",
         "type": "bar",
         "x": [
          "Infarto agudo de miocardio"
         ],
         "xaxis": "x",
         "y": [
          353
         ],
         "yaxis": "y"
        },
        {
         "alignmentgroup": "True",
         "hovertemplate": "Edad=De 45 a 49 años<br>cause_name=%{x}<br>Total=%{y}<extra></extra>",
         "legendgroup": "De 45 a 49 años",
         "marker": {
          "color": "#FECB52",
          "pattern": {
           "shape": ""
          }
         },
         "name": "De 45 a 49 años",
         "offsetgroup": "De 45 a 49 años",
         "orientation": "v",
         "showlegend": true,
         "textposition": "auto",
         "type": "bar",
         "x": [
          "Infarto agudo de miocardio"
         ],
         "xaxis": "x",
         "y": [
          633
         ],
         "yaxis": "y"
        },
        {
         "alignmentgroup": "True",
         "hovertemplate": "Edad=De 5 a 9 años<br>cause_name=%{x}<br>Total=%{y}<extra></extra>",
         "legendgroup": "De 5 a 9 años",
         "marker": {
          "color": "#636efa",
          "pattern": {
           "shape": ""
          }
         },
         "name": "De 5 a 9 años",
         "offsetgroup": "De 5 a 9 años",
         "orientation": "v",
         "showlegend": true,
         "textposition": "auto",
         "type": "bar",
         "x": [
          "Accidentes de tráfico"
         ],
         "xaxis": "x",
         "y": [
          142
         ],
         "yaxis": "y"
        },
        {
         "alignmentgroup": "True",
         "hovertemplate": "Edad=De 50 a 54 años<br>cause_name=%{x}<br>Total=%{y}<extra></extra>",
         "legendgroup": "De 50 a 54 años",
         "marker": {
          "color": "#EF553B",
          "pattern": {
           "shape": ""
          }
         },
         "name": "De 50 a 54 años",
         "offsetgroup": "De 50 a 54 años",
         "orientation": "v",
         "showlegend": true,
         "textposition": "auto",
         "type": "bar",
         "x": [
          "Infarto agudo de miocardio"
         ],
         "xaxis": "x",
         "y": [
          1123
         ],
         "yaxis": "y"
        },
        {
         "alignmentgroup": "True",
         "hovertemplate": "Edad=De 55 a 59 años<br>cause_name=%{x}<br>Total=%{y}<extra></extra>",
         "legendgroup": "De 55 a 59 años",
         "marker": {
          "color": "#00cc96",
          "pattern": {
           "shape": ""
          }
         },
         "name": "De 55 a 59 años",
         "offsetgroup": "De 55 a 59 años",
         "orientation": "v",
         "showlegend": true,
         "textposition": "auto",
         "type": "bar",
         "x": [
          "Infarto agudo de miocardio"
         ],
         "xaxis": "x",
         "y": [
          1794
         ],
         "yaxis": "y"
        },
        {
         "alignmentgroup": "True",
         "hovertemplate": "Edad=De 60 a 64 años<br>cause_name=%{x}<br>Total=%{y}<extra></extra>",
         "legendgroup": "De 60 a 64 años",
         "marker": {
          "color": "#ab63fa",
          "pattern": {
           "shape": ""
          }
         },
         "name": "De 60 a 64 años",
         "offsetgroup": "De 60 a 64 años",
         "orientation": "v",
         "showlegend": true,
         "textposition": "auto",
         "type": "bar",
         "x": [
          "Infarto agudo de miocardio"
         ],
         "xaxis": "x",
         "y": [
          2227
         ],
         "yaxis": "y"
        },
        {
         "alignmentgroup": "True",
         "hovertemplate": "Edad=De 65 a 69 años<br>cause_name=%{x}<br>Total=%{y}<extra></extra>",
         "legendgroup": "De 65 a 69 años",
         "marker": {
          "color": "#FFA15A",
          "pattern": {
           "shape": ""
          }
         },
         "name": "De 65 a 69 años",
         "offsetgroup": "De 65 a 69 años",
         "orientation": "v",
         "showlegend": true,
         "textposition": "auto",
         "type": "bar",
         "x": [
          "Enfermedades cerebrovasculares"
         ],
         "xaxis": "x",
         "y": [
          3350
         ],
         "yaxis": "y"
        },
        {
         "alignmentgroup": "True",
         "hovertemplate": "Edad=De 70 a 74 años  <br>cause_name=%{x}<br>Total=%{y}<extra></extra>",
         "legendgroup": "De 70 a 74 años  ",
         "marker": {
          "color": "#19d3f3",
          "pattern": {
           "shape": ""
          }
         },
         "name": "De 70 a 74 años  ",
         "offsetgroup": "De 70 a 74 años  ",
         "orientation": "v",
         "showlegend": true,
         "textposition": "auto",
         "type": "bar",
         "x": [
          "Enfermedades cerebrovasculares"
         ],
         "xaxis": "x",
         "y": [
          6593
         ],
         "yaxis": "y"
        },
        {
         "alignmentgroup": "True",
         "hovertemplate": "Edad=De 75 a 79 años  <br>cause_name=%{x}<br>Total=%{y}<extra></extra>",
         "legendgroup": "De 75 a 79 años  ",
         "marker": {
          "color": "#FF6692",
          "pattern": {
           "shape": ""
          }
         },
         "name": "De 75 a 79 años  ",
         "offsetgroup": "De 75 a 79 años  ",
         "orientation": "v",
         "showlegend": true,
         "textposition": "auto",
         "type": "bar",
         "x": [
          "Enfermedades cerebrovasculares"
         ],
         "xaxis": "x",
         "y": [
          9750
         ],
         "yaxis": "y"
        },
        {
         "alignmentgroup": "True",
         "hovertemplate": "Edad=De 80 a 84 años  <br>cause_name=%{x}<br>Total=%{y}<extra></extra>",
         "legendgroup": "De 80 a 84 años  ",
         "marker": {
          "color": "#B6E880",
          "pattern": {
           "shape": ""
          }
         },
         "name": "De 80 a 84 años  ",
         "offsetgroup": "De 80 a 84 años  ",
         "orientation": "v",
         "showlegend": true,
         "textposition": "auto",
         "type": "bar",
         "x": [
          "Enfermedades cerebrovasculares"
         ],
         "xaxis": "x",
         "y": [
          10414
         ],
         "yaxis": "y"
        },
        {
         "alignmentgroup": "True",
         "hovertemplate": "Edad=De 85 a 89 años  <br>cause_name=%{x}<br>Total=%{y}<extra></extra>",
         "legendgroup": "De 85 a 89 años  ",
         "marker": {
          "color": "#FF97FF",
          "pattern": {
           "shape": ""
          }
         },
         "name": "De 85 a 89 años  ",
         "offsetgroup": "De 85 a 89 años  ",
         "orientation": "v",
         "showlegend": true,
         "textposition": "auto",
         "type": "bar",
         "x": [
          "Enfermedades cerebrovasculares"
         ],
         "xaxis": "x",
         "y": [
          7266
         ],
         "yaxis": "y"
        },
        {
         "alignmentgroup": "True",
         "hovertemplate": "Edad=De 90 a 94 años  <br>cause_name=%{x}<br>Total=%{y}<extra></extra>",
         "legendgroup": "De 90 a 94 años  ",
         "marker": {
          "color": "#FECB52",
          "pattern": {
           "shape": ""
          }
         },
         "name": "De 90 a 94 años  ",
         "offsetgroup": "De 90 a 94 años  ",
         "orientation": "v",
         "showlegend": true,
         "textposition": "auto",
         "type": "bar",
         "x": [
          "Enfermedades cerebrovasculares"
         ],
         "xaxis": "x",
         "y": [
          2864
         ],
         "yaxis": "y"
        },
        {
         "alignmentgroup": "True",
         "hovertemplate": "Edad=Menos de 1 año<br>cause_name=%{x}<br>Total=%{y}<extra></extra>",
         "legendgroup": "Menos de 1 año",
         "marker": {
          "color": "#636efa",
          "pattern": {
           "shape": ""
          }
         },
         "name": "Menos de 1 año",
         "offsetgroup": "Menos de 1 año",
         "orientation": "v",
         "showlegend": true,
         "textposition": "auto",
         "type": "bar",
         "x": [
          "XVI.Afecciones originadas en el periodo perinatal"
         ],
         "xaxis": "x",
         "y": [
          2754
         ],
         "yaxis": "y"
        }
       ],
       "layout": {
        "barmode": "relative",
        "height": 1000,
        "legend": {
         "title": {
          "text": "Edad"
         },
         "tracegroupgap": 0
        },
        "template": {
         "data": {
          "bar": [
           {
            "error_x": {
             "color": "#2a3f5f"
            },
            "error_y": {
             "color": "#2a3f5f"
            },
            "marker": {
             "line": {
              "color": "#E5ECF6",
              "width": 0.5
             },
             "pattern": {
              "fillmode": "overlay",
              "size": 10,
              "solidity": 0.2
             }
            },
            "type": "bar"
           }
          ],
          "barpolar": [
           {
            "marker": {
             "line": {
              "color": "#E5ECF6",
              "width": 0.5
             },
             "pattern": {
              "fillmode": "overlay",
              "size": 10,
              "solidity": 0.2
             }
            },
            "type": "barpolar"
           }
          ],
          "carpet": [
           {
            "aaxis": {
             "endlinecolor": "#2a3f5f",
             "gridcolor": "white",
             "linecolor": "white",
             "minorgridcolor": "white",
             "startlinecolor": "#2a3f5f"
            },
            "baxis": {
             "endlinecolor": "#2a3f5f",
             "gridcolor": "white",
             "linecolor": "white",
             "minorgridcolor": "white",
             "startlinecolor": "#2a3f5f"
            },
            "type": "carpet"
           }
          ],
          "choropleth": [
           {
            "colorbar": {
             "outlinewidth": 0,
             "ticks": ""
            },
            "type": "choropleth"
           }
          ],
          "contour": [
           {
            "colorbar": {
             "outlinewidth": 0,
             "ticks": ""
            },
            "colorscale": [
             [
              0,
              "#0d0887"
             ],
             [
              0.1111111111111111,
              "#46039f"
             ],
             [
              0.2222222222222222,
              "#7201a8"
             ],
             [
              0.3333333333333333,
              "#9c179e"
             ],
             [
              0.4444444444444444,
              "#bd3786"
             ],
             [
              0.5555555555555556,
              "#d8576b"
             ],
             [
              0.6666666666666666,
              "#ed7953"
             ],
             [
              0.7777777777777778,
              "#fb9f3a"
             ],
             [
              0.8888888888888888,
              "#fdca26"
             ],
             [
              1,
              "#f0f921"
             ]
            ],
            "type": "contour"
           }
          ],
          "contourcarpet": [
           {
            "colorbar": {
             "outlinewidth": 0,
             "ticks": ""
            },
            "type": "contourcarpet"
           }
          ],
          "heatmap": [
           {
            "colorbar": {
             "outlinewidth": 0,
             "ticks": ""
            },
            "colorscale": [
             [
              0,
              "#0d0887"
             ],
             [
              0.1111111111111111,
              "#46039f"
             ],
             [
              0.2222222222222222,
              "#7201a8"
             ],
             [
              0.3333333333333333,
              "#9c179e"
             ],
             [
              0.4444444444444444,
              "#bd3786"
             ],
             [
              0.5555555555555556,
              "#d8576b"
             ],
             [
              0.6666666666666666,
              "#ed7953"
             ],
             [
              0.7777777777777778,
              "#fb9f3a"
             ],
             [
              0.8888888888888888,
              "#fdca26"
             ],
             [
              1,
              "#f0f921"
             ]
            ],
            "type": "heatmap"
           }
          ],
          "heatmapgl": [
           {
            "colorbar": {
             "outlinewidth": 0,
             "ticks": ""
            },
            "colorscale": [
             [
              0,
              "#0d0887"
             ],
             [
              0.1111111111111111,
              "#46039f"
             ],
             [
              0.2222222222222222,
              "#7201a8"
             ],
             [
              0.3333333333333333,
              "#9c179e"
             ],
             [
              0.4444444444444444,
              "#bd3786"
             ],
             [
              0.5555555555555556,
              "#d8576b"
             ],
             [
              0.6666666666666666,
              "#ed7953"
             ],
             [
              0.7777777777777778,
              "#fb9f3a"
             ],
             [
              0.8888888888888888,
              "#fdca26"
             ],
             [
              1,
              "#f0f921"
             ]
            ],
            "type": "heatmapgl"
           }
          ],
          "histogram": [
           {
            "marker": {
             "pattern": {
              "fillmode": "overlay",
              "size": 10,
              "solidity": 0.2
             }
            },
            "type": "histogram"
           }
          ],
          "histogram2d": [
           {
            "colorbar": {
             "outlinewidth": 0,
             "ticks": ""
            },
            "colorscale": [
             [
              0,
              "#0d0887"
             ],
             [
              0.1111111111111111,
              "#46039f"
             ],
             [
              0.2222222222222222,
              "#7201a8"
             ],
             [
              0.3333333333333333,
              "#9c179e"
             ],
             [
              0.4444444444444444,
              "#bd3786"
             ],
             [
              0.5555555555555556,
              "#d8576b"
             ],
             [
              0.6666666666666666,
              "#ed7953"
             ],
             [
              0.7777777777777778,
              "#fb9f3a"
             ],
             [
              0.8888888888888888,
              "#fdca26"
             ],
             [
              1,
              "#f0f921"
             ]
            ],
            "type": "histogram2d"
           }
          ],
          "histogram2dcontour": [
           {
            "colorbar": {
             "outlinewidth": 0,
             "ticks": ""
            },
            "colorscale": [
             [
              0,
              "#0d0887"
             ],
             [
              0.1111111111111111,
              "#46039f"
             ],
             [
              0.2222222222222222,
              "#7201a8"
             ],
             [
              0.3333333333333333,
              "#9c179e"
             ],
             [
              0.4444444444444444,
              "#bd3786"
             ],
             [
              0.5555555555555556,
              "#d8576b"
             ],
             [
              0.6666666666666666,
              "#ed7953"
             ],
             [
              0.7777777777777778,
              "#fb9f3a"
             ],
             [
              0.8888888888888888,
              "#fdca26"
             ],
             [
              1,
              "#f0f921"
             ]
            ],
            "type": "histogram2dcontour"
           }
          ],
          "mesh3d": [
           {
            "colorbar": {
             "outlinewidth": 0,
             "ticks": ""
            },
            "type": "mesh3d"
           }
          ],
          "parcoords": [
           {
            "line": {
             "colorbar": {
              "outlinewidth": 0,
              "ticks": ""
             }
            },
            "type": "parcoords"
           }
          ],
          "pie": [
           {
            "automargin": true,
            "type": "pie"
           }
          ],
          "scatter": [
           {
            "fillpattern": {
             "fillmode": "overlay",
             "size": 10,
             "solidity": 0.2
            },
            "type": "scatter"
           }
          ],
          "scatter3d": [
           {
            "line": {
             "colorbar": {
              "outlinewidth": 0,
              "ticks": ""
             }
            },
            "marker": {
             "colorbar": {
              "outlinewidth": 0,
              "ticks": ""
             }
            },
            "type": "scatter3d"
           }
          ],
          "scattercarpet": [
           {
            "marker": {
             "colorbar": {
              "outlinewidth": 0,
              "ticks": ""
             }
            },
            "type": "scattercarpet"
           }
          ],
          "scattergeo": [
           {
            "marker": {
             "colorbar": {
              "outlinewidth": 0,
              "ticks": ""
             }
            },
            "type": "scattergeo"
           }
          ],
          "scattergl": [
           {
            "marker": {
             "colorbar": {
              "outlinewidth": 0,
              "ticks": ""
             }
            },
            "type": "scattergl"
           }
          ],
          "scattermapbox": [
           {
            "marker": {
             "colorbar": {
              "outlinewidth": 0,
              "ticks": ""
             }
            },
            "type": "scattermapbox"
           }
          ],
          "scatterpolar": [
           {
            "marker": {
             "colorbar": {
              "outlinewidth": 0,
              "ticks": ""
             }
            },
            "type": "scatterpolar"
           }
          ],
          "scatterpolargl": [
           {
            "marker": {
             "colorbar": {
              "outlinewidth": 0,
              "ticks": ""
             }
            },
            "type": "scatterpolargl"
           }
          ],
          "scatterternary": [
           {
            "marker": {
             "colorbar": {
              "outlinewidth": 0,
              "ticks": ""
             }
            },
            "type": "scatterternary"
           }
          ],
          "surface": [
           {
            "colorbar": {
             "outlinewidth": 0,
             "ticks": ""
            },
            "colorscale": [
             [
              0,
              "#0d0887"
             ],
             [
              0.1111111111111111,
              "#46039f"
             ],
             [
              0.2222222222222222,
              "#7201a8"
             ],
             [
              0.3333333333333333,
              "#9c179e"
             ],
             [
              0.4444444444444444,
              "#bd3786"
             ],
             [
              0.5555555555555556,
              "#d8576b"
             ],
             [
              0.6666666666666666,
              "#ed7953"
             ],
             [
              0.7777777777777778,
              "#fb9f3a"
             ],
             [
              0.8888888888888888,
              "#fdca26"
             ],
             [
              1,
              "#f0f921"
             ]
            ],
            "type": "surface"
           }
          ],
          "table": [
           {
            "cells": {
             "fill": {
              "color": "#EBF0F8"
             },
             "line": {
              "color": "white"
             }
            },
            "header": {
             "fill": {
              "color": "#C8D4E3"
             },
             "line": {
              "color": "white"
             }
            },
            "type": "table"
           }
          ]
         },
         "layout": {
          "annotationdefaults": {
           "arrowcolor": "#2a3f5f",
           "arrowhead": 0,
           "arrowwidth": 1
          },
          "autotypenumbers": "strict",
          "coloraxis": {
           "colorbar": {
            "outlinewidth": 0,
            "ticks": ""
           }
          },
          "colorscale": {
           "diverging": [
            [
             0,
             "#8e0152"
            ],
            [
             0.1,
             "#c51b7d"
            ],
            [
             0.2,
             "#de77ae"
            ],
            [
             0.3,
             "#f1b6da"
            ],
            [
             0.4,
             "#fde0ef"
            ],
            [
             0.5,
             "#f7f7f7"
            ],
            [
             0.6,
             "#e6f5d0"
            ],
            [
             0.7,
             "#b8e186"
            ],
            [
             0.8,
             "#7fbc41"
            ],
            [
             0.9,
             "#4d9221"
            ],
            [
             1,
             "#276419"
            ]
           ],
           "sequential": [
            [
             0,
             "#0d0887"
            ],
            [
             0.1111111111111111,
             "#46039f"
            ],
            [
             0.2222222222222222,
             "#7201a8"
            ],
            [
             0.3333333333333333,
             "#9c179e"
            ],
            [
             0.4444444444444444,
             "#bd3786"
            ],
            [
             0.5555555555555556,
             "#d8576b"
            ],
            [
             0.6666666666666666,
             "#ed7953"
            ],
            [
             0.7777777777777778,
             "#fb9f3a"
            ],
            [
             0.8888888888888888,
             "#fdca26"
            ],
            [
             1,
             "#f0f921"
            ]
           ],
           "sequentialminus": [
            [
             0,
             "#0d0887"
            ],
            [
             0.1111111111111111,
             "#46039f"
            ],
            [
             0.2222222222222222,
             "#7201a8"
            ],
            [
             0.3333333333333333,
             "#9c179e"
            ],
            [
             0.4444444444444444,
             "#bd3786"
            ],
            [
             0.5555555555555556,
             "#d8576b"
            ],
            [
             0.6666666666666666,
             "#ed7953"
            ],
            [
             0.7777777777777778,
             "#fb9f3a"
            ],
            [
             0.8888888888888888,
             "#fdca26"
            ],
            [
             1,
             "#f0f921"
            ]
           ]
          },
          "colorway": [
           "#636efa",
           "#EF553B",
           "#00cc96",
           "#ab63fa",
           "#FFA15A",
           "#19d3f3",
           "#FF6692",
           "#B6E880",
           "#FF97FF",
           "#FECB52"
          ],
          "font": {
           "color": "#2a3f5f"
          },
          "geo": {
           "bgcolor": "white",
           "lakecolor": "white",
           "landcolor": "#E5ECF6",
           "showlakes": true,
           "showland": true,
           "subunitcolor": "white"
          },
          "hoverlabel": {
           "align": "left"
          },
          "hovermode": "closest",
          "mapbox": {
           "style": "light"
          },
          "paper_bgcolor": "white",
          "plot_bgcolor": "#E5ECF6",
          "polar": {
           "angularaxis": {
            "gridcolor": "white",
            "linecolor": "white",
            "ticks": ""
           },
           "bgcolor": "#E5ECF6",
           "radialaxis": {
            "gridcolor": "white",
            "linecolor": "white",
            "ticks": ""
           }
          },
          "scene": {
           "xaxis": {
            "backgroundcolor": "#E5ECF6",
            "gridcolor": "white",
            "gridwidth": 2,
            "linecolor": "white",
            "showbackground": true,
            "ticks": "",
            "zerolinecolor": "white"
           },
           "yaxis": {
            "backgroundcolor": "#E5ECF6",
            "gridcolor": "white",
            "gridwidth": 2,
            "linecolor": "white",
            "showbackground": true,
            "ticks": "",
            "zerolinecolor": "white"
           },
           "zaxis": {
            "backgroundcolor": "#E5ECF6",
            "gridcolor": "white",
            "gridwidth": 2,
            "linecolor": "white",
            "showbackground": true,
            "ticks": "",
            "zerolinecolor": "white"
           }
          },
          "shapedefaults": {
           "line": {
            "color": "#2a3f5f"
           }
          },
          "ternary": {
           "aaxis": {
            "gridcolor": "white",
            "linecolor": "white",
            "ticks": ""
           },
           "baxis": {
            "gridcolor": "white",
            "linecolor": "white",
            "ticks": ""
           },
           "bgcolor": "#E5ECF6",
           "caxis": {
            "gridcolor": "white",
            "linecolor": "white",
            "ticks": ""
           }
          },
          "title": {
           "x": 0.05
          },
          "xaxis": {
           "automargin": true,
           "gridcolor": "white",
           "linecolor": "white",
           "ticks": "",
           "title": {
            "standoff": 15
           },
           "zerolinecolor": "white",
           "zerolinewidth": 2
          },
          "yaxis": {
           "automargin": true,
           "gridcolor": "white",
           "linecolor": "white",
           "ticks": "",
           "title": {
            "standoff": 15
           },
           "zerolinecolor": "white",
           "zerolinewidth": 2
          }
         }
        },
        "title": {
         "text": "Mostly causes 1982"
        },
        "width": 900,
        "xaxis": {
         "anchor": "y",
         "domain": [
          0,
          1
         ],
         "title": {
          "text": "cause_name"
         }
        },
        "yaxis": {
         "anchor": "x",
         "domain": [
          0,
          1
         ],
         "title": {
          "text": "Total"
         }
        }
       }
      },
      "text/html": [
       "<div>                            <div id=\"aa946401-0988-4cbe-af14-24e586aa591f\" class=\"plotly-graph-div\" style=\"height:1000px; width:900px;\"></div>            <script type=\"text/javascript\">                require([\"plotly\"], function(Plotly) {                    window.PLOTLYENV=window.PLOTLYENV || {};                                    if (document.getElementById(\"aa946401-0988-4cbe-af14-24e586aa591f\")) {                    Plotly.newPlot(                        \"aa946401-0988-4cbe-af14-24e586aa591f\",                        [{\"alignmentgroup\":\"True\",\"hovertemplate\":\"Edad=95 y m\\u00e1s a\\u00f1os<br>cause_name=%{x}<br>Total=%{y}<extra></extra>\",\"legendgroup\":\"95 y m\\u00e1s a\\u00f1os\",\"marker\":{\"color\":\"#636efa\",\"pattern\":{\"shape\":\"\"}},\"name\":\"95 y m\\u00e1s a\\u00f1os\",\"offsetgroup\":\"95 y m\\u00e1s a\\u00f1os\",\"orientation\":\"v\",\"showlegend\":true,\"textposition\":\"auto\",\"x\":[\"Enfermedades cerebrovasculares\"],\"xaxis\":\"x\",\"y\":[699],\"yaxis\":\"y\",\"type\":\"bar\"},{\"alignmentgroup\":\"True\",\"hovertemplate\":\"Edad=De 1 a 4 a\\u00f1os<br>cause_name=%{x}<br>Total=%{y}<extra></extra>\",\"legendgroup\":\"De 1 a 4 a\\u00f1os\",\"marker\":{\"color\":\"#EF553B\",\"pattern\":{\"shape\":\"\"}},\"name\":\"De 1 a 4 a\\u00f1os\",\"offsetgroup\":\"De 1 a 4 a\\u00f1os\",\"orientation\":\"v\",\"showlegend\":true,\"textposition\":\"auto\",\"x\":[\"Malformaciones cong\\u00e9nitas del sistema circulatorio\"],\"xaxis\":\"x\",\"y\":[132],\"yaxis\":\"y\",\"type\":\"bar\"},{\"alignmentgroup\":\"True\",\"hovertemplate\":\"Edad=De 10 a 14 a\\u00f1os  <br>cause_name=%{x}<br>Total=%{y}<extra></extra>\",\"legendgroup\":\"De 10 a 14 a\\u00f1os  \",\"marker\":{\"color\":\"#00cc96\",\"pattern\":{\"shape\":\"\"}},\"name\":\"De 10 a 14 a\\u00f1os  \",\"offsetgroup\":\"De 10 a 14 a\\u00f1os  \",\"orientation\":\"v\",\"showlegend\":true,\"textposition\":\"auto\",\"x\":[\"Accidentes de tr\\u00e1fico\"],\"xaxis\":\"x\",\"y\":[121],\"yaxis\":\"y\",\"type\":\"bar\"},{\"alignmentgroup\":\"True\",\"hovertemplate\":\"Edad=De 15 a 19 a\\u00f1os  <br>cause_name=%{x}<br>Total=%{y}<extra></extra>\",\"legendgroup\":\"De 15 a 19 a\\u00f1os  \",\"marker\":{\"color\":\"#ab63fa\",\"pattern\":{\"shape\":\"\"}},\"name\":\"De 15 a 19 a\\u00f1os  \",\"offsetgroup\":\"De 15 a 19 a\\u00f1os  \",\"orientation\":\"v\",\"showlegend\":true,\"textposition\":\"auto\",\"x\":[\"Accidentes de tr\\u00e1fico\"],\"xaxis\":\"x\",\"y\":[451],\"yaxis\":\"y\",\"type\":\"bar\"},{\"alignmentgroup\":\"True\",\"hovertemplate\":\"Edad=De 20 a 24 a\\u00f1os<br>cause_name=%{x}<br>Total=%{y}<extra></extra>\",\"legendgroup\":\"De 20 a 24 a\\u00f1os\",\"marker\":{\"color\":\"#FFA15A\",\"pattern\":{\"shape\":\"\"}},\"name\":\"De 20 a 24 a\\u00f1os\",\"offsetgroup\":\"De 20 a 24 a\\u00f1os\",\"orientation\":\"v\",\"showlegend\":true,\"textposition\":\"auto\",\"x\":[\"Accidentes de tr\\u00e1fico\"],\"xaxis\":\"x\",\"y\":[586],\"yaxis\":\"y\",\"type\":\"bar\"},{\"alignmentgroup\":\"True\",\"hovertemplate\":\"Edad=De 25 a 29 a\\u00f1os<br>cause_name=%{x}<br>Total=%{y}<extra></extra>\",\"legendgroup\":\"De 25 a 29 a\\u00f1os\",\"marker\":{\"color\":\"#19d3f3\",\"pattern\":{\"shape\":\"\"}},\"name\":\"De 25 a 29 a\\u00f1os\",\"offsetgroup\":\"De 25 a 29 a\\u00f1os\",\"orientation\":\"v\",\"showlegend\":true,\"textposition\":\"auto\",\"x\":[\"Accidentes de tr\\u00e1fico\"],\"xaxis\":\"x\",\"y\":[375],\"yaxis\":\"y\",\"type\":\"bar\"},{\"alignmentgroup\":\"True\",\"hovertemplate\":\"Edad=De 30 a 34 a\\u00f1os<br>cause_name=%{x}<br>Total=%{y}<extra></extra>\",\"legendgroup\":\"De 30 a 34 a\\u00f1os\",\"marker\":{\"color\":\"#FF6692\",\"pattern\":{\"shape\":\"\"}},\"name\":\"De 30 a 34 a\\u00f1os\",\"offsetgroup\":\"De 30 a 34 a\\u00f1os\",\"orientation\":\"v\",\"showlegend\":true,\"textposition\":\"auto\",\"x\":[\"Accidentes de tr\\u00e1fico\"],\"xaxis\":\"x\",\"y\":[267],\"yaxis\":\"y\",\"type\":\"bar\"},{\"alignmentgroup\":\"True\",\"hovertemplate\":\"Edad=De 35 a 39 a\\u00f1os<br>cause_name=%{x}<br>Total=%{y}<extra></extra>\",\"legendgroup\":\"De 35 a 39 a\\u00f1os\",\"marker\":{\"color\":\"#B6E880\",\"pattern\":{\"shape\":\"\"}},\"name\":\"De 35 a 39 a\\u00f1os\",\"offsetgroup\":\"De 35 a 39 a\\u00f1os\",\"orientation\":\"v\",\"showlegend\":true,\"textposition\":\"auto\",\"x\":[\"Accidentes de tr\\u00e1fico\"],\"xaxis\":\"x\",\"y\":[267],\"yaxis\":\"y\",\"type\":\"bar\"},{\"alignmentgroup\":\"True\",\"hovertemplate\":\"Edad=De 40 a 44 a\\u00f1os<br>cause_name=%{x}<br>Total=%{y}<extra></extra>\",\"legendgroup\":\"De 40 a 44 a\\u00f1os\",\"marker\":{\"color\":\"#FF97FF\",\"pattern\":{\"shape\":\"\"}},\"name\":\"De 40 a 44 a\\u00f1os\",\"offsetgroup\":\"De 40 a 44 a\\u00f1os\",\"orientation\":\"v\",\"showlegend\":true,\"textposition\":\"auto\",\"x\":[\"Infarto agudo de miocardio\"],\"xaxis\":\"x\",\"y\":[353],\"yaxis\":\"y\",\"type\":\"bar\"},{\"alignmentgroup\":\"True\",\"hovertemplate\":\"Edad=De 45 a 49 a\\u00f1os<br>cause_name=%{x}<br>Total=%{y}<extra></extra>\",\"legendgroup\":\"De 45 a 49 a\\u00f1os\",\"marker\":{\"color\":\"#FECB52\",\"pattern\":{\"shape\":\"\"}},\"name\":\"De 45 a 49 a\\u00f1os\",\"offsetgroup\":\"De 45 a 49 a\\u00f1os\",\"orientation\":\"v\",\"showlegend\":true,\"textposition\":\"auto\",\"x\":[\"Infarto agudo de miocardio\"],\"xaxis\":\"x\",\"y\":[633],\"yaxis\":\"y\",\"type\":\"bar\"},{\"alignmentgroup\":\"True\",\"hovertemplate\":\"Edad=De 5 a 9 a\\u00f1os<br>cause_name=%{x}<br>Total=%{y}<extra></extra>\",\"legendgroup\":\"De 5 a 9 a\\u00f1os\",\"marker\":{\"color\":\"#636efa\",\"pattern\":{\"shape\":\"\"}},\"name\":\"De 5 a 9 a\\u00f1os\",\"offsetgroup\":\"De 5 a 9 a\\u00f1os\",\"orientation\":\"v\",\"showlegend\":true,\"textposition\":\"auto\",\"x\":[\"Accidentes de tr\\u00e1fico\"],\"xaxis\":\"x\",\"y\":[142],\"yaxis\":\"y\",\"type\":\"bar\"},{\"alignmentgroup\":\"True\",\"hovertemplate\":\"Edad=De 50 a 54 a\\u00f1os<br>cause_name=%{x}<br>Total=%{y}<extra></extra>\",\"legendgroup\":\"De 50 a 54 a\\u00f1os\",\"marker\":{\"color\":\"#EF553B\",\"pattern\":{\"shape\":\"\"}},\"name\":\"De 50 a 54 a\\u00f1os\",\"offsetgroup\":\"De 50 a 54 a\\u00f1os\",\"orientation\":\"v\",\"showlegend\":true,\"textposition\":\"auto\",\"x\":[\"Infarto agudo de miocardio\"],\"xaxis\":\"x\",\"y\":[1123],\"yaxis\":\"y\",\"type\":\"bar\"},{\"alignmentgroup\":\"True\",\"hovertemplate\":\"Edad=De 55 a 59 a\\u00f1os<br>cause_name=%{x}<br>Total=%{y}<extra></extra>\",\"legendgroup\":\"De 55 a 59 a\\u00f1os\",\"marker\":{\"color\":\"#00cc96\",\"pattern\":{\"shape\":\"\"}},\"name\":\"De 55 a 59 a\\u00f1os\",\"offsetgroup\":\"De 55 a 59 a\\u00f1os\",\"orientation\":\"v\",\"showlegend\":true,\"textposition\":\"auto\",\"x\":[\"Infarto agudo de miocardio\"],\"xaxis\":\"x\",\"y\":[1794],\"yaxis\":\"y\",\"type\":\"bar\"},{\"alignmentgroup\":\"True\",\"hovertemplate\":\"Edad=De 60 a 64 a\\u00f1os<br>cause_name=%{x}<br>Total=%{y}<extra></extra>\",\"legendgroup\":\"De 60 a 64 a\\u00f1os\",\"marker\":{\"color\":\"#ab63fa\",\"pattern\":{\"shape\":\"\"}},\"name\":\"De 60 a 64 a\\u00f1os\",\"offsetgroup\":\"De 60 a 64 a\\u00f1os\",\"orientation\":\"v\",\"showlegend\":true,\"textposition\":\"auto\",\"x\":[\"Infarto agudo de miocardio\"],\"xaxis\":\"x\",\"y\":[2227],\"yaxis\":\"y\",\"type\":\"bar\"},{\"alignmentgroup\":\"True\",\"hovertemplate\":\"Edad=De 65 a 69 a\\u00f1os<br>cause_name=%{x}<br>Total=%{y}<extra></extra>\",\"legendgroup\":\"De 65 a 69 a\\u00f1os\",\"marker\":{\"color\":\"#FFA15A\",\"pattern\":{\"shape\":\"\"}},\"name\":\"De 65 a 69 a\\u00f1os\",\"offsetgroup\":\"De 65 a 69 a\\u00f1os\",\"orientation\":\"v\",\"showlegend\":true,\"textposition\":\"auto\",\"x\":[\"Enfermedades cerebrovasculares\"],\"xaxis\":\"x\",\"y\":[3350],\"yaxis\":\"y\",\"type\":\"bar\"},{\"alignmentgroup\":\"True\",\"hovertemplate\":\"Edad=De 70 a 74 a\\u00f1os  <br>cause_name=%{x}<br>Total=%{y}<extra></extra>\",\"legendgroup\":\"De 70 a 74 a\\u00f1os  \",\"marker\":{\"color\":\"#19d3f3\",\"pattern\":{\"shape\":\"\"}},\"name\":\"De 70 a 74 a\\u00f1os  \",\"offsetgroup\":\"De 70 a 74 a\\u00f1os  \",\"orientation\":\"v\",\"showlegend\":true,\"textposition\":\"auto\",\"x\":[\"Enfermedades cerebrovasculares\"],\"xaxis\":\"x\",\"y\":[6593],\"yaxis\":\"y\",\"type\":\"bar\"},{\"alignmentgroup\":\"True\",\"hovertemplate\":\"Edad=De 75 a 79 a\\u00f1os  <br>cause_name=%{x}<br>Total=%{y}<extra></extra>\",\"legendgroup\":\"De 75 a 79 a\\u00f1os  \",\"marker\":{\"color\":\"#FF6692\",\"pattern\":{\"shape\":\"\"}},\"name\":\"De 75 a 79 a\\u00f1os  \",\"offsetgroup\":\"De 75 a 79 a\\u00f1os  \",\"orientation\":\"v\",\"showlegend\":true,\"textposition\":\"auto\",\"x\":[\"Enfermedades cerebrovasculares\"],\"xaxis\":\"x\",\"y\":[9750],\"yaxis\":\"y\",\"type\":\"bar\"},{\"alignmentgroup\":\"True\",\"hovertemplate\":\"Edad=De 80 a 84 a\\u00f1os  <br>cause_name=%{x}<br>Total=%{y}<extra></extra>\",\"legendgroup\":\"De 80 a 84 a\\u00f1os  \",\"marker\":{\"color\":\"#B6E880\",\"pattern\":{\"shape\":\"\"}},\"name\":\"De 80 a 84 a\\u00f1os  \",\"offsetgroup\":\"De 80 a 84 a\\u00f1os  \",\"orientation\":\"v\",\"showlegend\":true,\"textposition\":\"auto\",\"x\":[\"Enfermedades cerebrovasculares\"],\"xaxis\":\"x\",\"y\":[10414],\"yaxis\":\"y\",\"type\":\"bar\"},{\"alignmentgroup\":\"True\",\"hovertemplate\":\"Edad=De 85 a 89 a\\u00f1os  <br>cause_name=%{x}<br>Total=%{y}<extra></extra>\",\"legendgroup\":\"De 85 a 89 a\\u00f1os  \",\"marker\":{\"color\":\"#FF97FF\",\"pattern\":{\"shape\":\"\"}},\"name\":\"De 85 a 89 a\\u00f1os  \",\"offsetgroup\":\"De 85 a 89 a\\u00f1os  \",\"orientation\":\"v\",\"showlegend\":true,\"textposition\":\"auto\",\"x\":[\"Enfermedades cerebrovasculares\"],\"xaxis\":\"x\",\"y\":[7266],\"yaxis\":\"y\",\"type\":\"bar\"},{\"alignmentgroup\":\"True\",\"hovertemplate\":\"Edad=De 90 a 94 a\\u00f1os  <br>cause_name=%{x}<br>Total=%{y}<extra></extra>\",\"legendgroup\":\"De 90 a 94 a\\u00f1os  \",\"marker\":{\"color\":\"#FECB52\",\"pattern\":{\"shape\":\"\"}},\"name\":\"De 90 a 94 a\\u00f1os  \",\"offsetgroup\":\"De 90 a 94 a\\u00f1os  \",\"orientation\":\"v\",\"showlegend\":true,\"textposition\":\"auto\",\"x\":[\"Enfermedades cerebrovasculares\"],\"xaxis\":\"x\",\"y\":[2864],\"yaxis\":\"y\",\"type\":\"bar\"},{\"alignmentgroup\":\"True\",\"hovertemplate\":\"Edad=Menos de 1 a\\u00f1o<br>cause_name=%{x}<br>Total=%{y}<extra></extra>\",\"legendgroup\":\"Menos de 1 a\\u00f1o\",\"marker\":{\"color\":\"#636efa\",\"pattern\":{\"shape\":\"\"}},\"name\":\"Menos de 1 a\\u00f1o\",\"offsetgroup\":\"Menos de 1 a\\u00f1o\",\"orientation\":\"v\",\"showlegend\":true,\"textposition\":\"auto\",\"x\":[\"XVI.Afecciones originadas en el periodo perinatal\"],\"xaxis\":\"x\",\"y\":[2754],\"yaxis\":\"y\",\"type\":\"bar\"}],                        {\"template\":{\"data\":{\"histogram2dcontour\":[{\"type\":\"histogram2dcontour\",\"colorbar\":{\"outlinewidth\":0,\"ticks\":\"\"},\"colorscale\":[[0.0,\"#0d0887\"],[0.1111111111111111,\"#46039f\"],[0.2222222222222222,\"#7201a8\"],[0.3333333333333333,\"#9c179e\"],[0.4444444444444444,\"#bd3786\"],[0.5555555555555556,\"#d8576b\"],[0.6666666666666666,\"#ed7953\"],[0.7777777777777778,\"#fb9f3a\"],[0.8888888888888888,\"#fdca26\"],[1.0,\"#f0f921\"]]}],\"choropleth\":[{\"type\":\"choropleth\",\"colorbar\":{\"outlinewidth\":0,\"ticks\":\"\"}}],\"histogram2d\":[{\"type\":\"histogram2d\",\"colorbar\":{\"outlinewidth\":0,\"ticks\":\"\"},\"colorscale\":[[0.0,\"#0d0887\"],[0.1111111111111111,\"#46039f\"],[0.2222222222222222,\"#7201a8\"],[0.3333333333333333,\"#9c179e\"],[0.4444444444444444,\"#bd3786\"],[0.5555555555555556,\"#d8576b\"],[0.6666666666666666,\"#ed7953\"],[0.7777777777777778,\"#fb9f3a\"],[0.8888888888888888,\"#fdca26\"],[1.0,\"#f0f921\"]]}],\"heatmap\":[{\"type\":\"heatmap\",\"colorbar\":{\"outlinewidth\":0,\"ticks\":\"\"},\"colorscale\":[[0.0,\"#0d0887\"],[0.1111111111111111,\"#46039f\"],[0.2222222222222222,\"#7201a8\"],[0.3333333333333333,\"#9c179e\"],[0.4444444444444444,\"#bd3786\"],[0.5555555555555556,\"#d8576b\"],[0.6666666666666666,\"#ed7953\"],[0.7777777777777778,\"#fb9f3a\"],[0.8888888888888888,\"#fdca26\"],[1.0,\"#f0f921\"]]}],\"heatmapgl\":[{\"type\":\"heatmapgl\",\"colorbar\":{\"outlinewidth\":0,\"ticks\":\"\"},\"colorscale\":[[0.0,\"#0d0887\"],[0.1111111111111111,\"#46039f\"],[0.2222222222222222,\"#7201a8\"],[0.3333333333333333,\"#9c179e\"],[0.4444444444444444,\"#bd3786\"],[0.5555555555555556,\"#d8576b\"],[0.6666666666666666,\"#ed7953\"],[0.7777777777777778,\"#fb9f3a\"],[0.8888888888888888,\"#fdca26\"],[1.0,\"#f0f921\"]]}],\"contourcarpet\":[{\"type\":\"contourcarpet\",\"colorbar\":{\"outlinewidth\":0,\"ticks\":\"\"}}],\"contour\":[{\"type\":\"contour\",\"colorbar\":{\"outlinewidth\":0,\"ticks\":\"\"},\"colorscale\":[[0.0,\"#0d0887\"],[0.1111111111111111,\"#46039f\"],[0.2222222222222222,\"#7201a8\"],[0.3333333333333333,\"#9c179e\"],[0.4444444444444444,\"#bd3786\"],[0.5555555555555556,\"#d8576b\"],[0.6666666666666666,\"#ed7953\"],[0.7777777777777778,\"#fb9f3a\"],[0.8888888888888888,\"#fdca26\"],[1.0,\"#f0f921\"]]}],\"surface\":[{\"type\":\"surface\",\"colorbar\":{\"outlinewidth\":0,\"ticks\":\"\"},\"colorscale\":[[0.0,\"#0d0887\"],[0.1111111111111111,\"#46039f\"],[0.2222222222222222,\"#7201a8\"],[0.3333333333333333,\"#9c179e\"],[0.4444444444444444,\"#bd3786\"],[0.5555555555555556,\"#d8576b\"],[0.6666666666666666,\"#ed7953\"],[0.7777777777777778,\"#fb9f3a\"],[0.8888888888888888,\"#fdca26\"],[1.0,\"#f0f921\"]]}],\"mesh3d\":[{\"type\":\"mesh3d\",\"colorbar\":{\"outlinewidth\":0,\"ticks\":\"\"}}],\"scatter\":[{\"fillpattern\":{\"fillmode\":\"overlay\",\"size\":10,\"solidity\":0.2},\"type\":\"scatter\"}],\"parcoords\":[{\"type\":\"parcoords\",\"line\":{\"colorbar\":{\"outlinewidth\":0,\"ticks\":\"\"}}}],\"scatterpolargl\":[{\"type\":\"scatterpolargl\",\"marker\":{\"colorbar\":{\"outlinewidth\":0,\"ticks\":\"\"}}}],\"bar\":[{\"error_x\":{\"color\":\"#2a3f5f\"},\"error_y\":{\"color\":\"#2a3f5f\"},\"marker\":{\"line\":{\"color\":\"#E5ECF6\",\"width\":0.5},\"pattern\":{\"fillmode\":\"overlay\",\"size\":10,\"solidity\":0.2}},\"type\":\"bar\"}],\"scattergeo\":[{\"type\":\"scattergeo\",\"marker\":{\"colorbar\":{\"outlinewidth\":0,\"ticks\":\"\"}}}],\"scatterpolar\":[{\"type\":\"scatterpolar\",\"marker\":{\"colorbar\":{\"outlinewidth\":0,\"ticks\":\"\"}}}],\"histogram\":[{\"marker\":{\"pattern\":{\"fillmode\":\"overlay\",\"size\":10,\"solidity\":0.2}},\"type\":\"histogram\"}],\"scattergl\":[{\"type\":\"scattergl\",\"marker\":{\"colorbar\":{\"outlinewidth\":0,\"ticks\":\"\"}}}],\"scatter3d\":[{\"type\":\"scatter3d\",\"line\":{\"colorbar\":{\"outlinewidth\":0,\"ticks\":\"\"}},\"marker\":{\"colorbar\":{\"outlinewidth\":0,\"ticks\":\"\"}}}],\"scattermapbox\":[{\"type\":\"scattermapbox\",\"marker\":{\"colorbar\":{\"outlinewidth\":0,\"ticks\":\"\"}}}],\"scatterternary\":[{\"type\":\"scatterternary\",\"marker\":{\"colorbar\":{\"outlinewidth\":0,\"ticks\":\"\"}}}],\"scattercarpet\":[{\"type\":\"scattercarpet\",\"marker\":{\"colorbar\":{\"outlinewidth\":0,\"ticks\":\"\"}}}],\"carpet\":[{\"aaxis\":{\"endlinecolor\":\"#2a3f5f\",\"gridcolor\":\"white\",\"linecolor\":\"white\",\"minorgridcolor\":\"white\",\"startlinecolor\":\"#2a3f5f\"},\"baxis\":{\"endlinecolor\":\"#2a3f5f\",\"gridcolor\":\"white\",\"linecolor\":\"white\",\"minorgridcolor\":\"white\",\"startlinecolor\":\"#2a3f5f\"},\"type\":\"carpet\"}],\"table\":[{\"cells\":{\"fill\":{\"color\":\"#EBF0F8\"},\"line\":{\"color\":\"white\"}},\"header\":{\"fill\":{\"color\":\"#C8D4E3\"},\"line\":{\"color\":\"white\"}},\"type\":\"table\"}],\"barpolar\":[{\"marker\":{\"line\":{\"color\":\"#E5ECF6\",\"width\":0.5},\"pattern\":{\"fillmode\":\"overlay\",\"size\":10,\"solidity\":0.2}},\"type\":\"barpolar\"}],\"pie\":[{\"automargin\":true,\"type\":\"pie\"}]},\"layout\":{\"autotypenumbers\":\"strict\",\"colorway\":[\"#636efa\",\"#EF553B\",\"#00cc96\",\"#ab63fa\",\"#FFA15A\",\"#19d3f3\",\"#FF6692\",\"#B6E880\",\"#FF97FF\",\"#FECB52\"],\"font\":{\"color\":\"#2a3f5f\"},\"hovermode\":\"closest\",\"hoverlabel\":{\"align\":\"left\"},\"paper_bgcolor\":\"white\",\"plot_bgcolor\":\"#E5ECF6\",\"polar\":{\"bgcolor\":\"#E5ECF6\",\"angularaxis\":{\"gridcolor\":\"white\",\"linecolor\":\"white\",\"ticks\":\"\"},\"radialaxis\":{\"gridcolor\":\"white\",\"linecolor\":\"white\",\"ticks\":\"\"}},\"ternary\":{\"bgcolor\":\"#E5ECF6\",\"aaxis\":{\"gridcolor\":\"white\",\"linecolor\":\"white\",\"ticks\":\"\"},\"baxis\":{\"gridcolor\":\"white\",\"linecolor\":\"white\",\"ticks\":\"\"},\"caxis\":{\"gridcolor\":\"white\",\"linecolor\":\"white\",\"ticks\":\"\"}},\"coloraxis\":{\"colorbar\":{\"outlinewidth\":0,\"ticks\":\"\"}},\"colorscale\":{\"sequential\":[[0.0,\"#0d0887\"],[0.1111111111111111,\"#46039f\"],[0.2222222222222222,\"#7201a8\"],[0.3333333333333333,\"#9c179e\"],[0.4444444444444444,\"#bd3786\"],[0.5555555555555556,\"#d8576b\"],[0.6666666666666666,\"#ed7953\"],[0.7777777777777778,\"#fb9f3a\"],[0.8888888888888888,\"#fdca26\"],[1.0,\"#f0f921\"]],\"sequentialminus\":[[0.0,\"#0d0887\"],[0.1111111111111111,\"#46039f\"],[0.2222222222222222,\"#7201a8\"],[0.3333333333333333,\"#9c179e\"],[0.4444444444444444,\"#bd3786\"],[0.5555555555555556,\"#d8576b\"],[0.6666666666666666,\"#ed7953\"],[0.7777777777777778,\"#fb9f3a\"],[0.8888888888888888,\"#fdca26\"],[1.0,\"#f0f921\"]],\"diverging\":[[0,\"#8e0152\"],[0.1,\"#c51b7d\"],[0.2,\"#de77ae\"],[0.3,\"#f1b6da\"],[0.4,\"#fde0ef\"],[0.5,\"#f7f7f7\"],[0.6,\"#e6f5d0\"],[0.7,\"#b8e186\"],[0.8,\"#7fbc41\"],[0.9,\"#4d9221\"],[1,\"#276419\"]]},\"xaxis\":{\"gridcolor\":\"white\",\"linecolor\":\"white\",\"ticks\":\"\",\"title\":{\"standoff\":15},\"zerolinecolor\":\"white\",\"automargin\":true,\"zerolinewidth\":2},\"yaxis\":{\"gridcolor\":\"white\",\"linecolor\":\"white\",\"ticks\":\"\",\"title\":{\"standoff\":15},\"zerolinecolor\":\"white\",\"automargin\":true,\"zerolinewidth\":2},\"scene\":{\"xaxis\":{\"backgroundcolor\":\"#E5ECF6\",\"gridcolor\":\"white\",\"linecolor\":\"white\",\"showbackground\":true,\"ticks\":\"\",\"zerolinecolor\":\"white\",\"gridwidth\":2},\"yaxis\":{\"backgroundcolor\":\"#E5ECF6\",\"gridcolor\":\"white\",\"linecolor\":\"white\",\"showbackground\":true,\"ticks\":\"\",\"zerolinecolor\":\"white\",\"gridwidth\":2},\"zaxis\":{\"backgroundcolor\":\"#E5ECF6\",\"gridcolor\":\"white\",\"linecolor\":\"white\",\"showbackground\":true,\"ticks\":\"\",\"zerolinecolor\":\"white\",\"gridwidth\":2}},\"shapedefaults\":{\"line\":{\"color\":\"#2a3f5f\"}},\"annotationdefaults\":{\"arrowcolor\":\"#2a3f5f\",\"arrowhead\":0,\"arrowwidth\":1},\"geo\":{\"bgcolor\":\"white\",\"landcolor\":\"#E5ECF6\",\"subunitcolor\":\"white\",\"showland\":true,\"showlakes\":true,\"lakecolor\":\"white\"},\"title\":{\"x\":0.05},\"mapbox\":{\"style\":\"light\"}}},\"xaxis\":{\"anchor\":\"y\",\"domain\":[0.0,1.0],\"title\":{\"text\":\"cause_name\"}},\"yaxis\":{\"anchor\":\"x\",\"domain\":[0.0,1.0],\"title\":{\"text\":\"Total\"}},\"legend\":{\"title\":{\"text\":\"Edad\"},\"tracegroupgap\":0},\"title\":{\"text\":\"Mostly causes 1982\"},\"barmode\":\"relative\",\"height\":1000,\"width\":900},                        {\"responsive\": true}                    ).then(function(){\n",
       "                            \n",
       "var gd = document.getElementById('aa946401-0988-4cbe-af14-24e586aa591f');\n",
       "var x = new MutationObserver(function (mutations, observer) {{\n",
       "        var display = window.getComputedStyle(gd).display;\n",
       "        if (!display || display === 'none') {{\n",
       "            console.log([gd, 'removed!']);\n",
       "            Plotly.purge(gd);\n",
       "            observer.disconnect();\n",
       "        }}\n",
       "}});\n",
       "\n",
       "// Listen for the removal of the full notebook cells\n",
       "var notebookContainer = gd.closest('#notebook-container');\n",
       "if (notebookContainer) {{\n",
       "    x.observe(notebookContainer, {childList: true});\n",
       "}}\n",
       "\n",
       "// Listen for the clearing of the current output cell\n",
       "var outputEl = gd.closest('.output');\n",
       "if (outputEl) {{\n",
       "    x.observe(outputEl, {childList: true});\n",
       "}}\n",
       "\n",
       "                        })                };                });            </script>        </div>"
      ]
     },
     "metadata": {},
     "output_type": "display_data"
    }
   ],
   "source": [
    "# Year 1982 most frequent causes by age\n",
    "year = 1982\n",
    "sex = 'Total'\n",
    "age = 'Todas las edades'\n",
    "cause = 'Single cause'\n",
    "mask = (deaths['Periodo'] == year) & (deaths['Sexo'] == sex) & (deaths['cause_group'] == cause)  & (deaths['Edad'] != age)\n",
    "deaths_year_sex = deaths[mask]\n",
    "deaths_year_sex\n",
    "deaths_max = deaths_year_sex.loc[deaths_year_sex.groupby(['Edad'])['Total'].idxmax().reset_index(drop=True)]\n",
    "deaths_max.sort_values('Edad')\n",
    "\n",
    "graph = px.bar(deaths_max, \n",
    "               x = \"cause_name\", \n",
    "               y = \"Total\", \n",
    "               color = \"Edad\", \n",
    "               title = \"Mostly causes 1982\",\n",
    "               width=900, height=1000)\n",
    "graph.show()\n"
   ]
  },
  {
   "cell_type": "code",
   "execution_count": 49,
   "metadata": {},
   "outputs": [
    {
     "data": {
      "application/vnd.plotly.v1+json": {
       "config": {
        "plotlyServerURL": "https://plot.ly"
       },
       "data": [
        {
         "alignmentgroup": "True",
         "hovertemplate": "Edad=95 y más años<br>cause_name=%{x}<br>Total=%{y}<extra></extra>",
         "legendgroup": "95 y más años",
         "marker": {
          "color": "#636efa",
          "pattern": {
           "shape": ""
          }
         },
         "name": "95 y más años",
         "offsetgroup": "95 y más años",
         "orientation": "v",
         "showlegend": true,
         "textposition": "auto",
         "type": "bar",
         "x": [
          "Insuficiencia cardíaca"
         ],
         "xaxis": "x",
         "y": [
          1762
         ],
         "yaxis": "y"
        },
        {
         "alignmentgroup": "True",
         "hovertemplate": "Edad=De 1 a 4 años<br>cause_name=%{x}<br>Total=%{y}<extra></extra>",
         "legendgroup": "De 1 a 4 años",
         "marker": {
          "color": "#EF553B",
          "pattern": {
           "shape": ""
          }
         },
         "name": "De 1 a 4 años",
         "offsetgroup": "De 1 a 4 años",
         "orientation": "v",
         "showlegend": true,
         "textposition": "auto",
         "type": "bar",
         "x": [
          "Accidentes de tráfico"
         ],
         "xaxis": "x",
         "y": [
          38
         ],
         "yaxis": "y"
        },
        {
         "alignmentgroup": "True",
         "hovertemplate": "Edad=De 10 a 14 años  <br>cause_name=%{x}<br>Total=%{y}<extra></extra>",
         "legendgroup": "De 10 a 14 años  ",
         "marker": {
          "color": "#00cc96",
          "pattern": {
           "shape": ""
          }
         },
         "name": "De 10 a 14 años  ",
         "offsetgroup": "De 10 a 14 años  ",
         "orientation": "v",
         "showlegend": true,
         "textposition": "auto",
         "type": "bar",
         "x": [
          "Accidentes de tráfico"
         ],
         "xaxis": "x",
         "y": [
          110
         ],
         "yaxis": "y"
        },
        {
         "alignmentgroup": "True",
         "hovertemplate": "Edad=De 15 a 19 años  <br>cause_name=%{x}<br>Total=%{y}<extra></extra>",
         "legendgroup": "De 15 a 19 años  ",
         "marker": {
          "color": "#ab63fa",
          "pattern": {
           "shape": ""
          }
         },
         "name": "De 15 a 19 años  ",
         "offsetgroup": "De 15 a 19 años  ",
         "orientation": "v",
         "showlegend": true,
         "textposition": "auto",
         "type": "bar",
         "x": [
          "Accidentes de tráfico"
         ],
         "xaxis": "x",
         "y": [
          525
         ],
         "yaxis": "y"
        },
        {
         "alignmentgroup": "True",
         "hovertemplate": "Edad=De 20 a 24 años<br>cause_name=%{x}<br>Total=%{y}<extra></extra>",
         "legendgroup": "De 20 a 24 años",
         "marker": {
          "color": "#FFA15A",
          "pattern": {
           "shape": ""
          }
         },
         "name": "De 20 a 24 años",
         "offsetgroup": "De 20 a 24 años",
         "orientation": "v",
         "showlegend": true,
         "textposition": "auto",
         "type": "bar",
         "x": [
          "Accidentes de tráfico"
         ],
         "xaxis": "x",
         "y": [
          829
         ],
         "yaxis": "y"
        },
        {
         "alignmentgroup": "True",
         "hovertemplate": "Edad=De 25 a 29 años<br>cause_name=%{x}<br>Total=%{y}<extra></extra>",
         "legendgroup": "De 25 a 29 años",
         "marker": {
          "color": "#19d3f3",
          "pattern": {
           "shape": ""
          }
         },
         "name": "De 25 a 29 años",
         "offsetgroup": "De 25 a 29 años",
         "orientation": "v",
         "showlegend": true,
         "textposition": "auto",
         "type": "bar",
         "x": [
          "Accidentes de tráfico"
         ],
         "xaxis": "x",
         "y": [
          683
         ],
         "yaxis": "y"
        },
        {
         "alignmentgroup": "True",
         "hovertemplate": "Edad=De 30 a 34 años<br>cause_name=%{x}<br>Total=%{y}<extra></extra>",
         "legendgroup": "De 30 a 34 años",
         "marker": {
          "color": "#FF6692",
          "pattern": {
           "shape": ""
          }
         },
         "name": "De 30 a 34 años",
         "offsetgroup": "De 30 a 34 años",
         "orientation": "v",
         "showlegend": true,
         "textposition": "auto",
         "type": "bar",
         "x": [
          "Accidentes de tráfico"
         ],
         "xaxis": "x",
         "y": [
          517
         ],
         "yaxis": "y"
        },
        {
         "alignmentgroup": "True",
         "hovertemplate": "Edad=De 35 a 39 años<br>cause_name=%{x}<br>Total=%{y}<extra></extra>",
         "legendgroup": "De 35 a 39 años",
         "marker": {
          "color": "#B6E880",
          "pattern": {
           "shape": ""
          }
         },
         "name": "De 35 a 39 años",
         "offsetgroup": "De 35 a 39 años",
         "orientation": "v",
         "showlegend": true,
         "textposition": "auto",
         "type": "bar",
         "x": [
          "SIDA"
         ],
         "xaxis": "x",
         "y": [
          532
         ],
         "yaxis": "y"
        },
        {
         "alignmentgroup": "True",
         "hovertemplate": "Edad=De 40 a 44 años<br>cause_name=%{x}<br>Total=%{y}<extra></extra>",
         "legendgroup": "De 40 a 44 años",
         "marker": {
          "color": "#FF97FF",
          "pattern": {
           "shape": ""
          }
         },
         "name": "De 40 a 44 años",
         "offsetgroup": "De 40 a 44 años",
         "orientation": "v",
         "showlegend": true,
         "textposition": "auto",
         "type": "bar",
         "x": [
          "Accidentes de tráfico"
         ],
         "xaxis": "x",
         "y": [
          413
         ],
         "yaxis": "y"
        },
        {
         "alignmentgroup": "True",
         "hovertemplate": "Edad=De 45 a 49 años<br>cause_name=%{x}<br>Total=%{y}<extra></extra>",
         "legendgroup": "De 45 a 49 años",
         "marker": {
          "color": "#FECB52",
          "pattern": {
           "shape": ""
          }
         },
         "name": "De 45 a 49 años",
         "offsetgroup": "De 45 a 49 años",
         "orientation": "v",
         "showlegend": true,
         "textposition": "auto",
         "type": "bar",
         "x": [
          "Tumor maligno de la tráquea, de los bronquios y del pulmón"
         ],
         "xaxis": "x",
         "y": [
          740
         ],
         "yaxis": "y"
        },
        {
         "alignmentgroup": "True",
         "hovertemplate": "Edad=De 5 a 9 años<br>cause_name=%{x}<br>Total=%{y}<extra></extra>",
         "legendgroup": "De 5 a 9 años",
         "marker": {
          "color": "#636efa",
          "pattern": {
           "shape": ""
          }
         },
         "name": "De 5 a 9 años",
         "offsetgroup": "De 5 a 9 años",
         "orientation": "v",
         "showlegend": true,
         "textposition": "auto",
         "type": "bar",
         "x": [
          "Accidentes de tráfico"
         ],
         "xaxis": "x",
         "y": [
          50
         ],
         "yaxis": "y"
        },
        {
         "alignmentgroup": "True",
         "hovertemplate": "Edad=De 50 a 54 años<br>cause_name=%{x}<br>Total=%{y}<extra></extra>",
         "legendgroup": "De 50 a 54 años",
         "marker": {
          "color": "#EF553B",
          "pattern": {
           "shape": ""
          }
         },
         "name": "De 50 a 54 años",
         "offsetgroup": "De 50 a 54 años",
         "orientation": "v",
         "showlegend": true,
         "textposition": "auto",
         "type": "bar",
         "x": [
          "Tumor maligno de la tráquea, de los bronquios y del pulmón"
         ],
         "xaxis": "x",
         "y": [
          1105
         ],
         "yaxis": "y"
        },
        {
         "alignmentgroup": "True",
         "hovertemplate": "Edad=De 55 a 59 años<br>cause_name=%{x}<br>Total=%{y}<extra></extra>",
         "legendgroup": "De 55 a 59 años",
         "marker": {
          "color": "#00cc96",
          "pattern": {
           "shape": ""
          }
         },
         "name": "De 55 a 59 años",
         "offsetgroup": "De 55 a 59 años",
         "orientation": "v",
         "showlegend": true,
         "textposition": "auto",
         "type": "bar",
         "x": [
          "Tumor maligno de la tráquea, de los bronquios y del pulmón"
         ],
         "xaxis": "x",
         "y": [
          1481
         ],
         "yaxis": "y"
        },
        {
         "alignmentgroup": "True",
         "hovertemplate": "Edad=De 60 a 64 años<br>cause_name=%{x}<br>Total=%{y}<extra></extra>",
         "legendgroup": "De 60 a 64 años",
         "marker": {
          "color": "#ab63fa",
          "pattern": {
           "shape": ""
          }
         },
         "name": "De 60 a 64 años",
         "offsetgroup": "De 60 a 64 años",
         "orientation": "v",
         "showlegend": true,
         "textposition": "auto",
         "type": "bar",
         "x": [
          "Tumor maligno de la tráquea, de los bronquios y del pulmón"
         ],
         "xaxis": "x",
         "y": [
          1920
         ],
         "yaxis": "y"
        },
        {
         "alignmentgroup": "True",
         "hovertemplate": "Edad=De 65 a 69 años<br>cause_name=%{x}<br>Total=%{y}<extra></extra>",
         "legendgroup": "De 65 a 69 años",
         "marker": {
          "color": "#FFA15A",
          "pattern": {
           "shape": ""
          }
         },
         "name": "De 65 a 69 años",
         "offsetgroup": "De 65 a 69 años",
         "orientation": "v",
         "showlegend": true,
         "textposition": "auto",
         "type": "bar",
         "x": [
          "Tumor maligno de la tráquea, de los bronquios y del pulmón"
         ],
         "xaxis": "x",
         "y": [
          2848
         ],
         "yaxis": "y"
        },
        {
         "alignmentgroup": "True",
         "hovertemplate": "Edad=De 70 a 74 años  <br>cause_name=%{x}<br>Total=%{y}<extra></extra>",
         "legendgroup": "De 70 a 74 años  ",
         "marker": {
          "color": "#19d3f3",
          "pattern": {
           "shape": ""
          }
         },
         "name": "De 70 a 74 años  ",
         "offsetgroup": "De 70 a 74 años  ",
         "orientation": "v",
         "showlegend": true,
         "textposition": "auto",
         "type": "bar",
         "x": [
          "Infarto agudo de miocardio"
         ],
         "xaxis": "x",
         "y": [
          3617
         ],
         "yaxis": "y"
        },
        {
         "alignmentgroup": "True",
         "hovertemplate": "Edad=De 75 a 79 años  <br>cause_name=%{x}<br>Total=%{y}<extra></extra>",
         "legendgroup": "De 75 a 79 años  ",
         "marker": {
          "color": "#FF6692",
          "pattern": {
           "shape": ""
          }
         },
         "name": "De 75 a 79 años  ",
         "offsetgroup": "De 75 a 79 años  ",
         "orientation": "v",
         "showlegend": true,
         "textposition": "auto",
         "type": "bar",
         "x": [
          "Enfermedades cerebrovasculares"
         ],
         "xaxis": "x",
         "y": [
          5965
         ],
         "yaxis": "y"
        },
        {
         "alignmentgroup": "True",
         "hovertemplate": "Edad=De 80 a 84 años  <br>cause_name=%{x}<br>Total=%{y}<extra></extra>",
         "legendgroup": "De 80 a 84 años  ",
         "marker": {
          "color": "#B6E880",
          "pattern": {
           "shape": ""
          }
         },
         "name": "De 80 a 84 años  ",
         "offsetgroup": "De 80 a 84 años  ",
         "orientation": "v",
         "showlegend": true,
         "textposition": "auto",
         "type": "bar",
         "x": [
          "Enfermedades cerebrovasculares"
         ],
         "xaxis": "x",
         "y": [
          7628
         ],
         "yaxis": "y"
        },
        {
         "alignmentgroup": "True",
         "hovertemplate": "Edad=De 85 a 89 años  <br>cause_name=%{x}<br>Total=%{y}<extra></extra>",
         "legendgroup": "De 85 a 89 años  ",
         "marker": {
          "color": "#FF97FF",
          "pattern": {
           "shape": ""
          }
         },
         "name": "De 85 a 89 años  ",
         "offsetgroup": "De 85 a 89 años  ",
         "orientation": "v",
         "showlegend": true,
         "textposition": "auto",
         "type": "bar",
         "x": [
          "Enfermedades cerebrovasculares"
         ],
         "xaxis": "x",
         "y": [
          8355
         ],
         "yaxis": "y"
        },
        {
         "alignmentgroup": "True",
         "hovertemplate": "Edad=De 90 a 94 años  <br>cause_name=%{x}<br>Total=%{y}<extra></extra>",
         "legendgroup": "De 90 a 94 años  ",
         "marker": {
          "color": "#FECB52",
          "pattern": {
           "shape": ""
          }
         },
         "name": "De 90 a 94 años  ",
         "offsetgroup": "De 90 a 94 años  ",
         "orientation": "v",
         "showlegend": true,
         "textposition": "auto",
         "type": "bar",
         "x": [
          "Enfermedades cerebrovasculares"
         ],
         "xaxis": "x",
         "y": [
          5137
         ],
         "yaxis": "y"
        },
        {
         "alignmentgroup": "True",
         "hovertemplate": "Edad=Menos de 1 año<br>cause_name=%{x}<br>Total=%{y}<extra></extra>",
         "legendgroup": "Menos de 1 año",
         "marker": {
          "color": "#636efa",
          "pattern": {
           "shape": ""
          }
         },
         "name": "Menos de 1 año",
         "offsetgroup": "Menos de 1 año",
         "orientation": "v",
         "showlegend": true,
         "textposition": "auto",
         "type": "bar",
         "x": [
          "XVI.Afecciones originadas en el periodo perinatal"
         ],
         "xaxis": "x",
         "y": [
          831
         ],
         "yaxis": "y"
        }
       ],
       "layout": {
        "barmode": "relative",
        "height": 1000,
        "legend": {
         "title": {
          "text": "Edad"
         },
         "tracegroupgap": 0
        },
        "template": {
         "data": {
          "bar": [
           {
            "error_x": {
             "color": "#2a3f5f"
            },
            "error_y": {
             "color": "#2a3f5f"
            },
            "marker": {
             "line": {
              "color": "#E5ECF6",
              "width": 0.5
             },
             "pattern": {
              "fillmode": "overlay",
              "size": 10,
              "solidity": 0.2
             }
            },
            "type": "bar"
           }
          ],
          "barpolar": [
           {
            "marker": {
             "line": {
              "color": "#E5ECF6",
              "width": 0.5
             },
             "pattern": {
              "fillmode": "overlay",
              "size": 10,
              "solidity": 0.2
             }
            },
            "type": "barpolar"
           }
          ],
          "carpet": [
           {
            "aaxis": {
             "endlinecolor": "#2a3f5f",
             "gridcolor": "white",
             "linecolor": "white",
             "minorgridcolor": "white",
             "startlinecolor": "#2a3f5f"
            },
            "baxis": {
             "endlinecolor": "#2a3f5f",
             "gridcolor": "white",
             "linecolor": "white",
             "minorgridcolor": "white",
             "startlinecolor": "#2a3f5f"
            },
            "type": "carpet"
           }
          ],
          "choropleth": [
           {
            "colorbar": {
             "outlinewidth": 0,
             "ticks": ""
            },
            "type": "choropleth"
           }
          ],
          "contour": [
           {
            "colorbar": {
             "outlinewidth": 0,
             "ticks": ""
            },
            "colorscale": [
             [
              0,
              "#0d0887"
             ],
             [
              0.1111111111111111,
              "#46039f"
             ],
             [
              0.2222222222222222,
              "#7201a8"
             ],
             [
              0.3333333333333333,
              "#9c179e"
             ],
             [
              0.4444444444444444,
              "#bd3786"
             ],
             [
              0.5555555555555556,
              "#d8576b"
             ],
             [
              0.6666666666666666,
              "#ed7953"
             ],
             [
              0.7777777777777778,
              "#fb9f3a"
             ],
             [
              0.8888888888888888,
              "#fdca26"
             ],
             [
              1,
              "#f0f921"
             ]
            ],
            "type": "contour"
           }
          ],
          "contourcarpet": [
           {
            "colorbar": {
             "outlinewidth": 0,
             "ticks": ""
            },
            "type": "contourcarpet"
           }
          ],
          "heatmap": [
           {
            "colorbar": {
             "outlinewidth": 0,
             "ticks": ""
            },
            "colorscale": [
             [
              0,
              "#0d0887"
             ],
             [
              0.1111111111111111,
              "#46039f"
             ],
             [
              0.2222222222222222,
              "#7201a8"
             ],
             [
              0.3333333333333333,
              "#9c179e"
             ],
             [
              0.4444444444444444,
              "#bd3786"
             ],
             [
              0.5555555555555556,
              "#d8576b"
             ],
             [
              0.6666666666666666,
              "#ed7953"
             ],
             [
              0.7777777777777778,
              "#fb9f3a"
             ],
             [
              0.8888888888888888,
              "#fdca26"
             ],
             [
              1,
              "#f0f921"
             ]
            ],
            "type": "heatmap"
           }
          ],
          "heatmapgl": [
           {
            "colorbar": {
             "outlinewidth": 0,
             "ticks": ""
            },
            "colorscale": [
             [
              0,
              "#0d0887"
             ],
             [
              0.1111111111111111,
              "#46039f"
             ],
             [
              0.2222222222222222,
              "#7201a8"
             ],
             [
              0.3333333333333333,
              "#9c179e"
             ],
             [
              0.4444444444444444,
              "#bd3786"
             ],
             [
              0.5555555555555556,
              "#d8576b"
             ],
             [
              0.6666666666666666,
              "#ed7953"
             ],
             [
              0.7777777777777778,
              "#fb9f3a"
             ],
             [
              0.8888888888888888,
              "#fdca26"
             ],
             [
              1,
              "#f0f921"
             ]
            ],
            "type": "heatmapgl"
           }
          ],
          "histogram": [
           {
            "marker": {
             "pattern": {
              "fillmode": "overlay",
              "size": 10,
              "solidity": 0.2
             }
            },
            "type": "histogram"
           }
          ],
          "histogram2d": [
           {
            "colorbar": {
             "outlinewidth": 0,
             "ticks": ""
            },
            "colorscale": [
             [
              0,
              "#0d0887"
             ],
             [
              0.1111111111111111,
              "#46039f"
             ],
             [
              0.2222222222222222,
              "#7201a8"
             ],
             [
              0.3333333333333333,
              "#9c179e"
             ],
             [
              0.4444444444444444,
              "#bd3786"
             ],
             [
              0.5555555555555556,
              "#d8576b"
             ],
             [
              0.6666666666666666,
              "#ed7953"
             ],
             [
              0.7777777777777778,
              "#fb9f3a"
             ],
             [
              0.8888888888888888,
              "#fdca26"
             ],
             [
              1,
              "#f0f921"
             ]
            ],
            "type": "histogram2d"
           }
          ],
          "histogram2dcontour": [
           {
            "colorbar": {
             "outlinewidth": 0,
             "ticks": ""
            },
            "colorscale": [
             [
              0,
              "#0d0887"
             ],
             [
              0.1111111111111111,
              "#46039f"
             ],
             [
              0.2222222222222222,
              "#7201a8"
             ],
             [
              0.3333333333333333,
              "#9c179e"
             ],
             [
              0.4444444444444444,
              "#bd3786"
             ],
             [
              0.5555555555555556,
              "#d8576b"
             ],
             [
              0.6666666666666666,
              "#ed7953"
             ],
             [
              0.7777777777777778,
              "#fb9f3a"
             ],
             [
              0.8888888888888888,
              "#fdca26"
             ],
             [
              1,
              "#f0f921"
             ]
            ],
            "type": "histogram2dcontour"
           }
          ],
          "mesh3d": [
           {
            "colorbar": {
             "outlinewidth": 0,
             "ticks": ""
            },
            "type": "mesh3d"
           }
          ],
          "parcoords": [
           {
            "line": {
             "colorbar": {
              "outlinewidth": 0,
              "ticks": ""
             }
            },
            "type": "parcoords"
           }
          ],
          "pie": [
           {
            "automargin": true,
            "type": "pie"
           }
          ],
          "scatter": [
           {
            "fillpattern": {
             "fillmode": "overlay",
             "size": 10,
             "solidity": 0.2
            },
            "type": "scatter"
           }
          ],
          "scatter3d": [
           {
            "line": {
             "colorbar": {
              "outlinewidth": 0,
              "ticks": ""
             }
            },
            "marker": {
             "colorbar": {
              "outlinewidth": 0,
              "ticks": ""
             }
            },
            "type": "scatter3d"
           }
          ],
          "scattercarpet": [
           {
            "marker": {
             "colorbar": {
              "outlinewidth": 0,
              "ticks": ""
             }
            },
            "type": "scattercarpet"
           }
          ],
          "scattergeo": [
           {
            "marker": {
             "colorbar": {
              "outlinewidth": 0,
              "ticks": ""
             }
            },
            "type": "scattergeo"
           }
          ],
          "scattergl": [
           {
            "marker": {
             "colorbar": {
              "outlinewidth": 0,
              "ticks": ""
             }
            },
            "type": "scattergl"
           }
          ],
          "scattermapbox": [
           {
            "marker": {
             "colorbar": {
              "outlinewidth": 0,
              "ticks": ""
             }
            },
            "type": "scattermapbox"
           }
          ],
          "scatterpolar": [
           {
            "marker": {
             "colorbar": {
              "outlinewidth": 0,
              "ticks": ""
             }
            },
            "type": "scatterpolar"
           }
          ],
          "scatterpolargl": [
           {
            "marker": {
             "colorbar": {
              "outlinewidth": 0,
              "ticks": ""
             }
            },
            "type": "scatterpolargl"
           }
          ],
          "scatterternary": [
           {
            "marker": {
             "colorbar": {
              "outlinewidth": 0,
              "ticks": ""
             }
            },
            "type": "scatterternary"
           }
          ],
          "surface": [
           {
            "colorbar": {
             "outlinewidth": 0,
             "ticks": ""
            },
            "colorscale": [
             [
              0,
              "#0d0887"
             ],
             [
              0.1111111111111111,
              "#46039f"
             ],
             [
              0.2222222222222222,
              "#7201a8"
             ],
             [
              0.3333333333333333,
              "#9c179e"
             ],
             [
              0.4444444444444444,
              "#bd3786"
             ],
             [
              0.5555555555555556,
              "#d8576b"
             ],
             [
              0.6666666666666666,
              "#ed7953"
             ],
             [
              0.7777777777777778,
              "#fb9f3a"
             ],
             [
              0.8888888888888888,
              "#fdca26"
             ],
             [
              1,
              "#f0f921"
             ]
            ],
            "type": "surface"
           }
          ],
          "table": [
           {
            "cells": {
             "fill": {
              "color": "#EBF0F8"
             },
             "line": {
              "color": "white"
             }
            },
            "header": {
             "fill": {
              "color": "#C8D4E3"
             },
             "line": {
              "color": "white"
             }
            },
            "type": "table"
           }
          ]
         },
         "layout": {
          "annotationdefaults": {
           "arrowcolor": "#2a3f5f",
           "arrowhead": 0,
           "arrowwidth": 1
          },
          "autotypenumbers": "strict",
          "coloraxis": {
           "colorbar": {
            "outlinewidth": 0,
            "ticks": ""
           }
          },
          "colorscale": {
           "diverging": [
            [
             0,
             "#8e0152"
            ],
            [
             0.1,
             "#c51b7d"
            ],
            [
             0.2,
             "#de77ae"
            ],
            [
             0.3,
             "#f1b6da"
            ],
            [
             0.4,
             "#fde0ef"
            ],
            [
             0.5,
             "#f7f7f7"
            ],
            [
             0.6,
             "#e6f5d0"
            ],
            [
             0.7,
             "#b8e186"
            ],
            [
             0.8,
             "#7fbc41"
            ],
            [
             0.9,
             "#4d9221"
            ],
            [
             1,
             "#276419"
            ]
           ],
           "sequential": [
            [
             0,
             "#0d0887"
            ],
            [
             0.1111111111111111,
             "#46039f"
            ],
            [
             0.2222222222222222,
             "#7201a8"
            ],
            [
             0.3333333333333333,
             "#9c179e"
            ],
            [
             0.4444444444444444,
             "#bd3786"
            ],
            [
             0.5555555555555556,
             "#d8576b"
            ],
            [
             0.6666666666666666,
             "#ed7953"
            ],
            [
             0.7777777777777778,
             "#fb9f3a"
            ],
            [
             0.8888888888888888,
             "#fdca26"
            ],
            [
             1,
             "#f0f921"
            ]
           ],
           "sequentialminus": [
            [
             0,
             "#0d0887"
            ],
            [
             0.1111111111111111,
             "#46039f"
            ],
            [
             0.2222222222222222,
             "#7201a8"
            ],
            [
             0.3333333333333333,
             "#9c179e"
            ],
            [
             0.4444444444444444,
             "#bd3786"
            ],
            [
             0.5555555555555556,
             "#d8576b"
            ],
            [
             0.6666666666666666,
             "#ed7953"
            ],
            [
             0.7777777777777778,
             "#fb9f3a"
            ],
            [
             0.8888888888888888,
             "#fdca26"
            ],
            [
             1,
             "#f0f921"
            ]
           ]
          },
          "colorway": [
           "#636efa",
           "#EF553B",
           "#00cc96",
           "#ab63fa",
           "#FFA15A",
           "#19d3f3",
           "#FF6692",
           "#B6E880",
           "#FF97FF",
           "#FECB52"
          ],
          "font": {
           "color": "#2a3f5f"
          },
          "geo": {
           "bgcolor": "white",
           "lakecolor": "white",
           "landcolor": "#E5ECF6",
           "showlakes": true,
           "showland": true,
           "subunitcolor": "white"
          },
          "hoverlabel": {
           "align": "left"
          },
          "hovermode": "closest",
          "mapbox": {
           "style": "light"
          },
          "paper_bgcolor": "white",
          "plot_bgcolor": "#E5ECF6",
          "polar": {
           "angularaxis": {
            "gridcolor": "white",
            "linecolor": "white",
            "ticks": ""
           },
           "bgcolor": "#E5ECF6",
           "radialaxis": {
            "gridcolor": "white",
            "linecolor": "white",
            "ticks": ""
           }
          },
          "scene": {
           "xaxis": {
            "backgroundcolor": "#E5ECF6",
            "gridcolor": "white",
            "gridwidth": 2,
            "linecolor": "white",
            "showbackground": true,
            "ticks": "",
            "zerolinecolor": "white"
           },
           "yaxis": {
            "backgroundcolor": "#E5ECF6",
            "gridcolor": "white",
            "gridwidth": 2,
            "linecolor": "white",
            "showbackground": true,
            "ticks": "",
            "zerolinecolor": "white"
           },
           "zaxis": {
            "backgroundcolor": "#E5ECF6",
            "gridcolor": "white",
            "gridwidth": 2,
            "linecolor": "white",
            "showbackground": true,
            "ticks": "",
            "zerolinecolor": "white"
           }
          },
          "shapedefaults": {
           "line": {
            "color": "#2a3f5f"
           }
          },
          "ternary": {
           "aaxis": {
            "gridcolor": "white",
            "linecolor": "white",
            "ticks": ""
           },
           "baxis": {
            "gridcolor": "white",
            "linecolor": "white",
            "ticks": ""
           },
           "bgcolor": "#E5ECF6",
           "caxis": {
            "gridcolor": "white",
            "linecolor": "white",
            "ticks": ""
           }
          },
          "title": {
           "x": 0.05
          },
          "xaxis": {
           "automargin": true,
           "gridcolor": "white",
           "linecolor": "white",
           "ticks": "",
           "title": {
            "standoff": 15
           },
           "zerolinecolor": "white",
           "zerolinewidth": 2
          },
          "yaxis": {
           "automargin": true,
           "gridcolor": "white",
           "linecolor": "white",
           "ticks": "",
           "title": {
            "standoff": 15
           },
           "zerolinecolor": "white",
           "zerolinewidth": 2
          }
         }
        },
        "title": {
         "text": "Mostly causes 2000"
        },
        "width": 900,
        "xaxis": {
         "anchor": "y",
         "domain": [
          0,
          1
         ],
         "title": {
          "text": "cause_name"
         }
        },
        "yaxis": {
         "anchor": "x",
         "domain": [
          0,
          1
         ],
         "title": {
          "text": "Total"
         }
        }
       }
      },
      "text/html": [
       "<div>                            <div id=\"0f121c5f-23d9-44ea-b650-b4c69efc376e\" class=\"plotly-graph-div\" style=\"height:1000px; width:900px;\"></div>            <script type=\"text/javascript\">                require([\"plotly\"], function(Plotly) {                    window.PLOTLYENV=window.PLOTLYENV || {};                                    if (document.getElementById(\"0f121c5f-23d9-44ea-b650-b4c69efc376e\")) {                    Plotly.newPlot(                        \"0f121c5f-23d9-44ea-b650-b4c69efc376e\",                        [{\"alignmentgroup\":\"True\",\"hovertemplate\":\"Edad=95 y m\\u00e1s a\\u00f1os<br>cause_name=%{x}<br>Total=%{y}<extra></extra>\",\"legendgroup\":\"95 y m\\u00e1s a\\u00f1os\",\"marker\":{\"color\":\"#636efa\",\"pattern\":{\"shape\":\"\"}},\"name\":\"95 y m\\u00e1s a\\u00f1os\",\"offsetgroup\":\"95 y m\\u00e1s a\\u00f1os\",\"orientation\":\"v\",\"showlegend\":true,\"textposition\":\"auto\",\"x\":[\"Insuficiencia card\\u00edaca\"],\"xaxis\":\"x\",\"y\":[1762],\"yaxis\":\"y\",\"type\":\"bar\"},{\"alignmentgroup\":\"True\",\"hovertemplate\":\"Edad=De 1 a 4 a\\u00f1os<br>cause_name=%{x}<br>Total=%{y}<extra></extra>\",\"legendgroup\":\"De 1 a 4 a\\u00f1os\",\"marker\":{\"color\":\"#EF553B\",\"pattern\":{\"shape\":\"\"}},\"name\":\"De 1 a 4 a\\u00f1os\",\"offsetgroup\":\"De 1 a 4 a\\u00f1os\",\"orientation\":\"v\",\"showlegend\":true,\"textposition\":\"auto\",\"x\":[\"Accidentes de tr\\u00e1fico\"],\"xaxis\":\"x\",\"y\":[38],\"yaxis\":\"y\",\"type\":\"bar\"},{\"alignmentgroup\":\"True\",\"hovertemplate\":\"Edad=De 10 a 14 a\\u00f1os  <br>cause_name=%{x}<br>Total=%{y}<extra></extra>\",\"legendgroup\":\"De 10 a 14 a\\u00f1os  \",\"marker\":{\"color\":\"#00cc96\",\"pattern\":{\"shape\":\"\"}},\"name\":\"De 10 a 14 a\\u00f1os  \",\"offsetgroup\":\"De 10 a 14 a\\u00f1os  \",\"orientation\":\"v\",\"showlegend\":true,\"textposition\":\"auto\",\"x\":[\"Accidentes de tr\\u00e1fico\"],\"xaxis\":\"x\",\"y\":[110],\"yaxis\":\"y\",\"type\":\"bar\"},{\"alignmentgroup\":\"True\",\"hovertemplate\":\"Edad=De 15 a 19 a\\u00f1os  <br>cause_name=%{x}<br>Total=%{y}<extra></extra>\",\"legendgroup\":\"De 15 a 19 a\\u00f1os  \",\"marker\":{\"color\":\"#ab63fa\",\"pattern\":{\"shape\":\"\"}},\"name\":\"De 15 a 19 a\\u00f1os  \",\"offsetgroup\":\"De 15 a 19 a\\u00f1os  \",\"orientation\":\"v\",\"showlegend\":true,\"textposition\":\"auto\",\"x\":[\"Accidentes de tr\\u00e1fico\"],\"xaxis\":\"x\",\"y\":[525],\"yaxis\":\"y\",\"type\":\"bar\"},{\"alignmentgroup\":\"True\",\"hovertemplate\":\"Edad=De 20 a 24 a\\u00f1os<br>cause_name=%{x}<br>Total=%{y}<extra></extra>\",\"legendgroup\":\"De 20 a 24 a\\u00f1os\",\"marker\":{\"color\":\"#FFA15A\",\"pattern\":{\"shape\":\"\"}},\"name\":\"De 20 a 24 a\\u00f1os\",\"offsetgroup\":\"De 20 a 24 a\\u00f1os\",\"orientation\":\"v\",\"showlegend\":true,\"textposition\":\"auto\",\"x\":[\"Accidentes de tr\\u00e1fico\"],\"xaxis\":\"x\",\"y\":[829],\"yaxis\":\"y\",\"type\":\"bar\"},{\"alignmentgroup\":\"True\",\"hovertemplate\":\"Edad=De 25 a 29 a\\u00f1os<br>cause_name=%{x}<br>Total=%{y}<extra></extra>\",\"legendgroup\":\"De 25 a 29 a\\u00f1os\",\"marker\":{\"color\":\"#19d3f3\",\"pattern\":{\"shape\":\"\"}},\"name\":\"De 25 a 29 a\\u00f1os\",\"offsetgroup\":\"De 25 a 29 a\\u00f1os\",\"orientation\":\"v\",\"showlegend\":true,\"textposition\":\"auto\",\"x\":[\"Accidentes de tr\\u00e1fico\"],\"xaxis\":\"x\",\"y\":[683],\"yaxis\":\"y\",\"type\":\"bar\"},{\"alignmentgroup\":\"True\",\"hovertemplate\":\"Edad=De 30 a 34 a\\u00f1os<br>cause_name=%{x}<br>Total=%{y}<extra></extra>\",\"legendgroup\":\"De 30 a 34 a\\u00f1os\",\"marker\":{\"color\":\"#FF6692\",\"pattern\":{\"shape\":\"\"}},\"name\":\"De 30 a 34 a\\u00f1os\",\"offsetgroup\":\"De 30 a 34 a\\u00f1os\",\"orientation\":\"v\",\"showlegend\":true,\"textposition\":\"auto\",\"x\":[\"Accidentes de tr\\u00e1fico\"],\"xaxis\":\"x\",\"y\":[517],\"yaxis\":\"y\",\"type\":\"bar\"},{\"alignmentgroup\":\"True\",\"hovertemplate\":\"Edad=De 35 a 39 a\\u00f1os<br>cause_name=%{x}<br>Total=%{y}<extra></extra>\",\"legendgroup\":\"De 35 a 39 a\\u00f1os\",\"marker\":{\"color\":\"#B6E880\",\"pattern\":{\"shape\":\"\"}},\"name\":\"De 35 a 39 a\\u00f1os\",\"offsetgroup\":\"De 35 a 39 a\\u00f1os\",\"orientation\":\"v\",\"showlegend\":true,\"textposition\":\"auto\",\"x\":[\"SIDA\"],\"xaxis\":\"x\",\"y\":[532],\"yaxis\":\"y\",\"type\":\"bar\"},{\"alignmentgroup\":\"True\",\"hovertemplate\":\"Edad=De 40 a 44 a\\u00f1os<br>cause_name=%{x}<br>Total=%{y}<extra></extra>\",\"legendgroup\":\"De 40 a 44 a\\u00f1os\",\"marker\":{\"color\":\"#FF97FF\",\"pattern\":{\"shape\":\"\"}},\"name\":\"De 40 a 44 a\\u00f1os\",\"offsetgroup\":\"De 40 a 44 a\\u00f1os\",\"orientation\":\"v\",\"showlegend\":true,\"textposition\":\"auto\",\"x\":[\"Accidentes de tr\\u00e1fico\"],\"xaxis\":\"x\",\"y\":[413],\"yaxis\":\"y\",\"type\":\"bar\"},{\"alignmentgroup\":\"True\",\"hovertemplate\":\"Edad=De 45 a 49 a\\u00f1os<br>cause_name=%{x}<br>Total=%{y}<extra></extra>\",\"legendgroup\":\"De 45 a 49 a\\u00f1os\",\"marker\":{\"color\":\"#FECB52\",\"pattern\":{\"shape\":\"\"}},\"name\":\"De 45 a 49 a\\u00f1os\",\"offsetgroup\":\"De 45 a 49 a\\u00f1os\",\"orientation\":\"v\",\"showlegend\":true,\"textposition\":\"auto\",\"x\":[\"Tumor maligno de la tr\\u00e1quea, de los bronquios y del pulm\\u00f3n\"],\"xaxis\":\"x\",\"y\":[740],\"yaxis\":\"y\",\"type\":\"bar\"},{\"alignmentgroup\":\"True\",\"hovertemplate\":\"Edad=De 5 a 9 a\\u00f1os<br>cause_name=%{x}<br>Total=%{y}<extra></extra>\",\"legendgroup\":\"De 5 a 9 a\\u00f1os\",\"marker\":{\"color\":\"#636efa\",\"pattern\":{\"shape\":\"\"}},\"name\":\"De 5 a 9 a\\u00f1os\",\"offsetgroup\":\"De 5 a 9 a\\u00f1os\",\"orientation\":\"v\",\"showlegend\":true,\"textposition\":\"auto\",\"x\":[\"Accidentes de tr\\u00e1fico\"],\"xaxis\":\"x\",\"y\":[50],\"yaxis\":\"y\",\"type\":\"bar\"},{\"alignmentgroup\":\"True\",\"hovertemplate\":\"Edad=De 50 a 54 a\\u00f1os<br>cause_name=%{x}<br>Total=%{y}<extra></extra>\",\"legendgroup\":\"De 50 a 54 a\\u00f1os\",\"marker\":{\"color\":\"#EF553B\",\"pattern\":{\"shape\":\"\"}},\"name\":\"De 50 a 54 a\\u00f1os\",\"offsetgroup\":\"De 50 a 54 a\\u00f1os\",\"orientation\":\"v\",\"showlegend\":true,\"textposition\":\"auto\",\"x\":[\"Tumor maligno de la tr\\u00e1quea, de los bronquios y del pulm\\u00f3n\"],\"xaxis\":\"x\",\"y\":[1105],\"yaxis\":\"y\",\"type\":\"bar\"},{\"alignmentgroup\":\"True\",\"hovertemplate\":\"Edad=De 55 a 59 a\\u00f1os<br>cause_name=%{x}<br>Total=%{y}<extra></extra>\",\"legendgroup\":\"De 55 a 59 a\\u00f1os\",\"marker\":{\"color\":\"#00cc96\",\"pattern\":{\"shape\":\"\"}},\"name\":\"De 55 a 59 a\\u00f1os\",\"offsetgroup\":\"De 55 a 59 a\\u00f1os\",\"orientation\":\"v\",\"showlegend\":true,\"textposition\":\"auto\",\"x\":[\"Tumor maligno de la tr\\u00e1quea, de los bronquios y del pulm\\u00f3n\"],\"xaxis\":\"x\",\"y\":[1481],\"yaxis\":\"y\",\"type\":\"bar\"},{\"alignmentgroup\":\"True\",\"hovertemplate\":\"Edad=De 60 a 64 a\\u00f1os<br>cause_name=%{x}<br>Total=%{y}<extra></extra>\",\"legendgroup\":\"De 60 a 64 a\\u00f1os\",\"marker\":{\"color\":\"#ab63fa\",\"pattern\":{\"shape\":\"\"}},\"name\":\"De 60 a 64 a\\u00f1os\",\"offsetgroup\":\"De 60 a 64 a\\u00f1os\",\"orientation\":\"v\",\"showlegend\":true,\"textposition\":\"auto\",\"x\":[\"Tumor maligno de la tr\\u00e1quea, de los bronquios y del pulm\\u00f3n\"],\"xaxis\":\"x\",\"y\":[1920],\"yaxis\":\"y\",\"type\":\"bar\"},{\"alignmentgroup\":\"True\",\"hovertemplate\":\"Edad=De 65 a 69 a\\u00f1os<br>cause_name=%{x}<br>Total=%{y}<extra></extra>\",\"legendgroup\":\"De 65 a 69 a\\u00f1os\",\"marker\":{\"color\":\"#FFA15A\",\"pattern\":{\"shape\":\"\"}},\"name\":\"De 65 a 69 a\\u00f1os\",\"offsetgroup\":\"De 65 a 69 a\\u00f1os\",\"orientation\":\"v\",\"showlegend\":true,\"textposition\":\"auto\",\"x\":[\"Tumor maligno de la tr\\u00e1quea, de los bronquios y del pulm\\u00f3n\"],\"xaxis\":\"x\",\"y\":[2848],\"yaxis\":\"y\",\"type\":\"bar\"},{\"alignmentgroup\":\"True\",\"hovertemplate\":\"Edad=De 70 a 74 a\\u00f1os  <br>cause_name=%{x}<br>Total=%{y}<extra></extra>\",\"legendgroup\":\"De 70 a 74 a\\u00f1os  \",\"marker\":{\"color\":\"#19d3f3\",\"pattern\":{\"shape\":\"\"}},\"name\":\"De 70 a 74 a\\u00f1os  \",\"offsetgroup\":\"De 70 a 74 a\\u00f1os  \",\"orientation\":\"v\",\"showlegend\":true,\"textposition\":\"auto\",\"x\":[\"Infarto agudo de miocardio\"],\"xaxis\":\"x\",\"y\":[3617],\"yaxis\":\"y\",\"type\":\"bar\"},{\"alignmentgroup\":\"True\",\"hovertemplate\":\"Edad=De 75 a 79 a\\u00f1os  <br>cause_name=%{x}<br>Total=%{y}<extra></extra>\",\"legendgroup\":\"De 75 a 79 a\\u00f1os  \",\"marker\":{\"color\":\"#FF6692\",\"pattern\":{\"shape\":\"\"}},\"name\":\"De 75 a 79 a\\u00f1os  \",\"offsetgroup\":\"De 75 a 79 a\\u00f1os  \",\"orientation\":\"v\",\"showlegend\":true,\"textposition\":\"auto\",\"x\":[\"Enfermedades cerebrovasculares\"],\"xaxis\":\"x\",\"y\":[5965],\"yaxis\":\"y\",\"type\":\"bar\"},{\"alignmentgroup\":\"True\",\"hovertemplate\":\"Edad=De 80 a 84 a\\u00f1os  <br>cause_name=%{x}<br>Total=%{y}<extra></extra>\",\"legendgroup\":\"De 80 a 84 a\\u00f1os  \",\"marker\":{\"color\":\"#B6E880\",\"pattern\":{\"shape\":\"\"}},\"name\":\"De 80 a 84 a\\u00f1os  \",\"offsetgroup\":\"De 80 a 84 a\\u00f1os  \",\"orientation\":\"v\",\"showlegend\":true,\"textposition\":\"auto\",\"x\":[\"Enfermedades cerebrovasculares\"],\"xaxis\":\"x\",\"y\":[7628],\"yaxis\":\"y\",\"type\":\"bar\"},{\"alignmentgroup\":\"True\",\"hovertemplate\":\"Edad=De 85 a 89 a\\u00f1os  <br>cause_name=%{x}<br>Total=%{y}<extra></extra>\",\"legendgroup\":\"De 85 a 89 a\\u00f1os  \",\"marker\":{\"color\":\"#FF97FF\",\"pattern\":{\"shape\":\"\"}},\"name\":\"De 85 a 89 a\\u00f1os  \",\"offsetgroup\":\"De 85 a 89 a\\u00f1os  \",\"orientation\":\"v\",\"showlegend\":true,\"textposition\":\"auto\",\"x\":[\"Enfermedades cerebrovasculares\"],\"xaxis\":\"x\",\"y\":[8355],\"yaxis\":\"y\",\"type\":\"bar\"},{\"alignmentgroup\":\"True\",\"hovertemplate\":\"Edad=De 90 a 94 a\\u00f1os  <br>cause_name=%{x}<br>Total=%{y}<extra></extra>\",\"legendgroup\":\"De 90 a 94 a\\u00f1os  \",\"marker\":{\"color\":\"#FECB52\",\"pattern\":{\"shape\":\"\"}},\"name\":\"De 90 a 94 a\\u00f1os  \",\"offsetgroup\":\"De 90 a 94 a\\u00f1os  \",\"orientation\":\"v\",\"showlegend\":true,\"textposition\":\"auto\",\"x\":[\"Enfermedades cerebrovasculares\"],\"xaxis\":\"x\",\"y\":[5137],\"yaxis\":\"y\",\"type\":\"bar\"},{\"alignmentgroup\":\"True\",\"hovertemplate\":\"Edad=Menos de 1 a\\u00f1o<br>cause_name=%{x}<br>Total=%{y}<extra></extra>\",\"legendgroup\":\"Menos de 1 a\\u00f1o\",\"marker\":{\"color\":\"#636efa\",\"pattern\":{\"shape\":\"\"}},\"name\":\"Menos de 1 a\\u00f1o\",\"offsetgroup\":\"Menos de 1 a\\u00f1o\",\"orientation\":\"v\",\"showlegend\":true,\"textposition\":\"auto\",\"x\":[\"XVI.Afecciones originadas en el periodo perinatal\"],\"xaxis\":\"x\",\"y\":[831],\"yaxis\":\"y\",\"type\":\"bar\"}],                        {\"template\":{\"data\":{\"histogram2dcontour\":[{\"type\":\"histogram2dcontour\",\"colorbar\":{\"outlinewidth\":0,\"ticks\":\"\"},\"colorscale\":[[0.0,\"#0d0887\"],[0.1111111111111111,\"#46039f\"],[0.2222222222222222,\"#7201a8\"],[0.3333333333333333,\"#9c179e\"],[0.4444444444444444,\"#bd3786\"],[0.5555555555555556,\"#d8576b\"],[0.6666666666666666,\"#ed7953\"],[0.7777777777777778,\"#fb9f3a\"],[0.8888888888888888,\"#fdca26\"],[1.0,\"#f0f921\"]]}],\"choropleth\":[{\"type\":\"choropleth\",\"colorbar\":{\"outlinewidth\":0,\"ticks\":\"\"}}],\"histogram2d\":[{\"type\":\"histogram2d\",\"colorbar\":{\"outlinewidth\":0,\"ticks\":\"\"},\"colorscale\":[[0.0,\"#0d0887\"],[0.1111111111111111,\"#46039f\"],[0.2222222222222222,\"#7201a8\"],[0.3333333333333333,\"#9c179e\"],[0.4444444444444444,\"#bd3786\"],[0.5555555555555556,\"#d8576b\"],[0.6666666666666666,\"#ed7953\"],[0.7777777777777778,\"#fb9f3a\"],[0.8888888888888888,\"#fdca26\"],[1.0,\"#f0f921\"]]}],\"heatmap\":[{\"type\":\"heatmap\",\"colorbar\":{\"outlinewidth\":0,\"ticks\":\"\"},\"colorscale\":[[0.0,\"#0d0887\"],[0.1111111111111111,\"#46039f\"],[0.2222222222222222,\"#7201a8\"],[0.3333333333333333,\"#9c179e\"],[0.4444444444444444,\"#bd3786\"],[0.5555555555555556,\"#d8576b\"],[0.6666666666666666,\"#ed7953\"],[0.7777777777777778,\"#fb9f3a\"],[0.8888888888888888,\"#fdca26\"],[1.0,\"#f0f921\"]]}],\"heatmapgl\":[{\"type\":\"heatmapgl\",\"colorbar\":{\"outlinewidth\":0,\"ticks\":\"\"},\"colorscale\":[[0.0,\"#0d0887\"],[0.1111111111111111,\"#46039f\"],[0.2222222222222222,\"#7201a8\"],[0.3333333333333333,\"#9c179e\"],[0.4444444444444444,\"#bd3786\"],[0.5555555555555556,\"#d8576b\"],[0.6666666666666666,\"#ed7953\"],[0.7777777777777778,\"#fb9f3a\"],[0.8888888888888888,\"#fdca26\"],[1.0,\"#f0f921\"]]}],\"contourcarpet\":[{\"type\":\"contourcarpet\",\"colorbar\":{\"outlinewidth\":0,\"ticks\":\"\"}}],\"contour\":[{\"type\":\"contour\",\"colorbar\":{\"outlinewidth\":0,\"ticks\":\"\"},\"colorscale\":[[0.0,\"#0d0887\"],[0.1111111111111111,\"#46039f\"],[0.2222222222222222,\"#7201a8\"],[0.3333333333333333,\"#9c179e\"],[0.4444444444444444,\"#bd3786\"],[0.5555555555555556,\"#d8576b\"],[0.6666666666666666,\"#ed7953\"],[0.7777777777777778,\"#fb9f3a\"],[0.8888888888888888,\"#fdca26\"],[1.0,\"#f0f921\"]]}],\"surface\":[{\"type\":\"surface\",\"colorbar\":{\"outlinewidth\":0,\"ticks\":\"\"},\"colorscale\":[[0.0,\"#0d0887\"],[0.1111111111111111,\"#46039f\"],[0.2222222222222222,\"#7201a8\"],[0.3333333333333333,\"#9c179e\"],[0.4444444444444444,\"#bd3786\"],[0.5555555555555556,\"#d8576b\"],[0.6666666666666666,\"#ed7953\"],[0.7777777777777778,\"#fb9f3a\"],[0.8888888888888888,\"#fdca26\"],[1.0,\"#f0f921\"]]}],\"mesh3d\":[{\"type\":\"mesh3d\",\"colorbar\":{\"outlinewidth\":0,\"ticks\":\"\"}}],\"scatter\":[{\"fillpattern\":{\"fillmode\":\"overlay\",\"size\":10,\"solidity\":0.2},\"type\":\"scatter\"}],\"parcoords\":[{\"type\":\"parcoords\",\"line\":{\"colorbar\":{\"outlinewidth\":0,\"ticks\":\"\"}}}],\"scatterpolargl\":[{\"type\":\"scatterpolargl\",\"marker\":{\"colorbar\":{\"outlinewidth\":0,\"ticks\":\"\"}}}],\"bar\":[{\"error_x\":{\"color\":\"#2a3f5f\"},\"error_y\":{\"color\":\"#2a3f5f\"},\"marker\":{\"line\":{\"color\":\"#E5ECF6\",\"width\":0.5},\"pattern\":{\"fillmode\":\"overlay\",\"size\":10,\"solidity\":0.2}},\"type\":\"bar\"}],\"scattergeo\":[{\"type\":\"scattergeo\",\"marker\":{\"colorbar\":{\"outlinewidth\":0,\"ticks\":\"\"}}}],\"scatterpolar\":[{\"type\":\"scatterpolar\",\"marker\":{\"colorbar\":{\"outlinewidth\":0,\"ticks\":\"\"}}}],\"histogram\":[{\"marker\":{\"pattern\":{\"fillmode\":\"overlay\",\"size\":10,\"solidity\":0.2}},\"type\":\"histogram\"}],\"scattergl\":[{\"type\":\"scattergl\",\"marker\":{\"colorbar\":{\"outlinewidth\":0,\"ticks\":\"\"}}}],\"scatter3d\":[{\"type\":\"scatter3d\",\"line\":{\"colorbar\":{\"outlinewidth\":0,\"ticks\":\"\"}},\"marker\":{\"colorbar\":{\"outlinewidth\":0,\"ticks\":\"\"}}}],\"scattermapbox\":[{\"type\":\"scattermapbox\",\"marker\":{\"colorbar\":{\"outlinewidth\":0,\"ticks\":\"\"}}}],\"scatterternary\":[{\"type\":\"scatterternary\",\"marker\":{\"colorbar\":{\"outlinewidth\":0,\"ticks\":\"\"}}}],\"scattercarpet\":[{\"type\":\"scattercarpet\",\"marker\":{\"colorbar\":{\"outlinewidth\":0,\"ticks\":\"\"}}}],\"carpet\":[{\"aaxis\":{\"endlinecolor\":\"#2a3f5f\",\"gridcolor\":\"white\",\"linecolor\":\"white\",\"minorgridcolor\":\"white\",\"startlinecolor\":\"#2a3f5f\"},\"baxis\":{\"endlinecolor\":\"#2a3f5f\",\"gridcolor\":\"white\",\"linecolor\":\"white\",\"minorgridcolor\":\"white\",\"startlinecolor\":\"#2a3f5f\"},\"type\":\"carpet\"}],\"table\":[{\"cells\":{\"fill\":{\"color\":\"#EBF0F8\"},\"line\":{\"color\":\"white\"}},\"header\":{\"fill\":{\"color\":\"#C8D4E3\"},\"line\":{\"color\":\"white\"}},\"type\":\"table\"}],\"barpolar\":[{\"marker\":{\"line\":{\"color\":\"#E5ECF6\",\"width\":0.5},\"pattern\":{\"fillmode\":\"overlay\",\"size\":10,\"solidity\":0.2}},\"type\":\"barpolar\"}],\"pie\":[{\"automargin\":true,\"type\":\"pie\"}]},\"layout\":{\"autotypenumbers\":\"strict\",\"colorway\":[\"#636efa\",\"#EF553B\",\"#00cc96\",\"#ab63fa\",\"#FFA15A\",\"#19d3f3\",\"#FF6692\",\"#B6E880\",\"#FF97FF\",\"#FECB52\"],\"font\":{\"color\":\"#2a3f5f\"},\"hovermode\":\"closest\",\"hoverlabel\":{\"align\":\"left\"},\"paper_bgcolor\":\"white\",\"plot_bgcolor\":\"#E5ECF6\",\"polar\":{\"bgcolor\":\"#E5ECF6\",\"angularaxis\":{\"gridcolor\":\"white\",\"linecolor\":\"white\",\"ticks\":\"\"},\"radialaxis\":{\"gridcolor\":\"white\",\"linecolor\":\"white\",\"ticks\":\"\"}},\"ternary\":{\"bgcolor\":\"#E5ECF6\",\"aaxis\":{\"gridcolor\":\"white\",\"linecolor\":\"white\",\"ticks\":\"\"},\"baxis\":{\"gridcolor\":\"white\",\"linecolor\":\"white\",\"ticks\":\"\"},\"caxis\":{\"gridcolor\":\"white\",\"linecolor\":\"white\",\"ticks\":\"\"}},\"coloraxis\":{\"colorbar\":{\"outlinewidth\":0,\"ticks\":\"\"}},\"colorscale\":{\"sequential\":[[0.0,\"#0d0887\"],[0.1111111111111111,\"#46039f\"],[0.2222222222222222,\"#7201a8\"],[0.3333333333333333,\"#9c179e\"],[0.4444444444444444,\"#bd3786\"],[0.5555555555555556,\"#d8576b\"],[0.6666666666666666,\"#ed7953\"],[0.7777777777777778,\"#fb9f3a\"],[0.8888888888888888,\"#fdca26\"],[1.0,\"#f0f921\"]],\"sequentialminus\":[[0.0,\"#0d0887\"],[0.1111111111111111,\"#46039f\"],[0.2222222222222222,\"#7201a8\"],[0.3333333333333333,\"#9c179e\"],[0.4444444444444444,\"#bd3786\"],[0.5555555555555556,\"#d8576b\"],[0.6666666666666666,\"#ed7953\"],[0.7777777777777778,\"#fb9f3a\"],[0.8888888888888888,\"#fdca26\"],[1.0,\"#f0f921\"]],\"diverging\":[[0,\"#8e0152\"],[0.1,\"#c51b7d\"],[0.2,\"#de77ae\"],[0.3,\"#f1b6da\"],[0.4,\"#fde0ef\"],[0.5,\"#f7f7f7\"],[0.6,\"#e6f5d0\"],[0.7,\"#b8e186\"],[0.8,\"#7fbc41\"],[0.9,\"#4d9221\"],[1,\"#276419\"]]},\"xaxis\":{\"gridcolor\":\"white\",\"linecolor\":\"white\",\"ticks\":\"\",\"title\":{\"standoff\":15},\"zerolinecolor\":\"white\",\"automargin\":true,\"zerolinewidth\":2},\"yaxis\":{\"gridcolor\":\"white\",\"linecolor\":\"white\",\"ticks\":\"\",\"title\":{\"standoff\":15},\"zerolinecolor\":\"white\",\"automargin\":true,\"zerolinewidth\":2},\"scene\":{\"xaxis\":{\"backgroundcolor\":\"#E5ECF6\",\"gridcolor\":\"white\",\"linecolor\":\"white\",\"showbackground\":true,\"ticks\":\"\",\"zerolinecolor\":\"white\",\"gridwidth\":2},\"yaxis\":{\"backgroundcolor\":\"#E5ECF6\",\"gridcolor\":\"white\",\"linecolor\":\"white\",\"showbackground\":true,\"ticks\":\"\",\"zerolinecolor\":\"white\",\"gridwidth\":2},\"zaxis\":{\"backgroundcolor\":\"#E5ECF6\",\"gridcolor\":\"white\",\"linecolor\":\"white\",\"showbackground\":true,\"ticks\":\"\",\"zerolinecolor\":\"white\",\"gridwidth\":2}},\"shapedefaults\":{\"line\":{\"color\":\"#2a3f5f\"}},\"annotationdefaults\":{\"arrowcolor\":\"#2a3f5f\",\"arrowhead\":0,\"arrowwidth\":1},\"geo\":{\"bgcolor\":\"white\",\"landcolor\":\"#E5ECF6\",\"subunitcolor\":\"white\",\"showland\":true,\"showlakes\":true,\"lakecolor\":\"white\"},\"title\":{\"x\":0.05},\"mapbox\":{\"style\":\"light\"}}},\"xaxis\":{\"anchor\":\"y\",\"domain\":[0.0,1.0],\"title\":{\"text\":\"cause_name\"}},\"yaxis\":{\"anchor\":\"x\",\"domain\":[0.0,1.0],\"title\":{\"text\":\"Total\"}},\"legend\":{\"title\":{\"text\":\"Edad\"},\"tracegroupgap\":0},\"title\":{\"text\":\"Mostly causes 2000\"},\"barmode\":\"relative\",\"height\":1000,\"width\":900},                        {\"responsive\": true}                    ).then(function(){\n",
       "                            \n",
       "var gd = document.getElementById('0f121c5f-23d9-44ea-b650-b4c69efc376e');\n",
       "var x = new MutationObserver(function (mutations, observer) {{\n",
       "        var display = window.getComputedStyle(gd).display;\n",
       "        if (!display || display === 'none') {{\n",
       "            console.log([gd, 'removed!']);\n",
       "            Plotly.purge(gd);\n",
       "            observer.disconnect();\n",
       "        }}\n",
       "}});\n",
       "\n",
       "// Listen for the removal of the full notebook cells\n",
       "var notebookContainer = gd.closest('#notebook-container');\n",
       "if (notebookContainer) {{\n",
       "    x.observe(notebookContainer, {childList: true});\n",
       "}}\n",
       "\n",
       "// Listen for the clearing of the current output cell\n",
       "var outputEl = gd.closest('.output');\n",
       "if (outputEl) {{\n",
       "    x.observe(outputEl, {childList: true});\n",
       "}}\n",
       "\n",
       "                        })                };                });            </script>        </div>"
      ]
     },
     "metadata": {},
     "output_type": "display_data"
    }
   ],
   "source": [
    "# Year 2000 most frequent causes by age\n",
    "year = 2000\n",
    "sex = 'Total'\n",
    "age = 'Todas las edades'\n",
    "cause = 'Single cause'\n",
    "mask = (deaths['Periodo'] == year) & (deaths['Sexo'] == sex) & (deaths['cause_group'] == cause)  & (deaths['Edad'] != age)\n",
    "deaths_year_sex = deaths[mask]\n",
    "deaths_year_sex\n",
    "deaths_max = deaths_year_sex.loc[deaths_year_sex.groupby(['Edad'])['Total'].idxmax().reset_index(drop=True)]\n",
    "#len(deaths_max)\n",
    "deaths_max.sort_values('Edad')\n",
    "#deaths_max['cause_name'].unique()\n",
    "\n",
    "graph = px.bar(deaths_max, \n",
    "               x = \"cause_name\", \n",
    "               y = \"Total\", \n",
    "               color = \"Edad\", \n",
    "               title = \"Mostly causes 2000\",\n",
    "               width=900, height=1000)\n",
    "graph.show()"
   ]
  },
  {
   "cell_type": "code",
   "execution_count": 51,
   "metadata": {},
   "outputs": [
    {
     "data": {
      "application/vnd.plotly.v1+json": {
       "config": {
        "plotlyServerURL": "https://plot.ly"
       },
       "data": [
        {
         "alignmentgroup": "True",
         "hovertemplate": "Edad=95 y más años<br>cause_name=%{x}<br>Total=%{y}<extra></extra>",
         "legendgroup": "95 y más años",
         "marker": {
          "color": "#636efa",
          "pattern": {
           "shape": ""
          }
         },
         "name": "95 y más años",
         "offsetgroup": "95 y más años",
         "orientation": "v",
         "showlegend": true,
         "textposition": "auto",
         "type": "bar",
         "x": [
          "Trastornos mentales orgánicos, senil y presenil"
         ],
         "xaxis": "x",
         "y": [
          3715
         ],
         "yaxis": "y"
        },
        {
         "alignmentgroup": "True",
         "hovertemplate": "Edad=De 1 a 4 años<br>cause_name=%{x}<br>Total=%{y}<extra></extra>",
         "legendgroup": "De 1 a 4 años",
         "marker": {
          "color": "#EF553B",
          "pattern": {
           "shape": ""
          }
         },
         "name": "De 1 a 4 años",
         "offsetgroup": "De 1 a 4 años",
         "orientation": "v",
         "showlegend": true,
         "textposition": "auto",
         "type": "bar",
         "x": [
          "Otras enfermedades del sistema nervioso y de los órganos de los sentidos"
         ],
         "xaxis": "x",
         "y": [
          38
         ],
         "yaxis": "y"
        },
        {
         "alignmentgroup": "True",
         "hovertemplate": "Edad=De 10 a 14 años  <br>cause_name=%{x}<br>Total=%{y}<extra></extra>",
         "legendgroup": "De 10 a 14 años  ",
         "marker": {
          "color": "#00cc96",
          "pattern": {
           "shape": ""
          }
         },
         "name": "De 10 a 14 años  ",
         "offsetgroup": "De 10 a 14 años  ",
         "orientation": "v",
         "showlegend": true,
         "textposition": "auto",
         "type": "bar",
         "x": [
          "Otras enfermedades del sistema nervioso y de los órganos de los sentidos"
         ],
         "xaxis": "x",
         "y": [
          35
         ],
         "yaxis": "y"
        },
        {
         "alignmentgroup": "True",
         "hovertemplate": "Edad=De 15 a 19 años  <br>cause_name=%{x}<br>Total=%{y}<extra></extra>",
         "legendgroup": "De 15 a 19 años  ",
         "marker": {
          "color": "#ab63fa",
          "pattern": {
           "shape": ""
          }
         },
         "name": "De 15 a 19 años  ",
         "offsetgroup": "De 15 a 19 años  ",
         "orientation": "v",
         "showlegend": true,
         "textposition": "auto",
         "type": "bar",
         "x": [
          "Accidentes de tráfico"
         ],
         "xaxis": "x",
         "y": [
          75
         ],
         "yaxis": "y"
        },
        {
         "alignmentgroup": "True",
         "hovertemplate": "Edad=De 20 a 24 años<br>cause_name=%{x}<br>Total=%{y}<extra></extra>",
         "legendgroup": "De 20 a 24 años",
         "marker": {
          "color": "#FFA15A",
          "pattern": {
           "shape": ""
          }
         },
         "name": "De 20 a 24 años",
         "offsetgroup": "De 20 a 24 años",
         "orientation": "v",
         "showlegend": true,
         "textposition": "auto",
         "type": "bar",
         "x": [
          "Accidentes de tráfico"
         ],
         "xaxis": "x",
         "y": [
          134
         ],
         "yaxis": "y"
        },
        {
         "alignmentgroup": "True",
         "hovertemplate": "Edad=De 25 a 29 años<br>cause_name=%{x}<br>Total=%{y}<extra></extra>",
         "legendgroup": "De 25 a 29 años",
         "marker": {
          "color": "#19d3f3",
          "pattern": {
           "shape": ""
          }
         },
         "name": "De 25 a 29 años",
         "offsetgroup": "De 25 a 29 años",
         "orientation": "v",
         "showlegend": true,
         "textposition": "auto",
         "type": "bar",
         "x": [
          "Accidentes de tráfico"
         ],
         "xaxis": "x",
         "y": [
          127
         ],
         "yaxis": "y"
        },
        {
         "alignmentgroup": "True",
         "hovertemplate": "Edad=De 30 a 34 años<br>cause_name=%{x}<br>Total=%{y}<extra></extra>",
         "legendgroup": "De 30 a 34 años",
         "marker": {
          "color": "#FF6692",
          "pattern": {
           "shape": ""
          }
         },
         "name": "De 30 a 34 años",
         "offsetgroup": "De 30 a 34 años",
         "orientation": "v",
         "showlegend": true,
         "textposition": "auto",
         "type": "bar",
         "x": [
          "Suicidio y lesiones autoinfligidas"
         ],
         "xaxis": "x",
         "y": [
          166
         ],
         "yaxis": "y"
        },
        {
         "alignmentgroup": "True",
         "hovertemplate": "Edad=De 35 a 39 años<br>cause_name=%{x}<br>Total=%{y}<extra></extra>",
         "legendgroup": "De 35 a 39 años",
         "marker": {
          "color": "#B6E880",
          "pattern": {
           "shape": ""
          }
         },
         "name": "De 35 a 39 años",
         "offsetgroup": "De 35 a 39 años",
         "orientation": "v",
         "showlegend": true,
         "textposition": "auto",
         "type": "bar",
         "x": [
          "Suicidio y lesiones autoinfligidas"
         ],
         "xaxis": "x",
         "y": [
          230
         ],
         "yaxis": "y"
        },
        {
         "alignmentgroup": "True",
         "hovertemplate": "Edad=De 40 a 44 años<br>cause_name=%{x}<br>Total=%{y}<extra></extra>",
         "legendgroup": "De 40 a 44 años",
         "marker": {
          "color": "#FF97FF",
          "pattern": {
           "shape": ""
          }
         },
         "name": "De 40 a 44 años",
         "offsetgroup": "De 40 a 44 años",
         "orientation": "v",
         "showlegend": true,
         "textposition": "auto",
         "type": "bar",
         "x": [
          "Suicidio y lesiones autoinfligidas"
         ],
         "xaxis": "x",
         "y": [
          315
         ],
         "yaxis": "y"
        },
        {
         "alignmentgroup": "True",
         "hovertemplate": "Edad=De 45 a 49 años<br>cause_name=%{x}<br>Total=%{y}<extra></extra>",
         "legendgroup": "De 45 a 49 años",
         "marker": {
          "color": "#FECB52",
          "pattern": {
           "shape": ""
          }
         },
         "name": "De 45 a 49 años",
         "offsetgroup": "De 45 a 49 años",
         "orientation": "v",
         "showlegend": true,
         "textposition": "auto",
         "type": "bar",
         "x": [
          "Tumor maligno de la tráquea, de los bronquios y del pulmón"
         ],
         "xaxis": "x",
         "y": [
          399
         ],
         "yaxis": "y"
        },
        {
         "alignmentgroup": "True",
         "hovertemplate": "Edad=De 5 a 9 años<br>cause_name=%{x}<br>Total=%{y}<extra></extra>",
         "legendgroup": "De 5 a 9 años",
         "marker": {
          "color": "#636efa",
          "pattern": {
           "shape": ""
          }
         },
         "name": "De 5 a 9 años",
         "offsetgroup": "De 5 a 9 años",
         "orientation": "v",
         "showlegend": true,
         "textposition": "auto",
         "type": "bar",
         "x": [
          "Tumor maligno del encéfalo"
         ],
         "xaxis": "x",
         "y": [
          25
         ],
         "yaxis": "y"
        },
        {
         "alignmentgroup": "True",
         "hovertemplate": "Edad=De 50 a 54 años<br>cause_name=%{x}<br>Total=%{y}<extra></extra>",
         "legendgroup": "De 50 a 54 años",
         "marker": {
          "color": "#EF553B",
          "pattern": {
           "shape": ""
          }
         },
         "name": "De 50 a 54 años",
         "offsetgroup": "De 50 a 54 años",
         "orientation": "v",
         "showlegend": true,
         "textposition": "auto",
         "type": "bar",
         "x": [
          "Tumor maligno de la tráquea, de los bronquios y del pulmón"
         ],
         "xaxis": "x",
         "y": [
          1037
         ],
         "yaxis": "y"
        },
        {
         "alignmentgroup": "True",
         "hovertemplate": "Edad=De 55 a 59 años<br>cause_name=%{x}<br>Total=%{y}<extra></extra>",
         "legendgroup": "De 55 a 59 años",
         "marker": {
          "color": "#00cc96",
          "pattern": {
           "shape": ""
          }
         },
         "name": "De 55 a 59 años",
         "offsetgroup": "De 55 a 59 años",
         "orientation": "v",
         "showlegend": true,
         "textposition": "auto",
         "type": "bar",
         "x": [
          "Tumor maligno de la tráquea, de los bronquios y del pulmón"
         ],
         "xaxis": "x",
         "y": [
          2081
         ],
         "yaxis": "y"
        },
        {
         "alignmentgroup": "True",
         "hovertemplate": "Edad=De 60 a 64 años<br>cause_name=%{x}<br>Total=%{y}<extra></extra>",
         "legendgroup": "De 60 a 64 años",
         "marker": {
          "color": "#ab63fa",
          "pattern": {
           "shape": ""
          }
         },
         "name": "De 60 a 64 años",
         "offsetgroup": "De 60 a 64 años",
         "orientation": "v",
         "showlegend": true,
         "textposition": "auto",
         "type": "bar",
         "x": [
          "Tumor maligno de la tráquea, de los bronquios y del pulmón"
         ],
         "xaxis": "x",
         "y": [
          2994
         ],
         "yaxis": "y"
        },
        {
         "alignmentgroup": "True",
         "hovertemplate": "Edad=De 65 a 69 años<br>cause_name=%{x}<br>Total=%{y}<extra></extra>",
         "legendgroup": "De 65 a 69 años",
         "marker": {
          "color": "#FFA15A",
          "pattern": {
           "shape": ""
          }
         },
         "name": "De 65 a 69 años",
         "offsetgroup": "De 65 a 69 años",
         "orientation": "v",
         "showlegend": true,
         "textposition": "auto",
         "type": "bar",
         "x": [
          "Tumor maligno de la tráquea, de los bronquios y del pulmón"
         ],
         "xaxis": "x",
         "y": [
          3429
         ],
         "yaxis": "y"
        },
        {
         "alignmentgroup": "True",
         "hovertemplate": "Edad=De 70 a 74 años  <br>cause_name=%{x}<br>Total=%{y}<extra></extra>",
         "legendgroup": "De 70 a 74 años  ",
         "marker": {
          "color": "#19d3f3",
          "pattern": {
           "shape": ""
          }
         },
         "name": "De 70 a 74 años  ",
         "offsetgroup": "De 70 a 74 años  ",
         "orientation": "v",
         "showlegend": true,
         "textposition": "auto",
         "type": "bar",
         "x": [
          "Tumor maligno de la tráquea, de los bronquios y del pulmón"
         ],
         "xaxis": "x",
         "y": [
          3617
         ],
         "yaxis": "y"
        },
        {
         "alignmentgroup": "True",
         "hovertemplate": "Edad=De 75 a 79 años  <br>cause_name=%{x}<br>Total=%{y}<extra></extra>",
         "legendgroup": "De 75 a 79 años  ",
         "marker": {
          "color": "#FF6692",
          "pattern": {
           "shape": ""
          }
         },
         "name": "De 75 a 79 años  ",
         "offsetgroup": "De 75 a 79 años  ",
         "orientation": "v",
         "showlegend": true,
         "textposition": "auto",
         "type": "bar",
         "x": [
          "Tumor maligno de la tráquea, de los bronquios y del pulmón"
         ],
         "xaxis": "x",
         "y": [
          2990
         ],
         "yaxis": "y"
        },
        {
         "alignmentgroup": "True",
         "hovertemplate": "Edad=De 80 a 84 años  <br>cause_name=%{x}<br>Total=%{y}<extra></extra>",
         "legendgroup": "De 80 a 84 años  ",
         "marker": {
          "color": "#B6E880",
          "pattern": {
           "shape": ""
          }
         },
         "name": "De 80 a 84 años  ",
         "offsetgroup": "De 80 a 84 años  ",
         "orientation": "v",
         "showlegend": true,
         "textposition": "auto",
         "type": "bar",
         "x": [
          "Enfermedades cerebrovasculares"
         ],
         "xaxis": "x",
         "y": [
          4862
         ],
         "yaxis": "y"
        },
        {
         "alignmentgroup": "True",
         "hovertemplate": "Edad=De 85 a 89 años  <br>cause_name=%{x}<br>Total=%{y}<extra></extra>",
         "legendgroup": "De 85 a 89 años  ",
         "marker": {
          "color": "#FF97FF",
          "pattern": {
           "shape": ""
          }
         },
         "name": "De 85 a 89 años  ",
         "offsetgroup": "De 85 a 89 años  ",
         "orientation": "v",
         "showlegend": true,
         "textposition": "auto",
         "type": "bar",
         "x": [
          "Enfermedades cerebrovasculares"
         ],
         "xaxis": "x",
         "y": [
          6774
         ],
         "yaxis": "y"
        },
        {
         "alignmentgroup": "True",
         "hovertemplate": "Edad=De 90 a 94 años  <br>cause_name=%{x}<br>Total=%{y}<extra></extra>",
         "legendgroup": "De 90 a 94 años  ",
         "marker": {
          "color": "#FECB52",
          "pattern": {
           "shape": ""
          }
         },
         "name": "De 90 a 94 años  ",
         "offsetgroup": "De 90 a 94 años  ",
         "orientation": "v",
         "showlegend": true,
         "textposition": "auto",
         "type": "bar",
         "x": [
          "Trastornos mentales orgánicos, senil y presenil"
         ],
         "xaxis": "x",
         "y": [
          6474
         ],
         "yaxis": "y"
        },
        {
         "alignmentgroup": "True",
         "hovertemplate": "Edad=Menos de 1 año<br>cause_name=%{x}<br>Total=%{y}<extra></extra>",
         "legendgroup": "Menos de 1 año",
         "marker": {
          "color": "#636efa",
          "pattern": {
           "shape": ""
          }
         },
         "name": "Menos de 1 año",
         "offsetgroup": "Menos de 1 año",
         "orientation": "v",
         "showlegend": true,
         "textposition": "auto",
         "type": "bar",
         "x": [
          "XVI.Afecciones originadas en el periodo perinatal"
         ],
         "xaxis": "x",
         "y": [
          595
         ],
         "yaxis": "y"
        }
       ],
       "layout": {
        "barmode": "relative",
        "height": 1000,
        "legend": {
         "title": {
          "text": "Edad"
         },
         "tracegroupgap": 0
        },
        "template": {
         "data": {
          "bar": [
           {
            "error_x": {
             "color": "#2a3f5f"
            },
            "error_y": {
             "color": "#2a3f5f"
            },
            "marker": {
             "line": {
              "color": "#E5ECF6",
              "width": 0.5
             },
             "pattern": {
              "fillmode": "overlay",
              "size": 10,
              "solidity": 0.2
             }
            },
            "type": "bar"
           }
          ],
          "barpolar": [
           {
            "marker": {
             "line": {
              "color": "#E5ECF6",
              "width": 0.5
             },
             "pattern": {
              "fillmode": "overlay",
              "size": 10,
              "solidity": 0.2
             }
            },
            "type": "barpolar"
           }
          ],
          "carpet": [
           {
            "aaxis": {
             "endlinecolor": "#2a3f5f",
             "gridcolor": "white",
             "linecolor": "white",
             "minorgridcolor": "white",
             "startlinecolor": "#2a3f5f"
            },
            "baxis": {
             "endlinecolor": "#2a3f5f",
             "gridcolor": "white",
             "linecolor": "white",
             "minorgridcolor": "white",
             "startlinecolor": "#2a3f5f"
            },
            "type": "carpet"
           }
          ],
          "choropleth": [
           {
            "colorbar": {
             "outlinewidth": 0,
             "ticks": ""
            },
            "type": "choropleth"
           }
          ],
          "contour": [
           {
            "colorbar": {
             "outlinewidth": 0,
             "ticks": ""
            },
            "colorscale": [
             [
              0,
              "#0d0887"
             ],
             [
              0.1111111111111111,
              "#46039f"
             ],
             [
              0.2222222222222222,
              "#7201a8"
             ],
             [
              0.3333333333333333,
              "#9c179e"
             ],
             [
              0.4444444444444444,
              "#bd3786"
             ],
             [
              0.5555555555555556,
              "#d8576b"
             ],
             [
              0.6666666666666666,
              "#ed7953"
             ],
             [
              0.7777777777777778,
              "#fb9f3a"
             ],
             [
              0.8888888888888888,
              "#fdca26"
             ],
             [
              1,
              "#f0f921"
             ]
            ],
            "type": "contour"
           }
          ],
          "contourcarpet": [
           {
            "colorbar": {
             "outlinewidth": 0,
             "ticks": ""
            },
            "type": "contourcarpet"
           }
          ],
          "heatmap": [
           {
            "colorbar": {
             "outlinewidth": 0,
             "ticks": ""
            },
            "colorscale": [
             [
              0,
              "#0d0887"
             ],
             [
              0.1111111111111111,
              "#46039f"
             ],
             [
              0.2222222222222222,
              "#7201a8"
             ],
             [
              0.3333333333333333,
              "#9c179e"
             ],
             [
              0.4444444444444444,
              "#bd3786"
             ],
             [
              0.5555555555555556,
              "#d8576b"
             ],
             [
              0.6666666666666666,
              "#ed7953"
             ],
             [
              0.7777777777777778,
              "#fb9f3a"
             ],
             [
              0.8888888888888888,
              "#fdca26"
             ],
             [
              1,
              "#f0f921"
             ]
            ],
            "type": "heatmap"
           }
          ],
          "heatmapgl": [
           {
            "colorbar": {
             "outlinewidth": 0,
             "ticks": ""
            },
            "colorscale": [
             [
              0,
              "#0d0887"
             ],
             [
              0.1111111111111111,
              "#46039f"
             ],
             [
              0.2222222222222222,
              "#7201a8"
             ],
             [
              0.3333333333333333,
              "#9c179e"
             ],
             [
              0.4444444444444444,
              "#bd3786"
             ],
             [
              0.5555555555555556,
              "#d8576b"
             ],
             [
              0.6666666666666666,
              "#ed7953"
             ],
             [
              0.7777777777777778,
              "#fb9f3a"
             ],
             [
              0.8888888888888888,
              "#fdca26"
             ],
             [
              1,
              "#f0f921"
             ]
            ],
            "type": "heatmapgl"
           }
          ],
          "histogram": [
           {
            "marker": {
             "pattern": {
              "fillmode": "overlay",
              "size": 10,
              "solidity": 0.2
             }
            },
            "type": "histogram"
           }
          ],
          "histogram2d": [
           {
            "colorbar": {
             "outlinewidth": 0,
             "ticks": ""
            },
            "colorscale": [
             [
              0,
              "#0d0887"
             ],
             [
              0.1111111111111111,
              "#46039f"
             ],
             [
              0.2222222222222222,
              "#7201a8"
             ],
             [
              0.3333333333333333,
              "#9c179e"
             ],
             [
              0.4444444444444444,
              "#bd3786"
             ],
             [
              0.5555555555555556,
              "#d8576b"
             ],
             [
              0.6666666666666666,
              "#ed7953"
             ],
             [
              0.7777777777777778,
              "#fb9f3a"
             ],
             [
              0.8888888888888888,
              "#fdca26"
             ],
             [
              1,
              "#f0f921"
             ]
            ],
            "type": "histogram2d"
           }
          ],
          "histogram2dcontour": [
           {
            "colorbar": {
             "outlinewidth": 0,
             "ticks": ""
            },
            "colorscale": [
             [
              0,
              "#0d0887"
             ],
             [
              0.1111111111111111,
              "#46039f"
             ],
             [
              0.2222222222222222,
              "#7201a8"
             ],
             [
              0.3333333333333333,
              "#9c179e"
             ],
             [
              0.4444444444444444,
              "#bd3786"
             ],
             [
              0.5555555555555556,
              "#d8576b"
             ],
             [
              0.6666666666666666,
              "#ed7953"
             ],
             [
              0.7777777777777778,
              "#fb9f3a"
             ],
             [
              0.8888888888888888,
              "#fdca26"
             ],
             [
              1,
              "#f0f921"
             ]
            ],
            "type": "histogram2dcontour"
           }
          ],
          "mesh3d": [
           {
            "colorbar": {
             "outlinewidth": 0,
             "ticks": ""
            },
            "type": "mesh3d"
           }
          ],
          "parcoords": [
           {
            "line": {
             "colorbar": {
              "outlinewidth": 0,
              "ticks": ""
             }
            },
            "type": "parcoords"
           }
          ],
          "pie": [
           {
            "automargin": true,
            "type": "pie"
           }
          ],
          "scatter": [
           {
            "fillpattern": {
             "fillmode": "overlay",
             "size": 10,
             "solidity": 0.2
            },
            "type": "scatter"
           }
          ],
          "scatter3d": [
           {
            "line": {
             "colorbar": {
              "outlinewidth": 0,
              "ticks": ""
             }
            },
            "marker": {
             "colorbar": {
              "outlinewidth": 0,
              "ticks": ""
             }
            },
            "type": "scatter3d"
           }
          ],
          "scattercarpet": [
           {
            "marker": {
             "colorbar": {
              "outlinewidth": 0,
              "ticks": ""
             }
            },
            "type": "scattercarpet"
           }
          ],
          "scattergeo": [
           {
            "marker": {
             "colorbar": {
              "outlinewidth": 0,
              "ticks": ""
             }
            },
            "type": "scattergeo"
           }
          ],
          "scattergl": [
           {
            "marker": {
             "colorbar": {
              "outlinewidth": 0,
              "ticks": ""
             }
            },
            "type": "scattergl"
           }
          ],
          "scattermapbox": [
           {
            "marker": {
             "colorbar": {
              "outlinewidth": 0,
              "ticks": ""
             }
            },
            "type": "scattermapbox"
           }
          ],
          "scatterpolar": [
           {
            "marker": {
             "colorbar": {
              "outlinewidth": 0,
              "ticks": ""
             }
            },
            "type": "scatterpolar"
           }
          ],
          "scatterpolargl": [
           {
            "marker": {
             "colorbar": {
              "outlinewidth": 0,
              "ticks": ""
             }
            },
            "type": "scatterpolargl"
           }
          ],
          "scatterternary": [
           {
            "marker": {
             "colorbar": {
              "outlinewidth": 0,
              "ticks": ""
             }
            },
            "type": "scatterternary"
           }
          ],
          "surface": [
           {
            "colorbar": {
             "outlinewidth": 0,
             "ticks": ""
            },
            "colorscale": [
             [
              0,
              "#0d0887"
             ],
             [
              0.1111111111111111,
              "#46039f"
             ],
             [
              0.2222222222222222,
              "#7201a8"
             ],
             [
              0.3333333333333333,
              "#9c179e"
             ],
             [
              0.4444444444444444,
              "#bd3786"
             ],
             [
              0.5555555555555556,
              "#d8576b"
             ],
             [
              0.6666666666666666,
              "#ed7953"
             ],
             [
              0.7777777777777778,
              "#fb9f3a"
             ],
             [
              0.8888888888888888,
              "#fdca26"
             ],
             [
              1,
              "#f0f921"
             ]
            ],
            "type": "surface"
           }
          ],
          "table": [
           {
            "cells": {
             "fill": {
              "color": "#EBF0F8"
             },
             "line": {
              "color": "white"
             }
            },
            "header": {
             "fill": {
              "color": "#C8D4E3"
             },
             "line": {
              "color": "white"
             }
            },
            "type": "table"
           }
          ]
         },
         "layout": {
          "annotationdefaults": {
           "arrowcolor": "#2a3f5f",
           "arrowhead": 0,
           "arrowwidth": 1
          },
          "autotypenumbers": "strict",
          "coloraxis": {
           "colorbar": {
            "outlinewidth": 0,
            "ticks": ""
           }
          },
          "colorscale": {
           "diverging": [
            [
             0,
             "#8e0152"
            ],
            [
             0.1,
             "#c51b7d"
            ],
            [
             0.2,
             "#de77ae"
            ],
            [
             0.3,
             "#f1b6da"
            ],
            [
             0.4,
             "#fde0ef"
            ],
            [
             0.5,
             "#f7f7f7"
            ],
            [
             0.6,
             "#e6f5d0"
            ],
            [
             0.7,
             "#b8e186"
            ],
            [
             0.8,
             "#7fbc41"
            ],
            [
             0.9,
             "#4d9221"
            ],
            [
             1,
             "#276419"
            ]
           ],
           "sequential": [
            [
             0,
             "#0d0887"
            ],
            [
             0.1111111111111111,
             "#46039f"
            ],
            [
             0.2222222222222222,
             "#7201a8"
            ],
            [
             0.3333333333333333,
             "#9c179e"
            ],
            [
             0.4444444444444444,
             "#bd3786"
            ],
            [
             0.5555555555555556,
             "#d8576b"
            ],
            [
             0.6666666666666666,
             "#ed7953"
            ],
            [
             0.7777777777777778,
             "#fb9f3a"
            ],
            [
             0.8888888888888888,
             "#fdca26"
            ],
            [
             1,
             "#f0f921"
            ]
           ],
           "sequentialminus": [
            [
             0,
             "#0d0887"
            ],
            [
             0.1111111111111111,
             "#46039f"
            ],
            [
             0.2222222222222222,
             "#7201a8"
            ],
            [
             0.3333333333333333,
             "#9c179e"
            ],
            [
             0.4444444444444444,
             "#bd3786"
            ],
            [
             0.5555555555555556,
             "#d8576b"
            ],
            [
             0.6666666666666666,
             "#ed7953"
            ],
            [
             0.7777777777777778,
             "#fb9f3a"
            ],
            [
             0.8888888888888888,
             "#fdca26"
            ],
            [
             1,
             "#f0f921"
            ]
           ]
          },
          "colorway": [
           "#636efa",
           "#EF553B",
           "#00cc96",
           "#ab63fa",
           "#FFA15A",
           "#19d3f3",
           "#FF6692",
           "#B6E880",
           "#FF97FF",
           "#FECB52"
          ],
          "font": {
           "color": "#2a3f5f"
          },
          "geo": {
           "bgcolor": "white",
           "lakecolor": "white",
           "landcolor": "#E5ECF6",
           "showlakes": true,
           "showland": true,
           "subunitcolor": "white"
          },
          "hoverlabel": {
           "align": "left"
          },
          "hovermode": "closest",
          "mapbox": {
           "style": "light"
          },
          "paper_bgcolor": "white",
          "plot_bgcolor": "#E5ECF6",
          "polar": {
           "angularaxis": {
            "gridcolor": "white",
            "linecolor": "white",
            "ticks": ""
           },
           "bgcolor": "#E5ECF6",
           "radialaxis": {
            "gridcolor": "white",
            "linecolor": "white",
            "ticks": ""
           }
          },
          "scene": {
           "xaxis": {
            "backgroundcolor": "#E5ECF6",
            "gridcolor": "white",
            "gridwidth": 2,
            "linecolor": "white",
            "showbackground": true,
            "ticks": "",
            "zerolinecolor": "white"
           },
           "yaxis": {
            "backgroundcolor": "#E5ECF6",
            "gridcolor": "white",
            "gridwidth": 2,
            "linecolor": "white",
            "showbackground": true,
            "ticks": "",
            "zerolinecolor": "white"
           },
           "zaxis": {
            "backgroundcolor": "#E5ECF6",
            "gridcolor": "white",
            "gridwidth": 2,
            "linecolor": "white",
            "showbackground": true,
            "ticks": "",
            "zerolinecolor": "white"
           }
          },
          "shapedefaults": {
           "line": {
            "color": "#2a3f5f"
           }
          },
          "ternary": {
           "aaxis": {
            "gridcolor": "white",
            "linecolor": "white",
            "ticks": ""
           },
           "baxis": {
            "gridcolor": "white",
            "linecolor": "white",
            "ticks": ""
           },
           "bgcolor": "#E5ECF6",
           "caxis": {
            "gridcolor": "white",
            "linecolor": "white",
            "ticks": ""
           }
          },
          "title": {
           "x": 0.05
          },
          "xaxis": {
           "automargin": true,
           "gridcolor": "white",
           "linecolor": "white",
           "ticks": "",
           "title": {
            "standoff": 15
           },
           "zerolinecolor": "white",
           "zerolinewidth": 2
          },
          "yaxis": {
           "automargin": true,
           "gridcolor": "white",
           "linecolor": "white",
           "ticks": "",
           "title": {
            "standoff": 15
           },
           "zerolinecolor": "white",
           "zerolinewidth": 2
          }
         }
        },
        "title": {
         "text": "Mostly causes 2018"
        },
        "width": 900,
        "xaxis": {
         "anchor": "y",
         "domain": [
          0,
          1
         ],
         "title": {
          "text": "cause_name"
         }
        },
        "yaxis": {
         "anchor": "x",
         "domain": [
          0,
          1
         ],
         "title": {
          "text": "Total"
         }
        }
       }
      },
      "text/html": [
       "<div>                            <div id=\"b2a84576-d500-44cb-8014-690adb401028\" class=\"plotly-graph-div\" style=\"height:1000px; width:900px;\"></div>            <script type=\"text/javascript\">                require([\"plotly\"], function(Plotly) {                    window.PLOTLYENV=window.PLOTLYENV || {};                                    if (document.getElementById(\"b2a84576-d500-44cb-8014-690adb401028\")) {                    Plotly.newPlot(                        \"b2a84576-d500-44cb-8014-690adb401028\",                        [{\"alignmentgroup\":\"True\",\"hovertemplate\":\"Edad=95 y m\\u00e1s a\\u00f1os<br>cause_name=%{x}<br>Total=%{y}<extra></extra>\",\"legendgroup\":\"95 y m\\u00e1s a\\u00f1os\",\"marker\":{\"color\":\"#636efa\",\"pattern\":{\"shape\":\"\"}},\"name\":\"95 y m\\u00e1s a\\u00f1os\",\"offsetgroup\":\"95 y m\\u00e1s a\\u00f1os\",\"orientation\":\"v\",\"showlegend\":true,\"textposition\":\"auto\",\"x\":[\"Trastornos mentales org\\u00e1nicos, senil y presenil\"],\"xaxis\":\"x\",\"y\":[3715],\"yaxis\":\"y\",\"type\":\"bar\"},{\"alignmentgroup\":\"True\",\"hovertemplate\":\"Edad=De 1 a 4 a\\u00f1os<br>cause_name=%{x}<br>Total=%{y}<extra></extra>\",\"legendgroup\":\"De 1 a 4 a\\u00f1os\",\"marker\":{\"color\":\"#EF553B\",\"pattern\":{\"shape\":\"\"}},\"name\":\"De 1 a 4 a\\u00f1os\",\"offsetgroup\":\"De 1 a 4 a\\u00f1os\",\"orientation\":\"v\",\"showlegend\":true,\"textposition\":\"auto\",\"x\":[\"Otras enfermedades del sistema nervioso y de los \\u00f3rganos de los sentidos\"],\"xaxis\":\"x\",\"y\":[38],\"yaxis\":\"y\",\"type\":\"bar\"},{\"alignmentgroup\":\"True\",\"hovertemplate\":\"Edad=De 10 a 14 a\\u00f1os  <br>cause_name=%{x}<br>Total=%{y}<extra></extra>\",\"legendgroup\":\"De 10 a 14 a\\u00f1os  \",\"marker\":{\"color\":\"#00cc96\",\"pattern\":{\"shape\":\"\"}},\"name\":\"De 10 a 14 a\\u00f1os  \",\"offsetgroup\":\"De 10 a 14 a\\u00f1os  \",\"orientation\":\"v\",\"showlegend\":true,\"textposition\":\"auto\",\"x\":[\"Otras enfermedades del sistema nervioso y de los \\u00f3rganos de los sentidos\"],\"xaxis\":\"x\",\"y\":[35],\"yaxis\":\"y\",\"type\":\"bar\"},{\"alignmentgroup\":\"True\",\"hovertemplate\":\"Edad=De 15 a 19 a\\u00f1os  <br>cause_name=%{x}<br>Total=%{y}<extra></extra>\",\"legendgroup\":\"De 15 a 19 a\\u00f1os  \",\"marker\":{\"color\":\"#ab63fa\",\"pattern\":{\"shape\":\"\"}},\"name\":\"De 15 a 19 a\\u00f1os  \",\"offsetgroup\":\"De 15 a 19 a\\u00f1os  \",\"orientation\":\"v\",\"showlegend\":true,\"textposition\":\"auto\",\"x\":[\"Accidentes de tr\\u00e1fico\"],\"xaxis\":\"x\",\"y\":[75],\"yaxis\":\"y\",\"type\":\"bar\"},{\"alignmentgroup\":\"True\",\"hovertemplate\":\"Edad=De 20 a 24 a\\u00f1os<br>cause_name=%{x}<br>Total=%{y}<extra></extra>\",\"legendgroup\":\"De 20 a 24 a\\u00f1os\",\"marker\":{\"color\":\"#FFA15A\",\"pattern\":{\"shape\":\"\"}},\"name\":\"De 20 a 24 a\\u00f1os\",\"offsetgroup\":\"De 20 a 24 a\\u00f1os\",\"orientation\":\"v\",\"showlegend\":true,\"textposition\":\"auto\",\"x\":[\"Accidentes de tr\\u00e1fico\"],\"xaxis\":\"x\",\"y\":[134],\"yaxis\":\"y\",\"type\":\"bar\"},{\"alignmentgroup\":\"True\",\"hovertemplate\":\"Edad=De 25 a 29 a\\u00f1os<br>cause_name=%{x}<br>Total=%{y}<extra></extra>\",\"legendgroup\":\"De 25 a 29 a\\u00f1os\",\"marker\":{\"color\":\"#19d3f3\",\"pattern\":{\"shape\":\"\"}},\"name\":\"De 25 a 29 a\\u00f1os\",\"offsetgroup\":\"De 25 a 29 a\\u00f1os\",\"orientation\":\"v\",\"showlegend\":true,\"textposition\":\"auto\",\"x\":[\"Accidentes de tr\\u00e1fico\"],\"xaxis\":\"x\",\"y\":[127],\"yaxis\":\"y\",\"type\":\"bar\"},{\"alignmentgroup\":\"True\",\"hovertemplate\":\"Edad=De 30 a 34 a\\u00f1os<br>cause_name=%{x}<br>Total=%{y}<extra></extra>\",\"legendgroup\":\"De 30 a 34 a\\u00f1os\",\"marker\":{\"color\":\"#FF6692\",\"pattern\":{\"shape\":\"\"}},\"name\":\"De 30 a 34 a\\u00f1os\",\"offsetgroup\":\"De 30 a 34 a\\u00f1os\",\"orientation\":\"v\",\"showlegend\":true,\"textposition\":\"auto\",\"x\":[\"Suicidio y lesiones autoinfligidas\"],\"xaxis\":\"x\",\"y\":[166],\"yaxis\":\"y\",\"type\":\"bar\"},{\"alignmentgroup\":\"True\",\"hovertemplate\":\"Edad=De 35 a 39 a\\u00f1os<br>cause_name=%{x}<br>Total=%{y}<extra></extra>\",\"legendgroup\":\"De 35 a 39 a\\u00f1os\",\"marker\":{\"color\":\"#B6E880\",\"pattern\":{\"shape\":\"\"}},\"name\":\"De 35 a 39 a\\u00f1os\",\"offsetgroup\":\"De 35 a 39 a\\u00f1os\",\"orientation\":\"v\",\"showlegend\":true,\"textposition\":\"auto\",\"x\":[\"Suicidio y lesiones autoinfligidas\"],\"xaxis\":\"x\",\"y\":[230],\"yaxis\":\"y\",\"type\":\"bar\"},{\"alignmentgroup\":\"True\",\"hovertemplate\":\"Edad=De 40 a 44 a\\u00f1os<br>cause_name=%{x}<br>Total=%{y}<extra></extra>\",\"legendgroup\":\"De 40 a 44 a\\u00f1os\",\"marker\":{\"color\":\"#FF97FF\",\"pattern\":{\"shape\":\"\"}},\"name\":\"De 40 a 44 a\\u00f1os\",\"offsetgroup\":\"De 40 a 44 a\\u00f1os\",\"orientation\":\"v\",\"showlegend\":true,\"textposition\":\"auto\",\"x\":[\"Suicidio y lesiones autoinfligidas\"],\"xaxis\":\"x\",\"y\":[315],\"yaxis\":\"y\",\"type\":\"bar\"},{\"alignmentgroup\":\"True\",\"hovertemplate\":\"Edad=De 45 a 49 a\\u00f1os<br>cause_name=%{x}<br>Total=%{y}<extra></extra>\",\"legendgroup\":\"De 45 a 49 a\\u00f1os\",\"marker\":{\"color\":\"#FECB52\",\"pattern\":{\"shape\":\"\"}},\"name\":\"De 45 a 49 a\\u00f1os\",\"offsetgroup\":\"De 45 a 49 a\\u00f1os\",\"orientation\":\"v\",\"showlegend\":true,\"textposition\":\"auto\",\"x\":[\"Tumor maligno de la tr\\u00e1quea, de los bronquios y del pulm\\u00f3n\"],\"xaxis\":\"x\",\"y\":[399],\"yaxis\":\"y\",\"type\":\"bar\"},{\"alignmentgroup\":\"True\",\"hovertemplate\":\"Edad=De 5 a 9 a\\u00f1os<br>cause_name=%{x}<br>Total=%{y}<extra></extra>\",\"legendgroup\":\"De 5 a 9 a\\u00f1os\",\"marker\":{\"color\":\"#636efa\",\"pattern\":{\"shape\":\"\"}},\"name\":\"De 5 a 9 a\\u00f1os\",\"offsetgroup\":\"De 5 a 9 a\\u00f1os\",\"orientation\":\"v\",\"showlegend\":true,\"textposition\":\"auto\",\"x\":[\"Tumor maligno del enc\\u00e9falo\"],\"xaxis\":\"x\",\"y\":[25],\"yaxis\":\"y\",\"type\":\"bar\"},{\"alignmentgroup\":\"True\",\"hovertemplate\":\"Edad=De 50 a 54 a\\u00f1os<br>cause_name=%{x}<br>Total=%{y}<extra></extra>\",\"legendgroup\":\"De 50 a 54 a\\u00f1os\",\"marker\":{\"color\":\"#EF553B\",\"pattern\":{\"shape\":\"\"}},\"name\":\"De 50 a 54 a\\u00f1os\",\"offsetgroup\":\"De 50 a 54 a\\u00f1os\",\"orientation\":\"v\",\"showlegend\":true,\"textposition\":\"auto\",\"x\":[\"Tumor maligno de la tr\\u00e1quea, de los bronquios y del pulm\\u00f3n\"],\"xaxis\":\"x\",\"y\":[1037],\"yaxis\":\"y\",\"type\":\"bar\"},{\"alignmentgroup\":\"True\",\"hovertemplate\":\"Edad=De 55 a 59 a\\u00f1os<br>cause_name=%{x}<br>Total=%{y}<extra></extra>\",\"legendgroup\":\"De 55 a 59 a\\u00f1os\",\"marker\":{\"color\":\"#00cc96\",\"pattern\":{\"shape\":\"\"}},\"name\":\"De 55 a 59 a\\u00f1os\",\"offsetgroup\":\"De 55 a 59 a\\u00f1os\",\"orientation\":\"v\",\"showlegend\":true,\"textposition\":\"auto\",\"x\":[\"Tumor maligno de la tr\\u00e1quea, de los bronquios y del pulm\\u00f3n\"],\"xaxis\":\"x\",\"y\":[2081],\"yaxis\":\"y\",\"type\":\"bar\"},{\"alignmentgroup\":\"True\",\"hovertemplate\":\"Edad=De 60 a 64 a\\u00f1os<br>cause_name=%{x}<br>Total=%{y}<extra></extra>\",\"legendgroup\":\"De 60 a 64 a\\u00f1os\",\"marker\":{\"color\":\"#ab63fa\",\"pattern\":{\"shape\":\"\"}},\"name\":\"De 60 a 64 a\\u00f1os\",\"offsetgroup\":\"De 60 a 64 a\\u00f1os\",\"orientation\":\"v\",\"showlegend\":true,\"textposition\":\"auto\",\"x\":[\"Tumor maligno de la tr\\u00e1quea, de los bronquios y del pulm\\u00f3n\"],\"xaxis\":\"x\",\"y\":[2994],\"yaxis\":\"y\",\"type\":\"bar\"},{\"alignmentgroup\":\"True\",\"hovertemplate\":\"Edad=De 65 a 69 a\\u00f1os<br>cause_name=%{x}<br>Total=%{y}<extra></extra>\",\"legendgroup\":\"De 65 a 69 a\\u00f1os\",\"marker\":{\"color\":\"#FFA15A\",\"pattern\":{\"shape\":\"\"}},\"name\":\"De 65 a 69 a\\u00f1os\",\"offsetgroup\":\"De 65 a 69 a\\u00f1os\",\"orientation\":\"v\",\"showlegend\":true,\"textposition\":\"auto\",\"x\":[\"Tumor maligno de la tr\\u00e1quea, de los bronquios y del pulm\\u00f3n\"],\"xaxis\":\"x\",\"y\":[3429],\"yaxis\":\"y\",\"type\":\"bar\"},{\"alignmentgroup\":\"True\",\"hovertemplate\":\"Edad=De 70 a 74 a\\u00f1os  <br>cause_name=%{x}<br>Total=%{y}<extra></extra>\",\"legendgroup\":\"De 70 a 74 a\\u00f1os  \",\"marker\":{\"color\":\"#19d3f3\",\"pattern\":{\"shape\":\"\"}},\"name\":\"De 70 a 74 a\\u00f1os  \",\"offsetgroup\":\"De 70 a 74 a\\u00f1os  \",\"orientation\":\"v\",\"showlegend\":true,\"textposition\":\"auto\",\"x\":[\"Tumor maligno de la tr\\u00e1quea, de los bronquios y del pulm\\u00f3n\"],\"xaxis\":\"x\",\"y\":[3617],\"yaxis\":\"y\",\"type\":\"bar\"},{\"alignmentgroup\":\"True\",\"hovertemplate\":\"Edad=De 75 a 79 a\\u00f1os  <br>cause_name=%{x}<br>Total=%{y}<extra></extra>\",\"legendgroup\":\"De 75 a 79 a\\u00f1os  \",\"marker\":{\"color\":\"#FF6692\",\"pattern\":{\"shape\":\"\"}},\"name\":\"De 75 a 79 a\\u00f1os  \",\"offsetgroup\":\"De 75 a 79 a\\u00f1os  \",\"orientation\":\"v\",\"showlegend\":true,\"textposition\":\"auto\",\"x\":[\"Tumor maligno de la tr\\u00e1quea, de los bronquios y del pulm\\u00f3n\"],\"xaxis\":\"x\",\"y\":[2990],\"yaxis\":\"y\",\"type\":\"bar\"},{\"alignmentgroup\":\"True\",\"hovertemplate\":\"Edad=De 80 a 84 a\\u00f1os  <br>cause_name=%{x}<br>Total=%{y}<extra></extra>\",\"legendgroup\":\"De 80 a 84 a\\u00f1os  \",\"marker\":{\"color\":\"#B6E880\",\"pattern\":{\"shape\":\"\"}},\"name\":\"De 80 a 84 a\\u00f1os  \",\"offsetgroup\":\"De 80 a 84 a\\u00f1os  \",\"orientation\":\"v\",\"showlegend\":true,\"textposition\":\"auto\",\"x\":[\"Enfermedades cerebrovasculares\"],\"xaxis\":\"x\",\"y\":[4862],\"yaxis\":\"y\",\"type\":\"bar\"},{\"alignmentgroup\":\"True\",\"hovertemplate\":\"Edad=De 85 a 89 a\\u00f1os  <br>cause_name=%{x}<br>Total=%{y}<extra></extra>\",\"legendgroup\":\"De 85 a 89 a\\u00f1os  \",\"marker\":{\"color\":\"#FF97FF\",\"pattern\":{\"shape\":\"\"}},\"name\":\"De 85 a 89 a\\u00f1os  \",\"offsetgroup\":\"De 85 a 89 a\\u00f1os  \",\"orientation\":\"v\",\"showlegend\":true,\"textposition\":\"auto\",\"x\":[\"Enfermedades cerebrovasculares\"],\"xaxis\":\"x\",\"y\":[6774],\"yaxis\":\"y\",\"type\":\"bar\"},{\"alignmentgroup\":\"True\",\"hovertemplate\":\"Edad=De 90 a 94 a\\u00f1os  <br>cause_name=%{x}<br>Total=%{y}<extra></extra>\",\"legendgroup\":\"De 90 a 94 a\\u00f1os  \",\"marker\":{\"color\":\"#FECB52\",\"pattern\":{\"shape\":\"\"}},\"name\":\"De 90 a 94 a\\u00f1os  \",\"offsetgroup\":\"De 90 a 94 a\\u00f1os  \",\"orientation\":\"v\",\"showlegend\":true,\"textposition\":\"auto\",\"x\":[\"Trastornos mentales org\\u00e1nicos, senil y presenil\"],\"xaxis\":\"x\",\"y\":[6474],\"yaxis\":\"y\",\"type\":\"bar\"},{\"alignmentgroup\":\"True\",\"hovertemplate\":\"Edad=Menos de 1 a\\u00f1o<br>cause_name=%{x}<br>Total=%{y}<extra></extra>\",\"legendgroup\":\"Menos de 1 a\\u00f1o\",\"marker\":{\"color\":\"#636efa\",\"pattern\":{\"shape\":\"\"}},\"name\":\"Menos de 1 a\\u00f1o\",\"offsetgroup\":\"Menos de 1 a\\u00f1o\",\"orientation\":\"v\",\"showlegend\":true,\"textposition\":\"auto\",\"x\":[\"XVI.Afecciones originadas en el periodo perinatal\"],\"xaxis\":\"x\",\"y\":[595],\"yaxis\":\"y\",\"type\":\"bar\"}],                        {\"template\":{\"data\":{\"histogram2dcontour\":[{\"type\":\"histogram2dcontour\",\"colorbar\":{\"outlinewidth\":0,\"ticks\":\"\"},\"colorscale\":[[0.0,\"#0d0887\"],[0.1111111111111111,\"#46039f\"],[0.2222222222222222,\"#7201a8\"],[0.3333333333333333,\"#9c179e\"],[0.4444444444444444,\"#bd3786\"],[0.5555555555555556,\"#d8576b\"],[0.6666666666666666,\"#ed7953\"],[0.7777777777777778,\"#fb9f3a\"],[0.8888888888888888,\"#fdca26\"],[1.0,\"#f0f921\"]]}],\"choropleth\":[{\"type\":\"choropleth\",\"colorbar\":{\"outlinewidth\":0,\"ticks\":\"\"}}],\"histogram2d\":[{\"type\":\"histogram2d\",\"colorbar\":{\"outlinewidth\":0,\"ticks\":\"\"},\"colorscale\":[[0.0,\"#0d0887\"],[0.1111111111111111,\"#46039f\"],[0.2222222222222222,\"#7201a8\"],[0.3333333333333333,\"#9c179e\"],[0.4444444444444444,\"#bd3786\"],[0.5555555555555556,\"#d8576b\"],[0.6666666666666666,\"#ed7953\"],[0.7777777777777778,\"#fb9f3a\"],[0.8888888888888888,\"#fdca26\"],[1.0,\"#f0f921\"]]}],\"heatmap\":[{\"type\":\"heatmap\",\"colorbar\":{\"outlinewidth\":0,\"ticks\":\"\"},\"colorscale\":[[0.0,\"#0d0887\"],[0.1111111111111111,\"#46039f\"],[0.2222222222222222,\"#7201a8\"],[0.3333333333333333,\"#9c179e\"],[0.4444444444444444,\"#bd3786\"],[0.5555555555555556,\"#d8576b\"],[0.6666666666666666,\"#ed7953\"],[0.7777777777777778,\"#fb9f3a\"],[0.8888888888888888,\"#fdca26\"],[1.0,\"#f0f921\"]]}],\"heatmapgl\":[{\"type\":\"heatmapgl\",\"colorbar\":{\"outlinewidth\":0,\"ticks\":\"\"},\"colorscale\":[[0.0,\"#0d0887\"],[0.1111111111111111,\"#46039f\"],[0.2222222222222222,\"#7201a8\"],[0.3333333333333333,\"#9c179e\"],[0.4444444444444444,\"#bd3786\"],[0.5555555555555556,\"#d8576b\"],[0.6666666666666666,\"#ed7953\"],[0.7777777777777778,\"#fb9f3a\"],[0.8888888888888888,\"#fdca26\"],[1.0,\"#f0f921\"]]}],\"contourcarpet\":[{\"type\":\"contourcarpet\",\"colorbar\":{\"outlinewidth\":0,\"ticks\":\"\"}}],\"contour\":[{\"type\":\"contour\",\"colorbar\":{\"outlinewidth\":0,\"ticks\":\"\"},\"colorscale\":[[0.0,\"#0d0887\"],[0.1111111111111111,\"#46039f\"],[0.2222222222222222,\"#7201a8\"],[0.3333333333333333,\"#9c179e\"],[0.4444444444444444,\"#bd3786\"],[0.5555555555555556,\"#d8576b\"],[0.6666666666666666,\"#ed7953\"],[0.7777777777777778,\"#fb9f3a\"],[0.8888888888888888,\"#fdca26\"],[1.0,\"#f0f921\"]]}],\"surface\":[{\"type\":\"surface\",\"colorbar\":{\"outlinewidth\":0,\"ticks\":\"\"},\"colorscale\":[[0.0,\"#0d0887\"],[0.1111111111111111,\"#46039f\"],[0.2222222222222222,\"#7201a8\"],[0.3333333333333333,\"#9c179e\"],[0.4444444444444444,\"#bd3786\"],[0.5555555555555556,\"#d8576b\"],[0.6666666666666666,\"#ed7953\"],[0.7777777777777778,\"#fb9f3a\"],[0.8888888888888888,\"#fdca26\"],[1.0,\"#f0f921\"]]}],\"mesh3d\":[{\"type\":\"mesh3d\",\"colorbar\":{\"outlinewidth\":0,\"ticks\":\"\"}}],\"scatter\":[{\"fillpattern\":{\"fillmode\":\"overlay\",\"size\":10,\"solidity\":0.2},\"type\":\"scatter\"}],\"parcoords\":[{\"type\":\"parcoords\",\"line\":{\"colorbar\":{\"outlinewidth\":0,\"ticks\":\"\"}}}],\"scatterpolargl\":[{\"type\":\"scatterpolargl\",\"marker\":{\"colorbar\":{\"outlinewidth\":0,\"ticks\":\"\"}}}],\"bar\":[{\"error_x\":{\"color\":\"#2a3f5f\"},\"error_y\":{\"color\":\"#2a3f5f\"},\"marker\":{\"line\":{\"color\":\"#E5ECF6\",\"width\":0.5},\"pattern\":{\"fillmode\":\"overlay\",\"size\":10,\"solidity\":0.2}},\"type\":\"bar\"}],\"scattergeo\":[{\"type\":\"scattergeo\",\"marker\":{\"colorbar\":{\"outlinewidth\":0,\"ticks\":\"\"}}}],\"scatterpolar\":[{\"type\":\"scatterpolar\",\"marker\":{\"colorbar\":{\"outlinewidth\":0,\"ticks\":\"\"}}}],\"histogram\":[{\"marker\":{\"pattern\":{\"fillmode\":\"overlay\",\"size\":10,\"solidity\":0.2}},\"type\":\"histogram\"}],\"scattergl\":[{\"type\":\"scattergl\",\"marker\":{\"colorbar\":{\"outlinewidth\":0,\"ticks\":\"\"}}}],\"scatter3d\":[{\"type\":\"scatter3d\",\"line\":{\"colorbar\":{\"outlinewidth\":0,\"ticks\":\"\"}},\"marker\":{\"colorbar\":{\"outlinewidth\":0,\"ticks\":\"\"}}}],\"scattermapbox\":[{\"type\":\"scattermapbox\",\"marker\":{\"colorbar\":{\"outlinewidth\":0,\"ticks\":\"\"}}}],\"scatterternary\":[{\"type\":\"scatterternary\",\"marker\":{\"colorbar\":{\"outlinewidth\":0,\"ticks\":\"\"}}}],\"scattercarpet\":[{\"type\":\"scattercarpet\",\"marker\":{\"colorbar\":{\"outlinewidth\":0,\"ticks\":\"\"}}}],\"carpet\":[{\"aaxis\":{\"endlinecolor\":\"#2a3f5f\",\"gridcolor\":\"white\",\"linecolor\":\"white\",\"minorgridcolor\":\"white\",\"startlinecolor\":\"#2a3f5f\"},\"baxis\":{\"endlinecolor\":\"#2a3f5f\",\"gridcolor\":\"white\",\"linecolor\":\"white\",\"minorgridcolor\":\"white\",\"startlinecolor\":\"#2a3f5f\"},\"type\":\"carpet\"}],\"table\":[{\"cells\":{\"fill\":{\"color\":\"#EBF0F8\"},\"line\":{\"color\":\"white\"}},\"header\":{\"fill\":{\"color\":\"#C8D4E3\"},\"line\":{\"color\":\"white\"}},\"type\":\"table\"}],\"barpolar\":[{\"marker\":{\"line\":{\"color\":\"#E5ECF6\",\"width\":0.5},\"pattern\":{\"fillmode\":\"overlay\",\"size\":10,\"solidity\":0.2}},\"type\":\"barpolar\"}],\"pie\":[{\"automargin\":true,\"type\":\"pie\"}]},\"layout\":{\"autotypenumbers\":\"strict\",\"colorway\":[\"#636efa\",\"#EF553B\",\"#00cc96\",\"#ab63fa\",\"#FFA15A\",\"#19d3f3\",\"#FF6692\",\"#B6E880\",\"#FF97FF\",\"#FECB52\"],\"font\":{\"color\":\"#2a3f5f\"},\"hovermode\":\"closest\",\"hoverlabel\":{\"align\":\"left\"},\"paper_bgcolor\":\"white\",\"plot_bgcolor\":\"#E5ECF6\",\"polar\":{\"bgcolor\":\"#E5ECF6\",\"angularaxis\":{\"gridcolor\":\"white\",\"linecolor\":\"white\",\"ticks\":\"\"},\"radialaxis\":{\"gridcolor\":\"white\",\"linecolor\":\"white\",\"ticks\":\"\"}},\"ternary\":{\"bgcolor\":\"#E5ECF6\",\"aaxis\":{\"gridcolor\":\"white\",\"linecolor\":\"white\",\"ticks\":\"\"},\"baxis\":{\"gridcolor\":\"white\",\"linecolor\":\"white\",\"ticks\":\"\"},\"caxis\":{\"gridcolor\":\"white\",\"linecolor\":\"white\",\"ticks\":\"\"}},\"coloraxis\":{\"colorbar\":{\"outlinewidth\":0,\"ticks\":\"\"}},\"colorscale\":{\"sequential\":[[0.0,\"#0d0887\"],[0.1111111111111111,\"#46039f\"],[0.2222222222222222,\"#7201a8\"],[0.3333333333333333,\"#9c179e\"],[0.4444444444444444,\"#bd3786\"],[0.5555555555555556,\"#d8576b\"],[0.6666666666666666,\"#ed7953\"],[0.7777777777777778,\"#fb9f3a\"],[0.8888888888888888,\"#fdca26\"],[1.0,\"#f0f921\"]],\"sequentialminus\":[[0.0,\"#0d0887\"],[0.1111111111111111,\"#46039f\"],[0.2222222222222222,\"#7201a8\"],[0.3333333333333333,\"#9c179e\"],[0.4444444444444444,\"#bd3786\"],[0.5555555555555556,\"#d8576b\"],[0.6666666666666666,\"#ed7953\"],[0.7777777777777778,\"#fb9f3a\"],[0.8888888888888888,\"#fdca26\"],[1.0,\"#f0f921\"]],\"diverging\":[[0,\"#8e0152\"],[0.1,\"#c51b7d\"],[0.2,\"#de77ae\"],[0.3,\"#f1b6da\"],[0.4,\"#fde0ef\"],[0.5,\"#f7f7f7\"],[0.6,\"#e6f5d0\"],[0.7,\"#b8e186\"],[0.8,\"#7fbc41\"],[0.9,\"#4d9221\"],[1,\"#276419\"]]},\"xaxis\":{\"gridcolor\":\"white\",\"linecolor\":\"white\",\"ticks\":\"\",\"title\":{\"standoff\":15},\"zerolinecolor\":\"white\",\"automargin\":true,\"zerolinewidth\":2},\"yaxis\":{\"gridcolor\":\"white\",\"linecolor\":\"white\",\"ticks\":\"\",\"title\":{\"standoff\":15},\"zerolinecolor\":\"white\",\"automargin\":true,\"zerolinewidth\":2},\"scene\":{\"xaxis\":{\"backgroundcolor\":\"#E5ECF6\",\"gridcolor\":\"white\",\"linecolor\":\"white\",\"showbackground\":true,\"ticks\":\"\",\"zerolinecolor\":\"white\",\"gridwidth\":2},\"yaxis\":{\"backgroundcolor\":\"#E5ECF6\",\"gridcolor\":\"white\",\"linecolor\":\"white\",\"showbackground\":true,\"ticks\":\"\",\"zerolinecolor\":\"white\",\"gridwidth\":2},\"zaxis\":{\"backgroundcolor\":\"#E5ECF6\",\"gridcolor\":\"white\",\"linecolor\":\"white\",\"showbackground\":true,\"ticks\":\"\",\"zerolinecolor\":\"white\",\"gridwidth\":2}},\"shapedefaults\":{\"line\":{\"color\":\"#2a3f5f\"}},\"annotationdefaults\":{\"arrowcolor\":\"#2a3f5f\",\"arrowhead\":0,\"arrowwidth\":1},\"geo\":{\"bgcolor\":\"white\",\"landcolor\":\"#E5ECF6\",\"subunitcolor\":\"white\",\"showland\":true,\"showlakes\":true,\"lakecolor\":\"white\"},\"title\":{\"x\":0.05},\"mapbox\":{\"style\":\"light\"}}},\"xaxis\":{\"anchor\":\"y\",\"domain\":[0.0,1.0],\"title\":{\"text\":\"cause_name\"}},\"yaxis\":{\"anchor\":\"x\",\"domain\":[0.0,1.0],\"title\":{\"text\":\"Total\"}},\"legend\":{\"title\":{\"text\":\"Edad\"},\"tracegroupgap\":0},\"title\":{\"text\":\"Mostly causes 2018\"},\"barmode\":\"relative\",\"height\":1000,\"width\":900},                        {\"responsive\": true}                    ).then(function(){\n",
       "                            \n",
       "var gd = document.getElementById('b2a84576-d500-44cb-8014-690adb401028');\n",
       "var x = new MutationObserver(function (mutations, observer) {{\n",
       "        var display = window.getComputedStyle(gd).display;\n",
       "        if (!display || display === 'none') {{\n",
       "            console.log([gd, 'removed!']);\n",
       "            Plotly.purge(gd);\n",
       "            observer.disconnect();\n",
       "        }}\n",
       "}});\n",
       "\n",
       "// Listen for the removal of the full notebook cells\n",
       "var notebookContainer = gd.closest('#notebook-container');\n",
       "if (notebookContainer) {{\n",
       "    x.observe(notebookContainer, {childList: true});\n",
       "}}\n",
       "\n",
       "// Listen for the clearing of the current output cell\n",
       "var outputEl = gd.closest('.output');\n",
       "if (outputEl) {{\n",
       "    x.observe(outputEl, {childList: true});\n",
       "}}\n",
       "\n",
       "                        })                };                });            </script>        </div>"
      ]
     },
     "metadata": {},
     "output_type": "display_data"
    }
   ],
   "source": [
    "# Year 2018 most frequent causes by age\n",
    "year = 2018\n",
    "sex = 'Total'\n",
    "age = 'Todas las edades'\n",
    "cause = 'Single cause'\n",
    "mask = (deaths['Periodo'] == year) & (deaths['Sexo'] == sex) & (deaths['cause_group'] == cause)  & (deaths['Edad'] != age)\n",
    "deaths_year_sex = deaths[mask]\n",
    "deaths_year_sex\n",
    "deaths_max = deaths_year_sex.loc[deaths_year_sex.groupby(['Edad'])['Total'].idxmax().reset_index(drop=True)]\n",
    "#len(deaths_max)\n",
    "deaths_max.sort_values('Edad')\n",
    "#deaths_max['cause_name'].unique()\n",
    "\n",
    "graph = px.bar(deaths_max, \n",
    "               x = \"cause_name\", \n",
    "               y = \"Total\", \n",
    "               color = \"Edad\", \n",
    "               title = \"Mostly causes 2018\",\n",
    "               width=900, height=1000)\n",
    "graph.show()\n"
   ]
  },
  {
   "cell_type": "code",
   "execution_count": null,
   "metadata": {},
   "outputs": [],
   "source": []
  },
  {
   "cell_type": "code",
   "execution_count": null,
   "metadata": {},
   "outputs": [],
   "source": []
  },
  {
   "cell_type": "code",
   "execution_count": null,
   "metadata": {},
   "outputs": [],
   "source": []
  },
  {
   "cell_type": "code",
   "execution_count": null,
   "metadata": {},
   "outputs": [],
   "source": [
    "# Cufflinks histogram\n",
    "\n",
    "\n"
   ]
  },
  {
   "cell_type": "code",
   "execution_count": null,
   "metadata": {},
   "outputs": [],
   "source": [
    "# Cufflinks bar plot\n",
    "'''\n",
    "dataset_bar.iplot(kind='bar',\n",
    "                  x='VARIABLE',\n",
    "                  xTitle='AXIS TITLE',\n",
    "                  yTitle='AXIS TITLE',\n",
    "                  title='VIZ TITLE')\n",
    "'''"
   ]
  },
  {
   "cell_type": "code",
   "execution_count": null,
   "metadata": {},
   "outputs": [],
   "source": [
    "# Cufflinks line plot\n",
    "'''\n",
    "dataset_line.iplot(kind='line',\n",
    "                   x='VARIABLE',\n",
    "                   xTitle='AXIS TITLE',\n",
    "                   yTitle='AXIS TITLE',\n",
    "                   title='VIZ TITLE')\n",
    "'''"
   ]
  },
  {
   "cell_type": "code",
   "execution_count": null,
   "metadata": {},
   "outputs": [],
   "source": [
    "# Cufflinks scatter plot\n",
    "'''\n",
    "dataset_scatter.iplot(x='VARIABLE', \n",
    "                      y='VARIABLE', \n",
    "                      categories='VARIABLE',\n",
    "                      xTitle='AXIS TITLE', \n",
    "                      yTitle='AXIS TITLE',\n",
    "                      title='VIZ TITLE')\n",
    "'''"
   ]
  }
 ],
 "metadata": {
  "kernelspec": {
   "display_name": "Python [conda env:m2_ih]",
   "language": "python",
   "name": "conda-env-m2_ih-py"
  },
  "language_info": {
   "codemirror_mode": {
    "name": "ipython",
    "version": 3
   },
   "file_extension": ".py",
   "mimetype": "text/x-python",
   "name": "python",
   "nbconvert_exporter": "python",
   "pygments_lexer": "ipython3",
   "version": "3.9.12"
  }
 },
 "nbformat": 4,
 "nbformat_minor": 2
}
